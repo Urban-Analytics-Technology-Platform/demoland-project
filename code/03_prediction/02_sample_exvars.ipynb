{
 "cells": [
  {
   "cell_type": "markdown",
   "id": "3460f4f3-c89c-4a1a-a8de-4785e5127d88",
   "metadata": {},
   "source": [
    "# Sample explanatory variables based on empirical data and custom scenario definition\n",
    "\n",
    "This notebook contains code to generate explanatory variables for an output area based on 4 sliders:\n",
    "\n",
    "- Level of urbanity\n",
    "- Use\n",
    "- Greenspace\n",
    "- Job types\n",
    "\n",
    "The data are either adapted from the original observed value (if the level of urbanity does not change) or sampled from the signature types from across the GB. "
   ]
  },
  {
   "cell_type": "code",
   "execution_count": 9,
   "id": "920283f5-5c22-4eb7-8058-db251c34049e",
   "metadata": {
    "collapsed": true,
    "jupyter": {
     "outputs_hidden": true
    },
    "tags": []
   },
   "outputs": [],
   "source": [
    "import pandas as pd\n",
    "import geopandas as gpd\n",
    "import numpy as np"
   ]
  },
  {
   "cell_type": "code",
   "execution_count": 10,
   "id": "c5f7fef8",
   "metadata": {},
   "outputs": [],
   "source": [
    "data_folder = \"/Users/martin/Library/CloudStorage/OneDrive-SharedLibraries-TheAlanTuringInstitute/Daniel Arribas-Bel - demoland_data\""
   ]
  },
  {
   "cell_type": "markdown",
   "id": "f128a96d-569e-49cd-9828-8ccbb6a64608",
   "metadata": {},
   "source": [
    "Load the data informing the distributions."
   ]
  },
  {
   "cell_type": "code",
   "execution_count": 11,
   "id": "6a0d0f67-41d3-4ae5-8fec-3e6534d97ce1",
   "metadata": {
    "tags": []
   },
   "outputs": [],
   "source": [
    "median_form = pd.read_parquet(f\"{data_folder}/sampling/median_form.parquet\")\n",
    "iqr_form = pd.read_parquet(f\"{data_folder}/sampling/iqr_form.parquet\")\n",
    "median_function = pd.read_parquet(f\"{data_folder}/sampling/median_function.parquet\")\n",
    "iqr_function = pd.read_parquet(f\"{data_folder}/sampling/iqr_function.parquet\")\n",
    "oa = (\n",
    "    gpd.read_parquet(f\"{data_folder}/processed/interpolated/all_oa.parquet\")\n",
    "    .set_index(\"geo_code\")\n",
    "    .rename(columns={\"population_estimate\": \"population\"})\n",
    ")\n",
    "oa_key = pd.read_parquet(f\"{data_folder}/sampling/oa_key.parquet\")"
   ]
  },
  {
   "cell_type": "markdown",
   "id": "2ff6a7d8-91ed-4c4a-ad93-38d3c16d216e",
   "metadata": {
    "tags": []
   },
   "source": [
    "Get OA areas for area-weighted variables."
   ]
  },
  {
   "cell_type": "code",
   "execution_count": 12,
   "id": "05f1d990-c3e2-475f-adf5-c33bd2dd036d",
   "metadata": {
    "tags": []
   },
   "outputs": [],
   "source": [
    "oa_area = oa.area"
   ]
  },
  {
   "cell_type": "markdown",
   "id": "7952a465-3e47-4433-8e16-b0ff7acb5a56",
   "metadata": {},
   "source": [
    "Define a sampling method."
   ]
  },
  {
   "cell_type": "code",
   "execution_count": 13,
   "id": "8dd562f3-67f2-40a9-b1ce-a3f31c550427",
   "metadata": {
    "tags": []
   },
   "outputs": [],
   "source": [
    "def _form(signature_type, variable, random_seed):\n",
    "    \"\"\"Get values for form variables\n",
    "\n",
    "    Values are sampled from a normal distribution around\n",
    "    median of a variable per signature type. The spread is\n",
    "    defined as 1/5 of interquartile range.\n",
    "    \"\"\"\n",
    "    rng = np.random.default_rng(random_seed)\n",
    "    return rng.normal(\n",
    "        median_form.loc[signature_type, variable],\n",
    "        iqr_form.loc[signature_type, variable] / 5,\n",
    "    )\n",
    "\n",
    "\n",
    "def _function(signature_type, variable, random_seed):\n",
    "    \"\"\"Get values for function variables\n",
    "\n",
    "    Values are sampled from a normal distribution around\n",
    "    median of a variable per signature type. The spread is\n",
    "    defined as 1/5 of interquartile range.\n",
    "    \"\"\"\n",
    "    rng = np.random.default_rng(random_seed)\n",
    "    return rng.normal(\n",
    "        median_function.loc[signature_type, variable],\n",
    "        iqr_function.loc[signature_type, variable] / 5,\n",
    "    )\n",
    "\n",
    "\n",
    "def _populations(defaults, index):\n",
    "    \"\"\"Balance residential and workplace population\n",
    "\n",
    "    Workplace population and residential population are treated 1:1 and\n",
    "    are re-allocated based on the index. The proportion of workplace categories\n",
    "    is not changed.\n",
    "    \"\"\"\n",
    "    if not -1 <= index <= 1:\n",
    "        raise ValueError(f\"use index must be in a range -1...1. {index} given.\")\n",
    "    jobs = [\n",
    "        \"A, B, D, E. Agriculture, energy and water\",\n",
    "        \"C. Manufacturing\",\n",
    "        \"F. Construction\",\n",
    "        \"G, I. Distribution, hotels and restaurants\",\n",
    "        \"H, J. Transport and communication\",\n",
    "        \"K, L, M, N. Financial, real estate, professional and administrative activities\",\n",
    "        \"O,P,Q. Public administration, education and health\",\n",
    "        \"R, S, T, U. Other\",\n",
    "    ]\n",
    "    n_jobs = defaults[jobs].sum()\n",
    "    if index < 0:\n",
    "        difference = index * n_jobs\n",
    "    else:\n",
    "        difference = index * defaults.population\n",
    "    new_n_jobs = n_jobs + difference\n",
    "    defaults.population = defaults.population - difference\n",
    "    multiplier = new_n_jobs / n_jobs\n",
    "    defaults[jobs] = defaults[jobs] * multiplier\n",
    "    return defaults\n",
    "\n",
    "\n",
    "def _greenspace(defaults, index):\n",
    "    \"\"\"Allocate greenspace to OA\n",
    "\n",
    "    Allocate publicly accessible formal greenspace to OA. Defines a portion\n",
    "    of OA that is covered by gren urban areas. Realistic values are be fairly\n",
    "    low. The value affects populations and other land cover classes.\n",
    "    \"\"\"\n",
    "    if not 0 <= index <= 1:\n",
    "        raise ValueError(f\"greenspace index must be in a range 0...1. {index} given.\")\n",
    "    greenspace_orig = defaults[\"Land cover [Green urban areas]\"]\n",
    "    newly_allocated_gs = index - greenspace_orig\n",
    "    defaults = defaults * (1 - newly_allocated_gs)\n",
    "    defaults[\"Land cover [Green urban areas]\"] = index\n",
    "    return defaults\n",
    "\n",
    "\n",
    "def _job_types(defaults, index):\n",
    "    \"\"\"Balance job types\n",
    "\n",
    "    Balance job types between manual and white collar workplace categories.\n",
    "    Index represents the proportion of white collar jobs in an area. The\n",
    "    total sum of FTEs is not changed.\n",
    "\n",
    "    The service category is not affected under an assumption that both white\n",
    "    and blue collar workers need the same amount of services to provide food etc.\n",
    "    \"\"\"\n",
    "    if not 0 <= index <= 1:\n",
    "        raise ValueError(f\"job_types index must be in a range 0...1. {index} given.\")\n",
    "    blue = [\n",
    "        \"A, B, D, E. Agriculture, energy and water\",\n",
    "        \"C. Manufacturing\",\n",
    "        \"F. Construction\",\n",
    "        \"H, J. Transport and communication\",\n",
    "    ]\n",
    "    white = [\n",
    "        \"K, L, M, N. Financial, real estate, professional and administrative activities\",\n",
    "        \"O,P,Q. Public administration, education and health\",\n",
    "    ]\n",
    "    blue_collar = defaults[blue].sum()\n",
    "    white_collar = defaults[white].sum()\n",
    "    total = blue_collar + white_collar\n",
    "    orig_proportion = white_collar / total\n",
    "\n",
    "    new_blue = total * (1 - index)\n",
    "    new_white = total * index\n",
    "\n",
    "    blue_diff = new_blue / blue_collar\n",
    "    white_diff = new_white / white_collar\n",
    "\n",
    "    defaults[blue] = defaults[blue] * blue_diff\n",
    "    defaults[white] = defaults[white] * white_diff\n",
    "\n",
    "    return defaults\n",
    "\n",
    "\n",
    "def get_signature_values(\n",
    "    oa_code: str,\n",
    "    signature_type: str = None,\n",
    "    use: float = 0,\n",
    "    greenspace: float = None,\n",
    "    job_types: float = None,\n",
    "    random_seed: int = None,\n",
    "):\n",
    "    \"\"\"Generate explanatory variables based on a scenario\n",
    "\n",
    "    Generates values for explanatory variables based on empirical data derived\n",
    "    from the Urban Grammar project and a scenario definition based on a\n",
    "    Urban Grammar signature type, land use balance, greenspace allocation\n",
    "    and a job type balance.\n",
    "\n",
    "    If the target ``signature_type`` differs from the one already allocated\n",
    "    to OA, the data is sampled from the distribution from the whole GB. If\n",
    "    they are equal, the existing values measured in place are used. That allows\n",
    "    playing with other variables without changing the form.\n",
    "\n",
    "    Parameters\n",
    "    ----------\n",
    "    oa_code : string\n",
    "        String representing the OA code, e.g. ``\"E00042707\"``.\n",
    "\n",
    "    signature_type : string\n",
    "        String representing signature type. See below the possible options\n",
    "        and their relationship to the level of urbanity.\n",
    "\n",
    "            0: 'Wild countryside',\n",
    "            1: 'Countryside agriculture',\n",
    "            2: 'Urban buffer',\n",
    "            3: 'Warehouse/Park land',\n",
    "            4: 'Open sprawl',\n",
    "            5: 'Disconnected suburbia',\n",
    "            6: 'Accessible suburbia',\n",
    "            7: 'Connected residential neighbourhoods',\n",
    "            8: 'Dense residential neighbourhoods',\n",
    "            9: 'Gridded residential quarters',\n",
    "            10: 'Dense urban neighbourhoods',\n",
    "            11: 'Local urbanity',\n",
    "            12: 'Regional urbanity',\n",
    "            13: 'Metropolitan urbanity',\n",
    "            14: 'Concentrated urbanity',\n",
    "            15: 'Hyper concentrated urbanity',\n",
    "\n",
    "    use : float, optional\n",
    "        Float in a range -1...1 reflecting the land use balance between\n",
    "        fully residential (-1) and fully commercial (1). Defautls to 0,\n",
    "        a value derived from signatures. For values < 0, we are allocating\n",
    "        workplace population to residential population. For values > 0, we\n",
    "        are allocating residential population to workplace population.\n",
    "        Extremes are allowed but are not realistic, in most cases.\n",
    "    greenspace : float, optional\n",
    "        Float in a range 0...1 reflecting the amount of greenspace in the\n",
    "        area. 0 representes no accessible greenspace, 1 represents whole\n",
    "        area covered by a greenspace. This value will proportionally affect\n",
    "        the amounts of jobs and population.\n",
    "    job_types : float, optional\n",
    "        Float in a range 0...1 reflecting the balance of job types in the\n",
    "        area between entirely blue collar jobs (0) and entirely white collar\n",
    "        jobs (1).\n",
    "    random_seed : int, optional\n",
    "        Random seed\n",
    "\n",
    "    Returns\n",
    "    -------\n",
    "    Series\n",
    "    \"\"\"\n",
    "    orig_type = oa_key.primary_type[oa_code]\n",
    "    if signature_type is not None and orig_type != signature_type:\n",
    "        form = pd.Series(\n",
    "            [_form(signature_type, var, random_seed) for var in median_form.columns],\n",
    "            index=median_form.columns,\n",
    "            name=oa_code,\n",
    "        ).abs()\n",
    "\n",
    "        defaults = pd.Series(\n",
    "            [\n",
    "                _function(signature_type, var, random_seed)\n",
    "                for var in median_function.columns\n",
    "            ],\n",
    "            index=median_function.columns,\n",
    "            name=oa_code,\n",
    "        ).abs()\n",
    "\n",
    "        area_weighted = [\n",
    "            \"population\",\n",
    "            \"A, B, D, E. Agriculture, energy and water\",\n",
    "            \"C. Manufacturing\",\n",
    "            \"F. Construction\",\n",
    "            \"G, I. Distribution, hotels and restaurants\",\n",
    "            \"H, J. Transport and communication\",\n",
    "            \"K, L, M, N. Financial, real estate, professional and administrative activities\",\n",
    "            \"O,P,Q. Public administration, education and health\",\n",
    "            \"R, S, T, U. Other\",\n",
    "        ]\n",
    "        defaults[area_weighted] = defaults[area_weighted] * oa_area[oa_code]\n",
    "\n",
    "    else:\n",
    "        form = oa.loc[oa_code][median_form.columns]\n",
    "        defaults = oa.loc[oa_code][median_function.columns]\n",
    "\n",
    "    # population\n",
    "    if use != 0:\n",
    "        defaults = _populations(defaults, index=use)\n",
    "\n",
    "    # greenspace\n",
    "    if greenspace:\n",
    "        defaults = _greenspace(defaults, greenspace)\n",
    "\n",
    "    if job_types:\n",
    "        defaults = _job_types(defaults, job_types)\n",
    "    return pd.concat([form, defaults])"
   ]
  },
  {
   "cell_type": "markdown",
   "id": "631fa1a1-450d-4107-a56b-1a81587bedcf",
   "metadata": {},
   "source": [
    "Example: \n",
    "\n",
    "Set the OA we are interested in."
   ]
  },
  {
   "cell_type": "code",
   "execution_count": 14,
   "id": "dfffff4b-be4d-4ab9-9d5b-dc72555c8d6d",
   "metadata": {
    "tags": []
   },
   "outputs": [],
   "source": [
    "oa_code = \"E00042271\""
   ]
  },
  {
   "cell_type": "markdown",
   "id": "8f98ec2a-71ce-4662-9b79-a76e0e5d6414",
   "metadata": {},
   "source": [
    "Check the signature type of the OA. "
   ]
  },
  {
   "cell_type": "code",
   "execution_count": 15,
   "id": "9efad1bd-7559-4cf0-b908-62ed85e0cf50",
   "metadata": {
    "tags": []
   },
   "outputs": [
    {
     "data": {
      "text/plain": [
       "'Dense urban neighbourhoods'"
      ]
     },
     "execution_count": 15,
     "metadata": {},
     "output_type": "execute_result"
    }
   ],
   "source": [
    "oa_key.primary_type[oa_code]"
   ]
  },
  {
   "cell_type": "markdown",
   "id": "7142db9a-2ee5-4edd-9da8-020320a66543",
   "metadata": {},
   "source": [
    "This is the actual value with no changes."
   ]
  },
  {
   "cell_type": "code",
   "execution_count": 16,
   "id": "d6ac7369-a44c-4abe-9d51-7d2102071a21",
   "metadata": {
    "collapsed": true,
    "jupyter": {
     "outputs_hidden": true
    },
    "tags": []
   },
   "outputs": [
    {
     "data": {
      "text/plain": [
       "sdbAre                                                                               836.43386\n",
       "sdbCoA                                                                               10.849734\n",
       "ssbCCo                                                                                0.342091\n",
       "ssbCor                                                                                5.918075\n",
       "ssbSqu                                                                                5.799881\n",
       "ssbERI                                                                                  0.8782\n",
       "ssbCCM                                                                               28.454278\n",
       "ssbCCD                                                                                3.243832\n",
       "stbOri                                                                               14.042689\n",
       "sdcAre                                                                              3387.82744\n",
       "sscCCo                                                                                0.449487\n",
       "sscERI                                                                                0.960133\n",
       "sicCAR                                                                                0.245127\n",
       "stbCeA                                                                                5.194842\n",
       "mtbAli                                                                                  4.3889\n",
       "mtbNDi                                                                               20.755305\n",
       "mtcWNe                                                                                0.028451\n",
       "ltbIBD                                                                               21.166978\n",
       "sdsSPW                                                                               28.213326\n",
       "sdsSWD                                                                                2.899166\n",
       "sdsSPO                                                                                0.447096\n",
       "sdsLen                                                                              109.429581\n",
       "sssLin                                                                                 0.92334\n",
       "ldsMSL                                                                             1645.009527\n",
       "mtdDeg                                                                                2.850976\n",
       "linP3W                                                                                0.810375\n",
       "linP4W                                                                                0.108821\n",
       "linPDE                                                                                0.080804\n",
       "lcnClo                                                                                0.000002\n",
       "ldsCDL                                                                              162.855545\n",
       "xcnSCl                                                                                0.018812\n",
       "linWID                                                                                0.035681\n",
       "stbSAl                                                                                3.947726\n",
       "sdsAre                                                                             17595.05196\n",
       "sisBpM                                                                                0.056843\n",
       "misCel                                                                               12.861005\n",
       "ltcRea                                                                                49.85095\n",
       "ldeAre                                                                            59270.775826\n",
       "lseCCo                                                                                0.387218\n",
       "lseERI                                                                                0.814681\n",
       "lteOri                                                                               13.778403\n",
       "lteWNB                                                                                0.031542\n",
       "lieWCe                                                                                0.000269\n",
       "population                                                                                 391\n",
       "A, B, D, E. Agriculture, energy and water                                             0.685492\n",
       "C. Manufacturing                                                                      0.097322\n",
       "F. Construction                                                                       7.038725\n",
       "G, I. Distribution, hotels and restaurants                                           21.731618\n",
       "H, J. Transport and communication                                                    22.106873\n",
       "K, L, M, N. Financial, real estate, professional and administrative activities       10.598732\n",
       "O,P,Q. Public administration, education and health                                   74.328726\n",
       "R, S, T, U. Other                                                                     9.858182\n",
       "Land cover [Non-irrigated arable land]                                                     0.0\n",
       "Land cover [Industrial or commercial units]                                           0.509093\n",
       "Land cover [Sport and leisure facilities]                                                  0.0\n",
       "Land cover [Green urban areas]                                                             0.0\n",
       "Land cover [Discontinuous urban fabric]                                               0.490907\n",
       "Land cover [Pastures]                                                                      0.0\n",
       "Land cover [Continuous urban fabric]                                                       0.0\n",
       "Name: E00042271, dtype: object"
      ]
     },
     "execution_count": 16,
     "metadata": {},
     "output_type": "execute_result"
    }
   ],
   "source": [
    "get_signature_values(\n",
    "    oa_code,\n",
    ")"
   ]
  },
  {
   "cell_type": "markdown",
   "id": "cee4fdcb-746d-4a6c-8afe-5b25f697c579",
   "metadata": {},
   "source": [
    "Stay within the same signature type and change only use. \n",
    "\n",
    "1. More residential"
   ]
  },
  {
   "cell_type": "code",
   "execution_count": 17,
   "id": "6cc546a2-b6a5-469d-97f5-2246b864687b",
   "metadata": {
    "collapsed": true,
    "jupyter": {
     "outputs_hidden": true
    },
    "tags": []
   },
   "outputs": [
    {
     "data": {
      "text/plain": [
       "sdbAre                                                                               836.43386\n",
       "sdbCoA                                                                               10.849734\n",
       "ssbCCo                                                                                0.342091\n",
       "ssbCor                                                                                5.918075\n",
       "ssbSqu                                                                                5.799881\n",
       "ssbERI                                                                                  0.8782\n",
       "ssbCCM                                                                               28.454278\n",
       "ssbCCD                                                                                3.243832\n",
       "stbOri                                                                               14.042689\n",
       "sdcAre                                                                              3387.82744\n",
       "sscCCo                                                                                0.449487\n",
       "sscERI                                                                                0.960133\n",
       "sicCAR                                                                                0.245127\n",
       "stbCeA                                                                                5.194842\n",
       "mtbAli                                                                                  4.3889\n",
       "mtbNDi                                                                               20.755305\n",
       "mtcWNe                                                                                0.028451\n",
       "ltbIBD                                                                               21.166978\n",
       "sdsSPW                                                                               28.213326\n",
       "sdsSWD                                                                                2.899166\n",
       "sdsSPO                                                                                0.447096\n",
       "sdsLen                                                                              109.429581\n",
       "sssLin                                                                                 0.92334\n",
       "ldsMSL                                                                             1645.009527\n",
       "mtdDeg                                                                                2.850976\n",
       "linP3W                                                                                0.810375\n",
       "linP4W                                                                                0.108821\n",
       "linPDE                                                                                0.080804\n",
       "lcnClo                                                                                0.000002\n",
       "ldsCDL                                                                              162.855545\n",
       "xcnSCl                                                                                0.018812\n",
       "linWID                                                                                0.035681\n",
       "stbSAl                                                                                3.947726\n",
       "sdsAre                                                                             17595.05196\n",
       "sisBpM                                                                                0.056843\n",
       "misCel                                                                               12.861005\n",
       "ltcRea                                                                                49.85095\n",
       "ldeAre                                                                            59270.775826\n",
       "lseCCo                                                                                0.387218\n",
       "lseERI                                                                                0.814681\n",
       "lteOri                                                                               13.778403\n",
       "lteWNB                                                                                0.031542\n",
       "lieWCe                                                                                0.000269\n",
       "population                                                                          464.222835\n",
       "A, B, D, E. Agriculture, energy and water                                             0.342746\n",
       "C. Manufacturing                                                                      0.048661\n",
       "F. Construction                                                                       3.519362\n",
       "G, I. Distribution, hotels and restaurants                                           10.865809\n",
       "H, J. Transport and communication                                                    11.053436\n",
       "K, L, M, N. Financial, real estate, professional and administrative activities        5.299366\n",
       "O,P,Q. Public administration, education and health                                   37.164363\n",
       "R, S, T, U. Other                                                                     4.929091\n",
       "Land cover [Non-irrigated arable land]                                                     0.0\n",
       "Land cover [Industrial or commercial units]                                           0.509093\n",
       "Land cover [Sport and leisure facilities]                                                  0.0\n",
       "Land cover [Green urban areas]                                                             0.0\n",
       "Land cover [Discontinuous urban fabric]                                               0.490907\n",
       "Land cover [Pastures]                                                                      0.0\n",
       "Land cover [Continuous urban fabric]                                                       0.0\n",
       "Name: E00042271, dtype: object"
      ]
     },
     "execution_count": 17,
     "metadata": {},
     "output_type": "execute_result"
    }
   ],
   "source": [
    "get_signature_values(oa_code, use=-0.5)"
   ]
  },
  {
   "cell_type": "markdown",
   "id": "f77b0243-40f1-42b1-8f6e-f8dd336cefef",
   "metadata": {},
   "source": [
    "2. Less residential, more jobs"
   ]
  },
  {
   "cell_type": "code",
   "execution_count": 18,
   "id": "be2ca565-c498-47c2-bd0b-1e7d9d600bc7",
   "metadata": {
    "collapsed": true,
    "jupyter": {
     "outputs_hidden": true
    },
    "tags": []
   },
   "outputs": [
    {
     "data": {
      "text/plain": [
       "sdbAre                                                                               836.43386\n",
       "sdbCoA                                                                               10.849734\n",
       "ssbCCo                                                                                0.342091\n",
       "ssbCor                                                                                5.918075\n",
       "ssbSqu                                                                                5.799881\n",
       "ssbERI                                                                                  0.8782\n",
       "ssbCCM                                                                               28.454278\n",
       "ssbCCD                                                                                3.243832\n",
       "stbOri                                                                               14.042689\n",
       "sdcAre                                                                              3387.82744\n",
       "sscCCo                                                                                0.449487\n",
       "sscERI                                                                                0.960133\n",
       "sicCAR                                                                                0.245127\n",
       "stbCeA                                                                                5.194842\n",
       "mtbAli                                                                                  4.3889\n",
       "mtbNDi                                                                               20.755305\n",
       "mtcWNe                                                                                0.028451\n",
       "ltbIBD                                                                               21.166978\n",
       "sdsSPW                                                                               28.213326\n",
       "sdsSWD                                                                                2.899166\n",
       "sdsSPO                                                                                0.447096\n",
       "sdsLen                                                                              109.429581\n",
       "sssLin                                                                                 0.92334\n",
       "ldsMSL                                                                             1645.009527\n",
       "mtdDeg                                                                                2.850976\n",
       "linP3W                                                                                0.810375\n",
       "linP4W                                                                                0.108821\n",
       "linPDE                                                                                0.080804\n",
       "lcnClo                                                                                0.000002\n",
       "ldsCDL                                                                              162.855545\n",
       "xcnSCl                                                                                0.018812\n",
       "linWID                                                                                0.035681\n",
       "stbSAl                                                                                3.947726\n",
       "sdsAre                                                                             17595.05196\n",
       "sisBpM                                                                                0.056843\n",
       "misCel                                                                               12.861005\n",
       "ltcRea                                                                                49.85095\n",
       "ldeAre                                                                            59270.775826\n",
       "lseCCo                                                                                0.387218\n",
       "lseERI                                                                                0.814681\n",
       "lteOri                                                                               13.778403\n",
       "lteWNB                                                                                0.031542\n",
       "lieWCe                                                                                0.000269\n",
       "population                                                                               234.6\n",
       "A, B, D, E. Agriculture, energy and water                                              1.41758\n",
       "C. Manufacturing                                                                      0.201259\n",
       "F. Construction                                                                      14.555892\n",
       "G, I. Distribution, hotels and restaurants                                           44.940396\n",
       "H, J. Transport and communication                                                    45.716413\n",
       "K, L, M, N. Financial, real estate, professional and administrative activities        21.91789\n",
       "O,P,Q. Public administration, education and health                                  153.709788\n",
       "R, S, T, U. Other                                                                    20.386452\n",
       "Land cover [Non-irrigated arable land]                                                     0.0\n",
       "Land cover [Industrial or commercial units]                                           0.509093\n",
       "Land cover [Sport and leisure facilities]                                                  0.0\n",
       "Land cover [Green urban areas]                                                             0.0\n",
       "Land cover [Discontinuous urban fabric]                                               0.490907\n",
       "Land cover [Pastures]                                                                      0.0\n",
       "Land cover [Continuous urban fabric]                                                       0.0\n",
       "Name: E00042271, dtype: object"
      ]
     },
     "execution_count": 18,
     "metadata": {},
     "output_type": "execute_result"
    }
   ],
   "source": [
    "get_signature_values(oa_code, use=0.4)"
   ]
  },
  {
   "cell_type": "markdown",
   "id": "4ac8a38d-11eb-4c40-a4f5-71e17a1e48cb",
   "metadata": {},
   "source": [
    "3. More residential and more greenspace.\n",
    "\n",
    "Check current greenspace first."
   ]
  },
  {
   "cell_type": "code",
   "execution_count": 19,
   "id": "efb4d2c8-6efa-41d1-a973-8c25e9dc3fbd",
   "metadata": {
    "tags": []
   },
   "outputs": [
    {
     "data": {
      "text/plain": [
       "0.0"
      ]
     },
     "execution_count": 19,
     "metadata": {},
     "output_type": "execute_result"
    }
   ],
   "source": [
    "get_signature_values(\n",
    "    oa_code,\n",
    ")[\"Land cover [Green urban areas]\"]"
   ]
  },
  {
   "cell_type": "markdown",
   "id": "5fa9cfe4-2357-4c2c-aeb0-e1458ea4f9b4",
   "metadata": {},
   "source": [
    "Nothing. Allocate 20% of area"
   ]
  },
  {
   "cell_type": "code",
   "execution_count": 20,
   "id": "ebe6530f-3809-40f3-ab04-58469ec293b3",
   "metadata": {
    "collapsed": true,
    "jupyter": {
     "outputs_hidden": true
    },
    "tags": []
   },
   "outputs": [
    {
     "data": {
      "text/plain": [
       "sdbAre                                                                               836.43386\n",
       "sdbCoA                                                                               10.849734\n",
       "ssbCCo                                                                                0.342091\n",
       "ssbCor                                                                                5.918075\n",
       "ssbSqu                                                                                5.799881\n",
       "ssbERI                                                                                  0.8782\n",
       "ssbCCM                                                                               28.454278\n",
       "ssbCCD                                                                                3.243832\n",
       "stbOri                                                                               14.042689\n",
       "sdcAre                                                                              3387.82744\n",
       "sscCCo                                                                                0.449487\n",
       "sscERI                                                                                0.960133\n",
       "sicCAR                                                                                0.245127\n",
       "stbCeA                                                                                5.194842\n",
       "mtbAli                                                                                  4.3889\n",
       "mtbNDi                                                                               20.755305\n",
       "mtcWNe                                                                                0.028451\n",
       "ltbIBD                                                                               21.166978\n",
       "sdsSPW                                                                               28.213326\n",
       "sdsSWD                                                                                2.899166\n",
       "sdsSPO                                                                                0.447096\n",
       "sdsLen                                                                              109.429581\n",
       "sssLin                                                                                 0.92334\n",
       "ldsMSL                                                                             1645.009527\n",
       "mtdDeg                                                                                2.850976\n",
       "linP3W                                                                                0.810375\n",
       "linP4W                                                                                0.108821\n",
       "linPDE                                                                                0.080804\n",
       "lcnClo                                                                                0.000002\n",
       "ldsCDL                                                                              162.855545\n",
       "xcnSCl                                                                                0.018812\n",
       "linWID                                                                                0.035681\n",
       "stbSAl                                                                                3.947726\n",
       "sdsAre                                                                             17595.05196\n",
       "sisBpM                                                                                0.056843\n",
       "misCel                                                                               12.861005\n",
       "ltcRea                                                                                49.85095\n",
       "ldeAre                                                                            59270.775826\n",
       "lseCCo                                                                                0.387218\n",
       "lseERI                                                                                0.814681\n",
       "lteOri                                                                               13.778403\n",
       "lteWNB                                                                                0.031542\n",
       "lieWCe                                                                                0.000269\n",
       "population                                                                              187.68\n",
       "A, B, D, E. Agriculture, energy and water                                             1.134064\n",
       "C. Manufacturing                                                                      0.161007\n",
       "F. Construction                                                                      11.644714\n",
       "G, I. Distribution, hotels and restaurants                                           35.952317\n",
       "H, J. Transport and communication                                                     36.57313\n",
       "K, L, M, N. Financial, real estate, professional and administrative activities       17.534312\n",
       "O,P,Q. Public administration, education and health                                   122.96783\n",
       "R, S, T, U. Other                                                                    16.309162\n",
       "Land cover [Non-irrigated arable land]                                                     0.0\n",
       "Land cover [Industrial or commercial units]                                           0.407275\n",
       "Land cover [Sport and leisure facilities]                                                  0.0\n",
       "Land cover [Green urban areas]                                                             0.2\n",
       "Land cover [Discontinuous urban fabric]                                               0.392725\n",
       "Land cover [Pastures]                                                                      0.0\n",
       "Land cover [Continuous urban fabric]                                                       0.0\n",
       "Name: E00042271, dtype: object"
      ]
     },
     "execution_count": 20,
     "metadata": {},
     "output_type": "execute_result"
    }
   ],
   "source": [
    "get_signature_values(oa_code, use=0.4, greenspace=0.2)"
   ]
  },
  {
   "cell_type": "markdown",
   "id": "dd4184ea-e796-45f1-9d1e-d2ab6e38ec45",
   "metadata": {},
   "source": [
    "Change job type allocation towards more blue collar jobs."
   ]
  },
  {
   "cell_type": "code",
   "execution_count": 21,
   "id": "bb366e2a-d1e7-4ad3-8102-bd60175fddce",
   "metadata": {
    "collapsed": true,
    "jupyter": {
     "outputs_hidden": true
    },
    "tags": []
   },
   "outputs": [
    {
     "data": {
      "text/plain": [
       "sdbAre                                                                               836.43386\n",
       "sdbCoA                                                                               10.849734\n",
       "ssbCCo                                                                                0.342091\n",
       "ssbCor                                                                                5.918075\n",
       "ssbSqu                                                                                5.799881\n",
       "ssbERI                                                                                  0.8782\n",
       "ssbCCM                                                                               28.454278\n",
       "ssbCCD                                                                                3.243832\n",
       "stbOri                                                                               14.042689\n",
       "sdcAre                                                                              3387.82744\n",
       "sscCCo                                                                                0.449487\n",
       "sscERI                                                                                0.960133\n",
       "sicCAR                                                                                0.245127\n",
       "stbCeA                                                                                5.194842\n",
       "mtbAli                                                                                  4.3889\n",
       "mtbNDi                                                                               20.755305\n",
       "mtcWNe                                                                                0.028451\n",
       "ltbIBD                                                                               21.166978\n",
       "sdsSPW                                                                               28.213326\n",
       "sdsSWD                                                                                2.899166\n",
       "sdsSPO                                                                                0.447096\n",
       "sdsLen                                                                              109.429581\n",
       "sssLin                                                                                 0.92334\n",
       "ldsMSL                                                                             1645.009527\n",
       "mtdDeg                                                                                2.850976\n",
       "linP3W                                                                                0.810375\n",
       "linP4W                                                                                0.108821\n",
       "linPDE                                                                                0.080804\n",
       "lcnClo                                                                                0.000002\n",
       "ldsCDL                                                                              162.855545\n",
       "xcnSCl                                                                                0.018812\n",
       "linWID                                                                                0.035681\n",
       "stbSAl                                                                                3.947726\n",
       "sdsAre                                                                             17595.05196\n",
       "sisBpM                                                                                0.056843\n",
       "misCel                                                                               12.861005\n",
       "ltcRea                                                                                49.85095\n",
       "ldeAre                                                                            59270.775826\n",
       "lseCCo                                                                                0.387218\n",
       "lseERI                                                                                0.814681\n",
       "lteOri                                                                               13.778403\n",
       "lteWNB                                                                                0.031542\n",
       "lieWCe                                                                                0.000269\n",
       "population                                                                              187.68\n",
       "A, B, D, E. Agriculture, energy and water                                             3.481745\n",
       "C. Manufacturing                                                                      0.494316\n",
       "F. Construction                                                                      35.751011\n",
       "G, I. Distribution, hotels and restaurants                                           35.952317\n",
       "H, J. Transport and communication                                                   112.284974\n",
       "K, L, M, N. Financial, real estate, professional and administrative activities         4.74268\n",
       "O,P,Q. Public administration, education and health                                   33.260332\n",
       "R, S, T, U. Other                                                                    16.309162\n",
       "Land cover [Non-irrigated arable land]                                                     0.0\n",
       "Land cover [Industrial or commercial units]                                           0.407275\n",
       "Land cover [Sport and leisure facilities]                                                  0.0\n",
       "Land cover [Green urban areas]                                                             0.2\n",
       "Land cover [Discontinuous urban fabric]                                               0.392725\n",
       "Land cover [Pastures]                                                                      0.0\n",
       "Land cover [Continuous urban fabric]                                                       0.0\n",
       "Name: E00042271, dtype: object"
      ]
     },
     "execution_count": 21,
     "metadata": {},
     "output_type": "execute_result"
    }
   ],
   "source": [
    "get_signature_values(\n",
    "    oa_code,\n",
    "    use=0.4,\n",
    "    greenspace=0.2,\n",
    "    job_types=0.2,\n",
    ")"
   ]
  },
  {
   "cell_type": "markdown",
   "id": "1dc678ab-68f4-488c-8c88-aa3b0b6ea63d",
   "metadata": {},
   "source": [
    "Change the signature type (a proxy for a level of urbanity)."
   ]
  },
  {
   "cell_type": "code",
   "execution_count": 22,
   "id": "ce0c5ac4-e16c-44d5-9ef5-a40b45f17fe9",
   "metadata": {
    "tags": []
   },
   "outputs": [
    {
     "data": {
      "text/plain": [
       "sdbAre                                                                              422.259877\n",
       "sdbCoA                                                                                0.000000\n",
       "ssbCCo                                                                                0.408337\n",
       "ssbCor                                                                                3.769432\n",
       "ssbSqu                                                                                0.403360\n",
       "ssbERI                                                                                0.982311\n",
       "ssbCCM                                                                               18.595822\n",
       "ssbCCD                                                                                0.135386\n",
       "stbOri                                                                                8.222212\n",
       "sdcAre                                                                             1663.577623\n",
       "sscCCo                                                                                0.438507\n",
       "sscERI                                                                                0.984578\n",
       "sicCAR                                                                                0.229900\n",
       "stbCeA                                                                                1.659903\n",
       "mtbAli                                                                                2.924640\n",
       "mtbNDi                                                                               15.906085\n",
       "mtcWNe                                                                                0.032347\n",
       "ltbIBD                                                                               21.239290\n",
       "sdsSPW                                                                               26.420297\n",
       "sdsSWD                                                                                3.844587\n",
       "sdsSPO                                                                                0.384913\n",
       "sdsLen                                                                              114.906193\n",
       "sssLin                                                                                0.991167\n",
       "ldsMSL                                                                             1938.858230\n",
       "mtdDeg                                                                                3.000000\n",
       "linP3W                                                                                0.773400\n",
       "linP4W                                                                                0.092012\n",
       "linPDE                                                                                0.144101\n",
       "lcnClo                                                                                0.000002\n",
       "ldsCDL                                                                              210.710475\n",
       "xcnSCl                                                                                0.001760\n",
       "linWID                                                                                0.034503\n",
       "stbSAl                                                                                3.207152\n",
       "sdsAre                                                                            18131.928008\n",
       "sisBpM                                                                                0.048301\n",
       "misCel                                                                               15.195866\n",
       "ltcRea                                                                               49.395492\n",
       "ldeAre                                                                            19916.510706\n",
       "lseCCo                                                                                0.347203\n",
       "lseERI                                                                                0.865735\n",
       "lteOri                                                                               19.688769\n",
       "lteWNB                                                                                0.004753\n",
       "lieWCe                                                                                0.000877\n",
       "population                                                                          432.770089\n",
       "A, B, D, E. Agriculture, energy and water                                            10.577324\n",
       "C. Manufacturing                                                                     18.857491\n",
       "F. Construction                                                                      96.518541\n",
       "G, I. Distribution, hotels and restaurants                                           92.453344\n",
       "H, J. Transport and communication                                                   128.179567\n",
       "K, L, M, N. Financial, real estate, professional and administrative activities       30.728056\n",
       "O,P,Q. Public administration, education and health                                   32.805174\n",
       "R, S, T, U. Other                                                                    24.494562\n",
       "Land cover [Non-irrigated arable land]                                                0.000000\n",
       "Land cover [Industrial or commercial units]                                           0.000000\n",
       "Land cover [Sport and leisure facilities]                                             0.000000\n",
       "Land cover [Green urban areas]                                                        0.200000\n",
       "Land cover [Discontinuous urban fabric]                                               0.614254\n",
       "Land cover [Pastures]                                                                 0.000000\n",
       "Land cover [Continuous urban fabric]                                                  0.042641\n",
       "Name: E00042271, dtype: float64"
      ]
     },
     "execution_count": 22,
     "metadata": {},
     "output_type": "execute_result"
    }
   ],
   "source": [
    "get_signature_values(\n",
    "    oa_code,\n",
    "    signature_type=\"Local urbanity\",\n",
    "    use=0.4,\n",
    "    greenspace=0.2,\n",
    "    job_types=0.2,\n",
    ")"
   ]
  }
 ],
 "metadata": {
  "kernelspec": {
   "display_name": "Python 3 (ipykernel)",
   "language": "python",
   "name": "python3"
  },
  "language_info": {
   "codemirror_mode": {
    "name": "ipython",
    "version": 3
   },
   "file_extension": ".py",
   "mimetype": "text/x-python",
   "name": "python",
   "nbconvert_exporter": "python",
   "pygments_lexer": "ipython3",
   "version": "3.11.0"
  }
 },
 "nbformat": 4,
 "nbformat_minor": 5
}
