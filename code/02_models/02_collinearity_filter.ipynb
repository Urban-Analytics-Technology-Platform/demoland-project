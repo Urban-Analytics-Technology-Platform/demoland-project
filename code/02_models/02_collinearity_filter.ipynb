{
 "cells": [
  {
   "attachments": {},
   "cell_type": "markdown",
   "metadata": {},
   "source": [
    "# Filter collinear explanatory variables\n",
    "\n",
    "Some explanatory variables, primarily those coming from morphometrics, may be collinear within our limited area of interest. Those shall be removed prior modelling. \n",
    "\n",
    "This notebook identifies correlations between variables and drops those that are correlated and less interpetable."
   ]
  },
  {
   "cell_type": "code",
   "execution_count": 24,
   "metadata": {},
   "outputs": [],
   "source": [
    "import pandas as pd\n",
    "import geopandas as gpd\n",
    "import seaborn as sns\n",
    "import numpy as np"
   ]
  },
  {
   "cell_type": "markdown",
   "metadata": {},
   "source": [
    "Specify a path to the data folder."
   ]
  },
  {
   "cell_type": "code",
   "execution_count": 2,
   "metadata": {},
   "outputs": [],
   "source": [
    "data_folder = \"/Users/martin/Library/CloudStorage/OneDrive-SharedLibraries-TheAlanTuringInstitute/Daniel Arribas-Bel - demoland_data\""
   ]
  },
  {
   "attachments": {},
   "cell_type": "markdown",
   "metadata": {},
   "source": [
    "Load the data"
   ]
  },
  {
   "cell_type": "code",
   "execution_count": 3,
   "metadata": {},
   "outputs": [],
   "source": [
    "data = gpd.read_parquet(f\"{data_folder}/processed/interpolated/all_oa.parquet\")"
   ]
  },
  {
   "attachments": {},
   "cell_type": "markdown",
   "metadata": {},
   "source": [
    "Filter only explanatory variables."
   ]
  },
  {
   "cell_type": "code",
   "execution_count": 5,
   "metadata": {},
   "outputs": [],
   "source": [
    "exvars = data.drop(\n",
    "    columns=[\n",
    "        \"geo_code\",\n",
    "        \"geometry\",\n",
    "        \"air_quality_index\",\n",
    "        \"house_price_index\",\n",
    "        \"jobs_accessibility_index\",\n",
    "    ]\n",
    ")"
   ]
  },
  {
   "attachments": {},
   "cell_type": "markdown",
   "metadata": {},
   "source": [
    "Measure Pearson's and Spearman's Rank correllations."
   ]
  },
  {
   "cell_type": "code",
   "execution_count": 34,
   "metadata": {},
   "outputs": [],
   "source": [
    "pearson = exvars.corr().abs()\n",
    "spearman = exvars.corr(\"spearman\").abs()"
   ]
  },
  {
   "attachments": {},
   "cell_type": "markdown",
   "metadata": {},
   "source": [
    "Fill the upper triangle to keep each pair only once."
   ]
  },
  {
   "cell_type": "code",
   "execution_count": 35,
   "metadata": {},
   "outputs": [],
   "source": [
    "pearson *= np.tri(*pearson.shape)"
   ]
  },
  {
   "attachments": {},
   "cell_type": "markdown",
   "metadata": {},
   "source": [
    "Remove self."
   ]
  },
  {
   "cell_type": "code",
   "execution_count": 37,
   "metadata": {},
   "outputs": [],
   "source": [
    "np.fill_diagonal(pearson.values, 0)"
   ]
  },
  {
   "attachments": {},
   "cell_type": "markdown",
   "metadata": {},
   "source": [
    "Unstack to get pairs."
   ]
  },
  {
   "cell_type": "code",
   "execution_count": 38,
   "metadata": {},
   "outputs": [
    {
     "data": {
      "text/plain": [
       "sdbAre  sdbPer    0.804675\n",
       "sdbPer  ssbCor    0.831300\n",
       "ssbCCo  ssbElo    0.881746\n",
       "stbOri  stcOri    0.861596\n",
       "sdcLAL  sdcAre    0.897443\n",
       "        mtbNDi    0.925586\n",
       "        mdcAre    0.894625\n",
       "        sddAre    0.805920\n",
       "        ltcAre    0.821140\n",
       "sdcAre  mtbNDi    0.905940\n",
       "        mdcAre    0.946279\n",
       "        sddAre    0.875737\n",
       "        mdsAre    0.806880\n",
       "mtbNDi  mdcAre    0.922637\n",
       "        sddAre    0.841932\n",
       "        ltcAre    0.844478\n",
       "mdcAre  sddAre    0.886339\n",
       "        sdsAre    0.848497\n",
       "        mdsAre    0.853500\n",
       "        ltcAre    0.922004\n",
       "ltcWRE  lcnClo    0.852001\n",
       "ltbIBD  ltcAre    0.867520\n",
       "sdsSPW  sdsSPO    0.840288\n",
       "sdsLen  mtdMDi    0.937603\n",
       "        sdsAre    0.859295\n",
       "lcdMes  linPDE    0.862986\n",
       "mtdMDi  sddAre    0.805111\n",
       "        sdsAre    0.849652\n",
       "        mdsAre    0.811618\n",
       "lddNDe  linWID    0.944004\n",
       "sddAre  sdsAre    0.925253\n",
       "        mdsAre    0.889015\n",
       "        ltcAre    0.813191\n",
       "sdsAre  mdsAre    0.955687\n",
       "        ldsAre    0.883652\n",
       "        ltcAre    0.829096\n",
       "misCel  lisCel    0.869592\n",
       "mdsAre  ldsAre    0.956400\n",
       "        ltcAre    0.837981\n",
       "ldeAre  ldePer    0.872630\n",
       "ldePer  lseCWA    0.964556\n",
       "dtype: float64"
      ]
     },
     "execution_count": 38,
     "metadata": {},
     "output_type": "execute_result"
    }
   ],
   "source": [
    "pearson_pairs = pearson.unstack()\n",
    "pearson_pairs[pearson_pairs > 0.8]"
   ]
  },
  {
   "attachments": {},
   "cell_type": "markdown",
   "metadata": {},
   "source": [
    "The same with Spearman"
   ]
  },
  {
   "cell_type": "code",
   "execution_count": 39,
   "metadata": {},
   "outputs": [
    {
     "data": {
      "text/plain": [
       "G, I. Distribution, hotels and restaurants  K, L, M, N. Financial, real estate, professional and administrative activities    0.819823\n",
       "                                            R, S, T, U. Other                                                                 0.811958\n",
       "sdbAre                                      sdbPer                                                                            0.961472\n",
       "                                            ssbCCM                                                                            0.889109\n",
       "sdbPer                                      ssbCCM                                                                            0.951864\n",
       "ssbCCo                                      ssbElo                                                                            0.871556\n",
       "ssbCor                                      ssbCCD                                                                            0.901580\n",
       "stbOri                                      stcOri                                                                            0.858329\n",
       "sdcLAL                                      sdcAre                                                                            0.960952\n",
       "                                            mtcWNe                                                                            0.918613\n",
       "                                            mdcAre                                                                            0.928993\n",
       "                                            ltcRea                                                                            0.832384\n",
       "                                            ltcAre                                                                            0.830742\n",
       "sdcAre                                      mtcWNe                                                                            0.873712\n",
       "                                            mdcAre                                                                            0.957952\n",
       "                                            ltcRea                                                                            0.822674\n",
       "                                            ltcAre                                                                            0.841574\n",
       "mtcWNe                                      mdcAre                                                                            0.845915\n",
       "mdcAre                                      ltbIBD                                                                            0.822638\n",
       "                                            ltcRea                                                                            0.828665\n",
       "                                            ltcAre                                                                            0.933400\n",
       "ltcWRE                                      lcnClo                                                                            0.815142\n",
       "ltbIBD                                      ltcAre                                                                            0.862608\n",
       "sdsSPW                                      sdsSPO                                                                            0.821366\n",
       "sdsLen                                      mtdMDi                                                                            0.925780\n",
       "lcdMes                                      linPDE                                                                            0.890219\n",
       "linPDE                                      ldsCDL                                                                            0.810251\n",
       "mtdMDi                                      sddAre                                                                            0.823618\n",
       "lddNDe                                      linWID                                                                            0.893646\n",
       "sddAre                                      sdsAre                                                                            0.905564\n",
       "                                            mdsAre                                                                            0.859780\n",
       "sdsAre                                      mdsAre                                                                            0.946564\n",
       "                                            ldsAre                                                                            0.809841\n",
       "misCel                                      lisCel                                                                            0.909656\n",
       "mdsAre                                      ldsAre                                                                            0.916757\n",
       "ldeAre                                      ldePer                                                                            0.971434\n",
       "                                            lseCWA                                                                            0.899233\n",
       "ldePer                                      lseCWA                                                                            0.965517\n",
       "lseERI                                      lseCWA                                                                            0.812116\n",
       "dtype: float64"
      ]
     },
     "execution_count": 39,
     "metadata": {},
     "output_type": "execute_result"
    }
   ],
   "source": [
    "spearman *= np.tri(*spearman.shape)\n",
    "np.fill_diagonal(spearman.values, 0)\n",
    "spearman_pairs = spearman.unstack()\n",
    "spearman_pairs[spearman_pairs > 0.8]"
   ]
  },
  {
   "attachments": {},
   "cell_type": "markdown",
   "metadata": {},
   "source": [
    "Combine highly correlated pairs from both. We want to eliminate those with both indices above .8."
   ]
  },
  {
   "cell_type": "code",
   "execution_count": 45,
   "metadata": {},
   "outputs": [
    {
     "data": {
      "text/html": [
       "<div>\n",
       "<style scoped>\n",
       "    .dataframe tbody tr th:only-of-type {\n",
       "        vertical-align: middle;\n",
       "    }\n",
       "\n",
       "    .dataframe tbody tr th {\n",
       "        vertical-align: top;\n",
       "    }\n",
       "\n",
       "    .dataframe thead th {\n",
       "        text-align: right;\n",
       "    }\n",
       "</style>\n",
       "<table border=\"1\" class=\"dataframe\">\n",
       "  <thead>\n",
       "    <tr style=\"text-align: right;\">\n",
       "      <th></th>\n",
       "      <th></th>\n",
       "      <th>pearson</th>\n",
       "      <th>spearman</th>\n",
       "    </tr>\n",
       "  </thead>\n",
       "  <tbody>\n",
       "    <tr>\n",
       "      <th>sdbAre</th>\n",
       "      <th>sdbPer</th>\n",
       "      <td>0.804675</td>\n",
       "      <td>0.961472</td>\n",
       "    </tr>\n",
       "    <tr>\n",
       "      <th>ssbCCo</th>\n",
       "      <th>ssbElo</th>\n",
       "      <td>0.881746</td>\n",
       "      <td>0.871556</td>\n",
       "    </tr>\n",
       "    <tr>\n",
       "      <th>stbOri</th>\n",
       "      <th>stcOri</th>\n",
       "      <td>0.861596</td>\n",
       "      <td>0.858329</td>\n",
       "    </tr>\n",
       "    <tr>\n",
       "      <th rowspan=\"3\" valign=\"top\">sdcLAL</th>\n",
       "      <th>sdcAre</th>\n",
       "      <td>0.897443</td>\n",
       "      <td>0.960952</td>\n",
       "    </tr>\n",
       "    <tr>\n",
       "      <th>mdcAre</th>\n",
       "      <td>0.894625</td>\n",
       "      <td>0.928993</td>\n",
       "    </tr>\n",
       "    <tr>\n",
       "      <th>ltcAre</th>\n",
       "      <td>0.821140</td>\n",
       "      <td>0.830742</td>\n",
       "    </tr>\n",
       "    <tr>\n",
       "      <th>sdcAre</th>\n",
       "      <th>mdcAre</th>\n",
       "      <td>0.946279</td>\n",
       "      <td>0.957952</td>\n",
       "    </tr>\n",
       "    <tr>\n",
       "      <th>mdcAre</th>\n",
       "      <th>ltcAre</th>\n",
       "      <td>0.922004</td>\n",
       "      <td>0.933400</td>\n",
       "    </tr>\n",
       "    <tr>\n",
       "      <th>ltcWRE</th>\n",
       "      <th>lcnClo</th>\n",
       "      <td>0.852001</td>\n",
       "      <td>0.815142</td>\n",
       "    </tr>\n",
       "    <tr>\n",
       "      <th>ltbIBD</th>\n",
       "      <th>ltcAre</th>\n",
       "      <td>0.867520</td>\n",
       "      <td>0.862608</td>\n",
       "    </tr>\n",
       "    <tr>\n",
       "      <th>sdsSPW</th>\n",
       "      <th>sdsSPO</th>\n",
       "      <td>0.840288</td>\n",
       "      <td>0.821366</td>\n",
       "    </tr>\n",
       "    <tr>\n",
       "      <th>sdsLen</th>\n",
       "      <th>mtdMDi</th>\n",
       "      <td>0.937603</td>\n",
       "      <td>0.925780</td>\n",
       "    </tr>\n",
       "    <tr>\n",
       "      <th>lcdMes</th>\n",
       "      <th>linPDE</th>\n",
       "      <td>0.862986</td>\n",
       "      <td>0.890219</td>\n",
       "    </tr>\n",
       "    <tr>\n",
       "      <th>mtdMDi</th>\n",
       "      <th>sddAre</th>\n",
       "      <td>0.805111</td>\n",
       "      <td>0.823618</td>\n",
       "    </tr>\n",
       "    <tr>\n",
       "      <th>lddNDe</th>\n",
       "      <th>linWID</th>\n",
       "      <td>0.944004</td>\n",
       "      <td>0.893646</td>\n",
       "    </tr>\n",
       "    <tr>\n",
       "      <th rowspan=\"2\" valign=\"top\">sddAre</th>\n",
       "      <th>sdsAre</th>\n",
       "      <td>0.925253</td>\n",
       "      <td>0.905564</td>\n",
       "    </tr>\n",
       "    <tr>\n",
       "      <th>mdsAre</th>\n",
       "      <td>0.889015</td>\n",
       "      <td>0.859780</td>\n",
       "    </tr>\n",
       "    <tr>\n",
       "      <th rowspan=\"2\" valign=\"top\">sdsAre</th>\n",
       "      <th>mdsAre</th>\n",
       "      <td>0.955687</td>\n",
       "      <td>0.946564</td>\n",
       "    </tr>\n",
       "    <tr>\n",
       "      <th>ldsAre</th>\n",
       "      <td>0.883652</td>\n",
       "      <td>0.809841</td>\n",
       "    </tr>\n",
       "    <tr>\n",
       "      <th>misCel</th>\n",
       "      <th>lisCel</th>\n",
       "      <td>0.869592</td>\n",
       "      <td>0.909656</td>\n",
       "    </tr>\n",
       "    <tr>\n",
       "      <th>mdsAre</th>\n",
       "      <th>ldsAre</th>\n",
       "      <td>0.956400</td>\n",
       "      <td>0.916757</td>\n",
       "    </tr>\n",
       "    <tr>\n",
       "      <th>ldeAre</th>\n",
       "      <th>ldePer</th>\n",
       "      <td>0.872630</td>\n",
       "      <td>0.971434</td>\n",
       "    </tr>\n",
       "    <tr>\n",
       "      <th>ldePer</th>\n",
       "      <th>lseCWA</th>\n",
       "      <td>0.964556</td>\n",
       "      <td>0.965517</td>\n",
       "    </tr>\n",
       "  </tbody>\n",
       "</table>\n",
       "</div>"
      ],
      "text/plain": [
       "                pearson  spearman\n",
       "sdbAre sdbPer  0.804675  0.961472\n",
       "ssbCCo ssbElo  0.881746  0.871556\n",
       "stbOri stcOri  0.861596  0.858329\n",
       "sdcLAL sdcAre  0.897443  0.960952\n",
       "       mdcAre  0.894625  0.928993\n",
       "       ltcAre  0.821140  0.830742\n",
       "sdcAre mdcAre  0.946279  0.957952\n",
       "mdcAre ltcAre  0.922004  0.933400\n",
       "ltcWRE lcnClo  0.852001  0.815142\n",
       "ltbIBD ltcAre  0.867520  0.862608\n",
       "sdsSPW sdsSPO  0.840288  0.821366\n",
       "sdsLen mtdMDi  0.937603  0.925780\n",
       "lcdMes linPDE  0.862986  0.890219\n",
       "mtdMDi sddAre  0.805111  0.823618\n",
       "lddNDe linWID  0.944004  0.893646\n",
       "sddAre sdsAre  0.925253  0.905564\n",
       "       mdsAre  0.889015  0.859780\n",
       "sdsAre mdsAre  0.955687  0.946564\n",
       "       ldsAre  0.883652  0.809841\n",
       "misCel lisCel  0.869592  0.909656\n",
       "mdsAre ldsAre  0.956400  0.916757\n",
       "ldeAre ldePer  0.872630  0.971434\n",
       "ldePer lseCWA  0.964556  0.965517"
      ]
     },
     "execution_count": 45,
     "metadata": {},
     "output_type": "execute_result"
    }
   ],
   "source": [
    "high_both = (\n",
    "    pearson_pairs[pearson_pairs > 0.8]\n",
    "    .to_frame(\"pearson\")\n",
    "    .assign(spearman=spearman_pairs[spearman_pairs > 0.8])\n",
    "    .dropna()\n",
    ")\n",
    "high_both"
   ]
  },
  {
   "attachments": {},
   "cell_type": "markdown",
   "metadata": {},
   "source": [
    "Define variables to be dropped."
   ]
  },
  {
   "cell_type": "code",
   "execution_count": 47,
   "metadata": {},
   "outputs": [],
   "source": [
    "to_drop = [\n",
    "    \"sdbPer\",\n",
    "    \"ssbElo\",\n",
    "    \"stcOri\",\n",
    "    \"sdcLAL\",\n",
    "    \"mdcAre\",\n",
    "    \"ltcAre\",\n",
    "    \"ltcWRE\",\n",
    "    \"mtdMDi\",\n",
    "    \"lcdMes\",\n",
    "    \"lddNDe\",\n",
    "    \"sddAre\",\n",
    "    \"mdsAre\",\n",
    "    \"ldsAre\",\n",
    "    \"lisCel\",\n",
    "    \"ldePer\",\n",
    "    \"lseCWA\",\n",
    "]"
   ]
  },
  {
   "attachments": {},
   "cell_type": "markdown",
   "metadata": {},
   "source": [
    "Check the result."
   ]
  },
  {
   "cell_type": "code",
   "execution_count": 51,
   "metadata": {},
   "outputs": [],
   "source": [
    "pearson_check = exvars.drop(columns=to_drop).corr().abs()\n",
    "spearman_check = exvars.drop(columns=to_drop).corr(\"spearman\").abs()\n",
    "\n",
    "pearson_check *= np.tri(*pearson_check.shape)\n",
    "np.fill_diagonal(pearson_check.values, 0)\n",
    "pearson_check_pairs = pearson_check.unstack()\n",
    "\n",
    "spearman_check *= np.tri(*spearman_check.shape)\n",
    "np.fill_diagonal(spearman_check.values, 0)\n",
    "spearman_check_pairs = spearman_check.unstack()\n",
    "\n",
    "high_both_check = (\n",
    "    pearson_check_pairs[pearson_check_pairs > 0.8]\n",
    "    .to_frame(\"pearson\")\n",
    "    .assign(spearman=spearman_check_pairs[spearman_check_pairs > 0.8])\n",
    "    .dropna()\n",
    ")"
   ]
  },
  {
   "cell_type": "code",
   "execution_count": 52,
   "metadata": {},
   "outputs": [
    {
     "data": {
      "text/html": [
       "<div>\n",
       "<style scoped>\n",
       "    .dataframe tbody tr th:only-of-type {\n",
       "        vertical-align: middle;\n",
       "    }\n",
       "\n",
       "    .dataframe tbody tr th {\n",
       "        vertical-align: top;\n",
       "    }\n",
       "\n",
       "    .dataframe thead th {\n",
       "        text-align: right;\n",
       "    }\n",
       "</style>\n",
       "<table border=\"1\" class=\"dataframe\">\n",
       "  <thead>\n",
       "    <tr style=\"text-align: right;\">\n",
       "      <th></th>\n",
       "      <th></th>\n",
       "      <th>pearson</th>\n",
       "      <th>spearman</th>\n",
       "    </tr>\n",
       "  </thead>\n",
       "  <tbody>\n",
       "    <tr>\n",
       "      <th>sdsSPW</th>\n",
       "      <th>sdsSPO</th>\n",
       "      <td>0.840288</td>\n",
       "      <td>0.821366</td>\n",
       "    </tr>\n",
       "  </tbody>\n",
       "</table>\n",
       "</div>"
      ],
      "text/plain": [
       "                pearson  spearman\n",
       "sdsSPW sdsSPO  0.840288  0.821366"
      ]
     },
     "execution_count": 52,
     "metadata": {},
     "output_type": "execute_result"
    }
   ],
   "source": [
    "high_both_check"
   ]
  },
  {
   "attachments": {},
   "cell_type": "markdown",
   "metadata": {},
   "source": [
    "The street profile width - street profile openness pair is kept as there is not necessarily a logical (only empirical) relation between the two.\n",
    "\n",
    "Check remaining high-correlation pairs if we consider only single index."
   ]
  },
  {
   "cell_type": "code",
   "execution_count": 53,
   "metadata": {},
   "outputs": [
    {
     "data": {
      "text/plain": [
       "sdcAre  mtbNDi    0.905940\n",
       "sdsSPW  sdsSPO    0.840288\n",
       "sdsLen  sdsAre    0.859295\n",
       "dtype: float64"
      ]
     },
     "execution_count": 53,
     "metadata": {},
     "output_type": "execute_result"
    }
   ],
   "source": [
    "pearson_check_pairs[pearson_check_pairs > 0.8]"
   ]
  },
  {
   "cell_type": "code",
   "execution_count": 54,
   "metadata": {},
   "outputs": [
    {
     "data": {
      "text/plain": [
       "G, I. Distribution, hotels and restaurants  K, L, M, N. Financial, real estate, professional and administrative activities    0.819823\n",
       "                                            R, S, T, U. Other                                                                 0.811958\n",
       "sdbAre                                      ssbCCM                                                                            0.889109\n",
       "ssbCor                                      ssbCCD                                                                            0.901580\n",
       "sdcAre                                      mtcWNe                                                                            0.873712\n",
       "                                            ltcRea                                                                            0.822674\n",
       "sdsSPW                                      sdsSPO                                                                            0.821366\n",
       "linPDE                                      ldsCDL                                                                            0.810251\n",
       "dtype: float64"
      ]
     },
     "execution_count": 54,
     "metadata": {},
     "output_type": "execute_result"
    }
   ],
   "source": [
    "spearman_check_pairs[spearman_check_pairs > 0.8]"
   ]
  },
  {
   "attachments": {},
   "cell_type": "markdown",
   "metadata": {},
   "source": [
    "We assume that these can stay in the dataset.\n",
    "\n",
    "Drop the collinear variables from original data."
   ]
  },
  {
   "cell_type": "code",
   "execution_count": 55,
   "metadata": {},
   "outputs": [],
   "source": [
    "data = data.drop(columns=to_drop)"
   ]
  },
  {
   "attachments": {},
   "cell_type": "markdown",
   "metadata": {},
   "source": [
    "Save to file."
   ]
  },
  {
   "cell_type": "code",
   "execution_count": 60,
   "metadata": {},
   "outputs": [],
   "source": [
    "data.to_parquet(f\"{data_folder}/processed/interpolated/all_oa.parquet\")"
   ]
  },
  {
   "attachments": {},
   "cell_type": "markdown",
   "metadata": {},
   "source": [
    "Get a table of all.\n",
    "\n",
    "Key to names of morphometric characters:"
   ]
  },
  {
   "cell_type": "code",
   "execution_count": 69,
   "metadata": {},
   "outputs": [],
   "source": [
    "key = {\n",
    "    \"sdbAre\": \"area of building\",\n",
    "    \"sdbPer\": \"perimeter of building\",\n",
    "    \"sdbCoA\": \"courtyard area of building\",\n",
    "    \"ssbCCo\": \"circular compactness of building\",\n",
    "    \"ssbCor\": \"corners of building\",\n",
    "    \"ssbSqu\": \"squareness of building\",\n",
    "    \"ssbERI\": \"equivalent rectangular index of building\",\n",
    "    \"ssbElo\": \"elongation of building\",\n",
    "    \"ssbCCM\": \"centroid - corner mean distance of building\",\n",
    "    \"ssbCCD\": \"centroid - corner distance deviation of building\",\n",
    "    \"stbOri\": \"orientation of building\",\n",
    "    \"sdcLAL\": \"longest axis length of ETC\",\n",
    "    \"sdcAre\": \"area of ETC\",\n",
    "    \"sscCCo\": \"circular compactness of ETC\",\n",
    "    \"sscERI\": \"equivalent rectangular index of ETC\",\n",
    "    \"stcOri\": \"orientation of ETC\",\n",
    "    \"sicCAR\": \"covered area ratio of ETC\",\n",
    "    \"stbCeA\": \"cell alignment of building\",\n",
    "    \"mtbAli\": \"alignment of neighbouring buildings\",\n",
    "    \"mtbNDi\": \"mean distance between neighbouring buildings\",\n",
    "    \"mtcWNe\": \"perimeter-weighted neighbours of ETC\",\n",
    "    \"mdcAre\": \"area covered by neighbouring cells\",\n",
    "    \"ltcWRE\": \"weighted reached enclosures of ETC\",\n",
    "    \"ltbIBD\": \"mean inter-building distance\",\n",
    "    \"sdsSPW\": \"width of street profile\",\n",
    "    \"sdsSWD\": \"width deviation of street profile\",\n",
    "    \"sdsSPO\": \"openness of street profile\",\n",
    "    \"sdsLen\": \"length of street segment\",\n",
    "    \"sssLin\": \"linearity of street segment\",\n",
    "    \"ldsMSL\": \"mean segment length within 3 steps\",\n",
    "    \"mtdDeg\": \"node degree of junction\",\n",
    "    \"lcdMes\": \"local meshedness of street network\",\n",
    "    \"linP3W\": \"local proportion of 3-way intersections of street network\",\n",
    "    \"linP4W\": \"local proportion of 4-way intersections of street network\",\n",
    "    \"linPDE\": \"local proportion of cul-de-sacs of street network\",\n",
    "    \"lcnClo\": \"local closeness of street network\",\n",
    "    \"ldsCDL\": \"local cul-de-sac length of street network\",\n",
    "    \"xcnSCl\": \"square clustering of street network\",\n",
    "    \"mtdMDi\": \"mean distance to neighbouring nodes of street network\",\n",
    "    \"lddNDe\": \"local node density of street network\",\n",
    "    \"linWID\": \"local degree weighted node density of street network\",\n",
    "    \"stbSAl\": \"street alignment of building\",\n",
    "    \"sddAre\": \"area covered by node-attached ETCs\",\n",
    "    \"sdsAre\": \"area covered by edge-attached ETCs\",\n",
    "    \"sisBpM\": \"buildings per meter of street segment\",\n",
    "    \"misCel\": \"reached ETCs by neighbouring segments\",\n",
    "    \"mdsAre\": \"reached area by neighbouring segments\",\n",
    "    \"lisCel\": \"reached ETCs by local street network\",\n",
    "    \"ldsAre\": \"reached area by local street network\",\n",
    "    \"ltcRea\": \"reached ETCs by tessellation contiguity\",\n",
    "    \"ltcAre\": \"reached area by tessellation contiguity\",\n",
    "    \"ldeAre\": \"area of enclosure\",\n",
    "    \"ldePer\": \"perimeter of enclosure\",\n",
    "    \"lseCCo\": \"circular compactness of enclosure\",\n",
    "    \"lseERI\": \"equivalent rectangular index of enclosure\",\n",
    "    \"lseCWA\": \"compactness-weighted axis of enclosure\",\n",
    "    \"lteOri\": \"orientation of enclosure\",\n",
    "    \"lteWNB\": \"perimeter-weighted neighbours of enclosure\",\n",
    "    \"lieWCe\": \"area-weighted ETCs of enclosure\",\n",
    "}"
   ]
  },
  {
   "attachments": {},
   "cell_type": "markdown",
   "metadata": {},
   "source": [
    "List all characters with names:"
   ]
  },
  {
   "cell_type": "code",
   "execution_count": 75,
   "metadata": {},
   "outputs": [
    {
     "data": {
      "text/plain": [
       "['population_estimate',\n",
       " 'A, B, D, E. Agriculture, energy and water',\n",
       " 'C. Manufacturing',\n",
       " 'F. Construction',\n",
       " 'G, I. Distribution, hotels and restaurants',\n",
       " 'H, J. Transport and communication',\n",
       " 'K, L, M, N. Financial, real estate, professional and administrative activities',\n",
       " 'O,P,Q. Public administration, education and health',\n",
       " 'R, S, T, U. Other',\n",
       " 'Land cover [Discontinuous urban fabric]',\n",
       " 'Land cover [Continuous urban fabric]',\n",
       " 'Land cover [Non-irrigated arable land]',\n",
       " 'Land cover [Industrial or commercial units]',\n",
       " 'Land cover [Green urban areas]',\n",
       " 'Land cover [Pastures]',\n",
       " 'Land cover [Sport and leisure facilities]',\n",
       " 'area of building',\n",
       " 'courtyard area of building',\n",
       " 'circular compactness of building',\n",
       " 'corners of building',\n",
       " 'squareness of building',\n",
       " 'equivalent rectangular index of building',\n",
       " 'centroid - corner mean distance of building',\n",
       " 'centroid - corner distance deviation of building',\n",
       " 'orientation of building',\n",
       " 'area of ETC',\n",
       " 'circular compactness of ETC',\n",
       " 'equivalent rectangular index of ETC',\n",
       " 'covered area ratio of ETC',\n",
       " 'cell alignment of building',\n",
       " 'alignment of neighbouring buildings',\n",
       " 'mean distance between neighbouring buildings',\n",
       " 'perimeter-weighted neighbours of ETC',\n",
       " 'mean inter-building distance',\n",
       " 'width of street profile',\n",
       " 'width deviation of street profile',\n",
       " 'openness of street profile',\n",
       " 'length of street segment',\n",
       " 'linearity of street segment',\n",
       " 'mean segment length within 3 steps',\n",
       " 'node degree of junction',\n",
       " 'local proportion of 3-way intersections of street network',\n",
       " 'local proportion of 4-way intersections of street network',\n",
       " 'local proportion of cul-de-sacs of street network',\n",
       " 'local closeness of street network',\n",
       " 'local cul-de-sac length of street network',\n",
       " 'square clustering of street network',\n",
       " 'local degree weighted node density of street network',\n",
       " 'street alignment of building',\n",
       " 'area covered by edge-attached ETCs',\n",
       " 'buildings per meter of street segment',\n",
       " 'reached ETCs by neighbouring segments',\n",
       " 'reached ETCs by tessellation contiguity',\n",
       " 'area of enclosure',\n",
       " 'circular compactness of enclosure',\n",
       " 'equivalent rectangular index of enclosure',\n",
       " 'orientation of enclosure',\n",
       " 'perimeter-weighted neighbours of enclosure',\n",
       " 'area-weighted ETCs of enclosure']"
      ]
     },
     "execution_count": 75,
     "metadata": {},
     "output_type": "execute_result"
    }
   ],
   "source": [
    "[key[c] if c in key else c for c in exvars.drop(columns=to_drop).columns]"
   ]
  }
 ],
 "metadata": {
  "kernelspec": {
   "display_name": "demoland",
   "language": "python",
   "name": "python3"
  },
  "language_info": {
   "codemirror_mode": {
    "name": "ipython",
    "version": 3
   },
   "file_extension": ".py",
   "mimetype": "text/x-python",
   "name": "python",
   "nbconvert_exporter": "python",
   "pygments_lexer": "ipython3",
   "version": "3.11.0"
  },
  "orig_nbformat": 4,
  "vscode": {
   "interpreter": {
    "hash": "2fbd39732990f3142cd5c1221afbbe619beb832579166dd14ca4102c965a8fe8"
   }
  }
 },
 "nbformat": 4,
 "nbformat_minor": 2
}
