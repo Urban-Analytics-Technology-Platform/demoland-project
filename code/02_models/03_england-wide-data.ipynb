{
 "cells": [
  {
   "attachments": {},
   "cell_type": "markdown",
   "id": "4572016c-86a2-406a-b4fb-13a2a3c38f79",
   "metadata": {},
   "source": [
    "# Training data sampled from the whole England"
   ]
  },
  {
   "cell_type": "code",
   "execution_count": 13,
   "id": "0f07d5e5-41a2-4920-8f5b-1366d01b95ba",
   "metadata": {
    "tags": []
   },
   "outputs": [],
   "source": [
    "import datetime\n",
    "\n",
    "import geopandas as gpd\n",
    "import tobler\n",
    "import pandas as pd\n",
    "import numpy as np\n",
    "import xarray as xr\n",
    "import pooch"
   ]
  },
  {
   "cell_type": "markdown",
   "id": "b0705a1c-a370-4c38-bf18-e59cba8739ba",
   "metadata": {},
   "source": [
    "Specify a path to the data folder."
   ]
  },
  {
   "cell_type": "code",
   "execution_count": 2,
   "id": "95d1ffda-e27a-4915-a375-dba2a431ad04",
   "metadata": {
    "tags": []
   },
   "outputs": [],
   "source": [
    "data_folder = \"/Users/martin/Library/CloudStorage/OneDrive-SharedLibraries-TheAlanTuringInstitute/Daniel Arribas-Bel - demoland_data\""
   ]
  },
  {
   "cell_type": "markdown",
   "id": "8c0e2d7c-05bc-4efe-8adf-8cd18002ce71",
   "metadata": {},
   "source": [
    "Load 2011 Output Area geoemtry (generalised)."
   ]
  },
  {
   "cell_type": "code",
   "execution_count": 6,
   "id": "4e01eae8-48c2-4445-84ce-c6b5b1a58112",
   "metadata": {
    "tags": []
   },
   "outputs": [],
   "source": [
    "oa = gpd.read_file(f\"{data_folder}/raw/Output_Areas_Dec_2011_Boundaries_EW_BGC_2022.zip\")"
   ]
  },
  {
   "cell_type": "markdown",
   "id": "08e4c147-738e-4921-8b8f-9182c60ed0fd",
   "metadata": {},
   "source": [
    "## Air Quality"
   ]
  },
  {
   "cell_type": "code",
   "execution_count": 14,
   "id": "b9d3d75a-a2c5-4ad3-a16e-d45bf5aa7d24",
   "metadata": {
    "tags": []
   },
   "outputs": [
    {
     "data": {
      "text/html": [
       "<div><svg style=\"position: absolute; width: 0; height: 0; overflow: hidden\">\n",
       "<defs>\n",
       "<symbol id=\"icon-database\" viewBox=\"0 0 32 32\">\n",
       "<path d=\"M16 0c-8.837 0-16 2.239-16 5v4c0 2.761 7.163 5 16 5s16-2.239 16-5v-4c0-2.761-7.163-5-16-5z\"></path>\n",
       "<path d=\"M16 17c-8.837 0-16-2.239-16-5v6c0 2.761 7.163 5 16 5s16-2.239 16-5v-6c0 2.761-7.163 5-16 5z\"></path>\n",
       "<path d=\"M16 26c-8.837 0-16-2.239-16-5v6c0 2.761 7.163 5 16 5s16-2.239 16-5v-6c0 2.761-7.163 5-16 5z\"></path>\n",
       "</symbol>\n",
       "<symbol id=\"icon-file-text2\" viewBox=\"0 0 32 32\">\n",
       "<path d=\"M28.681 7.159c-0.694-0.947-1.662-2.053-2.724-3.116s-2.169-2.030-3.116-2.724c-1.612-1.182-2.393-1.319-2.841-1.319h-15.5c-1.378 0-2.5 1.121-2.5 2.5v27c0 1.378 1.122 2.5 2.5 2.5h23c1.378 0 2.5-1.122 2.5-2.5v-19.5c0-0.448-0.137-1.23-1.319-2.841zM24.543 5.457c0.959 0.959 1.712 1.825 2.268 2.543h-4.811v-4.811c0.718 0.556 1.584 1.309 2.543 2.268zM28 29.5c0 0.271-0.229 0.5-0.5 0.5h-23c-0.271 0-0.5-0.229-0.5-0.5v-27c0-0.271 0.229-0.5 0.5-0.5 0 0 15.499-0 15.5 0v7c0 0.552 0.448 1 1 1h7v19.5z\"></path>\n",
       "<path d=\"M23 26h-14c-0.552 0-1-0.448-1-1s0.448-1 1-1h14c0.552 0 1 0.448 1 1s-0.448 1-1 1z\"></path>\n",
       "<path d=\"M23 22h-14c-0.552 0-1-0.448-1-1s0.448-1 1-1h14c0.552 0 1 0.448 1 1s-0.448 1-1 1z\"></path>\n",
       "<path d=\"M23 18h-14c-0.552 0-1-0.448-1-1s0.448-1 1-1h14c0.552 0 1 0.448 1 1s-0.448 1-1 1z\"></path>\n",
       "</symbol>\n",
       "</defs>\n",
       "</svg>\n",
       "<style>/* CSS stylesheet for displaying xarray objects in jupyterlab.\n",
       " *\n",
       " */\n",
       "\n",
       ":root {\n",
       "  --xr-font-color0: var(--jp-content-font-color0, rgba(0, 0, 0, 1));\n",
       "  --xr-font-color2: var(--jp-content-font-color2, rgba(0, 0, 0, 0.54));\n",
       "  --xr-font-color3: var(--jp-content-font-color3, rgba(0, 0, 0, 0.38));\n",
       "  --xr-border-color: var(--jp-border-color2, #e0e0e0);\n",
       "  --xr-disabled-color: var(--jp-layout-color3, #bdbdbd);\n",
       "  --xr-background-color: var(--jp-layout-color0, white);\n",
       "  --xr-background-color-row-even: var(--jp-layout-color1, white);\n",
       "  --xr-background-color-row-odd: var(--jp-layout-color2, #eeeeee);\n",
       "}\n",
       "\n",
       "html[theme=dark],\n",
       "body[data-theme=dark],\n",
       "body.vscode-dark {\n",
       "  --xr-font-color0: rgba(255, 255, 255, 1);\n",
       "  --xr-font-color2: rgba(255, 255, 255, 0.54);\n",
       "  --xr-font-color3: rgba(255, 255, 255, 0.38);\n",
       "  --xr-border-color: #1F1F1F;\n",
       "  --xr-disabled-color: #515151;\n",
       "  --xr-background-color: #111111;\n",
       "  --xr-background-color-row-even: #111111;\n",
       "  --xr-background-color-row-odd: #313131;\n",
       "}\n",
       "\n",
       ".xr-wrap {\n",
       "  display: block !important;\n",
       "  min-width: 300px;\n",
       "  max-width: 700px;\n",
       "}\n",
       "\n",
       ".xr-text-repr-fallback {\n",
       "  /* fallback to plain text repr when CSS is not injected (untrusted notebook) */\n",
       "  display: none;\n",
       "}\n",
       "\n",
       ".xr-header {\n",
       "  padding-top: 6px;\n",
       "  padding-bottom: 6px;\n",
       "  margin-bottom: 4px;\n",
       "  border-bottom: solid 1px var(--xr-border-color);\n",
       "}\n",
       "\n",
       ".xr-header > div,\n",
       ".xr-header > ul {\n",
       "  display: inline;\n",
       "  margin-top: 0;\n",
       "  margin-bottom: 0;\n",
       "}\n",
       "\n",
       ".xr-obj-type,\n",
       ".xr-array-name {\n",
       "  margin-left: 2px;\n",
       "  margin-right: 10px;\n",
       "}\n",
       "\n",
       ".xr-obj-type {\n",
       "  color: var(--xr-font-color2);\n",
       "}\n",
       "\n",
       ".xr-sections {\n",
       "  padding-left: 0 !important;\n",
       "  display: grid;\n",
       "  grid-template-columns: 150px auto auto 1fr 20px 20px;\n",
       "}\n",
       "\n",
       ".xr-section-item {\n",
       "  display: contents;\n",
       "}\n",
       "\n",
       ".xr-section-item input {\n",
       "  display: none;\n",
       "}\n",
       "\n",
       ".xr-section-item input + label {\n",
       "  color: var(--xr-disabled-color);\n",
       "}\n",
       "\n",
       ".xr-section-item input:enabled + label {\n",
       "  cursor: pointer;\n",
       "  color: var(--xr-font-color2);\n",
       "}\n",
       "\n",
       ".xr-section-item input:enabled + label:hover {\n",
       "  color: var(--xr-font-color0);\n",
       "}\n",
       "\n",
       ".xr-section-summary {\n",
       "  grid-column: 1;\n",
       "  color: var(--xr-font-color2);\n",
       "  font-weight: 500;\n",
       "}\n",
       "\n",
       ".xr-section-summary > span {\n",
       "  display: inline-block;\n",
       "  padding-left: 0.5em;\n",
       "}\n",
       "\n",
       ".xr-section-summary-in:disabled + label {\n",
       "  color: var(--xr-font-color2);\n",
       "}\n",
       "\n",
       ".xr-section-summary-in + label:before {\n",
       "  display: inline-block;\n",
       "  content: '►';\n",
       "  font-size: 11px;\n",
       "  width: 15px;\n",
       "  text-align: center;\n",
       "}\n",
       "\n",
       ".xr-section-summary-in:disabled + label:before {\n",
       "  color: var(--xr-disabled-color);\n",
       "}\n",
       "\n",
       ".xr-section-summary-in:checked + label:before {\n",
       "  content: '▼';\n",
       "}\n",
       "\n",
       ".xr-section-summary-in:checked + label > span {\n",
       "  display: none;\n",
       "}\n",
       "\n",
       ".xr-section-summary,\n",
       ".xr-section-inline-details {\n",
       "  padding-top: 4px;\n",
       "  padding-bottom: 4px;\n",
       "}\n",
       "\n",
       ".xr-section-inline-details {\n",
       "  grid-column: 2 / -1;\n",
       "}\n",
       "\n",
       ".xr-section-details {\n",
       "  display: none;\n",
       "  grid-column: 1 / -1;\n",
       "  margin-bottom: 5px;\n",
       "}\n",
       "\n",
       ".xr-section-summary-in:checked ~ .xr-section-details {\n",
       "  display: contents;\n",
       "}\n",
       "\n",
       ".xr-array-wrap {\n",
       "  grid-column: 1 / -1;\n",
       "  display: grid;\n",
       "  grid-template-columns: 20px auto;\n",
       "}\n",
       "\n",
       ".xr-array-wrap > label {\n",
       "  grid-column: 1;\n",
       "  vertical-align: top;\n",
       "}\n",
       "\n",
       ".xr-preview {\n",
       "  color: var(--xr-font-color3);\n",
       "}\n",
       "\n",
       ".xr-array-preview,\n",
       ".xr-array-data {\n",
       "  padding: 0 5px !important;\n",
       "  grid-column: 2;\n",
       "}\n",
       "\n",
       ".xr-array-data,\n",
       ".xr-array-in:checked ~ .xr-array-preview {\n",
       "  display: none;\n",
       "}\n",
       "\n",
       ".xr-array-in:checked ~ .xr-array-data,\n",
       ".xr-array-preview {\n",
       "  display: inline-block;\n",
       "}\n",
       "\n",
       ".xr-dim-list {\n",
       "  display: inline-block !important;\n",
       "  list-style: none;\n",
       "  padding: 0 !important;\n",
       "  margin: 0;\n",
       "}\n",
       "\n",
       ".xr-dim-list li {\n",
       "  display: inline-block;\n",
       "  padding: 0;\n",
       "  margin: 0;\n",
       "}\n",
       "\n",
       ".xr-dim-list:before {\n",
       "  content: '(';\n",
       "}\n",
       "\n",
       ".xr-dim-list:after {\n",
       "  content: ')';\n",
       "}\n",
       "\n",
       ".xr-dim-list li:not(:last-child):after {\n",
       "  content: ',';\n",
       "  padding-right: 5px;\n",
       "}\n",
       "\n",
       ".xr-has-index {\n",
       "  font-weight: bold;\n",
       "}\n",
       "\n",
       ".xr-var-list,\n",
       ".xr-var-item {\n",
       "  display: contents;\n",
       "}\n",
       "\n",
       ".xr-var-item > div,\n",
       ".xr-var-item label,\n",
       ".xr-var-item > .xr-var-name span {\n",
       "  background-color: var(--xr-background-color-row-even);\n",
       "  margin-bottom: 0;\n",
       "}\n",
       "\n",
       ".xr-var-item > .xr-var-name:hover span {\n",
       "  padding-right: 5px;\n",
       "}\n",
       "\n",
       ".xr-var-list > li:nth-child(odd) > div,\n",
       ".xr-var-list > li:nth-child(odd) > label,\n",
       ".xr-var-list > li:nth-child(odd) > .xr-var-name span {\n",
       "  background-color: var(--xr-background-color-row-odd);\n",
       "}\n",
       "\n",
       ".xr-var-name {\n",
       "  grid-column: 1;\n",
       "}\n",
       "\n",
       ".xr-var-dims {\n",
       "  grid-column: 2;\n",
       "}\n",
       "\n",
       ".xr-var-dtype {\n",
       "  grid-column: 3;\n",
       "  text-align: right;\n",
       "  color: var(--xr-font-color2);\n",
       "}\n",
       "\n",
       ".xr-var-preview {\n",
       "  grid-column: 4;\n",
       "}\n",
       "\n",
       ".xr-index-preview {\n",
       "  grid-column: 2 / 5;\n",
       "  color: var(--xr-font-color2);\n",
       "}\n",
       "\n",
       ".xr-var-name,\n",
       ".xr-var-dims,\n",
       ".xr-var-dtype,\n",
       ".xr-preview,\n",
       ".xr-attrs dt {\n",
       "  white-space: nowrap;\n",
       "  overflow: hidden;\n",
       "  text-overflow: ellipsis;\n",
       "  padding-right: 10px;\n",
       "}\n",
       "\n",
       ".xr-var-name:hover,\n",
       ".xr-var-dims:hover,\n",
       ".xr-var-dtype:hover,\n",
       ".xr-attrs dt:hover {\n",
       "  overflow: visible;\n",
       "  width: auto;\n",
       "  z-index: 1;\n",
       "}\n",
       "\n",
       ".xr-var-attrs,\n",
       ".xr-var-data,\n",
       ".xr-index-data {\n",
       "  display: none;\n",
       "  background-color: var(--xr-background-color) !important;\n",
       "  padding-bottom: 5px !important;\n",
       "}\n",
       "\n",
       ".xr-var-attrs-in:checked ~ .xr-var-attrs,\n",
       ".xr-var-data-in:checked ~ .xr-var-data,\n",
       ".xr-index-data-in:checked ~ .xr-index-data {\n",
       "  display: block;\n",
       "}\n",
       "\n",
       ".xr-var-data > table {\n",
       "  float: right;\n",
       "}\n",
       "\n",
       ".xr-var-name span,\n",
       ".xr-var-data,\n",
       ".xr-index-name div,\n",
       ".xr-index-data,\n",
       ".xr-attrs {\n",
       "  padding-left: 25px !important;\n",
       "}\n",
       "\n",
       ".xr-attrs,\n",
       ".xr-var-attrs,\n",
       ".xr-var-data,\n",
       ".xr-index-data {\n",
       "  grid-column: 1 / -1;\n",
       "}\n",
       "\n",
       "dl.xr-attrs {\n",
       "  padding: 0;\n",
       "  margin: 0;\n",
       "  display: grid;\n",
       "  grid-template-columns: 125px auto;\n",
       "}\n",
       "\n",
       ".xr-attrs dt,\n",
       ".xr-attrs dd {\n",
       "  padding: 0;\n",
       "  margin: 0;\n",
       "  float: left;\n",
       "  padding-right: 10px;\n",
       "  width: auto;\n",
       "}\n",
       "\n",
       ".xr-attrs dt {\n",
       "  font-weight: normal;\n",
       "  grid-column: 1;\n",
       "}\n",
       "\n",
       ".xr-attrs dt:hover span {\n",
       "  display: inline-block;\n",
       "  background: var(--xr-background-color);\n",
       "  padding-right: 10px;\n",
       "}\n",
       "\n",
       ".xr-attrs dd {\n",
       "  grid-column: 2;\n",
       "  white-space: pre-wrap;\n",
       "  word-break: break-all;\n",
       "}\n",
       "\n",
       ".xr-icon-database,\n",
       ".xr-icon-file-text2,\n",
       ".xr-no-icon {\n",
       "  display: inline-block;\n",
       "  vertical-align: middle;\n",
       "  width: 1em;\n",
       "  height: 1.5em !important;\n",
       "  stroke-width: 0;\n",
       "  stroke: currentColor;\n",
       "  fill: currentColor;\n",
       "}\n",
       "</style><pre class='xr-text-repr-fallback'>&lt;xarray.Dataset&gt;\n",
       "Dimensions:    (x: 657, y: 1170)\n",
       "Coordinates:\n",
       "  * x          (x) int64 -500 500 1500 2500 3500 ... 652500 653500 654500 655500\n",
       "  * y          (y) int64 5500 6500 7500 8500 ... 1216500 1217500 1218500 1219500\n",
       "Data variables:\n",
       "    pm102021g  (x, y) float64 nan nan nan nan nan nan ... nan nan nan nan nan\n",
       "    pm252021g  (x, y) float64 nan nan nan nan nan nan ... nan nan nan nan nan\n",
       "    no22021    (x, y) float64 nan nan nan nan nan nan ... nan nan nan nan nan\n",
       "    so22021    (x, y) float64 nan nan nan nan nan nan ... nan nan nan nan nan</pre><div class='xr-wrap' style='display:none'><div class='xr-header'><div class='xr-obj-type'>xarray.Dataset</div></div><ul class='xr-sections'><li class='xr-section-item'><input id='section-6bcd4452-1f17-438d-87fa-26b213c31172' class='xr-section-summary-in' type='checkbox' disabled ><label for='section-6bcd4452-1f17-438d-87fa-26b213c31172' class='xr-section-summary'  title='Expand/collapse section'>Dimensions:</label><div class='xr-section-inline-details'><ul class='xr-dim-list'><li><span class='xr-has-index'>x</span>: 657</li><li><span class='xr-has-index'>y</span>: 1170</li></ul></div><div class='xr-section-details'></div></li><li class='xr-section-item'><input id='section-4fd8b35f-92e5-4a05-a089-692c5853cd36' class='xr-section-summary-in' type='checkbox'  checked><label for='section-4fd8b35f-92e5-4a05-a089-692c5853cd36' class='xr-section-summary' >Coordinates: <span>(2)</span></label><div class='xr-section-inline-details'></div><div class='xr-section-details'><ul class='xr-var-list'><li class='xr-var-item'><div class='xr-var-name'><span class='xr-has-index'>x</span></div><div class='xr-var-dims'>(x)</div><div class='xr-var-dtype'>int64</div><div class='xr-var-preview xr-preview'>-500 500 1500 ... 654500 655500</div><input id='attrs-c64f9815-3b8c-480c-81c1-cc11adcbcc3d' class='xr-var-attrs-in' type='checkbox' disabled><label for='attrs-c64f9815-3b8c-480c-81c1-cc11adcbcc3d' title='Show/Hide attributes'><svg class='icon xr-icon-file-text2'><use xlink:href='#icon-file-text2'></use></svg></label><input id='data-8232ec8e-dc56-41f5-ad22-2d6410872303' class='xr-var-data-in' type='checkbox'><label for='data-8232ec8e-dc56-41f5-ad22-2d6410872303' title='Show/Hide data repr'><svg class='icon xr-icon-database'><use xlink:href='#icon-database'></use></svg></label><div class='xr-var-attrs'><dl class='xr-attrs'></dl></div><div class='xr-var-data'><pre>array([  -500,    500,   1500, ..., 653500, 654500, 655500])</pre></div></li><li class='xr-var-item'><div class='xr-var-name'><span class='xr-has-index'>y</span></div><div class='xr-var-dims'>(y)</div><div class='xr-var-dtype'>int64</div><div class='xr-var-preview xr-preview'>5500 6500 7500 ... 1218500 1219500</div><input id='attrs-e4bc56f2-c94c-4fde-b98c-281f3ab84286' class='xr-var-attrs-in' type='checkbox' disabled><label for='attrs-e4bc56f2-c94c-4fde-b98c-281f3ab84286' title='Show/Hide attributes'><svg class='icon xr-icon-file-text2'><use xlink:href='#icon-file-text2'></use></svg></label><input id='data-f7f2f137-b901-46b7-902e-5f9ae24016c0' class='xr-var-data-in' type='checkbox'><label for='data-f7f2f137-b901-46b7-902e-5f9ae24016c0' title='Show/Hide data repr'><svg class='icon xr-icon-database'><use xlink:href='#icon-database'></use></svg></label><div class='xr-var-attrs'><dl class='xr-attrs'></dl></div><div class='xr-var-data'><pre>array([   5500,    6500,    7500, ..., 1217500, 1218500, 1219500])</pre></div></li></ul></div></li><li class='xr-section-item'><input id='section-4a09fa69-4e84-4bff-b07d-cd8fe5561aa9' class='xr-section-summary-in' type='checkbox'  checked><label for='section-4a09fa69-4e84-4bff-b07d-cd8fe5561aa9' class='xr-section-summary' >Data variables: <span>(4)</span></label><div class='xr-section-inline-details'></div><div class='xr-section-details'><ul class='xr-var-list'><li class='xr-var-item'><div class='xr-var-name'><span>pm102021g</span></div><div class='xr-var-dims'>(x, y)</div><div class='xr-var-dtype'>float64</div><div class='xr-var-preview xr-preview'>nan nan nan nan ... nan nan nan nan</div><input id='attrs-23980366-1fe5-4dd3-9f3a-be184a7e6b72' class='xr-var-attrs-in' type='checkbox' disabled><label for='attrs-23980366-1fe5-4dd3-9f3a-be184a7e6b72' title='Show/Hide attributes'><svg class='icon xr-icon-file-text2'><use xlink:href='#icon-file-text2'></use></svg></label><input id='data-e647aeed-7b83-4ec8-9558-b61b5ff53457' class='xr-var-data-in' type='checkbox'><label for='data-e647aeed-7b83-4ec8-9558-b61b5ff53457' title='Show/Hide data repr'><svg class='icon xr-icon-database'><use xlink:href='#icon-database'></use></svg></label><div class='xr-var-attrs'><dl class='xr-attrs'></dl></div><div class='xr-var-data'><pre>array([[nan, nan, nan, ..., nan, nan, nan],\n",
       "       [nan, nan, nan, ..., nan, nan, nan],\n",
       "       [nan, nan, nan, ..., nan, nan, nan],\n",
       "       ...,\n",
       "       [nan, nan, nan, ..., nan, nan, nan],\n",
       "       [nan, nan, nan, ..., nan, nan, nan],\n",
       "       [nan, nan, nan, ..., nan, nan, nan]])</pre></div></li><li class='xr-var-item'><div class='xr-var-name'><span>pm252021g</span></div><div class='xr-var-dims'>(x, y)</div><div class='xr-var-dtype'>float64</div><div class='xr-var-preview xr-preview'>nan nan nan nan ... nan nan nan nan</div><input id='attrs-fa5ff205-5f6d-422f-8835-b5e7fdad1aa7' class='xr-var-attrs-in' type='checkbox' disabled><label for='attrs-fa5ff205-5f6d-422f-8835-b5e7fdad1aa7' title='Show/Hide attributes'><svg class='icon xr-icon-file-text2'><use xlink:href='#icon-file-text2'></use></svg></label><input id='data-d32d5b35-b6cd-4b4a-8c7b-fb60b31f37c5' class='xr-var-data-in' type='checkbox'><label for='data-d32d5b35-b6cd-4b4a-8c7b-fb60b31f37c5' title='Show/Hide data repr'><svg class='icon xr-icon-database'><use xlink:href='#icon-database'></use></svg></label><div class='xr-var-attrs'><dl class='xr-attrs'></dl></div><div class='xr-var-data'><pre>array([[nan, nan, nan, ..., nan, nan, nan],\n",
       "       [nan, nan, nan, ..., nan, nan, nan],\n",
       "       [nan, nan, nan, ..., nan, nan, nan],\n",
       "       ...,\n",
       "       [nan, nan, nan, ..., nan, nan, nan],\n",
       "       [nan, nan, nan, ..., nan, nan, nan],\n",
       "       [nan, nan, nan, ..., nan, nan, nan]])</pre></div></li><li class='xr-var-item'><div class='xr-var-name'><span>no22021</span></div><div class='xr-var-dims'>(x, y)</div><div class='xr-var-dtype'>float64</div><div class='xr-var-preview xr-preview'>nan nan nan nan ... nan nan nan nan</div><input id='attrs-9547a20d-9668-480e-8906-102d80e56352' class='xr-var-attrs-in' type='checkbox' disabled><label for='attrs-9547a20d-9668-480e-8906-102d80e56352' title='Show/Hide attributes'><svg class='icon xr-icon-file-text2'><use xlink:href='#icon-file-text2'></use></svg></label><input id='data-d9b296ea-5cee-4a1d-be73-b2548aab3937' class='xr-var-data-in' type='checkbox'><label for='data-d9b296ea-5cee-4a1d-be73-b2548aab3937' title='Show/Hide data repr'><svg class='icon xr-icon-database'><use xlink:href='#icon-database'></use></svg></label><div class='xr-var-attrs'><dl class='xr-attrs'></dl></div><div class='xr-var-data'><pre>array([[nan, nan, nan, ..., nan, nan, nan],\n",
       "       [nan, nan, nan, ..., nan, nan, nan],\n",
       "       [nan, nan, nan, ..., nan, nan, nan],\n",
       "       ...,\n",
       "       [nan, nan, nan, ..., nan, nan, nan],\n",
       "       [nan, nan, nan, ..., nan, nan, nan],\n",
       "       [nan, nan, nan, ..., nan, nan, nan]])</pre></div></li><li class='xr-var-item'><div class='xr-var-name'><span>so22021</span></div><div class='xr-var-dims'>(x, y)</div><div class='xr-var-dtype'>float64</div><div class='xr-var-preview xr-preview'>nan nan nan nan ... nan nan nan nan</div><input id='attrs-a35c3ac5-0af3-45d8-b9a8-b7f1b73fa8e6' class='xr-var-attrs-in' type='checkbox' disabled><label for='attrs-a35c3ac5-0af3-45d8-b9a8-b7f1b73fa8e6' title='Show/Hide attributes'><svg class='icon xr-icon-file-text2'><use xlink:href='#icon-file-text2'></use></svg></label><input id='data-a66fa3fc-d950-49a9-a743-66322635ab4c' class='xr-var-data-in' type='checkbox'><label for='data-a66fa3fc-d950-49a9-a743-66322635ab4c' title='Show/Hide data repr'><svg class='icon xr-icon-database'><use xlink:href='#icon-database'></use></svg></label><div class='xr-var-attrs'><dl class='xr-attrs'></dl></div><div class='xr-var-data'><pre>array([[nan, nan, nan, ..., nan, nan, nan],\n",
       "       [nan, nan, nan, ..., nan, nan, nan],\n",
       "       [nan, nan, nan, ..., nan, nan, nan],\n",
       "       ...,\n",
       "       [nan, nan, nan, ..., nan, nan, nan],\n",
       "       [nan, nan, nan, ..., nan, nan, nan],\n",
       "       [nan, nan, nan, ..., nan, nan, nan]])</pre></div></li></ul></div></li><li class='xr-section-item'><input id='section-239fd03a-d16d-4879-b64c-92858ed2ad73' class='xr-section-summary-in' type='checkbox'  ><label for='section-239fd03a-d16d-4879-b64c-92858ed2ad73' class='xr-section-summary' >Indexes: <span>(2)</span></label><div class='xr-section-inline-details'></div><div class='xr-section-details'><ul class='xr-var-list'><li class='xr-var-item'><div class='xr-index-name'><div>x</div></div><div class='xr-index-preview'>PandasIndex</div><div></div><input id='index-796d6ea7-28d3-4ba5-ae68-0a07fee5b17b' class='xr-index-data-in' type='checkbox'/><label for='index-796d6ea7-28d3-4ba5-ae68-0a07fee5b17b' title='Show/Hide index repr'><svg class='icon xr-icon-database'><use xlink:href='#icon-database'></use></svg></label><div class='xr-index-data'><pre>PandasIndex(Int64Index([  -500,    500,   1500,   2500,   3500,   4500,   5500,   6500,\n",
       "              7500,   8500,\n",
       "            ...\n",
       "            646500, 647500, 648500, 649500, 650500, 651500, 652500, 653500,\n",
       "            654500, 655500],\n",
       "           dtype=&#x27;int64&#x27;, name=&#x27;x&#x27;, length=657))</pre></div></li><li class='xr-var-item'><div class='xr-index-name'><div>y</div></div><div class='xr-index-preview'>PandasIndex</div><div></div><input id='index-52d56d36-1e4d-4eca-8a77-a1b05f97e4e1' class='xr-index-data-in' type='checkbox'/><label for='index-52d56d36-1e4d-4eca-8a77-a1b05f97e4e1' title='Show/Hide index repr'><svg class='icon xr-icon-database'><use xlink:href='#icon-database'></use></svg></label><div class='xr-index-data'><pre>PandasIndex(Int64Index([   5500,    6500,    7500,    8500,    9500,   10500,   11500,\n",
       "              12500,   13500,   14500,\n",
       "            ...\n",
       "            1210500, 1211500, 1212500, 1213500, 1214500, 1215500, 1216500,\n",
       "            1217500, 1218500, 1219500],\n",
       "           dtype=&#x27;int64&#x27;, name=&#x27;y&#x27;, length=1170))</pre></div></li></ul></div></li><li class='xr-section-item'><input id='section-f33a133b-7109-401a-ab9c-dd3bf027abda' class='xr-section-summary-in' type='checkbox' disabled ><label for='section-f33a133b-7109-401a-ab9c-dd3bf027abda' class='xr-section-summary'  title='Expand/collapse section'>Attributes: <span>(0)</span></label><div class='xr-section-inline-details'></div><div class='xr-section-details'><dl class='xr-attrs'></dl></div></li></ul></div></div>"
      ],
      "text/plain": [
       "<xarray.Dataset>\n",
       "Dimensions:    (x: 657, y: 1170)\n",
       "Coordinates:\n",
       "  * x          (x) int64 -500 500 1500 2500 3500 ... 652500 653500 654500 655500\n",
       "  * y          (y) int64 5500 6500 7500 8500 ... 1216500 1217500 1218500 1219500\n",
       "Data variables:\n",
       "    pm102021g  (x, y) float64 nan nan nan nan nan nan ... nan nan nan nan nan\n",
       "    pm252021g  (x, y) float64 nan nan nan nan nan nan ... nan nan nan nan nan\n",
       "    no22021    (x, y) float64 nan nan nan nan nan nan ... nan nan nan nan nan\n",
       "    so22021    (x, y) float64 nan nan nan nan nan nan ... nan nan nan nan nan"
      ]
     },
     "execution_count": 14,
     "metadata": {},
     "output_type": "execute_result"
    }
   ],
   "source": [
    "pm10_21 = pd.read_csv(\"https://uk-air.defra.gov.uk/datastore/pcm/mappm102021g.csv\", header=5, na_values=[\"MISSING\"]).set_index([\"x\", \"y\"]).drop(columns=\"gridcode\").to_xarray()\n",
    "pm25_21 = pd.read_csv(\"https://uk-air.defra.gov.uk/datastore/pcm/mappm252021g.csv\", header=5, na_values=[\"MISSING\"]).set_index([\"x\", \"y\"]).drop(columns=\"gridcode\").to_xarray()\n",
    "no2_21 = pd.read_csv(\"https://uk-air.defra.gov.uk/datastore/pcm/mapno22021.csv\", header=5, na_values=[\"MISSING\"]).set_index([\"x\", \"y\"]).drop(columns=\"gridcode\").to_xarray()\n",
    "so2_21 = pd.read_csv(\"https://uk-air.defra.gov.uk/datastore/pcm/mapso22021.csv\", header=5, na_values=[\"MISSING\"]).set_index([\"x\", \"y\"]).drop(columns=\"gridcode\").to_xarray()\n",
    "pollutants_2021 = xr.merge([pm10_21, pm25_21, no2_21, so2_21])\n",
    "pollutants_2021"
   ]
  },
  {
   "cell_type": "markdown",
   "id": "4b07fcae-83d0-46a3-9d02-c57039cdeb37",
   "metadata": {},
   "source": [
    "We can compute the index based on the formula."
   ]
  },
  {
   "cell_type": "code",
   "execution_count": 15,
   "id": "3619f1a9-5919-4356-aeed-b7b5d2495d09",
   "metadata": {
    "tags": []
   },
   "outputs": [],
   "source": [
    "aqi = pollutants_2021.pm252021g + pollutants_2021.pm102021g / 2 + pollutants_2021.no22021 / 4 + pollutants_2021.so22021 / 10\n",
    "pollutants_2021 = pollutants_2021.assign(aqi=aqi)"
   ]
  },
  {
   "cell_type": "markdown",
   "id": "3b8a39e4-072c-4e1e-8319-a7662f10020a",
   "metadata": {},
   "source": [
    "We convert the array to a GeoDataFrame with polygons representing grid area. This will be needed for areal interpolation to LSOA/MSOA."
   ]
  },
  {
   "cell_type": "code",
   "execution_count": 16,
   "id": "4b2251e1-e01f-431f-a151-32cd93b261be",
   "metadata": {
    "tags": []
   },
   "outputs": [],
   "source": [
    "pollutants_2021 = pollutants_2021.to_dataframe().reset_index()\n",
    "pollutants_2021 = gpd.GeoDataFrame(pollutants_2021, geometry=gpd.points_from_xy(pollutants_2021.x, pollutants_2021.y, crs=27700).buffer(500, cap_style=3))"
   ]
  },
  {
   "cell_type": "code",
   "execution_count": 17,
   "id": "00526815-1a7f-43af-a719-a417180f02ca",
   "metadata": {
    "tags": []
   },
   "outputs": [],
   "source": [
    "pollutants_2021.to_parquet(f\"{data_folder}/processed/air_quality/air_quality_grid_2021_england.parquet\")"
   ]
  },
  {
   "cell_type": "code",
   "execution_count": 19,
   "id": "e3b47226-a6c4-4ec5-bef4-a492d637ee75",
   "metadata": {
    "tags": []
   },
   "outputs": [
    {
     "data": {
      "text/html": [
       "<div>\n",
       "<style scoped>\n",
       "    .dataframe tbody tr th:only-of-type {\n",
       "        vertical-align: middle;\n",
       "    }\n",
       "\n",
       "    .dataframe tbody tr th {\n",
       "        vertical-align: top;\n",
       "    }\n",
       "\n",
       "    .dataframe thead th {\n",
       "        text-align: right;\n",
       "    }\n",
       "</style>\n",
       "<table border=\"1\" class=\"dataframe\">\n",
       "  <thead>\n",
       "    <tr style=\"text-align: right;\">\n",
       "      <th></th>\n",
       "      <th>x</th>\n",
       "      <th>y</th>\n",
       "      <th>pm102021g</th>\n",
       "      <th>pm252021g</th>\n",
       "      <th>no22021</th>\n",
       "      <th>so22021</th>\n",
       "      <th>aqi</th>\n",
       "      <th>geometry</th>\n",
       "    </tr>\n",
       "  </thead>\n",
       "  <tbody>\n",
       "    <tr>\n",
       "      <th>0</th>\n",
       "      <td>-500</td>\n",
       "      <td>5500</td>\n",
       "      <td>NaN</td>\n",
       "      <td>NaN</td>\n",
       "      <td>NaN</td>\n",
       "      <td>NaN</td>\n",
       "      <td>NaN</td>\n",
       "      <td>POLYGON ((0.000 6000.000, 0.000 5000.000, -100...</td>\n",
       "    </tr>\n",
       "    <tr>\n",
       "      <th>1</th>\n",
       "      <td>-500</td>\n",
       "      <td>6500</td>\n",
       "      <td>NaN</td>\n",
       "      <td>NaN</td>\n",
       "      <td>NaN</td>\n",
       "      <td>NaN</td>\n",
       "      <td>NaN</td>\n",
       "      <td>POLYGON ((0.000 7000.000, 0.000 6000.000, -100...</td>\n",
       "    </tr>\n",
       "    <tr>\n",
       "      <th>2</th>\n",
       "      <td>-500</td>\n",
       "      <td>7500</td>\n",
       "      <td>NaN</td>\n",
       "      <td>NaN</td>\n",
       "      <td>NaN</td>\n",
       "      <td>NaN</td>\n",
       "      <td>NaN</td>\n",
       "      <td>POLYGON ((0.000 8000.000, 0.000 7000.000, -100...</td>\n",
       "    </tr>\n",
       "    <tr>\n",
       "      <th>3</th>\n",
       "      <td>-500</td>\n",
       "      <td>8500</td>\n",
       "      <td>NaN</td>\n",
       "      <td>NaN</td>\n",
       "      <td>NaN</td>\n",
       "      <td>NaN</td>\n",
       "      <td>NaN</td>\n",
       "      <td>POLYGON ((0.000 9000.000, 0.000 8000.000, -100...</td>\n",
       "    </tr>\n",
       "    <tr>\n",
       "      <th>4</th>\n",
       "      <td>-500</td>\n",
       "      <td>9500</td>\n",
       "      <td>NaN</td>\n",
       "      <td>NaN</td>\n",
       "      <td>NaN</td>\n",
       "      <td>NaN</td>\n",
       "      <td>NaN</td>\n",
       "      <td>POLYGON ((0.000 10000.000, 0.000 9000.000, -10...</td>\n",
       "    </tr>\n",
       "    <tr>\n",
       "      <th>...</th>\n",
       "      <td>...</td>\n",
       "      <td>...</td>\n",
       "      <td>...</td>\n",
       "      <td>...</td>\n",
       "      <td>...</td>\n",
       "      <td>...</td>\n",
       "      <td>...</td>\n",
       "      <td>...</td>\n",
       "    </tr>\n",
       "    <tr>\n",
       "      <th>768685</th>\n",
       "      <td>655500</td>\n",
       "      <td>1215500</td>\n",
       "      <td>NaN</td>\n",
       "      <td>NaN</td>\n",
       "      <td>NaN</td>\n",
       "      <td>NaN</td>\n",
       "      <td>NaN</td>\n",
       "      <td>POLYGON ((656000.000 1216000.000, 656000.000 1...</td>\n",
       "    </tr>\n",
       "    <tr>\n",
       "      <th>768686</th>\n",
       "      <td>655500</td>\n",
       "      <td>1216500</td>\n",
       "      <td>NaN</td>\n",
       "      <td>NaN</td>\n",
       "      <td>NaN</td>\n",
       "      <td>NaN</td>\n",
       "      <td>NaN</td>\n",
       "      <td>POLYGON ((656000.000 1217000.000, 656000.000 1...</td>\n",
       "    </tr>\n",
       "    <tr>\n",
       "      <th>768687</th>\n",
       "      <td>655500</td>\n",
       "      <td>1217500</td>\n",
       "      <td>NaN</td>\n",
       "      <td>NaN</td>\n",
       "      <td>NaN</td>\n",
       "      <td>NaN</td>\n",
       "      <td>NaN</td>\n",
       "      <td>POLYGON ((656000.000 1218000.000, 656000.000 1...</td>\n",
       "    </tr>\n",
       "    <tr>\n",
       "      <th>768688</th>\n",
       "      <td>655500</td>\n",
       "      <td>1218500</td>\n",
       "      <td>NaN</td>\n",
       "      <td>NaN</td>\n",
       "      <td>NaN</td>\n",
       "      <td>NaN</td>\n",
       "      <td>NaN</td>\n",
       "      <td>POLYGON ((656000.000 1219000.000, 656000.000 1...</td>\n",
       "    </tr>\n",
       "    <tr>\n",
       "      <th>768689</th>\n",
       "      <td>655500</td>\n",
       "      <td>1219500</td>\n",
       "      <td>NaN</td>\n",
       "      <td>NaN</td>\n",
       "      <td>NaN</td>\n",
       "      <td>NaN</td>\n",
       "      <td>NaN</td>\n",
       "      <td>POLYGON ((656000.000 1220000.000, 656000.000 1...</td>\n",
       "    </tr>\n",
       "  </tbody>\n",
       "</table>\n",
       "<p>768690 rows × 8 columns</p>\n",
       "</div>"
      ],
      "text/plain": [
       "             x        y  pm102021g  pm252021g  no22021  so22021  aqi  \\\n",
       "0         -500     5500        NaN        NaN      NaN      NaN  NaN   \n",
       "1         -500     6500        NaN        NaN      NaN      NaN  NaN   \n",
       "2         -500     7500        NaN        NaN      NaN      NaN  NaN   \n",
       "3         -500     8500        NaN        NaN      NaN      NaN  NaN   \n",
       "4         -500     9500        NaN        NaN      NaN      NaN  NaN   \n",
       "...        ...      ...        ...        ...      ...      ...  ...   \n",
       "768685  655500  1215500        NaN        NaN      NaN      NaN  NaN   \n",
       "768686  655500  1216500        NaN        NaN      NaN      NaN  NaN   \n",
       "768687  655500  1217500        NaN        NaN      NaN      NaN  NaN   \n",
       "768688  655500  1218500        NaN        NaN      NaN      NaN  NaN   \n",
       "768689  655500  1219500        NaN        NaN      NaN      NaN  NaN   \n",
       "\n",
       "                                                 geometry  \n",
       "0       POLYGON ((0.000 6000.000, 0.000 5000.000, -100...  \n",
       "1       POLYGON ((0.000 7000.000, 0.000 6000.000, -100...  \n",
       "2       POLYGON ((0.000 8000.000, 0.000 7000.000, -100...  \n",
       "3       POLYGON ((0.000 9000.000, 0.000 8000.000, -100...  \n",
       "4       POLYGON ((0.000 10000.000, 0.000 9000.000, -10...  \n",
       "...                                                   ...  \n",
       "768685  POLYGON ((656000.000 1216000.000, 656000.000 1...  \n",
       "768686  POLYGON ((656000.000 1217000.000, 656000.000 1...  \n",
       "768687  POLYGON ((656000.000 1218000.000, 656000.000 1...  \n",
       "768688  POLYGON ((656000.000 1219000.000, 656000.000 1...  \n",
       "768689  POLYGON ((656000.000 1220000.000, 656000.000 1...  \n",
       "\n",
       "[768690 rows x 8 columns]"
      ]
     },
     "execution_count": 19,
     "metadata": {},
     "output_type": "execute_result"
    }
   ],
   "source": [
    "pollutants_2021"
   ]
  },
  {
   "cell_type": "code",
   "execution_count": 20,
   "id": "efc57d74-dbb1-44f5-b1f9-51ef96c72493",
   "metadata": {
    "tags": []
   },
   "outputs": [
    {
     "name": "stderr",
     "output_type": "stream",
     "text": [
      "/Users/martin/mambaforge/envs/demoland/lib/python3.11/site-packages/pygeos/set_operations.py:129: RuntimeWarning: invalid value encountered in intersection\n",
      "  return lib.intersection(a, b, **kwargs)\n",
      "/Users/martin/mambaforge/envs/demoland/lib/python3.11/site-packages/tobler/util/util.py:32: UserWarning: nan values in variable: aqi, replacing with 0\n",
      "  warn(f\"nan values in variable: {column}, replacing with 0\")\n"
     ]
    },
    {
     "name": "stdout",
     "output_type": "stream",
     "text": [
      "CPU times: user 17.2 s, sys: 215 ms, total: 17.4 s\n",
      "Wall time: 17.4 s\n"
     ]
    }
   ],
   "source": [
    "%%time\n",
    "interp = tobler.area_weighted.area_interpolate(pollutants_2021, oa, intensive_variables=[\"aqi\"])"
   ]
  },
  {
   "cell_type": "code",
   "execution_count": 24,
   "id": "9a5e0392-6900-4deb-80f1-f7fcfdf694ce",
   "metadata": {
    "tags": []
   },
   "outputs": [],
   "source": [
    "oa[\"air_quality\"] = interp.aqi"
   ]
  },
  {
   "cell_type": "markdown",
   "id": "1bdfa2cb-3e23-4c85-a2ad-6b2a6d07674b",
   "metadata": {},
   "source": [
    "## House price"
   ]
  },
  {
   "cell_type": "code",
   "execution_count": null,
   "id": "98777ce4-493a-4437-a4e8-30eb550a5bc8",
   "metadata": {},
   "outputs": [],
   "source": [
    "# It is 6.3GB...\n",
    "linked_epc_path = \"https://reshare.ukdataservice.ac.uk/854942/1/tranall2011_19.csv\"\n",
    "\n",
    "epc = pd.read_csv(linked_epc_path)\n",
    "epc[\"dateoftransfer\"] = pd.to_datetime(epc.dateoftransfer)\n",
    "last2years = epc[epc.dateoftransfer > datetime.datetime(2018, 1, 1)]\n",
    "\n",
    "price_per_oa = last2years[['oa11', 'priceper']].groupby('oa11').mean().reset_index()\n",
    "price_per_oa.to_parquet(f\"{data_folder}/processed/house_prices/price_per_oa.parquet\")"
   ]
  },
  {
   "cell_type": "code",
   "execution_count": 26,
   "id": "c7e7454c-e8d1-4f52-9cdc-97fa9559e479",
   "metadata": {
    "tags": []
   },
   "outputs": [],
   "source": [
    "price_per_oa = pd.read_parquet(f\"{data_folder}/processed/house_prices/price_per_oa.parquet\")"
   ]
  },
  {
   "cell_type": "code",
   "execution_count": 27,
   "id": "48df4672-062b-4d09-a380-c42c33cb5cc9",
   "metadata": {
    "tags": []
   },
   "outputs": [
    {
     "data": {
      "text/html": [
       "<div>\n",
       "<style scoped>\n",
       "    .dataframe tbody tr th:only-of-type {\n",
       "        vertical-align: middle;\n",
       "    }\n",
       "\n",
       "    .dataframe tbody tr th {\n",
       "        vertical-align: top;\n",
       "    }\n",
       "\n",
       "    .dataframe thead th {\n",
       "        text-align: right;\n",
       "    }\n",
       "</style>\n",
       "<table border=\"1\" class=\"dataframe\">\n",
       "  <thead>\n",
       "    <tr style=\"text-align: right;\">\n",
       "      <th></th>\n",
       "      <th>oa11</th>\n",
       "      <th>priceper</th>\n",
       "    </tr>\n",
       "  </thead>\n",
       "  <tbody>\n",
       "    <tr>\n",
       "      <th>0</th>\n",
       "      <td>E00000003</td>\n",
       "      <td>15722.758094</td>\n",
       "    </tr>\n",
       "    <tr>\n",
       "      <th>1</th>\n",
       "      <td>E00000005</td>\n",
       "      <td>12587.314452</td>\n",
       "    </tr>\n",
       "    <tr>\n",
       "      <th>2</th>\n",
       "      <td>E00000007</td>\n",
       "      <td>12640.262294</td>\n",
       "    </tr>\n",
       "    <tr>\n",
       "      <th>3</th>\n",
       "      <td>E00000010</td>\n",
       "      <td>9535.653363</td>\n",
       "    </tr>\n",
       "    <tr>\n",
       "      <th>4</th>\n",
       "      <td>E00000012</td>\n",
       "      <td>10341.463415</td>\n",
       "    </tr>\n",
       "    <tr>\n",
       "      <th>...</th>\n",
       "      <td>...</td>\n",
       "      <td>...</td>\n",
       "    </tr>\n",
       "    <tr>\n",
       "      <th>173553</th>\n",
       "      <td>W00010260</td>\n",
       "      <td>1632.955752</td>\n",
       "    </tr>\n",
       "    <tr>\n",
       "      <th>173554</th>\n",
       "      <td>W00010261</td>\n",
       "      <td>1834.401969</td>\n",
       "    </tr>\n",
       "    <tr>\n",
       "      <th>173555</th>\n",
       "      <td>W00010262</td>\n",
       "      <td>1511.677538</td>\n",
       "    </tr>\n",
       "    <tr>\n",
       "      <th>173556</th>\n",
       "      <td>W00010263</td>\n",
       "      <td>1679.802956</td>\n",
       "    </tr>\n",
       "    <tr>\n",
       "      <th>173557</th>\n",
       "      <td>W00010264</td>\n",
       "      <td>2046.069031</td>\n",
       "    </tr>\n",
       "  </tbody>\n",
       "</table>\n",
       "<p>173558 rows × 2 columns</p>\n",
       "</div>"
      ],
      "text/plain": [
       "             oa11      priceper\n",
       "0       E00000003  15722.758094\n",
       "1       E00000005  12587.314452\n",
       "2       E00000007  12640.262294\n",
       "3       E00000010   9535.653363\n",
       "4       E00000012  10341.463415\n",
       "...           ...           ...\n",
       "173553  W00010260   1632.955752\n",
       "173554  W00010261   1834.401969\n",
       "173555  W00010262   1511.677538\n",
       "173556  W00010263   1679.802956\n",
       "173557  W00010264   2046.069031\n",
       "\n",
       "[173558 rows x 2 columns]"
      ]
     },
     "execution_count": 27,
     "metadata": {},
     "output_type": "execute_result"
    }
   ],
   "source": [
    "price_per_oa"
   ]
  },
  {
   "cell_type": "code",
   "execution_count": 29,
   "id": "e07bb35b-a2e8-4189-9456-2a6f75e20a26",
   "metadata": {
    "tags": []
   },
   "outputs": [
    {
     "data": {
      "text/html": [
       "<div>\n",
       "<style scoped>\n",
       "    .dataframe tbody tr th:only-of-type {\n",
       "        vertical-align: middle;\n",
       "    }\n",
       "\n",
       "    .dataframe tbody tr th {\n",
       "        vertical-align: top;\n",
       "    }\n",
       "\n",
       "    .dataframe thead th {\n",
       "        text-align: right;\n",
       "    }\n",
       "</style>\n",
       "<table border=\"1\" class=\"dataframe\">\n",
       "  <thead>\n",
       "    <tr style=\"text-align: right;\">\n",
       "      <th></th>\n",
       "      <th>OA11CD</th>\n",
       "      <th>LAD11CD</th>\n",
       "      <th>GlobalID</th>\n",
       "      <th>geometry</th>\n",
       "      <th>air_quality</th>\n",
       "    </tr>\n",
       "  </thead>\n",
       "  <tbody>\n",
       "    <tr>\n",
       "      <th>0</th>\n",
       "      <td>E00000001</td>\n",
       "      <td>E09000001</td>\n",
       "      <td>f8512cce-6727-42cf-9840-6866cdbb2deb</td>\n",
       "      <td>POLYGON ((532303.492 181814.110, 532213.378 18...</td>\n",
       "      <td>27.501372</td>\n",
       "    </tr>\n",
       "    <tr>\n",
       "      <th>1</th>\n",
       "      <td>E00000003</td>\n",
       "      <td>E09000001</td>\n",
       "      <td>9eeeb3aa-ce92-4cea-bd70-3a0e680cddc1</td>\n",
       "      <td>POLYGON ((532180.131 181763.020, 532155.909 18...</td>\n",
       "      <td>27.501372</td>\n",
       "    </tr>\n",
       "    <tr>\n",
       "      <th>2</th>\n",
       "      <td>E00000005</td>\n",
       "      <td>E09000001</td>\n",
       "      <td>012372dd-5e03-43c3-a915-b697d02f88e2</td>\n",
       "      <td>POLYGON ((532124.321 181682.675, 532127.299 18...</td>\n",
       "      <td>27.501372</td>\n",
       "    </tr>\n",
       "    <tr>\n",
       "      <th>3</th>\n",
       "      <td>E00000007</td>\n",
       "      <td>E09000001</td>\n",
       "      <td>b61eb464-9c5b-4f0e-8f78-000ea938ee78</td>\n",
       "      <td>POLYGON ((532124.321 181682.675, 532201.292 18...</td>\n",
       "      <td>27.545142</td>\n",
       "    </tr>\n",
       "    <tr>\n",
       "      <th>4</th>\n",
       "      <td>E00000010</td>\n",
       "      <td>E09000001</td>\n",
       "      <td>efc37450-7064-4f5e-bedd-433bf4de1167</td>\n",
       "      <td>POLYGON ((532071.302 182159.586, 532127.958 18...</td>\n",
       "      <td>27.587650</td>\n",
       "    </tr>\n",
       "    <tr>\n",
       "      <th>...</th>\n",
       "      <td>...</td>\n",
       "      <td>...</td>\n",
       "      <td>...</td>\n",
       "      <td>...</td>\n",
       "      <td>...</td>\n",
       "    </tr>\n",
       "    <tr>\n",
       "      <th>181403</th>\n",
       "      <td>W00010261</td>\n",
       "      <td>W06000011</td>\n",
       "      <td>c1051d13-4fa6-48d8-8f32-5020938ce7d6</td>\n",
       "      <td>POLYGON ((262156.208 196600.223, 262074.703 19...</td>\n",
       "      <td>13.828992</td>\n",
       "    </tr>\n",
       "    <tr>\n",
       "      <th>181404</th>\n",
       "      <td>W00010262</td>\n",
       "      <td>W06000011</td>\n",
       "      <td>ea1fef0a-138d-4035-a401-48c459abbca0</td>\n",
       "      <td>POLYGON ((263241.217 197440.210, 263271.904 19...</td>\n",
       "      <td>13.670047</td>\n",
       "    </tr>\n",
       "    <tr>\n",
       "      <th>181405</th>\n",
       "      <td>W00010263</td>\n",
       "      <td>W06000011</td>\n",
       "      <td>38819942-d3db-47e1-a85d-eec4d7a091e4</td>\n",
       "      <td>POLYGON ((262156.208 196600.223, 262205.269 19...</td>\n",
       "      <td>14.125627</td>\n",
       "    </tr>\n",
       "    <tr>\n",
       "      <th>181406</th>\n",
       "      <td>W00010264</td>\n",
       "      <td>W06000011</td>\n",
       "      <td>61fbb0fb-10bf-4000-a669-7114865776ff</td>\n",
       "      <td>POLYGON ((268829.001 198038.000, 268708.179 19...</td>\n",
       "      <td>14.219191</td>\n",
       "    </tr>\n",
       "    <tr>\n",
       "      <th>181407</th>\n",
       "      <td>W00010265</td>\n",
       "      <td>W06000011</td>\n",
       "      <td>999facfa-dce5-42bf-82fe-c1f04221661e</td>\n",
       "      <td>POLYGON ((266130.758 192630.558, 265987.755 19...</td>\n",
       "      <td>14.927127</td>\n",
       "    </tr>\n",
       "  </tbody>\n",
       "</table>\n",
       "<p>181408 rows × 5 columns</p>\n",
       "</div>"
      ],
      "text/plain": [
       "           OA11CD    LAD11CD                              GlobalID  \\\n",
       "0       E00000001  E09000001  f8512cce-6727-42cf-9840-6866cdbb2deb   \n",
       "1       E00000003  E09000001  9eeeb3aa-ce92-4cea-bd70-3a0e680cddc1   \n",
       "2       E00000005  E09000001  012372dd-5e03-43c3-a915-b697d02f88e2   \n",
       "3       E00000007  E09000001  b61eb464-9c5b-4f0e-8f78-000ea938ee78   \n",
       "4       E00000010  E09000001  efc37450-7064-4f5e-bedd-433bf4de1167   \n",
       "...           ...        ...                                   ...   \n",
       "181403  W00010261  W06000011  c1051d13-4fa6-48d8-8f32-5020938ce7d6   \n",
       "181404  W00010262  W06000011  ea1fef0a-138d-4035-a401-48c459abbca0   \n",
       "181405  W00010263  W06000011  38819942-d3db-47e1-a85d-eec4d7a091e4   \n",
       "181406  W00010264  W06000011  61fbb0fb-10bf-4000-a669-7114865776ff   \n",
       "181407  W00010265  W06000011  999facfa-dce5-42bf-82fe-c1f04221661e   \n",
       "\n",
       "                                                 geometry  air_quality  \n",
       "0       POLYGON ((532303.492 181814.110, 532213.378 18...    27.501372  \n",
       "1       POLYGON ((532180.131 181763.020, 532155.909 18...    27.501372  \n",
       "2       POLYGON ((532124.321 181682.675, 532127.299 18...    27.501372  \n",
       "3       POLYGON ((532124.321 181682.675, 532201.292 18...    27.545142  \n",
       "4       POLYGON ((532071.302 182159.586, 532127.958 18...    27.587650  \n",
       "...                                                   ...          ...  \n",
       "181403  POLYGON ((262156.208 196600.223, 262074.703 19...    13.828992  \n",
       "181404  POLYGON ((263241.217 197440.210, 263271.904 19...    13.670047  \n",
       "181405  POLYGON ((262156.208 196600.223, 262205.269 19...    14.125627  \n",
       "181406  POLYGON ((268829.001 198038.000, 268708.179 19...    14.219191  \n",
       "181407  POLYGON ((266130.758 192630.558, 265987.755 19...    14.927127  \n",
       "\n",
       "[181408 rows x 5 columns]"
      ]
     },
     "execution_count": 29,
     "metadata": {},
     "output_type": "execute_result"
    }
   ],
   "source": [
    "oa"
   ]
  },
  {
   "cell_type": "code",
   "execution_count": 30,
   "id": "51740583-9d5c-4309-85af-103a26fffcf3",
   "metadata": {
    "tags": []
   },
   "outputs": [],
   "source": [
    "oa = oa.merge(price_per_oa, left_on=\"OA11CD\", right_on=\"oa11\", how=\"left\")"
   ]
  },
  {
   "cell_type": "code",
   "execution_count": 32,
   "id": "b9808951-c57c-4ab9-a2ef-8e3a8f6cd33c",
   "metadata": {
    "tags": []
   },
   "outputs": [],
   "source": [
    "oa = oa.drop(columns=\"oa11\").rename(columns={\"priceper\": \"house_price\"})"
   ]
  },
  {
   "cell_type": "code",
   "execution_count": 36,
   "id": "bbf90e1e-47d4-4eb9-97ab-7f3dd789d9d6",
   "metadata": {
    "tags": []
   },
   "outputs": [],
   "source": [
    "oa[[\"OA11CD\", \"geometry\", \"air_quality\", \"house_price\"]].to_parquet(f\"{data_folder}/processed/oa_data_england.parquet\")"
   ]
  },
  {
   "cell_type": "code",
   "execution_count": null,
   "id": "4b6a91db-435e-4514-a706-7ea6963e92e3",
   "metadata": {},
   "outputs": [],
   "source": []
  },
  {
   "cell_type": "markdown",
   "id": "f4d04d92-6c9f-4529-8543-6faf7aca2418",
   "metadata": {},
   "source": [
    "## Explanatory variables\n",
    "\n",
    "We also want to have all our explanatory variables linked to the OA geometries.\n",
    "\n",
    "### Population estimates\n",
    "\n",
    "ONS population estimates are reported on the OA level and can be merged.\n",
    "\n",
    "Read the file processed in the Urban Grammar project."
   ]
  },
  {
   "cell_type": "code",
   "execution_count": 41,
   "id": "28ccbe8a-04fa-4dab-9b81-64bb4be5e426",
   "metadata": {
    "tags": []
   },
   "outputs": [],
   "source": [
    "pop = pd.read_parquet(f\"{data_folder}/processed/population.parquet\")"
   ]
  },
  {
   "cell_type": "markdown",
   "id": "1f03b9d5-5ce8-4e31-9c27-91ad51da7250",
   "metadata": {},
   "source": [
    "Attribute join."
   ]
  },
  {
   "cell_type": "code",
   "execution_count": 43,
   "id": "6a3cd4b8-fe5b-431e-98ac-3f0276f3a1ed",
   "metadata": {
    "tags": []
   },
   "outputs": [],
   "source": [
    "oa = oa.merge(pop, left_on=\"OA11CD\", right_on=\"code\", how=\"left\")"
   ]
  },
  {
   "cell_type": "code",
   "execution_count": 47,
   "id": "e9f10aed-cf9c-4900-9187-6bdfdf7e48be",
   "metadata": {
    "tags": []
   },
   "outputs": [],
   "source": [
    "oa = oa.drop(columns=[\"code\"])"
   ]
  },
  {
   "cell_type": "markdown",
   "id": "fb1b0429-8467-49bb-947e-f380b5f8231b",
   "metadata": {},
   "source": [
    "### Workplace population\n",
    "\n",
    "Workplace population is reported on Workplace Zones and needs to be interpolated to OA. We use the preprocessed data from the Urban Grammar project. "
   ]
  },
  {
   "cell_type": "code",
   "execution_count": 49,
   "id": "fcfca92c-6865-4bc1-a90c-ac74502ed01f",
   "metadata": {
    "tags": []
   },
   "outputs": [],
   "source": [
    "wp = gpd.read_parquet(f\"{data_folder}/raw/workplace_population/workplace_by_industry_gb.pq\")"
   ]
  },
  {
   "cell_type": "code",
   "execution_count": 50,
   "id": "e9dfe25b-1a87-4bf4-85d9-7dd2c2a67cc2",
   "metadata": {
    "tags": []
   },
   "outputs": [
    {
     "name": "stderr",
     "output_type": "stream",
     "text": [
      "/Users/martin/mambaforge/envs/demoland/lib/python3.11/site-packages/pygeos/set_operations.py:129: RuntimeWarning: invalid value encountered in intersection\n",
      "  return lib.intersection(a, b, **kwargs)\n"
     ]
    },
    {
     "name": "stdout",
     "output_type": "stream",
     "text": [
      "CPU times: user 31.5 s, sys: 351 ms, total: 31.9 s\n",
      "Wall time: 32 s\n"
     ]
    }
   ],
   "source": [
    "%%time\n",
    "wp_interpolated = tobler.area_weighted.area_interpolate(wp, oa, extensive_variables=[\n",
    "    'A, B, D, E. Agriculture, energy and water',\n",
    "    'C. Manufacturing', 'F. Construction',\n",
    "    'G, I. Distribution, hotels and restaurants',\n",
    "    'H, J. Transport and communication',\n",
    "    'K, L, M, N. Financial, real estate, professional and administrative activities',\n",
    "    'O,P,Q. Public administration, education and health',\n",
    "    'R, S, T, U. Other'\n",
    "])"
   ]
  },
  {
   "cell_type": "code",
   "execution_count": 52,
   "id": "a26c4f40-451a-46b5-9f22-8d3d97f2f50b",
   "metadata": {
    "tags": []
   },
   "outputs": [],
   "source": [
    "oa[[\n",
    "    'A, B, D, E. Agriculture, energy and water',\n",
    "    'C. Manufacturing', 'F. Construction',\n",
    "    'G, I. Distribution, hotels and restaurants',\n",
    "    'H, J. Transport and communication',\n",
    "    'K, L, M, N. Financial, real estate, professional and administrative activities',\n",
    "    'O,P,Q. Public administration, education and health',\n",
    "    'R, S, T, U. Other'\n",
    "]] = wp_interpolated.drop(columns=\"geometry\").values"
   ]
  },
  {
   "cell_type": "code",
   "execution_count": 55,
   "id": "5151763d-6a6f-4d19-a411-d30135a2f561",
   "metadata": {
    "tags": []
   },
   "outputs": [],
   "source": [
    "oa = oa.drop(columns=[\"LAD11CD\", \"GlobalID\"])"
   ]
  },
  {
   "cell_type": "code",
   "execution_count": 56,
   "id": "db792857-b5ea-43d8-b082-f08262a089b0",
   "metadata": {
    "tags": []
   },
   "outputs": [],
   "source": [
    "oa.to_parquet(f\"{data_folder}/processed/oa_data_england.parquet\")"
   ]
  },
  {
   "cell_type": "markdown",
   "id": "709a6aa0-af5b-4228-abfe-d4bd4a054fb5",
   "metadata": {},
   "source": [
    "### Land cover (CORINE)\n",
    "\n",
    "CORINE is shipped as custom polygons. We use the data downloaded for the Urban Grammar project."
   ]
  },
  {
   "cell_type": "code",
   "execution_count": 57,
   "id": "4504f75b-d4cf-4ed3-8e18-d3f3c04e7ad5",
   "metadata": {
    "tags": []
   },
   "outputs": [],
   "source": [
    "corine = gpd.read_parquet(f\"{data_folder}/raw/land_cover/corine_gb.pq\")"
   ]
  },
  {
   "cell_type": "code",
   "execution_count": 59,
   "id": "2f2b97db-e6ef-46a3-990f-9f35732f03f7",
   "metadata": {
    "tags": []
   },
   "outputs": [
    {
     "name": "stderr",
     "output_type": "stream",
     "text": [
      "/Users/martin/mambaforge/envs/demoland/lib/python3.11/site-packages/pygeos/set_operations.py:129: RuntimeWarning: invalid value encountered in intersection\n",
      "  return lib.intersection(a, b, **kwargs)\n"
     ]
    },
    {
     "name": "stdout",
     "output_type": "stream",
     "text": [
      "CPU times: user 22min 56s, sys: 5.49 s, total: 23min 1s\n",
      "Wall time: 23min 4s\n"
     ]
    }
   ],
   "source": [
    "%%time\n",
    "corine_interpolated = tobler.area_weighted.area_interpolate(corine, oa, categorical_variables=[\"Code_18\"])"
   ]
  },
  {
   "cell_type": "code",
   "execution_count": 60,
   "id": "8805aec6-28fc-4222-9e79-640a5ee6b163",
   "metadata": {
    "tags": []
   },
   "outputs": [],
   "source": [
    "corine_names = {\n",
    "    'Code_18_124': 'Land cover [Airports]',\n",
    "    'Code_18_211': 'Land cover [Non-irrigated arable land]',\n",
    "    'Code_18_121': 'Land cover [Industrial or commercial units]',\n",
    "    'Code_18_421': 'Land cover [Salt marshes]',\n",
    "    'Code_18_522': 'Land cover [Estuaries]',\n",
    "    'Code_18_142': 'Land cover [Sport and leisure facilities]',\n",
    "    'Code_18_141': 'Land cover [Green urban areas]',\n",
    "    'Code_18_112': 'Land cover [Discontinuous urban fabric]',\n",
    "    'Code_18_231': 'Land cover [Pastures]',\n",
    "    'Code_18_311': 'Land cover [Broad-leaved forest]',\n",
    "    'Code_18_131': 'Land cover [Mineral extraction sites]',\n",
    "    'Code_18_123': 'Land cover [Port areas]',\n",
    "    'Code_18_122': 'Land cover [Road and rail networks and associated land]',\n",
    "    'Code_18_512': 'Land cover [Water bodies]',\n",
    "    'Code_18_243': 'Land cover [Land principally occupied by agriculture, with significant areas of natural vegetation]',\n",
    "    'Code_18_313': 'Land cover [Mixed forest]',\n",
    "    'Code_18_412': 'Land cover [Peat bogs]',\n",
    "    'Code_18_321': 'Land cover [Natural grasslands]',\n",
    "    'Code_18_322': 'Land cover [Moors and heathland]',\n",
    "    'Code_18_324': 'Land cover [Transitional woodland-shrub]',\n",
    "    'Code_18_111': 'Land cover [Continuous urban fabric]',\n",
    "    'Code_18_423': 'Land cover [Intertidal flats]',\n",
    "    'Code_18_523': 'Land cover [Sea and ocean]',\n",
    "    'Code_18_312': 'Land cover [Coniferous forest]',\n",
    "    'Code_18_133': 'Land cover [Construction sites]',\n",
    "    'Code_18_333': 'Land cover [Sparsely vegetated areas]',\n",
    "    'Code_18_332': 'Land cover [Bare rocks]',\n",
    "    'Code_18_411': 'Land cover [Inland marshes]',\n",
    "    'Code_18_132': 'Land cover [Dump sites]',\n",
    "    'Code_18_222': 'Land cover [Fruit trees and berry plantations]',\n",
    "    'Code_18_242': 'Land cover [Complex cultivation patterns]',\n",
    "    'Code_18_331': 'Land cover [Beaches, dunes, sands]',\n",
    "    'Code_18_511': 'Land cover [Water courses]',\n",
    "    'Code_18_334': 'Land cover [Burnt areas]',\n",
    "    'Code_18_244': 'Land cover [Agro-forestry areas]',\n",
    "    'Code_18_521': 'Land cover [Coastal lagoons]',\n",
    "}\n",
    "\n",
    "corine_interpolated.columns = corine_interpolated.columns.map(corine_names)"
   ]
  },
  {
   "cell_type": "markdown",
   "id": "4ee4a06a-1858-4c28-ac15-c896b5b83b36",
   "metadata": {},
   "source": [
    "Assign the subset of classes that may be interesting for our purposes to OA dataframe."
   ]
  },
  {
   "cell_type": "code",
   "execution_count": 61,
   "id": "e01c1d3d-604a-41d2-a1d9-aa67d01f2e7e",
   "metadata": {
    "tags": []
   },
   "outputs": [],
   "source": [
    "interesting = [\n",
    "    \"Land cover [Discontinuous urban fabric]\",\n",
    "    \"Land cover [Continuous urban fabric]\",\n",
    "    \"Land cover [Non-irrigated arable land]\",\n",
    "    \"Land cover [Industrial or commercial units]\",\n",
    "    \"Land cover [Green urban areas]\",\n",
    "    \"Land cover [Pastures]\",\n",
    "    \"Land cover [Sport and leisure facilities]\",\n",
    "]\n",
    "oa[interesting] = corine_interpolated[interesting].values"
   ]
  },
  {
   "cell_type": "code",
   "execution_count": 63,
   "id": "46044d33-65f4-414f-a2eb-110b107d396c",
   "metadata": {
    "tags": []
   },
   "outputs": [],
   "source": [
    "oa.to_parquet(f\"{data_folder}/processed/oa_data_england.parquet\")"
   ]
  },
  {
   "cell_type": "markdown",
   "id": "849bed37-5813-40d0-b6ac-e95fbf234ba0",
   "metadata": {},
   "source": [
    "## Morphometrics\n",
    "\n",
    "Getting the file pre-processed based on the Urban Grammar"
   ]
  },
  {
   "cell_type": "code",
   "execution_count": null,
   "id": "51159b71-0324-4f91-860c-953c7106d996",
   "metadata": {},
   "outputs": [],
   "source": [
    "oa_morpho = pd.read_parquet(f\"{data_folder}/processed/morphometrics_oa.parquet\")\n",
    "oa = oa.merge(oa_morpho, left_on=\"OA11CD\", right_index=True)"
   ]
  },
  {
   "cell_type": "code",
   "execution_count": 63,
   "id": "3389b2cf-9423-4e72-acf4-7f70281f1f62",
   "metadata": {
    "tags": []
   },
   "outputs": [],
   "source": [
    "oa.to_parquet(f\"{data_folder}/processed/oa_data_england.parquet\")"
   ]
  },
  {
   "cell_type": "markdown",
   "id": "028fbf1d-9531-4bb1-adc5-9cdac00f1394",
   "metadata": {},
   "source": [
    "## Cleanup\n",
    "\n",
    "Drop unusable rows"
   ]
  },
  {
   "cell_type": "code",
   "execution_count": 65,
   "id": "f6a4bd2d-bc7b-4dc4-a57a-94df16d45792",
   "metadata": {
    "tags": []
   },
   "outputs": [],
   "source": [
    "oa = gpd.read_parquet(f\"{data_folder}/processed/oa_data_england.parquet\")"
   ]
  },
  {
   "cell_type": "code",
   "execution_count": 68,
   "id": "4f0309a9-cabb-4f7a-be97-60c5805aa54f",
   "metadata": {
    "tags": []
   },
   "outputs": [],
   "source": [
    "to_drop = [\n",
    "    \"sdbPer\",\n",
    "    \"ssbElo\",\n",
    "    \"stcOri\",\n",
    "    \"sdcLAL\",\n",
    "    \"mdcAre\",\n",
    "    \"ltcAre\",\n",
    "    \"ltcWRE\",\n",
    "    \"mtdMDi\",\n",
    "    \"lcdMes\",\n",
    "    \"lddNDe\",\n",
    "    \"sddAre\",\n",
    "    \"mdsAre\",\n",
    "    \"ldsAre\",\n",
    "    \"lisCel\",\n",
    "    \"ldePer\",\n",
    "    \"lseCWA\",\n",
    "]\n",
    "\n",
    "oa = oa.drop(columns=to_drop)"
   ]
  },
  {
   "cell_type": "code",
   "execution_count": 70,
   "id": "df5e65f4-0eac-42b4-ac14-47da75a3dff9",
   "metadata": {
    "tags": []
   },
   "outputs": [],
   "source": [
    "oa_clean = oa.dropna()"
   ]
  },
  {
   "cell_type": "markdown",
   "id": "f32736f8-fbe0-491e-b0b9-f7143aca9bee",
   "metadata": {},
   "source": [
    "Remove London data"
   ]
  },
  {
   "cell_type": "code",
   "execution_count": 74,
   "id": "a0c874b7-61bd-4323-abd9-8eb6fedc12bd",
   "metadata": {
    "tags": []
   },
   "outputs": [],
   "source": [
    "london = gpd.read_file(f\"{data_folder}/raw/london/OA_2011_London_gen_MHW.shp\")"
   ]
  },
  {
   "cell_type": "code",
   "execution_count": 80,
   "id": "dc5c02f8-03d2-45b7-839c-14ee4f2ad487",
   "metadata": {
    "tags": []
   },
   "outputs": [],
   "source": [
    "oa_clean = oa_clean[~oa_clean.OA11CD.isin(london.OA11CD)]"
   ]
  },
  {
   "cell_type": "code",
   "execution_count": 81,
   "id": "2f2b8fe8-429a-4a12-b677-16eecf1bcaf5",
   "metadata": {
    "tags": []
   },
   "outputs": [],
   "source": [
    "oa_clean.set_index(\"OA11CD\").to_parquet(f\"{data_folder}/processed/oa_data_england.parquet\")"
   ]
  },
  {
   "cell_type": "code",
   "execution_count": null,
   "id": "f46dcd93-7a40-413d-9923-1912414d57db",
   "metadata": {},
   "outputs": [],
   "source": []
  }
 ],
 "metadata": {
  "kernelspec": {
   "display_name": "Python 3 (ipykernel)",
   "language": "python",
   "name": "python3"
  },
  "language_info": {
   "codemirror_mode": {
    "name": "ipython",
    "version": 3
   },
   "file_extension": ".py",
   "mimetype": "text/x-python",
   "name": "python",
   "nbconvert_exporter": "python",
   "pygments_lexer": "ipython3",
   "version": "3.11.0"
  }
 },
 "nbformat": 4,
 "nbformat_minor": 5
}
