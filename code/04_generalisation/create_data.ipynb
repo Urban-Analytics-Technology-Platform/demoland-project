{
 "cells": [
  {
   "cell_type": "markdown",
   "id": "dbfa2951-ee8a-4671-bd58-41a4d3e78ad6",
   "metadata": {},
   "source": [
    "# Test spatial units in the modelling\n",
    "\n",
    "This tests performance of different core spatial units (grids, OA, LSOA) in the modelling to figure out the best unit to be used internally. \n",
    "\n",
    "Units to compare:\n",
    "\n",
    "- 2011 output areas (the data we have are linked to 2011 census, not 2021)\n",
    "- square grid 100m (mimicking OSGB but not being aligned for simplicity of this exercise)\n",
    "- H3 grid at resolution 9\n",
    "- Enclosed tessellation cells\n",
    "\n",
    "Targets to compare:\n",
    "\n",
    "- Air pollution\n",
    "- House price\n",
    "\n",
    "Geographic locations to compare:\n",
    "\n",
    "- Leeds (chunk 40)\n",
    "- Newcastle (chunk 26)\n",
    "\n",
    "The final models shall be trained on the England-wide data. This trains only on each AOI."
   ]
  },
  {
   "cell_type": "code",
   "execution_count": 3,
   "id": "28c8045d-3962-4413-826e-a3d6985979cc",
   "metadata": {
    "tags": []
   },
   "outputs": [],
   "source": [
    "import pandas as pd\n",
    "import geopandas as gpd\n",
    "import xarray as xr\n",
    "import tobler\n",
    "import libpysal\n",
    "import numpy as np\n",
    "from itertools import product\n",
    "import esda\n",
    "\n",
    "from sklearn.ensemble import HistGradientBoostingRegressor\n",
    "from sklearn import metrics\n",
    "from tobler.util import h3fy"
   ]
  },
  {
   "cell_type": "code",
   "execution_count": 4,
   "id": "872d1ec6-0a52-4220-9406-01204baee367",
   "metadata": {
    "tags": []
   },
   "outputs": [],
   "source": [
    "data_folder = \"../../../demoland_data\""
   ]
  },
  {
   "cell_type": "code",
   "execution_count": 5,
   "id": "8705ba0e-cdb2-44fa-9726-81b0d46ba1a5",
   "metadata": {
    "tags": []
   },
   "outputs": [],
   "source": [
    "chunks = gpd.read_parquet(f\"{data_folder}/raw/urban_morpho/local_auth_chunks.pq\")"
   ]
  },
  {
   "cell_type": "markdown",
   "id": "250eac73-8875-4482-a49b-7b0dff629bb9",
   "metadata": {},
   "source": [
    "- get air\n",
    "- for chunk\n",
    "    - for geom\n",
    "        - generate/load geoms\n",
    "        - interpolate air\n",
    "        - interpolate price\n",
    "        - interpolate explanatory\n",
    "        - save table\n",
    "        - for weights\n",
    "            - create weights\n",
    "            - get lags\n",
    "            - fit the model\n",
    "            - save sklearn model\n",
    "            - save demoland model\n",
    "            - save some performance data"
   ]
  },
  {
   "cell_type": "markdown",
   "id": "56c1e5f0-cb13-46fa-9f82-0aae30054552",
   "metadata": {},
   "source": [
    "## Get Air Pollution data"
   ]
  },
  {
   "cell_type": "code",
   "execution_count": 6,
   "id": "e9a1e901-f63f-4f89-a4f8-cb944658a586",
   "metadata": {
    "tags": []
   },
   "outputs": [],
   "source": [
    "pm10_21 = (\n",
    "    pd.read_csv(\n",
    "        \"https://uk-air.defra.gov.uk/datastore/pcm/mappm102021g.csv\",\n",
    "        header=5,\n",
    "        na_values=[\"MISSING\"],\n",
    "    )\n",
    "    .set_index([\"x\", \"y\"])\n",
    "    .drop(columns=\"gridcode\")\n",
    "    .to_xarray()\n",
    ")\n",
    "pm25_21 = (\n",
    "    pd.read_csv(\n",
    "        \"https://uk-air.defra.gov.uk/datastore/pcm/mappm252021g.csv\",\n",
    "        header=5,\n",
    "        na_values=[\"MISSING\"],\n",
    "    )\n",
    "    .set_index([\"x\", \"y\"])\n",
    "    .drop(columns=\"gridcode\")\n",
    "    .to_xarray()\n",
    ")\n",
    "no2_21 = (\n",
    "    pd.read_csv(\n",
    "        \"https://uk-air.defra.gov.uk/datastore/pcm/mapno22021.csv\",\n",
    "        header=5,\n",
    "        na_values=[\"MISSING\"],\n",
    "    )\n",
    "    .set_index([\"x\", \"y\"])\n",
    "    .drop(columns=\"gridcode\")\n",
    "    .to_xarray()\n",
    ")\n",
    "so2_21 = (\n",
    "    pd.read_csv(\n",
    "        \"https://uk-air.defra.gov.uk/datastore/pcm/mapso22021.csv\",\n",
    "        header=5,\n",
    "        na_values=[\"MISSING\"],\n",
    "    )\n",
    "    .set_index([\"x\", \"y\"])\n",
    "    .drop(columns=\"gridcode\")\n",
    "    .to_xarray()\n",
    ")\n",
    "pollutants_2021 = xr.merge([pm10_21, pm25_21, no2_21, so2_21])\n",
    "aqi = (\n",
    "    pollutants_2021.pm252021g\n",
    "    + pollutants_2021.pm102021g / 2\n",
    "    + pollutants_2021.no22021 / 4\n",
    "    + pollutants_2021.so22021 / 10\n",
    ")\n",
    "pollutants_2021 = pollutants_2021.assign(aqi=aqi)"
   ]
  },
  {
   "cell_type": "markdown",
   "id": "84a75ffa-4484-4d31-bbae-add25fe74976",
   "metadata": {},
   "source": [
    "## Get House Price data"
   ]
  },
  {
   "cell_type": "code",
   "execution_count": 7,
   "id": "bc7b0176-035d-45bf-94e1-94e8ed9065ed",
   "metadata": {
    "tags": []
   },
   "outputs": [],
   "source": [
    "house_prices = gpd.read_parquet(f\"{data_folder}/processed/house_prices/price_per_sqm_england.parquet\")"
   ]
  },
  {
   "cell_type": "markdown",
   "id": "a5d6398c-676f-4137-bc3e-e932253d90a5",
   "metadata": {},
   "source": [
    "## Get population data"
   ]
  },
  {
   "cell_type": "code",
   "execution_count": 8,
   "id": "b7fdd69a-3bc8-476b-9a2d-636cd55b49ae",
   "metadata": {
    "tags": []
   },
   "outputs": [],
   "source": [
    "pop = gpd.read_parquet(f\"{data_folder}/processed/gb_population_estimates.pq\")"
   ]
  },
  {
   "cell_type": "markdown",
   "id": "a9fa38a0-34e8-4a6f-bf4d-d4751b301bae",
   "metadata": {},
   "source": [
    "## Get workplace data"
   ]
  },
  {
   "cell_type": "code",
   "execution_count": 9,
   "id": "7dbd4371-cd39-426b-b3a3-4214a66f7ad3",
   "metadata": {
    "tags": []
   },
   "outputs": [],
   "source": [
    "wp = gpd.read_parquet(\n",
    "    f\"{data_folder}/raw/workplace_population/workplace_by_industry_gb.pq\"\n",
    ")"
   ]
  },
  {
   "cell_type": "markdown",
   "id": "7e307521-92fd-4d01-be12-a3d5c5cc4c99",
   "metadata": {},
   "source": [
    "## Get CORINE data"
   ]
  },
  {
   "cell_type": "code",
   "execution_count": 10,
   "id": "0f4fd505-6641-4a5a-a885-5d4fe7955235",
   "metadata": {
    "tags": []
   },
   "outputs": [],
   "source": [
    "corine = gpd.read_parquet(f\"{data_folder}/raw/land_cover/corine_gb.pq\")"
   ]
  },
  {
   "cell_type": "code",
   "execution_count": 11,
   "id": "317bafbe-7eeb-4396-b786-97b052a1c5b0",
   "metadata": {
    "tags": []
   },
   "outputs": [],
   "source": [
    "corine_names = {\n",
    "    \"Code_18_124\": \"Land cover [Airports]\",\n",
    "    \"Code_18_211\": \"Land cover [Non-irrigated arable land]\",\n",
    "    \"Code_18_121\": \"Land cover [Industrial or commercial units]\",\n",
    "    \"Code_18_421\": \"Land cover [Salt marshes]\",\n",
    "    \"Code_18_522\": \"Land cover [Estuaries]\",\n",
    "    \"Code_18_142\": \"Land cover [Sport and leisure facilities]\",\n",
    "    \"Code_18_141\": \"Land cover [Green urban areas]\",\n",
    "    \"Code_18_112\": \"Land cover [Discontinuous urban fabric]\",\n",
    "    \"Code_18_231\": \"Land cover [Pastures]\",\n",
    "    \"Code_18_311\": \"Land cover [Broad-leaved forest]\",\n",
    "    \"Code_18_131\": \"Land cover [Mineral extraction sites]\",\n",
    "    \"Code_18_123\": \"Land cover [Port areas]\",\n",
    "    \"Code_18_122\": \"Land cover [Road and rail networks and associated land]\",\n",
    "    \"Code_18_512\": \"Land cover [Water bodies]\",\n",
    "    \"Code_18_243\": \"Land cover [Land principally occupied by agriculture, with significant areas of natural vegetation]\",\n",
    "    \"Code_18_313\": \"Land cover [Mixed forest]\",\n",
    "    \"Code_18_412\": \"Land cover [Peat bogs]\",\n",
    "    \"Code_18_321\": \"Land cover [Natural grasslands]\",\n",
    "    \"Code_18_322\": \"Land cover [Moors and heathland]\",\n",
    "    \"Code_18_324\": \"Land cover [Transitional woodland-shrub]\",\n",
    "    \"Code_18_111\": \"Land cover [Continuous urban fabric]\",\n",
    "    \"Code_18_423\": \"Land cover [Intertidal flats]\",\n",
    "    \"Code_18_523\": \"Land cover [Sea and ocean]\",\n",
    "    \"Code_18_312\": \"Land cover [Coniferous forest]\",\n",
    "    \"Code_18_133\": \"Land cover [Construction sites]\",\n",
    "    \"Code_18_333\": \"Land cover [Sparsely vegetated areas]\",\n",
    "    \"Code_18_332\": \"Land cover [Bare rocks]\",\n",
    "    \"Code_18_411\": \"Land cover [Inland marshes]\",\n",
    "    \"Code_18_132\": \"Land cover [Dump sites]\",\n",
    "    \"Code_18_222\": \"Land cover [Fruit trees and berry plantations]\",\n",
    "    \"Code_18_242\": \"Land cover [Complex cultivation patterns]\",\n",
    "    \"Code_18_331\": \"Land cover [Beaches, dunes, sands]\",\n",
    "    \"Code_18_511\": \"Land cover [Water courses]\",\n",
    "    \"Code_18_334\": \"Land cover [Burnt areas]\",\n",
    "    \"Code_18_244\": \"Land cover [Agro-forestry areas]\",\n",
    "    \"Code_18_521\": \"Land cover [Coastal lagoons]\",\n",
    "}"
   ]
  },
  {
   "cell_type": "markdown",
   "id": "74ad1a79",
   "metadata": {},
   "source": [
    "Evaluation script"
   ]
  },
  {
   "cell_type": "markdown",
   "id": "5a8ae977-bd80-4309-a9c4-225633125c2d",
   "metadata": {},
   "source": [
    "## Data\n",
    "\n",
    "#### Prep data"
   ]
  },
  {
   "cell_type": "code",
   "execution_count": 12,
   "id": "3f6d1fe7",
   "metadata": {
    "tags": []
   },
   "outputs": [],
   "source": [
    "opt_id = 26\n",
    "opt = \"newcastle\"\n",
    "\n",
    "chunk = chunks.loc[[opt_id]]"
   ]
  },
  {
   "cell_type": "markdown",
   "id": "616e5f6e",
   "metadata": {},
   "source": [
    "Prepare Air pollution data"
   ]
  },
  {
   "cell_type": "code",
   "execution_count": 13,
   "id": "75e6aacc",
   "metadata": {
    "tags": []
   },
   "outputs": [],
   "source": [
    "bds = chunk.buffer(1000).total_bounds\n",
    "pollutants_aoi = pollutants_2021.sel(\n",
    "    x=slice(bds[0], bds[2]), y=slice(bds[1], bds[3])\n",
    ")\n",
    "pollutants_aoi_df = pollutants_aoi.to_dataframe().reset_index()\n",
    "pollutants_aoi_df = gpd.GeoDataFrame(\n",
    "    pollutants_aoi_df,\n",
    "    geometry=gpd.points_from_xy(\n",
    "        pollutants_aoi_df.x, pollutants_aoi_df.y, crs=27700\n",
    "    ).buffer(500, cap_style=3),\n",
    ")"
   ]
  },
  {
   "cell_type": "markdown",
   "id": "04e41d0e",
   "metadata": {},
   "source": [
    "Get CV splits"
   ]
  },
  {
   "cell_type": "code",
   "execution_count": 14,
   "id": "3e80928a",
   "metadata": {
    "tags": []
   },
   "outputs": [],
   "source": [
    "cv_ids = np.tile(np.arange(5), pollutants_aoi_df.shape[0]//5 + 1)[:pollutants_aoi_df.shape[0]]\n",
    "rng = np.random.default_rng()\n",
    "rng.shuffle(cv_ids)\n",
    "pollutants_aoi_df[\"split\"] = cv_ids"
   ]
  },
  {
   "cell_type": "markdown",
   "id": "a2af2271",
   "metadata": {},
   "source": [
    "Prepare house price data"
   ]
  },
  {
   "cell_type": "code",
   "execution_count": 15,
   "id": "f1805d3a",
   "metadata": {
    "tags": []
   },
   "outputs": [],
   "source": [
    "house_prices_aoi = house_prices.iloc[house_prices.sindex.query(chunk.geometry.item())]"
   ]
  },
  {
   "cell_type": "markdown",
   "id": "3a7f0e05",
   "metadata": {},
   "source": [
    "Prepare population data"
   ]
  },
  {
   "cell_type": "code",
   "execution_count": 16,
   "id": "fc8ffc20",
   "metadata": {
    "tags": []
   },
   "outputs": [],
   "source": [
    "pop_aoi = pop[pop.code.isin(house_prices_aoi.code)]"
   ]
  },
  {
   "cell_type": "markdown",
   "id": "69f36a61",
   "metadata": {},
   "source": [
    "Link population and house price (both are on OA)."
   ]
  },
  {
   "cell_type": "code",
   "execution_count": 17,
   "id": "f121ab98",
   "metadata": {
    "tags": []
   },
   "outputs": [],
   "source": [
    "pop_hp = house_prices_aoi.merge(pop_aoi[[\"code\", \"population\"]], on=\"code\")"
   ]
  },
  {
   "cell_type": "markdown",
   "id": "05cd56ff",
   "metadata": {},
   "source": [
    " Prepare workplace pop data"
   ]
  },
  {
   "cell_type": "code",
   "execution_count": 18,
   "id": "5ea3f290",
   "metadata": {
    "tags": []
   },
   "outputs": [],
   "source": [
    "wp_aoi = wp.iloc[wp.sindex.query(chunk.geometry.item())]"
   ]
  },
  {
   "cell_type": "markdown",
   "id": "84ff417f",
   "metadata": {},
   "source": [
    "Prepare CORINE data"
   ]
  },
  {
   "cell_type": "code",
   "execution_count": 19,
   "id": "9385fdf3",
   "metadata": {
    "tags": []
   },
   "outputs": [],
   "source": [
    "corine_aoi = corine.iloc[corine.sindex.query(chunk.geometry.item())]"
   ]
  },
  {
   "cell_type": "markdown",
   "id": "dc2e8e7b",
   "metadata": {},
   "source": [
    "Get morphometric data"
   ]
  },
  {
   "cell_type": "code",
   "execution_count": 20,
   "id": "72ea9f0c",
   "metadata": {
    "tags": []
   },
   "outputs": [],
   "source": [
    "data = gpd.read_parquet(f\"{data_folder}/raw/urban_morpho/cells_{opt_id}.pq\")"
   ]
  },
  {
   "cell_type": "markdown",
   "id": "cae9f052",
   "metadata": {},
   "source": [
    "### H3\n",
    "Create geometries"
   ]
  },
  {
   "cell_type": "code",
   "execution_count": 21,
   "id": "5b014423",
   "metadata": {
    "tags": []
   },
   "outputs": [
    {
     "name": "stderr",
     "output_type": "stream",
     "text": [
      "/home/martin/mambaforge/envs/stable/lib/python3.12/site-packages/pyproj/crs/crs.py:1293: UserWarning: You will likely lose important projection information when converting to a PROJ string from another format. See: https://proj.org/faq.html#what-is-the-best-format-for-describing-coordinate-reference-systems\n",
      "  proj = self._crs.to_proj4(version=version)\n"
     ]
    }
   ],
   "source": [
    "geoms = h3fy(chunk, resolution=9, buffer=False)"
   ]
  },
  {
   "cell_type": "markdown",
   "id": "9ebf3bbb",
   "metadata": {},
   "source": [
    "Interpolate Air Quality"
   ]
  },
  {
   "cell_type": "code",
   "execution_count": 22,
   "id": "acafe6bb",
   "metadata": {
    "tags": []
   },
   "outputs": [
    {
     "name": "stderr",
     "output_type": "stream",
     "text": [
      "/home/martin/mambaforge/envs/stable/lib/python3.12/site-packages/tobler/util/util.py:53: UserWarning: nan values in variable: aqi, replacing with 0\n",
      "  warn(f\"nan values in variable: {column}, replacing with 0\")\n"
     ]
    }
   ],
   "source": [
    "interp = tobler.area_weighted.area_interpolate(pollutants_aoi_df, geoms, intensive_variables=[\"aqi\"])\n",
    "geoms[\"air_quality_index\"] = interp.aqi.values"
   ]
  },
  {
   "cell_type": "markdown",
   "id": "c5522bef",
   "metadata": {},
   "source": [
    " Interpolate OA data"
   ]
  },
  {
   "cell_type": "code",
   "execution_count": 23,
   "id": "25a321c1",
   "metadata": {
    "tags": []
   },
   "outputs": [],
   "source": [
    "interp_oa = tobler.area_weighted.area_interpolate(\n",
    "    pop_hp,\n",
    "    geoms,\n",
    "    intensive_variables=[\"priceper\"],\n",
    "    extensive_variables=[\"population\"],\n",
    ")\n",
    "geoms[\"house_price_index\"] = interp_oa.priceper.values\n",
    "geoms[\"population\"] = interp_oa.population.values"
   ]
  },
  {
   "cell_type": "markdown",
   "id": "2fe710f2",
   "metadata": {},
   "source": [
    "Interpolate workplace population"
   ]
  },
  {
   "cell_type": "code",
   "execution_count": 24,
   "id": "21f930ea",
   "metadata": {
    "tags": []
   },
   "outputs": [],
   "source": [
    "wp_interpolated = tobler.area_weighted.area_interpolate(\n",
    "    wp_aoi,\n",
    "    geoms,\n",
    "    extensive_variables=[\n",
    "        \"A, B, D, E. Agriculture, energy and water\",\n",
    "        \"C. Manufacturing\",\n",
    "        \"F. Construction\",\n",
    "        \"G, I. Distribution, hotels and restaurants\",\n",
    "        \"H, J. Transport and communication\",\n",
    "        \"K, L, M, N. Financial, real estate, professional and administrative activities\",\n",
    "        \"O,P,Q. Public administration, education and health\",\n",
    "        \"R, S, T, U. Other\",\n",
    "    ],\n",
    ")\n",
    "\n",
    "geoms[\n",
    "    [\n",
    "        \"A, B, D, E. Agriculture, energy and water\",\n",
    "        \"C. Manufacturing\",\n",
    "        \"F. Construction\",\n",
    "        \"G, I. Distribution, hotels and restaurants\",\n",
    "        \"H, J. Transport and communication\",\n",
    "        \"K, L, M, N. Financial, real estate, professional and administrative activities\",\n",
    "        \"O,P,Q. Public administration, education and health\",\n",
    "        \"R, S, T, U. Other\",\n",
    "    ]\n",
    "] = wp_interpolated.drop(columns=\"geometry\").values"
   ]
  },
  {
   "cell_type": "markdown",
   "id": "41f492ab",
   "metadata": {},
   "source": [
    "Interpolate CORINE"
   ]
  },
  {
   "cell_type": "code",
   "execution_count": 25,
   "id": "e8811af5",
   "metadata": {
    "tags": []
   },
   "outputs": [],
   "source": [
    "corine_interpolated = tobler.area_weighted.area_interpolate(\n",
    "    corine_aoi, geoms, categorical_variables=[\"Code_18\"]\n",
    ")\n",
    "corine_interpolated.columns = corine_interpolated.columns.map(corine_names)\n",
    "interesting = [\n",
    "    \"Land cover [Discontinuous urban fabric]\",\n",
    "    \"Land cover [Continuous urban fabric]\",\n",
    "    \"Land cover [Non-irrigated arable land]\",\n",
    "    \"Land cover [Industrial or commercial units]\",\n",
    "    \"Land cover [Green urban areas]\",\n",
    "    \"Land cover [Pastures]\",\n",
    "    \"Land cover [Sport and leisure facilities]\",\n",
    "]\n",
    "geoms[interesting] = corine_interpolated[interesting].values"
   ]
  },
  {
   "cell_type": "markdown",
   "id": "ff62d9dc",
   "metadata": {},
   "source": [
    "Interpolate morphometrics"
   ]
  },
  {
   "cell_type": "code",
   "execution_count": 26,
   "id": "554b3bd1",
   "metadata": {
    "tags": []
   },
   "outputs": [
    {
     "name": "stderr",
     "output_type": "stream",
     "text": [
      "/home/martin/mambaforge/envs/stable/lib/python3.12/site-packages/tobler/util/util.py:53: UserWarning: nan values in variable: sdbAre, replacing with 0\n",
      "  warn(f\"nan values in variable: {column}, replacing with 0\")\n",
      "/home/martin/mambaforge/envs/stable/lib/python3.12/site-packages/tobler/util/util.py:53: UserWarning: nan values in variable: sdbCoA, replacing with 0\n",
      "  warn(f\"nan values in variable: {column}, replacing with 0\")\n",
      "/home/martin/mambaforge/envs/stable/lib/python3.12/site-packages/tobler/util/util.py:53: UserWarning: nan values in variable: ssbCCo, replacing with 0\n",
      "  warn(f\"nan values in variable: {column}, replacing with 0\")\n",
      "/home/martin/mambaforge/envs/stable/lib/python3.12/site-packages/tobler/util/util.py:53: UserWarning: nan values in variable: ssbCor, replacing with 0\n",
      "  warn(f\"nan values in variable: {column}, replacing with 0\")\n",
      "/home/martin/mambaforge/envs/stable/lib/python3.12/site-packages/tobler/util/util.py:53: UserWarning: nan values in variable: ssbSqu, replacing with 0\n",
      "  warn(f\"nan values in variable: {column}, replacing with 0\")\n",
      "/home/martin/mambaforge/envs/stable/lib/python3.12/site-packages/tobler/util/util.py:53: UserWarning: nan values in variable: ssbERI, replacing with 0\n",
      "  warn(f\"nan values in variable: {column}, replacing with 0\")\n",
      "/home/martin/mambaforge/envs/stable/lib/python3.12/site-packages/tobler/util/util.py:53: UserWarning: nan values in variable: ssbCCM, replacing with 0\n",
      "  warn(f\"nan values in variable: {column}, replacing with 0\")\n",
      "/home/martin/mambaforge/envs/stable/lib/python3.12/site-packages/tobler/util/util.py:53: UserWarning: nan values in variable: ssbCCD, replacing with 0\n",
      "  warn(f\"nan values in variable: {column}, replacing with 0\")\n",
      "/home/martin/mambaforge/envs/stable/lib/python3.12/site-packages/tobler/util/util.py:53: UserWarning: nan values in variable: stbOri, replacing with 0\n",
      "  warn(f\"nan values in variable: {column}, replacing with 0\")\n",
      "/home/martin/mambaforge/envs/stable/lib/python3.12/site-packages/tobler/util/util.py:53: UserWarning: nan values in variable: sicCAR, replacing with 0\n",
      "  warn(f\"nan values in variable: {column}, replacing with 0\")\n",
      "/home/martin/mambaforge/envs/stable/lib/python3.12/site-packages/tobler/util/util.py:53: UserWarning: nan values in variable: stbCeA, replacing with 0\n",
      "  warn(f\"nan values in variable: {column}, replacing with 0\")\n",
      "/home/martin/mambaforge/envs/stable/lib/python3.12/site-packages/tobler/util/util.py:53: UserWarning: nan values in variable: mtbAli, replacing with 0\n",
      "  warn(f\"nan values in variable: {column}, replacing with 0\")\n",
      "/home/martin/mambaforge/envs/stable/lib/python3.12/site-packages/tobler/util/util.py:53: UserWarning: nan values in variable: mtbNDi, replacing with 0\n",
      "  warn(f\"nan values in variable: {column}, replacing with 0\")\n",
      "/home/martin/mambaforge/envs/stable/lib/python3.12/site-packages/tobler/util/util.py:53: UserWarning: nan values in variable: stbSAl, replacing with 0\n",
      "  warn(f\"nan values in variable: {column}, replacing with 0\")\n",
      "/home/martin/mambaforge/envs/stable/lib/python3.12/site-packages/tobler/util/util.py:53: UserWarning: nan values in variable: lieWCe, replacing with 0\n",
      "  warn(f\"nan values in variable: {column}, replacing with 0\")\n"
     ]
    }
   ],
   "source": [
    "chars = data.columns.drop(\n",
    "    [\n",
    "        \"hindex\",\n",
    "        \"tessellation\",\n",
    "        \"buildings\",\n",
    "        \"nodeID\",\n",
    "        \"edgeID_keys\",\n",
    "        \"edgeID_values\",\n",
    "        \"edgeID_primary\",\n",
    "        \"sdbPer\",\n",
    "        \"ssbElo\",\n",
    "        \"stcOri\",\n",
    "        \"sdcLAL\",\n",
    "        \"mdcAre\",\n",
    "        \"ltcAre\",\n",
    "        \"ltcWRE\",\n",
    "        \"mtdMDi\",\n",
    "        \"lcdMes\",\n",
    "        \"lddNDe\",\n",
    "        \"sddAre\",\n",
    "        \"mdsAre\",\n",
    "        \"ldsAre\",\n",
    "        \"lisCel\",\n",
    "        \"ldePer\",\n",
    "        \"lseCWA\",\n",
    "    ]\n",
    ")\n",
    "morhp_interpolated = tobler.area_weighted.area_interpolate(\n",
    "    data, geoms, intensive_variables=chars.tolist()\n",
    ")\n",
    "\n",
    "geoms[morhp_interpolated.columns.drop(\"geometry\")] = morhp_interpolated.drop(\n",
    "    columns=\"geometry\"\n",
    ").values"
   ]
  },
  {
   "cell_type": "markdown",
   "id": "5970c2bb",
   "metadata": {},
   "source": [
    "Get split IDs"
   ]
  },
  {
   "cell_type": "code",
   "execution_count": 27,
   "id": "74ce53f2",
   "metadata": {
    "tags": []
   },
   "outputs": [],
   "source": [
    "geoms_ix, poll_ix = pollutants_aoi_df.sindex.query(geoms.centroid, predicate=\"within\", sort=True)"
   ]
  },
  {
   "cell_type": "code",
   "execution_count": 28,
   "id": "b4e8d7de",
   "metadata": {
    "tags": []
   },
   "outputs": [],
   "source": [
    "geoms[\"split\"] = pollutants_aoi_df[\"split\"].values[poll_ix]"
   ]
  },
  {
   "cell_type": "markdown",
   "id": "f5ed03e4",
   "metadata": {},
   "source": [
    "Save the table"
   ]
  },
  {
   "cell_type": "code",
   "execution_count": 29,
   "id": "28ea8ea3",
   "metadata": {
    "tags": []
   },
   "outputs": [],
   "source": [
    "geoms.to_parquet(f\"{data_folder}/spatial_units_test/tables/h3_{opt}.pq\")"
   ]
  },
  {
   "cell_type": "markdown",
   "id": "fefff76e",
   "metadata": {},
   "source": [
    "### square grid\n",
    "Create geometries"
   ]
  },
  {
   "cell_type": "code",
   "execution_count": 30,
   "id": "c93bda26",
   "metadata": {
    "tags": []
   },
   "outputs": [],
   "source": [
    "coords = np.array(\n",
    "    list(product(\n",
    "        np.arange(bds[0], bds[2], 250),\n",
    "        np.arange(bds[1], bds[3], 250),\n",
    "    ))\n",
    ")\n",
    "points = gpd.GeoSeries.from_xy(coords[:, 0], coords[:, 1], crs=27700)\n",
    "geoms = points.iloc[points.sindex.query(chunk.geometry.item(), predicate=\"contains\")].buffer(100, cap_style=3).to_frame(\"geometry\")"
   ]
  },
  {
   "cell_type": "markdown",
   "id": "8a45de94",
   "metadata": {},
   "source": [
    "Interpolate Air Quality"
   ]
  },
  {
   "cell_type": "code",
   "execution_count": 31,
   "id": "b66b8367",
   "metadata": {
    "tags": []
   },
   "outputs": [
    {
     "name": "stderr",
     "output_type": "stream",
     "text": [
      "/home/martin/mambaforge/envs/stable/lib/python3.12/site-packages/tobler/util/util.py:53: UserWarning: nan values in variable: aqi, replacing with 0\n",
      "  warn(f\"nan values in variable: {column}, replacing with 0\")\n"
     ]
    }
   ],
   "source": [
    "interp = tobler.area_weighted.area_interpolate(pollutants_aoi_df, geoms, intensive_variables=[\"aqi\"])\n",
    "geoms[\"air_quality_index\"] = interp.aqi.values"
   ]
  },
  {
   "cell_type": "markdown",
   "id": "ee2270ca",
   "metadata": {},
   "source": [
    " Interpolate OA data"
   ]
  },
  {
   "cell_type": "code",
   "execution_count": 32,
   "id": "7d9f9813",
   "metadata": {
    "tags": []
   },
   "outputs": [],
   "source": [
    "interp_oa = tobler.area_weighted.area_interpolate(\n",
    "    pop_hp,\n",
    "    geoms,\n",
    "    intensive_variables=[\"priceper\"],\n",
    "    extensive_variables=[\"population\"],\n",
    ")\n",
    "geoms[\"house_price_index\"] = interp_oa.priceper.values\n",
    "geoms[\"population\"] = interp_oa.population.values"
   ]
  },
  {
   "cell_type": "markdown",
   "id": "9b3aed63",
   "metadata": {},
   "source": [
    "Interpolate workplace population"
   ]
  },
  {
   "cell_type": "code",
   "execution_count": 33,
   "id": "096d4c43",
   "metadata": {
    "tags": []
   },
   "outputs": [],
   "source": [
    "wp_interpolated = tobler.area_weighted.area_interpolate(\n",
    "    wp_aoi,\n",
    "    geoms,\n",
    "    extensive_variables=[\n",
    "        \"A, B, D, E. Agriculture, energy and water\",\n",
    "        \"C. Manufacturing\",\n",
    "        \"F. Construction\",\n",
    "        \"G, I. Distribution, hotels and restaurants\",\n",
    "        \"H, J. Transport and communication\",\n",
    "        \"K, L, M, N. Financial, real estate, professional and administrative activities\",\n",
    "        \"O,P,Q. Public administration, education and health\",\n",
    "        \"R, S, T, U. Other\",\n",
    "    ],\n",
    ")\n",
    "\n",
    "geoms[\n",
    "    [\n",
    "        \"A, B, D, E. Agriculture, energy and water\",\n",
    "        \"C. Manufacturing\",\n",
    "        \"F. Construction\",\n",
    "        \"G, I. Distribution, hotels and restaurants\",\n",
    "        \"H, J. Transport and communication\",\n",
    "        \"K, L, M, N. Financial, real estate, professional and administrative activities\",\n",
    "        \"O,P,Q. Public administration, education and health\",\n",
    "        \"R, S, T, U. Other\",\n",
    "    ]\n",
    "] = wp_interpolated.drop(columns=\"geometry\").values"
   ]
  },
  {
   "cell_type": "markdown",
   "id": "2d5a4c04",
   "metadata": {},
   "source": [
    "Interpolate CORINE"
   ]
  },
  {
   "cell_type": "code",
   "execution_count": 34,
   "id": "03619be9",
   "metadata": {
    "tags": []
   },
   "outputs": [],
   "source": [
    "corine_interpolated = tobler.area_weighted.area_interpolate(\n",
    "    corine_aoi, geoms, categorical_variables=[\"Code_18\"]\n",
    ")\n",
    "corine_interpolated.columns = corine_interpolated.columns.map(corine_names)\n",
    "interesting = [\n",
    "    \"Land cover [Discontinuous urban fabric]\",\n",
    "    \"Land cover [Continuous urban fabric]\",\n",
    "    \"Land cover [Non-irrigated arable land]\",\n",
    "    \"Land cover [Industrial or commercial units]\",\n",
    "    \"Land cover [Green urban areas]\",\n",
    "    \"Land cover [Pastures]\",\n",
    "    \"Land cover [Sport and leisure facilities]\",\n",
    "]\n",
    "geoms[interesting] = corine_interpolated[interesting].values"
   ]
  },
  {
   "cell_type": "markdown",
   "id": "885747a8",
   "metadata": {},
   "source": [
    "Interpolate morphometrics"
   ]
  },
  {
   "cell_type": "code",
   "execution_count": 35,
   "id": "3f51e66d",
   "metadata": {
    "tags": []
   },
   "outputs": [
    {
     "name": "stderr",
     "output_type": "stream",
     "text": [
      "/home/martin/mambaforge/envs/stable/lib/python3.12/site-packages/tobler/util/util.py:53: UserWarning: nan values in variable: sdbAre, replacing with 0\n",
      "  warn(f\"nan values in variable: {column}, replacing with 0\")\n",
      "/home/martin/mambaforge/envs/stable/lib/python3.12/site-packages/tobler/util/util.py:53: UserWarning: nan values in variable: sdbCoA, replacing with 0\n",
      "  warn(f\"nan values in variable: {column}, replacing with 0\")\n",
      "/home/martin/mambaforge/envs/stable/lib/python3.12/site-packages/tobler/util/util.py:53: UserWarning: nan values in variable: ssbCCo, replacing with 0\n",
      "  warn(f\"nan values in variable: {column}, replacing with 0\")\n",
      "/home/martin/mambaforge/envs/stable/lib/python3.12/site-packages/tobler/util/util.py:53: UserWarning: nan values in variable: ssbCor, replacing with 0\n",
      "  warn(f\"nan values in variable: {column}, replacing with 0\")\n",
      "/home/martin/mambaforge/envs/stable/lib/python3.12/site-packages/tobler/util/util.py:53: UserWarning: nan values in variable: ssbSqu, replacing with 0\n",
      "  warn(f\"nan values in variable: {column}, replacing with 0\")\n",
      "/home/martin/mambaforge/envs/stable/lib/python3.12/site-packages/tobler/util/util.py:53: UserWarning: nan values in variable: ssbERI, replacing with 0\n",
      "  warn(f\"nan values in variable: {column}, replacing with 0\")\n",
      "/home/martin/mambaforge/envs/stable/lib/python3.12/site-packages/tobler/util/util.py:53: UserWarning: nan values in variable: ssbCCM, replacing with 0\n",
      "  warn(f\"nan values in variable: {column}, replacing with 0\")\n",
      "/home/martin/mambaforge/envs/stable/lib/python3.12/site-packages/tobler/util/util.py:53: UserWarning: nan values in variable: ssbCCD, replacing with 0\n",
      "  warn(f\"nan values in variable: {column}, replacing with 0\")\n",
      "/home/martin/mambaforge/envs/stable/lib/python3.12/site-packages/tobler/util/util.py:53: UserWarning: nan values in variable: stbOri, replacing with 0\n",
      "  warn(f\"nan values in variable: {column}, replacing with 0\")\n",
      "/home/martin/mambaforge/envs/stable/lib/python3.12/site-packages/tobler/util/util.py:53: UserWarning: nan values in variable: sicCAR, replacing with 0\n",
      "  warn(f\"nan values in variable: {column}, replacing with 0\")\n",
      "/home/martin/mambaforge/envs/stable/lib/python3.12/site-packages/tobler/util/util.py:53: UserWarning: nan values in variable: stbCeA, replacing with 0\n",
      "  warn(f\"nan values in variable: {column}, replacing with 0\")\n",
      "/home/martin/mambaforge/envs/stable/lib/python3.12/site-packages/tobler/util/util.py:53: UserWarning: nan values in variable: mtbAli, replacing with 0\n",
      "  warn(f\"nan values in variable: {column}, replacing with 0\")\n",
      "/home/martin/mambaforge/envs/stable/lib/python3.12/site-packages/tobler/util/util.py:53: UserWarning: nan values in variable: mtbNDi, replacing with 0\n",
      "  warn(f\"nan values in variable: {column}, replacing with 0\")\n",
      "/home/martin/mambaforge/envs/stable/lib/python3.12/site-packages/tobler/util/util.py:53: UserWarning: nan values in variable: stbSAl, replacing with 0\n",
      "  warn(f\"nan values in variable: {column}, replacing with 0\")\n",
      "/home/martin/mambaforge/envs/stable/lib/python3.12/site-packages/tobler/util/util.py:53: UserWarning: nan values in variable: lieWCe, replacing with 0\n",
      "  warn(f\"nan values in variable: {column}, replacing with 0\")\n"
     ]
    }
   ],
   "source": [
    "chars = data.columns.drop(\n",
    "    [\n",
    "        \"hindex\",\n",
    "        \"tessellation\",\n",
    "        \"buildings\",\n",
    "        \"nodeID\",\n",
    "        \"edgeID_keys\",\n",
    "        \"edgeID_values\",\n",
    "        \"edgeID_primary\",\n",
    "        \"sdbPer\",\n",
    "        \"ssbElo\",\n",
    "        \"stcOri\",\n",
    "        \"sdcLAL\",\n",
    "        \"mdcAre\",\n",
    "        \"ltcAre\",\n",
    "        \"ltcWRE\",\n",
    "        \"mtdMDi\",\n",
    "        \"lcdMes\",\n",
    "        \"lddNDe\",\n",
    "        \"sddAre\",\n",
    "        \"mdsAre\",\n",
    "        \"ldsAre\",\n",
    "        \"lisCel\",\n",
    "        \"ldePer\",\n",
    "        \"lseCWA\",\n",
    "    ]\n",
    ")\n",
    "morhp_interpolated = tobler.area_weighted.area_interpolate(\n",
    "    data, geoms, intensive_variables=chars.tolist()\n",
    ")\n",
    "\n",
    "geoms[morhp_interpolated.columns.drop(\"geometry\")] = morhp_interpolated.drop(\n",
    "    columns=\"geometry\"\n",
    ").values"
   ]
  },
  {
   "cell_type": "markdown",
   "id": "9de40656",
   "metadata": {},
   "source": [
    "Get split IDs"
   ]
  },
  {
   "cell_type": "code",
   "execution_count": 36,
   "id": "9b215bd2",
   "metadata": {
    "tags": []
   },
   "outputs": [],
   "source": [
    "geoms_ix, poll_ix = pollutants_aoi_df.sindex.query(geoms.centroid, predicate=\"within\", sort=True)"
   ]
  },
  {
   "cell_type": "code",
   "execution_count": 37,
   "id": "d09d7a1d",
   "metadata": {
    "tags": []
   },
   "outputs": [],
   "source": [
    "geoms[\"split\"] = pollutants_aoi_df[\"split\"].values[poll_ix]"
   ]
  },
  {
   "cell_type": "markdown",
   "id": "a1448870",
   "metadata": {},
   "source": [
    "Save the table"
   ]
  },
  {
   "cell_type": "code",
   "execution_count": 38,
   "id": "1ef1845e",
   "metadata": {
    "tags": []
   },
   "outputs": [],
   "source": [
    "geoms.to_parquet(f\"{data_folder}/spatial_units_test/tables/square_{opt}.pq\")"
   ]
  },
  {
   "cell_type": "markdown",
   "id": "207a925b",
   "metadata": {},
   "source": [
    "### output area\n",
    "Create geometries"
   ]
  },
  {
   "cell_type": "code",
   "execution_count": 39,
   "id": "3868348d",
   "metadata": {
    "tags": []
   },
   "outputs": [],
   "source": [
    "geoms = pop_hp.set_index(\"code\")[[\"geometry\", \"priceper\", \"population\"]].set_crs(27700, allow_override=True)"
   ]
  },
  {
   "cell_type": "markdown",
   "id": "cca55a2e",
   "metadata": {},
   "source": [
    "Interpolate Air Quality"
   ]
  },
  {
   "cell_type": "code",
   "execution_count": 40,
   "id": "fe2979c0",
   "metadata": {
    "tags": []
   },
   "outputs": [
    {
     "name": "stderr",
     "output_type": "stream",
     "text": [
      "/home/martin/mambaforge/envs/stable/lib/python3.12/site-packages/tobler/util/util.py:53: UserWarning: nan values in variable: aqi, replacing with 0\n",
      "  warn(f\"nan values in variable: {column}, replacing with 0\")\n"
     ]
    }
   ],
   "source": [
    "interp = tobler.area_weighted.area_interpolate(pollutants_aoi_df, geoms, intensive_variables=[\"aqi\"])\n",
    "geoms[\"air_quality_index\"] = interp.aqi.values"
   ]
  },
  {
   "cell_type": "markdown",
   "id": "ad9abd9f",
   "metadata": {},
   "source": [
    " Rename OA data"
   ]
  },
  {
   "cell_type": "code",
   "execution_count": 41,
   "id": "31fde119",
   "metadata": {
    "tags": []
   },
   "outputs": [],
   "source": [
    "geoms = geoms.rename(columns={\"priceper\": \"house_price_index\"})"
   ]
  },
  {
   "cell_type": "markdown",
   "id": "dd1c4576",
   "metadata": {},
   "source": [
    "Interpolate workplace population"
   ]
  },
  {
   "cell_type": "code",
   "execution_count": 42,
   "id": "ee0792f0",
   "metadata": {
    "tags": []
   },
   "outputs": [],
   "source": [
    "wp_interpolated = tobler.area_weighted.area_interpolate(\n",
    "    wp_aoi,\n",
    "    geoms,\n",
    "    extensive_variables=[\n",
    "        \"A, B, D, E. Agriculture, energy and water\",\n",
    "        \"C. Manufacturing\",\n",
    "        \"F. Construction\",\n",
    "        \"G, I. Distribution, hotels and restaurants\",\n",
    "        \"H, J. Transport and communication\",\n",
    "        \"K, L, M, N. Financial, real estate, professional and administrative activities\",\n",
    "        \"O,P,Q. Public administration, education and health\",\n",
    "        \"R, S, T, U. Other\",\n",
    "    ],\n",
    ")\n",
    "\n",
    "geoms[\n",
    "    [\n",
    "        \"A, B, D, E. Agriculture, energy and water\",\n",
    "        \"C. Manufacturing\",\n",
    "        \"F. Construction\",\n",
    "        \"G, I. Distribution, hotels and restaurants\",\n",
    "        \"H, J. Transport and communication\",\n",
    "        \"K, L, M, N. Financial, real estate, professional and administrative activities\",\n",
    "        \"O,P,Q. Public administration, education and health\",\n",
    "        \"R, S, T, U. Other\",\n",
    "    ]\n",
    "] = wp_interpolated.drop(columns=\"geometry\").values"
   ]
  },
  {
   "cell_type": "markdown",
   "id": "74b0ea5c",
   "metadata": {},
   "source": [
    "Interpolate CORINE"
   ]
  },
  {
   "cell_type": "code",
   "execution_count": 43,
   "id": "b4bc8a13",
   "metadata": {
    "tags": []
   },
   "outputs": [],
   "source": [
    "corine_interpolated = tobler.area_weighted.area_interpolate(\n",
    "    corine_aoi, geoms, categorical_variables=[\"Code_18\"]\n",
    ")\n",
    "corine_interpolated.columns = corine_interpolated.columns.map(corine_names)\n",
    "interesting = [\n",
    "    \"Land cover [Discontinuous urban fabric]\",\n",
    "    \"Land cover [Continuous urban fabric]\",\n",
    "    \"Land cover [Non-irrigated arable land]\",\n",
    "    \"Land cover [Industrial or commercial units]\",\n",
    "    \"Land cover [Green urban areas]\",\n",
    "    \"Land cover [Pastures]\",\n",
    "    \"Land cover [Sport and leisure facilities]\",\n",
    "]\n",
    "geoms[interesting] = corine_interpolated[interesting].values"
   ]
  },
  {
   "cell_type": "markdown",
   "id": "17826424",
   "metadata": {},
   "source": [
    "Interpolate morphometrics"
   ]
  },
  {
   "cell_type": "code",
   "execution_count": 44,
   "id": "97fd4194",
   "metadata": {
    "tags": []
   },
   "outputs": [
    {
     "name": "stderr",
     "output_type": "stream",
     "text": [
      "/home/martin/mambaforge/envs/stable/lib/python3.12/site-packages/tobler/util/util.py:53: UserWarning: nan values in variable: sdbAre, replacing with 0\n",
      "  warn(f\"nan values in variable: {column}, replacing with 0\")\n",
      "/home/martin/mambaforge/envs/stable/lib/python3.12/site-packages/tobler/util/util.py:53: UserWarning: nan values in variable: sdbCoA, replacing with 0\n",
      "  warn(f\"nan values in variable: {column}, replacing with 0\")\n",
      "/home/martin/mambaforge/envs/stable/lib/python3.12/site-packages/tobler/util/util.py:53: UserWarning: nan values in variable: ssbCCo, replacing with 0\n",
      "  warn(f\"nan values in variable: {column}, replacing with 0\")\n",
      "/home/martin/mambaforge/envs/stable/lib/python3.12/site-packages/tobler/util/util.py:53: UserWarning: nan values in variable: ssbCor, replacing with 0\n",
      "  warn(f\"nan values in variable: {column}, replacing with 0\")\n",
      "/home/martin/mambaforge/envs/stable/lib/python3.12/site-packages/tobler/util/util.py:53: UserWarning: nan values in variable: ssbSqu, replacing with 0\n",
      "  warn(f\"nan values in variable: {column}, replacing with 0\")\n",
      "/home/martin/mambaforge/envs/stable/lib/python3.12/site-packages/tobler/util/util.py:53: UserWarning: nan values in variable: ssbERI, replacing with 0\n",
      "  warn(f\"nan values in variable: {column}, replacing with 0\")\n",
      "/home/martin/mambaforge/envs/stable/lib/python3.12/site-packages/tobler/util/util.py:53: UserWarning: nan values in variable: ssbCCM, replacing with 0\n",
      "  warn(f\"nan values in variable: {column}, replacing with 0\")\n",
      "/home/martin/mambaforge/envs/stable/lib/python3.12/site-packages/tobler/util/util.py:53: UserWarning: nan values in variable: ssbCCD, replacing with 0\n",
      "  warn(f\"nan values in variable: {column}, replacing with 0\")\n",
      "/home/martin/mambaforge/envs/stable/lib/python3.12/site-packages/tobler/util/util.py:53: UserWarning: nan values in variable: stbOri, replacing with 0\n",
      "  warn(f\"nan values in variable: {column}, replacing with 0\")\n",
      "/home/martin/mambaforge/envs/stable/lib/python3.12/site-packages/tobler/util/util.py:53: UserWarning: nan values in variable: sicCAR, replacing with 0\n",
      "  warn(f\"nan values in variable: {column}, replacing with 0\")\n",
      "/home/martin/mambaforge/envs/stable/lib/python3.12/site-packages/tobler/util/util.py:53: UserWarning: nan values in variable: stbCeA, replacing with 0\n",
      "  warn(f\"nan values in variable: {column}, replacing with 0\")\n",
      "/home/martin/mambaforge/envs/stable/lib/python3.12/site-packages/tobler/util/util.py:53: UserWarning: nan values in variable: mtbAli, replacing with 0\n",
      "  warn(f\"nan values in variable: {column}, replacing with 0\")\n",
      "/home/martin/mambaforge/envs/stable/lib/python3.12/site-packages/tobler/util/util.py:53: UserWarning: nan values in variable: mtbNDi, replacing with 0\n",
      "  warn(f\"nan values in variable: {column}, replacing with 0\")\n",
      "/home/martin/mambaforge/envs/stable/lib/python3.12/site-packages/tobler/util/util.py:53: UserWarning: nan values in variable: stbSAl, replacing with 0\n",
      "  warn(f\"nan values in variable: {column}, replacing with 0\")\n",
      "/home/martin/mambaforge/envs/stable/lib/python3.12/site-packages/tobler/util/util.py:53: UserWarning: nan values in variable: lieWCe, replacing with 0\n",
      "  warn(f\"nan values in variable: {column}, replacing with 0\")\n"
     ]
    }
   ],
   "source": [
    "chars = data.columns.drop(\n",
    "    [\n",
    "        \"hindex\",\n",
    "        \"tessellation\",\n",
    "        \"buildings\",\n",
    "        \"nodeID\",\n",
    "        \"edgeID_keys\",\n",
    "        \"edgeID_values\",\n",
    "        \"edgeID_primary\",\n",
    "        \"sdbPer\",\n",
    "        \"ssbElo\",\n",
    "        \"stcOri\",\n",
    "        \"sdcLAL\",\n",
    "        \"mdcAre\",\n",
    "        \"ltcAre\",\n",
    "        \"ltcWRE\",\n",
    "        \"mtdMDi\",\n",
    "        \"lcdMes\",\n",
    "        \"lddNDe\",\n",
    "        \"sddAre\",\n",
    "        \"mdsAre\",\n",
    "        \"ldsAre\",\n",
    "        \"lisCel\",\n",
    "        \"ldePer\",\n",
    "        \"lseCWA\",\n",
    "    ]\n",
    ")\n",
    "morhp_interpolated = tobler.area_weighted.area_interpolate(\n",
    "    data, geoms, intensive_variables=chars.tolist()\n",
    ")\n",
    "\n",
    "geoms[morhp_interpolated.columns.drop(\"geometry\")] = morhp_interpolated.drop(\n",
    "    columns=\"geometry\"\n",
    ").values"
   ]
  },
  {
   "cell_type": "markdown",
   "id": "58ed4aac",
   "metadata": {},
   "source": [
    "Get split IDs"
   ]
  },
  {
   "cell_type": "code",
   "execution_count": 45,
   "id": "8689ee3c",
   "metadata": {
    "tags": []
   },
   "outputs": [],
   "source": [
    "geoms_ix, poll_ix = pollutants_aoi_df.sindex.query(geoms.centroid, predicate=\"within\", sort=True)"
   ]
  },
  {
   "cell_type": "code",
   "execution_count": 46,
   "id": "3cc92ac8",
   "metadata": {
    "tags": []
   },
   "outputs": [],
   "source": [
    "geoms.loc[geoms.index[geoms_ix], \"split\"] = pollutants_aoi_df[\"split\"].values[poll_ix]"
   ]
  },
  {
   "cell_type": "markdown",
   "id": "14971c0e",
   "metadata": {},
   "source": [
    "Save the table"
   ]
  },
  {
   "cell_type": "code",
   "execution_count": 47,
   "id": "71db495c",
   "metadata": {
    "tags": []
   },
   "outputs": [],
   "source": [
    "geoms.to_parquet(f\"{data_folder}/spatial_units_test/tables/oa_{opt}.pq\")"
   ]
  },
  {
   "cell_type": "markdown",
   "id": "87f149a5",
   "metadata": {},
   "source": [
    "### ET cells\n",
    "Create geometries"
   ]
  },
  {
   "cell_type": "code",
   "execution_count": 48,
   "id": "d9b2a257",
   "metadata": {
    "tags": []
   },
   "outputs": [],
   "source": [
    "geoms = data.set_index(\"hindex\").drop(columns=\n",
    "    [\n",
    "        \"buildings\",\n",
    "        \"nodeID\",\n",
    "        \"edgeID_keys\",\n",
    "        \"edgeID_values\",\n",
    "        \"edgeID_primary\",\n",
    "        \"sdbPer\",\n",
    "        \"ssbElo\",\n",
    "        \"stcOri\",\n",
    "        \"sdcLAL\",\n",
    "        \"mdcAre\",\n",
    "        \"ltcAre\",\n",
    "        \"ltcWRE\",\n",
    "        \"mtdMDi\",\n",
    "        \"lcdMes\",\n",
    "        \"lddNDe\",\n",
    "        \"sddAre\",\n",
    "        \"mdsAre\",\n",
    "        \"ldsAre\",\n",
    "        \"lisCel\",\n",
    "        \"ldePer\",\n",
    "        \"lseCWA\",\n",
    "    ]\n",
    ")"
   ]
  },
  {
   "cell_type": "markdown",
   "id": "ffb855b7",
   "metadata": {},
   "source": [
    "Interpolate Air Quality"
   ]
  },
  {
   "cell_type": "code",
   "execution_count": 49,
   "id": "b2dad042",
   "metadata": {
    "tags": []
   },
   "outputs": [
    {
     "name": "stderr",
     "output_type": "stream",
     "text": [
      "/home/martin/mambaforge/envs/stable/lib/python3.12/site-packages/tobler/util/util.py:53: UserWarning: nan values in variable: aqi, replacing with 0\n",
      "  warn(f\"nan values in variable: {column}, replacing with 0\")\n"
     ]
    }
   ],
   "source": [
    "interp = tobler.area_weighted.area_interpolate(pollutants_aoi_df, geoms, intensive_variables=[\"aqi\"])\n",
    "geoms[\"air_quality_index\"] = interp.aqi.values"
   ]
  },
  {
   "cell_type": "markdown",
   "id": "3d44ac2c",
   "metadata": {},
   "source": [
    " Interpolate OA data"
   ]
  },
  {
   "cell_type": "code",
   "execution_count": 50,
   "id": "1a06fef3",
   "metadata": {
    "tags": []
   },
   "outputs": [],
   "source": [
    "interp_oa = tobler.area_weighted.area_interpolate(\n",
    "    pop_hp,\n",
    "    geoms,\n",
    "    intensive_variables=[\"priceper\"],\n",
    "    extensive_variables=[\"population\"],\n",
    ")\n",
    "geoms[\"house_price_index\"] = interp_oa.priceper.values\n",
    "geoms[\"population\"] = interp_oa.population.values"
   ]
  },
  {
   "cell_type": "markdown",
   "id": "0d9a18a8",
   "metadata": {},
   "source": [
    "Interpolate workplace population"
   ]
  },
  {
   "cell_type": "code",
   "execution_count": 51,
   "id": "6efb0fc9",
   "metadata": {
    "tags": []
   },
   "outputs": [],
   "source": [
    "wp_interpolated = tobler.area_weighted.area_interpolate(\n",
    "    wp_aoi,\n",
    "    geoms,\n",
    "    extensive_variables=[\n",
    "        \"A, B, D, E. Agriculture, energy and water\",\n",
    "        \"C. Manufacturing\",\n",
    "        \"F. Construction\",\n",
    "        \"G, I. Distribution, hotels and restaurants\",\n",
    "        \"H, J. Transport and communication\",\n",
    "        \"K, L, M, N. Financial, real estate, professional and administrative activities\",\n",
    "        \"O,P,Q. Public administration, education and health\",\n",
    "        \"R, S, T, U. Other\",\n",
    "    ],\n",
    ")\n",
    "\n",
    "geoms[\n",
    "    [\n",
    "        \"A, B, D, E. Agriculture, energy and water\",\n",
    "        \"C. Manufacturing\",\n",
    "        \"F. Construction\",\n",
    "        \"G, I. Distribution, hotels and restaurants\",\n",
    "        \"H, J. Transport and communication\",\n",
    "        \"K, L, M, N. Financial, real estate, professional and administrative activities\",\n",
    "        \"O,P,Q. Public administration, education and health\",\n",
    "        \"R, S, T, U. Other\",\n",
    "    ]\n",
    "] = wp_interpolated.drop(columns=\"geometry\").values"
   ]
  },
  {
   "cell_type": "markdown",
   "id": "294dbf9d",
   "metadata": {},
   "source": [
    "Interpolate CORINE"
   ]
  },
  {
   "cell_type": "code",
   "execution_count": 52,
   "id": "9e2d3836",
   "metadata": {
    "tags": []
   },
   "outputs": [],
   "source": [
    "corine_interpolated = tobler.area_weighted.area_interpolate(\n",
    "    corine_aoi, geoms, categorical_variables=[\"Code_18\"]\n",
    ")\n",
    "corine_interpolated.columns = corine_interpolated.columns.map(corine_names)\n",
    "interesting = [\n",
    "    \"Land cover [Discontinuous urban fabric]\",\n",
    "    \"Land cover [Continuous urban fabric]\",\n",
    "    \"Land cover [Non-irrigated arable land]\",\n",
    "    \"Land cover [Industrial or commercial units]\",\n",
    "    \"Land cover [Green urban areas]\",\n",
    "    \"Land cover [Pastures]\",\n",
    "    \"Land cover [Sport and leisure facilities]\",\n",
    "]\n",
    "geoms[interesting] = corine_interpolated[interesting].values"
   ]
  },
  {
   "cell_type": "markdown",
   "id": "01520610",
   "metadata": {},
   "source": [
    "Get split IDs"
   ]
  },
  {
   "cell_type": "code",
   "execution_count": 53,
   "id": "91127c4c",
   "metadata": {
    "tags": []
   },
   "outputs": [],
   "source": [
    "geoms_ix, poll_ix = pollutants_aoi_df.sindex.query(geoms.centroid, predicate=\"within\", sort=True)"
   ]
  },
  {
   "cell_type": "code",
   "execution_count": 54,
   "id": "132ca054",
   "metadata": {
    "tags": []
   },
   "outputs": [],
   "source": [
    "geoms.loc[geoms.index[geoms_ix], \"split\"] = pollutants_aoi_df[\"split\"].values[poll_ix]"
   ]
  },
  {
   "cell_type": "markdown",
   "id": "b20e26cd",
   "metadata": {},
   "source": [
    "Save the table"
   ]
  },
  {
   "cell_type": "code",
   "execution_count": 55,
   "id": "116ef151",
   "metadata": {
    "tags": []
   },
   "outputs": [],
   "source": [
    "geoms.to_parquet(f\"{data_folder}/spatial_units_test/tables/et_{opt}.pq\")"
   ]
  },
  {
   "cell_type": "code",
   "execution_count": null,
   "id": "d25f65db-1add-4a97-8626-120ca5d4d4c7",
   "metadata": {},
   "outputs": [],
   "source": []
  }
 ],
 "metadata": {
  "kernelspec": {
   "display_name": "stable",
   "language": "python",
   "name": "stable"
  },
  "language_info": {
   "codemirror_mode": {
    "name": "ipython",
    "version": 3
   },
   "file_extension": ".py",
   "mimetype": "text/x-python",
   "name": "python",
   "nbconvert_exporter": "python",
   "pygments_lexer": "ipython3",
   "version": "3.12.0"
  }
 },
 "nbformat": 4,
 "nbformat_minor": 5
}
