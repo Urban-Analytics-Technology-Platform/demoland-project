{
 "cells": [
  {
   "cell_type": "markdown",
   "id": "1f443777-f9e3-4d4a-b9f2-1b919e0e7f04",
   "metadata": {},
   "source": [
    "## Create spatial weights matrix\n",
    "\n",
    "Create weights up to order 5 and store the order to allow distance-weighting of the lag."
   ]
  },
  {
   "cell_type": "code",
   "execution_count": 6,
   "id": "afa02302-8896-43c1-a31e-fd59be489096",
   "metadata": {},
   "outputs": [],
   "source": [
    "import geopandas as gpd\n",
    "import numpy as np\n",
    "from libpysal import graph\n",
    "import pandas as pd\n",
    "import h3"
   ]
  },
  {
   "cell_type": "code",
   "execution_count": 2,
   "id": "77aa101a-cfc1-4484-84a6-66d9258f95f0",
   "metadata": {
    "tags": []
   },
   "outputs": [],
   "source": [
    "data_folder = \"../../../demoland_data\""
   ]
  },
  {
   "attachments": {},
   "cell_type": "markdown",
   "id": "a6d266e9-e2b2-43f6-8d28-f63cd07cc3d6",
   "metadata": {},
   "source": [
    "Load the data"
   ]
  },
  {
   "cell_type": "code",
   "execution_count": 3,
   "id": "09b6cae4-1f0f-42bc-b1cb-2b8f126620c8",
   "metadata": {},
   "outputs": [],
   "source": [
    "data = gpd.read_parquet(f\"{data_folder}/h3/grid_complete.parquet\")"
   ]
  },
  {
   "cell_type": "markdown",
   "id": "78e6293b-365b-4af2-9a87-86bf258e02ab",
   "metadata": {},
   "source": [
    "Default matrix containing all the information"
   ]
  },
  {
   "cell_type": "code",
   "execution_count": 4,
   "id": "b9fb6d64-94bf-4dd1-80e7-349437339383",
   "metadata": {},
   "outputs": [
    {
     "name": "stdout",
     "output_type": "stream",
     "text": [
      "CPU times: user 2min 3s, sys: 3.6 s, total: 2min 6s\n",
      "Wall time: 2min 6s\n"
     ]
    }
   ],
   "source": [
    "%%time\n",
    "neighbors = {}\n",
    "weights = {}\n",
    "for ix in data.index:\n",
    "    rings = h3.hex_range_distances(ix, 5)\n",
    "    for i, ring in enumerate(rings):\n",
    "        if i == 0:\n",
    "            neighbors[ix] = []\n",
    "            weights[ix] = []\n",
    "        else:\n",
    "            neighbors[ix].extend(list(ring))\n",
    "            weights[ix].extend([i] * len(ring))"
   ]
  },
  {
   "cell_type": "code",
   "execution_count": 7,
   "id": "24b19436-f667-4659-ac3e-1e8c91e613e1",
   "metadata": {},
   "outputs": [],
   "source": [
    "matrix = graph.Graph.from_dicts(neighbors, weights)"
   ]
  },
  {
   "cell_type": "markdown",
   "id": "172e64c7-25a2-4693-ba32-7528611b4597",
   "metadata": {},
   "source": [
    "Save to Parquet."
   ]
  },
  {
   "cell_type": "code",
   "execution_count": 8,
   "id": "2083051f-8c63-4d8f-b89c-b416db761b1f",
   "metadata": {},
   "outputs": [],
   "source": [
    "matrix.to_parquet(f\"{data_folder}/h3/grid_adjacency_graph.parquet\")"
   ]
  },
  {
   "cell_type": "markdown",
   "id": "84018f0a-736f-48b8-bc03-8c715ee66510",
   "metadata": {},
   "source": [
    "Transformation to binary and inverse distance weighted."
   ]
  },
  {
   "cell_type": "code",
   "execution_count": 9,
   "id": "445c3cf3-1489-4f5d-8b7a-b9f21366899d",
   "metadata": {},
   "outputs": [
    {
     "name": "stdout",
     "output_type": "stream",
     "text": [
      "CPU times: user 1min, sys: 5.15 s, total: 1min 5s\n",
      "Wall time: 1min 5s\n",
      "CPU times: user 38 s, sys: 3.74 s, total: 41.8 s\n",
      "Wall time: 41.7 s\n"
     ]
    }
   ],
   "source": [
    "%time binary = matrix.transform(\"b\")\n",
    "%time inverse = graph.Graph(1 / matrix.adjacency)"
   ]
  },
  {
   "cell_type": "code",
   "execution_count": 13,
   "id": "8841268d-3dc2-428f-b31b-62733d36b25b",
   "metadata": {},
   "outputs": [
    {
     "data": {
      "text/plain": [
       "focal            neighbor       \n",
       "89187290337ffff  89187290edbffff    1.000000\n",
       "                 89187290ed3ffff    0.500000\n",
       "                 8918729016fffff    0.333333\n",
       "                 891872903afffff    1.000000\n",
       "                 891872903a7ffff    0.500000\n",
       "                                      ...   \n",
       "891946cb263ffff  891946c94dbffff    0.333333\n",
       "                 891946c94d3ffff    0.500000\n",
       "                 891946cb26fffff    1.000000\n",
       "                 891973349a7ffff    0.500000\n",
       "                 891946cb26bffff    1.000000\n",
       "Name: weight, Length: 123282816, dtype: float64"
      ]
     },
     "execution_count": 13,
     "metadata": {},
     "output_type": "execute_result"
    }
   ],
   "source": [
    "inverse._adjacency"
   ]
  },
  {
   "cell_type": "markdown",
   "id": "eae20b60-1087-48d7-bd87-ab6b5a9c7934",
   "metadata": {},
   "source": [
    "Save to Parquet."
   ]
  },
  {
   "cell_type": "code",
   "execution_count": 10,
   "id": "b69c0351-0af9-4a86-981a-baa9adc17bda",
   "metadata": {},
   "outputs": [],
   "source": [
    "binary.to_parquet(f\"{data_folder}/h3/grid_adjacency_binary.parquet\")\n",
    "inverse.to_parquet(f\"{data_folder}/h3/grid_adjacency_inverse.parquet\")"
   ]
  },
  {
   "cell_type": "markdown",
   "id": "e221ea52-9ccc-4d19-b0b9-a7cb06fa62bb",
   "metadata": {},
   "source": [
    "## Get subsets of weights per distance"
   ]
  },
  {
   "cell_type": "code",
   "execution_count": 16,
   "id": "633242de-c32f-48f6-822f-3552636feb35",
   "metadata": {},
   "outputs": [
    {
     "name": "stdout",
     "output_type": "stream",
     "text": [
      "CPU times: user 5min 34s, sys: 41.1 s, total: 6min 15s\n",
      "Wall time: 6min 15s\n"
     ]
    }
   ],
   "source": [
    "%%time\n",
    "for i in range(1, 5):\n",
    "    mask = inverse._adjacency < (1 / i)\n",
    "    \n",
    "    bin_adj = binary._adjacency.copy()\n",
    "    # assign zeros to neighbors furhter away \n",
    "    bin_adj[mask] = 0\n",
    "    # remove zeros but keep self-loops for isolates\n",
    "    adj = bin_adj.reset_index(level=1)\n",
    "    isolates = adj.index == adj.neighbor\n",
    "    zeros = mask.values != isolates\n",
    "    # create graph from adjusted adjacency\n",
    "    graph.Graph(bin_adj[~zeros]).to_parquet(\n",
    "        f\"{data_folder}/h3/grid_adjacency_binary_k{i}.parquet\"\n",
    "    )\n",
    "        \n",
    "    inv_adj = inverse._adjacency.copy()\n",
    "    # assign zeros to neighbors furhter away \n",
    "    inv_adj[mask] = 0\n",
    "    # remove zeros but keep self-loops for isolates\n",
    "    adj = inv_adj.reset_index(level=1)\n",
    "    isolates = adj.index == adj.neighbor\n",
    "    zeros = mask.values != isolates\n",
    "    # create graph from adjusted adjacency\n",
    "    graph.Graph(inv_adj[~zeros]).to_parquet(\n",
    "        f\"{data_folder}/h3/grid_adjacency_inverse_k{i}.parquet\"\n",
    "    )"
   ]
  },
  {
   "cell_type": "code",
   "execution_count": null,
   "id": "a76bf94e-b24c-4dc4-9ff6-e254bea7fc00",
   "metadata": {},
   "outputs": [],
   "source": []
  }
 ],
 "metadata": {
  "kernelspec": {
   "display_name": "stable",
   "language": "python",
   "name": "stable"
  },
  "language_info": {
   "codemirror_mode": {
    "name": "ipython",
    "version": 3
   },
   "file_extension": ".py",
   "mimetype": "text/x-python",
   "name": "python",
   "nbconvert_exporter": "python",
   "pygments_lexer": "ipython3",
   "version": "3.12.0"
  }
 },
 "nbformat": 4,
 "nbformat_minor": 5
}
