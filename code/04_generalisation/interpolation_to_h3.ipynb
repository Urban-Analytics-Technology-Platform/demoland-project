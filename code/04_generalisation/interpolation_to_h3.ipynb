{
 "cells": [
  {
   "cell_type": "markdown",
   "id": "c8b02d34-39a2-4e80-ae54-9b18d802fdab",
   "metadata": {},
   "source": [
    "# Interpolate all of the data to H3 grid\n",
    "\n",
    "This notebook interpolates both variables we aim to model (air quality and house price) to the H3 level 9 grid. At the same time, it interpolates all of the explanatory variables to the same grid. \n",
    "\n",
    "The resulting H3 grid, covering England, will serve as a basis for nation-wide predictive models and for any future deployment of the Demoland App."
   ]
  },
  {
   "cell_type": "code",
   "execution_count": 1,
   "id": "880dc548-b27b-4a44-bc5f-41ba4a6fc888",
   "metadata": {},
   "outputs": [],
   "source": [
    "import gc\n",
    "from time import time\n",
    "\n",
    "import pandas as pd\n",
    "import geopandas as gpd\n",
    "import xarray as xr\n",
    "import tobler\n",
    "import numpy as np\n",
    "from itertools import product\n",
    "import osmnx as ox\n",
    "import dask_geopandas\n",
    "\n",
    "from tobler.util import h3fy"
   ]
  },
  {
   "cell_type": "code",
   "execution_count": 2,
   "id": "ce02198e-1108-42cb-b22f-5debab66be7e",
   "metadata": {
    "tags": []
   },
   "outputs": [],
   "source": [
    "data_folder = \"../../../demoland_data\""
   ]
  },
  {
   "cell_type": "markdown",
   "id": "50e97e1d-7823-4a4c-8afd-09efb4f846ca",
   "metadata": {},
   "source": [
    "## Create H3 grid"
   ]
  },
  {
   "cell_type": "code",
   "execution_count": 3,
   "id": "e1ce0817-02a3-44ed-8cc0-c9b961a3a06d",
   "metadata": {},
   "outputs": [],
   "source": [
    "gb = gpd.read_file(f\"{data_folder}/raw/geoBoundaries-GBR-ADM1-all.zip\")"
   ]
  },
  {
   "cell_type": "code",
   "execution_count": 9,
   "id": "e9338005-92f3-4425-a955-58afeddaf44d",
   "metadata": {},
   "outputs": [
    {
     "data": {
      "text/html": [
       "<div>\n",
       "<style scoped>\n",
       "    .dataframe tbody tr th:only-of-type {\n",
       "        vertical-align: middle;\n",
       "    }\n",
       "\n",
       "    .dataframe tbody tr th {\n",
       "        vertical-align: top;\n",
       "    }\n",
       "\n",
       "    .dataframe thead th {\n",
       "        text-align: right;\n",
       "    }\n",
       "</style>\n",
       "<table border=\"1\" class=\"dataframe\">\n",
       "  <thead>\n",
       "    <tr style=\"text-align: right;\">\n",
       "      <th></th>\n",
       "      <th>shapeName</th>\n",
       "      <th>shapeISO</th>\n",
       "      <th>shapeID</th>\n",
       "      <th>shapeGroup</th>\n",
       "      <th>shapeType</th>\n",
       "      <th>geometry</th>\n",
       "    </tr>\n",
       "  </thead>\n",
       "  <tbody>\n",
       "    <tr>\n",
       "      <th>0</th>\n",
       "      <td>Northern Ireland</td>\n",
       "      <td>GB-NIR</td>\n",
       "      <td>14339913B6930312138089</td>\n",
       "      <td>GBR</td>\n",
       "      <td>ADM1</td>\n",
       "      <td>MULTIPOLYGON (((-5.97653 55.05660, -5.96920 55...</td>\n",
       "    </tr>\n",
       "    <tr>\n",
       "      <th>1</th>\n",
       "      <td>England</td>\n",
       "      <td>GB-ENG</td>\n",
       "      <td>14339913B95766344400054</td>\n",
       "      <td>GBR</td>\n",
       "      <td>ADM1</td>\n",
       "      <td>MULTIPOLYGON (((-6.32837 49.88872, -6.34348 49...</td>\n",
       "    </tr>\n",
       "    <tr>\n",
       "      <th>2</th>\n",
       "      <td>Scotland</td>\n",
       "      <td>GB-SCT</td>\n",
       "      <td>14339913B23556801435424</td>\n",
       "      <td>GBR</td>\n",
       "      <td>ADM1</td>\n",
       "      <td>MULTIPOLYGON (((-0.73807 60.42085, -0.76062 60...</td>\n",
       "    </tr>\n",
       "    <tr>\n",
       "      <th>3</th>\n",
       "      <td>Wales</td>\n",
       "      <td>GB-WLS</td>\n",
       "      <td>14339913B89763821047858</td>\n",
       "      <td>GBR</td>\n",
       "      <td>ADM1</td>\n",
       "      <td>MULTIPOLYGON (((-3.10135 53.26694, -3.00024 53...</td>\n",
       "    </tr>\n",
       "  </tbody>\n",
       "</table>\n",
       "</div>"
      ],
      "text/plain": [
       "          shapeName shapeISO                  shapeID shapeGroup shapeType  \\\n",
       "0  Northern Ireland   GB-NIR   14339913B6930312138089        GBR      ADM1   \n",
       "1           England   GB-ENG  14339913B95766344400054        GBR      ADM1   \n",
       "2          Scotland   GB-SCT  14339913B23556801435424        GBR      ADM1   \n",
       "3             Wales   GB-WLS  14339913B89763821047858        GBR      ADM1   \n",
       "\n",
       "                                            geometry  \n",
       "0  MULTIPOLYGON (((-5.97653 55.05660, -5.96920 55...  \n",
       "1  MULTIPOLYGON (((-6.32837 49.88872, -6.34348 49...  \n",
       "2  MULTIPOLYGON (((-0.73807 60.42085, -0.76062 60...  \n",
       "3  MULTIPOLYGON (((-3.10135 53.26694, -3.00024 53...  "
      ]
     },
     "execution_count": 9,
     "metadata": {},
     "output_type": "execute_result"
    }
   ],
   "source": [
    "gb"
   ]
  },
  {
   "cell_type": "code",
   "execution_count": 4,
   "id": "e6f09ecf-d70b-48b8-bafd-134c0e729264",
   "metadata": {},
   "outputs": [],
   "source": [
    "ew = gb[gb.shapeName.isin([\"Wales\", \"England\"])]"
   ]
  },
  {
   "cell_type": "code",
   "execution_count": 14,
   "id": "8253d438-0bf4-4c76-a943-c9879d787946",
   "metadata": {},
   "outputs": [
    {
     "data": {
      "text/html": [
       "<div>\n",
       "<style scoped>\n",
       "    .dataframe tbody tr th:only-of-type {\n",
       "        vertical-align: middle;\n",
       "    }\n",
       "\n",
       "    .dataframe tbody tr th {\n",
       "        vertical-align: top;\n",
       "    }\n",
       "\n",
       "    .dataframe thead th {\n",
       "        text-align: right;\n",
       "    }\n",
       "</style>\n",
       "<table border=\"1\" class=\"dataframe\">\n",
       "  <thead>\n",
       "    <tr style=\"text-align: right;\">\n",
       "      <th></th>\n",
       "      <th>shapeName</th>\n",
       "      <th>shapeISO</th>\n",
       "      <th>shapeID</th>\n",
       "      <th>shapeGroup</th>\n",
       "      <th>shapeType</th>\n",
       "      <th>geometry</th>\n",
       "    </tr>\n",
       "  </thead>\n",
       "  <tbody>\n",
       "    <tr>\n",
       "      <th>1</th>\n",
       "      <td>England</td>\n",
       "      <td>GB-ENG</td>\n",
       "      <td>14339913B95766344400054</td>\n",
       "      <td>GBR</td>\n",
       "      <td>ADM1</td>\n",
       "      <td>MULTIPOLYGON (((-6.32837 49.88872, -6.34348 49...</td>\n",
       "    </tr>\n",
       "    <tr>\n",
       "      <th>3</th>\n",
       "      <td>Wales</td>\n",
       "      <td>GB-WLS</td>\n",
       "      <td>14339913B89763821047858</td>\n",
       "      <td>GBR</td>\n",
       "      <td>ADM1</td>\n",
       "      <td>MULTIPOLYGON (((-3.10135 53.26694, -3.00024 53...</td>\n",
       "    </tr>\n",
       "  </tbody>\n",
       "</table>\n",
       "</div>"
      ],
      "text/plain": [
       "  shapeName shapeISO                  shapeID shapeGroup shapeType  \\\n",
       "1   England   GB-ENG  14339913B95766344400054        GBR      ADM1   \n",
       "3     Wales   GB-WLS  14339913B89763821047858        GBR      ADM1   \n",
       "\n",
       "                                            geometry  \n",
       "1  MULTIPOLYGON (((-6.32837 49.88872, -6.34348 49...  \n",
       "3  MULTIPOLYGON (((-3.10135 53.26694, -3.00024 53...  "
      ]
     },
     "execution_count": 14,
     "metadata": {},
     "output_type": "execute_result"
    }
   ],
   "source": [
    "ew"
   ]
  },
  {
   "cell_type": "code",
   "execution_count": 15,
   "id": "b287b35b-6399-46c0-ba8c-125a0eff0277",
   "metadata": {},
   "outputs": [
    {
     "name": "stdout",
     "output_type": "stream",
     "text": [
      "CPU times: user 38.5 s, sys: 344 ms, total: 38.9 s\n",
      "Wall time: 38.7 s\n"
     ]
    }
   ],
   "source": [
    "%%time\n",
    "grid = h3fy(ew, resolution=9, buffer=False)"
   ]
  },
  {
   "cell_type": "code",
   "execution_count": 16,
   "id": "b95f096f-7cea-474e-aa70-ed7cd8df2730",
   "metadata": {},
   "outputs": [],
   "source": [
    "grid[\"hilbert\"] = grid.hilbert_distance()"
   ]
  },
  {
   "cell_type": "code",
   "execution_count": 17,
   "id": "be0f6125-bdf2-4be7-964d-96b3765b6d59",
   "metadata": {},
   "outputs": [],
   "source": [
    "grid = grid.sort_values(\"hilbert\").drop(columns=\"hilbert\").to_crs(27700)\n",
    "grid.to_parquet(f\"{data_folder}/h3/empty_grid.parquet\")"
   ]
  },
  {
   "cell_type": "markdown",
   "id": "fc275fb5-ace2-46cd-9012-6dbcbfcdbe62",
   "metadata": {},
   "source": [
    "# Interpolate\n",
    "\n",
    "## Air pollution"
   ]
  },
  {
   "cell_type": "code",
   "execution_count": 18,
   "id": "825326c7-597d-4dc8-ba4e-3e66b8139ffa",
   "metadata": {},
   "outputs": [],
   "source": [
    "pm10_21 = (\n",
    "    pd.read_csv(\n",
    "        \"https://uk-air.defra.gov.uk/datastore/pcm/mappm102021g.csv\",\n",
    "        header=5,\n",
    "        na_values=[\"MISSING\"],\n",
    "    )\n",
    "    .set_index([\"x\", \"y\"])\n",
    "    .drop(columns=\"gridcode\")\n",
    "    .to_xarray()\n",
    ")\n",
    "pm25_21 = (\n",
    "    pd.read_csv(\n",
    "        \"https://uk-air.defra.gov.uk/datastore/pcm/mappm252021g.csv\",\n",
    "        header=5,\n",
    "        na_values=[\"MISSING\"],\n",
    "    )\n",
    "    .set_index([\"x\", \"y\"])\n",
    "    .drop(columns=\"gridcode\")\n",
    "    .to_xarray()\n",
    ")\n",
    "no2_21 = (\n",
    "    pd.read_csv(\n",
    "        \"https://uk-air.defra.gov.uk/datastore/pcm/mapno22021.csv\",\n",
    "        header=5,\n",
    "        na_values=[\"MISSING\"],\n",
    "    )\n",
    "    .set_index([\"x\", \"y\"])\n",
    "    .drop(columns=\"gridcode\")\n",
    "    .to_xarray()\n",
    ")\n",
    "so2_21 = (\n",
    "    pd.read_csv(\n",
    "        \"https://uk-air.defra.gov.uk/datastore/pcm/mapso22021.csv\",\n",
    "        header=5,\n",
    "        na_values=[\"MISSING\"],\n",
    "    )\n",
    "    .set_index([\"x\", \"y\"])\n",
    "    .drop(columns=\"gridcode\")\n",
    "    .to_xarray()\n",
    ")\n",
    "pollutants_2021 = xr.merge([pm10_21, pm25_21, no2_21, so2_21])\n",
    "aqi = (\n",
    "    pollutants_2021.pm252021g\n",
    "    + pollutants_2021.pm102021g / 2\n",
    "    + pollutants_2021.no22021 / 4\n",
    "    + pollutants_2021.so22021 / 10\n",
    ")\n",
    "pollutants_2021 = pollutants_2021.assign(aqi=aqi)"
   ]
  },
  {
   "cell_type": "code",
   "execution_count": 19,
   "id": "158b0792-a482-4301-82a6-cb3ace00df5c",
   "metadata": {},
   "outputs": [],
   "source": [
    "bds = ew.to_crs(27700).total_bounds\n",
    "pollutants_aoi = pollutants_2021.sel(x=slice(bds[0], bds[2]), y=slice(bds[1], bds[3]))\n",
    "pollutants_aoi_df = pollutants_aoi.to_dataframe().reset_index()\n",
    "pollutants_aoi_df = gpd.GeoDataFrame(\n",
    "    pollutants_aoi_df,\n",
    "    geometry=gpd.points_from_xy(\n",
    "        pollutants_aoi_df.x, pollutants_aoi_df.y, crs=27700\n",
    "    ).buffer(500, cap_style=3),\n",
    ")"
   ]
  },
  {
   "cell_type": "code",
   "execution_count": 20,
   "id": "a2c4c8cf-1971-4cd5-836d-30419b4f230f",
   "metadata": {},
   "outputs": [
    {
     "name": "stderr",
     "output_type": "stream",
     "text": [
      "/home/martin/mambaforge/envs/stable/lib/python3.12/site-packages/tobler/util/util.py:53: UserWarning: nan values in variable: aqi, replacing with 0\n",
      "  warn(f\"nan values in variable: {column}, replacing with 0\")\n"
     ]
    },
    {
     "name": "stdout",
     "output_type": "stream",
     "text": [
      "CPU times: user 48.7 s, sys: 297 ms, total: 49 s\n",
      "Wall time: 49 s\n"
     ]
    }
   ],
   "source": [
    "%%time\n",
    "interp = tobler.area_weighted.area_interpolate(\n",
    "    pollutants_aoi_df, grid, intensive_variables=[\"aqi\"]\n",
    ")\n",
    "grid[\"air_quality_index\"] = interp.aqi.values"
   ]
  },
  {
   "cell_type": "code",
   "execution_count": 21,
   "id": "8c6d0765-244e-46e3-83be-d7cb11a2ecd2",
   "metadata": {},
   "outputs": [],
   "source": [
    "grid[[\"air_quality_index\"]].to_parquet(f\"{data_folder}/h3/air_quality.parquet\")"
   ]
  },
  {
   "cell_type": "markdown",
   "id": "fc8d3ca3-0ca9-41ec-aad1-47af2ad073bd",
   "metadata": {},
   "source": [
    "## House price & population\n",
    "\n",
    "Both come from same geoms"
   ]
  },
  {
   "cell_type": "code",
   "execution_count": 22,
   "id": "8c986bd1-5e39-4f2d-adb4-b2c7e473af50",
   "metadata": {
    "tags": []
   },
   "outputs": [],
   "source": [
    "house_prices = gpd.read_parquet(\n",
    "    f\"{data_folder}/processed/house_prices/price_per_sqm_england.parquet\"\n",
    ")"
   ]
  },
  {
   "cell_type": "code",
   "execution_count": 23,
   "id": "661f59eb-2444-4581-8286-c77cbb38d3c8",
   "metadata": {
    "tags": []
   },
   "outputs": [],
   "source": [
    "pop = gpd.read_parquet(f\"{data_folder}/processed/gb_population_estimates.pq\")"
   ]
  },
  {
   "cell_type": "code",
   "execution_count": 24,
   "id": "2ad0b63e-2a7b-459a-bccb-e41493751a6f",
   "metadata": {
    "tags": []
   },
   "outputs": [],
   "source": [
    "pop_hp = house_prices.merge(pop[[\"code\", \"population\"]], on=\"code\")"
   ]
  },
  {
   "cell_type": "code",
   "execution_count": 25,
   "id": "63406b8b-f55f-4ae8-8346-59b813350016",
   "metadata": {
    "tags": []
   },
   "outputs": [
    {
     "name": "stdout",
     "output_type": "stream",
     "text": [
      "CPU times: user 1min 1s, sys: 470 ms, total: 1min 2s\n",
      "Wall time: 1min 2s\n"
     ]
    }
   ],
   "source": [
    "%%time\n",
    "interp_oa = tobler.area_weighted.area_interpolate(\n",
    "    pop_hp,\n",
    "    grid,\n",
    "    intensive_variables=[\"priceper\"],\n",
    "    extensive_variables=[\"population\"],\n",
    ")\n",
    "grid[\"house_price_index\"] = interp_oa.priceper.values\n",
    "grid[\"population\"] = interp_oa.population.values"
   ]
  },
  {
   "cell_type": "code",
   "execution_count": 26,
   "id": "261365ad-18f0-4f21-b536-260f43a258d0",
   "metadata": {},
   "outputs": [],
   "source": [
    "grid[[\"house_price_index\"]].to_parquet(f\"{data_folder}/h3/house_price.parquet\")"
   ]
  },
  {
   "cell_type": "code",
   "execution_count": 27,
   "id": "077d46ba-76dd-4c4e-9985-01afc05e7080",
   "metadata": {},
   "outputs": [],
   "source": [
    "grid[[\"population\"]].to_parquet(f\"{data_folder}/h3/population.parquet\")"
   ]
  },
  {
   "cell_type": "markdown",
   "id": "7a8608f5-0839-46af-b0cf-7a24f51233e7",
   "metadata": {},
   "source": [
    "## Workplace population"
   ]
  },
  {
   "cell_type": "code",
   "execution_count": 28,
   "id": "ac66cd2b-b273-4ab8-83c5-ab2636358710",
   "metadata": {
    "tags": []
   },
   "outputs": [],
   "source": [
    "wp = gpd.read_parquet(\n",
    "    f\"{data_folder}/raw/workplace_population/workplace_by_industry_gb.pq\"\n",
    ")"
   ]
  },
  {
   "cell_type": "code",
   "execution_count": 29,
   "id": "be393714-f7d3-4d51-8bc2-f46a8ee41db7",
   "metadata": {},
   "outputs": [
    {
     "name": "stdout",
     "output_type": "stream",
     "text": [
      "CPU times: user 58.3 s, sys: 243 ms, total: 58.5 s\n",
      "Wall time: 58.5 s\n"
     ]
    }
   ],
   "source": [
    "%%time\n",
    "wp_interpolated = tobler.area_weighted.area_interpolate(\n",
    "    wp,\n",
    "    grid,\n",
    "    extensive_variables=[\n",
    "        \"A, B, D, E. Agriculture, energy and water\",\n",
    "        \"C. Manufacturing\",\n",
    "        \"F. Construction\",\n",
    "        \"G, I. Distribution, hotels and restaurants\",\n",
    "        \"H, J. Transport and communication\",\n",
    "        \"K, L, M, N. Financial, real estate, professional and administrative activities\",\n",
    "        \"O,P,Q. Public administration, education and health\",\n",
    "        \"R, S, T, U. Other\",\n",
    "    ],\n",
    ")\n",
    "\n",
    "grid[\n",
    "    [\n",
    "        \"A, B, D, E. Agriculture, energy and water\",\n",
    "        \"C. Manufacturing\",\n",
    "        \"F. Construction\",\n",
    "        \"G, I. Distribution, hotels and restaurants\",\n",
    "        \"H, J. Transport and communication\",\n",
    "        \"K, L, M, N. Financial, real estate, professional and administrative activities\",\n",
    "        \"O,P,Q. Public administration, education and health\",\n",
    "        \"R, S, T, U. Other\",\n",
    "    ]\n",
    "] = wp_interpolated.drop(columns=\"geometry\").values"
   ]
  },
  {
   "cell_type": "code",
   "execution_count": 30,
   "id": "d5438f5d-80c8-4c2a-b553-d36bccd9c92e",
   "metadata": {},
   "outputs": [],
   "source": [
    "grid[[\n",
    "        \"A, B, D, E. Agriculture, energy and water\",\n",
    "        \"C. Manufacturing\",\n",
    "        \"F. Construction\",\n",
    "        \"G, I. Distribution, hotels and restaurants\",\n",
    "        \"H, J. Transport and communication\",\n",
    "        \"K, L, M, N. Financial, real estate, professional and administrative activities\",\n",
    "        \"O,P,Q. Public administration, education and health\",\n",
    "        \"R, S, T, U. Other\",\n",
    "    ]].to_parquet(f\"{data_folder}/h3/wp_population.parquet\")"
   ]
  },
  {
   "cell_type": "markdown",
   "id": "3b084892-6d37-4362-b5eb-5bd610cec22b",
   "metadata": {},
   "source": [
    "## Corine"
   ]
  },
  {
   "cell_type": "code",
   "execution_count": 31,
   "id": "8b7e1b72-5fe5-4e2c-be0c-56ad5645a32d",
   "metadata": {
    "tags": []
   },
   "outputs": [],
   "source": [
    "corine = gpd.read_parquet(f\"{data_folder}/raw/land_cover/corine_gb.pq\")"
   ]
  },
  {
   "cell_type": "code",
   "execution_count": 32,
   "id": "9a3c9220-6c90-4ab0-89b0-1c94e084d64b",
   "metadata": {
    "tags": []
   },
   "outputs": [],
   "source": [
    "corine_names = {\n",
    "    \"Code_18_124\": \"Land cover [Airports]\",\n",
    "    \"Code_18_211\": \"Land cover [Non-irrigated arable land]\",\n",
    "    \"Code_18_121\": \"Land cover [Industrial or commercial units]\",\n",
    "    \"Code_18_421\": \"Land cover [Salt marshes]\",\n",
    "    \"Code_18_522\": \"Land cover [Estuaries]\",\n",
    "    \"Code_18_142\": \"Land cover [Sport and leisure facilities]\",\n",
    "    \"Code_18_141\": \"Land cover [Green urban areas]\",\n",
    "    \"Code_18_112\": \"Land cover [Discontinuous urban fabric]\",\n",
    "    \"Code_18_231\": \"Land cover [Pastures]\",\n",
    "    \"Code_18_311\": \"Land cover [Broad-leaved forest]\",\n",
    "    \"Code_18_131\": \"Land cover [Mineral extraction sites]\",\n",
    "    \"Code_18_123\": \"Land cover [Port areas]\",\n",
    "    \"Code_18_122\": \"Land cover [Road and rail networks and associated land]\",\n",
    "    \"Code_18_512\": \"Land cover [Water bodies]\",\n",
    "    \"Code_18_243\": \"Land cover [Land principally occupied by agriculture, with significant areas of natural vegetation]\",\n",
    "    \"Code_18_313\": \"Land cover [Mixed forest]\",\n",
    "    \"Code_18_412\": \"Land cover [Peat bogs]\",\n",
    "    \"Code_18_321\": \"Land cover [Natural grasslands]\",\n",
    "    \"Code_18_322\": \"Land cover [Moors and heathland]\",\n",
    "    \"Code_18_324\": \"Land cover [Transitional woodland-shrub]\",\n",
    "    \"Code_18_111\": \"Land cover [Continuous urban fabric]\",\n",
    "    \"Code_18_423\": \"Land cover [Intertidal flats]\",\n",
    "    \"Code_18_523\": \"Land cover [Sea and ocean]\",\n",
    "    \"Code_18_312\": \"Land cover [Coniferous forest]\",\n",
    "    \"Code_18_133\": \"Land cover [Construction sites]\",\n",
    "    \"Code_18_333\": \"Land cover [Sparsely vegetated areas]\",\n",
    "    \"Code_18_332\": \"Land cover [Bare rocks]\",\n",
    "    \"Code_18_411\": \"Land cover [Inland marshes]\",\n",
    "    \"Code_18_132\": \"Land cover [Dump sites]\",\n",
    "    \"Code_18_222\": \"Land cover [Fruit trees and berry plantations]\",\n",
    "    \"Code_18_242\": \"Land cover [Complex cultivation patterns]\",\n",
    "    \"Code_18_331\": \"Land cover [Beaches, dunes, sands]\",\n",
    "    \"Code_18_511\": \"Land cover [Water courses]\",\n",
    "    \"Code_18_334\": \"Land cover [Burnt areas]\",\n",
    "    \"Code_18_244\": \"Land cover [Agro-forestry areas]\",\n",
    "    \"Code_18_521\": \"Land cover [Coastal lagoons]\",\n",
    "}"
   ]
  },
  {
   "cell_type": "code",
   "execution_count": 33,
   "id": "2a3417ab-30b1-4ebe-883e-1575d888f354",
   "metadata": {},
   "outputs": [],
   "source": [
    "corine_aoi = corine.iloc[corine.sindex.query(ew.to_crs(27700).unary_union)]"
   ]
  },
  {
   "cell_type": "code",
   "execution_count": 34,
   "id": "3feb9491-2e2f-42ab-9765-f06fbc6bcf2d",
   "metadata": {
    "tags": []
   },
   "outputs": [
    {
     "name": "stdout",
     "output_type": "stream",
     "text": [
      "CPU times: user 1h 26min 32s, sys: 891 ms, total: 1h 26min 33s\n",
      "Wall time: 1h 26min 33s\n"
     ]
    }
   ],
   "source": [
    "%%time\n",
    "corine_interpolated = tobler.area_weighted.area_interpolate(\n",
    "    corine_aoi, grid, categorical_variables=[\"Code_18\"]\n",
    ")\n",
    "corine_interpolated.columns = corine_interpolated.columns.map(corine_names)\n",
    "interesting = [\n",
    "    \"Land cover [Discontinuous urban fabric]\",\n",
    "    \"Land cover [Continuous urban fabric]\",\n",
    "    \"Land cover [Non-irrigated arable land]\",\n",
    "    \"Land cover [Industrial or commercial units]\",\n",
    "    \"Land cover [Green urban areas]\",\n",
    "    \"Land cover [Pastures]\",\n",
    "    \"Land cover [Sport and leisure facilities]\",\n",
    "]\n",
    "grid[interesting] = corine_interpolated[interesting].values"
   ]
  },
  {
   "cell_type": "code",
   "execution_count": 35,
   "id": "e0695cfe-2114-4524-8296-353f65bb1809",
   "metadata": {},
   "outputs": [],
   "source": [
    "grid[interesting].to_parquet(f\"{data_folder}/h3/corine.parquet\")"
   ]
  },
  {
   "cell_type": "markdown",
   "id": "c86d6b86-9384-4464-a0ee-916b2aaaf790",
   "metadata": {},
   "source": [
    "## Morphometrics"
   ]
  },
  {
   "cell_type": "code",
   "execution_count": 36,
   "id": "8ec0a128-b31b-4361-9f33-c96efd8390a6",
   "metadata": {},
   "outputs": [],
   "source": [
    "data = dask_geopandas.read_parquet(\"../../../urbangrammar_samba/spatial_signatures/morphometrics/cells\")"
   ]
  },
  {
   "cell_type": "code",
   "execution_count": 42,
   "id": "95fd3f24-4ffe-45b9-a9bb-513f4d485e5e",
   "metadata": {},
   "outputs": [],
   "source": [
    "data.calculate_spatial_partitions()"
   ]
  },
  {
   "cell_type": "code",
   "execution_count": 37,
   "id": "69b16fa6-a849-4d32-814b-b787d71f5d93",
   "metadata": {},
   "outputs": [],
   "source": [
    "chars = data.columns.drop(\n",
    "    [\n",
    "        \"hindex\",\n",
    "        \"tessellation\",\n",
    "        \"buildings\",\n",
    "        \"nodeID\",\n",
    "        \"edgeID_keys\",\n",
    "        \"edgeID_values\",\n",
    "        \"edgeID_primary\",\n",
    "        \"sdbPer\",\n",
    "        \"ssbElo\",\n",
    "        \"stcOri\",\n",
    "        \"sdcLAL\",\n",
    "        \"mdcAre\",\n",
    "        \"ltcAre\",\n",
    "        \"ltcWRE\",\n",
    "        \"mtdMDi\",\n",
    "        \"lcdMes\",\n",
    "        \"lddNDe\",\n",
    "        \"sddAre\",\n",
    "        \"mdsAre\",\n",
    "        \"ldsAre\",\n",
    "        \"lisCel\",\n",
    "        \"ldePer\",\n",
    "        \"lseCWA\",\n",
    "    ]\n",
    ")"
   ]
  },
  {
   "cell_type": "code",
   "execution_count": 43,
   "id": "7a2b75b2-0cdc-4e7c-82d1-843f370da023",
   "metadata": {
    "collapsed": true,
    "jupyter": {
     "outputs_hidden": true
    },
    "scrolled": true
   },
   "outputs": [
    {
     "name": "stderr",
     "output_type": "stream",
     "text": [
      "/home/martin/mambaforge/envs/stable/lib/python3.12/site-packages/numpy/core/fromnumeric.py:59: FutureWarning: 'GeoDataFrame.swapaxes' is deprecated and will be removed in a future version. Please use 'GeoDataFrame.transpose' instead.\n",
      "  return bound(*args, **kwds)\n",
      "/home/martin/mambaforge/envs/stable/lib/python3.12/site-packages/numpy/core/fromnumeric.py:59: FutureWarning: 'GeoDataFrame.swapaxes' is deprecated and will be removed in a future version. Please use 'GeoDataFrame.transpose' instead.\n",
      "  return bound(*args, **kwds)\n",
      "/home/martin/mambaforge/envs/stable/lib/python3.12/site-packages/numpy/core/fromnumeric.py:59: FutureWarning: 'GeoDataFrame.swapaxes' is deprecated and will be removed in a future version. Please use 'GeoDataFrame.transpose' instead.\n",
      "  return bound(*args, **kwds)\n",
      "/home/martin/mambaforge/envs/stable/lib/python3.12/site-packages/numpy/core/fromnumeric.py:59: FutureWarning: 'GeoDataFrame.swapaxes' is deprecated and will be removed in a future version. Please use 'GeoDataFrame.transpose' instead.\n",
      "  return bound(*args, **kwds)\n",
      "/home/martin/mambaforge/envs/stable/lib/python3.12/site-packages/numpy/core/fromnumeric.py:59: FutureWarning: 'GeoDataFrame.swapaxes' is deprecated and will be removed in a future version. Please use 'GeoDataFrame.transpose' instead.\n",
      "  return bound(*args, **kwds)\n",
      "/home/martin/mambaforge/envs/stable/lib/python3.12/site-packages/numpy/core/fromnumeric.py:59: FutureWarning: 'GeoDataFrame.swapaxes' is deprecated and will be removed in a future version. Please use 'GeoDataFrame.transpose' instead.\n",
      "  return bound(*args, **kwds)\n",
      "/home/martin/mambaforge/envs/stable/lib/python3.12/site-packages/numpy/core/fromnumeric.py:59: FutureWarning: 'GeoDataFrame.swapaxes' is deprecated and will be removed in a future version. Please use 'GeoDataFrame.transpose' instead.\n",
      "  return bound(*args, **kwds)\n",
      "/home/martin/mambaforge/envs/stable/lib/python3.12/site-packages/numpy/core/fromnumeric.py:59: FutureWarning: 'GeoDataFrame.swapaxes' is deprecated and will be removed in a future version. Please use 'GeoDataFrame.transpose' instead.\n",
      "  return bound(*args, **kwds)\n",
      "/home/martin/mambaforge/envs/stable/lib/python3.12/site-packages/numpy/core/fromnumeric.py:59: FutureWarning: 'GeoDataFrame.swapaxes' is deprecated and will be removed in a future version. Please use 'GeoDataFrame.transpose' instead.\n",
      "  return bound(*args, **kwds)\n",
      "/home/martin/mambaforge/envs/stable/lib/python3.12/site-packages/numpy/core/fromnumeric.py:59: FutureWarning: 'GeoDataFrame.swapaxes' is deprecated and will be removed in a future version. Please use 'GeoDataFrame.transpose' instead.\n",
      "  return bound(*args, **kwds)\n",
      "/home/martin/mambaforge/envs/stable/lib/python3.12/site-packages/numpy/core/fromnumeric.py:59: FutureWarning: 'GeoDataFrame.swapaxes' is deprecated and will be removed in a future version. Please use 'GeoDataFrame.transpose' instead.\n",
      "  return bound(*args, **kwds)\n",
      "/home/martin/mambaforge/envs/stable/lib/python3.12/site-packages/numpy/core/fromnumeric.py:59: FutureWarning: 'GeoDataFrame.swapaxes' is deprecated and will be removed in a future version. Please use 'GeoDataFrame.transpose' instead.\n",
      "  return bound(*args, **kwds)\n",
      "/home/martin/mambaforge/envs/stable/lib/python3.12/site-packages/numpy/core/fromnumeric.py:59: FutureWarning: 'GeoDataFrame.swapaxes' is deprecated and will be removed in a future version. Please use 'GeoDataFrame.transpose' instead.\n",
      "  return bound(*args, **kwds)\n",
      "/home/martin/mambaforge/envs/stable/lib/python3.12/site-packages/numpy/core/fromnumeric.py:59: FutureWarning: 'GeoDataFrame.swapaxes' is deprecated and will be removed in a future version. Please use 'GeoDataFrame.transpose' instead.\n",
      "  return bound(*args, **kwds)\n",
      "/home/martin/mambaforge/envs/stable/lib/python3.12/site-packages/numpy/core/fromnumeric.py:59: FutureWarning: 'GeoDataFrame.swapaxes' is deprecated and will be removed in a future version. Please use 'GeoDataFrame.transpose' instead.\n",
      "  return bound(*args, **kwds)\n",
      "/home/martin/mambaforge/envs/stable/lib/python3.12/site-packages/numpy/core/fromnumeric.py:59: FutureWarning: 'GeoDataFrame.swapaxes' is deprecated and will be removed in a future version. Please use 'GeoDataFrame.transpose' instead.\n",
      "  return bound(*args, **kwds)\n",
      "/home/martin/mambaforge/envs/stable/lib/python3.12/site-packages/numpy/core/fromnumeric.py:59: FutureWarning: 'GeoDataFrame.swapaxes' is deprecated and will be removed in a future version. Please use 'GeoDataFrame.transpose' instead.\n",
      "  return bound(*args, **kwds)\n",
      "/home/martin/mambaforge/envs/stable/lib/python3.12/site-packages/numpy/core/fromnumeric.py:59: FutureWarning: 'GeoDataFrame.swapaxes' is deprecated and will be removed in a future version. Please use 'GeoDataFrame.transpose' instead.\n",
      "  return bound(*args, **kwds)\n",
      "/home/martin/mambaforge/envs/stable/lib/python3.12/site-packages/numpy/core/fromnumeric.py:59: FutureWarning: 'GeoDataFrame.swapaxes' is deprecated and will be removed in a future version. Please use 'GeoDataFrame.transpose' instead.\n",
      "  return bound(*args, **kwds)\n",
      "/home/martin/mambaforge/envs/stable/lib/python3.12/site-packages/numpy/core/fromnumeric.py:59: FutureWarning: 'GeoDataFrame.swapaxes' is deprecated and will be removed in a future version. Please use 'GeoDataFrame.transpose' instead.\n",
      "  return bound(*args, **kwds)\n",
      "/home/martin/mambaforge/envs/stable/lib/python3.12/site-packages/numpy/core/fromnumeric.py:59: FutureWarning: 'GeoDataFrame.swapaxes' is deprecated and will be removed in a future version. Please use 'GeoDataFrame.transpose' instead.\n",
      "  return bound(*args, **kwds)\n",
      "/home/martin/mambaforge/envs/stable/lib/python3.12/site-packages/numpy/core/fromnumeric.py:59: FutureWarning: 'GeoDataFrame.swapaxes' is deprecated and will be removed in a future version. Please use 'GeoDataFrame.transpose' instead.\n",
      "  return bound(*args, **kwds)\n",
      "/home/martin/mambaforge/envs/stable/lib/python3.12/site-packages/numpy/core/fromnumeric.py:59: FutureWarning: 'GeoDataFrame.swapaxes' is deprecated and will be removed in a future version. Please use 'GeoDataFrame.transpose' instead.\n",
      "  return bound(*args, **kwds)\n",
      "/home/martin/mambaforge/envs/stable/lib/python3.12/site-packages/numpy/core/fromnumeric.py:59: FutureWarning: 'GeoDataFrame.swapaxes' is deprecated and will be removed in a future version. Please use 'GeoDataFrame.transpose' instead.\n",
      "  return bound(*args, **kwds)\n",
      "/home/martin/mambaforge/envs/stable/lib/python3.12/site-packages/numpy/core/fromnumeric.py:59: FutureWarning: 'GeoDataFrame.swapaxes' is deprecated and will be removed in a future version. Please use 'GeoDataFrame.transpose' instead.\n",
      "  return bound(*args, **kwds)\n",
      "/home/martin/mambaforge/envs/stable/lib/python3.12/site-packages/numpy/core/fromnumeric.py:59: FutureWarning: 'GeoDataFrame.swapaxes' is deprecated and will be removed in a future version. Please use 'GeoDataFrame.transpose' instead.\n",
      "  return bound(*args, **kwds)\n",
      "/home/martin/mambaforge/envs/stable/lib/python3.12/site-packages/numpy/core/fromnumeric.py:59: FutureWarning: 'GeoDataFrame.swapaxes' is deprecated and will be removed in a future version. Please use 'GeoDataFrame.transpose' instead.\n",
      "  return bound(*args, **kwds)\n",
      "/home/martin/mambaforge/envs/stable/lib/python3.12/site-packages/numpy/core/fromnumeric.py:59: FutureWarning: 'GeoDataFrame.swapaxes' is deprecated and will be removed in a future version. Please use 'GeoDataFrame.transpose' instead.\n",
      "  return bound(*args, **kwds)\n",
      "/home/martin/mambaforge/envs/stable/lib/python3.12/site-packages/numpy/core/fromnumeric.py:59: FutureWarning: 'GeoDataFrame.swapaxes' is deprecated and will be removed in a future version. Please use 'GeoDataFrame.transpose' instead.\n",
      "  return bound(*args, **kwds)\n",
      "/home/martin/mambaforge/envs/stable/lib/python3.12/site-packages/numpy/core/fromnumeric.py:59: FutureWarning: 'GeoDataFrame.swapaxes' is deprecated and will be removed in a future version. Please use 'GeoDataFrame.transpose' instead.\n",
      "  return bound(*args, **kwds)\n",
      "/home/martin/mambaforge/envs/stable/lib/python3.12/site-packages/numpy/core/fromnumeric.py:59: FutureWarning: 'GeoDataFrame.swapaxes' is deprecated and will be removed in a future version. Please use 'GeoDataFrame.transpose' instead.\n",
      "  return bound(*args, **kwds)\n",
      "/home/martin/mambaforge/envs/stable/lib/python3.12/site-packages/numpy/core/fromnumeric.py:59: FutureWarning: 'GeoDataFrame.swapaxes' is deprecated and will be removed in a future version. Please use 'GeoDataFrame.transpose' instead.\n",
      "  return bound(*args, **kwds)\n",
      "/home/martin/mambaforge/envs/stable/lib/python3.12/site-packages/numpy/core/fromnumeric.py:59: FutureWarning: 'GeoDataFrame.swapaxes' is deprecated and will be removed in a future version. Please use 'GeoDataFrame.transpose' instead.\n",
      "  return bound(*args, **kwds)\n",
      "/home/martin/mambaforge/envs/stable/lib/python3.12/site-packages/numpy/core/fromnumeric.py:59: FutureWarning: 'GeoDataFrame.swapaxes' is deprecated and will be removed in a future version. Please use 'GeoDataFrame.transpose' instead.\n",
      "  return bound(*args, **kwds)\n",
      "/home/martin/mambaforge/envs/stable/lib/python3.12/site-packages/numpy/core/fromnumeric.py:59: FutureWarning: 'GeoDataFrame.swapaxes' is deprecated and will be removed in a future version. Please use 'GeoDataFrame.transpose' instead.\n",
      "  return bound(*args, **kwds)\n",
      "/home/martin/mambaforge/envs/stable/lib/python3.12/site-packages/numpy/core/fromnumeric.py:59: FutureWarning: 'GeoDataFrame.swapaxes' is deprecated and will be removed in a future version. Please use 'GeoDataFrame.transpose' instead.\n",
      "  return bound(*args, **kwds)\n",
      "/home/martin/mambaforge/envs/stable/lib/python3.12/site-packages/numpy/core/fromnumeric.py:59: FutureWarning: 'GeoDataFrame.swapaxes' is deprecated and will be removed in a future version. Please use 'GeoDataFrame.transpose' instead.\n",
      "  return bound(*args, **kwds)\n",
      "/home/martin/mambaforge/envs/stable/lib/python3.12/site-packages/numpy/core/fromnumeric.py:59: FutureWarning: 'GeoDataFrame.swapaxes' is deprecated and will be removed in a future version. Please use 'GeoDataFrame.transpose' instead.\n",
      "  return bound(*args, **kwds)\n",
      "/home/martin/mambaforge/envs/stable/lib/python3.12/site-packages/numpy/core/fromnumeric.py:59: FutureWarning: 'GeoDataFrame.swapaxes' is deprecated and will be removed in a future version. Please use 'GeoDataFrame.transpose' instead.\n",
      "  return bound(*args, **kwds)\n",
      "/home/martin/mambaforge/envs/stable/lib/python3.12/site-packages/numpy/core/fromnumeric.py:59: FutureWarning: 'GeoDataFrame.swapaxes' is deprecated and will be removed in a future version. Please use 'GeoDataFrame.transpose' instead.\n",
      "  return bound(*args, **kwds)\n",
      "/home/martin/mambaforge/envs/stable/lib/python3.12/site-packages/numpy/core/fromnumeric.py:59: FutureWarning: 'GeoDataFrame.swapaxes' is deprecated and will be removed in a future version. Please use 'GeoDataFrame.transpose' instead.\n",
      "  return bound(*args, **kwds)\n",
      "/home/martin/mambaforge/envs/stable/lib/python3.12/site-packages/numpy/core/fromnumeric.py:59: FutureWarning: 'GeoDataFrame.swapaxes' is deprecated and will be removed in a future version. Please use 'GeoDataFrame.transpose' instead.\n",
      "  return bound(*args, **kwds)\n",
      "/home/martin/mambaforge/envs/stable/lib/python3.12/site-packages/numpy/core/fromnumeric.py:59: FutureWarning: 'GeoDataFrame.swapaxes' is deprecated and will be removed in a future version. Please use 'GeoDataFrame.transpose' instead.\n",
      "  return bound(*args, **kwds)\n",
      "/home/martin/mambaforge/envs/stable/lib/python3.12/site-packages/numpy/core/fromnumeric.py:59: FutureWarning: 'GeoDataFrame.swapaxes' is deprecated and will be removed in a future version. Please use 'GeoDataFrame.transpose' instead.\n",
      "  return bound(*args, **kwds)\n",
      "/home/martin/mambaforge/envs/stable/lib/python3.12/site-packages/numpy/core/fromnumeric.py:59: FutureWarning: 'GeoDataFrame.swapaxes' is deprecated and will be removed in a future version. Please use 'GeoDataFrame.transpose' instead.\n",
      "  return bound(*args, **kwds)\n",
      "/home/martin/mambaforge/envs/stable/lib/python3.12/site-packages/numpy/core/fromnumeric.py:59: FutureWarning: 'GeoDataFrame.swapaxes' is deprecated and will be removed in a future version. Please use 'GeoDataFrame.transpose' instead.\n",
      "  return bound(*args, **kwds)\n",
      "/home/martin/mambaforge/envs/stable/lib/python3.12/site-packages/numpy/core/fromnumeric.py:59: FutureWarning: 'GeoDataFrame.swapaxes' is deprecated and will be removed in a future version. Please use 'GeoDataFrame.transpose' instead.\n",
      "  return bound(*args, **kwds)\n",
      "/home/martin/mambaforge/envs/stable/lib/python3.12/site-packages/numpy/core/fromnumeric.py:59: FutureWarning: 'GeoDataFrame.swapaxes' is deprecated and will be removed in a future version. Please use 'GeoDataFrame.transpose' instead.\n",
      "  return bound(*args, **kwds)\n",
      "/home/martin/mambaforge/envs/stable/lib/python3.12/site-packages/numpy/core/fromnumeric.py:59: FutureWarning: 'GeoDataFrame.swapaxes' is deprecated and will be removed in a future version. Please use 'GeoDataFrame.transpose' instead.\n",
      "  return bound(*args, **kwds)\n",
      "/home/martin/mambaforge/envs/stable/lib/python3.12/site-packages/numpy/core/fromnumeric.py:59: FutureWarning: 'GeoDataFrame.swapaxes' is deprecated and will be removed in a future version. Please use 'GeoDataFrame.transpose' instead.\n",
      "  return bound(*args, **kwds)\n",
      "/home/martin/mambaforge/envs/stable/lib/python3.12/site-packages/numpy/core/fromnumeric.py:59: FutureWarning: 'GeoDataFrame.swapaxes' is deprecated and will be removed in a future version. Please use 'GeoDataFrame.transpose' instead.\n",
      "  return bound(*args, **kwds)\n",
      "/home/martin/mambaforge/envs/stable/lib/python3.12/site-packages/numpy/core/fromnumeric.py:59: FutureWarning: 'GeoDataFrame.swapaxes' is deprecated and will be removed in a future version. Please use 'GeoDataFrame.transpose' instead.\n",
      "  return bound(*args, **kwds)\n",
      "/home/martin/mambaforge/envs/stable/lib/python3.12/site-packages/numpy/core/fromnumeric.py:59: FutureWarning: 'GeoDataFrame.swapaxes' is deprecated and will be removed in a future version. Please use 'GeoDataFrame.transpose' instead.\n",
      "  return bound(*args, **kwds)\n",
      "/home/martin/mambaforge/envs/stable/lib/python3.12/site-packages/numpy/core/fromnumeric.py:59: FutureWarning: 'GeoDataFrame.swapaxes' is deprecated and will be removed in a future version. Please use 'GeoDataFrame.transpose' instead.\n",
      "  return bound(*args, **kwds)\n",
      "/home/martin/mambaforge/envs/stable/lib/python3.12/site-packages/numpy/core/fromnumeric.py:59: FutureWarning: 'GeoDataFrame.swapaxes' is deprecated and will be removed in a future version. Please use 'GeoDataFrame.transpose' instead.\n",
      "  return bound(*args, **kwds)\n",
      "/home/martin/mambaforge/envs/stable/lib/python3.12/site-packages/numpy/core/fromnumeric.py:59: FutureWarning: 'GeoDataFrame.swapaxes' is deprecated and will be removed in a future version. Please use 'GeoDataFrame.transpose' instead.\n",
      "  return bound(*args, **kwds)\n",
      "/home/martin/mambaforge/envs/stable/lib/python3.12/site-packages/numpy/core/fromnumeric.py:59: FutureWarning: 'GeoDataFrame.swapaxes' is deprecated and will be removed in a future version. Please use 'GeoDataFrame.transpose' instead.\n",
      "  return bound(*args, **kwds)\n",
      "/home/martin/mambaforge/envs/stable/lib/python3.12/site-packages/numpy/core/fromnumeric.py:59: FutureWarning: 'GeoDataFrame.swapaxes' is deprecated and will be removed in a future version. Please use 'GeoDataFrame.transpose' instead.\n",
      "  return bound(*args, **kwds)\n",
      "/home/martin/mambaforge/envs/stable/lib/python3.12/site-packages/numpy/core/fromnumeric.py:59: FutureWarning: 'GeoDataFrame.swapaxes' is deprecated and will be removed in a future version. Please use 'GeoDataFrame.transpose' instead.\n",
      "  return bound(*args, **kwds)\n",
      "/home/martin/mambaforge/envs/stable/lib/python3.12/site-packages/numpy/core/fromnumeric.py:59: FutureWarning: 'GeoDataFrame.swapaxes' is deprecated and will be removed in a future version. Please use 'GeoDataFrame.transpose' instead.\n",
      "  return bound(*args, **kwds)\n",
      "/home/martin/mambaforge/envs/stable/lib/python3.12/site-packages/numpy/core/fromnumeric.py:59: FutureWarning: 'GeoDataFrame.swapaxes' is deprecated and will be removed in a future version. Please use 'GeoDataFrame.transpose' instead.\n",
      "  return bound(*args, **kwds)\n",
      "/home/martin/mambaforge/envs/stable/lib/python3.12/site-packages/numpy/core/fromnumeric.py:59: FutureWarning: 'GeoDataFrame.swapaxes' is deprecated and will be removed in a future version. Please use 'GeoDataFrame.transpose' instead.\n",
      "  return bound(*args, **kwds)\n",
      "/home/martin/mambaforge/envs/stable/lib/python3.12/site-packages/numpy/core/fromnumeric.py:59: FutureWarning: 'GeoDataFrame.swapaxes' is deprecated and will be removed in a future version. Please use 'GeoDataFrame.transpose' instead.\n",
      "  return bound(*args, **kwds)\n",
      "/home/martin/mambaforge/envs/stable/lib/python3.12/site-packages/numpy/core/fromnumeric.py:59: FutureWarning: 'GeoDataFrame.swapaxes' is deprecated and will be removed in a future version. Please use 'GeoDataFrame.transpose' instead.\n",
      "  return bound(*args, **kwds)\n",
      "/home/martin/mambaforge/envs/stable/lib/python3.12/site-packages/numpy/core/fromnumeric.py:59: FutureWarning: 'GeoDataFrame.swapaxes' is deprecated and will be removed in a future version. Please use 'GeoDataFrame.transpose' instead.\n",
      "  return bound(*args, **kwds)\n",
      "/home/martin/mambaforge/envs/stable/lib/python3.12/site-packages/numpy/core/fromnumeric.py:59: FutureWarning: 'GeoDataFrame.swapaxes' is deprecated and will be removed in a future version. Please use 'GeoDataFrame.transpose' instead.\n",
      "  return bound(*args, **kwds)\n",
      "/home/martin/mambaforge/envs/stable/lib/python3.12/site-packages/numpy/core/fromnumeric.py:59: FutureWarning: 'GeoDataFrame.swapaxes' is deprecated and will be removed in a future version. Please use 'GeoDataFrame.transpose' instead.\n",
      "  return bound(*args, **kwds)\n",
      "/home/martin/mambaforge/envs/stable/lib/python3.12/site-packages/numpy/core/fromnumeric.py:59: FutureWarning: 'GeoDataFrame.swapaxes' is deprecated and will be removed in a future version. Please use 'GeoDataFrame.transpose' instead.\n",
      "  return bound(*args, **kwds)\n",
      "/home/martin/mambaforge/envs/stable/lib/python3.12/site-packages/numpy/core/fromnumeric.py:59: FutureWarning: 'GeoDataFrame.swapaxes' is deprecated and will be removed in a future version. Please use 'GeoDataFrame.transpose' instead.\n",
      "  return bound(*args, **kwds)\n",
      "/home/martin/mambaforge/envs/stable/lib/python3.12/site-packages/numpy/core/fromnumeric.py:59: FutureWarning: 'GeoDataFrame.swapaxes' is deprecated and will be removed in a future version. Please use 'GeoDataFrame.transpose' instead.\n",
      "  return bound(*args, **kwds)\n",
      "/home/martin/mambaforge/envs/stable/lib/python3.12/site-packages/numpy/core/fromnumeric.py:59: FutureWarning: 'GeoDataFrame.swapaxes' is deprecated and will be removed in a future version. Please use 'GeoDataFrame.transpose' instead.\n",
      "  return bound(*args, **kwds)\n",
      "/home/martin/mambaforge/envs/stable/lib/python3.12/site-packages/numpy/core/fromnumeric.py:59: FutureWarning: 'GeoDataFrame.swapaxes' is deprecated and will be removed in a future version. Please use 'GeoDataFrame.transpose' instead.\n",
      "  return bound(*args, **kwds)\n",
      "/home/martin/mambaforge/envs/stable/lib/python3.12/site-packages/numpy/core/fromnumeric.py:59: FutureWarning: 'GeoDataFrame.swapaxes' is deprecated and will be removed in a future version. Please use 'GeoDataFrame.transpose' instead.\n",
      "  return bound(*args, **kwds)\n",
      "/home/martin/mambaforge/envs/stable/lib/python3.12/site-packages/numpy/core/fromnumeric.py:59: FutureWarning: 'GeoDataFrame.swapaxes' is deprecated and will be removed in a future version. Please use 'GeoDataFrame.transpose' instead.\n",
      "  return bound(*args, **kwds)\n",
      "/home/martin/mambaforge/envs/stable/lib/python3.12/site-packages/numpy/core/fromnumeric.py:59: FutureWarning: 'GeoDataFrame.swapaxes' is deprecated and will be removed in a future version. Please use 'GeoDataFrame.transpose' instead.\n",
      "  return bound(*args, **kwds)\n",
      "/home/martin/mambaforge/envs/stable/lib/python3.12/site-packages/numpy/core/fromnumeric.py:59: FutureWarning: 'GeoDataFrame.swapaxes' is deprecated and will be removed in a future version. Please use 'GeoDataFrame.transpose' instead.\n",
      "  return bound(*args, **kwds)\n",
      "/home/martin/mambaforge/envs/stable/lib/python3.12/site-packages/numpy/core/fromnumeric.py:59: FutureWarning: 'GeoDataFrame.swapaxes' is deprecated and will be removed in a future version. Please use 'GeoDataFrame.transpose' instead.\n",
      "  return bound(*args, **kwds)\n",
      "/home/martin/mambaforge/envs/stable/lib/python3.12/site-packages/numpy/core/fromnumeric.py:59: FutureWarning: 'GeoDataFrame.swapaxes' is deprecated and will be removed in a future version. Please use 'GeoDataFrame.transpose' instead.\n",
      "  return bound(*args, **kwds)\n",
      "/home/martin/mambaforge/envs/stable/lib/python3.12/site-packages/numpy/core/fromnumeric.py:59: FutureWarning: 'GeoDataFrame.swapaxes' is deprecated and will be removed in a future version. Please use 'GeoDataFrame.transpose' instead.\n",
      "  return bound(*args, **kwds)\n",
      "/home/martin/mambaforge/envs/stable/lib/python3.12/site-packages/numpy/core/fromnumeric.py:59: FutureWarning: 'GeoDataFrame.swapaxes' is deprecated and will be removed in a future version. Please use 'GeoDataFrame.transpose' instead.\n",
      "  return bound(*args, **kwds)\n",
      "/home/martin/mambaforge/envs/stable/lib/python3.12/site-packages/numpy/core/fromnumeric.py:59: FutureWarning: 'GeoDataFrame.swapaxes' is deprecated and will be removed in a future version. Please use 'GeoDataFrame.transpose' instead.\n",
      "  return bound(*args, **kwds)\n",
      "/home/martin/mambaforge/envs/stable/lib/python3.12/site-packages/numpy/core/fromnumeric.py:59: FutureWarning: 'GeoDataFrame.swapaxes' is deprecated and will be removed in a future version. Please use 'GeoDataFrame.transpose' instead.\n",
      "  return bound(*args, **kwds)\n",
      "/home/martin/mambaforge/envs/stable/lib/python3.12/site-packages/numpy/core/fromnumeric.py:59: FutureWarning: 'GeoDataFrame.swapaxes' is deprecated and will be removed in a future version. Please use 'GeoDataFrame.transpose' instead.\n",
      "  return bound(*args, **kwds)\n",
      "/home/martin/mambaforge/envs/stable/lib/python3.12/site-packages/numpy/core/fromnumeric.py:59: FutureWarning: 'GeoDataFrame.swapaxes' is deprecated and will be removed in a future version. Please use 'GeoDataFrame.transpose' instead.\n",
      "  return bound(*args, **kwds)\n",
      "/home/martin/mambaforge/envs/stable/lib/python3.12/site-packages/numpy/core/fromnumeric.py:59: FutureWarning: 'GeoDataFrame.swapaxes' is deprecated and will be removed in a future version. Please use 'GeoDataFrame.transpose' instead.\n",
      "  return bound(*args, **kwds)\n",
      "/home/martin/mambaforge/envs/stable/lib/python3.12/site-packages/numpy/core/fromnumeric.py:59: FutureWarning: 'GeoDataFrame.swapaxes' is deprecated and will be removed in a future version. Please use 'GeoDataFrame.transpose' instead.\n",
      "  return bound(*args, **kwds)\n",
      "/home/martin/mambaforge/envs/stable/lib/python3.12/site-packages/numpy/core/fromnumeric.py:59: FutureWarning: 'GeoDataFrame.swapaxes' is deprecated and will be removed in a future version. Please use 'GeoDataFrame.transpose' instead.\n",
      "  return bound(*args, **kwds)\n",
      "/home/martin/mambaforge/envs/stable/lib/python3.12/site-packages/numpy/core/fromnumeric.py:59: FutureWarning: 'GeoDataFrame.swapaxes' is deprecated and will be removed in a future version. Please use 'GeoDataFrame.transpose' instead.\n",
      "  return bound(*args, **kwds)\n",
      "/home/martin/mambaforge/envs/stable/lib/python3.12/site-packages/numpy/core/fromnumeric.py:59: FutureWarning: 'GeoDataFrame.swapaxes' is deprecated and will be removed in a future version. Please use 'GeoDataFrame.transpose' instead.\n",
      "  return bound(*args, **kwds)\n",
      "/home/martin/mambaforge/envs/stable/lib/python3.12/site-packages/numpy/core/fromnumeric.py:59: FutureWarning: 'GeoDataFrame.swapaxes' is deprecated and will be removed in a future version. Please use 'GeoDataFrame.transpose' instead.\n",
      "  return bound(*args, **kwds)\n",
      "/home/martin/mambaforge/envs/stable/lib/python3.12/site-packages/numpy/core/fromnumeric.py:59: FutureWarning: 'GeoDataFrame.swapaxes' is deprecated and will be removed in a future version. Please use 'GeoDataFrame.transpose' instead.\n",
      "  return bound(*args, **kwds)\n",
      "/home/martin/mambaforge/envs/stable/lib/python3.12/site-packages/numpy/core/fromnumeric.py:59: FutureWarning: 'GeoDataFrame.swapaxes' is deprecated and will be removed in a future version. Please use 'GeoDataFrame.transpose' instead.\n",
      "  return bound(*args, **kwds)\n",
      "/home/martin/mambaforge/envs/stable/lib/python3.12/site-packages/numpy/core/fromnumeric.py:59: FutureWarning: 'GeoDataFrame.swapaxes' is deprecated and will be removed in a future version. Please use 'GeoDataFrame.transpose' instead.\n",
      "  return bound(*args, **kwds)\n",
      "/home/martin/mambaforge/envs/stable/lib/python3.12/site-packages/numpy/core/fromnumeric.py:59: FutureWarning: 'GeoDataFrame.swapaxes' is deprecated and will be removed in a future version. Please use 'GeoDataFrame.transpose' instead.\n",
      "  return bound(*args, **kwds)\n",
      "/home/martin/mambaforge/envs/stable/lib/python3.12/site-packages/numpy/core/fromnumeric.py:59: FutureWarning: 'GeoDataFrame.swapaxes' is deprecated and will be removed in a future version. Please use 'GeoDataFrame.transpose' instead.\n",
      "  return bound(*args, **kwds)\n",
      "/home/martin/mambaforge/envs/stable/lib/python3.12/site-packages/numpy/core/fromnumeric.py:59: FutureWarning: 'GeoDataFrame.swapaxes' is deprecated and will be removed in a future version. Please use 'GeoDataFrame.transpose' instead.\n",
      "  return bound(*args, **kwds)\n",
      "/home/martin/mambaforge/envs/stable/lib/python3.12/site-packages/numpy/core/fromnumeric.py:59: FutureWarning: 'GeoDataFrame.swapaxes' is deprecated and will be removed in a future version. Please use 'GeoDataFrame.transpose' instead.\n",
      "  return bound(*args, **kwds)\n",
      "/home/martin/mambaforge/envs/stable/lib/python3.12/site-packages/numpy/core/fromnumeric.py:59: FutureWarning: 'GeoDataFrame.swapaxes' is deprecated and will be removed in a future version. Please use 'GeoDataFrame.transpose' instead.\n",
      "  return bound(*args, **kwds)\n",
      "/home/martin/mambaforge/envs/stable/lib/python3.12/site-packages/numpy/core/fromnumeric.py:59: FutureWarning: 'GeoDataFrame.swapaxes' is deprecated and will be removed in a future version. Please use 'GeoDataFrame.transpose' instead.\n",
      "  return bound(*args, **kwds)\n",
      "/home/martin/mambaforge/envs/stable/lib/python3.12/site-packages/numpy/core/fromnumeric.py:59: FutureWarning: 'GeoDataFrame.swapaxes' is deprecated and will be removed in a future version. Please use 'GeoDataFrame.transpose' instead.\n",
      "  return bound(*args, **kwds)\n",
      "/home/martin/mambaforge/envs/stable/lib/python3.12/site-packages/numpy/core/fromnumeric.py:59: FutureWarning: 'GeoDataFrame.swapaxes' is deprecated and will be removed in a future version. Please use 'GeoDataFrame.transpose' instead.\n",
      "  return bound(*args, **kwds)\n",
      "/home/martin/mambaforge/envs/stable/lib/python3.12/site-packages/tobler/util/util.py:53: UserWarning: nan values in variable: sdbAre, replacing with 0\n",
      "  warn(f\"nan values in variable: {column}, replacing with 0\")\n",
      "/home/martin/mambaforge/envs/stable/lib/python3.12/site-packages/tobler/util/util.py:53: UserWarning: nan values in variable: sdbCoA, replacing with 0\n",
      "  warn(f\"nan values in variable: {column}, replacing with 0\")\n",
      "/home/martin/mambaforge/envs/stable/lib/python3.12/site-packages/tobler/util/util.py:53: UserWarning: nan values in variable: ssbCCo, replacing with 0\n",
      "  warn(f\"nan values in variable: {column}, replacing with 0\")\n",
      "/home/martin/mambaforge/envs/stable/lib/python3.12/site-packages/tobler/util/util.py:53: UserWarning: nan values in variable: ssbCor, replacing with 0\n",
      "  warn(f\"nan values in variable: {column}, replacing with 0\")\n",
      "/home/martin/mambaforge/envs/stable/lib/python3.12/site-packages/tobler/util/util.py:53: UserWarning: nan values in variable: ssbSqu, replacing with 0\n",
      "  warn(f\"nan values in variable: {column}, replacing with 0\")\n",
      "/home/martin/mambaforge/envs/stable/lib/python3.12/site-packages/tobler/util/util.py:53: UserWarning: nan values in variable: ssbERI, replacing with 0\n",
      "  warn(f\"nan values in variable: {column}, replacing with 0\")\n",
      "/home/martin/mambaforge/envs/stable/lib/python3.12/site-packages/tobler/util/util.py:53: UserWarning: nan values in variable: ssbCCM, replacing with 0\n",
      "  warn(f\"nan values in variable: {column}, replacing with 0\")\n",
      "/home/martin/mambaforge/envs/stable/lib/python3.12/site-packages/tobler/util/util.py:53: UserWarning: nan values in variable: ssbCCD, replacing with 0\n",
      "  warn(f\"nan values in variable: {column}, replacing with 0\")\n",
      "/home/martin/mambaforge/envs/stable/lib/python3.12/site-packages/tobler/util/util.py:53: UserWarning: nan values in variable: stbOri, replacing with 0\n",
      "  warn(f\"nan values in variable: {column}, replacing with 0\")\n",
      "/home/martin/mambaforge/envs/stable/lib/python3.12/site-packages/tobler/util/util.py:53: UserWarning: nan values in variable: sicCAR, replacing with 0\n",
      "  warn(f\"nan values in variable: {column}, replacing with 0\")\n",
      "/home/martin/mambaforge/envs/stable/lib/python3.12/site-packages/tobler/util/util.py:53: UserWarning: nan values in variable: stbCeA, replacing with 0\n",
      "  warn(f\"nan values in variable: {column}, replacing with 0\")\n",
      "/home/martin/mambaforge/envs/stable/lib/python3.12/site-packages/tobler/util/util.py:53: UserWarning: nan values in variable: mtbAli, replacing with 0\n",
      "  warn(f\"nan values in variable: {column}, replacing with 0\")\n",
      "/home/martin/mambaforge/envs/stable/lib/python3.12/site-packages/tobler/util/util.py:53: UserWarning: nan values in variable: mtbNDi, replacing with 0\n",
      "  warn(f\"nan values in variable: {column}, replacing with 0\")\n",
      "/home/martin/mambaforge/envs/stable/lib/python3.12/site-packages/tobler/util/util.py:53: UserWarning: nan values in variable: ltbIBD, replacing with 0\n",
      "  warn(f\"nan values in variable: {column}, replacing with 0\")\n",
      "/home/martin/mambaforge/envs/stable/lib/python3.12/site-packages/tobler/util/util.py:53: UserWarning: nan values in variable: stbSAl, replacing with 0\n",
      "  warn(f\"nan values in variable: {column}, replacing with 0\")\n",
      "/home/martin/mambaforge/envs/stable/lib/python3.12/site-packages/tobler/util/util.py:53: UserWarning: nan values in variable: lieWCe, replacing with 0\n",
      "  warn(f\"nan values in variable: {column}, replacing with 0\")\n"
     ]
    },
    {
     "name": "stdout",
     "output_type": "stream",
     "text": [
      "Chunk 0 done in 54.12 seconds.\n"
     ]
    },
    {
     "name": "stderr",
     "output_type": "stream",
     "text": [
      "/home/martin/mambaforge/envs/stable/lib/python3.12/site-packages/tobler/util/util.py:53: UserWarning: nan values in variable: sdbAre, replacing with 0\n",
      "  warn(f\"nan values in variable: {column}, replacing with 0\")\n",
      "/home/martin/mambaforge/envs/stable/lib/python3.12/site-packages/tobler/util/util.py:53: UserWarning: nan values in variable: sdbCoA, replacing with 0\n",
      "  warn(f\"nan values in variable: {column}, replacing with 0\")\n",
      "/home/martin/mambaforge/envs/stable/lib/python3.12/site-packages/tobler/util/util.py:53: UserWarning: nan values in variable: ssbCCo, replacing with 0\n",
      "  warn(f\"nan values in variable: {column}, replacing with 0\")\n",
      "/home/martin/mambaforge/envs/stable/lib/python3.12/site-packages/tobler/util/util.py:53: UserWarning: nan values in variable: ssbCor, replacing with 0\n",
      "  warn(f\"nan values in variable: {column}, replacing with 0\")\n",
      "/home/martin/mambaforge/envs/stable/lib/python3.12/site-packages/tobler/util/util.py:53: UserWarning: nan values in variable: ssbSqu, replacing with 0\n",
      "  warn(f\"nan values in variable: {column}, replacing with 0\")\n",
      "/home/martin/mambaforge/envs/stable/lib/python3.12/site-packages/tobler/util/util.py:53: UserWarning: nan values in variable: ssbERI, replacing with 0\n",
      "  warn(f\"nan values in variable: {column}, replacing with 0\")\n",
      "/home/martin/mambaforge/envs/stable/lib/python3.12/site-packages/tobler/util/util.py:53: UserWarning: nan values in variable: ssbCCM, replacing with 0\n",
      "  warn(f\"nan values in variable: {column}, replacing with 0\")\n",
      "/home/martin/mambaforge/envs/stable/lib/python3.12/site-packages/tobler/util/util.py:53: UserWarning: nan values in variable: ssbCCD, replacing with 0\n",
      "  warn(f\"nan values in variable: {column}, replacing with 0\")\n",
      "/home/martin/mambaforge/envs/stable/lib/python3.12/site-packages/tobler/util/util.py:53: UserWarning: nan values in variable: stbOri, replacing with 0\n",
      "  warn(f\"nan values in variable: {column}, replacing with 0\")\n",
      "/home/martin/mambaforge/envs/stable/lib/python3.12/site-packages/tobler/util/util.py:53: UserWarning: nan values in variable: sicCAR, replacing with 0\n",
      "  warn(f\"nan values in variable: {column}, replacing with 0\")\n",
      "/home/martin/mambaforge/envs/stable/lib/python3.12/site-packages/tobler/util/util.py:53: UserWarning: nan values in variable: stbCeA, replacing with 0\n",
      "  warn(f\"nan values in variable: {column}, replacing with 0\")\n",
      "/home/martin/mambaforge/envs/stable/lib/python3.12/site-packages/tobler/util/util.py:53: UserWarning: nan values in variable: mtbAli, replacing with 0\n",
      "  warn(f\"nan values in variable: {column}, replacing with 0\")\n",
      "/home/martin/mambaforge/envs/stable/lib/python3.12/site-packages/tobler/util/util.py:53: UserWarning: nan values in variable: mtbNDi, replacing with 0\n",
      "  warn(f\"nan values in variable: {column}, replacing with 0\")\n",
      "/home/martin/mambaforge/envs/stable/lib/python3.12/site-packages/tobler/util/util.py:53: UserWarning: nan values in variable: ltbIBD, replacing with 0\n",
      "  warn(f\"nan values in variable: {column}, replacing with 0\")\n",
      "/home/martin/mambaforge/envs/stable/lib/python3.12/site-packages/tobler/util/util.py:53: UserWarning: nan values in variable: stbSAl, replacing with 0\n",
      "  warn(f\"nan values in variable: {column}, replacing with 0\")\n",
      "/home/martin/mambaforge/envs/stable/lib/python3.12/site-packages/tobler/util/util.py:53: UserWarning: nan values in variable: lieWCe, replacing with 0\n",
      "  warn(f\"nan values in variable: {column}, replacing with 0\")\n"
     ]
    },
    {
     "name": "stdout",
     "output_type": "stream",
     "text": [
      "Chunk 1 done in 22.84 seconds.\n"
     ]
    },
    {
     "name": "stderr",
     "output_type": "stream",
     "text": [
      "/home/martin/mambaforge/envs/stable/lib/python3.12/site-packages/tobler/util/util.py:53: UserWarning: nan values in variable: sdbAre, replacing with 0\n",
      "  warn(f\"nan values in variable: {column}, replacing with 0\")\n",
      "/home/martin/mambaforge/envs/stable/lib/python3.12/site-packages/tobler/util/util.py:53: UserWarning: nan values in variable: sdbCoA, replacing with 0\n",
      "  warn(f\"nan values in variable: {column}, replacing with 0\")\n",
      "/home/martin/mambaforge/envs/stable/lib/python3.12/site-packages/tobler/util/util.py:53: UserWarning: nan values in variable: ssbCCo, replacing with 0\n",
      "  warn(f\"nan values in variable: {column}, replacing with 0\")\n",
      "/home/martin/mambaforge/envs/stable/lib/python3.12/site-packages/tobler/util/util.py:53: UserWarning: nan values in variable: ssbCor, replacing with 0\n",
      "  warn(f\"nan values in variable: {column}, replacing with 0\")\n",
      "/home/martin/mambaforge/envs/stable/lib/python3.12/site-packages/tobler/util/util.py:53: UserWarning: nan values in variable: ssbSqu, replacing with 0\n",
      "  warn(f\"nan values in variable: {column}, replacing with 0\")\n",
      "/home/martin/mambaforge/envs/stable/lib/python3.12/site-packages/tobler/util/util.py:53: UserWarning: nan values in variable: ssbERI, replacing with 0\n",
      "  warn(f\"nan values in variable: {column}, replacing with 0\")\n",
      "/home/martin/mambaforge/envs/stable/lib/python3.12/site-packages/tobler/util/util.py:53: UserWarning: nan values in variable: ssbCCM, replacing with 0\n",
      "  warn(f\"nan values in variable: {column}, replacing with 0\")\n",
      "/home/martin/mambaforge/envs/stable/lib/python3.12/site-packages/tobler/util/util.py:53: UserWarning: nan values in variable: ssbCCD, replacing with 0\n",
      "  warn(f\"nan values in variable: {column}, replacing with 0\")\n",
      "/home/martin/mambaforge/envs/stable/lib/python3.12/site-packages/tobler/util/util.py:53: UserWarning: nan values in variable: stbOri, replacing with 0\n",
      "  warn(f\"nan values in variable: {column}, replacing with 0\")\n",
      "/home/martin/mambaforge/envs/stable/lib/python3.12/site-packages/tobler/util/util.py:53: UserWarning: nan values in variable: sicCAR, replacing with 0\n",
      "  warn(f\"nan values in variable: {column}, replacing with 0\")\n",
      "/home/martin/mambaforge/envs/stable/lib/python3.12/site-packages/tobler/util/util.py:53: UserWarning: nan values in variable: stbCeA, replacing with 0\n",
      "  warn(f\"nan values in variable: {column}, replacing with 0\")\n",
      "/home/martin/mambaforge/envs/stable/lib/python3.12/site-packages/tobler/util/util.py:53: UserWarning: nan values in variable: mtbAli, replacing with 0\n",
      "  warn(f\"nan values in variable: {column}, replacing with 0\")\n",
      "/home/martin/mambaforge/envs/stable/lib/python3.12/site-packages/tobler/util/util.py:53: UserWarning: nan values in variable: mtbNDi, replacing with 0\n",
      "  warn(f\"nan values in variable: {column}, replacing with 0\")\n",
      "/home/martin/mambaforge/envs/stable/lib/python3.12/site-packages/tobler/util/util.py:53: UserWarning: nan values in variable: ltbIBD, replacing with 0\n",
      "  warn(f\"nan values in variable: {column}, replacing with 0\")\n",
      "/home/martin/mambaforge/envs/stable/lib/python3.12/site-packages/tobler/util/util.py:53: UserWarning: nan values in variable: stbSAl, replacing with 0\n",
      "  warn(f\"nan values in variable: {column}, replacing with 0\")\n",
      "/home/martin/mambaforge/envs/stable/lib/python3.12/site-packages/tobler/util/util.py:53: UserWarning: nan values in variable: lieWCe, replacing with 0\n",
      "  warn(f\"nan values in variable: {column}, replacing with 0\")\n"
     ]
    },
    {
     "name": "stdout",
     "output_type": "stream",
     "text": [
      "Chunk 2 done in 83.50 seconds.\n"
     ]
    },
    {
     "name": "stderr",
     "output_type": "stream",
     "text": [
      "/home/martin/mambaforge/envs/stable/lib/python3.12/site-packages/tobler/util/util.py:53: UserWarning: nan values in variable: sdbAre, replacing with 0\n",
      "  warn(f\"nan values in variable: {column}, replacing with 0\")\n",
      "/home/martin/mambaforge/envs/stable/lib/python3.12/site-packages/tobler/util/util.py:53: UserWarning: nan values in variable: sdbCoA, replacing with 0\n",
      "  warn(f\"nan values in variable: {column}, replacing with 0\")\n",
      "/home/martin/mambaforge/envs/stable/lib/python3.12/site-packages/tobler/util/util.py:53: UserWarning: nan values in variable: ssbCCo, replacing with 0\n",
      "  warn(f\"nan values in variable: {column}, replacing with 0\")\n",
      "/home/martin/mambaforge/envs/stable/lib/python3.12/site-packages/tobler/util/util.py:53: UserWarning: nan values in variable: ssbCor, replacing with 0\n",
      "  warn(f\"nan values in variable: {column}, replacing with 0\")\n",
      "/home/martin/mambaforge/envs/stable/lib/python3.12/site-packages/tobler/util/util.py:53: UserWarning: nan values in variable: ssbSqu, replacing with 0\n",
      "  warn(f\"nan values in variable: {column}, replacing with 0\")\n",
      "/home/martin/mambaforge/envs/stable/lib/python3.12/site-packages/tobler/util/util.py:53: UserWarning: nan values in variable: ssbERI, replacing with 0\n",
      "  warn(f\"nan values in variable: {column}, replacing with 0\")\n",
      "/home/martin/mambaforge/envs/stable/lib/python3.12/site-packages/tobler/util/util.py:53: UserWarning: nan values in variable: ssbCCM, replacing with 0\n",
      "  warn(f\"nan values in variable: {column}, replacing with 0\")\n",
      "/home/martin/mambaforge/envs/stable/lib/python3.12/site-packages/tobler/util/util.py:53: UserWarning: nan values in variable: ssbCCD, replacing with 0\n",
      "  warn(f\"nan values in variable: {column}, replacing with 0\")\n",
      "/home/martin/mambaforge/envs/stable/lib/python3.12/site-packages/tobler/util/util.py:53: UserWarning: nan values in variable: stbOri, replacing with 0\n",
      "  warn(f\"nan values in variable: {column}, replacing with 0\")\n",
      "/home/martin/mambaforge/envs/stable/lib/python3.12/site-packages/tobler/util/util.py:53: UserWarning: nan values in variable: sicCAR, replacing with 0\n",
      "  warn(f\"nan values in variable: {column}, replacing with 0\")\n",
      "/home/martin/mambaforge/envs/stable/lib/python3.12/site-packages/tobler/util/util.py:53: UserWarning: nan values in variable: stbCeA, replacing with 0\n",
      "  warn(f\"nan values in variable: {column}, replacing with 0\")\n",
      "/home/martin/mambaforge/envs/stable/lib/python3.12/site-packages/tobler/util/util.py:53: UserWarning: nan values in variable: mtbAli, replacing with 0\n",
      "  warn(f\"nan values in variable: {column}, replacing with 0\")\n",
      "/home/martin/mambaforge/envs/stable/lib/python3.12/site-packages/tobler/util/util.py:53: UserWarning: nan values in variable: mtbNDi, replacing with 0\n",
      "  warn(f\"nan values in variable: {column}, replacing with 0\")\n",
      "/home/martin/mambaforge/envs/stable/lib/python3.12/site-packages/tobler/util/util.py:53: UserWarning: nan values in variable: ltbIBD, replacing with 0\n",
      "  warn(f\"nan values in variable: {column}, replacing with 0\")\n",
      "/home/martin/mambaforge/envs/stable/lib/python3.12/site-packages/tobler/util/util.py:53: UserWarning: nan values in variable: stbSAl, replacing with 0\n",
      "  warn(f\"nan values in variable: {column}, replacing with 0\")\n",
      "/home/martin/mambaforge/envs/stable/lib/python3.12/site-packages/tobler/util/util.py:53: UserWarning: nan values in variable: lieWCe, replacing with 0\n",
      "  warn(f\"nan values in variable: {column}, replacing with 0\")\n"
     ]
    },
    {
     "name": "stdout",
     "output_type": "stream",
     "text": [
      "Chunk 3 done in 164.73 seconds.\n"
     ]
    },
    {
     "name": "stderr",
     "output_type": "stream",
     "text": [
      "/home/martin/mambaforge/envs/stable/lib/python3.12/site-packages/tobler/util/util.py:53: UserWarning: nan values in variable: sdbAre, replacing with 0\n",
      "  warn(f\"nan values in variable: {column}, replacing with 0\")\n",
      "/home/martin/mambaforge/envs/stable/lib/python3.12/site-packages/tobler/util/util.py:53: UserWarning: nan values in variable: sdbCoA, replacing with 0\n",
      "  warn(f\"nan values in variable: {column}, replacing with 0\")\n",
      "/home/martin/mambaforge/envs/stable/lib/python3.12/site-packages/tobler/util/util.py:53: UserWarning: nan values in variable: ssbCCo, replacing with 0\n",
      "  warn(f\"nan values in variable: {column}, replacing with 0\")\n",
      "/home/martin/mambaforge/envs/stable/lib/python3.12/site-packages/tobler/util/util.py:53: UserWarning: nan values in variable: ssbCor, replacing with 0\n",
      "  warn(f\"nan values in variable: {column}, replacing with 0\")\n",
      "/home/martin/mambaforge/envs/stable/lib/python3.12/site-packages/tobler/util/util.py:53: UserWarning: nan values in variable: ssbSqu, replacing with 0\n",
      "  warn(f\"nan values in variable: {column}, replacing with 0\")\n",
      "/home/martin/mambaforge/envs/stable/lib/python3.12/site-packages/tobler/util/util.py:53: UserWarning: nan values in variable: ssbERI, replacing with 0\n",
      "  warn(f\"nan values in variable: {column}, replacing with 0\")\n",
      "/home/martin/mambaforge/envs/stable/lib/python3.12/site-packages/tobler/util/util.py:53: UserWarning: nan values in variable: ssbCCM, replacing with 0\n",
      "  warn(f\"nan values in variable: {column}, replacing with 0\")\n",
      "/home/martin/mambaforge/envs/stable/lib/python3.12/site-packages/tobler/util/util.py:53: UserWarning: nan values in variable: ssbCCD, replacing with 0\n",
      "  warn(f\"nan values in variable: {column}, replacing with 0\")\n",
      "/home/martin/mambaforge/envs/stable/lib/python3.12/site-packages/tobler/util/util.py:53: UserWarning: nan values in variable: stbOri, replacing with 0\n",
      "  warn(f\"nan values in variable: {column}, replacing with 0\")\n",
      "/home/martin/mambaforge/envs/stable/lib/python3.12/site-packages/tobler/util/util.py:53: UserWarning: nan values in variable: sicCAR, replacing with 0\n",
      "  warn(f\"nan values in variable: {column}, replacing with 0\")\n",
      "/home/martin/mambaforge/envs/stable/lib/python3.12/site-packages/tobler/util/util.py:53: UserWarning: nan values in variable: stbCeA, replacing with 0\n",
      "  warn(f\"nan values in variable: {column}, replacing with 0\")\n",
      "/home/martin/mambaforge/envs/stable/lib/python3.12/site-packages/tobler/util/util.py:53: UserWarning: nan values in variable: mtbAli, replacing with 0\n",
      "  warn(f\"nan values in variable: {column}, replacing with 0\")\n",
      "/home/martin/mambaforge/envs/stable/lib/python3.12/site-packages/tobler/util/util.py:53: UserWarning: nan values in variable: mtbNDi, replacing with 0\n",
      "  warn(f\"nan values in variable: {column}, replacing with 0\")\n",
      "/home/martin/mambaforge/envs/stable/lib/python3.12/site-packages/tobler/util/util.py:53: UserWarning: nan values in variable: ltbIBD, replacing with 0\n",
      "  warn(f\"nan values in variable: {column}, replacing with 0\")\n",
      "/home/martin/mambaforge/envs/stable/lib/python3.12/site-packages/tobler/util/util.py:53: UserWarning: nan values in variable: stbSAl, replacing with 0\n",
      "  warn(f\"nan values in variable: {column}, replacing with 0\")\n"
     ]
    },
    {
     "name": "stdout",
     "output_type": "stream",
     "text": [
      "Chunk 4 done in 111.67 seconds.\n"
     ]
    },
    {
     "name": "stderr",
     "output_type": "stream",
     "text": [
      "/home/martin/mambaforge/envs/stable/lib/python3.12/site-packages/tobler/util/util.py:53: UserWarning: nan values in variable: sdbAre, replacing with 0\n",
      "  warn(f\"nan values in variable: {column}, replacing with 0\")\n",
      "/home/martin/mambaforge/envs/stable/lib/python3.12/site-packages/tobler/util/util.py:53: UserWarning: nan values in variable: sdbCoA, replacing with 0\n",
      "  warn(f\"nan values in variable: {column}, replacing with 0\")\n",
      "/home/martin/mambaforge/envs/stable/lib/python3.12/site-packages/tobler/util/util.py:53: UserWarning: nan values in variable: ssbCCo, replacing with 0\n",
      "  warn(f\"nan values in variable: {column}, replacing with 0\")\n",
      "/home/martin/mambaforge/envs/stable/lib/python3.12/site-packages/tobler/util/util.py:53: UserWarning: nan values in variable: ssbCor, replacing with 0\n",
      "  warn(f\"nan values in variable: {column}, replacing with 0\")\n",
      "/home/martin/mambaforge/envs/stable/lib/python3.12/site-packages/tobler/util/util.py:53: UserWarning: nan values in variable: ssbSqu, replacing with 0\n",
      "  warn(f\"nan values in variable: {column}, replacing with 0\")\n",
      "/home/martin/mambaforge/envs/stable/lib/python3.12/site-packages/tobler/util/util.py:53: UserWarning: nan values in variable: ssbERI, replacing with 0\n",
      "  warn(f\"nan values in variable: {column}, replacing with 0\")\n",
      "/home/martin/mambaforge/envs/stable/lib/python3.12/site-packages/tobler/util/util.py:53: UserWarning: nan values in variable: ssbCCM, replacing with 0\n",
      "  warn(f\"nan values in variable: {column}, replacing with 0\")\n",
      "/home/martin/mambaforge/envs/stable/lib/python3.12/site-packages/tobler/util/util.py:53: UserWarning: nan values in variable: ssbCCD, replacing with 0\n",
      "  warn(f\"nan values in variable: {column}, replacing with 0\")\n",
      "/home/martin/mambaforge/envs/stable/lib/python3.12/site-packages/tobler/util/util.py:53: UserWarning: nan values in variable: stbOri, replacing with 0\n",
      "  warn(f\"nan values in variable: {column}, replacing with 0\")\n",
      "/home/martin/mambaforge/envs/stable/lib/python3.12/site-packages/tobler/util/util.py:53: UserWarning: nan values in variable: sicCAR, replacing with 0\n",
      "  warn(f\"nan values in variable: {column}, replacing with 0\")\n",
      "/home/martin/mambaforge/envs/stable/lib/python3.12/site-packages/tobler/util/util.py:53: UserWarning: nan values in variable: stbCeA, replacing with 0\n",
      "  warn(f\"nan values in variable: {column}, replacing with 0\")\n",
      "/home/martin/mambaforge/envs/stable/lib/python3.12/site-packages/tobler/util/util.py:53: UserWarning: nan values in variable: mtbAli, replacing with 0\n",
      "  warn(f\"nan values in variable: {column}, replacing with 0\")\n",
      "/home/martin/mambaforge/envs/stable/lib/python3.12/site-packages/tobler/util/util.py:53: UserWarning: nan values in variable: mtbNDi, replacing with 0\n",
      "  warn(f\"nan values in variable: {column}, replacing with 0\")\n",
      "/home/martin/mambaforge/envs/stable/lib/python3.12/site-packages/tobler/util/util.py:53: UserWarning: nan values in variable: stbSAl, replacing with 0\n",
      "  warn(f\"nan values in variable: {column}, replacing with 0\")\n"
     ]
    },
    {
     "name": "stdout",
     "output_type": "stream",
     "text": [
      "Chunk 5 done in 180.58 seconds.\n"
     ]
    },
    {
     "name": "stderr",
     "output_type": "stream",
     "text": [
      "/home/martin/mambaforge/envs/stable/lib/python3.12/site-packages/tobler/util/util.py:53: UserWarning: nan values in variable: sdbAre, replacing with 0\n",
      "  warn(f\"nan values in variable: {column}, replacing with 0\")\n",
      "/home/martin/mambaforge/envs/stable/lib/python3.12/site-packages/tobler/util/util.py:53: UserWarning: nan values in variable: sdbCoA, replacing with 0\n",
      "  warn(f\"nan values in variable: {column}, replacing with 0\")\n",
      "/home/martin/mambaforge/envs/stable/lib/python3.12/site-packages/tobler/util/util.py:53: UserWarning: nan values in variable: ssbCCo, replacing with 0\n",
      "  warn(f\"nan values in variable: {column}, replacing with 0\")\n",
      "/home/martin/mambaforge/envs/stable/lib/python3.12/site-packages/tobler/util/util.py:53: UserWarning: nan values in variable: ssbCor, replacing with 0\n",
      "  warn(f\"nan values in variable: {column}, replacing with 0\")\n",
      "/home/martin/mambaforge/envs/stable/lib/python3.12/site-packages/tobler/util/util.py:53: UserWarning: nan values in variable: ssbSqu, replacing with 0\n",
      "  warn(f\"nan values in variable: {column}, replacing with 0\")\n",
      "/home/martin/mambaforge/envs/stable/lib/python3.12/site-packages/tobler/util/util.py:53: UserWarning: nan values in variable: ssbERI, replacing with 0\n",
      "  warn(f\"nan values in variable: {column}, replacing with 0\")\n",
      "/home/martin/mambaforge/envs/stable/lib/python3.12/site-packages/tobler/util/util.py:53: UserWarning: nan values in variable: ssbCCM, replacing with 0\n",
      "  warn(f\"nan values in variable: {column}, replacing with 0\")\n",
      "/home/martin/mambaforge/envs/stable/lib/python3.12/site-packages/tobler/util/util.py:53: UserWarning: nan values in variable: ssbCCD, replacing with 0\n",
      "  warn(f\"nan values in variable: {column}, replacing with 0\")\n",
      "/home/martin/mambaforge/envs/stable/lib/python3.12/site-packages/tobler/util/util.py:53: UserWarning: nan values in variable: stbOri, replacing with 0\n",
      "  warn(f\"nan values in variable: {column}, replacing with 0\")\n",
      "/home/martin/mambaforge/envs/stable/lib/python3.12/site-packages/tobler/util/util.py:53: UserWarning: nan values in variable: sicCAR, replacing with 0\n",
      "  warn(f\"nan values in variable: {column}, replacing with 0\")\n",
      "/home/martin/mambaforge/envs/stable/lib/python3.12/site-packages/tobler/util/util.py:53: UserWarning: nan values in variable: stbCeA, replacing with 0\n",
      "  warn(f\"nan values in variable: {column}, replacing with 0\")\n",
      "/home/martin/mambaforge/envs/stable/lib/python3.12/site-packages/tobler/util/util.py:53: UserWarning: nan values in variable: mtbAli, replacing with 0\n",
      "  warn(f\"nan values in variable: {column}, replacing with 0\")\n",
      "/home/martin/mambaforge/envs/stable/lib/python3.12/site-packages/tobler/util/util.py:53: UserWarning: nan values in variable: mtbNDi, replacing with 0\n",
      "  warn(f\"nan values in variable: {column}, replacing with 0\")\n",
      "/home/martin/mambaforge/envs/stable/lib/python3.12/site-packages/tobler/util/util.py:53: UserWarning: nan values in variable: stbSAl, replacing with 0\n",
      "  warn(f\"nan values in variable: {column}, replacing with 0\")\n"
     ]
    },
    {
     "name": "stdout",
     "output_type": "stream",
     "text": [
      "Chunk 6 done in 169.43 seconds.\n"
     ]
    },
    {
     "name": "stderr",
     "output_type": "stream",
     "text": [
      "/home/martin/mambaforge/envs/stable/lib/python3.12/site-packages/tobler/util/util.py:53: UserWarning: nan values in variable: sdbAre, replacing with 0\n",
      "  warn(f\"nan values in variable: {column}, replacing with 0\")\n",
      "/home/martin/mambaforge/envs/stable/lib/python3.12/site-packages/tobler/util/util.py:53: UserWarning: nan values in variable: sdbCoA, replacing with 0\n",
      "  warn(f\"nan values in variable: {column}, replacing with 0\")\n",
      "/home/martin/mambaforge/envs/stable/lib/python3.12/site-packages/tobler/util/util.py:53: UserWarning: nan values in variable: ssbCCo, replacing with 0\n",
      "  warn(f\"nan values in variable: {column}, replacing with 0\")\n",
      "/home/martin/mambaforge/envs/stable/lib/python3.12/site-packages/tobler/util/util.py:53: UserWarning: nan values in variable: ssbCor, replacing with 0\n",
      "  warn(f\"nan values in variable: {column}, replacing with 0\")\n",
      "/home/martin/mambaforge/envs/stable/lib/python3.12/site-packages/tobler/util/util.py:53: UserWarning: nan values in variable: ssbSqu, replacing with 0\n",
      "  warn(f\"nan values in variable: {column}, replacing with 0\")\n",
      "/home/martin/mambaforge/envs/stable/lib/python3.12/site-packages/tobler/util/util.py:53: UserWarning: nan values in variable: ssbERI, replacing with 0\n",
      "  warn(f\"nan values in variable: {column}, replacing with 0\")\n",
      "/home/martin/mambaforge/envs/stable/lib/python3.12/site-packages/tobler/util/util.py:53: UserWarning: nan values in variable: ssbCCM, replacing with 0\n",
      "  warn(f\"nan values in variable: {column}, replacing with 0\")\n",
      "/home/martin/mambaforge/envs/stable/lib/python3.12/site-packages/tobler/util/util.py:53: UserWarning: nan values in variable: ssbCCD, replacing with 0\n",
      "  warn(f\"nan values in variable: {column}, replacing with 0\")\n",
      "/home/martin/mambaforge/envs/stable/lib/python3.12/site-packages/tobler/util/util.py:53: UserWarning: nan values in variable: stbOri, replacing with 0\n",
      "  warn(f\"nan values in variable: {column}, replacing with 0\")\n",
      "/home/martin/mambaforge/envs/stable/lib/python3.12/site-packages/tobler/util/util.py:53: UserWarning: nan values in variable: sicCAR, replacing with 0\n",
      "  warn(f\"nan values in variable: {column}, replacing with 0\")\n",
      "/home/martin/mambaforge/envs/stable/lib/python3.12/site-packages/tobler/util/util.py:53: UserWarning: nan values in variable: stbCeA, replacing with 0\n",
      "  warn(f\"nan values in variable: {column}, replacing with 0\")\n",
      "/home/martin/mambaforge/envs/stable/lib/python3.12/site-packages/tobler/util/util.py:53: UserWarning: nan values in variable: mtbAli, replacing with 0\n",
      "  warn(f\"nan values in variable: {column}, replacing with 0\")\n",
      "/home/martin/mambaforge/envs/stable/lib/python3.12/site-packages/tobler/util/util.py:53: UserWarning: nan values in variable: mtbNDi, replacing with 0\n",
      "  warn(f\"nan values in variable: {column}, replacing with 0\")\n",
      "/home/martin/mambaforge/envs/stable/lib/python3.12/site-packages/tobler/util/util.py:53: UserWarning: nan values in variable: ltbIBD, replacing with 0\n",
      "  warn(f\"nan values in variable: {column}, replacing with 0\")\n",
      "/home/martin/mambaforge/envs/stable/lib/python3.12/site-packages/tobler/util/util.py:53: UserWarning: nan values in variable: stbSAl, replacing with 0\n",
      "  warn(f\"nan values in variable: {column}, replacing with 0\")\n"
     ]
    },
    {
     "name": "stdout",
     "output_type": "stream",
     "text": [
      "Chunk 7 done in 80.28 seconds.\n"
     ]
    },
    {
     "name": "stderr",
     "output_type": "stream",
     "text": [
      "/home/martin/mambaforge/envs/stable/lib/python3.12/site-packages/tobler/util/util.py:53: UserWarning: nan values in variable: sdbAre, replacing with 0\n",
      "  warn(f\"nan values in variable: {column}, replacing with 0\")\n",
      "/home/martin/mambaforge/envs/stable/lib/python3.12/site-packages/tobler/util/util.py:53: UserWarning: nan values in variable: sdbCoA, replacing with 0\n",
      "  warn(f\"nan values in variable: {column}, replacing with 0\")\n",
      "/home/martin/mambaforge/envs/stable/lib/python3.12/site-packages/tobler/util/util.py:53: UserWarning: nan values in variable: ssbCCo, replacing with 0\n",
      "  warn(f\"nan values in variable: {column}, replacing with 0\")\n",
      "/home/martin/mambaforge/envs/stable/lib/python3.12/site-packages/tobler/util/util.py:53: UserWarning: nan values in variable: ssbCor, replacing with 0\n",
      "  warn(f\"nan values in variable: {column}, replacing with 0\")\n",
      "/home/martin/mambaforge/envs/stable/lib/python3.12/site-packages/tobler/util/util.py:53: UserWarning: nan values in variable: ssbSqu, replacing with 0\n",
      "  warn(f\"nan values in variable: {column}, replacing with 0\")\n",
      "/home/martin/mambaforge/envs/stable/lib/python3.12/site-packages/tobler/util/util.py:53: UserWarning: nan values in variable: ssbERI, replacing with 0\n",
      "  warn(f\"nan values in variable: {column}, replacing with 0\")\n",
      "/home/martin/mambaforge/envs/stable/lib/python3.12/site-packages/tobler/util/util.py:53: UserWarning: nan values in variable: ssbCCM, replacing with 0\n",
      "  warn(f\"nan values in variable: {column}, replacing with 0\")\n",
      "/home/martin/mambaforge/envs/stable/lib/python3.12/site-packages/tobler/util/util.py:53: UserWarning: nan values in variable: ssbCCD, replacing with 0\n",
      "  warn(f\"nan values in variable: {column}, replacing with 0\")\n",
      "/home/martin/mambaforge/envs/stable/lib/python3.12/site-packages/tobler/util/util.py:53: UserWarning: nan values in variable: stbOri, replacing with 0\n",
      "  warn(f\"nan values in variable: {column}, replacing with 0\")\n",
      "/home/martin/mambaforge/envs/stable/lib/python3.12/site-packages/tobler/util/util.py:53: UserWarning: nan values in variable: sicCAR, replacing with 0\n",
      "  warn(f\"nan values in variable: {column}, replacing with 0\")\n",
      "/home/martin/mambaforge/envs/stable/lib/python3.12/site-packages/tobler/util/util.py:53: UserWarning: nan values in variable: stbCeA, replacing with 0\n",
      "  warn(f\"nan values in variable: {column}, replacing with 0\")\n",
      "/home/martin/mambaforge/envs/stable/lib/python3.12/site-packages/tobler/util/util.py:53: UserWarning: nan values in variable: mtbAli, replacing with 0\n",
      "  warn(f\"nan values in variable: {column}, replacing with 0\")\n",
      "/home/martin/mambaforge/envs/stable/lib/python3.12/site-packages/tobler/util/util.py:53: UserWarning: nan values in variable: mtbNDi, replacing with 0\n",
      "  warn(f\"nan values in variable: {column}, replacing with 0\")\n",
      "/home/martin/mambaforge/envs/stable/lib/python3.12/site-packages/tobler/util/util.py:53: UserWarning: nan values in variable: stbSAl, replacing with 0\n",
      "  warn(f\"nan values in variable: {column}, replacing with 0\")\n",
      "/home/martin/mambaforge/envs/stable/lib/python3.12/site-packages/tobler/util/util.py:53: UserWarning: nan values in variable: lieWCe, replacing with 0\n",
      "  warn(f\"nan values in variable: {column}, replacing with 0\")\n"
     ]
    },
    {
     "name": "stdout",
     "output_type": "stream",
     "text": [
      "Chunk 8 done in 115.57 seconds.\n"
     ]
    },
    {
     "name": "stderr",
     "output_type": "stream",
     "text": [
      "/home/martin/mambaforge/envs/stable/lib/python3.12/site-packages/tobler/util/util.py:53: UserWarning: nan values in variable: sdbAre, replacing with 0\n",
      "  warn(f\"nan values in variable: {column}, replacing with 0\")\n",
      "/home/martin/mambaforge/envs/stable/lib/python3.12/site-packages/tobler/util/util.py:53: UserWarning: nan values in variable: sdbCoA, replacing with 0\n",
      "  warn(f\"nan values in variable: {column}, replacing with 0\")\n",
      "/home/martin/mambaforge/envs/stable/lib/python3.12/site-packages/tobler/util/util.py:53: UserWarning: nan values in variable: ssbCCo, replacing with 0\n",
      "  warn(f\"nan values in variable: {column}, replacing with 0\")\n",
      "/home/martin/mambaforge/envs/stable/lib/python3.12/site-packages/tobler/util/util.py:53: UserWarning: nan values in variable: ssbCor, replacing with 0\n",
      "  warn(f\"nan values in variable: {column}, replacing with 0\")\n",
      "/home/martin/mambaforge/envs/stable/lib/python3.12/site-packages/tobler/util/util.py:53: UserWarning: nan values in variable: ssbSqu, replacing with 0\n",
      "  warn(f\"nan values in variable: {column}, replacing with 0\")\n",
      "/home/martin/mambaforge/envs/stable/lib/python3.12/site-packages/tobler/util/util.py:53: UserWarning: nan values in variable: ssbERI, replacing with 0\n",
      "  warn(f\"nan values in variable: {column}, replacing with 0\")\n",
      "/home/martin/mambaforge/envs/stable/lib/python3.12/site-packages/tobler/util/util.py:53: UserWarning: nan values in variable: ssbCCM, replacing with 0\n",
      "  warn(f\"nan values in variable: {column}, replacing with 0\")\n",
      "/home/martin/mambaforge/envs/stable/lib/python3.12/site-packages/tobler/util/util.py:53: UserWarning: nan values in variable: ssbCCD, replacing with 0\n",
      "  warn(f\"nan values in variable: {column}, replacing with 0\")\n",
      "/home/martin/mambaforge/envs/stable/lib/python3.12/site-packages/tobler/util/util.py:53: UserWarning: nan values in variable: stbOri, replacing with 0\n",
      "  warn(f\"nan values in variable: {column}, replacing with 0\")\n",
      "/home/martin/mambaforge/envs/stable/lib/python3.12/site-packages/tobler/util/util.py:53: UserWarning: nan values in variable: sicCAR, replacing with 0\n",
      "  warn(f\"nan values in variable: {column}, replacing with 0\")\n",
      "/home/martin/mambaforge/envs/stable/lib/python3.12/site-packages/tobler/util/util.py:53: UserWarning: nan values in variable: stbCeA, replacing with 0\n",
      "  warn(f\"nan values in variable: {column}, replacing with 0\")\n",
      "/home/martin/mambaforge/envs/stable/lib/python3.12/site-packages/tobler/util/util.py:53: UserWarning: nan values in variable: mtbAli, replacing with 0\n",
      "  warn(f\"nan values in variable: {column}, replacing with 0\")\n",
      "/home/martin/mambaforge/envs/stable/lib/python3.12/site-packages/tobler/util/util.py:53: UserWarning: nan values in variable: mtbNDi, replacing with 0\n",
      "  warn(f\"nan values in variable: {column}, replacing with 0\")\n",
      "/home/martin/mambaforge/envs/stable/lib/python3.12/site-packages/tobler/util/util.py:53: UserWarning: nan values in variable: ltbIBD, replacing with 0\n",
      "  warn(f\"nan values in variable: {column}, replacing with 0\")\n",
      "/home/martin/mambaforge/envs/stable/lib/python3.12/site-packages/tobler/util/util.py:53: UserWarning: nan values in variable: stbSAl, replacing with 0\n",
      "  warn(f\"nan values in variable: {column}, replacing with 0\")\n"
     ]
    },
    {
     "name": "stdout",
     "output_type": "stream",
     "text": [
      "Chunk 9 done in 186.79 seconds.\n"
     ]
    },
    {
     "name": "stderr",
     "output_type": "stream",
     "text": [
      "/home/martin/mambaforge/envs/stable/lib/python3.12/site-packages/tobler/util/util.py:53: UserWarning: nan values in variable: sdbAre, replacing with 0\n",
      "  warn(f\"nan values in variable: {column}, replacing with 0\")\n",
      "/home/martin/mambaforge/envs/stable/lib/python3.12/site-packages/tobler/util/util.py:53: UserWarning: nan values in variable: sdbCoA, replacing with 0\n",
      "  warn(f\"nan values in variable: {column}, replacing with 0\")\n",
      "/home/martin/mambaforge/envs/stable/lib/python3.12/site-packages/tobler/util/util.py:53: UserWarning: nan values in variable: ssbCCo, replacing with 0\n",
      "  warn(f\"nan values in variable: {column}, replacing with 0\")\n",
      "/home/martin/mambaforge/envs/stable/lib/python3.12/site-packages/tobler/util/util.py:53: UserWarning: nan values in variable: ssbCor, replacing with 0\n",
      "  warn(f\"nan values in variable: {column}, replacing with 0\")\n",
      "/home/martin/mambaforge/envs/stable/lib/python3.12/site-packages/tobler/util/util.py:53: UserWarning: nan values in variable: ssbSqu, replacing with 0\n",
      "  warn(f\"nan values in variable: {column}, replacing with 0\")\n",
      "/home/martin/mambaforge/envs/stable/lib/python3.12/site-packages/tobler/util/util.py:53: UserWarning: nan values in variable: ssbERI, replacing with 0\n",
      "  warn(f\"nan values in variable: {column}, replacing with 0\")\n",
      "/home/martin/mambaforge/envs/stable/lib/python3.12/site-packages/tobler/util/util.py:53: UserWarning: nan values in variable: ssbCCM, replacing with 0\n",
      "  warn(f\"nan values in variable: {column}, replacing with 0\")\n",
      "/home/martin/mambaforge/envs/stable/lib/python3.12/site-packages/tobler/util/util.py:53: UserWarning: nan values in variable: ssbCCD, replacing with 0\n",
      "  warn(f\"nan values in variable: {column}, replacing with 0\")\n",
      "/home/martin/mambaforge/envs/stable/lib/python3.12/site-packages/tobler/util/util.py:53: UserWarning: nan values in variable: stbOri, replacing with 0\n",
      "  warn(f\"nan values in variable: {column}, replacing with 0\")\n",
      "/home/martin/mambaforge/envs/stable/lib/python3.12/site-packages/tobler/util/util.py:53: UserWarning: nan values in variable: sicCAR, replacing with 0\n",
      "  warn(f\"nan values in variable: {column}, replacing with 0\")\n",
      "/home/martin/mambaforge/envs/stable/lib/python3.12/site-packages/tobler/util/util.py:53: UserWarning: nan values in variable: stbCeA, replacing with 0\n",
      "  warn(f\"nan values in variable: {column}, replacing with 0\")\n",
      "/home/martin/mambaforge/envs/stable/lib/python3.12/site-packages/tobler/util/util.py:53: UserWarning: nan values in variable: mtbAli, replacing with 0\n",
      "  warn(f\"nan values in variable: {column}, replacing with 0\")\n",
      "/home/martin/mambaforge/envs/stable/lib/python3.12/site-packages/tobler/util/util.py:53: UserWarning: nan values in variable: mtbNDi, replacing with 0\n",
      "  warn(f\"nan values in variable: {column}, replacing with 0\")\n",
      "/home/martin/mambaforge/envs/stable/lib/python3.12/site-packages/tobler/util/util.py:53: UserWarning: nan values in variable: ltbIBD, replacing with 0\n",
      "  warn(f\"nan values in variable: {column}, replacing with 0\")\n",
      "/home/martin/mambaforge/envs/stable/lib/python3.12/site-packages/tobler/util/util.py:53: UserWarning: nan values in variable: stbSAl, replacing with 0\n",
      "  warn(f\"nan values in variable: {column}, replacing with 0\")\n"
     ]
    },
    {
     "name": "stdout",
     "output_type": "stream",
     "text": [
      "Chunk 10 done in 92.66 seconds.\n"
     ]
    },
    {
     "name": "stderr",
     "output_type": "stream",
     "text": [
      "/home/martin/mambaforge/envs/stable/lib/python3.12/site-packages/tobler/util/util.py:53: UserWarning: nan values in variable: sdbAre, replacing with 0\n",
      "  warn(f\"nan values in variable: {column}, replacing with 0\")\n",
      "/home/martin/mambaforge/envs/stable/lib/python3.12/site-packages/tobler/util/util.py:53: UserWarning: nan values in variable: sdbCoA, replacing with 0\n",
      "  warn(f\"nan values in variable: {column}, replacing with 0\")\n",
      "/home/martin/mambaforge/envs/stable/lib/python3.12/site-packages/tobler/util/util.py:53: UserWarning: nan values in variable: ssbCCo, replacing with 0\n",
      "  warn(f\"nan values in variable: {column}, replacing with 0\")\n",
      "/home/martin/mambaforge/envs/stable/lib/python3.12/site-packages/tobler/util/util.py:53: UserWarning: nan values in variable: ssbCor, replacing with 0\n",
      "  warn(f\"nan values in variable: {column}, replacing with 0\")\n",
      "/home/martin/mambaforge/envs/stable/lib/python3.12/site-packages/tobler/util/util.py:53: UserWarning: nan values in variable: ssbSqu, replacing with 0\n",
      "  warn(f\"nan values in variable: {column}, replacing with 0\")\n",
      "/home/martin/mambaforge/envs/stable/lib/python3.12/site-packages/tobler/util/util.py:53: UserWarning: nan values in variable: ssbERI, replacing with 0\n",
      "  warn(f\"nan values in variable: {column}, replacing with 0\")\n",
      "/home/martin/mambaforge/envs/stable/lib/python3.12/site-packages/tobler/util/util.py:53: UserWarning: nan values in variable: ssbCCM, replacing with 0\n",
      "  warn(f\"nan values in variable: {column}, replacing with 0\")\n",
      "/home/martin/mambaforge/envs/stable/lib/python3.12/site-packages/tobler/util/util.py:53: UserWarning: nan values in variable: ssbCCD, replacing with 0\n",
      "  warn(f\"nan values in variable: {column}, replacing with 0\")\n",
      "/home/martin/mambaforge/envs/stable/lib/python3.12/site-packages/tobler/util/util.py:53: UserWarning: nan values in variable: stbOri, replacing with 0\n",
      "  warn(f\"nan values in variable: {column}, replacing with 0\")\n",
      "/home/martin/mambaforge/envs/stable/lib/python3.12/site-packages/tobler/util/util.py:53: UserWarning: nan values in variable: sicCAR, replacing with 0\n",
      "  warn(f\"nan values in variable: {column}, replacing with 0\")\n",
      "/home/martin/mambaforge/envs/stable/lib/python3.12/site-packages/tobler/util/util.py:53: UserWarning: nan values in variable: stbCeA, replacing with 0\n",
      "  warn(f\"nan values in variable: {column}, replacing with 0\")\n",
      "/home/martin/mambaforge/envs/stable/lib/python3.12/site-packages/tobler/util/util.py:53: UserWarning: nan values in variable: mtbAli, replacing with 0\n",
      "  warn(f\"nan values in variable: {column}, replacing with 0\")\n",
      "/home/martin/mambaforge/envs/stable/lib/python3.12/site-packages/tobler/util/util.py:53: UserWarning: nan values in variable: mtbNDi, replacing with 0\n",
      "  warn(f\"nan values in variable: {column}, replacing with 0\")\n",
      "/home/martin/mambaforge/envs/stable/lib/python3.12/site-packages/tobler/util/util.py:53: UserWarning: nan values in variable: stbSAl, replacing with 0\n",
      "  warn(f\"nan values in variable: {column}, replacing with 0\")\n"
     ]
    },
    {
     "name": "stdout",
     "output_type": "stream",
     "text": [
      "Chunk 11 done in 148.33 seconds.\n"
     ]
    },
    {
     "name": "stderr",
     "output_type": "stream",
     "text": [
      "/home/martin/mambaforge/envs/stable/lib/python3.12/site-packages/tobler/util/util.py:53: UserWarning: nan values in variable: sdbAre, replacing with 0\n",
      "  warn(f\"nan values in variable: {column}, replacing with 0\")\n",
      "/home/martin/mambaforge/envs/stable/lib/python3.12/site-packages/tobler/util/util.py:53: UserWarning: nan values in variable: sdbCoA, replacing with 0\n",
      "  warn(f\"nan values in variable: {column}, replacing with 0\")\n",
      "/home/martin/mambaforge/envs/stable/lib/python3.12/site-packages/tobler/util/util.py:53: UserWarning: nan values in variable: ssbCCo, replacing with 0\n",
      "  warn(f\"nan values in variable: {column}, replacing with 0\")\n",
      "/home/martin/mambaforge/envs/stable/lib/python3.12/site-packages/tobler/util/util.py:53: UserWarning: nan values in variable: ssbCor, replacing with 0\n",
      "  warn(f\"nan values in variable: {column}, replacing with 0\")\n",
      "/home/martin/mambaforge/envs/stable/lib/python3.12/site-packages/tobler/util/util.py:53: UserWarning: nan values in variable: ssbSqu, replacing with 0\n",
      "  warn(f\"nan values in variable: {column}, replacing with 0\")\n",
      "/home/martin/mambaforge/envs/stable/lib/python3.12/site-packages/tobler/util/util.py:53: UserWarning: nan values in variable: ssbERI, replacing with 0\n",
      "  warn(f\"nan values in variable: {column}, replacing with 0\")\n",
      "/home/martin/mambaforge/envs/stable/lib/python3.12/site-packages/tobler/util/util.py:53: UserWarning: nan values in variable: ssbCCM, replacing with 0\n",
      "  warn(f\"nan values in variable: {column}, replacing with 0\")\n",
      "/home/martin/mambaforge/envs/stable/lib/python3.12/site-packages/tobler/util/util.py:53: UserWarning: nan values in variable: ssbCCD, replacing with 0\n",
      "  warn(f\"nan values in variable: {column}, replacing with 0\")\n",
      "/home/martin/mambaforge/envs/stable/lib/python3.12/site-packages/tobler/util/util.py:53: UserWarning: nan values in variable: stbOri, replacing with 0\n",
      "  warn(f\"nan values in variable: {column}, replacing with 0\")\n",
      "/home/martin/mambaforge/envs/stable/lib/python3.12/site-packages/tobler/util/util.py:53: UserWarning: nan values in variable: sicCAR, replacing with 0\n",
      "  warn(f\"nan values in variable: {column}, replacing with 0\")\n",
      "/home/martin/mambaforge/envs/stable/lib/python3.12/site-packages/tobler/util/util.py:53: UserWarning: nan values in variable: stbCeA, replacing with 0\n",
      "  warn(f\"nan values in variable: {column}, replacing with 0\")\n",
      "/home/martin/mambaforge/envs/stable/lib/python3.12/site-packages/tobler/util/util.py:53: UserWarning: nan values in variable: mtbAli, replacing with 0\n",
      "  warn(f\"nan values in variable: {column}, replacing with 0\")\n",
      "/home/martin/mambaforge/envs/stable/lib/python3.12/site-packages/tobler/util/util.py:53: UserWarning: nan values in variable: mtbNDi, replacing with 0\n",
      "  warn(f\"nan values in variable: {column}, replacing with 0\")\n",
      "/home/martin/mambaforge/envs/stable/lib/python3.12/site-packages/tobler/util/util.py:53: UserWarning: nan values in variable: stbSAl, replacing with 0\n",
      "  warn(f\"nan values in variable: {column}, replacing with 0\")\n"
     ]
    },
    {
     "name": "stdout",
     "output_type": "stream",
     "text": [
      "Chunk 12 done in 124.22 seconds.\n"
     ]
    },
    {
     "name": "stderr",
     "output_type": "stream",
     "text": [
      "/home/martin/mambaforge/envs/stable/lib/python3.12/site-packages/tobler/util/util.py:53: UserWarning: nan values in variable: sdbAre, replacing with 0\n",
      "  warn(f\"nan values in variable: {column}, replacing with 0\")\n",
      "/home/martin/mambaforge/envs/stable/lib/python3.12/site-packages/tobler/util/util.py:53: UserWarning: nan values in variable: sdbCoA, replacing with 0\n",
      "  warn(f\"nan values in variable: {column}, replacing with 0\")\n",
      "/home/martin/mambaforge/envs/stable/lib/python3.12/site-packages/tobler/util/util.py:53: UserWarning: nan values in variable: ssbCCo, replacing with 0\n",
      "  warn(f\"nan values in variable: {column}, replacing with 0\")\n",
      "/home/martin/mambaforge/envs/stable/lib/python3.12/site-packages/tobler/util/util.py:53: UserWarning: nan values in variable: ssbCor, replacing with 0\n",
      "  warn(f\"nan values in variable: {column}, replacing with 0\")\n",
      "/home/martin/mambaforge/envs/stable/lib/python3.12/site-packages/tobler/util/util.py:53: UserWarning: nan values in variable: ssbSqu, replacing with 0\n",
      "  warn(f\"nan values in variable: {column}, replacing with 0\")\n",
      "/home/martin/mambaforge/envs/stable/lib/python3.12/site-packages/tobler/util/util.py:53: UserWarning: nan values in variable: ssbERI, replacing with 0\n",
      "  warn(f\"nan values in variable: {column}, replacing with 0\")\n",
      "/home/martin/mambaforge/envs/stable/lib/python3.12/site-packages/tobler/util/util.py:53: UserWarning: nan values in variable: ssbCCM, replacing with 0\n",
      "  warn(f\"nan values in variable: {column}, replacing with 0\")\n",
      "/home/martin/mambaforge/envs/stable/lib/python3.12/site-packages/tobler/util/util.py:53: UserWarning: nan values in variable: ssbCCD, replacing with 0\n",
      "  warn(f\"nan values in variable: {column}, replacing with 0\")\n",
      "/home/martin/mambaforge/envs/stable/lib/python3.12/site-packages/tobler/util/util.py:53: UserWarning: nan values in variable: stbOri, replacing with 0\n",
      "  warn(f\"nan values in variable: {column}, replacing with 0\")\n",
      "/home/martin/mambaforge/envs/stable/lib/python3.12/site-packages/tobler/util/util.py:53: UserWarning: nan values in variable: sicCAR, replacing with 0\n",
      "  warn(f\"nan values in variable: {column}, replacing with 0\")\n",
      "/home/martin/mambaforge/envs/stable/lib/python3.12/site-packages/tobler/util/util.py:53: UserWarning: nan values in variable: stbCeA, replacing with 0\n",
      "  warn(f\"nan values in variable: {column}, replacing with 0\")\n",
      "/home/martin/mambaforge/envs/stable/lib/python3.12/site-packages/tobler/util/util.py:53: UserWarning: nan values in variable: mtbAli, replacing with 0\n",
      "  warn(f\"nan values in variable: {column}, replacing with 0\")\n",
      "/home/martin/mambaforge/envs/stable/lib/python3.12/site-packages/tobler/util/util.py:53: UserWarning: nan values in variable: mtbNDi, replacing with 0\n",
      "  warn(f\"nan values in variable: {column}, replacing with 0\")\n",
      "/home/martin/mambaforge/envs/stable/lib/python3.12/site-packages/tobler/util/util.py:53: UserWarning: nan values in variable: stbSAl, replacing with 0\n",
      "  warn(f\"nan values in variable: {column}, replacing with 0\")\n",
      "/home/martin/mambaforge/envs/stable/lib/python3.12/site-packages/tobler/util/util.py:53: UserWarning: nan values in variable: lieWCe, replacing with 0\n",
      "  warn(f\"nan values in variable: {column}, replacing with 0\")\n"
     ]
    },
    {
     "name": "stdout",
     "output_type": "stream",
     "text": [
      "Chunk 13 done in 209.50 seconds.\n"
     ]
    },
    {
     "name": "stderr",
     "output_type": "stream",
     "text": [
      "/home/martin/mambaforge/envs/stable/lib/python3.12/site-packages/tobler/util/util.py:53: UserWarning: nan values in variable: sdbAre, replacing with 0\n",
      "  warn(f\"nan values in variable: {column}, replacing with 0\")\n",
      "/home/martin/mambaforge/envs/stable/lib/python3.12/site-packages/tobler/util/util.py:53: UserWarning: nan values in variable: sdbCoA, replacing with 0\n",
      "  warn(f\"nan values in variable: {column}, replacing with 0\")\n",
      "/home/martin/mambaforge/envs/stable/lib/python3.12/site-packages/tobler/util/util.py:53: UserWarning: nan values in variable: ssbCCo, replacing with 0\n",
      "  warn(f\"nan values in variable: {column}, replacing with 0\")\n",
      "/home/martin/mambaforge/envs/stable/lib/python3.12/site-packages/tobler/util/util.py:53: UserWarning: nan values in variable: ssbCor, replacing with 0\n",
      "  warn(f\"nan values in variable: {column}, replacing with 0\")\n",
      "/home/martin/mambaforge/envs/stable/lib/python3.12/site-packages/tobler/util/util.py:53: UserWarning: nan values in variable: ssbSqu, replacing with 0\n",
      "  warn(f\"nan values in variable: {column}, replacing with 0\")\n",
      "/home/martin/mambaforge/envs/stable/lib/python3.12/site-packages/tobler/util/util.py:53: UserWarning: nan values in variable: ssbERI, replacing with 0\n",
      "  warn(f\"nan values in variable: {column}, replacing with 0\")\n",
      "/home/martin/mambaforge/envs/stable/lib/python3.12/site-packages/tobler/util/util.py:53: UserWarning: nan values in variable: ssbCCM, replacing with 0\n",
      "  warn(f\"nan values in variable: {column}, replacing with 0\")\n",
      "/home/martin/mambaforge/envs/stable/lib/python3.12/site-packages/tobler/util/util.py:53: UserWarning: nan values in variable: ssbCCD, replacing with 0\n",
      "  warn(f\"nan values in variable: {column}, replacing with 0\")\n",
      "/home/martin/mambaforge/envs/stable/lib/python3.12/site-packages/tobler/util/util.py:53: UserWarning: nan values in variable: stbOri, replacing with 0\n",
      "  warn(f\"nan values in variable: {column}, replacing with 0\")\n",
      "/home/martin/mambaforge/envs/stable/lib/python3.12/site-packages/tobler/util/util.py:53: UserWarning: nan values in variable: sicCAR, replacing with 0\n",
      "  warn(f\"nan values in variable: {column}, replacing with 0\")\n",
      "/home/martin/mambaforge/envs/stable/lib/python3.12/site-packages/tobler/util/util.py:53: UserWarning: nan values in variable: stbCeA, replacing with 0\n",
      "  warn(f\"nan values in variable: {column}, replacing with 0\")\n",
      "/home/martin/mambaforge/envs/stable/lib/python3.12/site-packages/tobler/util/util.py:53: UserWarning: nan values in variable: mtbAli, replacing with 0\n",
      "  warn(f\"nan values in variable: {column}, replacing with 0\")\n",
      "/home/martin/mambaforge/envs/stable/lib/python3.12/site-packages/tobler/util/util.py:53: UserWarning: nan values in variable: mtbNDi, replacing with 0\n",
      "  warn(f\"nan values in variable: {column}, replacing with 0\")\n",
      "/home/martin/mambaforge/envs/stable/lib/python3.12/site-packages/tobler/util/util.py:53: UserWarning: nan values in variable: stbSAl, replacing with 0\n",
      "  warn(f\"nan values in variable: {column}, replacing with 0\")\n"
     ]
    },
    {
     "name": "stdout",
     "output_type": "stream",
     "text": [
      "Chunk 14 done in 201.40 seconds.\n"
     ]
    },
    {
     "name": "stderr",
     "output_type": "stream",
     "text": [
      "/home/martin/mambaforge/envs/stable/lib/python3.12/site-packages/tobler/util/util.py:53: UserWarning: nan values in variable: sdbAre, replacing with 0\n",
      "  warn(f\"nan values in variable: {column}, replacing with 0\")\n",
      "/home/martin/mambaforge/envs/stable/lib/python3.12/site-packages/tobler/util/util.py:53: UserWarning: nan values in variable: sdbCoA, replacing with 0\n",
      "  warn(f\"nan values in variable: {column}, replacing with 0\")\n",
      "/home/martin/mambaforge/envs/stable/lib/python3.12/site-packages/tobler/util/util.py:53: UserWarning: nan values in variable: ssbCCo, replacing with 0\n",
      "  warn(f\"nan values in variable: {column}, replacing with 0\")\n",
      "/home/martin/mambaforge/envs/stable/lib/python3.12/site-packages/tobler/util/util.py:53: UserWarning: nan values in variable: ssbCor, replacing with 0\n",
      "  warn(f\"nan values in variable: {column}, replacing with 0\")\n",
      "/home/martin/mambaforge/envs/stable/lib/python3.12/site-packages/tobler/util/util.py:53: UserWarning: nan values in variable: ssbSqu, replacing with 0\n",
      "  warn(f\"nan values in variable: {column}, replacing with 0\")\n",
      "/home/martin/mambaforge/envs/stable/lib/python3.12/site-packages/tobler/util/util.py:53: UserWarning: nan values in variable: ssbERI, replacing with 0\n",
      "  warn(f\"nan values in variable: {column}, replacing with 0\")\n",
      "/home/martin/mambaforge/envs/stable/lib/python3.12/site-packages/tobler/util/util.py:53: UserWarning: nan values in variable: ssbCCM, replacing with 0\n",
      "  warn(f\"nan values in variable: {column}, replacing with 0\")\n",
      "/home/martin/mambaforge/envs/stable/lib/python3.12/site-packages/tobler/util/util.py:53: UserWarning: nan values in variable: ssbCCD, replacing with 0\n",
      "  warn(f\"nan values in variable: {column}, replacing with 0\")\n",
      "/home/martin/mambaforge/envs/stable/lib/python3.12/site-packages/tobler/util/util.py:53: UserWarning: nan values in variable: stbOri, replacing with 0\n",
      "  warn(f\"nan values in variable: {column}, replacing with 0\")\n",
      "/home/martin/mambaforge/envs/stable/lib/python3.12/site-packages/tobler/util/util.py:53: UserWarning: nan values in variable: sicCAR, replacing with 0\n",
      "  warn(f\"nan values in variable: {column}, replacing with 0\")\n",
      "/home/martin/mambaforge/envs/stable/lib/python3.12/site-packages/tobler/util/util.py:53: UserWarning: nan values in variable: stbCeA, replacing with 0\n",
      "  warn(f\"nan values in variable: {column}, replacing with 0\")\n",
      "/home/martin/mambaforge/envs/stable/lib/python3.12/site-packages/tobler/util/util.py:53: UserWarning: nan values in variable: mtbAli, replacing with 0\n",
      "  warn(f\"nan values in variable: {column}, replacing with 0\")\n",
      "/home/martin/mambaforge/envs/stable/lib/python3.12/site-packages/tobler/util/util.py:53: UserWarning: nan values in variable: mtbNDi, replacing with 0\n",
      "  warn(f\"nan values in variable: {column}, replacing with 0\")\n",
      "/home/martin/mambaforge/envs/stable/lib/python3.12/site-packages/tobler/util/util.py:53: UserWarning: nan values in variable: stbSAl, replacing with 0\n",
      "  warn(f\"nan values in variable: {column}, replacing with 0\")\n"
     ]
    },
    {
     "name": "stdout",
     "output_type": "stream",
     "text": [
      "Chunk 15 done in 183.46 seconds.\n"
     ]
    },
    {
     "name": "stderr",
     "output_type": "stream",
     "text": [
      "/home/martin/mambaforge/envs/stable/lib/python3.12/site-packages/tobler/util/util.py:53: UserWarning: nan values in variable: sdbAre, replacing with 0\n",
      "  warn(f\"nan values in variable: {column}, replacing with 0\")\n",
      "/home/martin/mambaforge/envs/stable/lib/python3.12/site-packages/tobler/util/util.py:53: UserWarning: nan values in variable: sdbCoA, replacing with 0\n",
      "  warn(f\"nan values in variable: {column}, replacing with 0\")\n",
      "/home/martin/mambaforge/envs/stable/lib/python3.12/site-packages/tobler/util/util.py:53: UserWarning: nan values in variable: ssbCCo, replacing with 0\n",
      "  warn(f\"nan values in variable: {column}, replacing with 0\")\n",
      "/home/martin/mambaforge/envs/stable/lib/python3.12/site-packages/tobler/util/util.py:53: UserWarning: nan values in variable: ssbCor, replacing with 0\n",
      "  warn(f\"nan values in variable: {column}, replacing with 0\")\n",
      "/home/martin/mambaforge/envs/stable/lib/python3.12/site-packages/tobler/util/util.py:53: UserWarning: nan values in variable: ssbSqu, replacing with 0\n",
      "  warn(f\"nan values in variable: {column}, replacing with 0\")\n",
      "/home/martin/mambaforge/envs/stable/lib/python3.12/site-packages/tobler/util/util.py:53: UserWarning: nan values in variable: ssbERI, replacing with 0\n",
      "  warn(f\"nan values in variable: {column}, replacing with 0\")\n",
      "/home/martin/mambaforge/envs/stable/lib/python3.12/site-packages/tobler/util/util.py:53: UserWarning: nan values in variable: ssbCCM, replacing with 0\n",
      "  warn(f\"nan values in variable: {column}, replacing with 0\")\n",
      "/home/martin/mambaforge/envs/stable/lib/python3.12/site-packages/tobler/util/util.py:53: UserWarning: nan values in variable: ssbCCD, replacing with 0\n",
      "  warn(f\"nan values in variable: {column}, replacing with 0\")\n",
      "/home/martin/mambaforge/envs/stable/lib/python3.12/site-packages/tobler/util/util.py:53: UserWarning: nan values in variable: stbOri, replacing with 0\n",
      "  warn(f\"nan values in variable: {column}, replacing with 0\")\n",
      "/home/martin/mambaforge/envs/stable/lib/python3.12/site-packages/tobler/util/util.py:53: UserWarning: nan values in variable: sicCAR, replacing with 0\n",
      "  warn(f\"nan values in variable: {column}, replacing with 0\")\n",
      "/home/martin/mambaforge/envs/stable/lib/python3.12/site-packages/tobler/util/util.py:53: UserWarning: nan values in variable: stbCeA, replacing with 0\n",
      "  warn(f\"nan values in variable: {column}, replacing with 0\")\n",
      "/home/martin/mambaforge/envs/stable/lib/python3.12/site-packages/tobler/util/util.py:53: UserWarning: nan values in variable: mtbAli, replacing with 0\n",
      "  warn(f\"nan values in variable: {column}, replacing with 0\")\n",
      "/home/martin/mambaforge/envs/stable/lib/python3.12/site-packages/tobler/util/util.py:53: UserWarning: nan values in variable: mtbNDi, replacing with 0\n",
      "  warn(f\"nan values in variable: {column}, replacing with 0\")\n",
      "/home/martin/mambaforge/envs/stable/lib/python3.12/site-packages/tobler/util/util.py:53: UserWarning: nan values in variable: stbSAl, replacing with 0\n",
      "  warn(f\"nan values in variable: {column}, replacing with 0\")\n"
     ]
    },
    {
     "name": "stdout",
     "output_type": "stream",
     "text": [
      "Chunk 16 done in 60.54 seconds.\n"
     ]
    },
    {
     "name": "stderr",
     "output_type": "stream",
     "text": [
      "/home/martin/mambaforge/envs/stable/lib/python3.12/site-packages/tobler/util/util.py:53: UserWarning: nan values in variable: sdbAre, replacing with 0\n",
      "  warn(f\"nan values in variable: {column}, replacing with 0\")\n",
      "/home/martin/mambaforge/envs/stable/lib/python3.12/site-packages/tobler/util/util.py:53: UserWarning: nan values in variable: sdbCoA, replacing with 0\n",
      "  warn(f\"nan values in variable: {column}, replacing with 0\")\n",
      "/home/martin/mambaforge/envs/stable/lib/python3.12/site-packages/tobler/util/util.py:53: UserWarning: nan values in variable: ssbCCo, replacing with 0\n",
      "  warn(f\"nan values in variable: {column}, replacing with 0\")\n",
      "/home/martin/mambaforge/envs/stable/lib/python3.12/site-packages/tobler/util/util.py:53: UserWarning: nan values in variable: ssbCor, replacing with 0\n",
      "  warn(f\"nan values in variable: {column}, replacing with 0\")\n",
      "/home/martin/mambaforge/envs/stable/lib/python3.12/site-packages/tobler/util/util.py:53: UserWarning: nan values in variable: ssbSqu, replacing with 0\n",
      "  warn(f\"nan values in variable: {column}, replacing with 0\")\n",
      "/home/martin/mambaforge/envs/stable/lib/python3.12/site-packages/tobler/util/util.py:53: UserWarning: nan values in variable: ssbERI, replacing with 0\n",
      "  warn(f\"nan values in variable: {column}, replacing with 0\")\n",
      "/home/martin/mambaforge/envs/stable/lib/python3.12/site-packages/tobler/util/util.py:53: UserWarning: nan values in variable: ssbCCM, replacing with 0\n",
      "  warn(f\"nan values in variable: {column}, replacing with 0\")\n",
      "/home/martin/mambaforge/envs/stable/lib/python3.12/site-packages/tobler/util/util.py:53: UserWarning: nan values in variable: ssbCCD, replacing with 0\n",
      "  warn(f\"nan values in variable: {column}, replacing with 0\")\n",
      "/home/martin/mambaforge/envs/stable/lib/python3.12/site-packages/tobler/util/util.py:53: UserWarning: nan values in variable: stbOri, replacing with 0\n",
      "  warn(f\"nan values in variable: {column}, replacing with 0\")\n",
      "/home/martin/mambaforge/envs/stable/lib/python3.12/site-packages/tobler/util/util.py:53: UserWarning: nan values in variable: sicCAR, replacing with 0\n",
      "  warn(f\"nan values in variable: {column}, replacing with 0\")\n",
      "/home/martin/mambaforge/envs/stable/lib/python3.12/site-packages/tobler/util/util.py:53: UserWarning: nan values in variable: stbCeA, replacing with 0\n",
      "  warn(f\"nan values in variable: {column}, replacing with 0\")\n",
      "/home/martin/mambaforge/envs/stable/lib/python3.12/site-packages/tobler/util/util.py:53: UserWarning: nan values in variable: mtbAli, replacing with 0\n",
      "  warn(f\"nan values in variable: {column}, replacing with 0\")\n",
      "/home/martin/mambaforge/envs/stable/lib/python3.12/site-packages/tobler/util/util.py:53: UserWarning: nan values in variable: mtbNDi, replacing with 0\n",
      "  warn(f\"nan values in variable: {column}, replacing with 0\")\n",
      "/home/martin/mambaforge/envs/stable/lib/python3.12/site-packages/tobler/util/util.py:53: UserWarning: nan values in variable: stbSAl, replacing with 0\n",
      "  warn(f\"nan values in variable: {column}, replacing with 0\")\n"
     ]
    },
    {
     "name": "stdout",
     "output_type": "stream",
     "text": [
      "Chunk 17 done in 126.83 seconds.\n"
     ]
    },
    {
     "name": "stderr",
     "output_type": "stream",
     "text": [
      "/home/martin/mambaforge/envs/stable/lib/python3.12/site-packages/tobler/util/util.py:53: UserWarning: nan values in variable: sdbAre, replacing with 0\n",
      "  warn(f\"nan values in variable: {column}, replacing with 0\")\n",
      "/home/martin/mambaforge/envs/stable/lib/python3.12/site-packages/tobler/util/util.py:53: UserWarning: nan values in variable: sdbCoA, replacing with 0\n",
      "  warn(f\"nan values in variable: {column}, replacing with 0\")\n",
      "/home/martin/mambaforge/envs/stable/lib/python3.12/site-packages/tobler/util/util.py:53: UserWarning: nan values in variable: ssbCCo, replacing with 0\n",
      "  warn(f\"nan values in variable: {column}, replacing with 0\")\n",
      "/home/martin/mambaforge/envs/stable/lib/python3.12/site-packages/tobler/util/util.py:53: UserWarning: nan values in variable: ssbCor, replacing with 0\n",
      "  warn(f\"nan values in variable: {column}, replacing with 0\")\n",
      "/home/martin/mambaforge/envs/stable/lib/python3.12/site-packages/tobler/util/util.py:53: UserWarning: nan values in variable: ssbSqu, replacing with 0\n",
      "  warn(f\"nan values in variable: {column}, replacing with 0\")\n",
      "/home/martin/mambaforge/envs/stable/lib/python3.12/site-packages/tobler/util/util.py:53: UserWarning: nan values in variable: ssbERI, replacing with 0\n",
      "  warn(f\"nan values in variable: {column}, replacing with 0\")\n",
      "/home/martin/mambaforge/envs/stable/lib/python3.12/site-packages/tobler/util/util.py:53: UserWarning: nan values in variable: ssbCCM, replacing with 0\n",
      "  warn(f\"nan values in variable: {column}, replacing with 0\")\n",
      "/home/martin/mambaforge/envs/stable/lib/python3.12/site-packages/tobler/util/util.py:53: UserWarning: nan values in variable: ssbCCD, replacing with 0\n",
      "  warn(f\"nan values in variable: {column}, replacing with 0\")\n",
      "/home/martin/mambaforge/envs/stable/lib/python3.12/site-packages/tobler/util/util.py:53: UserWarning: nan values in variable: stbOri, replacing with 0\n",
      "  warn(f\"nan values in variable: {column}, replacing with 0\")\n",
      "/home/martin/mambaforge/envs/stable/lib/python3.12/site-packages/tobler/util/util.py:53: UserWarning: nan values in variable: sicCAR, replacing with 0\n",
      "  warn(f\"nan values in variable: {column}, replacing with 0\")\n",
      "/home/martin/mambaforge/envs/stable/lib/python3.12/site-packages/tobler/util/util.py:53: UserWarning: nan values in variable: stbCeA, replacing with 0\n",
      "  warn(f\"nan values in variable: {column}, replacing with 0\")\n",
      "/home/martin/mambaforge/envs/stable/lib/python3.12/site-packages/tobler/util/util.py:53: UserWarning: nan values in variable: mtbAli, replacing with 0\n",
      "  warn(f\"nan values in variable: {column}, replacing with 0\")\n",
      "/home/martin/mambaforge/envs/stable/lib/python3.12/site-packages/tobler/util/util.py:53: UserWarning: nan values in variable: mtbNDi, replacing with 0\n",
      "  warn(f\"nan values in variable: {column}, replacing with 0\")\n",
      "/home/martin/mambaforge/envs/stable/lib/python3.12/site-packages/tobler/util/util.py:53: UserWarning: nan values in variable: stbSAl, replacing with 0\n",
      "  warn(f\"nan values in variable: {column}, replacing with 0\")\n",
      "/home/martin/mambaforge/envs/stable/lib/python3.12/site-packages/tobler/util/util.py:53: UserWarning: nan values in variable: lieWCe, replacing with 0\n",
      "  warn(f\"nan values in variable: {column}, replacing with 0\")\n"
     ]
    },
    {
     "name": "stdout",
     "output_type": "stream",
     "text": [
      "Chunk 18 done in 127.30 seconds.\n"
     ]
    },
    {
     "name": "stderr",
     "output_type": "stream",
     "text": [
      "/home/martin/mambaforge/envs/stable/lib/python3.12/site-packages/tobler/util/util.py:53: UserWarning: nan values in variable: sdbAre, replacing with 0\n",
      "  warn(f\"nan values in variable: {column}, replacing with 0\")\n",
      "/home/martin/mambaforge/envs/stable/lib/python3.12/site-packages/tobler/util/util.py:53: UserWarning: nan values in variable: sdbCoA, replacing with 0\n",
      "  warn(f\"nan values in variable: {column}, replacing with 0\")\n",
      "/home/martin/mambaforge/envs/stable/lib/python3.12/site-packages/tobler/util/util.py:53: UserWarning: nan values in variable: ssbCCo, replacing with 0\n",
      "  warn(f\"nan values in variable: {column}, replacing with 0\")\n",
      "/home/martin/mambaforge/envs/stable/lib/python3.12/site-packages/tobler/util/util.py:53: UserWarning: nan values in variable: ssbCor, replacing with 0\n",
      "  warn(f\"nan values in variable: {column}, replacing with 0\")\n",
      "/home/martin/mambaforge/envs/stable/lib/python3.12/site-packages/tobler/util/util.py:53: UserWarning: nan values in variable: ssbSqu, replacing with 0\n",
      "  warn(f\"nan values in variable: {column}, replacing with 0\")\n",
      "/home/martin/mambaforge/envs/stable/lib/python3.12/site-packages/tobler/util/util.py:53: UserWarning: nan values in variable: ssbERI, replacing with 0\n",
      "  warn(f\"nan values in variable: {column}, replacing with 0\")\n",
      "/home/martin/mambaforge/envs/stable/lib/python3.12/site-packages/tobler/util/util.py:53: UserWarning: nan values in variable: ssbCCM, replacing with 0\n",
      "  warn(f\"nan values in variable: {column}, replacing with 0\")\n",
      "/home/martin/mambaforge/envs/stable/lib/python3.12/site-packages/tobler/util/util.py:53: UserWarning: nan values in variable: ssbCCD, replacing with 0\n",
      "  warn(f\"nan values in variable: {column}, replacing with 0\")\n",
      "/home/martin/mambaforge/envs/stable/lib/python3.12/site-packages/tobler/util/util.py:53: UserWarning: nan values in variable: stbOri, replacing with 0\n",
      "  warn(f\"nan values in variable: {column}, replacing with 0\")\n",
      "/home/martin/mambaforge/envs/stable/lib/python3.12/site-packages/tobler/util/util.py:53: UserWarning: nan values in variable: sicCAR, replacing with 0\n",
      "  warn(f\"nan values in variable: {column}, replacing with 0\")\n",
      "/home/martin/mambaforge/envs/stable/lib/python3.12/site-packages/tobler/util/util.py:53: UserWarning: nan values in variable: stbCeA, replacing with 0\n",
      "  warn(f\"nan values in variable: {column}, replacing with 0\")\n",
      "/home/martin/mambaforge/envs/stable/lib/python3.12/site-packages/tobler/util/util.py:53: UserWarning: nan values in variable: mtbAli, replacing with 0\n",
      "  warn(f\"nan values in variable: {column}, replacing with 0\")\n",
      "/home/martin/mambaforge/envs/stable/lib/python3.12/site-packages/tobler/util/util.py:53: UserWarning: nan values in variable: mtbNDi, replacing with 0\n",
      "  warn(f\"nan values in variable: {column}, replacing with 0\")\n",
      "/home/martin/mambaforge/envs/stable/lib/python3.12/site-packages/tobler/util/util.py:53: UserWarning: nan values in variable: stbSAl, replacing with 0\n",
      "  warn(f\"nan values in variable: {column}, replacing with 0\")\n",
      "/home/martin/mambaforge/envs/stable/lib/python3.12/site-packages/tobler/util/util.py:53: UserWarning: nan values in variable: lieWCe, replacing with 0\n",
      "  warn(f\"nan values in variable: {column}, replacing with 0\")\n"
     ]
    },
    {
     "name": "stdout",
     "output_type": "stream",
     "text": [
      "Chunk 19 done in 108.52 seconds.\n"
     ]
    },
    {
     "name": "stderr",
     "output_type": "stream",
     "text": [
      "/home/martin/mambaforge/envs/stable/lib/python3.12/site-packages/tobler/util/util.py:53: UserWarning: nan values in variable: sdbAre, replacing with 0\n",
      "  warn(f\"nan values in variable: {column}, replacing with 0\")\n",
      "/home/martin/mambaforge/envs/stable/lib/python3.12/site-packages/tobler/util/util.py:53: UserWarning: nan values in variable: sdbCoA, replacing with 0\n",
      "  warn(f\"nan values in variable: {column}, replacing with 0\")\n",
      "/home/martin/mambaforge/envs/stable/lib/python3.12/site-packages/tobler/util/util.py:53: UserWarning: nan values in variable: ssbCCo, replacing with 0\n",
      "  warn(f\"nan values in variable: {column}, replacing with 0\")\n",
      "/home/martin/mambaforge/envs/stable/lib/python3.12/site-packages/tobler/util/util.py:53: UserWarning: nan values in variable: ssbCor, replacing with 0\n",
      "  warn(f\"nan values in variable: {column}, replacing with 0\")\n",
      "/home/martin/mambaforge/envs/stable/lib/python3.12/site-packages/tobler/util/util.py:53: UserWarning: nan values in variable: ssbSqu, replacing with 0\n",
      "  warn(f\"nan values in variable: {column}, replacing with 0\")\n",
      "/home/martin/mambaforge/envs/stable/lib/python3.12/site-packages/tobler/util/util.py:53: UserWarning: nan values in variable: ssbERI, replacing with 0\n",
      "  warn(f\"nan values in variable: {column}, replacing with 0\")\n",
      "/home/martin/mambaforge/envs/stable/lib/python3.12/site-packages/tobler/util/util.py:53: UserWarning: nan values in variable: ssbCCM, replacing with 0\n",
      "  warn(f\"nan values in variable: {column}, replacing with 0\")\n",
      "/home/martin/mambaforge/envs/stable/lib/python3.12/site-packages/tobler/util/util.py:53: UserWarning: nan values in variable: ssbCCD, replacing with 0\n",
      "  warn(f\"nan values in variable: {column}, replacing with 0\")\n",
      "/home/martin/mambaforge/envs/stable/lib/python3.12/site-packages/tobler/util/util.py:53: UserWarning: nan values in variable: stbOri, replacing with 0\n",
      "  warn(f\"nan values in variable: {column}, replacing with 0\")\n",
      "/home/martin/mambaforge/envs/stable/lib/python3.12/site-packages/tobler/util/util.py:53: UserWarning: nan values in variable: sicCAR, replacing with 0\n",
      "  warn(f\"nan values in variable: {column}, replacing with 0\")\n",
      "/home/martin/mambaforge/envs/stable/lib/python3.12/site-packages/tobler/util/util.py:53: UserWarning: nan values in variable: stbCeA, replacing with 0\n",
      "  warn(f\"nan values in variable: {column}, replacing with 0\")\n",
      "/home/martin/mambaforge/envs/stable/lib/python3.12/site-packages/tobler/util/util.py:53: UserWarning: nan values in variable: mtbAli, replacing with 0\n",
      "  warn(f\"nan values in variable: {column}, replacing with 0\")\n",
      "/home/martin/mambaforge/envs/stable/lib/python3.12/site-packages/tobler/util/util.py:53: UserWarning: nan values in variable: mtbNDi, replacing with 0\n",
      "  warn(f\"nan values in variable: {column}, replacing with 0\")\n",
      "/home/martin/mambaforge/envs/stable/lib/python3.12/site-packages/tobler/util/util.py:53: UserWarning: nan values in variable: stbSAl, replacing with 0\n",
      "  warn(f\"nan values in variable: {column}, replacing with 0\")\n"
     ]
    },
    {
     "name": "stdout",
     "output_type": "stream",
     "text": [
      "Chunk 20 done in 98.35 seconds.\n"
     ]
    },
    {
     "name": "stderr",
     "output_type": "stream",
     "text": [
      "/home/martin/mambaforge/envs/stable/lib/python3.12/site-packages/tobler/util/util.py:53: UserWarning: nan values in variable: sdbAre, replacing with 0\n",
      "  warn(f\"nan values in variable: {column}, replacing with 0\")\n",
      "/home/martin/mambaforge/envs/stable/lib/python3.12/site-packages/tobler/util/util.py:53: UserWarning: nan values in variable: sdbCoA, replacing with 0\n",
      "  warn(f\"nan values in variable: {column}, replacing with 0\")\n",
      "/home/martin/mambaforge/envs/stable/lib/python3.12/site-packages/tobler/util/util.py:53: UserWarning: nan values in variable: ssbCCo, replacing with 0\n",
      "  warn(f\"nan values in variable: {column}, replacing with 0\")\n",
      "/home/martin/mambaforge/envs/stable/lib/python3.12/site-packages/tobler/util/util.py:53: UserWarning: nan values in variable: ssbCor, replacing with 0\n",
      "  warn(f\"nan values in variable: {column}, replacing with 0\")\n",
      "/home/martin/mambaforge/envs/stable/lib/python3.12/site-packages/tobler/util/util.py:53: UserWarning: nan values in variable: ssbSqu, replacing with 0\n",
      "  warn(f\"nan values in variable: {column}, replacing with 0\")\n",
      "/home/martin/mambaforge/envs/stable/lib/python3.12/site-packages/tobler/util/util.py:53: UserWarning: nan values in variable: ssbERI, replacing with 0\n",
      "  warn(f\"nan values in variable: {column}, replacing with 0\")\n",
      "/home/martin/mambaforge/envs/stable/lib/python3.12/site-packages/tobler/util/util.py:53: UserWarning: nan values in variable: ssbCCM, replacing with 0\n",
      "  warn(f\"nan values in variable: {column}, replacing with 0\")\n",
      "/home/martin/mambaforge/envs/stable/lib/python3.12/site-packages/tobler/util/util.py:53: UserWarning: nan values in variable: ssbCCD, replacing with 0\n",
      "  warn(f\"nan values in variable: {column}, replacing with 0\")\n",
      "/home/martin/mambaforge/envs/stable/lib/python3.12/site-packages/tobler/util/util.py:53: UserWarning: nan values in variable: stbOri, replacing with 0\n",
      "  warn(f\"nan values in variable: {column}, replacing with 0\")\n",
      "/home/martin/mambaforge/envs/stable/lib/python3.12/site-packages/tobler/util/util.py:53: UserWarning: nan values in variable: sicCAR, replacing with 0\n",
      "  warn(f\"nan values in variable: {column}, replacing with 0\")\n",
      "/home/martin/mambaforge/envs/stable/lib/python3.12/site-packages/tobler/util/util.py:53: UserWarning: nan values in variable: stbCeA, replacing with 0\n",
      "  warn(f\"nan values in variable: {column}, replacing with 0\")\n",
      "/home/martin/mambaforge/envs/stable/lib/python3.12/site-packages/tobler/util/util.py:53: UserWarning: nan values in variable: mtbAli, replacing with 0\n",
      "  warn(f\"nan values in variable: {column}, replacing with 0\")\n",
      "/home/martin/mambaforge/envs/stable/lib/python3.12/site-packages/tobler/util/util.py:53: UserWarning: nan values in variable: mtbNDi, replacing with 0\n",
      "  warn(f\"nan values in variable: {column}, replacing with 0\")\n",
      "/home/martin/mambaforge/envs/stable/lib/python3.12/site-packages/tobler/util/util.py:53: UserWarning: nan values in variable: stbSAl, replacing with 0\n",
      "  warn(f\"nan values in variable: {column}, replacing with 0\")\n",
      "/home/martin/mambaforge/envs/stable/lib/python3.12/site-packages/tobler/util/util.py:53: UserWarning: nan values in variable: lieWCe, replacing with 0\n",
      "  warn(f\"nan values in variable: {column}, replacing with 0\")\n"
     ]
    },
    {
     "name": "stdout",
     "output_type": "stream",
     "text": [
      "Chunk 21 done in 59.41 seconds.\n"
     ]
    },
    {
     "name": "stderr",
     "output_type": "stream",
     "text": [
      "/home/martin/mambaforge/envs/stable/lib/python3.12/site-packages/tobler/util/util.py:53: UserWarning: nan values in variable: sdbAre, replacing with 0\n",
      "  warn(f\"nan values in variable: {column}, replacing with 0\")\n",
      "/home/martin/mambaforge/envs/stable/lib/python3.12/site-packages/tobler/util/util.py:53: UserWarning: nan values in variable: sdbCoA, replacing with 0\n",
      "  warn(f\"nan values in variable: {column}, replacing with 0\")\n",
      "/home/martin/mambaforge/envs/stable/lib/python3.12/site-packages/tobler/util/util.py:53: UserWarning: nan values in variable: ssbCCo, replacing with 0\n",
      "  warn(f\"nan values in variable: {column}, replacing with 0\")\n",
      "/home/martin/mambaforge/envs/stable/lib/python3.12/site-packages/tobler/util/util.py:53: UserWarning: nan values in variable: ssbCor, replacing with 0\n",
      "  warn(f\"nan values in variable: {column}, replacing with 0\")\n",
      "/home/martin/mambaforge/envs/stable/lib/python3.12/site-packages/tobler/util/util.py:53: UserWarning: nan values in variable: ssbSqu, replacing with 0\n",
      "  warn(f\"nan values in variable: {column}, replacing with 0\")\n",
      "/home/martin/mambaforge/envs/stable/lib/python3.12/site-packages/tobler/util/util.py:53: UserWarning: nan values in variable: ssbERI, replacing with 0\n",
      "  warn(f\"nan values in variable: {column}, replacing with 0\")\n",
      "/home/martin/mambaforge/envs/stable/lib/python3.12/site-packages/tobler/util/util.py:53: UserWarning: nan values in variable: ssbCCM, replacing with 0\n",
      "  warn(f\"nan values in variable: {column}, replacing with 0\")\n",
      "/home/martin/mambaforge/envs/stable/lib/python3.12/site-packages/tobler/util/util.py:53: UserWarning: nan values in variable: ssbCCD, replacing with 0\n",
      "  warn(f\"nan values in variable: {column}, replacing with 0\")\n",
      "/home/martin/mambaforge/envs/stable/lib/python3.12/site-packages/tobler/util/util.py:53: UserWarning: nan values in variable: stbOri, replacing with 0\n",
      "  warn(f\"nan values in variable: {column}, replacing with 0\")\n",
      "/home/martin/mambaforge/envs/stable/lib/python3.12/site-packages/tobler/util/util.py:53: UserWarning: nan values in variable: sicCAR, replacing with 0\n",
      "  warn(f\"nan values in variable: {column}, replacing with 0\")\n",
      "/home/martin/mambaforge/envs/stable/lib/python3.12/site-packages/tobler/util/util.py:53: UserWarning: nan values in variable: stbCeA, replacing with 0\n",
      "  warn(f\"nan values in variable: {column}, replacing with 0\")\n",
      "/home/martin/mambaforge/envs/stable/lib/python3.12/site-packages/tobler/util/util.py:53: UserWarning: nan values in variable: mtbAli, replacing with 0\n",
      "  warn(f\"nan values in variable: {column}, replacing with 0\")\n",
      "/home/martin/mambaforge/envs/stable/lib/python3.12/site-packages/tobler/util/util.py:53: UserWarning: nan values in variable: mtbNDi, replacing with 0\n",
      "  warn(f\"nan values in variable: {column}, replacing with 0\")\n",
      "/home/martin/mambaforge/envs/stable/lib/python3.12/site-packages/tobler/util/util.py:53: UserWarning: nan values in variable: stbSAl, replacing with 0\n",
      "  warn(f\"nan values in variable: {column}, replacing with 0\")\n",
      "/home/martin/mambaforge/envs/stable/lib/python3.12/site-packages/tobler/util/util.py:53: UserWarning: nan values in variable: lieWCe, replacing with 0\n",
      "  warn(f\"nan values in variable: {column}, replacing with 0\")\n"
     ]
    },
    {
     "name": "stdout",
     "output_type": "stream",
     "text": [
      "Chunk 22 done in 98.63 seconds.\n"
     ]
    },
    {
     "name": "stderr",
     "output_type": "stream",
     "text": [
      "/home/martin/mambaforge/envs/stable/lib/python3.12/site-packages/tobler/util/util.py:53: UserWarning: nan values in variable: sdbAre, replacing with 0\n",
      "  warn(f\"nan values in variable: {column}, replacing with 0\")\n",
      "/home/martin/mambaforge/envs/stable/lib/python3.12/site-packages/tobler/util/util.py:53: UserWarning: nan values in variable: sdbCoA, replacing with 0\n",
      "  warn(f\"nan values in variable: {column}, replacing with 0\")\n",
      "/home/martin/mambaforge/envs/stable/lib/python3.12/site-packages/tobler/util/util.py:53: UserWarning: nan values in variable: ssbCCo, replacing with 0\n",
      "  warn(f\"nan values in variable: {column}, replacing with 0\")\n",
      "/home/martin/mambaforge/envs/stable/lib/python3.12/site-packages/tobler/util/util.py:53: UserWarning: nan values in variable: ssbCor, replacing with 0\n",
      "  warn(f\"nan values in variable: {column}, replacing with 0\")\n",
      "/home/martin/mambaforge/envs/stable/lib/python3.12/site-packages/tobler/util/util.py:53: UserWarning: nan values in variable: ssbSqu, replacing with 0\n",
      "  warn(f\"nan values in variable: {column}, replacing with 0\")\n",
      "/home/martin/mambaforge/envs/stable/lib/python3.12/site-packages/tobler/util/util.py:53: UserWarning: nan values in variable: ssbERI, replacing with 0\n",
      "  warn(f\"nan values in variable: {column}, replacing with 0\")\n",
      "/home/martin/mambaforge/envs/stable/lib/python3.12/site-packages/tobler/util/util.py:53: UserWarning: nan values in variable: ssbCCM, replacing with 0\n",
      "  warn(f\"nan values in variable: {column}, replacing with 0\")\n",
      "/home/martin/mambaforge/envs/stable/lib/python3.12/site-packages/tobler/util/util.py:53: UserWarning: nan values in variable: ssbCCD, replacing with 0\n",
      "  warn(f\"nan values in variable: {column}, replacing with 0\")\n",
      "/home/martin/mambaforge/envs/stable/lib/python3.12/site-packages/tobler/util/util.py:53: UserWarning: nan values in variable: stbOri, replacing with 0\n",
      "  warn(f\"nan values in variable: {column}, replacing with 0\")\n",
      "/home/martin/mambaforge/envs/stable/lib/python3.12/site-packages/tobler/util/util.py:53: UserWarning: nan values in variable: sicCAR, replacing with 0\n",
      "  warn(f\"nan values in variable: {column}, replacing with 0\")\n",
      "/home/martin/mambaforge/envs/stable/lib/python3.12/site-packages/tobler/util/util.py:53: UserWarning: nan values in variable: stbCeA, replacing with 0\n",
      "  warn(f\"nan values in variable: {column}, replacing with 0\")\n",
      "/home/martin/mambaforge/envs/stable/lib/python3.12/site-packages/tobler/util/util.py:53: UserWarning: nan values in variable: mtbAli, replacing with 0\n",
      "  warn(f\"nan values in variable: {column}, replacing with 0\")\n",
      "/home/martin/mambaforge/envs/stable/lib/python3.12/site-packages/tobler/util/util.py:53: UserWarning: nan values in variable: mtbNDi, replacing with 0\n",
      "  warn(f\"nan values in variable: {column}, replacing with 0\")\n",
      "/home/martin/mambaforge/envs/stable/lib/python3.12/site-packages/tobler/util/util.py:53: UserWarning: nan values in variable: stbSAl, replacing with 0\n",
      "  warn(f\"nan values in variable: {column}, replacing with 0\")\n"
     ]
    },
    {
     "name": "stdout",
     "output_type": "stream",
     "text": [
      "Chunk 23 done in 61.11 seconds.\n"
     ]
    },
    {
     "name": "stderr",
     "output_type": "stream",
     "text": [
      "/home/martin/mambaforge/envs/stable/lib/python3.12/site-packages/tobler/util/util.py:53: UserWarning: nan values in variable: sdbAre, replacing with 0\n",
      "  warn(f\"nan values in variable: {column}, replacing with 0\")\n",
      "/home/martin/mambaforge/envs/stable/lib/python3.12/site-packages/tobler/util/util.py:53: UserWarning: nan values in variable: sdbCoA, replacing with 0\n",
      "  warn(f\"nan values in variable: {column}, replacing with 0\")\n",
      "/home/martin/mambaforge/envs/stable/lib/python3.12/site-packages/tobler/util/util.py:53: UserWarning: nan values in variable: ssbCCo, replacing with 0\n",
      "  warn(f\"nan values in variable: {column}, replacing with 0\")\n",
      "/home/martin/mambaforge/envs/stable/lib/python3.12/site-packages/tobler/util/util.py:53: UserWarning: nan values in variable: ssbCor, replacing with 0\n",
      "  warn(f\"nan values in variable: {column}, replacing with 0\")\n",
      "/home/martin/mambaforge/envs/stable/lib/python3.12/site-packages/tobler/util/util.py:53: UserWarning: nan values in variable: ssbSqu, replacing with 0\n",
      "  warn(f\"nan values in variable: {column}, replacing with 0\")\n",
      "/home/martin/mambaforge/envs/stable/lib/python3.12/site-packages/tobler/util/util.py:53: UserWarning: nan values in variable: ssbERI, replacing with 0\n",
      "  warn(f\"nan values in variable: {column}, replacing with 0\")\n",
      "/home/martin/mambaforge/envs/stable/lib/python3.12/site-packages/tobler/util/util.py:53: UserWarning: nan values in variable: ssbCCM, replacing with 0\n",
      "  warn(f\"nan values in variable: {column}, replacing with 0\")\n",
      "/home/martin/mambaforge/envs/stable/lib/python3.12/site-packages/tobler/util/util.py:53: UserWarning: nan values in variable: ssbCCD, replacing with 0\n",
      "  warn(f\"nan values in variable: {column}, replacing with 0\")\n",
      "/home/martin/mambaforge/envs/stable/lib/python3.12/site-packages/tobler/util/util.py:53: UserWarning: nan values in variable: stbOri, replacing with 0\n",
      "  warn(f\"nan values in variable: {column}, replacing with 0\")\n",
      "/home/martin/mambaforge/envs/stable/lib/python3.12/site-packages/tobler/util/util.py:53: UserWarning: nan values in variable: sicCAR, replacing with 0\n",
      "  warn(f\"nan values in variable: {column}, replacing with 0\")\n",
      "/home/martin/mambaforge/envs/stable/lib/python3.12/site-packages/tobler/util/util.py:53: UserWarning: nan values in variable: stbCeA, replacing with 0\n",
      "  warn(f\"nan values in variable: {column}, replacing with 0\")\n",
      "/home/martin/mambaforge/envs/stable/lib/python3.12/site-packages/tobler/util/util.py:53: UserWarning: nan values in variable: mtbAli, replacing with 0\n",
      "  warn(f\"nan values in variable: {column}, replacing with 0\")\n",
      "/home/martin/mambaforge/envs/stable/lib/python3.12/site-packages/tobler/util/util.py:53: UserWarning: nan values in variable: mtbNDi, replacing with 0\n",
      "  warn(f\"nan values in variable: {column}, replacing with 0\")\n",
      "/home/martin/mambaforge/envs/stable/lib/python3.12/site-packages/tobler/util/util.py:53: UserWarning: nan values in variable: ltbIBD, replacing with 0\n",
      "  warn(f\"nan values in variable: {column}, replacing with 0\")\n",
      "/home/martin/mambaforge/envs/stable/lib/python3.12/site-packages/tobler/util/util.py:53: UserWarning: nan values in variable: stbSAl, replacing with 0\n",
      "  warn(f\"nan values in variable: {column}, replacing with 0\")\n",
      "/home/martin/mambaforge/envs/stable/lib/python3.12/site-packages/tobler/util/util.py:53: UserWarning: nan values in variable: lieWCe, replacing with 0\n",
      "  warn(f\"nan values in variable: {column}, replacing with 0\")\n"
     ]
    },
    {
     "name": "stdout",
     "output_type": "stream",
     "text": [
      "Chunk 24 done in 247.30 seconds.\n"
     ]
    },
    {
     "name": "stderr",
     "output_type": "stream",
     "text": [
      "/home/martin/mambaforge/envs/stable/lib/python3.12/site-packages/tobler/util/util.py:53: UserWarning: nan values in variable: sdbAre, replacing with 0\n",
      "  warn(f\"nan values in variable: {column}, replacing with 0\")\n",
      "/home/martin/mambaforge/envs/stable/lib/python3.12/site-packages/tobler/util/util.py:53: UserWarning: nan values in variable: sdbCoA, replacing with 0\n",
      "  warn(f\"nan values in variable: {column}, replacing with 0\")\n",
      "/home/martin/mambaforge/envs/stable/lib/python3.12/site-packages/tobler/util/util.py:53: UserWarning: nan values in variable: ssbCCo, replacing with 0\n",
      "  warn(f\"nan values in variable: {column}, replacing with 0\")\n",
      "/home/martin/mambaforge/envs/stable/lib/python3.12/site-packages/tobler/util/util.py:53: UserWarning: nan values in variable: ssbCor, replacing with 0\n",
      "  warn(f\"nan values in variable: {column}, replacing with 0\")\n",
      "/home/martin/mambaforge/envs/stable/lib/python3.12/site-packages/tobler/util/util.py:53: UserWarning: nan values in variable: ssbSqu, replacing with 0\n",
      "  warn(f\"nan values in variable: {column}, replacing with 0\")\n",
      "/home/martin/mambaforge/envs/stable/lib/python3.12/site-packages/tobler/util/util.py:53: UserWarning: nan values in variable: ssbERI, replacing with 0\n",
      "  warn(f\"nan values in variable: {column}, replacing with 0\")\n",
      "/home/martin/mambaforge/envs/stable/lib/python3.12/site-packages/tobler/util/util.py:53: UserWarning: nan values in variable: ssbCCM, replacing with 0\n",
      "  warn(f\"nan values in variable: {column}, replacing with 0\")\n",
      "/home/martin/mambaforge/envs/stable/lib/python3.12/site-packages/tobler/util/util.py:53: UserWarning: nan values in variable: ssbCCD, replacing with 0\n",
      "  warn(f\"nan values in variable: {column}, replacing with 0\")\n",
      "/home/martin/mambaforge/envs/stable/lib/python3.12/site-packages/tobler/util/util.py:53: UserWarning: nan values in variable: stbOri, replacing with 0\n",
      "  warn(f\"nan values in variable: {column}, replacing with 0\")\n",
      "/home/martin/mambaforge/envs/stable/lib/python3.12/site-packages/tobler/util/util.py:53: UserWarning: nan values in variable: sicCAR, replacing with 0\n",
      "  warn(f\"nan values in variable: {column}, replacing with 0\")\n",
      "/home/martin/mambaforge/envs/stable/lib/python3.12/site-packages/tobler/util/util.py:53: UserWarning: nan values in variable: stbCeA, replacing with 0\n",
      "  warn(f\"nan values in variable: {column}, replacing with 0\")\n",
      "/home/martin/mambaforge/envs/stable/lib/python3.12/site-packages/tobler/util/util.py:53: UserWarning: nan values in variable: mtbAli, replacing with 0\n",
      "  warn(f\"nan values in variable: {column}, replacing with 0\")\n",
      "/home/martin/mambaforge/envs/stable/lib/python3.12/site-packages/tobler/util/util.py:53: UserWarning: nan values in variable: mtbNDi, replacing with 0\n",
      "  warn(f\"nan values in variable: {column}, replacing with 0\")\n",
      "/home/martin/mambaforge/envs/stable/lib/python3.12/site-packages/tobler/util/util.py:53: UserWarning: nan values in variable: ltbIBD, replacing with 0\n",
      "  warn(f\"nan values in variable: {column}, replacing with 0\")\n",
      "/home/martin/mambaforge/envs/stable/lib/python3.12/site-packages/tobler/util/util.py:53: UserWarning: nan values in variable: stbSAl, replacing with 0\n",
      "  warn(f\"nan values in variable: {column}, replacing with 0\")\n",
      "/home/martin/mambaforge/envs/stable/lib/python3.12/site-packages/tobler/util/util.py:53: UserWarning: nan values in variable: lieWCe, replacing with 0\n",
      "  warn(f\"nan values in variable: {column}, replacing with 0\")\n"
     ]
    },
    {
     "name": "stdout",
     "output_type": "stream",
     "text": [
      "Chunk 25 done in 206.52 seconds.\n"
     ]
    },
    {
     "name": "stderr",
     "output_type": "stream",
     "text": [
      "/home/martin/mambaforge/envs/stable/lib/python3.12/site-packages/tobler/util/util.py:53: UserWarning: nan values in variable: sdbAre, replacing with 0\n",
      "  warn(f\"nan values in variable: {column}, replacing with 0\")\n",
      "/home/martin/mambaforge/envs/stable/lib/python3.12/site-packages/tobler/util/util.py:53: UserWarning: nan values in variable: sdbCoA, replacing with 0\n",
      "  warn(f\"nan values in variable: {column}, replacing with 0\")\n",
      "/home/martin/mambaforge/envs/stable/lib/python3.12/site-packages/tobler/util/util.py:53: UserWarning: nan values in variable: ssbCCo, replacing with 0\n",
      "  warn(f\"nan values in variable: {column}, replacing with 0\")\n",
      "/home/martin/mambaforge/envs/stable/lib/python3.12/site-packages/tobler/util/util.py:53: UserWarning: nan values in variable: ssbCor, replacing with 0\n",
      "  warn(f\"nan values in variable: {column}, replacing with 0\")\n",
      "/home/martin/mambaforge/envs/stable/lib/python3.12/site-packages/tobler/util/util.py:53: UserWarning: nan values in variable: ssbSqu, replacing with 0\n",
      "  warn(f\"nan values in variable: {column}, replacing with 0\")\n",
      "/home/martin/mambaforge/envs/stable/lib/python3.12/site-packages/tobler/util/util.py:53: UserWarning: nan values in variable: ssbERI, replacing with 0\n",
      "  warn(f\"nan values in variable: {column}, replacing with 0\")\n",
      "/home/martin/mambaforge/envs/stable/lib/python3.12/site-packages/tobler/util/util.py:53: UserWarning: nan values in variable: ssbCCM, replacing with 0\n",
      "  warn(f\"nan values in variable: {column}, replacing with 0\")\n",
      "/home/martin/mambaforge/envs/stable/lib/python3.12/site-packages/tobler/util/util.py:53: UserWarning: nan values in variable: ssbCCD, replacing with 0\n",
      "  warn(f\"nan values in variable: {column}, replacing with 0\")\n",
      "/home/martin/mambaforge/envs/stable/lib/python3.12/site-packages/tobler/util/util.py:53: UserWarning: nan values in variable: stbOri, replacing with 0\n",
      "  warn(f\"nan values in variable: {column}, replacing with 0\")\n",
      "/home/martin/mambaforge/envs/stable/lib/python3.12/site-packages/tobler/util/util.py:53: UserWarning: nan values in variable: sicCAR, replacing with 0\n",
      "  warn(f\"nan values in variable: {column}, replacing with 0\")\n",
      "/home/martin/mambaforge/envs/stable/lib/python3.12/site-packages/tobler/util/util.py:53: UserWarning: nan values in variable: stbCeA, replacing with 0\n",
      "  warn(f\"nan values in variable: {column}, replacing with 0\")\n",
      "/home/martin/mambaforge/envs/stable/lib/python3.12/site-packages/tobler/util/util.py:53: UserWarning: nan values in variable: mtbAli, replacing with 0\n",
      "  warn(f\"nan values in variable: {column}, replacing with 0\")\n",
      "/home/martin/mambaforge/envs/stable/lib/python3.12/site-packages/tobler/util/util.py:53: UserWarning: nan values in variable: mtbNDi, replacing with 0\n",
      "  warn(f\"nan values in variable: {column}, replacing with 0\")\n",
      "/home/martin/mambaforge/envs/stable/lib/python3.12/site-packages/tobler/util/util.py:53: UserWarning: nan values in variable: ltbIBD, replacing with 0\n",
      "  warn(f\"nan values in variable: {column}, replacing with 0\")\n",
      "/home/martin/mambaforge/envs/stable/lib/python3.12/site-packages/tobler/util/util.py:53: UserWarning: nan values in variable: stbSAl, replacing with 0\n",
      "  warn(f\"nan values in variable: {column}, replacing with 0\")\n",
      "/home/martin/mambaforge/envs/stable/lib/python3.12/site-packages/tobler/util/util.py:53: UserWarning: nan values in variable: lieWCe, replacing with 0\n",
      "  warn(f\"nan values in variable: {column}, replacing with 0\")\n"
     ]
    },
    {
     "name": "stdout",
     "output_type": "stream",
     "text": [
      "Chunk 26 done in 151.77 seconds.\n"
     ]
    },
    {
     "name": "stderr",
     "output_type": "stream",
     "text": [
      "/home/martin/mambaforge/envs/stable/lib/python3.12/site-packages/tobler/util/util.py:53: UserWarning: nan values in variable: sdbAre, replacing with 0\n",
      "  warn(f\"nan values in variable: {column}, replacing with 0\")\n",
      "/home/martin/mambaforge/envs/stable/lib/python3.12/site-packages/tobler/util/util.py:53: UserWarning: nan values in variable: sdbCoA, replacing with 0\n",
      "  warn(f\"nan values in variable: {column}, replacing with 0\")\n",
      "/home/martin/mambaforge/envs/stable/lib/python3.12/site-packages/tobler/util/util.py:53: UserWarning: nan values in variable: ssbCCo, replacing with 0\n",
      "  warn(f\"nan values in variable: {column}, replacing with 0\")\n",
      "/home/martin/mambaforge/envs/stable/lib/python3.12/site-packages/tobler/util/util.py:53: UserWarning: nan values in variable: ssbCor, replacing with 0\n",
      "  warn(f\"nan values in variable: {column}, replacing with 0\")\n",
      "/home/martin/mambaforge/envs/stable/lib/python3.12/site-packages/tobler/util/util.py:53: UserWarning: nan values in variable: ssbSqu, replacing with 0\n",
      "  warn(f\"nan values in variable: {column}, replacing with 0\")\n",
      "/home/martin/mambaforge/envs/stable/lib/python3.12/site-packages/tobler/util/util.py:53: UserWarning: nan values in variable: ssbERI, replacing with 0\n",
      "  warn(f\"nan values in variable: {column}, replacing with 0\")\n",
      "/home/martin/mambaforge/envs/stable/lib/python3.12/site-packages/tobler/util/util.py:53: UserWarning: nan values in variable: ssbCCM, replacing with 0\n",
      "  warn(f\"nan values in variable: {column}, replacing with 0\")\n",
      "/home/martin/mambaforge/envs/stable/lib/python3.12/site-packages/tobler/util/util.py:53: UserWarning: nan values in variable: ssbCCD, replacing with 0\n",
      "  warn(f\"nan values in variable: {column}, replacing with 0\")\n",
      "/home/martin/mambaforge/envs/stable/lib/python3.12/site-packages/tobler/util/util.py:53: UserWarning: nan values in variable: stbOri, replacing with 0\n",
      "  warn(f\"nan values in variable: {column}, replacing with 0\")\n",
      "/home/martin/mambaforge/envs/stable/lib/python3.12/site-packages/tobler/util/util.py:53: UserWarning: nan values in variable: sicCAR, replacing with 0\n",
      "  warn(f\"nan values in variable: {column}, replacing with 0\")\n",
      "/home/martin/mambaforge/envs/stable/lib/python3.12/site-packages/tobler/util/util.py:53: UserWarning: nan values in variable: stbCeA, replacing with 0\n",
      "  warn(f\"nan values in variable: {column}, replacing with 0\")\n",
      "/home/martin/mambaforge/envs/stable/lib/python3.12/site-packages/tobler/util/util.py:53: UserWarning: nan values in variable: mtbAli, replacing with 0\n",
      "  warn(f\"nan values in variable: {column}, replacing with 0\")\n",
      "/home/martin/mambaforge/envs/stable/lib/python3.12/site-packages/tobler/util/util.py:53: UserWarning: nan values in variable: mtbNDi, replacing with 0\n",
      "  warn(f\"nan values in variable: {column}, replacing with 0\")\n",
      "/home/martin/mambaforge/envs/stable/lib/python3.12/site-packages/tobler/util/util.py:53: UserWarning: nan values in variable: ltbIBD, replacing with 0\n",
      "  warn(f\"nan values in variable: {column}, replacing with 0\")\n",
      "/home/martin/mambaforge/envs/stable/lib/python3.12/site-packages/tobler/util/util.py:53: UserWarning: nan values in variable: stbSAl, replacing with 0\n",
      "  warn(f\"nan values in variable: {column}, replacing with 0\")\n",
      "/home/martin/mambaforge/envs/stable/lib/python3.12/site-packages/tobler/util/util.py:53: UserWarning: nan values in variable: lieWCe, replacing with 0\n",
      "  warn(f\"nan values in variable: {column}, replacing with 0\")\n"
     ]
    },
    {
     "name": "stdout",
     "output_type": "stream",
     "text": [
      "Chunk 27 done in 110.90 seconds.\n"
     ]
    },
    {
     "name": "stderr",
     "output_type": "stream",
     "text": [
      "/home/martin/mambaforge/envs/stable/lib/python3.12/site-packages/tobler/util/util.py:53: UserWarning: nan values in variable: sdbAre, replacing with 0\n",
      "  warn(f\"nan values in variable: {column}, replacing with 0\")\n",
      "/home/martin/mambaforge/envs/stable/lib/python3.12/site-packages/tobler/util/util.py:53: UserWarning: nan values in variable: sdbCoA, replacing with 0\n",
      "  warn(f\"nan values in variable: {column}, replacing with 0\")\n",
      "/home/martin/mambaforge/envs/stable/lib/python3.12/site-packages/tobler/util/util.py:53: UserWarning: nan values in variable: ssbCCo, replacing with 0\n",
      "  warn(f\"nan values in variable: {column}, replacing with 0\")\n",
      "/home/martin/mambaforge/envs/stable/lib/python3.12/site-packages/tobler/util/util.py:53: UserWarning: nan values in variable: ssbCor, replacing with 0\n",
      "  warn(f\"nan values in variable: {column}, replacing with 0\")\n",
      "/home/martin/mambaforge/envs/stable/lib/python3.12/site-packages/tobler/util/util.py:53: UserWarning: nan values in variable: ssbSqu, replacing with 0\n",
      "  warn(f\"nan values in variable: {column}, replacing with 0\")\n",
      "/home/martin/mambaforge/envs/stable/lib/python3.12/site-packages/tobler/util/util.py:53: UserWarning: nan values in variable: ssbERI, replacing with 0\n",
      "  warn(f\"nan values in variable: {column}, replacing with 0\")\n",
      "/home/martin/mambaforge/envs/stable/lib/python3.12/site-packages/tobler/util/util.py:53: UserWarning: nan values in variable: ssbCCM, replacing with 0\n",
      "  warn(f\"nan values in variable: {column}, replacing with 0\")\n",
      "/home/martin/mambaforge/envs/stable/lib/python3.12/site-packages/tobler/util/util.py:53: UserWarning: nan values in variable: ssbCCD, replacing with 0\n",
      "  warn(f\"nan values in variable: {column}, replacing with 0\")\n",
      "/home/martin/mambaforge/envs/stable/lib/python3.12/site-packages/tobler/util/util.py:53: UserWarning: nan values in variable: stbOri, replacing with 0\n",
      "  warn(f\"nan values in variable: {column}, replacing with 0\")\n",
      "/home/martin/mambaforge/envs/stable/lib/python3.12/site-packages/tobler/util/util.py:53: UserWarning: nan values in variable: sicCAR, replacing with 0\n",
      "  warn(f\"nan values in variable: {column}, replacing with 0\")\n",
      "/home/martin/mambaforge/envs/stable/lib/python3.12/site-packages/tobler/util/util.py:53: UserWarning: nan values in variable: stbCeA, replacing with 0\n",
      "  warn(f\"nan values in variable: {column}, replacing with 0\")\n",
      "/home/martin/mambaforge/envs/stable/lib/python3.12/site-packages/tobler/util/util.py:53: UserWarning: nan values in variable: mtbAli, replacing with 0\n",
      "  warn(f\"nan values in variable: {column}, replacing with 0\")\n",
      "/home/martin/mambaforge/envs/stable/lib/python3.12/site-packages/tobler/util/util.py:53: UserWarning: nan values in variable: mtbNDi, replacing with 0\n",
      "  warn(f\"nan values in variable: {column}, replacing with 0\")\n",
      "/home/martin/mambaforge/envs/stable/lib/python3.12/site-packages/tobler/util/util.py:53: UserWarning: nan values in variable: ltbIBD, replacing with 0\n",
      "  warn(f\"nan values in variable: {column}, replacing with 0\")\n",
      "/home/martin/mambaforge/envs/stable/lib/python3.12/site-packages/tobler/util/util.py:53: UserWarning: nan values in variable: stbSAl, replacing with 0\n",
      "  warn(f\"nan values in variable: {column}, replacing with 0\")\n",
      "/home/martin/mambaforge/envs/stable/lib/python3.12/site-packages/tobler/util/util.py:53: UserWarning: nan values in variable: lieWCe, replacing with 0\n",
      "  warn(f\"nan values in variable: {column}, replacing with 0\")\n"
     ]
    },
    {
     "name": "stdout",
     "output_type": "stream",
     "text": [
      "Chunk 28 done in 52.17 seconds.\n"
     ]
    },
    {
     "name": "stderr",
     "output_type": "stream",
     "text": [
      "/home/martin/mambaforge/envs/stable/lib/python3.12/site-packages/tobler/util/util.py:53: UserWarning: nan values in variable: sdbAre, replacing with 0\n",
      "  warn(f\"nan values in variable: {column}, replacing with 0\")\n",
      "/home/martin/mambaforge/envs/stable/lib/python3.12/site-packages/tobler/util/util.py:53: UserWarning: nan values in variable: sdbCoA, replacing with 0\n",
      "  warn(f\"nan values in variable: {column}, replacing with 0\")\n",
      "/home/martin/mambaforge/envs/stable/lib/python3.12/site-packages/tobler/util/util.py:53: UserWarning: nan values in variable: ssbCCo, replacing with 0\n",
      "  warn(f\"nan values in variable: {column}, replacing with 0\")\n",
      "/home/martin/mambaforge/envs/stable/lib/python3.12/site-packages/tobler/util/util.py:53: UserWarning: nan values in variable: ssbCor, replacing with 0\n",
      "  warn(f\"nan values in variable: {column}, replacing with 0\")\n",
      "/home/martin/mambaforge/envs/stable/lib/python3.12/site-packages/tobler/util/util.py:53: UserWarning: nan values in variable: ssbSqu, replacing with 0\n",
      "  warn(f\"nan values in variable: {column}, replacing with 0\")\n",
      "/home/martin/mambaforge/envs/stable/lib/python3.12/site-packages/tobler/util/util.py:53: UserWarning: nan values in variable: ssbERI, replacing with 0\n",
      "  warn(f\"nan values in variable: {column}, replacing with 0\")\n",
      "/home/martin/mambaforge/envs/stable/lib/python3.12/site-packages/tobler/util/util.py:53: UserWarning: nan values in variable: ssbCCM, replacing with 0\n",
      "  warn(f\"nan values in variable: {column}, replacing with 0\")\n",
      "/home/martin/mambaforge/envs/stable/lib/python3.12/site-packages/tobler/util/util.py:53: UserWarning: nan values in variable: ssbCCD, replacing with 0\n",
      "  warn(f\"nan values in variable: {column}, replacing with 0\")\n",
      "/home/martin/mambaforge/envs/stable/lib/python3.12/site-packages/tobler/util/util.py:53: UserWarning: nan values in variable: stbOri, replacing with 0\n",
      "  warn(f\"nan values in variable: {column}, replacing with 0\")\n",
      "/home/martin/mambaforge/envs/stable/lib/python3.12/site-packages/tobler/util/util.py:53: UserWarning: nan values in variable: sicCAR, replacing with 0\n",
      "  warn(f\"nan values in variable: {column}, replacing with 0\")\n",
      "/home/martin/mambaforge/envs/stable/lib/python3.12/site-packages/tobler/util/util.py:53: UserWarning: nan values in variable: stbCeA, replacing with 0\n",
      "  warn(f\"nan values in variable: {column}, replacing with 0\")\n",
      "/home/martin/mambaforge/envs/stable/lib/python3.12/site-packages/tobler/util/util.py:53: UserWarning: nan values in variable: mtbAli, replacing with 0\n",
      "  warn(f\"nan values in variable: {column}, replacing with 0\")\n",
      "/home/martin/mambaforge/envs/stable/lib/python3.12/site-packages/tobler/util/util.py:53: UserWarning: nan values in variable: mtbNDi, replacing with 0\n",
      "  warn(f\"nan values in variable: {column}, replacing with 0\")\n",
      "/home/martin/mambaforge/envs/stable/lib/python3.12/site-packages/tobler/util/util.py:53: UserWarning: nan values in variable: ltbIBD, replacing with 0\n",
      "  warn(f\"nan values in variable: {column}, replacing with 0\")\n",
      "/home/martin/mambaforge/envs/stable/lib/python3.12/site-packages/tobler/util/util.py:53: UserWarning: nan values in variable: stbSAl, replacing with 0\n",
      "  warn(f\"nan values in variable: {column}, replacing with 0\")\n"
     ]
    },
    {
     "name": "stdout",
     "output_type": "stream",
     "text": [
      "Chunk 29 done in 165.72 seconds.\n"
     ]
    },
    {
     "name": "stderr",
     "output_type": "stream",
     "text": [
      "/home/martin/mambaforge/envs/stable/lib/python3.12/site-packages/tobler/util/util.py:53: UserWarning: nan values in variable: sdbAre, replacing with 0\n",
      "  warn(f\"nan values in variable: {column}, replacing with 0\")\n",
      "/home/martin/mambaforge/envs/stable/lib/python3.12/site-packages/tobler/util/util.py:53: UserWarning: nan values in variable: sdbCoA, replacing with 0\n",
      "  warn(f\"nan values in variable: {column}, replacing with 0\")\n",
      "/home/martin/mambaforge/envs/stable/lib/python3.12/site-packages/tobler/util/util.py:53: UserWarning: nan values in variable: ssbCCo, replacing with 0\n",
      "  warn(f\"nan values in variable: {column}, replacing with 0\")\n",
      "/home/martin/mambaforge/envs/stable/lib/python3.12/site-packages/tobler/util/util.py:53: UserWarning: nan values in variable: ssbCor, replacing with 0\n",
      "  warn(f\"nan values in variable: {column}, replacing with 0\")\n",
      "/home/martin/mambaforge/envs/stable/lib/python3.12/site-packages/tobler/util/util.py:53: UserWarning: nan values in variable: ssbSqu, replacing with 0\n",
      "  warn(f\"nan values in variable: {column}, replacing with 0\")\n",
      "/home/martin/mambaforge/envs/stable/lib/python3.12/site-packages/tobler/util/util.py:53: UserWarning: nan values in variable: ssbERI, replacing with 0\n",
      "  warn(f\"nan values in variable: {column}, replacing with 0\")\n",
      "/home/martin/mambaforge/envs/stable/lib/python3.12/site-packages/tobler/util/util.py:53: UserWarning: nan values in variable: ssbCCM, replacing with 0\n",
      "  warn(f\"nan values in variable: {column}, replacing with 0\")\n",
      "/home/martin/mambaforge/envs/stable/lib/python3.12/site-packages/tobler/util/util.py:53: UserWarning: nan values in variable: ssbCCD, replacing with 0\n",
      "  warn(f\"nan values in variable: {column}, replacing with 0\")\n",
      "/home/martin/mambaforge/envs/stable/lib/python3.12/site-packages/tobler/util/util.py:53: UserWarning: nan values in variable: stbOri, replacing with 0\n",
      "  warn(f\"nan values in variable: {column}, replacing with 0\")\n",
      "/home/martin/mambaforge/envs/stable/lib/python3.12/site-packages/tobler/util/util.py:53: UserWarning: nan values in variable: sicCAR, replacing with 0\n",
      "  warn(f\"nan values in variable: {column}, replacing with 0\")\n",
      "/home/martin/mambaforge/envs/stable/lib/python3.12/site-packages/tobler/util/util.py:53: UserWarning: nan values in variable: stbCeA, replacing with 0\n",
      "  warn(f\"nan values in variable: {column}, replacing with 0\")\n",
      "/home/martin/mambaforge/envs/stable/lib/python3.12/site-packages/tobler/util/util.py:53: UserWarning: nan values in variable: mtbAli, replacing with 0\n",
      "  warn(f\"nan values in variable: {column}, replacing with 0\")\n",
      "/home/martin/mambaforge/envs/stable/lib/python3.12/site-packages/tobler/util/util.py:53: UserWarning: nan values in variable: mtbNDi, replacing with 0\n",
      "  warn(f\"nan values in variable: {column}, replacing with 0\")\n",
      "/home/martin/mambaforge/envs/stable/lib/python3.12/site-packages/tobler/util/util.py:53: UserWarning: nan values in variable: stbSAl, replacing with 0\n",
      "  warn(f\"nan values in variable: {column}, replacing with 0\")\n",
      "/home/martin/mambaforge/envs/stable/lib/python3.12/site-packages/tobler/util/util.py:53: UserWarning: nan values in variable: lieWCe, replacing with 0\n",
      "  warn(f\"nan values in variable: {column}, replacing with 0\")\n"
     ]
    },
    {
     "name": "stdout",
     "output_type": "stream",
     "text": [
      "Chunk 30 done in 189.55 seconds.\n"
     ]
    },
    {
     "name": "stderr",
     "output_type": "stream",
     "text": [
      "/home/martin/mambaforge/envs/stable/lib/python3.12/site-packages/tobler/util/util.py:53: UserWarning: nan values in variable: sdbAre, replacing with 0\n",
      "  warn(f\"nan values in variable: {column}, replacing with 0\")\n",
      "/home/martin/mambaforge/envs/stable/lib/python3.12/site-packages/tobler/util/util.py:53: UserWarning: nan values in variable: sdbCoA, replacing with 0\n",
      "  warn(f\"nan values in variable: {column}, replacing with 0\")\n",
      "/home/martin/mambaforge/envs/stable/lib/python3.12/site-packages/tobler/util/util.py:53: UserWarning: nan values in variable: ssbCCo, replacing with 0\n",
      "  warn(f\"nan values in variable: {column}, replacing with 0\")\n",
      "/home/martin/mambaforge/envs/stable/lib/python3.12/site-packages/tobler/util/util.py:53: UserWarning: nan values in variable: ssbCor, replacing with 0\n",
      "  warn(f\"nan values in variable: {column}, replacing with 0\")\n",
      "/home/martin/mambaforge/envs/stable/lib/python3.12/site-packages/tobler/util/util.py:53: UserWarning: nan values in variable: ssbSqu, replacing with 0\n",
      "  warn(f\"nan values in variable: {column}, replacing with 0\")\n",
      "/home/martin/mambaforge/envs/stable/lib/python3.12/site-packages/tobler/util/util.py:53: UserWarning: nan values in variable: ssbERI, replacing with 0\n",
      "  warn(f\"nan values in variable: {column}, replacing with 0\")\n",
      "/home/martin/mambaforge/envs/stable/lib/python3.12/site-packages/tobler/util/util.py:53: UserWarning: nan values in variable: ssbCCM, replacing with 0\n",
      "  warn(f\"nan values in variable: {column}, replacing with 0\")\n",
      "/home/martin/mambaforge/envs/stable/lib/python3.12/site-packages/tobler/util/util.py:53: UserWarning: nan values in variable: ssbCCD, replacing with 0\n",
      "  warn(f\"nan values in variable: {column}, replacing with 0\")\n",
      "/home/martin/mambaforge/envs/stable/lib/python3.12/site-packages/tobler/util/util.py:53: UserWarning: nan values in variable: stbOri, replacing with 0\n",
      "  warn(f\"nan values in variable: {column}, replacing with 0\")\n",
      "/home/martin/mambaforge/envs/stable/lib/python3.12/site-packages/tobler/util/util.py:53: UserWarning: nan values in variable: sicCAR, replacing with 0\n",
      "  warn(f\"nan values in variable: {column}, replacing with 0\")\n",
      "/home/martin/mambaforge/envs/stable/lib/python3.12/site-packages/tobler/util/util.py:53: UserWarning: nan values in variable: stbCeA, replacing with 0\n",
      "  warn(f\"nan values in variable: {column}, replacing with 0\")\n",
      "/home/martin/mambaforge/envs/stable/lib/python3.12/site-packages/tobler/util/util.py:53: UserWarning: nan values in variable: mtbAli, replacing with 0\n",
      "  warn(f\"nan values in variable: {column}, replacing with 0\")\n",
      "/home/martin/mambaforge/envs/stable/lib/python3.12/site-packages/tobler/util/util.py:53: UserWarning: nan values in variable: mtbNDi, replacing with 0\n",
      "  warn(f\"nan values in variable: {column}, replacing with 0\")\n",
      "/home/martin/mambaforge/envs/stable/lib/python3.12/site-packages/tobler/util/util.py:53: UserWarning: nan values in variable: ltbIBD, replacing with 0\n",
      "  warn(f\"nan values in variable: {column}, replacing with 0\")\n",
      "/home/martin/mambaforge/envs/stable/lib/python3.12/site-packages/tobler/util/util.py:53: UserWarning: nan values in variable: stbSAl, replacing with 0\n",
      "  warn(f\"nan values in variable: {column}, replacing with 0\")\n",
      "/home/martin/mambaforge/envs/stable/lib/python3.12/site-packages/tobler/util/util.py:53: UserWarning: nan values in variable: lieWCe, replacing with 0\n",
      "  warn(f\"nan values in variable: {column}, replacing with 0\")\n"
     ]
    },
    {
     "name": "stdout",
     "output_type": "stream",
     "text": [
      "Chunk 31 done in 186.14 seconds.\n"
     ]
    },
    {
     "name": "stderr",
     "output_type": "stream",
     "text": [
      "/home/martin/mambaforge/envs/stable/lib/python3.12/site-packages/tobler/util/util.py:53: UserWarning: nan values in variable: sdbAre, replacing with 0\n",
      "  warn(f\"nan values in variable: {column}, replacing with 0\")\n",
      "/home/martin/mambaforge/envs/stable/lib/python3.12/site-packages/tobler/util/util.py:53: UserWarning: nan values in variable: sdbCoA, replacing with 0\n",
      "  warn(f\"nan values in variable: {column}, replacing with 0\")\n",
      "/home/martin/mambaforge/envs/stable/lib/python3.12/site-packages/tobler/util/util.py:53: UserWarning: nan values in variable: ssbCCo, replacing with 0\n",
      "  warn(f\"nan values in variable: {column}, replacing with 0\")\n",
      "/home/martin/mambaforge/envs/stable/lib/python3.12/site-packages/tobler/util/util.py:53: UserWarning: nan values in variable: ssbCor, replacing with 0\n",
      "  warn(f\"nan values in variable: {column}, replacing with 0\")\n",
      "/home/martin/mambaforge/envs/stable/lib/python3.12/site-packages/tobler/util/util.py:53: UserWarning: nan values in variable: ssbSqu, replacing with 0\n",
      "  warn(f\"nan values in variable: {column}, replacing with 0\")\n",
      "/home/martin/mambaforge/envs/stable/lib/python3.12/site-packages/tobler/util/util.py:53: UserWarning: nan values in variable: ssbERI, replacing with 0\n",
      "  warn(f\"nan values in variable: {column}, replacing with 0\")\n",
      "/home/martin/mambaforge/envs/stable/lib/python3.12/site-packages/tobler/util/util.py:53: UserWarning: nan values in variable: ssbCCM, replacing with 0\n",
      "  warn(f\"nan values in variable: {column}, replacing with 0\")\n",
      "/home/martin/mambaforge/envs/stable/lib/python3.12/site-packages/tobler/util/util.py:53: UserWarning: nan values in variable: ssbCCD, replacing with 0\n",
      "  warn(f\"nan values in variable: {column}, replacing with 0\")\n",
      "/home/martin/mambaforge/envs/stable/lib/python3.12/site-packages/tobler/util/util.py:53: UserWarning: nan values in variable: stbOri, replacing with 0\n",
      "  warn(f\"nan values in variable: {column}, replacing with 0\")\n",
      "/home/martin/mambaforge/envs/stable/lib/python3.12/site-packages/tobler/util/util.py:53: UserWarning: nan values in variable: sicCAR, replacing with 0\n",
      "  warn(f\"nan values in variable: {column}, replacing with 0\")\n",
      "/home/martin/mambaforge/envs/stable/lib/python3.12/site-packages/tobler/util/util.py:53: UserWarning: nan values in variable: stbCeA, replacing with 0\n",
      "  warn(f\"nan values in variable: {column}, replacing with 0\")\n",
      "/home/martin/mambaforge/envs/stable/lib/python3.12/site-packages/tobler/util/util.py:53: UserWarning: nan values in variable: mtbAli, replacing with 0\n",
      "  warn(f\"nan values in variable: {column}, replacing with 0\")\n",
      "/home/martin/mambaforge/envs/stable/lib/python3.12/site-packages/tobler/util/util.py:53: UserWarning: nan values in variable: mtbNDi, replacing with 0\n",
      "  warn(f\"nan values in variable: {column}, replacing with 0\")\n",
      "/home/martin/mambaforge/envs/stable/lib/python3.12/site-packages/tobler/util/util.py:53: UserWarning: nan values in variable: ltbIBD, replacing with 0\n",
      "  warn(f\"nan values in variable: {column}, replacing with 0\")\n",
      "/home/martin/mambaforge/envs/stable/lib/python3.12/site-packages/tobler/util/util.py:53: UserWarning: nan values in variable: stbSAl, replacing with 0\n",
      "  warn(f\"nan values in variable: {column}, replacing with 0\")\n"
     ]
    },
    {
     "name": "stdout",
     "output_type": "stream",
     "text": [
      "Chunk 32 done in 96.27 seconds.\n"
     ]
    },
    {
     "name": "stderr",
     "output_type": "stream",
     "text": [
      "/home/martin/mambaforge/envs/stable/lib/python3.12/site-packages/tobler/util/util.py:53: UserWarning: nan values in variable: sdbAre, replacing with 0\n",
      "  warn(f\"nan values in variable: {column}, replacing with 0\")\n",
      "/home/martin/mambaforge/envs/stable/lib/python3.12/site-packages/tobler/util/util.py:53: UserWarning: nan values in variable: sdbCoA, replacing with 0\n",
      "  warn(f\"nan values in variable: {column}, replacing with 0\")\n",
      "/home/martin/mambaforge/envs/stable/lib/python3.12/site-packages/tobler/util/util.py:53: UserWarning: nan values in variable: ssbCCo, replacing with 0\n",
      "  warn(f\"nan values in variable: {column}, replacing with 0\")\n",
      "/home/martin/mambaforge/envs/stable/lib/python3.12/site-packages/tobler/util/util.py:53: UserWarning: nan values in variable: ssbCor, replacing with 0\n",
      "  warn(f\"nan values in variable: {column}, replacing with 0\")\n",
      "/home/martin/mambaforge/envs/stable/lib/python3.12/site-packages/tobler/util/util.py:53: UserWarning: nan values in variable: ssbSqu, replacing with 0\n",
      "  warn(f\"nan values in variable: {column}, replacing with 0\")\n",
      "/home/martin/mambaforge/envs/stable/lib/python3.12/site-packages/tobler/util/util.py:53: UserWarning: nan values in variable: ssbERI, replacing with 0\n",
      "  warn(f\"nan values in variable: {column}, replacing with 0\")\n",
      "/home/martin/mambaforge/envs/stable/lib/python3.12/site-packages/tobler/util/util.py:53: UserWarning: nan values in variable: ssbCCM, replacing with 0\n",
      "  warn(f\"nan values in variable: {column}, replacing with 0\")\n",
      "/home/martin/mambaforge/envs/stable/lib/python3.12/site-packages/tobler/util/util.py:53: UserWarning: nan values in variable: ssbCCD, replacing with 0\n",
      "  warn(f\"nan values in variable: {column}, replacing with 0\")\n",
      "/home/martin/mambaforge/envs/stable/lib/python3.12/site-packages/tobler/util/util.py:53: UserWarning: nan values in variable: stbOri, replacing with 0\n",
      "  warn(f\"nan values in variable: {column}, replacing with 0\")\n",
      "/home/martin/mambaforge/envs/stable/lib/python3.12/site-packages/tobler/util/util.py:53: UserWarning: nan values in variable: sicCAR, replacing with 0\n",
      "  warn(f\"nan values in variable: {column}, replacing with 0\")\n",
      "/home/martin/mambaforge/envs/stable/lib/python3.12/site-packages/tobler/util/util.py:53: UserWarning: nan values in variable: stbCeA, replacing with 0\n",
      "  warn(f\"nan values in variable: {column}, replacing with 0\")\n",
      "/home/martin/mambaforge/envs/stable/lib/python3.12/site-packages/tobler/util/util.py:53: UserWarning: nan values in variable: mtbAli, replacing with 0\n",
      "  warn(f\"nan values in variable: {column}, replacing with 0\")\n",
      "/home/martin/mambaforge/envs/stable/lib/python3.12/site-packages/tobler/util/util.py:53: UserWarning: nan values in variable: mtbNDi, replacing with 0\n",
      "  warn(f\"nan values in variable: {column}, replacing with 0\")\n",
      "/home/martin/mambaforge/envs/stable/lib/python3.12/site-packages/tobler/util/util.py:53: UserWarning: nan values in variable: ltbIBD, replacing with 0\n",
      "  warn(f\"nan values in variable: {column}, replacing with 0\")\n",
      "/home/martin/mambaforge/envs/stable/lib/python3.12/site-packages/tobler/util/util.py:53: UserWarning: nan values in variable: stbSAl, replacing with 0\n",
      "  warn(f\"nan values in variable: {column}, replacing with 0\")\n",
      "/home/martin/mambaforge/envs/stable/lib/python3.12/site-packages/tobler/util/util.py:53: UserWarning: nan values in variable: lieWCe, replacing with 0\n",
      "  warn(f\"nan values in variable: {column}, replacing with 0\")\n"
     ]
    },
    {
     "name": "stdout",
     "output_type": "stream",
     "text": [
      "Chunk 33 done in 100.07 seconds.\n"
     ]
    },
    {
     "name": "stderr",
     "output_type": "stream",
     "text": [
      "/home/martin/mambaforge/envs/stable/lib/python3.12/site-packages/tobler/util/util.py:53: UserWarning: nan values in variable: sdbAre, replacing with 0\n",
      "  warn(f\"nan values in variable: {column}, replacing with 0\")\n",
      "/home/martin/mambaforge/envs/stable/lib/python3.12/site-packages/tobler/util/util.py:53: UserWarning: nan values in variable: sdbCoA, replacing with 0\n",
      "  warn(f\"nan values in variable: {column}, replacing with 0\")\n",
      "/home/martin/mambaforge/envs/stable/lib/python3.12/site-packages/tobler/util/util.py:53: UserWarning: nan values in variable: ssbCCo, replacing with 0\n",
      "  warn(f\"nan values in variable: {column}, replacing with 0\")\n",
      "/home/martin/mambaforge/envs/stable/lib/python3.12/site-packages/tobler/util/util.py:53: UserWarning: nan values in variable: ssbCor, replacing with 0\n",
      "  warn(f\"nan values in variable: {column}, replacing with 0\")\n",
      "/home/martin/mambaforge/envs/stable/lib/python3.12/site-packages/tobler/util/util.py:53: UserWarning: nan values in variable: ssbSqu, replacing with 0\n",
      "  warn(f\"nan values in variable: {column}, replacing with 0\")\n",
      "/home/martin/mambaforge/envs/stable/lib/python3.12/site-packages/tobler/util/util.py:53: UserWarning: nan values in variable: ssbERI, replacing with 0\n",
      "  warn(f\"nan values in variable: {column}, replacing with 0\")\n",
      "/home/martin/mambaforge/envs/stable/lib/python3.12/site-packages/tobler/util/util.py:53: UserWarning: nan values in variable: ssbCCM, replacing with 0\n",
      "  warn(f\"nan values in variable: {column}, replacing with 0\")\n",
      "/home/martin/mambaforge/envs/stable/lib/python3.12/site-packages/tobler/util/util.py:53: UserWarning: nan values in variable: ssbCCD, replacing with 0\n",
      "  warn(f\"nan values in variable: {column}, replacing with 0\")\n",
      "/home/martin/mambaforge/envs/stable/lib/python3.12/site-packages/tobler/util/util.py:53: UserWarning: nan values in variable: stbOri, replacing with 0\n",
      "  warn(f\"nan values in variable: {column}, replacing with 0\")\n",
      "/home/martin/mambaforge/envs/stable/lib/python3.12/site-packages/tobler/util/util.py:53: UserWarning: nan values in variable: sicCAR, replacing with 0\n",
      "  warn(f\"nan values in variable: {column}, replacing with 0\")\n",
      "/home/martin/mambaforge/envs/stable/lib/python3.12/site-packages/tobler/util/util.py:53: UserWarning: nan values in variable: stbCeA, replacing with 0\n",
      "  warn(f\"nan values in variable: {column}, replacing with 0\")\n",
      "/home/martin/mambaforge/envs/stable/lib/python3.12/site-packages/tobler/util/util.py:53: UserWarning: nan values in variable: mtbAli, replacing with 0\n",
      "  warn(f\"nan values in variable: {column}, replacing with 0\")\n",
      "/home/martin/mambaforge/envs/stable/lib/python3.12/site-packages/tobler/util/util.py:53: UserWarning: nan values in variable: mtbNDi, replacing with 0\n",
      "  warn(f\"nan values in variable: {column}, replacing with 0\")\n",
      "/home/martin/mambaforge/envs/stable/lib/python3.12/site-packages/tobler/util/util.py:53: UserWarning: nan values in variable: stbSAl, replacing with 0\n",
      "  warn(f\"nan values in variable: {column}, replacing with 0\")\n"
     ]
    },
    {
     "name": "stdout",
     "output_type": "stream",
     "text": [
      "Chunk 34 done in 179.11 seconds.\n"
     ]
    },
    {
     "name": "stderr",
     "output_type": "stream",
     "text": [
      "/home/martin/mambaforge/envs/stable/lib/python3.12/site-packages/tobler/util/util.py:53: UserWarning: nan values in variable: sdbAre, replacing with 0\n",
      "  warn(f\"nan values in variable: {column}, replacing with 0\")\n",
      "/home/martin/mambaforge/envs/stable/lib/python3.12/site-packages/tobler/util/util.py:53: UserWarning: nan values in variable: sdbCoA, replacing with 0\n",
      "  warn(f\"nan values in variable: {column}, replacing with 0\")\n",
      "/home/martin/mambaforge/envs/stable/lib/python3.12/site-packages/tobler/util/util.py:53: UserWarning: nan values in variable: ssbCCo, replacing with 0\n",
      "  warn(f\"nan values in variable: {column}, replacing with 0\")\n",
      "/home/martin/mambaforge/envs/stable/lib/python3.12/site-packages/tobler/util/util.py:53: UserWarning: nan values in variable: ssbCor, replacing with 0\n",
      "  warn(f\"nan values in variable: {column}, replacing with 0\")\n",
      "/home/martin/mambaforge/envs/stable/lib/python3.12/site-packages/tobler/util/util.py:53: UserWarning: nan values in variable: ssbSqu, replacing with 0\n",
      "  warn(f\"nan values in variable: {column}, replacing with 0\")\n",
      "/home/martin/mambaforge/envs/stable/lib/python3.12/site-packages/tobler/util/util.py:53: UserWarning: nan values in variable: ssbERI, replacing with 0\n",
      "  warn(f\"nan values in variable: {column}, replacing with 0\")\n",
      "/home/martin/mambaforge/envs/stable/lib/python3.12/site-packages/tobler/util/util.py:53: UserWarning: nan values in variable: ssbCCM, replacing with 0\n",
      "  warn(f\"nan values in variable: {column}, replacing with 0\")\n",
      "/home/martin/mambaforge/envs/stable/lib/python3.12/site-packages/tobler/util/util.py:53: UserWarning: nan values in variable: ssbCCD, replacing with 0\n",
      "  warn(f\"nan values in variable: {column}, replacing with 0\")\n",
      "/home/martin/mambaforge/envs/stable/lib/python3.12/site-packages/tobler/util/util.py:53: UserWarning: nan values in variable: stbOri, replacing with 0\n",
      "  warn(f\"nan values in variable: {column}, replacing with 0\")\n",
      "/home/martin/mambaforge/envs/stable/lib/python3.12/site-packages/tobler/util/util.py:53: UserWarning: nan values in variable: sicCAR, replacing with 0\n",
      "  warn(f\"nan values in variable: {column}, replacing with 0\")\n",
      "/home/martin/mambaforge/envs/stable/lib/python3.12/site-packages/tobler/util/util.py:53: UserWarning: nan values in variable: stbCeA, replacing with 0\n",
      "  warn(f\"nan values in variable: {column}, replacing with 0\")\n",
      "/home/martin/mambaforge/envs/stable/lib/python3.12/site-packages/tobler/util/util.py:53: UserWarning: nan values in variable: mtbAli, replacing with 0\n",
      "  warn(f\"nan values in variable: {column}, replacing with 0\")\n",
      "/home/martin/mambaforge/envs/stable/lib/python3.12/site-packages/tobler/util/util.py:53: UserWarning: nan values in variable: mtbNDi, replacing with 0\n",
      "  warn(f\"nan values in variable: {column}, replacing with 0\")\n",
      "/home/martin/mambaforge/envs/stable/lib/python3.12/site-packages/tobler/util/util.py:53: UserWarning: nan values in variable: ltbIBD, replacing with 0\n",
      "  warn(f\"nan values in variable: {column}, replacing with 0\")\n",
      "/home/martin/mambaforge/envs/stable/lib/python3.12/site-packages/tobler/util/util.py:53: UserWarning: nan values in variable: stbSAl, replacing with 0\n",
      "  warn(f\"nan values in variable: {column}, replacing with 0\")\n",
      "/home/martin/mambaforge/envs/stable/lib/python3.12/site-packages/tobler/util/util.py:53: UserWarning: nan values in variable: lieWCe, replacing with 0\n",
      "  warn(f\"nan values in variable: {column}, replacing with 0\")\n"
     ]
    },
    {
     "name": "stdout",
     "output_type": "stream",
     "text": [
      "Chunk 35 done in 226.68 seconds.\n"
     ]
    },
    {
     "name": "stderr",
     "output_type": "stream",
     "text": [
      "/home/martin/mambaforge/envs/stable/lib/python3.12/site-packages/tobler/util/util.py:53: UserWarning: nan values in variable: sdbAre, replacing with 0\n",
      "  warn(f\"nan values in variable: {column}, replacing with 0\")\n",
      "/home/martin/mambaforge/envs/stable/lib/python3.12/site-packages/tobler/util/util.py:53: UserWarning: nan values in variable: sdbCoA, replacing with 0\n",
      "  warn(f\"nan values in variable: {column}, replacing with 0\")\n",
      "/home/martin/mambaforge/envs/stable/lib/python3.12/site-packages/tobler/util/util.py:53: UserWarning: nan values in variable: ssbCCo, replacing with 0\n",
      "  warn(f\"nan values in variable: {column}, replacing with 0\")\n",
      "/home/martin/mambaforge/envs/stable/lib/python3.12/site-packages/tobler/util/util.py:53: UserWarning: nan values in variable: ssbCor, replacing with 0\n",
      "  warn(f\"nan values in variable: {column}, replacing with 0\")\n",
      "/home/martin/mambaforge/envs/stable/lib/python3.12/site-packages/tobler/util/util.py:53: UserWarning: nan values in variable: ssbSqu, replacing with 0\n",
      "  warn(f\"nan values in variable: {column}, replacing with 0\")\n",
      "/home/martin/mambaforge/envs/stable/lib/python3.12/site-packages/tobler/util/util.py:53: UserWarning: nan values in variable: ssbERI, replacing with 0\n",
      "  warn(f\"nan values in variable: {column}, replacing with 0\")\n",
      "/home/martin/mambaforge/envs/stable/lib/python3.12/site-packages/tobler/util/util.py:53: UserWarning: nan values in variable: ssbCCM, replacing with 0\n",
      "  warn(f\"nan values in variable: {column}, replacing with 0\")\n",
      "/home/martin/mambaforge/envs/stable/lib/python3.12/site-packages/tobler/util/util.py:53: UserWarning: nan values in variable: ssbCCD, replacing with 0\n",
      "  warn(f\"nan values in variable: {column}, replacing with 0\")\n",
      "/home/martin/mambaforge/envs/stable/lib/python3.12/site-packages/tobler/util/util.py:53: UserWarning: nan values in variable: stbOri, replacing with 0\n",
      "  warn(f\"nan values in variable: {column}, replacing with 0\")\n",
      "/home/martin/mambaforge/envs/stable/lib/python3.12/site-packages/tobler/util/util.py:53: UserWarning: nan values in variable: sicCAR, replacing with 0\n",
      "  warn(f\"nan values in variable: {column}, replacing with 0\")\n",
      "/home/martin/mambaforge/envs/stable/lib/python3.12/site-packages/tobler/util/util.py:53: UserWarning: nan values in variable: stbCeA, replacing with 0\n",
      "  warn(f\"nan values in variable: {column}, replacing with 0\")\n",
      "/home/martin/mambaforge/envs/stable/lib/python3.12/site-packages/tobler/util/util.py:53: UserWarning: nan values in variable: mtbAli, replacing with 0\n",
      "  warn(f\"nan values in variable: {column}, replacing with 0\")\n",
      "/home/martin/mambaforge/envs/stable/lib/python3.12/site-packages/tobler/util/util.py:53: UserWarning: nan values in variable: mtbNDi, replacing with 0\n",
      "  warn(f\"nan values in variable: {column}, replacing with 0\")\n",
      "/home/martin/mambaforge/envs/stable/lib/python3.12/site-packages/tobler/util/util.py:53: UserWarning: nan values in variable: ltbIBD, replacing with 0\n",
      "  warn(f\"nan values in variable: {column}, replacing with 0\")\n",
      "/home/martin/mambaforge/envs/stable/lib/python3.12/site-packages/tobler/util/util.py:53: UserWarning: nan values in variable: stbSAl, replacing with 0\n",
      "  warn(f\"nan values in variable: {column}, replacing with 0\")\n",
      "/home/martin/mambaforge/envs/stable/lib/python3.12/site-packages/tobler/util/util.py:53: UserWarning: nan values in variable: lieWCe, replacing with 0\n",
      "  warn(f\"nan values in variable: {column}, replacing with 0\")\n"
     ]
    },
    {
     "name": "stdout",
     "output_type": "stream",
     "text": [
      "Chunk 36 done in 272.28 seconds.\n"
     ]
    },
    {
     "name": "stderr",
     "output_type": "stream",
     "text": [
      "/home/martin/mambaforge/envs/stable/lib/python3.12/site-packages/tobler/util/util.py:53: UserWarning: nan values in variable: sdbAre, replacing with 0\n",
      "  warn(f\"nan values in variable: {column}, replacing with 0\")\n",
      "/home/martin/mambaforge/envs/stable/lib/python3.12/site-packages/tobler/util/util.py:53: UserWarning: nan values in variable: sdbCoA, replacing with 0\n",
      "  warn(f\"nan values in variable: {column}, replacing with 0\")\n",
      "/home/martin/mambaforge/envs/stable/lib/python3.12/site-packages/tobler/util/util.py:53: UserWarning: nan values in variable: ssbCCo, replacing with 0\n",
      "  warn(f\"nan values in variable: {column}, replacing with 0\")\n",
      "/home/martin/mambaforge/envs/stable/lib/python3.12/site-packages/tobler/util/util.py:53: UserWarning: nan values in variable: ssbCor, replacing with 0\n",
      "  warn(f\"nan values in variable: {column}, replacing with 0\")\n",
      "/home/martin/mambaforge/envs/stable/lib/python3.12/site-packages/tobler/util/util.py:53: UserWarning: nan values in variable: ssbSqu, replacing with 0\n",
      "  warn(f\"nan values in variable: {column}, replacing with 0\")\n",
      "/home/martin/mambaforge/envs/stable/lib/python3.12/site-packages/tobler/util/util.py:53: UserWarning: nan values in variable: ssbERI, replacing with 0\n",
      "  warn(f\"nan values in variable: {column}, replacing with 0\")\n",
      "/home/martin/mambaforge/envs/stable/lib/python3.12/site-packages/tobler/util/util.py:53: UserWarning: nan values in variable: ssbCCM, replacing with 0\n",
      "  warn(f\"nan values in variable: {column}, replacing with 0\")\n",
      "/home/martin/mambaforge/envs/stable/lib/python3.12/site-packages/tobler/util/util.py:53: UserWarning: nan values in variable: ssbCCD, replacing with 0\n",
      "  warn(f\"nan values in variable: {column}, replacing with 0\")\n",
      "/home/martin/mambaforge/envs/stable/lib/python3.12/site-packages/tobler/util/util.py:53: UserWarning: nan values in variable: stbOri, replacing with 0\n",
      "  warn(f\"nan values in variable: {column}, replacing with 0\")\n",
      "/home/martin/mambaforge/envs/stable/lib/python3.12/site-packages/tobler/util/util.py:53: UserWarning: nan values in variable: sicCAR, replacing with 0\n",
      "  warn(f\"nan values in variable: {column}, replacing with 0\")\n",
      "/home/martin/mambaforge/envs/stable/lib/python3.12/site-packages/tobler/util/util.py:53: UserWarning: nan values in variable: stbCeA, replacing with 0\n",
      "  warn(f\"nan values in variable: {column}, replacing with 0\")\n",
      "/home/martin/mambaforge/envs/stable/lib/python3.12/site-packages/tobler/util/util.py:53: UserWarning: nan values in variable: mtbAli, replacing with 0\n",
      "  warn(f\"nan values in variable: {column}, replacing with 0\")\n",
      "/home/martin/mambaforge/envs/stable/lib/python3.12/site-packages/tobler/util/util.py:53: UserWarning: nan values in variable: mtbNDi, replacing with 0\n",
      "  warn(f\"nan values in variable: {column}, replacing with 0\")\n",
      "/home/martin/mambaforge/envs/stable/lib/python3.12/site-packages/tobler/util/util.py:53: UserWarning: nan values in variable: stbSAl, replacing with 0\n",
      "  warn(f\"nan values in variable: {column}, replacing with 0\")\n",
      "/home/martin/mambaforge/envs/stable/lib/python3.12/site-packages/tobler/util/util.py:53: UserWarning: nan values in variable: lieWCe, replacing with 0\n",
      "  warn(f\"nan values in variable: {column}, replacing with 0\")\n"
     ]
    },
    {
     "name": "stdout",
     "output_type": "stream",
     "text": [
      "Chunk 37 done in 249.97 seconds.\n"
     ]
    },
    {
     "name": "stderr",
     "output_type": "stream",
     "text": [
      "/home/martin/mambaforge/envs/stable/lib/python3.12/site-packages/tobler/util/util.py:53: UserWarning: nan values in variable: sdbAre, replacing with 0\n",
      "  warn(f\"nan values in variable: {column}, replacing with 0\")\n",
      "/home/martin/mambaforge/envs/stable/lib/python3.12/site-packages/tobler/util/util.py:53: UserWarning: nan values in variable: sdbCoA, replacing with 0\n",
      "  warn(f\"nan values in variable: {column}, replacing with 0\")\n",
      "/home/martin/mambaforge/envs/stable/lib/python3.12/site-packages/tobler/util/util.py:53: UserWarning: nan values in variable: ssbCCo, replacing with 0\n",
      "  warn(f\"nan values in variable: {column}, replacing with 0\")\n",
      "/home/martin/mambaforge/envs/stable/lib/python3.12/site-packages/tobler/util/util.py:53: UserWarning: nan values in variable: ssbCor, replacing with 0\n",
      "  warn(f\"nan values in variable: {column}, replacing with 0\")\n",
      "/home/martin/mambaforge/envs/stable/lib/python3.12/site-packages/tobler/util/util.py:53: UserWarning: nan values in variable: ssbSqu, replacing with 0\n",
      "  warn(f\"nan values in variable: {column}, replacing with 0\")\n",
      "/home/martin/mambaforge/envs/stable/lib/python3.12/site-packages/tobler/util/util.py:53: UserWarning: nan values in variable: ssbERI, replacing with 0\n",
      "  warn(f\"nan values in variable: {column}, replacing with 0\")\n",
      "/home/martin/mambaforge/envs/stable/lib/python3.12/site-packages/tobler/util/util.py:53: UserWarning: nan values in variable: ssbCCM, replacing with 0\n",
      "  warn(f\"nan values in variable: {column}, replacing with 0\")\n",
      "/home/martin/mambaforge/envs/stable/lib/python3.12/site-packages/tobler/util/util.py:53: UserWarning: nan values in variable: ssbCCD, replacing with 0\n",
      "  warn(f\"nan values in variable: {column}, replacing with 0\")\n",
      "/home/martin/mambaforge/envs/stable/lib/python3.12/site-packages/tobler/util/util.py:53: UserWarning: nan values in variable: stbOri, replacing with 0\n",
      "  warn(f\"nan values in variable: {column}, replacing with 0\")\n",
      "/home/martin/mambaforge/envs/stable/lib/python3.12/site-packages/tobler/util/util.py:53: UserWarning: nan values in variable: sicCAR, replacing with 0\n",
      "  warn(f\"nan values in variable: {column}, replacing with 0\")\n",
      "/home/martin/mambaforge/envs/stable/lib/python3.12/site-packages/tobler/util/util.py:53: UserWarning: nan values in variable: stbCeA, replacing with 0\n",
      "  warn(f\"nan values in variable: {column}, replacing with 0\")\n",
      "/home/martin/mambaforge/envs/stable/lib/python3.12/site-packages/tobler/util/util.py:53: UserWarning: nan values in variable: mtbAli, replacing with 0\n",
      "  warn(f\"nan values in variable: {column}, replacing with 0\")\n",
      "/home/martin/mambaforge/envs/stable/lib/python3.12/site-packages/tobler/util/util.py:53: UserWarning: nan values in variable: mtbNDi, replacing with 0\n",
      "  warn(f\"nan values in variable: {column}, replacing with 0\")\n",
      "/home/martin/mambaforge/envs/stable/lib/python3.12/site-packages/tobler/util/util.py:53: UserWarning: nan values in variable: ltbIBD, replacing with 0\n",
      "  warn(f\"nan values in variable: {column}, replacing with 0\")\n",
      "/home/martin/mambaforge/envs/stable/lib/python3.12/site-packages/tobler/util/util.py:53: UserWarning: nan values in variable: stbSAl, replacing with 0\n",
      "  warn(f\"nan values in variable: {column}, replacing with 0\")\n",
      "/home/martin/mambaforge/envs/stable/lib/python3.12/site-packages/tobler/util/util.py:53: UserWarning: nan values in variable: lieWCe, replacing with 0\n",
      "  warn(f\"nan values in variable: {column}, replacing with 0\")\n"
     ]
    },
    {
     "name": "stdout",
     "output_type": "stream",
     "text": [
      "Chunk 38 done in 275.66 seconds.\n"
     ]
    },
    {
     "name": "stderr",
     "output_type": "stream",
     "text": [
      "/home/martin/mambaforge/envs/stable/lib/python3.12/site-packages/tobler/util/util.py:53: UserWarning: nan values in variable: sdbAre, replacing with 0\n",
      "  warn(f\"nan values in variable: {column}, replacing with 0\")\n",
      "/home/martin/mambaforge/envs/stable/lib/python3.12/site-packages/tobler/util/util.py:53: UserWarning: nan values in variable: sdbCoA, replacing with 0\n",
      "  warn(f\"nan values in variable: {column}, replacing with 0\")\n",
      "/home/martin/mambaforge/envs/stable/lib/python3.12/site-packages/tobler/util/util.py:53: UserWarning: nan values in variable: ssbCCo, replacing with 0\n",
      "  warn(f\"nan values in variable: {column}, replacing with 0\")\n",
      "/home/martin/mambaforge/envs/stable/lib/python3.12/site-packages/tobler/util/util.py:53: UserWarning: nan values in variable: ssbCor, replacing with 0\n",
      "  warn(f\"nan values in variable: {column}, replacing with 0\")\n",
      "/home/martin/mambaforge/envs/stable/lib/python3.12/site-packages/tobler/util/util.py:53: UserWarning: nan values in variable: ssbSqu, replacing with 0\n",
      "  warn(f\"nan values in variable: {column}, replacing with 0\")\n",
      "/home/martin/mambaforge/envs/stable/lib/python3.12/site-packages/tobler/util/util.py:53: UserWarning: nan values in variable: ssbERI, replacing with 0\n",
      "  warn(f\"nan values in variable: {column}, replacing with 0\")\n",
      "/home/martin/mambaforge/envs/stable/lib/python3.12/site-packages/tobler/util/util.py:53: UserWarning: nan values in variable: ssbCCM, replacing with 0\n",
      "  warn(f\"nan values in variable: {column}, replacing with 0\")\n",
      "/home/martin/mambaforge/envs/stable/lib/python3.12/site-packages/tobler/util/util.py:53: UserWarning: nan values in variable: ssbCCD, replacing with 0\n",
      "  warn(f\"nan values in variable: {column}, replacing with 0\")\n",
      "/home/martin/mambaforge/envs/stable/lib/python3.12/site-packages/tobler/util/util.py:53: UserWarning: nan values in variable: stbOri, replacing with 0\n",
      "  warn(f\"nan values in variable: {column}, replacing with 0\")\n",
      "/home/martin/mambaforge/envs/stable/lib/python3.12/site-packages/tobler/util/util.py:53: UserWarning: nan values in variable: sicCAR, replacing with 0\n",
      "  warn(f\"nan values in variable: {column}, replacing with 0\")\n",
      "/home/martin/mambaforge/envs/stable/lib/python3.12/site-packages/tobler/util/util.py:53: UserWarning: nan values in variable: stbCeA, replacing with 0\n",
      "  warn(f\"nan values in variable: {column}, replacing with 0\")\n",
      "/home/martin/mambaforge/envs/stable/lib/python3.12/site-packages/tobler/util/util.py:53: UserWarning: nan values in variable: mtbAli, replacing with 0\n",
      "  warn(f\"nan values in variable: {column}, replacing with 0\")\n",
      "/home/martin/mambaforge/envs/stable/lib/python3.12/site-packages/tobler/util/util.py:53: UserWarning: nan values in variable: mtbNDi, replacing with 0\n",
      "  warn(f\"nan values in variable: {column}, replacing with 0\")\n",
      "/home/martin/mambaforge/envs/stable/lib/python3.12/site-packages/tobler/util/util.py:53: UserWarning: nan values in variable: stbSAl, replacing with 0\n",
      "  warn(f\"nan values in variable: {column}, replacing with 0\")\n",
      "/home/martin/mambaforge/envs/stable/lib/python3.12/site-packages/tobler/util/util.py:53: UserWarning: nan values in variable: lieWCe, replacing with 0\n",
      "  warn(f\"nan values in variable: {column}, replacing with 0\")\n"
     ]
    },
    {
     "name": "stdout",
     "output_type": "stream",
     "text": [
      "Chunk 39 done in 220.36 seconds.\n"
     ]
    },
    {
     "name": "stderr",
     "output_type": "stream",
     "text": [
      "/home/martin/mambaforge/envs/stable/lib/python3.12/site-packages/tobler/util/util.py:53: UserWarning: nan values in variable: sdbAre, replacing with 0\n",
      "  warn(f\"nan values in variable: {column}, replacing with 0\")\n",
      "/home/martin/mambaforge/envs/stable/lib/python3.12/site-packages/tobler/util/util.py:53: UserWarning: nan values in variable: sdbCoA, replacing with 0\n",
      "  warn(f\"nan values in variable: {column}, replacing with 0\")\n",
      "/home/martin/mambaforge/envs/stable/lib/python3.12/site-packages/tobler/util/util.py:53: UserWarning: nan values in variable: ssbCCo, replacing with 0\n",
      "  warn(f\"nan values in variable: {column}, replacing with 0\")\n",
      "/home/martin/mambaforge/envs/stable/lib/python3.12/site-packages/tobler/util/util.py:53: UserWarning: nan values in variable: ssbCor, replacing with 0\n",
      "  warn(f\"nan values in variable: {column}, replacing with 0\")\n",
      "/home/martin/mambaforge/envs/stable/lib/python3.12/site-packages/tobler/util/util.py:53: UserWarning: nan values in variable: ssbSqu, replacing with 0\n",
      "  warn(f\"nan values in variable: {column}, replacing with 0\")\n",
      "/home/martin/mambaforge/envs/stable/lib/python3.12/site-packages/tobler/util/util.py:53: UserWarning: nan values in variable: ssbERI, replacing with 0\n",
      "  warn(f\"nan values in variable: {column}, replacing with 0\")\n",
      "/home/martin/mambaforge/envs/stable/lib/python3.12/site-packages/tobler/util/util.py:53: UserWarning: nan values in variable: ssbCCM, replacing with 0\n",
      "  warn(f\"nan values in variable: {column}, replacing with 0\")\n",
      "/home/martin/mambaforge/envs/stable/lib/python3.12/site-packages/tobler/util/util.py:53: UserWarning: nan values in variable: ssbCCD, replacing with 0\n",
      "  warn(f\"nan values in variable: {column}, replacing with 0\")\n",
      "/home/martin/mambaforge/envs/stable/lib/python3.12/site-packages/tobler/util/util.py:53: UserWarning: nan values in variable: stbOri, replacing with 0\n",
      "  warn(f\"nan values in variable: {column}, replacing with 0\")\n",
      "/home/martin/mambaforge/envs/stable/lib/python3.12/site-packages/tobler/util/util.py:53: UserWarning: nan values in variable: sicCAR, replacing with 0\n",
      "  warn(f\"nan values in variable: {column}, replacing with 0\")\n",
      "/home/martin/mambaforge/envs/stable/lib/python3.12/site-packages/tobler/util/util.py:53: UserWarning: nan values in variable: stbCeA, replacing with 0\n",
      "  warn(f\"nan values in variable: {column}, replacing with 0\")\n",
      "/home/martin/mambaforge/envs/stable/lib/python3.12/site-packages/tobler/util/util.py:53: UserWarning: nan values in variable: mtbAli, replacing with 0\n",
      "  warn(f\"nan values in variable: {column}, replacing with 0\")\n",
      "/home/martin/mambaforge/envs/stable/lib/python3.12/site-packages/tobler/util/util.py:53: UserWarning: nan values in variable: mtbNDi, replacing with 0\n",
      "  warn(f\"nan values in variable: {column}, replacing with 0\")\n",
      "/home/martin/mambaforge/envs/stable/lib/python3.12/site-packages/tobler/util/util.py:53: UserWarning: nan values in variable: stbSAl, replacing with 0\n",
      "  warn(f\"nan values in variable: {column}, replacing with 0\")\n",
      "/home/martin/mambaforge/envs/stable/lib/python3.12/site-packages/tobler/util/util.py:53: UserWarning: nan values in variable: lieWCe, replacing with 0\n",
      "  warn(f\"nan values in variable: {column}, replacing with 0\")\n"
     ]
    },
    {
     "name": "stdout",
     "output_type": "stream",
     "text": [
      "Chunk 40 done in 270.56 seconds.\n"
     ]
    },
    {
     "name": "stderr",
     "output_type": "stream",
     "text": [
      "/home/martin/mambaforge/envs/stable/lib/python3.12/site-packages/tobler/util/util.py:53: UserWarning: nan values in variable: sdbAre, replacing with 0\n",
      "  warn(f\"nan values in variable: {column}, replacing with 0\")\n",
      "/home/martin/mambaforge/envs/stable/lib/python3.12/site-packages/tobler/util/util.py:53: UserWarning: nan values in variable: sdbCoA, replacing with 0\n",
      "  warn(f\"nan values in variable: {column}, replacing with 0\")\n",
      "/home/martin/mambaforge/envs/stable/lib/python3.12/site-packages/tobler/util/util.py:53: UserWarning: nan values in variable: ssbCCo, replacing with 0\n",
      "  warn(f\"nan values in variable: {column}, replacing with 0\")\n",
      "/home/martin/mambaforge/envs/stable/lib/python3.12/site-packages/tobler/util/util.py:53: UserWarning: nan values in variable: ssbCor, replacing with 0\n",
      "  warn(f\"nan values in variable: {column}, replacing with 0\")\n",
      "/home/martin/mambaforge/envs/stable/lib/python3.12/site-packages/tobler/util/util.py:53: UserWarning: nan values in variable: ssbSqu, replacing with 0\n",
      "  warn(f\"nan values in variable: {column}, replacing with 0\")\n",
      "/home/martin/mambaforge/envs/stable/lib/python3.12/site-packages/tobler/util/util.py:53: UserWarning: nan values in variable: ssbERI, replacing with 0\n",
      "  warn(f\"nan values in variable: {column}, replacing with 0\")\n",
      "/home/martin/mambaforge/envs/stable/lib/python3.12/site-packages/tobler/util/util.py:53: UserWarning: nan values in variable: ssbCCM, replacing with 0\n",
      "  warn(f\"nan values in variable: {column}, replacing with 0\")\n",
      "/home/martin/mambaforge/envs/stable/lib/python3.12/site-packages/tobler/util/util.py:53: UserWarning: nan values in variable: ssbCCD, replacing with 0\n",
      "  warn(f\"nan values in variable: {column}, replacing with 0\")\n",
      "/home/martin/mambaforge/envs/stable/lib/python3.12/site-packages/tobler/util/util.py:53: UserWarning: nan values in variable: stbOri, replacing with 0\n",
      "  warn(f\"nan values in variable: {column}, replacing with 0\")\n",
      "/home/martin/mambaforge/envs/stable/lib/python3.12/site-packages/tobler/util/util.py:53: UserWarning: nan values in variable: sicCAR, replacing with 0\n",
      "  warn(f\"nan values in variable: {column}, replacing with 0\")\n",
      "/home/martin/mambaforge/envs/stable/lib/python3.12/site-packages/tobler/util/util.py:53: UserWarning: nan values in variable: stbCeA, replacing with 0\n",
      "  warn(f\"nan values in variable: {column}, replacing with 0\")\n",
      "/home/martin/mambaforge/envs/stable/lib/python3.12/site-packages/tobler/util/util.py:53: UserWarning: nan values in variable: mtbAli, replacing with 0\n",
      "  warn(f\"nan values in variable: {column}, replacing with 0\")\n",
      "/home/martin/mambaforge/envs/stable/lib/python3.12/site-packages/tobler/util/util.py:53: UserWarning: nan values in variable: mtbNDi, replacing with 0\n",
      "  warn(f\"nan values in variable: {column}, replacing with 0\")\n",
      "/home/martin/mambaforge/envs/stable/lib/python3.12/site-packages/tobler/util/util.py:53: UserWarning: nan values in variable: stbSAl, replacing with 0\n",
      "  warn(f\"nan values in variable: {column}, replacing with 0\")\n",
      "/home/martin/mambaforge/envs/stable/lib/python3.12/site-packages/tobler/util/util.py:53: UserWarning: nan values in variable: lieWCe, replacing with 0\n",
      "  warn(f\"nan values in variable: {column}, replacing with 0\")\n"
     ]
    },
    {
     "name": "stdout",
     "output_type": "stream",
     "text": [
      "Chunk 41 done in 233.57 seconds.\n"
     ]
    },
    {
     "name": "stderr",
     "output_type": "stream",
     "text": [
      "/home/martin/mambaforge/envs/stable/lib/python3.12/site-packages/tobler/util/util.py:53: UserWarning: nan values in variable: sdbAre, replacing with 0\n",
      "  warn(f\"nan values in variable: {column}, replacing with 0\")\n",
      "/home/martin/mambaforge/envs/stable/lib/python3.12/site-packages/tobler/util/util.py:53: UserWarning: nan values in variable: sdbCoA, replacing with 0\n",
      "  warn(f\"nan values in variable: {column}, replacing with 0\")\n",
      "/home/martin/mambaforge/envs/stable/lib/python3.12/site-packages/tobler/util/util.py:53: UserWarning: nan values in variable: ssbCCo, replacing with 0\n",
      "  warn(f\"nan values in variable: {column}, replacing with 0\")\n",
      "/home/martin/mambaforge/envs/stable/lib/python3.12/site-packages/tobler/util/util.py:53: UserWarning: nan values in variable: ssbCor, replacing with 0\n",
      "  warn(f\"nan values in variable: {column}, replacing with 0\")\n",
      "/home/martin/mambaforge/envs/stable/lib/python3.12/site-packages/tobler/util/util.py:53: UserWarning: nan values in variable: ssbSqu, replacing with 0\n",
      "  warn(f\"nan values in variable: {column}, replacing with 0\")\n",
      "/home/martin/mambaforge/envs/stable/lib/python3.12/site-packages/tobler/util/util.py:53: UserWarning: nan values in variable: ssbERI, replacing with 0\n",
      "  warn(f\"nan values in variable: {column}, replacing with 0\")\n",
      "/home/martin/mambaforge/envs/stable/lib/python3.12/site-packages/tobler/util/util.py:53: UserWarning: nan values in variable: ssbCCM, replacing with 0\n",
      "  warn(f\"nan values in variable: {column}, replacing with 0\")\n",
      "/home/martin/mambaforge/envs/stable/lib/python3.12/site-packages/tobler/util/util.py:53: UserWarning: nan values in variable: ssbCCD, replacing with 0\n",
      "  warn(f\"nan values in variable: {column}, replacing with 0\")\n",
      "/home/martin/mambaforge/envs/stable/lib/python3.12/site-packages/tobler/util/util.py:53: UserWarning: nan values in variable: stbOri, replacing with 0\n",
      "  warn(f\"nan values in variable: {column}, replacing with 0\")\n",
      "/home/martin/mambaforge/envs/stable/lib/python3.12/site-packages/tobler/util/util.py:53: UserWarning: nan values in variable: sicCAR, replacing with 0\n",
      "  warn(f\"nan values in variable: {column}, replacing with 0\")\n",
      "/home/martin/mambaforge/envs/stable/lib/python3.12/site-packages/tobler/util/util.py:53: UserWarning: nan values in variable: stbCeA, replacing with 0\n",
      "  warn(f\"nan values in variable: {column}, replacing with 0\")\n",
      "/home/martin/mambaforge/envs/stable/lib/python3.12/site-packages/tobler/util/util.py:53: UserWarning: nan values in variable: mtbAli, replacing with 0\n",
      "  warn(f\"nan values in variable: {column}, replacing with 0\")\n",
      "/home/martin/mambaforge/envs/stable/lib/python3.12/site-packages/tobler/util/util.py:53: UserWarning: nan values in variable: mtbNDi, replacing with 0\n",
      "  warn(f\"nan values in variable: {column}, replacing with 0\")\n",
      "/home/martin/mambaforge/envs/stable/lib/python3.12/site-packages/tobler/util/util.py:53: UserWarning: nan values in variable: stbSAl, replacing with 0\n",
      "  warn(f\"nan values in variable: {column}, replacing with 0\")\n",
      "/home/martin/mambaforge/envs/stable/lib/python3.12/site-packages/tobler/util/util.py:53: UserWarning: nan values in variable: lieWCe, replacing with 0\n",
      "  warn(f\"nan values in variable: {column}, replacing with 0\")\n"
     ]
    },
    {
     "name": "stdout",
     "output_type": "stream",
     "text": [
      "Chunk 42 done in 169.78 seconds.\n"
     ]
    },
    {
     "name": "stderr",
     "output_type": "stream",
     "text": [
      "/home/martin/mambaforge/envs/stable/lib/python3.12/site-packages/tobler/util/util.py:53: UserWarning: nan values in variable: sdbAre, replacing with 0\n",
      "  warn(f\"nan values in variable: {column}, replacing with 0\")\n",
      "/home/martin/mambaforge/envs/stable/lib/python3.12/site-packages/tobler/util/util.py:53: UserWarning: nan values in variable: sdbCoA, replacing with 0\n",
      "  warn(f\"nan values in variable: {column}, replacing with 0\")\n",
      "/home/martin/mambaforge/envs/stable/lib/python3.12/site-packages/tobler/util/util.py:53: UserWarning: nan values in variable: ssbCCo, replacing with 0\n",
      "  warn(f\"nan values in variable: {column}, replacing with 0\")\n",
      "/home/martin/mambaforge/envs/stable/lib/python3.12/site-packages/tobler/util/util.py:53: UserWarning: nan values in variable: ssbCor, replacing with 0\n",
      "  warn(f\"nan values in variable: {column}, replacing with 0\")\n",
      "/home/martin/mambaforge/envs/stable/lib/python3.12/site-packages/tobler/util/util.py:53: UserWarning: nan values in variable: ssbSqu, replacing with 0\n",
      "  warn(f\"nan values in variable: {column}, replacing with 0\")\n",
      "/home/martin/mambaforge/envs/stable/lib/python3.12/site-packages/tobler/util/util.py:53: UserWarning: nan values in variable: ssbERI, replacing with 0\n",
      "  warn(f\"nan values in variable: {column}, replacing with 0\")\n",
      "/home/martin/mambaforge/envs/stable/lib/python3.12/site-packages/tobler/util/util.py:53: UserWarning: nan values in variable: ssbCCM, replacing with 0\n",
      "  warn(f\"nan values in variable: {column}, replacing with 0\")\n",
      "/home/martin/mambaforge/envs/stable/lib/python3.12/site-packages/tobler/util/util.py:53: UserWarning: nan values in variable: ssbCCD, replacing with 0\n",
      "  warn(f\"nan values in variable: {column}, replacing with 0\")\n",
      "/home/martin/mambaforge/envs/stable/lib/python3.12/site-packages/tobler/util/util.py:53: UserWarning: nan values in variable: stbOri, replacing with 0\n",
      "  warn(f\"nan values in variable: {column}, replacing with 0\")\n",
      "/home/martin/mambaforge/envs/stable/lib/python3.12/site-packages/tobler/util/util.py:53: UserWarning: nan values in variable: sicCAR, replacing with 0\n",
      "  warn(f\"nan values in variable: {column}, replacing with 0\")\n",
      "/home/martin/mambaforge/envs/stable/lib/python3.12/site-packages/tobler/util/util.py:53: UserWarning: nan values in variable: stbCeA, replacing with 0\n",
      "  warn(f\"nan values in variable: {column}, replacing with 0\")\n",
      "/home/martin/mambaforge/envs/stable/lib/python3.12/site-packages/tobler/util/util.py:53: UserWarning: nan values in variable: mtbAli, replacing with 0\n",
      "  warn(f\"nan values in variable: {column}, replacing with 0\")\n",
      "/home/martin/mambaforge/envs/stable/lib/python3.12/site-packages/tobler/util/util.py:53: UserWarning: nan values in variable: mtbNDi, replacing with 0\n",
      "  warn(f\"nan values in variable: {column}, replacing with 0\")\n",
      "/home/martin/mambaforge/envs/stable/lib/python3.12/site-packages/tobler/util/util.py:53: UserWarning: nan values in variable: stbSAl, replacing with 0\n",
      "  warn(f\"nan values in variable: {column}, replacing with 0\")\n"
     ]
    },
    {
     "name": "stdout",
     "output_type": "stream",
     "text": [
      "Chunk 43 done in 151.60 seconds.\n"
     ]
    },
    {
     "name": "stderr",
     "output_type": "stream",
     "text": [
      "/home/martin/mambaforge/envs/stable/lib/python3.12/site-packages/tobler/util/util.py:53: UserWarning: nan values in variable: sdbAre, replacing with 0\n",
      "  warn(f\"nan values in variable: {column}, replacing with 0\")\n",
      "/home/martin/mambaforge/envs/stable/lib/python3.12/site-packages/tobler/util/util.py:53: UserWarning: nan values in variable: sdbCoA, replacing with 0\n",
      "  warn(f\"nan values in variable: {column}, replacing with 0\")\n",
      "/home/martin/mambaforge/envs/stable/lib/python3.12/site-packages/tobler/util/util.py:53: UserWarning: nan values in variable: ssbCCo, replacing with 0\n",
      "  warn(f\"nan values in variable: {column}, replacing with 0\")\n",
      "/home/martin/mambaforge/envs/stable/lib/python3.12/site-packages/tobler/util/util.py:53: UserWarning: nan values in variable: ssbCor, replacing with 0\n",
      "  warn(f\"nan values in variable: {column}, replacing with 0\")\n",
      "/home/martin/mambaforge/envs/stable/lib/python3.12/site-packages/tobler/util/util.py:53: UserWarning: nan values in variable: ssbSqu, replacing with 0\n",
      "  warn(f\"nan values in variable: {column}, replacing with 0\")\n",
      "/home/martin/mambaforge/envs/stable/lib/python3.12/site-packages/tobler/util/util.py:53: UserWarning: nan values in variable: ssbERI, replacing with 0\n",
      "  warn(f\"nan values in variable: {column}, replacing with 0\")\n",
      "/home/martin/mambaforge/envs/stable/lib/python3.12/site-packages/tobler/util/util.py:53: UserWarning: nan values in variable: ssbCCM, replacing with 0\n",
      "  warn(f\"nan values in variable: {column}, replacing with 0\")\n",
      "/home/martin/mambaforge/envs/stable/lib/python3.12/site-packages/tobler/util/util.py:53: UserWarning: nan values in variable: ssbCCD, replacing with 0\n",
      "  warn(f\"nan values in variable: {column}, replacing with 0\")\n",
      "/home/martin/mambaforge/envs/stable/lib/python3.12/site-packages/tobler/util/util.py:53: UserWarning: nan values in variable: stbOri, replacing with 0\n",
      "  warn(f\"nan values in variable: {column}, replacing with 0\")\n",
      "/home/martin/mambaforge/envs/stable/lib/python3.12/site-packages/tobler/util/util.py:53: UserWarning: nan values in variable: sicCAR, replacing with 0\n",
      "  warn(f\"nan values in variable: {column}, replacing with 0\")\n",
      "/home/martin/mambaforge/envs/stable/lib/python3.12/site-packages/tobler/util/util.py:53: UserWarning: nan values in variable: stbCeA, replacing with 0\n",
      "  warn(f\"nan values in variable: {column}, replacing with 0\")\n",
      "/home/martin/mambaforge/envs/stable/lib/python3.12/site-packages/tobler/util/util.py:53: UserWarning: nan values in variable: mtbAli, replacing with 0\n",
      "  warn(f\"nan values in variable: {column}, replacing with 0\")\n",
      "/home/martin/mambaforge/envs/stable/lib/python3.12/site-packages/tobler/util/util.py:53: UserWarning: nan values in variable: mtbNDi, replacing with 0\n",
      "  warn(f\"nan values in variable: {column}, replacing with 0\")\n",
      "/home/martin/mambaforge/envs/stable/lib/python3.12/site-packages/tobler/util/util.py:53: UserWarning: nan values in variable: stbSAl, replacing with 0\n",
      "  warn(f\"nan values in variable: {column}, replacing with 0\")\n",
      "/home/martin/mambaforge/envs/stable/lib/python3.12/site-packages/tobler/util/util.py:53: UserWarning: nan values in variable: lieWCe, replacing with 0\n",
      "  warn(f\"nan values in variable: {column}, replacing with 0\")\n"
     ]
    },
    {
     "name": "stdout",
     "output_type": "stream",
     "text": [
      "Chunk 44 done in 243.07 seconds.\n"
     ]
    },
    {
     "name": "stderr",
     "output_type": "stream",
     "text": [
      "/home/martin/mambaforge/envs/stable/lib/python3.12/site-packages/tobler/util/util.py:53: UserWarning: nan values in variable: sdbAre, replacing with 0\n",
      "  warn(f\"nan values in variable: {column}, replacing with 0\")\n",
      "/home/martin/mambaforge/envs/stable/lib/python3.12/site-packages/tobler/util/util.py:53: UserWarning: nan values in variable: sdbCoA, replacing with 0\n",
      "  warn(f\"nan values in variable: {column}, replacing with 0\")\n",
      "/home/martin/mambaforge/envs/stable/lib/python3.12/site-packages/tobler/util/util.py:53: UserWarning: nan values in variable: ssbCCo, replacing with 0\n",
      "  warn(f\"nan values in variable: {column}, replacing with 0\")\n",
      "/home/martin/mambaforge/envs/stable/lib/python3.12/site-packages/tobler/util/util.py:53: UserWarning: nan values in variable: ssbCor, replacing with 0\n",
      "  warn(f\"nan values in variable: {column}, replacing with 0\")\n",
      "/home/martin/mambaforge/envs/stable/lib/python3.12/site-packages/tobler/util/util.py:53: UserWarning: nan values in variable: ssbSqu, replacing with 0\n",
      "  warn(f\"nan values in variable: {column}, replacing with 0\")\n",
      "/home/martin/mambaforge/envs/stable/lib/python3.12/site-packages/tobler/util/util.py:53: UserWarning: nan values in variable: ssbERI, replacing with 0\n",
      "  warn(f\"nan values in variable: {column}, replacing with 0\")\n",
      "/home/martin/mambaforge/envs/stable/lib/python3.12/site-packages/tobler/util/util.py:53: UserWarning: nan values in variable: ssbCCM, replacing with 0\n",
      "  warn(f\"nan values in variable: {column}, replacing with 0\")\n",
      "/home/martin/mambaforge/envs/stable/lib/python3.12/site-packages/tobler/util/util.py:53: UserWarning: nan values in variable: ssbCCD, replacing with 0\n",
      "  warn(f\"nan values in variable: {column}, replacing with 0\")\n",
      "/home/martin/mambaforge/envs/stable/lib/python3.12/site-packages/tobler/util/util.py:53: UserWarning: nan values in variable: stbOri, replacing with 0\n",
      "  warn(f\"nan values in variable: {column}, replacing with 0\")\n",
      "/home/martin/mambaforge/envs/stable/lib/python3.12/site-packages/tobler/util/util.py:53: UserWarning: nan values in variable: sicCAR, replacing with 0\n",
      "  warn(f\"nan values in variable: {column}, replacing with 0\")\n",
      "/home/martin/mambaforge/envs/stable/lib/python3.12/site-packages/tobler/util/util.py:53: UserWarning: nan values in variable: stbCeA, replacing with 0\n",
      "  warn(f\"nan values in variable: {column}, replacing with 0\")\n",
      "/home/martin/mambaforge/envs/stable/lib/python3.12/site-packages/tobler/util/util.py:53: UserWarning: nan values in variable: mtbAli, replacing with 0\n",
      "  warn(f\"nan values in variable: {column}, replacing with 0\")\n",
      "/home/martin/mambaforge/envs/stable/lib/python3.12/site-packages/tobler/util/util.py:53: UserWarning: nan values in variable: mtbNDi, replacing with 0\n",
      "  warn(f\"nan values in variable: {column}, replacing with 0\")\n",
      "/home/martin/mambaforge/envs/stable/lib/python3.12/site-packages/tobler/util/util.py:53: UserWarning: nan values in variable: ltbIBD, replacing with 0\n",
      "  warn(f\"nan values in variable: {column}, replacing with 0\")\n",
      "/home/martin/mambaforge/envs/stable/lib/python3.12/site-packages/tobler/util/util.py:53: UserWarning: nan values in variable: stbSAl, replacing with 0\n",
      "  warn(f\"nan values in variable: {column}, replacing with 0\")\n"
     ]
    },
    {
     "name": "stdout",
     "output_type": "stream",
     "text": [
      "Chunk 45 done in 268.78 seconds.\n"
     ]
    },
    {
     "name": "stderr",
     "output_type": "stream",
     "text": [
      "/home/martin/mambaforge/envs/stable/lib/python3.12/site-packages/tobler/util/util.py:53: UserWarning: nan values in variable: sdbAre, replacing with 0\n",
      "  warn(f\"nan values in variable: {column}, replacing with 0\")\n",
      "/home/martin/mambaforge/envs/stable/lib/python3.12/site-packages/tobler/util/util.py:53: UserWarning: nan values in variable: sdbCoA, replacing with 0\n",
      "  warn(f\"nan values in variable: {column}, replacing with 0\")\n",
      "/home/martin/mambaforge/envs/stable/lib/python3.12/site-packages/tobler/util/util.py:53: UserWarning: nan values in variable: ssbCCo, replacing with 0\n",
      "  warn(f\"nan values in variable: {column}, replacing with 0\")\n",
      "/home/martin/mambaforge/envs/stable/lib/python3.12/site-packages/tobler/util/util.py:53: UserWarning: nan values in variable: ssbCor, replacing with 0\n",
      "  warn(f\"nan values in variable: {column}, replacing with 0\")\n",
      "/home/martin/mambaforge/envs/stable/lib/python3.12/site-packages/tobler/util/util.py:53: UserWarning: nan values in variable: ssbSqu, replacing with 0\n",
      "  warn(f\"nan values in variable: {column}, replacing with 0\")\n",
      "/home/martin/mambaforge/envs/stable/lib/python3.12/site-packages/tobler/util/util.py:53: UserWarning: nan values in variable: ssbERI, replacing with 0\n",
      "  warn(f\"nan values in variable: {column}, replacing with 0\")\n",
      "/home/martin/mambaforge/envs/stable/lib/python3.12/site-packages/tobler/util/util.py:53: UserWarning: nan values in variable: ssbCCM, replacing with 0\n",
      "  warn(f\"nan values in variable: {column}, replacing with 0\")\n",
      "/home/martin/mambaforge/envs/stable/lib/python3.12/site-packages/tobler/util/util.py:53: UserWarning: nan values in variable: ssbCCD, replacing with 0\n",
      "  warn(f\"nan values in variable: {column}, replacing with 0\")\n",
      "/home/martin/mambaforge/envs/stable/lib/python3.12/site-packages/tobler/util/util.py:53: UserWarning: nan values in variable: stbOri, replacing with 0\n",
      "  warn(f\"nan values in variable: {column}, replacing with 0\")\n",
      "/home/martin/mambaforge/envs/stable/lib/python3.12/site-packages/tobler/util/util.py:53: UserWarning: nan values in variable: sicCAR, replacing with 0\n",
      "  warn(f\"nan values in variable: {column}, replacing with 0\")\n",
      "/home/martin/mambaforge/envs/stable/lib/python3.12/site-packages/tobler/util/util.py:53: UserWarning: nan values in variable: stbCeA, replacing with 0\n",
      "  warn(f\"nan values in variable: {column}, replacing with 0\")\n",
      "/home/martin/mambaforge/envs/stable/lib/python3.12/site-packages/tobler/util/util.py:53: UserWarning: nan values in variable: mtbAli, replacing with 0\n",
      "  warn(f\"nan values in variable: {column}, replacing with 0\")\n",
      "/home/martin/mambaforge/envs/stable/lib/python3.12/site-packages/tobler/util/util.py:53: UserWarning: nan values in variable: mtbNDi, replacing with 0\n",
      "  warn(f\"nan values in variable: {column}, replacing with 0\")\n",
      "/home/martin/mambaforge/envs/stable/lib/python3.12/site-packages/tobler/util/util.py:53: UserWarning: nan values in variable: ltbIBD, replacing with 0\n",
      "  warn(f\"nan values in variable: {column}, replacing with 0\")\n",
      "/home/martin/mambaforge/envs/stable/lib/python3.12/site-packages/tobler/util/util.py:53: UserWarning: nan values in variable: stbSAl, replacing with 0\n",
      "  warn(f\"nan values in variable: {column}, replacing with 0\")\n",
      "/home/martin/mambaforge/envs/stable/lib/python3.12/site-packages/tobler/util/util.py:53: UserWarning: nan values in variable: lieWCe, replacing with 0\n",
      "  warn(f\"nan values in variable: {column}, replacing with 0\")\n"
     ]
    },
    {
     "name": "stdout",
     "output_type": "stream",
     "text": [
      "Chunk 46 done in 99.04 seconds.\n"
     ]
    },
    {
     "name": "stderr",
     "output_type": "stream",
     "text": [
      "/home/martin/mambaforge/envs/stable/lib/python3.12/site-packages/tobler/util/util.py:53: UserWarning: nan values in variable: sdbAre, replacing with 0\n",
      "  warn(f\"nan values in variable: {column}, replacing with 0\")\n",
      "/home/martin/mambaforge/envs/stable/lib/python3.12/site-packages/tobler/util/util.py:53: UserWarning: nan values in variable: sdbCoA, replacing with 0\n",
      "  warn(f\"nan values in variable: {column}, replacing with 0\")\n",
      "/home/martin/mambaforge/envs/stable/lib/python3.12/site-packages/tobler/util/util.py:53: UserWarning: nan values in variable: ssbCCo, replacing with 0\n",
      "  warn(f\"nan values in variable: {column}, replacing with 0\")\n",
      "/home/martin/mambaforge/envs/stable/lib/python3.12/site-packages/tobler/util/util.py:53: UserWarning: nan values in variable: ssbCor, replacing with 0\n",
      "  warn(f\"nan values in variable: {column}, replacing with 0\")\n",
      "/home/martin/mambaforge/envs/stable/lib/python3.12/site-packages/tobler/util/util.py:53: UserWarning: nan values in variable: ssbSqu, replacing with 0\n",
      "  warn(f\"nan values in variable: {column}, replacing with 0\")\n",
      "/home/martin/mambaforge/envs/stable/lib/python3.12/site-packages/tobler/util/util.py:53: UserWarning: nan values in variable: ssbERI, replacing with 0\n",
      "  warn(f\"nan values in variable: {column}, replacing with 0\")\n",
      "/home/martin/mambaforge/envs/stable/lib/python3.12/site-packages/tobler/util/util.py:53: UserWarning: nan values in variable: ssbCCM, replacing with 0\n",
      "  warn(f\"nan values in variable: {column}, replacing with 0\")\n",
      "/home/martin/mambaforge/envs/stable/lib/python3.12/site-packages/tobler/util/util.py:53: UserWarning: nan values in variable: ssbCCD, replacing with 0\n",
      "  warn(f\"nan values in variable: {column}, replacing with 0\")\n",
      "/home/martin/mambaforge/envs/stable/lib/python3.12/site-packages/tobler/util/util.py:53: UserWarning: nan values in variable: stbOri, replacing with 0\n",
      "  warn(f\"nan values in variable: {column}, replacing with 0\")\n",
      "/home/martin/mambaforge/envs/stable/lib/python3.12/site-packages/tobler/util/util.py:53: UserWarning: nan values in variable: sicCAR, replacing with 0\n",
      "  warn(f\"nan values in variable: {column}, replacing with 0\")\n",
      "/home/martin/mambaforge/envs/stable/lib/python3.12/site-packages/tobler/util/util.py:53: UserWarning: nan values in variable: stbCeA, replacing with 0\n",
      "  warn(f\"nan values in variable: {column}, replacing with 0\")\n",
      "/home/martin/mambaforge/envs/stable/lib/python3.12/site-packages/tobler/util/util.py:53: UserWarning: nan values in variable: mtbAli, replacing with 0\n",
      "  warn(f\"nan values in variable: {column}, replacing with 0\")\n",
      "/home/martin/mambaforge/envs/stable/lib/python3.12/site-packages/tobler/util/util.py:53: UserWarning: nan values in variable: mtbNDi, replacing with 0\n",
      "  warn(f\"nan values in variable: {column}, replacing with 0\")\n",
      "/home/martin/mambaforge/envs/stable/lib/python3.12/site-packages/tobler/util/util.py:53: UserWarning: nan values in variable: ltbIBD, replacing with 0\n",
      "  warn(f\"nan values in variable: {column}, replacing with 0\")\n",
      "/home/martin/mambaforge/envs/stable/lib/python3.12/site-packages/tobler/util/util.py:53: UserWarning: nan values in variable: stbSAl, replacing with 0\n",
      "  warn(f\"nan values in variable: {column}, replacing with 0\")\n",
      "/home/martin/mambaforge/envs/stable/lib/python3.12/site-packages/tobler/util/util.py:53: UserWarning: nan values in variable: lieWCe, replacing with 0\n",
      "  warn(f\"nan values in variable: {column}, replacing with 0\")\n"
     ]
    },
    {
     "name": "stdout",
     "output_type": "stream",
     "text": [
      "Chunk 47 done in 148.07 seconds.\n"
     ]
    },
    {
     "name": "stderr",
     "output_type": "stream",
     "text": [
      "/home/martin/mambaforge/envs/stable/lib/python3.12/site-packages/tobler/util/util.py:53: UserWarning: nan values in variable: sdbAre, replacing with 0\n",
      "  warn(f\"nan values in variable: {column}, replacing with 0\")\n",
      "/home/martin/mambaforge/envs/stable/lib/python3.12/site-packages/tobler/util/util.py:53: UserWarning: nan values in variable: sdbCoA, replacing with 0\n",
      "  warn(f\"nan values in variable: {column}, replacing with 0\")\n",
      "/home/martin/mambaforge/envs/stable/lib/python3.12/site-packages/tobler/util/util.py:53: UserWarning: nan values in variable: ssbCCo, replacing with 0\n",
      "  warn(f\"nan values in variable: {column}, replacing with 0\")\n",
      "/home/martin/mambaforge/envs/stable/lib/python3.12/site-packages/tobler/util/util.py:53: UserWarning: nan values in variable: ssbCor, replacing with 0\n",
      "  warn(f\"nan values in variable: {column}, replacing with 0\")\n",
      "/home/martin/mambaforge/envs/stable/lib/python3.12/site-packages/tobler/util/util.py:53: UserWarning: nan values in variable: ssbSqu, replacing with 0\n",
      "  warn(f\"nan values in variable: {column}, replacing with 0\")\n",
      "/home/martin/mambaforge/envs/stable/lib/python3.12/site-packages/tobler/util/util.py:53: UserWarning: nan values in variable: ssbERI, replacing with 0\n",
      "  warn(f\"nan values in variable: {column}, replacing with 0\")\n",
      "/home/martin/mambaforge/envs/stable/lib/python3.12/site-packages/tobler/util/util.py:53: UserWarning: nan values in variable: ssbCCM, replacing with 0\n",
      "  warn(f\"nan values in variable: {column}, replacing with 0\")\n",
      "/home/martin/mambaforge/envs/stable/lib/python3.12/site-packages/tobler/util/util.py:53: UserWarning: nan values in variable: ssbCCD, replacing with 0\n",
      "  warn(f\"nan values in variable: {column}, replacing with 0\")\n",
      "/home/martin/mambaforge/envs/stable/lib/python3.12/site-packages/tobler/util/util.py:53: UserWarning: nan values in variable: stbOri, replacing with 0\n",
      "  warn(f\"nan values in variable: {column}, replacing with 0\")\n",
      "/home/martin/mambaforge/envs/stable/lib/python3.12/site-packages/tobler/util/util.py:53: UserWarning: nan values in variable: sicCAR, replacing with 0\n",
      "  warn(f\"nan values in variable: {column}, replacing with 0\")\n",
      "/home/martin/mambaforge/envs/stable/lib/python3.12/site-packages/tobler/util/util.py:53: UserWarning: nan values in variable: stbCeA, replacing with 0\n",
      "  warn(f\"nan values in variable: {column}, replacing with 0\")\n",
      "/home/martin/mambaforge/envs/stable/lib/python3.12/site-packages/tobler/util/util.py:53: UserWarning: nan values in variable: mtbAli, replacing with 0\n",
      "  warn(f\"nan values in variable: {column}, replacing with 0\")\n",
      "/home/martin/mambaforge/envs/stable/lib/python3.12/site-packages/tobler/util/util.py:53: UserWarning: nan values in variable: mtbNDi, replacing with 0\n",
      "  warn(f\"nan values in variable: {column}, replacing with 0\")\n",
      "/home/martin/mambaforge/envs/stable/lib/python3.12/site-packages/tobler/util/util.py:53: UserWarning: nan values in variable: ltbIBD, replacing with 0\n",
      "  warn(f\"nan values in variable: {column}, replacing with 0\")\n",
      "/home/martin/mambaforge/envs/stable/lib/python3.12/site-packages/tobler/util/util.py:53: UserWarning: nan values in variable: stbSAl, replacing with 0\n",
      "  warn(f\"nan values in variable: {column}, replacing with 0\")\n",
      "/home/martin/mambaforge/envs/stable/lib/python3.12/site-packages/tobler/util/util.py:53: UserWarning: nan values in variable: lieWCe, replacing with 0\n",
      "  warn(f\"nan values in variable: {column}, replacing with 0\")\n"
     ]
    },
    {
     "name": "stdout",
     "output_type": "stream",
     "text": [
      "Chunk 48 done in 149.53 seconds.\n"
     ]
    },
    {
     "name": "stderr",
     "output_type": "stream",
     "text": [
      "/home/martin/mambaforge/envs/stable/lib/python3.12/site-packages/tobler/util/util.py:53: UserWarning: nan values in variable: sdbAre, replacing with 0\n",
      "  warn(f\"nan values in variable: {column}, replacing with 0\")\n",
      "/home/martin/mambaforge/envs/stable/lib/python3.12/site-packages/tobler/util/util.py:53: UserWarning: nan values in variable: sdbCoA, replacing with 0\n",
      "  warn(f\"nan values in variable: {column}, replacing with 0\")\n",
      "/home/martin/mambaforge/envs/stable/lib/python3.12/site-packages/tobler/util/util.py:53: UserWarning: nan values in variable: ssbCCo, replacing with 0\n",
      "  warn(f\"nan values in variable: {column}, replacing with 0\")\n",
      "/home/martin/mambaforge/envs/stable/lib/python3.12/site-packages/tobler/util/util.py:53: UserWarning: nan values in variable: ssbCor, replacing with 0\n",
      "  warn(f\"nan values in variable: {column}, replacing with 0\")\n",
      "/home/martin/mambaforge/envs/stable/lib/python3.12/site-packages/tobler/util/util.py:53: UserWarning: nan values in variable: ssbSqu, replacing with 0\n",
      "  warn(f\"nan values in variable: {column}, replacing with 0\")\n",
      "/home/martin/mambaforge/envs/stable/lib/python3.12/site-packages/tobler/util/util.py:53: UserWarning: nan values in variable: ssbERI, replacing with 0\n",
      "  warn(f\"nan values in variable: {column}, replacing with 0\")\n",
      "/home/martin/mambaforge/envs/stable/lib/python3.12/site-packages/tobler/util/util.py:53: UserWarning: nan values in variable: ssbCCM, replacing with 0\n",
      "  warn(f\"nan values in variable: {column}, replacing with 0\")\n",
      "/home/martin/mambaforge/envs/stable/lib/python3.12/site-packages/tobler/util/util.py:53: UserWarning: nan values in variable: ssbCCD, replacing with 0\n",
      "  warn(f\"nan values in variable: {column}, replacing with 0\")\n",
      "/home/martin/mambaforge/envs/stable/lib/python3.12/site-packages/tobler/util/util.py:53: UserWarning: nan values in variable: stbOri, replacing with 0\n",
      "  warn(f\"nan values in variable: {column}, replacing with 0\")\n",
      "/home/martin/mambaforge/envs/stable/lib/python3.12/site-packages/tobler/util/util.py:53: UserWarning: nan values in variable: sicCAR, replacing with 0\n",
      "  warn(f\"nan values in variable: {column}, replacing with 0\")\n",
      "/home/martin/mambaforge/envs/stable/lib/python3.12/site-packages/tobler/util/util.py:53: UserWarning: nan values in variable: stbCeA, replacing with 0\n",
      "  warn(f\"nan values in variable: {column}, replacing with 0\")\n",
      "/home/martin/mambaforge/envs/stable/lib/python3.12/site-packages/tobler/util/util.py:53: UserWarning: nan values in variable: mtbAli, replacing with 0\n",
      "  warn(f\"nan values in variable: {column}, replacing with 0\")\n",
      "/home/martin/mambaforge/envs/stable/lib/python3.12/site-packages/tobler/util/util.py:53: UserWarning: nan values in variable: mtbNDi, replacing with 0\n",
      "  warn(f\"nan values in variable: {column}, replacing with 0\")\n",
      "/home/martin/mambaforge/envs/stable/lib/python3.12/site-packages/tobler/util/util.py:53: UserWarning: nan values in variable: stbSAl, replacing with 0\n",
      "  warn(f\"nan values in variable: {column}, replacing with 0\")\n",
      "/home/martin/mambaforge/envs/stable/lib/python3.12/site-packages/tobler/util/util.py:53: UserWarning: nan values in variable: lieWCe, replacing with 0\n",
      "  warn(f\"nan values in variable: {column}, replacing with 0\")\n"
     ]
    },
    {
     "name": "stdout",
     "output_type": "stream",
     "text": [
      "Chunk 49 done in 193.11 seconds.\n"
     ]
    },
    {
     "name": "stderr",
     "output_type": "stream",
     "text": [
      "/home/martin/mambaforge/envs/stable/lib/python3.12/site-packages/tobler/util/util.py:53: UserWarning: nan values in variable: sdbAre, replacing with 0\n",
      "  warn(f\"nan values in variable: {column}, replacing with 0\")\n",
      "/home/martin/mambaforge/envs/stable/lib/python3.12/site-packages/tobler/util/util.py:53: UserWarning: nan values in variable: sdbCoA, replacing with 0\n",
      "  warn(f\"nan values in variable: {column}, replacing with 0\")\n",
      "/home/martin/mambaforge/envs/stable/lib/python3.12/site-packages/tobler/util/util.py:53: UserWarning: nan values in variable: ssbCCo, replacing with 0\n",
      "  warn(f\"nan values in variable: {column}, replacing with 0\")\n",
      "/home/martin/mambaforge/envs/stable/lib/python3.12/site-packages/tobler/util/util.py:53: UserWarning: nan values in variable: ssbCor, replacing with 0\n",
      "  warn(f\"nan values in variable: {column}, replacing with 0\")\n",
      "/home/martin/mambaforge/envs/stable/lib/python3.12/site-packages/tobler/util/util.py:53: UserWarning: nan values in variable: ssbSqu, replacing with 0\n",
      "  warn(f\"nan values in variable: {column}, replacing with 0\")\n",
      "/home/martin/mambaforge/envs/stable/lib/python3.12/site-packages/tobler/util/util.py:53: UserWarning: nan values in variable: ssbERI, replacing with 0\n",
      "  warn(f\"nan values in variable: {column}, replacing with 0\")\n",
      "/home/martin/mambaforge/envs/stable/lib/python3.12/site-packages/tobler/util/util.py:53: UserWarning: nan values in variable: ssbCCM, replacing with 0\n",
      "  warn(f\"nan values in variable: {column}, replacing with 0\")\n",
      "/home/martin/mambaforge/envs/stable/lib/python3.12/site-packages/tobler/util/util.py:53: UserWarning: nan values in variable: ssbCCD, replacing with 0\n",
      "  warn(f\"nan values in variable: {column}, replacing with 0\")\n",
      "/home/martin/mambaforge/envs/stable/lib/python3.12/site-packages/tobler/util/util.py:53: UserWarning: nan values in variable: stbOri, replacing with 0\n",
      "  warn(f\"nan values in variable: {column}, replacing with 0\")\n",
      "/home/martin/mambaforge/envs/stable/lib/python3.12/site-packages/tobler/util/util.py:53: UserWarning: nan values in variable: sicCAR, replacing with 0\n",
      "  warn(f\"nan values in variable: {column}, replacing with 0\")\n",
      "/home/martin/mambaforge/envs/stable/lib/python3.12/site-packages/tobler/util/util.py:53: UserWarning: nan values in variable: stbCeA, replacing with 0\n",
      "  warn(f\"nan values in variable: {column}, replacing with 0\")\n",
      "/home/martin/mambaforge/envs/stable/lib/python3.12/site-packages/tobler/util/util.py:53: UserWarning: nan values in variable: mtbAli, replacing with 0\n",
      "  warn(f\"nan values in variable: {column}, replacing with 0\")\n",
      "/home/martin/mambaforge/envs/stable/lib/python3.12/site-packages/tobler/util/util.py:53: UserWarning: nan values in variable: mtbNDi, replacing with 0\n",
      "  warn(f\"nan values in variable: {column}, replacing with 0\")\n",
      "/home/martin/mambaforge/envs/stable/lib/python3.12/site-packages/tobler/util/util.py:53: UserWarning: nan values in variable: stbSAl, replacing with 0\n",
      "  warn(f\"nan values in variable: {column}, replacing with 0\")\n",
      "/home/martin/mambaforge/envs/stable/lib/python3.12/site-packages/tobler/util/util.py:53: UserWarning: nan values in variable: lieWCe, replacing with 0\n",
      "  warn(f\"nan values in variable: {column}, replacing with 0\")\n"
     ]
    },
    {
     "name": "stdout",
     "output_type": "stream",
     "text": [
      "Chunk 50 done in 246.15 seconds.\n"
     ]
    },
    {
     "name": "stderr",
     "output_type": "stream",
     "text": [
      "/home/martin/mambaforge/envs/stable/lib/python3.12/site-packages/tobler/util/util.py:53: UserWarning: nan values in variable: sdbAre, replacing with 0\n",
      "  warn(f\"nan values in variable: {column}, replacing with 0\")\n",
      "/home/martin/mambaforge/envs/stable/lib/python3.12/site-packages/tobler/util/util.py:53: UserWarning: nan values in variable: sdbCoA, replacing with 0\n",
      "  warn(f\"nan values in variable: {column}, replacing with 0\")\n",
      "/home/martin/mambaforge/envs/stable/lib/python3.12/site-packages/tobler/util/util.py:53: UserWarning: nan values in variable: ssbCCo, replacing with 0\n",
      "  warn(f\"nan values in variable: {column}, replacing with 0\")\n",
      "/home/martin/mambaforge/envs/stable/lib/python3.12/site-packages/tobler/util/util.py:53: UserWarning: nan values in variable: ssbCor, replacing with 0\n",
      "  warn(f\"nan values in variable: {column}, replacing with 0\")\n",
      "/home/martin/mambaforge/envs/stable/lib/python3.12/site-packages/tobler/util/util.py:53: UserWarning: nan values in variable: ssbSqu, replacing with 0\n",
      "  warn(f\"nan values in variable: {column}, replacing with 0\")\n",
      "/home/martin/mambaforge/envs/stable/lib/python3.12/site-packages/tobler/util/util.py:53: UserWarning: nan values in variable: ssbERI, replacing with 0\n",
      "  warn(f\"nan values in variable: {column}, replacing with 0\")\n",
      "/home/martin/mambaforge/envs/stable/lib/python3.12/site-packages/tobler/util/util.py:53: UserWarning: nan values in variable: ssbCCM, replacing with 0\n",
      "  warn(f\"nan values in variable: {column}, replacing with 0\")\n",
      "/home/martin/mambaforge/envs/stable/lib/python3.12/site-packages/tobler/util/util.py:53: UserWarning: nan values in variable: ssbCCD, replacing with 0\n",
      "  warn(f\"nan values in variable: {column}, replacing with 0\")\n",
      "/home/martin/mambaforge/envs/stable/lib/python3.12/site-packages/tobler/util/util.py:53: UserWarning: nan values in variable: stbOri, replacing with 0\n",
      "  warn(f\"nan values in variable: {column}, replacing with 0\")\n",
      "/home/martin/mambaforge/envs/stable/lib/python3.12/site-packages/tobler/util/util.py:53: UserWarning: nan values in variable: sicCAR, replacing with 0\n",
      "  warn(f\"nan values in variable: {column}, replacing with 0\")\n",
      "/home/martin/mambaforge/envs/stable/lib/python3.12/site-packages/tobler/util/util.py:53: UserWarning: nan values in variable: stbCeA, replacing with 0\n",
      "  warn(f\"nan values in variable: {column}, replacing with 0\")\n",
      "/home/martin/mambaforge/envs/stable/lib/python3.12/site-packages/tobler/util/util.py:53: UserWarning: nan values in variable: mtbAli, replacing with 0\n",
      "  warn(f\"nan values in variable: {column}, replacing with 0\")\n",
      "/home/martin/mambaforge/envs/stable/lib/python3.12/site-packages/tobler/util/util.py:53: UserWarning: nan values in variable: mtbNDi, replacing with 0\n",
      "  warn(f\"nan values in variable: {column}, replacing with 0\")\n",
      "/home/martin/mambaforge/envs/stable/lib/python3.12/site-packages/tobler/util/util.py:53: UserWarning: nan values in variable: stbSAl, replacing with 0\n",
      "  warn(f\"nan values in variable: {column}, replacing with 0\")\n",
      "/home/martin/mambaforge/envs/stable/lib/python3.12/site-packages/tobler/util/util.py:53: UserWarning: nan values in variable: lieWCe, replacing with 0\n",
      "  warn(f\"nan values in variable: {column}, replacing with 0\")\n"
     ]
    },
    {
     "name": "stdout",
     "output_type": "stream",
     "text": [
      "Chunk 51 done in 176.78 seconds.\n"
     ]
    },
    {
     "name": "stderr",
     "output_type": "stream",
     "text": [
      "/home/martin/mambaforge/envs/stable/lib/python3.12/site-packages/tobler/util/util.py:53: UserWarning: nan values in variable: sdbAre, replacing with 0\n",
      "  warn(f\"nan values in variable: {column}, replacing with 0\")\n",
      "/home/martin/mambaforge/envs/stable/lib/python3.12/site-packages/tobler/util/util.py:53: UserWarning: nan values in variable: sdbCoA, replacing with 0\n",
      "  warn(f\"nan values in variable: {column}, replacing with 0\")\n",
      "/home/martin/mambaforge/envs/stable/lib/python3.12/site-packages/tobler/util/util.py:53: UserWarning: nan values in variable: ssbCCo, replacing with 0\n",
      "  warn(f\"nan values in variable: {column}, replacing with 0\")\n",
      "/home/martin/mambaforge/envs/stable/lib/python3.12/site-packages/tobler/util/util.py:53: UserWarning: nan values in variable: ssbCor, replacing with 0\n",
      "  warn(f\"nan values in variable: {column}, replacing with 0\")\n",
      "/home/martin/mambaforge/envs/stable/lib/python3.12/site-packages/tobler/util/util.py:53: UserWarning: nan values in variable: ssbSqu, replacing with 0\n",
      "  warn(f\"nan values in variable: {column}, replacing with 0\")\n",
      "/home/martin/mambaforge/envs/stable/lib/python3.12/site-packages/tobler/util/util.py:53: UserWarning: nan values in variable: ssbERI, replacing with 0\n",
      "  warn(f\"nan values in variable: {column}, replacing with 0\")\n",
      "/home/martin/mambaforge/envs/stable/lib/python3.12/site-packages/tobler/util/util.py:53: UserWarning: nan values in variable: ssbCCM, replacing with 0\n",
      "  warn(f\"nan values in variable: {column}, replacing with 0\")\n",
      "/home/martin/mambaforge/envs/stable/lib/python3.12/site-packages/tobler/util/util.py:53: UserWarning: nan values in variable: ssbCCD, replacing with 0\n",
      "  warn(f\"nan values in variable: {column}, replacing with 0\")\n",
      "/home/martin/mambaforge/envs/stable/lib/python3.12/site-packages/tobler/util/util.py:53: UserWarning: nan values in variable: stbOri, replacing with 0\n",
      "  warn(f\"nan values in variable: {column}, replacing with 0\")\n",
      "/home/martin/mambaforge/envs/stable/lib/python3.12/site-packages/tobler/util/util.py:53: UserWarning: nan values in variable: sicCAR, replacing with 0\n",
      "  warn(f\"nan values in variable: {column}, replacing with 0\")\n",
      "/home/martin/mambaforge/envs/stable/lib/python3.12/site-packages/tobler/util/util.py:53: UserWarning: nan values in variable: stbCeA, replacing with 0\n",
      "  warn(f\"nan values in variable: {column}, replacing with 0\")\n",
      "/home/martin/mambaforge/envs/stable/lib/python3.12/site-packages/tobler/util/util.py:53: UserWarning: nan values in variable: mtbAli, replacing with 0\n",
      "  warn(f\"nan values in variable: {column}, replacing with 0\")\n",
      "/home/martin/mambaforge/envs/stable/lib/python3.12/site-packages/tobler/util/util.py:53: UserWarning: nan values in variable: mtbNDi, replacing with 0\n",
      "  warn(f\"nan values in variable: {column}, replacing with 0\")\n",
      "/home/martin/mambaforge/envs/stable/lib/python3.12/site-packages/tobler/util/util.py:53: UserWarning: nan values in variable: stbSAl, replacing with 0\n",
      "  warn(f\"nan values in variable: {column}, replacing with 0\")\n"
     ]
    },
    {
     "name": "stdout",
     "output_type": "stream",
     "text": [
      "Chunk 52 done in 112.18 seconds.\n"
     ]
    },
    {
     "name": "stderr",
     "output_type": "stream",
     "text": [
      "/home/martin/mambaforge/envs/stable/lib/python3.12/site-packages/tobler/util/util.py:53: UserWarning: nan values in variable: sdbAre, replacing with 0\n",
      "  warn(f\"nan values in variable: {column}, replacing with 0\")\n",
      "/home/martin/mambaforge/envs/stable/lib/python3.12/site-packages/tobler/util/util.py:53: UserWarning: nan values in variable: sdbCoA, replacing with 0\n",
      "  warn(f\"nan values in variable: {column}, replacing with 0\")\n",
      "/home/martin/mambaforge/envs/stable/lib/python3.12/site-packages/tobler/util/util.py:53: UserWarning: nan values in variable: ssbCCo, replacing with 0\n",
      "  warn(f\"nan values in variable: {column}, replacing with 0\")\n",
      "/home/martin/mambaforge/envs/stable/lib/python3.12/site-packages/tobler/util/util.py:53: UserWarning: nan values in variable: ssbCor, replacing with 0\n",
      "  warn(f\"nan values in variable: {column}, replacing with 0\")\n",
      "/home/martin/mambaforge/envs/stable/lib/python3.12/site-packages/tobler/util/util.py:53: UserWarning: nan values in variable: ssbSqu, replacing with 0\n",
      "  warn(f\"nan values in variable: {column}, replacing with 0\")\n",
      "/home/martin/mambaforge/envs/stable/lib/python3.12/site-packages/tobler/util/util.py:53: UserWarning: nan values in variable: ssbERI, replacing with 0\n",
      "  warn(f\"nan values in variable: {column}, replacing with 0\")\n",
      "/home/martin/mambaforge/envs/stable/lib/python3.12/site-packages/tobler/util/util.py:53: UserWarning: nan values in variable: ssbCCM, replacing with 0\n",
      "  warn(f\"nan values in variable: {column}, replacing with 0\")\n",
      "/home/martin/mambaforge/envs/stable/lib/python3.12/site-packages/tobler/util/util.py:53: UserWarning: nan values in variable: ssbCCD, replacing with 0\n",
      "  warn(f\"nan values in variable: {column}, replacing with 0\")\n",
      "/home/martin/mambaforge/envs/stable/lib/python3.12/site-packages/tobler/util/util.py:53: UserWarning: nan values in variable: stbOri, replacing with 0\n",
      "  warn(f\"nan values in variable: {column}, replacing with 0\")\n",
      "/home/martin/mambaforge/envs/stable/lib/python3.12/site-packages/tobler/util/util.py:53: UserWarning: nan values in variable: sicCAR, replacing with 0\n",
      "  warn(f\"nan values in variable: {column}, replacing with 0\")\n",
      "/home/martin/mambaforge/envs/stable/lib/python3.12/site-packages/tobler/util/util.py:53: UserWarning: nan values in variable: stbCeA, replacing with 0\n",
      "  warn(f\"nan values in variable: {column}, replacing with 0\")\n",
      "/home/martin/mambaforge/envs/stable/lib/python3.12/site-packages/tobler/util/util.py:53: UserWarning: nan values in variable: mtbAli, replacing with 0\n",
      "  warn(f\"nan values in variable: {column}, replacing with 0\")\n",
      "/home/martin/mambaforge/envs/stable/lib/python3.12/site-packages/tobler/util/util.py:53: UserWarning: nan values in variable: mtbNDi, replacing with 0\n",
      "  warn(f\"nan values in variable: {column}, replacing with 0\")\n",
      "/home/martin/mambaforge/envs/stable/lib/python3.12/site-packages/tobler/util/util.py:53: UserWarning: nan values in variable: stbSAl, replacing with 0\n",
      "  warn(f\"nan values in variable: {column}, replacing with 0\")\n"
     ]
    },
    {
     "name": "stdout",
     "output_type": "stream",
     "text": [
      "Chunk 53 done in 119.17 seconds.\n"
     ]
    },
    {
     "name": "stderr",
     "output_type": "stream",
     "text": [
      "/home/martin/mambaforge/envs/stable/lib/python3.12/site-packages/tobler/util/util.py:53: UserWarning: nan values in variable: sdbAre, replacing with 0\n",
      "  warn(f\"nan values in variable: {column}, replacing with 0\")\n",
      "/home/martin/mambaforge/envs/stable/lib/python3.12/site-packages/tobler/util/util.py:53: UserWarning: nan values in variable: sdbCoA, replacing with 0\n",
      "  warn(f\"nan values in variable: {column}, replacing with 0\")\n",
      "/home/martin/mambaforge/envs/stable/lib/python3.12/site-packages/tobler/util/util.py:53: UserWarning: nan values in variable: ssbCCo, replacing with 0\n",
      "  warn(f\"nan values in variable: {column}, replacing with 0\")\n",
      "/home/martin/mambaforge/envs/stable/lib/python3.12/site-packages/tobler/util/util.py:53: UserWarning: nan values in variable: ssbCor, replacing with 0\n",
      "  warn(f\"nan values in variable: {column}, replacing with 0\")\n",
      "/home/martin/mambaforge/envs/stable/lib/python3.12/site-packages/tobler/util/util.py:53: UserWarning: nan values in variable: ssbSqu, replacing with 0\n",
      "  warn(f\"nan values in variable: {column}, replacing with 0\")\n",
      "/home/martin/mambaforge/envs/stable/lib/python3.12/site-packages/tobler/util/util.py:53: UserWarning: nan values in variable: ssbERI, replacing with 0\n",
      "  warn(f\"nan values in variable: {column}, replacing with 0\")\n",
      "/home/martin/mambaforge/envs/stable/lib/python3.12/site-packages/tobler/util/util.py:53: UserWarning: nan values in variable: ssbCCM, replacing with 0\n",
      "  warn(f\"nan values in variable: {column}, replacing with 0\")\n",
      "/home/martin/mambaforge/envs/stable/lib/python3.12/site-packages/tobler/util/util.py:53: UserWarning: nan values in variable: ssbCCD, replacing with 0\n",
      "  warn(f\"nan values in variable: {column}, replacing with 0\")\n",
      "/home/martin/mambaforge/envs/stable/lib/python3.12/site-packages/tobler/util/util.py:53: UserWarning: nan values in variable: stbOri, replacing with 0\n",
      "  warn(f\"nan values in variable: {column}, replacing with 0\")\n",
      "/home/martin/mambaforge/envs/stable/lib/python3.12/site-packages/tobler/util/util.py:53: UserWarning: nan values in variable: sicCAR, replacing with 0\n",
      "  warn(f\"nan values in variable: {column}, replacing with 0\")\n",
      "/home/martin/mambaforge/envs/stable/lib/python3.12/site-packages/tobler/util/util.py:53: UserWarning: nan values in variable: stbCeA, replacing with 0\n",
      "  warn(f\"nan values in variable: {column}, replacing with 0\")\n",
      "/home/martin/mambaforge/envs/stable/lib/python3.12/site-packages/tobler/util/util.py:53: UserWarning: nan values in variable: mtbAli, replacing with 0\n",
      "  warn(f\"nan values in variable: {column}, replacing with 0\")\n",
      "/home/martin/mambaforge/envs/stable/lib/python3.12/site-packages/tobler/util/util.py:53: UserWarning: nan values in variable: mtbNDi, replacing with 0\n",
      "  warn(f\"nan values in variable: {column}, replacing with 0\")\n",
      "/home/martin/mambaforge/envs/stable/lib/python3.12/site-packages/tobler/util/util.py:53: UserWarning: nan values in variable: stbSAl, replacing with 0\n",
      "  warn(f\"nan values in variable: {column}, replacing with 0\")\n",
      "/home/martin/mambaforge/envs/stable/lib/python3.12/site-packages/tobler/util/util.py:53: UserWarning: nan values in variable: lieWCe, replacing with 0\n",
      "  warn(f\"nan values in variable: {column}, replacing with 0\")\n"
     ]
    },
    {
     "name": "stdout",
     "output_type": "stream",
     "text": [
      "Chunk 54 done in 141.08 seconds.\n"
     ]
    },
    {
     "name": "stderr",
     "output_type": "stream",
     "text": [
      "/home/martin/mambaforge/envs/stable/lib/python3.12/site-packages/tobler/util/util.py:53: UserWarning: nan values in variable: sdbAre, replacing with 0\n",
      "  warn(f\"nan values in variable: {column}, replacing with 0\")\n",
      "/home/martin/mambaforge/envs/stable/lib/python3.12/site-packages/tobler/util/util.py:53: UserWarning: nan values in variable: sdbCoA, replacing with 0\n",
      "  warn(f\"nan values in variable: {column}, replacing with 0\")\n",
      "/home/martin/mambaforge/envs/stable/lib/python3.12/site-packages/tobler/util/util.py:53: UserWarning: nan values in variable: ssbCCo, replacing with 0\n",
      "  warn(f\"nan values in variable: {column}, replacing with 0\")\n",
      "/home/martin/mambaforge/envs/stable/lib/python3.12/site-packages/tobler/util/util.py:53: UserWarning: nan values in variable: ssbCor, replacing with 0\n",
      "  warn(f\"nan values in variable: {column}, replacing with 0\")\n",
      "/home/martin/mambaforge/envs/stable/lib/python3.12/site-packages/tobler/util/util.py:53: UserWarning: nan values in variable: ssbSqu, replacing with 0\n",
      "  warn(f\"nan values in variable: {column}, replacing with 0\")\n",
      "/home/martin/mambaforge/envs/stable/lib/python3.12/site-packages/tobler/util/util.py:53: UserWarning: nan values in variable: ssbERI, replacing with 0\n",
      "  warn(f\"nan values in variable: {column}, replacing with 0\")\n",
      "/home/martin/mambaforge/envs/stable/lib/python3.12/site-packages/tobler/util/util.py:53: UserWarning: nan values in variable: ssbCCM, replacing with 0\n",
      "  warn(f\"nan values in variable: {column}, replacing with 0\")\n",
      "/home/martin/mambaforge/envs/stable/lib/python3.12/site-packages/tobler/util/util.py:53: UserWarning: nan values in variable: ssbCCD, replacing with 0\n",
      "  warn(f\"nan values in variable: {column}, replacing with 0\")\n",
      "/home/martin/mambaforge/envs/stable/lib/python3.12/site-packages/tobler/util/util.py:53: UserWarning: nan values in variable: stbOri, replacing with 0\n",
      "  warn(f\"nan values in variable: {column}, replacing with 0\")\n",
      "/home/martin/mambaforge/envs/stable/lib/python3.12/site-packages/tobler/util/util.py:53: UserWarning: nan values in variable: sicCAR, replacing with 0\n",
      "  warn(f\"nan values in variable: {column}, replacing with 0\")\n",
      "/home/martin/mambaforge/envs/stable/lib/python3.12/site-packages/tobler/util/util.py:53: UserWarning: nan values in variable: stbCeA, replacing with 0\n",
      "  warn(f\"nan values in variable: {column}, replacing with 0\")\n",
      "/home/martin/mambaforge/envs/stable/lib/python3.12/site-packages/tobler/util/util.py:53: UserWarning: nan values in variable: mtbAli, replacing with 0\n",
      "  warn(f\"nan values in variable: {column}, replacing with 0\")\n",
      "/home/martin/mambaforge/envs/stable/lib/python3.12/site-packages/tobler/util/util.py:53: UserWarning: nan values in variable: mtbNDi, replacing with 0\n",
      "  warn(f\"nan values in variable: {column}, replacing with 0\")\n",
      "/home/martin/mambaforge/envs/stable/lib/python3.12/site-packages/tobler/util/util.py:53: UserWarning: nan values in variable: stbSAl, replacing with 0\n",
      "  warn(f\"nan values in variable: {column}, replacing with 0\")\n",
      "/home/martin/mambaforge/envs/stable/lib/python3.12/site-packages/tobler/util/util.py:53: UserWarning: nan values in variable: lieWCe, replacing with 0\n",
      "  warn(f\"nan values in variable: {column}, replacing with 0\")\n"
     ]
    },
    {
     "name": "stdout",
     "output_type": "stream",
     "text": [
      "Chunk 55 done in 132.75 seconds.\n"
     ]
    },
    {
     "name": "stderr",
     "output_type": "stream",
     "text": [
      "/home/martin/mambaforge/envs/stable/lib/python3.12/site-packages/tobler/util/util.py:53: UserWarning: nan values in variable: sdbAre, replacing with 0\n",
      "  warn(f\"nan values in variable: {column}, replacing with 0\")\n",
      "/home/martin/mambaforge/envs/stable/lib/python3.12/site-packages/tobler/util/util.py:53: UserWarning: nan values in variable: sdbCoA, replacing with 0\n",
      "  warn(f\"nan values in variable: {column}, replacing with 0\")\n",
      "/home/martin/mambaforge/envs/stable/lib/python3.12/site-packages/tobler/util/util.py:53: UserWarning: nan values in variable: ssbCCo, replacing with 0\n",
      "  warn(f\"nan values in variable: {column}, replacing with 0\")\n",
      "/home/martin/mambaforge/envs/stable/lib/python3.12/site-packages/tobler/util/util.py:53: UserWarning: nan values in variable: ssbCor, replacing with 0\n",
      "  warn(f\"nan values in variable: {column}, replacing with 0\")\n",
      "/home/martin/mambaforge/envs/stable/lib/python3.12/site-packages/tobler/util/util.py:53: UserWarning: nan values in variable: ssbSqu, replacing with 0\n",
      "  warn(f\"nan values in variable: {column}, replacing with 0\")\n",
      "/home/martin/mambaforge/envs/stable/lib/python3.12/site-packages/tobler/util/util.py:53: UserWarning: nan values in variable: ssbERI, replacing with 0\n",
      "  warn(f\"nan values in variable: {column}, replacing with 0\")\n",
      "/home/martin/mambaforge/envs/stable/lib/python3.12/site-packages/tobler/util/util.py:53: UserWarning: nan values in variable: ssbCCM, replacing with 0\n",
      "  warn(f\"nan values in variable: {column}, replacing with 0\")\n",
      "/home/martin/mambaforge/envs/stable/lib/python3.12/site-packages/tobler/util/util.py:53: UserWarning: nan values in variable: ssbCCD, replacing with 0\n",
      "  warn(f\"nan values in variable: {column}, replacing with 0\")\n",
      "/home/martin/mambaforge/envs/stable/lib/python3.12/site-packages/tobler/util/util.py:53: UserWarning: nan values in variable: stbOri, replacing with 0\n",
      "  warn(f\"nan values in variable: {column}, replacing with 0\")\n",
      "/home/martin/mambaforge/envs/stable/lib/python3.12/site-packages/tobler/util/util.py:53: UserWarning: nan values in variable: sicCAR, replacing with 0\n",
      "  warn(f\"nan values in variable: {column}, replacing with 0\")\n",
      "/home/martin/mambaforge/envs/stable/lib/python3.12/site-packages/tobler/util/util.py:53: UserWarning: nan values in variable: stbCeA, replacing with 0\n",
      "  warn(f\"nan values in variable: {column}, replacing with 0\")\n",
      "/home/martin/mambaforge/envs/stable/lib/python3.12/site-packages/tobler/util/util.py:53: UserWarning: nan values in variable: mtbAli, replacing with 0\n",
      "  warn(f\"nan values in variable: {column}, replacing with 0\")\n",
      "/home/martin/mambaforge/envs/stable/lib/python3.12/site-packages/tobler/util/util.py:53: UserWarning: nan values in variable: mtbNDi, replacing with 0\n",
      "  warn(f\"nan values in variable: {column}, replacing with 0\")\n",
      "/home/martin/mambaforge/envs/stable/lib/python3.12/site-packages/tobler/util/util.py:53: UserWarning: nan values in variable: stbSAl, replacing with 0\n",
      "  warn(f\"nan values in variable: {column}, replacing with 0\")\n"
     ]
    },
    {
     "name": "stdout",
     "output_type": "stream",
     "text": [
      "Chunk 56 done in 55.56 seconds.\n"
     ]
    },
    {
     "name": "stderr",
     "output_type": "stream",
     "text": [
      "/home/martin/mambaforge/envs/stable/lib/python3.12/site-packages/tobler/util/util.py:53: UserWarning: nan values in variable: sdbAre, replacing with 0\n",
      "  warn(f\"nan values in variable: {column}, replacing with 0\")\n",
      "/home/martin/mambaforge/envs/stable/lib/python3.12/site-packages/tobler/util/util.py:53: UserWarning: nan values in variable: sdbCoA, replacing with 0\n",
      "  warn(f\"nan values in variable: {column}, replacing with 0\")\n",
      "/home/martin/mambaforge/envs/stable/lib/python3.12/site-packages/tobler/util/util.py:53: UserWarning: nan values in variable: ssbCCo, replacing with 0\n",
      "  warn(f\"nan values in variable: {column}, replacing with 0\")\n",
      "/home/martin/mambaforge/envs/stable/lib/python3.12/site-packages/tobler/util/util.py:53: UserWarning: nan values in variable: ssbCor, replacing with 0\n",
      "  warn(f\"nan values in variable: {column}, replacing with 0\")\n",
      "/home/martin/mambaforge/envs/stable/lib/python3.12/site-packages/tobler/util/util.py:53: UserWarning: nan values in variable: ssbSqu, replacing with 0\n",
      "  warn(f\"nan values in variable: {column}, replacing with 0\")\n",
      "/home/martin/mambaforge/envs/stable/lib/python3.12/site-packages/tobler/util/util.py:53: UserWarning: nan values in variable: ssbERI, replacing with 0\n",
      "  warn(f\"nan values in variable: {column}, replacing with 0\")\n",
      "/home/martin/mambaforge/envs/stable/lib/python3.12/site-packages/tobler/util/util.py:53: UserWarning: nan values in variable: ssbCCM, replacing with 0\n",
      "  warn(f\"nan values in variable: {column}, replacing with 0\")\n",
      "/home/martin/mambaforge/envs/stable/lib/python3.12/site-packages/tobler/util/util.py:53: UserWarning: nan values in variable: ssbCCD, replacing with 0\n",
      "  warn(f\"nan values in variable: {column}, replacing with 0\")\n",
      "/home/martin/mambaforge/envs/stable/lib/python3.12/site-packages/tobler/util/util.py:53: UserWarning: nan values in variable: stbOri, replacing with 0\n",
      "  warn(f\"nan values in variable: {column}, replacing with 0\")\n",
      "/home/martin/mambaforge/envs/stable/lib/python3.12/site-packages/tobler/util/util.py:53: UserWarning: nan values in variable: sicCAR, replacing with 0\n",
      "  warn(f\"nan values in variable: {column}, replacing with 0\")\n",
      "/home/martin/mambaforge/envs/stable/lib/python3.12/site-packages/tobler/util/util.py:53: UserWarning: nan values in variable: stbCeA, replacing with 0\n",
      "  warn(f\"nan values in variable: {column}, replacing with 0\")\n",
      "/home/martin/mambaforge/envs/stable/lib/python3.12/site-packages/tobler/util/util.py:53: UserWarning: nan values in variable: mtbAli, replacing with 0\n",
      "  warn(f\"nan values in variable: {column}, replacing with 0\")\n",
      "/home/martin/mambaforge/envs/stable/lib/python3.12/site-packages/tobler/util/util.py:53: UserWarning: nan values in variable: mtbNDi, replacing with 0\n",
      "  warn(f\"nan values in variable: {column}, replacing with 0\")\n",
      "/home/martin/mambaforge/envs/stable/lib/python3.12/site-packages/tobler/util/util.py:53: UserWarning: nan values in variable: ltbIBD, replacing with 0\n",
      "  warn(f\"nan values in variable: {column}, replacing with 0\")\n",
      "/home/martin/mambaforge/envs/stable/lib/python3.12/site-packages/tobler/util/util.py:53: UserWarning: nan values in variable: stbSAl, replacing with 0\n",
      "  warn(f\"nan values in variable: {column}, replacing with 0\")\n"
     ]
    },
    {
     "name": "stdout",
     "output_type": "stream",
     "text": [
      "Chunk 57 done in 89.04 seconds.\n"
     ]
    },
    {
     "name": "stderr",
     "output_type": "stream",
     "text": [
      "/home/martin/mambaforge/envs/stable/lib/python3.12/site-packages/tobler/util/util.py:53: UserWarning: nan values in variable: sdbAre, replacing with 0\n",
      "  warn(f\"nan values in variable: {column}, replacing with 0\")\n",
      "/home/martin/mambaforge/envs/stable/lib/python3.12/site-packages/tobler/util/util.py:53: UserWarning: nan values in variable: sdbCoA, replacing with 0\n",
      "  warn(f\"nan values in variable: {column}, replacing with 0\")\n",
      "/home/martin/mambaforge/envs/stable/lib/python3.12/site-packages/tobler/util/util.py:53: UserWarning: nan values in variable: ssbCCo, replacing with 0\n",
      "  warn(f\"nan values in variable: {column}, replacing with 0\")\n",
      "/home/martin/mambaforge/envs/stable/lib/python3.12/site-packages/tobler/util/util.py:53: UserWarning: nan values in variable: ssbCor, replacing with 0\n",
      "  warn(f\"nan values in variable: {column}, replacing with 0\")\n",
      "/home/martin/mambaforge/envs/stable/lib/python3.12/site-packages/tobler/util/util.py:53: UserWarning: nan values in variable: ssbSqu, replacing with 0\n",
      "  warn(f\"nan values in variable: {column}, replacing with 0\")\n",
      "/home/martin/mambaforge/envs/stable/lib/python3.12/site-packages/tobler/util/util.py:53: UserWarning: nan values in variable: ssbERI, replacing with 0\n",
      "  warn(f\"nan values in variable: {column}, replacing with 0\")\n",
      "/home/martin/mambaforge/envs/stable/lib/python3.12/site-packages/tobler/util/util.py:53: UserWarning: nan values in variable: ssbCCM, replacing with 0\n",
      "  warn(f\"nan values in variable: {column}, replacing with 0\")\n",
      "/home/martin/mambaforge/envs/stable/lib/python3.12/site-packages/tobler/util/util.py:53: UserWarning: nan values in variable: ssbCCD, replacing with 0\n",
      "  warn(f\"nan values in variable: {column}, replacing with 0\")\n",
      "/home/martin/mambaforge/envs/stable/lib/python3.12/site-packages/tobler/util/util.py:53: UserWarning: nan values in variable: stbOri, replacing with 0\n",
      "  warn(f\"nan values in variable: {column}, replacing with 0\")\n",
      "/home/martin/mambaforge/envs/stable/lib/python3.12/site-packages/tobler/util/util.py:53: UserWarning: nan values in variable: sicCAR, replacing with 0\n",
      "  warn(f\"nan values in variable: {column}, replacing with 0\")\n",
      "/home/martin/mambaforge/envs/stable/lib/python3.12/site-packages/tobler/util/util.py:53: UserWarning: nan values in variable: stbCeA, replacing with 0\n",
      "  warn(f\"nan values in variable: {column}, replacing with 0\")\n",
      "/home/martin/mambaforge/envs/stable/lib/python3.12/site-packages/tobler/util/util.py:53: UserWarning: nan values in variable: mtbAli, replacing with 0\n",
      "  warn(f\"nan values in variable: {column}, replacing with 0\")\n",
      "/home/martin/mambaforge/envs/stable/lib/python3.12/site-packages/tobler/util/util.py:53: UserWarning: nan values in variable: mtbNDi, replacing with 0\n",
      "  warn(f\"nan values in variable: {column}, replacing with 0\")\n",
      "/home/martin/mambaforge/envs/stable/lib/python3.12/site-packages/tobler/util/util.py:53: UserWarning: nan values in variable: stbSAl, replacing with 0\n",
      "  warn(f\"nan values in variable: {column}, replacing with 0\")\n",
      "/home/martin/mambaforge/envs/stable/lib/python3.12/site-packages/tobler/util/util.py:53: UserWarning: nan values in variable: lieWCe, replacing with 0\n",
      "  warn(f\"nan values in variable: {column}, replacing with 0\")\n"
     ]
    },
    {
     "name": "stdout",
     "output_type": "stream",
     "text": [
      "Chunk 58 done in 162.54 seconds.\n"
     ]
    },
    {
     "name": "stderr",
     "output_type": "stream",
     "text": [
      "/home/martin/mambaforge/envs/stable/lib/python3.12/site-packages/tobler/util/util.py:53: UserWarning: nan values in variable: sdbAre, replacing with 0\n",
      "  warn(f\"nan values in variable: {column}, replacing with 0\")\n",
      "/home/martin/mambaforge/envs/stable/lib/python3.12/site-packages/tobler/util/util.py:53: UserWarning: nan values in variable: sdbCoA, replacing with 0\n",
      "  warn(f\"nan values in variable: {column}, replacing with 0\")\n",
      "/home/martin/mambaforge/envs/stable/lib/python3.12/site-packages/tobler/util/util.py:53: UserWarning: nan values in variable: ssbCCo, replacing with 0\n",
      "  warn(f\"nan values in variable: {column}, replacing with 0\")\n",
      "/home/martin/mambaforge/envs/stable/lib/python3.12/site-packages/tobler/util/util.py:53: UserWarning: nan values in variable: ssbCor, replacing with 0\n",
      "  warn(f\"nan values in variable: {column}, replacing with 0\")\n",
      "/home/martin/mambaforge/envs/stable/lib/python3.12/site-packages/tobler/util/util.py:53: UserWarning: nan values in variable: ssbSqu, replacing with 0\n",
      "  warn(f\"nan values in variable: {column}, replacing with 0\")\n",
      "/home/martin/mambaforge/envs/stable/lib/python3.12/site-packages/tobler/util/util.py:53: UserWarning: nan values in variable: ssbERI, replacing with 0\n",
      "  warn(f\"nan values in variable: {column}, replacing with 0\")\n",
      "/home/martin/mambaforge/envs/stable/lib/python3.12/site-packages/tobler/util/util.py:53: UserWarning: nan values in variable: ssbCCM, replacing with 0\n",
      "  warn(f\"nan values in variable: {column}, replacing with 0\")\n",
      "/home/martin/mambaforge/envs/stable/lib/python3.12/site-packages/tobler/util/util.py:53: UserWarning: nan values in variable: ssbCCD, replacing with 0\n",
      "  warn(f\"nan values in variable: {column}, replacing with 0\")\n",
      "/home/martin/mambaforge/envs/stable/lib/python3.12/site-packages/tobler/util/util.py:53: UserWarning: nan values in variable: stbOri, replacing with 0\n",
      "  warn(f\"nan values in variable: {column}, replacing with 0\")\n",
      "/home/martin/mambaforge/envs/stable/lib/python3.12/site-packages/tobler/util/util.py:53: UserWarning: nan values in variable: sicCAR, replacing with 0\n",
      "  warn(f\"nan values in variable: {column}, replacing with 0\")\n",
      "/home/martin/mambaforge/envs/stable/lib/python3.12/site-packages/tobler/util/util.py:53: UserWarning: nan values in variable: stbCeA, replacing with 0\n",
      "  warn(f\"nan values in variable: {column}, replacing with 0\")\n",
      "/home/martin/mambaforge/envs/stable/lib/python3.12/site-packages/tobler/util/util.py:53: UserWarning: nan values in variable: mtbAli, replacing with 0\n",
      "  warn(f\"nan values in variable: {column}, replacing with 0\")\n",
      "/home/martin/mambaforge/envs/stable/lib/python3.12/site-packages/tobler/util/util.py:53: UserWarning: nan values in variable: mtbNDi, replacing with 0\n",
      "  warn(f\"nan values in variable: {column}, replacing with 0\")\n",
      "/home/martin/mambaforge/envs/stable/lib/python3.12/site-packages/tobler/util/util.py:53: UserWarning: nan values in variable: ltbIBD, replacing with 0\n",
      "  warn(f\"nan values in variable: {column}, replacing with 0\")\n",
      "/home/martin/mambaforge/envs/stable/lib/python3.12/site-packages/tobler/util/util.py:53: UserWarning: nan values in variable: stbSAl, replacing with 0\n",
      "  warn(f\"nan values in variable: {column}, replacing with 0\")\n",
      "/home/martin/mambaforge/envs/stable/lib/python3.12/site-packages/tobler/util/util.py:53: UserWarning: nan values in variable: lieWCe, replacing with 0\n",
      "  warn(f\"nan values in variable: {column}, replacing with 0\")\n"
     ]
    },
    {
     "name": "stdout",
     "output_type": "stream",
     "text": [
      "Chunk 59 done in 178.08 seconds.\n"
     ]
    },
    {
     "name": "stderr",
     "output_type": "stream",
     "text": [
      "/home/martin/mambaforge/envs/stable/lib/python3.12/site-packages/tobler/util/util.py:53: UserWarning: nan values in variable: sdbAre, replacing with 0\n",
      "  warn(f\"nan values in variable: {column}, replacing with 0\")\n",
      "/home/martin/mambaforge/envs/stable/lib/python3.12/site-packages/tobler/util/util.py:53: UserWarning: nan values in variable: sdbCoA, replacing with 0\n",
      "  warn(f\"nan values in variable: {column}, replacing with 0\")\n",
      "/home/martin/mambaforge/envs/stable/lib/python3.12/site-packages/tobler/util/util.py:53: UserWarning: nan values in variable: ssbCCo, replacing with 0\n",
      "  warn(f\"nan values in variable: {column}, replacing with 0\")\n",
      "/home/martin/mambaforge/envs/stable/lib/python3.12/site-packages/tobler/util/util.py:53: UserWarning: nan values in variable: ssbCor, replacing with 0\n",
      "  warn(f\"nan values in variable: {column}, replacing with 0\")\n",
      "/home/martin/mambaforge/envs/stable/lib/python3.12/site-packages/tobler/util/util.py:53: UserWarning: nan values in variable: ssbSqu, replacing with 0\n",
      "  warn(f\"nan values in variable: {column}, replacing with 0\")\n",
      "/home/martin/mambaforge/envs/stable/lib/python3.12/site-packages/tobler/util/util.py:53: UserWarning: nan values in variable: ssbERI, replacing with 0\n",
      "  warn(f\"nan values in variable: {column}, replacing with 0\")\n",
      "/home/martin/mambaforge/envs/stable/lib/python3.12/site-packages/tobler/util/util.py:53: UserWarning: nan values in variable: ssbCCM, replacing with 0\n",
      "  warn(f\"nan values in variable: {column}, replacing with 0\")\n",
      "/home/martin/mambaforge/envs/stable/lib/python3.12/site-packages/tobler/util/util.py:53: UserWarning: nan values in variable: ssbCCD, replacing with 0\n",
      "  warn(f\"nan values in variable: {column}, replacing with 0\")\n",
      "/home/martin/mambaforge/envs/stable/lib/python3.12/site-packages/tobler/util/util.py:53: UserWarning: nan values in variable: stbOri, replacing with 0\n",
      "  warn(f\"nan values in variable: {column}, replacing with 0\")\n",
      "/home/martin/mambaforge/envs/stable/lib/python3.12/site-packages/tobler/util/util.py:53: UserWarning: nan values in variable: sicCAR, replacing with 0\n",
      "  warn(f\"nan values in variable: {column}, replacing with 0\")\n",
      "/home/martin/mambaforge/envs/stable/lib/python3.12/site-packages/tobler/util/util.py:53: UserWarning: nan values in variable: stbCeA, replacing with 0\n",
      "  warn(f\"nan values in variable: {column}, replacing with 0\")\n",
      "/home/martin/mambaforge/envs/stable/lib/python3.12/site-packages/tobler/util/util.py:53: UserWarning: nan values in variable: mtbAli, replacing with 0\n",
      "  warn(f\"nan values in variable: {column}, replacing with 0\")\n",
      "/home/martin/mambaforge/envs/stable/lib/python3.12/site-packages/tobler/util/util.py:53: UserWarning: nan values in variable: mtbNDi, replacing with 0\n",
      "  warn(f\"nan values in variable: {column}, replacing with 0\")\n",
      "/home/martin/mambaforge/envs/stable/lib/python3.12/site-packages/tobler/util/util.py:53: UserWarning: nan values in variable: stbSAl, replacing with 0\n",
      "  warn(f\"nan values in variable: {column}, replacing with 0\")\n"
     ]
    },
    {
     "name": "stdout",
     "output_type": "stream",
     "text": [
      "Chunk 60 done in 75.04 seconds.\n"
     ]
    },
    {
     "name": "stderr",
     "output_type": "stream",
     "text": [
      "/home/martin/mambaforge/envs/stable/lib/python3.12/site-packages/tobler/util/util.py:53: UserWarning: nan values in variable: sdbAre, replacing with 0\n",
      "  warn(f\"nan values in variable: {column}, replacing with 0\")\n",
      "/home/martin/mambaforge/envs/stable/lib/python3.12/site-packages/tobler/util/util.py:53: UserWarning: nan values in variable: sdbCoA, replacing with 0\n",
      "  warn(f\"nan values in variable: {column}, replacing with 0\")\n",
      "/home/martin/mambaforge/envs/stable/lib/python3.12/site-packages/tobler/util/util.py:53: UserWarning: nan values in variable: ssbCCo, replacing with 0\n",
      "  warn(f\"nan values in variable: {column}, replacing with 0\")\n",
      "/home/martin/mambaforge/envs/stable/lib/python3.12/site-packages/tobler/util/util.py:53: UserWarning: nan values in variable: ssbCor, replacing with 0\n",
      "  warn(f\"nan values in variable: {column}, replacing with 0\")\n",
      "/home/martin/mambaforge/envs/stable/lib/python3.12/site-packages/tobler/util/util.py:53: UserWarning: nan values in variable: ssbSqu, replacing with 0\n",
      "  warn(f\"nan values in variable: {column}, replacing with 0\")\n",
      "/home/martin/mambaforge/envs/stable/lib/python3.12/site-packages/tobler/util/util.py:53: UserWarning: nan values in variable: ssbERI, replacing with 0\n",
      "  warn(f\"nan values in variable: {column}, replacing with 0\")\n",
      "/home/martin/mambaforge/envs/stable/lib/python3.12/site-packages/tobler/util/util.py:53: UserWarning: nan values in variable: ssbCCM, replacing with 0\n",
      "  warn(f\"nan values in variable: {column}, replacing with 0\")\n",
      "/home/martin/mambaforge/envs/stable/lib/python3.12/site-packages/tobler/util/util.py:53: UserWarning: nan values in variable: ssbCCD, replacing with 0\n",
      "  warn(f\"nan values in variable: {column}, replacing with 0\")\n",
      "/home/martin/mambaforge/envs/stable/lib/python3.12/site-packages/tobler/util/util.py:53: UserWarning: nan values in variable: stbOri, replacing with 0\n",
      "  warn(f\"nan values in variable: {column}, replacing with 0\")\n",
      "/home/martin/mambaforge/envs/stable/lib/python3.12/site-packages/tobler/util/util.py:53: UserWarning: nan values in variable: sicCAR, replacing with 0\n",
      "  warn(f\"nan values in variable: {column}, replacing with 0\")\n",
      "/home/martin/mambaforge/envs/stable/lib/python3.12/site-packages/tobler/util/util.py:53: UserWarning: nan values in variable: stbCeA, replacing with 0\n",
      "  warn(f\"nan values in variable: {column}, replacing with 0\")\n",
      "/home/martin/mambaforge/envs/stable/lib/python3.12/site-packages/tobler/util/util.py:53: UserWarning: nan values in variable: mtbAli, replacing with 0\n",
      "  warn(f\"nan values in variable: {column}, replacing with 0\")\n",
      "/home/martin/mambaforge/envs/stable/lib/python3.12/site-packages/tobler/util/util.py:53: UserWarning: nan values in variable: mtbNDi, replacing with 0\n",
      "  warn(f\"nan values in variable: {column}, replacing with 0\")\n",
      "/home/martin/mambaforge/envs/stable/lib/python3.12/site-packages/tobler/util/util.py:53: UserWarning: nan values in variable: ltbIBD, replacing with 0\n",
      "  warn(f\"nan values in variable: {column}, replacing with 0\")\n",
      "/home/martin/mambaforge/envs/stable/lib/python3.12/site-packages/tobler/util/util.py:53: UserWarning: nan values in variable: stbSAl, replacing with 0\n",
      "  warn(f\"nan values in variable: {column}, replacing with 0\")\n",
      "/home/martin/mambaforge/envs/stable/lib/python3.12/site-packages/tobler/util/util.py:53: UserWarning: nan values in variable: lieWCe, replacing with 0\n",
      "  warn(f\"nan values in variable: {column}, replacing with 0\")\n"
     ]
    },
    {
     "name": "stdout",
     "output_type": "stream",
     "text": [
      "Chunk 61 done in 154.52 seconds.\n"
     ]
    },
    {
     "name": "stderr",
     "output_type": "stream",
     "text": [
      "/home/martin/mambaforge/envs/stable/lib/python3.12/site-packages/tobler/util/util.py:53: UserWarning: nan values in variable: sdbAre, replacing with 0\n",
      "  warn(f\"nan values in variable: {column}, replacing with 0\")\n",
      "/home/martin/mambaforge/envs/stable/lib/python3.12/site-packages/tobler/util/util.py:53: UserWarning: nan values in variable: sdbCoA, replacing with 0\n",
      "  warn(f\"nan values in variable: {column}, replacing with 0\")\n",
      "/home/martin/mambaforge/envs/stable/lib/python3.12/site-packages/tobler/util/util.py:53: UserWarning: nan values in variable: ssbCCo, replacing with 0\n",
      "  warn(f\"nan values in variable: {column}, replacing with 0\")\n",
      "/home/martin/mambaforge/envs/stable/lib/python3.12/site-packages/tobler/util/util.py:53: UserWarning: nan values in variable: ssbCor, replacing with 0\n",
      "  warn(f\"nan values in variable: {column}, replacing with 0\")\n",
      "/home/martin/mambaforge/envs/stable/lib/python3.12/site-packages/tobler/util/util.py:53: UserWarning: nan values in variable: ssbSqu, replacing with 0\n",
      "  warn(f\"nan values in variable: {column}, replacing with 0\")\n",
      "/home/martin/mambaforge/envs/stable/lib/python3.12/site-packages/tobler/util/util.py:53: UserWarning: nan values in variable: ssbERI, replacing with 0\n",
      "  warn(f\"nan values in variable: {column}, replacing with 0\")\n",
      "/home/martin/mambaforge/envs/stable/lib/python3.12/site-packages/tobler/util/util.py:53: UserWarning: nan values in variable: ssbCCM, replacing with 0\n",
      "  warn(f\"nan values in variable: {column}, replacing with 0\")\n",
      "/home/martin/mambaforge/envs/stable/lib/python3.12/site-packages/tobler/util/util.py:53: UserWarning: nan values in variable: ssbCCD, replacing with 0\n",
      "  warn(f\"nan values in variable: {column}, replacing with 0\")\n",
      "/home/martin/mambaforge/envs/stable/lib/python3.12/site-packages/tobler/util/util.py:53: UserWarning: nan values in variable: stbOri, replacing with 0\n",
      "  warn(f\"nan values in variable: {column}, replacing with 0\")\n",
      "/home/martin/mambaforge/envs/stable/lib/python3.12/site-packages/tobler/util/util.py:53: UserWarning: nan values in variable: sicCAR, replacing with 0\n",
      "  warn(f\"nan values in variable: {column}, replacing with 0\")\n",
      "/home/martin/mambaforge/envs/stable/lib/python3.12/site-packages/tobler/util/util.py:53: UserWarning: nan values in variable: stbCeA, replacing with 0\n",
      "  warn(f\"nan values in variable: {column}, replacing with 0\")\n",
      "/home/martin/mambaforge/envs/stable/lib/python3.12/site-packages/tobler/util/util.py:53: UserWarning: nan values in variable: mtbAli, replacing with 0\n",
      "  warn(f\"nan values in variable: {column}, replacing with 0\")\n",
      "/home/martin/mambaforge/envs/stable/lib/python3.12/site-packages/tobler/util/util.py:53: UserWarning: nan values in variable: mtbNDi, replacing with 0\n",
      "  warn(f\"nan values in variable: {column}, replacing with 0\")\n",
      "/home/martin/mambaforge/envs/stable/lib/python3.12/site-packages/tobler/util/util.py:53: UserWarning: nan values in variable: stbSAl, replacing with 0\n",
      "  warn(f\"nan values in variable: {column}, replacing with 0\")\n",
      "/home/martin/mambaforge/envs/stable/lib/python3.12/site-packages/tobler/util/util.py:53: UserWarning: nan values in variable: lieWCe, replacing with 0\n",
      "  warn(f\"nan values in variable: {column}, replacing with 0\")\n"
     ]
    },
    {
     "name": "stdout",
     "output_type": "stream",
     "text": [
      "Chunk 62 done in 113.83 seconds.\n"
     ]
    },
    {
     "name": "stderr",
     "output_type": "stream",
     "text": [
      "/home/martin/mambaforge/envs/stable/lib/python3.12/site-packages/tobler/util/util.py:53: UserWarning: nan values in variable: sdbAre, replacing with 0\n",
      "  warn(f\"nan values in variable: {column}, replacing with 0\")\n",
      "/home/martin/mambaforge/envs/stable/lib/python3.12/site-packages/tobler/util/util.py:53: UserWarning: nan values in variable: sdbCoA, replacing with 0\n",
      "  warn(f\"nan values in variable: {column}, replacing with 0\")\n",
      "/home/martin/mambaforge/envs/stable/lib/python3.12/site-packages/tobler/util/util.py:53: UserWarning: nan values in variable: ssbCCo, replacing with 0\n",
      "  warn(f\"nan values in variable: {column}, replacing with 0\")\n",
      "/home/martin/mambaforge/envs/stable/lib/python3.12/site-packages/tobler/util/util.py:53: UserWarning: nan values in variable: ssbCor, replacing with 0\n",
      "  warn(f\"nan values in variable: {column}, replacing with 0\")\n",
      "/home/martin/mambaforge/envs/stable/lib/python3.12/site-packages/tobler/util/util.py:53: UserWarning: nan values in variable: ssbSqu, replacing with 0\n",
      "  warn(f\"nan values in variable: {column}, replacing with 0\")\n",
      "/home/martin/mambaforge/envs/stable/lib/python3.12/site-packages/tobler/util/util.py:53: UserWarning: nan values in variable: ssbERI, replacing with 0\n",
      "  warn(f\"nan values in variable: {column}, replacing with 0\")\n",
      "/home/martin/mambaforge/envs/stable/lib/python3.12/site-packages/tobler/util/util.py:53: UserWarning: nan values in variable: ssbCCM, replacing with 0\n",
      "  warn(f\"nan values in variable: {column}, replacing with 0\")\n",
      "/home/martin/mambaforge/envs/stable/lib/python3.12/site-packages/tobler/util/util.py:53: UserWarning: nan values in variable: ssbCCD, replacing with 0\n",
      "  warn(f\"nan values in variable: {column}, replacing with 0\")\n",
      "/home/martin/mambaforge/envs/stable/lib/python3.12/site-packages/tobler/util/util.py:53: UserWarning: nan values in variable: stbOri, replacing with 0\n",
      "  warn(f\"nan values in variable: {column}, replacing with 0\")\n",
      "/home/martin/mambaforge/envs/stable/lib/python3.12/site-packages/tobler/util/util.py:53: UserWarning: nan values in variable: sicCAR, replacing with 0\n",
      "  warn(f\"nan values in variable: {column}, replacing with 0\")\n",
      "/home/martin/mambaforge/envs/stable/lib/python3.12/site-packages/tobler/util/util.py:53: UserWarning: nan values in variable: stbCeA, replacing with 0\n",
      "  warn(f\"nan values in variable: {column}, replacing with 0\")\n",
      "/home/martin/mambaforge/envs/stable/lib/python3.12/site-packages/tobler/util/util.py:53: UserWarning: nan values in variable: mtbAli, replacing with 0\n",
      "  warn(f\"nan values in variable: {column}, replacing with 0\")\n",
      "/home/martin/mambaforge/envs/stable/lib/python3.12/site-packages/tobler/util/util.py:53: UserWarning: nan values in variable: mtbNDi, replacing with 0\n",
      "  warn(f\"nan values in variable: {column}, replacing with 0\")\n",
      "/home/martin/mambaforge/envs/stable/lib/python3.12/site-packages/tobler/util/util.py:53: UserWarning: nan values in variable: stbSAl, replacing with 0\n",
      "  warn(f\"nan values in variable: {column}, replacing with 0\")\n"
     ]
    },
    {
     "name": "stdout",
     "output_type": "stream",
     "text": [
      "Chunk 63 done in 147.42 seconds.\n"
     ]
    },
    {
     "name": "stderr",
     "output_type": "stream",
     "text": [
      "/home/martin/mambaforge/envs/stable/lib/python3.12/site-packages/tobler/util/util.py:53: UserWarning: nan values in variable: sdbAre, replacing with 0\n",
      "  warn(f\"nan values in variable: {column}, replacing with 0\")\n",
      "/home/martin/mambaforge/envs/stable/lib/python3.12/site-packages/tobler/util/util.py:53: UserWarning: nan values in variable: sdbCoA, replacing with 0\n",
      "  warn(f\"nan values in variable: {column}, replacing with 0\")\n",
      "/home/martin/mambaforge/envs/stable/lib/python3.12/site-packages/tobler/util/util.py:53: UserWarning: nan values in variable: ssbCCo, replacing with 0\n",
      "  warn(f\"nan values in variable: {column}, replacing with 0\")\n",
      "/home/martin/mambaforge/envs/stable/lib/python3.12/site-packages/tobler/util/util.py:53: UserWarning: nan values in variable: ssbCor, replacing with 0\n",
      "  warn(f\"nan values in variable: {column}, replacing with 0\")\n",
      "/home/martin/mambaforge/envs/stable/lib/python3.12/site-packages/tobler/util/util.py:53: UserWarning: nan values in variable: ssbSqu, replacing with 0\n",
      "  warn(f\"nan values in variable: {column}, replacing with 0\")\n",
      "/home/martin/mambaforge/envs/stable/lib/python3.12/site-packages/tobler/util/util.py:53: UserWarning: nan values in variable: ssbERI, replacing with 0\n",
      "  warn(f\"nan values in variable: {column}, replacing with 0\")\n",
      "/home/martin/mambaforge/envs/stable/lib/python3.12/site-packages/tobler/util/util.py:53: UserWarning: nan values in variable: ssbCCM, replacing with 0\n",
      "  warn(f\"nan values in variable: {column}, replacing with 0\")\n",
      "/home/martin/mambaforge/envs/stable/lib/python3.12/site-packages/tobler/util/util.py:53: UserWarning: nan values in variable: ssbCCD, replacing with 0\n",
      "  warn(f\"nan values in variable: {column}, replacing with 0\")\n",
      "/home/martin/mambaforge/envs/stable/lib/python3.12/site-packages/tobler/util/util.py:53: UserWarning: nan values in variable: stbOri, replacing with 0\n",
      "  warn(f\"nan values in variable: {column}, replacing with 0\")\n",
      "/home/martin/mambaforge/envs/stable/lib/python3.12/site-packages/tobler/util/util.py:53: UserWarning: nan values in variable: sicCAR, replacing with 0\n",
      "  warn(f\"nan values in variable: {column}, replacing with 0\")\n",
      "/home/martin/mambaforge/envs/stable/lib/python3.12/site-packages/tobler/util/util.py:53: UserWarning: nan values in variable: stbCeA, replacing with 0\n",
      "  warn(f\"nan values in variable: {column}, replacing with 0\")\n",
      "/home/martin/mambaforge/envs/stable/lib/python3.12/site-packages/tobler/util/util.py:53: UserWarning: nan values in variable: mtbAli, replacing with 0\n",
      "  warn(f\"nan values in variable: {column}, replacing with 0\")\n",
      "/home/martin/mambaforge/envs/stable/lib/python3.12/site-packages/tobler/util/util.py:53: UserWarning: nan values in variable: mtbNDi, replacing with 0\n",
      "  warn(f\"nan values in variable: {column}, replacing with 0\")\n",
      "/home/martin/mambaforge/envs/stable/lib/python3.12/site-packages/tobler/util/util.py:53: UserWarning: nan values in variable: ltbIBD, replacing with 0\n",
      "  warn(f\"nan values in variable: {column}, replacing with 0\")\n",
      "/home/martin/mambaforge/envs/stable/lib/python3.12/site-packages/tobler/util/util.py:53: UserWarning: nan values in variable: stbSAl, replacing with 0\n",
      "  warn(f\"nan values in variable: {column}, replacing with 0\")\n",
      "/home/martin/mambaforge/envs/stable/lib/python3.12/site-packages/tobler/util/util.py:53: UserWarning: nan values in variable: lieWCe, replacing with 0\n",
      "  warn(f\"nan values in variable: {column}, replacing with 0\")\n"
     ]
    },
    {
     "name": "stdout",
     "output_type": "stream",
     "text": [
      "Chunk 64 done in 172.92 seconds.\n"
     ]
    },
    {
     "name": "stderr",
     "output_type": "stream",
     "text": [
      "/home/martin/mambaforge/envs/stable/lib/python3.12/site-packages/tobler/util/util.py:53: UserWarning: nan values in variable: sdbAre, replacing with 0\n",
      "  warn(f\"nan values in variable: {column}, replacing with 0\")\n",
      "/home/martin/mambaforge/envs/stable/lib/python3.12/site-packages/tobler/util/util.py:53: UserWarning: nan values in variable: sdbCoA, replacing with 0\n",
      "  warn(f\"nan values in variable: {column}, replacing with 0\")\n",
      "/home/martin/mambaforge/envs/stable/lib/python3.12/site-packages/tobler/util/util.py:53: UserWarning: nan values in variable: ssbCCo, replacing with 0\n",
      "  warn(f\"nan values in variable: {column}, replacing with 0\")\n",
      "/home/martin/mambaforge/envs/stable/lib/python3.12/site-packages/tobler/util/util.py:53: UserWarning: nan values in variable: ssbCor, replacing with 0\n",
      "  warn(f\"nan values in variable: {column}, replacing with 0\")\n",
      "/home/martin/mambaforge/envs/stable/lib/python3.12/site-packages/tobler/util/util.py:53: UserWarning: nan values in variable: ssbSqu, replacing with 0\n",
      "  warn(f\"nan values in variable: {column}, replacing with 0\")\n",
      "/home/martin/mambaforge/envs/stable/lib/python3.12/site-packages/tobler/util/util.py:53: UserWarning: nan values in variable: ssbERI, replacing with 0\n",
      "  warn(f\"nan values in variable: {column}, replacing with 0\")\n",
      "/home/martin/mambaforge/envs/stable/lib/python3.12/site-packages/tobler/util/util.py:53: UserWarning: nan values in variable: ssbCCM, replacing with 0\n",
      "  warn(f\"nan values in variable: {column}, replacing with 0\")\n",
      "/home/martin/mambaforge/envs/stable/lib/python3.12/site-packages/tobler/util/util.py:53: UserWarning: nan values in variable: ssbCCD, replacing with 0\n",
      "  warn(f\"nan values in variable: {column}, replacing with 0\")\n",
      "/home/martin/mambaforge/envs/stable/lib/python3.12/site-packages/tobler/util/util.py:53: UserWarning: nan values in variable: stbOri, replacing with 0\n",
      "  warn(f\"nan values in variable: {column}, replacing with 0\")\n",
      "/home/martin/mambaforge/envs/stable/lib/python3.12/site-packages/tobler/util/util.py:53: UserWarning: nan values in variable: sicCAR, replacing with 0\n",
      "  warn(f\"nan values in variable: {column}, replacing with 0\")\n",
      "/home/martin/mambaforge/envs/stable/lib/python3.12/site-packages/tobler/util/util.py:53: UserWarning: nan values in variable: stbCeA, replacing with 0\n",
      "  warn(f\"nan values in variable: {column}, replacing with 0\")\n",
      "/home/martin/mambaforge/envs/stable/lib/python3.12/site-packages/tobler/util/util.py:53: UserWarning: nan values in variable: mtbAli, replacing with 0\n",
      "  warn(f\"nan values in variable: {column}, replacing with 0\")\n",
      "/home/martin/mambaforge/envs/stable/lib/python3.12/site-packages/tobler/util/util.py:53: UserWarning: nan values in variable: mtbNDi, replacing with 0\n",
      "  warn(f\"nan values in variable: {column}, replacing with 0\")\n",
      "/home/martin/mambaforge/envs/stable/lib/python3.12/site-packages/tobler/util/util.py:53: UserWarning: nan values in variable: ltbIBD, replacing with 0\n",
      "  warn(f\"nan values in variable: {column}, replacing with 0\")\n",
      "/home/martin/mambaforge/envs/stable/lib/python3.12/site-packages/tobler/util/util.py:53: UserWarning: nan values in variable: stbSAl, replacing with 0\n",
      "  warn(f\"nan values in variable: {column}, replacing with 0\")\n",
      "/home/martin/mambaforge/envs/stable/lib/python3.12/site-packages/tobler/util/util.py:53: UserWarning: nan values in variable: lieWCe, replacing with 0\n",
      "  warn(f\"nan values in variable: {column}, replacing with 0\")\n"
     ]
    },
    {
     "name": "stdout",
     "output_type": "stream",
     "text": [
      "Chunk 65 done in 288.30 seconds.\n"
     ]
    },
    {
     "name": "stderr",
     "output_type": "stream",
     "text": [
      "/home/martin/mambaforge/envs/stable/lib/python3.12/site-packages/tobler/util/util.py:53: UserWarning: nan values in variable: sdbAre, replacing with 0\n",
      "  warn(f\"nan values in variable: {column}, replacing with 0\")\n",
      "/home/martin/mambaforge/envs/stable/lib/python3.12/site-packages/tobler/util/util.py:53: UserWarning: nan values in variable: sdbCoA, replacing with 0\n",
      "  warn(f\"nan values in variable: {column}, replacing with 0\")\n",
      "/home/martin/mambaforge/envs/stable/lib/python3.12/site-packages/tobler/util/util.py:53: UserWarning: nan values in variable: ssbCCo, replacing with 0\n",
      "  warn(f\"nan values in variable: {column}, replacing with 0\")\n",
      "/home/martin/mambaforge/envs/stable/lib/python3.12/site-packages/tobler/util/util.py:53: UserWarning: nan values in variable: ssbCor, replacing with 0\n",
      "  warn(f\"nan values in variable: {column}, replacing with 0\")\n",
      "/home/martin/mambaforge/envs/stable/lib/python3.12/site-packages/tobler/util/util.py:53: UserWarning: nan values in variable: ssbSqu, replacing with 0\n",
      "  warn(f\"nan values in variable: {column}, replacing with 0\")\n",
      "/home/martin/mambaforge/envs/stable/lib/python3.12/site-packages/tobler/util/util.py:53: UserWarning: nan values in variable: ssbERI, replacing with 0\n",
      "  warn(f\"nan values in variable: {column}, replacing with 0\")\n",
      "/home/martin/mambaforge/envs/stable/lib/python3.12/site-packages/tobler/util/util.py:53: UserWarning: nan values in variable: ssbCCM, replacing with 0\n",
      "  warn(f\"nan values in variable: {column}, replacing with 0\")\n",
      "/home/martin/mambaforge/envs/stable/lib/python3.12/site-packages/tobler/util/util.py:53: UserWarning: nan values in variable: ssbCCD, replacing with 0\n",
      "  warn(f\"nan values in variable: {column}, replacing with 0\")\n",
      "/home/martin/mambaforge/envs/stable/lib/python3.12/site-packages/tobler/util/util.py:53: UserWarning: nan values in variable: stbOri, replacing with 0\n",
      "  warn(f\"nan values in variable: {column}, replacing with 0\")\n",
      "/home/martin/mambaforge/envs/stable/lib/python3.12/site-packages/tobler/util/util.py:53: UserWarning: nan values in variable: sicCAR, replacing with 0\n",
      "  warn(f\"nan values in variable: {column}, replacing with 0\")\n",
      "/home/martin/mambaforge/envs/stable/lib/python3.12/site-packages/tobler/util/util.py:53: UserWarning: nan values in variable: stbCeA, replacing with 0\n",
      "  warn(f\"nan values in variable: {column}, replacing with 0\")\n",
      "/home/martin/mambaforge/envs/stable/lib/python3.12/site-packages/tobler/util/util.py:53: UserWarning: nan values in variable: mtbAli, replacing with 0\n",
      "  warn(f\"nan values in variable: {column}, replacing with 0\")\n",
      "/home/martin/mambaforge/envs/stable/lib/python3.12/site-packages/tobler/util/util.py:53: UserWarning: nan values in variable: mtbNDi, replacing with 0\n",
      "  warn(f\"nan values in variable: {column}, replacing with 0\")\n",
      "/home/martin/mambaforge/envs/stable/lib/python3.12/site-packages/tobler/util/util.py:53: UserWarning: nan values in variable: ltbIBD, replacing with 0\n",
      "  warn(f\"nan values in variable: {column}, replacing with 0\")\n",
      "/home/martin/mambaforge/envs/stable/lib/python3.12/site-packages/tobler/util/util.py:53: UserWarning: nan values in variable: stbSAl, replacing with 0\n",
      "  warn(f\"nan values in variable: {column}, replacing with 0\")\n"
     ]
    },
    {
     "name": "stdout",
     "output_type": "stream",
     "text": [
      "Chunk 66 done in 176.31 seconds.\n"
     ]
    },
    {
     "name": "stderr",
     "output_type": "stream",
     "text": [
      "/home/martin/mambaforge/envs/stable/lib/python3.12/site-packages/tobler/util/util.py:53: UserWarning: nan values in variable: sdbAre, replacing with 0\n",
      "  warn(f\"nan values in variable: {column}, replacing with 0\")\n",
      "/home/martin/mambaforge/envs/stable/lib/python3.12/site-packages/tobler/util/util.py:53: UserWarning: nan values in variable: sdbCoA, replacing with 0\n",
      "  warn(f\"nan values in variable: {column}, replacing with 0\")\n",
      "/home/martin/mambaforge/envs/stable/lib/python3.12/site-packages/tobler/util/util.py:53: UserWarning: nan values in variable: ssbCCo, replacing with 0\n",
      "  warn(f\"nan values in variable: {column}, replacing with 0\")\n",
      "/home/martin/mambaforge/envs/stable/lib/python3.12/site-packages/tobler/util/util.py:53: UserWarning: nan values in variable: ssbCor, replacing with 0\n",
      "  warn(f\"nan values in variable: {column}, replacing with 0\")\n",
      "/home/martin/mambaforge/envs/stable/lib/python3.12/site-packages/tobler/util/util.py:53: UserWarning: nan values in variable: ssbSqu, replacing with 0\n",
      "  warn(f\"nan values in variable: {column}, replacing with 0\")\n",
      "/home/martin/mambaforge/envs/stable/lib/python3.12/site-packages/tobler/util/util.py:53: UserWarning: nan values in variable: ssbERI, replacing with 0\n",
      "  warn(f\"nan values in variable: {column}, replacing with 0\")\n",
      "/home/martin/mambaforge/envs/stable/lib/python3.12/site-packages/tobler/util/util.py:53: UserWarning: nan values in variable: ssbCCM, replacing with 0\n",
      "  warn(f\"nan values in variable: {column}, replacing with 0\")\n",
      "/home/martin/mambaforge/envs/stable/lib/python3.12/site-packages/tobler/util/util.py:53: UserWarning: nan values in variable: ssbCCD, replacing with 0\n",
      "  warn(f\"nan values in variable: {column}, replacing with 0\")\n",
      "/home/martin/mambaforge/envs/stable/lib/python3.12/site-packages/tobler/util/util.py:53: UserWarning: nan values in variable: stbOri, replacing with 0\n",
      "  warn(f\"nan values in variable: {column}, replacing with 0\")\n",
      "/home/martin/mambaforge/envs/stable/lib/python3.12/site-packages/tobler/util/util.py:53: UserWarning: nan values in variable: sicCAR, replacing with 0\n",
      "  warn(f\"nan values in variable: {column}, replacing with 0\")\n",
      "/home/martin/mambaforge/envs/stable/lib/python3.12/site-packages/tobler/util/util.py:53: UserWarning: nan values in variable: stbCeA, replacing with 0\n",
      "  warn(f\"nan values in variable: {column}, replacing with 0\")\n",
      "/home/martin/mambaforge/envs/stable/lib/python3.12/site-packages/tobler/util/util.py:53: UserWarning: nan values in variable: mtbAli, replacing with 0\n",
      "  warn(f\"nan values in variable: {column}, replacing with 0\")\n",
      "/home/martin/mambaforge/envs/stable/lib/python3.12/site-packages/tobler/util/util.py:53: UserWarning: nan values in variable: mtbNDi, replacing with 0\n",
      "  warn(f\"nan values in variable: {column}, replacing with 0\")\n",
      "/home/martin/mambaforge/envs/stable/lib/python3.12/site-packages/tobler/util/util.py:53: UserWarning: nan values in variable: ltbIBD, replacing with 0\n",
      "  warn(f\"nan values in variable: {column}, replacing with 0\")\n",
      "/home/martin/mambaforge/envs/stable/lib/python3.12/site-packages/tobler/util/util.py:53: UserWarning: nan values in variable: stbSAl, replacing with 0\n",
      "  warn(f\"nan values in variable: {column}, replacing with 0\")\n"
     ]
    },
    {
     "name": "stdout",
     "output_type": "stream",
     "text": [
      "Chunk 67 done in 251.36 seconds.\n"
     ]
    },
    {
     "name": "stderr",
     "output_type": "stream",
     "text": [
      "/home/martin/mambaforge/envs/stable/lib/python3.12/site-packages/tobler/util/util.py:53: UserWarning: nan values in variable: sdbAre, replacing with 0\n",
      "  warn(f\"nan values in variable: {column}, replacing with 0\")\n",
      "/home/martin/mambaforge/envs/stable/lib/python3.12/site-packages/tobler/util/util.py:53: UserWarning: nan values in variable: sdbCoA, replacing with 0\n",
      "  warn(f\"nan values in variable: {column}, replacing with 0\")\n",
      "/home/martin/mambaforge/envs/stable/lib/python3.12/site-packages/tobler/util/util.py:53: UserWarning: nan values in variable: ssbCCo, replacing with 0\n",
      "  warn(f\"nan values in variable: {column}, replacing with 0\")\n",
      "/home/martin/mambaforge/envs/stable/lib/python3.12/site-packages/tobler/util/util.py:53: UserWarning: nan values in variable: ssbCor, replacing with 0\n",
      "  warn(f\"nan values in variable: {column}, replacing with 0\")\n",
      "/home/martin/mambaforge/envs/stable/lib/python3.12/site-packages/tobler/util/util.py:53: UserWarning: nan values in variable: ssbSqu, replacing with 0\n",
      "  warn(f\"nan values in variable: {column}, replacing with 0\")\n",
      "/home/martin/mambaforge/envs/stable/lib/python3.12/site-packages/tobler/util/util.py:53: UserWarning: nan values in variable: ssbERI, replacing with 0\n",
      "  warn(f\"nan values in variable: {column}, replacing with 0\")\n",
      "/home/martin/mambaforge/envs/stable/lib/python3.12/site-packages/tobler/util/util.py:53: UserWarning: nan values in variable: ssbCCM, replacing with 0\n",
      "  warn(f\"nan values in variable: {column}, replacing with 0\")\n",
      "/home/martin/mambaforge/envs/stable/lib/python3.12/site-packages/tobler/util/util.py:53: UserWarning: nan values in variable: ssbCCD, replacing with 0\n",
      "  warn(f\"nan values in variable: {column}, replacing with 0\")\n",
      "/home/martin/mambaforge/envs/stable/lib/python3.12/site-packages/tobler/util/util.py:53: UserWarning: nan values in variable: stbOri, replacing with 0\n",
      "  warn(f\"nan values in variable: {column}, replacing with 0\")\n",
      "/home/martin/mambaforge/envs/stable/lib/python3.12/site-packages/tobler/util/util.py:53: UserWarning: nan values in variable: sicCAR, replacing with 0\n",
      "  warn(f\"nan values in variable: {column}, replacing with 0\")\n",
      "/home/martin/mambaforge/envs/stable/lib/python3.12/site-packages/tobler/util/util.py:53: UserWarning: nan values in variable: stbCeA, replacing with 0\n",
      "  warn(f\"nan values in variable: {column}, replacing with 0\")\n",
      "/home/martin/mambaforge/envs/stable/lib/python3.12/site-packages/tobler/util/util.py:53: UserWarning: nan values in variable: mtbAli, replacing with 0\n",
      "  warn(f\"nan values in variable: {column}, replacing with 0\")\n",
      "/home/martin/mambaforge/envs/stable/lib/python3.12/site-packages/tobler/util/util.py:53: UserWarning: nan values in variable: mtbNDi, replacing with 0\n",
      "  warn(f\"nan values in variable: {column}, replacing with 0\")\n",
      "/home/martin/mambaforge/envs/stable/lib/python3.12/site-packages/tobler/util/util.py:53: UserWarning: nan values in variable: ltbIBD, replacing with 0\n",
      "  warn(f\"nan values in variable: {column}, replacing with 0\")\n",
      "/home/martin/mambaforge/envs/stable/lib/python3.12/site-packages/tobler/util/util.py:53: UserWarning: nan values in variable: stbSAl, replacing with 0\n",
      "  warn(f\"nan values in variable: {column}, replacing with 0\")\n",
      "/home/martin/mambaforge/envs/stable/lib/python3.12/site-packages/tobler/util/util.py:53: UserWarning: nan values in variable: lieWCe, replacing with 0\n",
      "  warn(f\"nan values in variable: {column}, replacing with 0\")\n"
     ]
    },
    {
     "name": "stdout",
     "output_type": "stream",
     "text": [
      "Chunk 68 done in 279.01 seconds.\n"
     ]
    },
    {
     "name": "stderr",
     "output_type": "stream",
     "text": [
      "/home/martin/mambaforge/envs/stable/lib/python3.12/site-packages/tobler/util/util.py:53: UserWarning: nan values in variable: sdbAre, replacing with 0\n",
      "  warn(f\"nan values in variable: {column}, replacing with 0\")\n",
      "/home/martin/mambaforge/envs/stable/lib/python3.12/site-packages/tobler/util/util.py:53: UserWarning: nan values in variable: sdbCoA, replacing with 0\n",
      "  warn(f\"nan values in variable: {column}, replacing with 0\")\n",
      "/home/martin/mambaforge/envs/stable/lib/python3.12/site-packages/tobler/util/util.py:53: UserWarning: nan values in variable: ssbCCo, replacing with 0\n",
      "  warn(f\"nan values in variable: {column}, replacing with 0\")\n",
      "/home/martin/mambaforge/envs/stable/lib/python3.12/site-packages/tobler/util/util.py:53: UserWarning: nan values in variable: ssbCor, replacing with 0\n",
      "  warn(f\"nan values in variable: {column}, replacing with 0\")\n",
      "/home/martin/mambaforge/envs/stable/lib/python3.12/site-packages/tobler/util/util.py:53: UserWarning: nan values in variable: ssbSqu, replacing with 0\n",
      "  warn(f\"nan values in variable: {column}, replacing with 0\")\n",
      "/home/martin/mambaforge/envs/stable/lib/python3.12/site-packages/tobler/util/util.py:53: UserWarning: nan values in variable: ssbERI, replacing with 0\n",
      "  warn(f\"nan values in variable: {column}, replacing with 0\")\n",
      "/home/martin/mambaforge/envs/stable/lib/python3.12/site-packages/tobler/util/util.py:53: UserWarning: nan values in variable: ssbCCM, replacing with 0\n",
      "  warn(f\"nan values in variable: {column}, replacing with 0\")\n",
      "/home/martin/mambaforge/envs/stable/lib/python3.12/site-packages/tobler/util/util.py:53: UserWarning: nan values in variable: ssbCCD, replacing with 0\n",
      "  warn(f\"nan values in variable: {column}, replacing with 0\")\n",
      "/home/martin/mambaforge/envs/stable/lib/python3.12/site-packages/tobler/util/util.py:53: UserWarning: nan values in variable: stbOri, replacing with 0\n",
      "  warn(f\"nan values in variable: {column}, replacing with 0\")\n",
      "/home/martin/mambaforge/envs/stable/lib/python3.12/site-packages/tobler/util/util.py:53: UserWarning: nan values in variable: sicCAR, replacing with 0\n",
      "  warn(f\"nan values in variable: {column}, replacing with 0\")\n",
      "/home/martin/mambaforge/envs/stable/lib/python3.12/site-packages/tobler/util/util.py:53: UserWarning: nan values in variable: stbCeA, replacing with 0\n",
      "  warn(f\"nan values in variable: {column}, replacing with 0\")\n",
      "/home/martin/mambaforge/envs/stable/lib/python3.12/site-packages/tobler/util/util.py:53: UserWarning: nan values in variable: mtbAli, replacing with 0\n",
      "  warn(f\"nan values in variable: {column}, replacing with 0\")\n",
      "/home/martin/mambaforge/envs/stable/lib/python3.12/site-packages/tobler/util/util.py:53: UserWarning: nan values in variable: mtbNDi, replacing with 0\n",
      "  warn(f\"nan values in variable: {column}, replacing with 0\")\n",
      "/home/martin/mambaforge/envs/stable/lib/python3.12/site-packages/tobler/util/util.py:53: UserWarning: nan values in variable: stbSAl, replacing with 0\n",
      "  warn(f\"nan values in variable: {column}, replacing with 0\")\n",
      "/home/martin/mambaforge/envs/stable/lib/python3.12/site-packages/tobler/util/util.py:53: UserWarning: nan values in variable: lieWCe, replacing with 0\n",
      "  warn(f\"nan values in variable: {column}, replacing with 0\")\n"
     ]
    },
    {
     "name": "stdout",
     "output_type": "stream",
     "text": [
      "Chunk 69 done in 365.68 seconds.\n"
     ]
    },
    {
     "name": "stderr",
     "output_type": "stream",
     "text": [
      "/home/martin/mambaforge/envs/stable/lib/python3.12/site-packages/tobler/util/util.py:53: UserWarning: nan values in variable: sdbAre, replacing with 0\n",
      "  warn(f\"nan values in variable: {column}, replacing with 0\")\n",
      "/home/martin/mambaforge/envs/stable/lib/python3.12/site-packages/tobler/util/util.py:53: UserWarning: nan values in variable: sdbCoA, replacing with 0\n",
      "  warn(f\"nan values in variable: {column}, replacing with 0\")\n",
      "/home/martin/mambaforge/envs/stable/lib/python3.12/site-packages/tobler/util/util.py:53: UserWarning: nan values in variable: ssbCCo, replacing with 0\n",
      "  warn(f\"nan values in variable: {column}, replacing with 0\")\n",
      "/home/martin/mambaforge/envs/stable/lib/python3.12/site-packages/tobler/util/util.py:53: UserWarning: nan values in variable: ssbCor, replacing with 0\n",
      "  warn(f\"nan values in variable: {column}, replacing with 0\")\n",
      "/home/martin/mambaforge/envs/stable/lib/python3.12/site-packages/tobler/util/util.py:53: UserWarning: nan values in variable: ssbSqu, replacing with 0\n",
      "  warn(f\"nan values in variable: {column}, replacing with 0\")\n",
      "/home/martin/mambaforge/envs/stable/lib/python3.12/site-packages/tobler/util/util.py:53: UserWarning: nan values in variable: ssbERI, replacing with 0\n",
      "  warn(f\"nan values in variable: {column}, replacing with 0\")\n",
      "/home/martin/mambaforge/envs/stable/lib/python3.12/site-packages/tobler/util/util.py:53: UserWarning: nan values in variable: ssbCCM, replacing with 0\n",
      "  warn(f\"nan values in variable: {column}, replacing with 0\")\n",
      "/home/martin/mambaforge/envs/stable/lib/python3.12/site-packages/tobler/util/util.py:53: UserWarning: nan values in variable: ssbCCD, replacing with 0\n",
      "  warn(f\"nan values in variable: {column}, replacing with 0\")\n",
      "/home/martin/mambaforge/envs/stable/lib/python3.12/site-packages/tobler/util/util.py:53: UserWarning: nan values in variable: stbOri, replacing with 0\n",
      "  warn(f\"nan values in variable: {column}, replacing with 0\")\n",
      "/home/martin/mambaforge/envs/stable/lib/python3.12/site-packages/tobler/util/util.py:53: UserWarning: nan values in variable: sicCAR, replacing with 0\n",
      "  warn(f\"nan values in variable: {column}, replacing with 0\")\n",
      "/home/martin/mambaforge/envs/stable/lib/python3.12/site-packages/tobler/util/util.py:53: UserWarning: nan values in variable: stbCeA, replacing with 0\n",
      "  warn(f\"nan values in variable: {column}, replacing with 0\")\n",
      "/home/martin/mambaforge/envs/stable/lib/python3.12/site-packages/tobler/util/util.py:53: UserWarning: nan values in variable: mtbAli, replacing with 0\n",
      "  warn(f\"nan values in variable: {column}, replacing with 0\")\n",
      "/home/martin/mambaforge/envs/stable/lib/python3.12/site-packages/tobler/util/util.py:53: UserWarning: nan values in variable: mtbNDi, replacing with 0\n",
      "  warn(f\"nan values in variable: {column}, replacing with 0\")\n",
      "/home/martin/mambaforge/envs/stable/lib/python3.12/site-packages/tobler/util/util.py:53: UserWarning: nan values in variable: stbSAl, replacing with 0\n",
      "  warn(f\"nan values in variable: {column}, replacing with 0\")\n",
      "/home/martin/mambaforge/envs/stable/lib/python3.12/site-packages/tobler/util/util.py:53: UserWarning: nan values in variable: lieWCe, replacing with 0\n",
      "  warn(f\"nan values in variable: {column}, replacing with 0\")\n"
     ]
    },
    {
     "name": "stdout",
     "output_type": "stream",
     "text": [
      "Chunk 70 done in 189.79 seconds.\n"
     ]
    },
    {
     "name": "stderr",
     "output_type": "stream",
     "text": [
      "/home/martin/mambaforge/envs/stable/lib/python3.12/site-packages/tobler/util/util.py:53: UserWarning: nan values in variable: sdbAre, replacing with 0\n",
      "  warn(f\"nan values in variable: {column}, replacing with 0\")\n",
      "/home/martin/mambaforge/envs/stable/lib/python3.12/site-packages/tobler/util/util.py:53: UserWarning: nan values in variable: sdbCoA, replacing with 0\n",
      "  warn(f\"nan values in variable: {column}, replacing with 0\")\n",
      "/home/martin/mambaforge/envs/stable/lib/python3.12/site-packages/tobler/util/util.py:53: UserWarning: nan values in variable: ssbCCo, replacing with 0\n",
      "  warn(f\"nan values in variable: {column}, replacing with 0\")\n",
      "/home/martin/mambaforge/envs/stable/lib/python3.12/site-packages/tobler/util/util.py:53: UserWarning: nan values in variable: ssbCor, replacing with 0\n",
      "  warn(f\"nan values in variable: {column}, replacing with 0\")\n",
      "/home/martin/mambaforge/envs/stable/lib/python3.12/site-packages/tobler/util/util.py:53: UserWarning: nan values in variable: ssbSqu, replacing with 0\n",
      "  warn(f\"nan values in variable: {column}, replacing with 0\")\n",
      "/home/martin/mambaforge/envs/stable/lib/python3.12/site-packages/tobler/util/util.py:53: UserWarning: nan values in variable: ssbERI, replacing with 0\n",
      "  warn(f\"nan values in variable: {column}, replacing with 0\")\n",
      "/home/martin/mambaforge/envs/stable/lib/python3.12/site-packages/tobler/util/util.py:53: UserWarning: nan values in variable: ssbCCM, replacing with 0\n",
      "  warn(f\"nan values in variable: {column}, replacing with 0\")\n",
      "/home/martin/mambaforge/envs/stable/lib/python3.12/site-packages/tobler/util/util.py:53: UserWarning: nan values in variable: ssbCCD, replacing with 0\n",
      "  warn(f\"nan values in variable: {column}, replacing with 0\")\n",
      "/home/martin/mambaforge/envs/stable/lib/python3.12/site-packages/tobler/util/util.py:53: UserWarning: nan values in variable: stbOri, replacing with 0\n",
      "  warn(f\"nan values in variable: {column}, replacing with 0\")\n",
      "/home/martin/mambaforge/envs/stable/lib/python3.12/site-packages/tobler/util/util.py:53: UserWarning: nan values in variable: sicCAR, replacing with 0\n",
      "  warn(f\"nan values in variable: {column}, replacing with 0\")\n",
      "/home/martin/mambaforge/envs/stable/lib/python3.12/site-packages/tobler/util/util.py:53: UserWarning: nan values in variable: stbCeA, replacing with 0\n",
      "  warn(f\"nan values in variable: {column}, replacing with 0\")\n",
      "/home/martin/mambaforge/envs/stable/lib/python3.12/site-packages/tobler/util/util.py:53: UserWarning: nan values in variable: mtbAli, replacing with 0\n",
      "  warn(f\"nan values in variable: {column}, replacing with 0\")\n",
      "/home/martin/mambaforge/envs/stable/lib/python3.12/site-packages/tobler/util/util.py:53: UserWarning: nan values in variable: mtbNDi, replacing with 0\n",
      "  warn(f\"nan values in variable: {column}, replacing with 0\")\n",
      "/home/martin/mambaforge/envs/stable/lib/python3.12/site-packages/tobler/util/util.py:53: UserWarning: nan values in variable: stbSAl, replacing with 0\n",
      "  warn(f\"nan values in variable: {column}, replacing with 0\")\n",
      "/home/martin/mambaforge/envs/stable/lib/python3.12/site-packages/tobler/util/util.py:53: UserWarning: nan values in variable: lieWCe, replacing with 0\n",
      "  warn(f\"nan values in variable: {column}, replacing with 0\")\n"
     ]
    },
    {
     "name": "stdout",
     "output_type": "stream",
     "text": [
      "Chunk 71 done in 153.24 seconds.\n"
     ]
    },
    {
     "name": "stderr",
     "output_type": "stream",
     "text": [
      "/home/martin/mambaforge/envs/stable/lib/python3.12/site-packages/tobler/util/util.py:53: UserWarning: nan values in variable: sdbAre, replacing with 0\n",
      "  warn(f\"nan values in variable: {column}, replacing with 0\")\n",
      "/home/martin/mambaforge/envs/stable/lib/python3.12/site-packages/tobler/util/util.py:53: UserWarning: nan values in variable: sdbCoA, replacing with 0\n",
      "  warn(f\"nan values in variable: {column}, replacing with 0\")\n",
      "/home/martin/mambaforge/envs/stable/lib/python3.12/site-packages/tobler/util/util.py:53: UserWarning: nan values in variable: ssbCCo, replacing with 0\n",
      "  warn(f\"nan values in variable: {column}, replacing with 0\")\n",
      "/home/martin/mambaforge/envs/stable/lib/python3.12/site-packages/tobler/util/util.py:53: UserWarning: nan values in variable: ssbCor, replacing with 0\n",
      "  warn(f\"nan values in variable: {column}, replacing with 0\")\n",
      "/home/martin/mambaforge/envs/stable/lib/python3.12/site-packages/tobler/util/util.py:53: UserWarning: nan values in variable: ssbSqu, replacing with 0\n",
      "  warn(f\"nan values in variable: {column}, replacing with 0\")\n",
      "/home/martin/mambaforge/envs/stable/lib/python3.12/site-packages/tobler/util/util.py:53: UserWarning: nan values in variable: ssbERI, replacing with 0\n",
      "  warn(f\"nan values in variable: {column}, replacing with 0\")\n",
      "/home/martin/mambaforge/envs/stable/lib/python3.12/site-packages/tobler/util/util.py:53: UserWarning: nan values in variable: ssbCCM, replacing with 0\n",
      "  warn(f\"nan values in variable: {column}, replacing with 0\")\n",
      "/home/martin/mambaforge/envs/stable/lib/python3.12/site-packages/tobler/util/util.py:53: UserWarning: nan values in variable: ssbCCD, replacing with 0\n",
      "  warn(f\"nan values in variable: {column}, replacing with 0\")\n",
      "/home/martin/mambaforge/envs/stable/lib/python3.12/site-packages/tobler/util/util.py:53: UserWarning: nan values in variable: stbOri, replacing with 0\n",
      "  warn(f\"nan values in variable: {column}, replacing with 0\")\n",
      "/home/martin/mambaforge/envs/stable/lib/python3.12/site-packages/tobler/util/util.py:53: UserWarning: nan values in variable: sicCAR, replacing with 0\n",
      "  warn(f\"nan values in variable: {column}, replacing with 0\")\n",
      "/home/martin/mambaforge/envs/stable/lib/python3.12/site-packages/tobler/util/util.py:53: UserWarning: nan values in variable: stbCeA, replacing with 0\n",
      "  warn(f\"nan values in variable: {column}, replacing with 0\")\n",
      "/home/martin/mambaforge/envs/stable/lib/python3.12/site-packages/tobler/util/util.py:53: UserWarning: nan values in variable: mtbAli, replacing with 0\n",
      "  warn(f\"nan values in variable: {column}, replacing with 0\")\n",
      "/home/martin/mambaforge/envs/stable/lib/python3.12/site-packages/tobler/util/util.py:53: UserWarning: nan values in variable: mtbNDi, replacing with 0\n",
      "  warn(f\"nan values in variable: {column}, replacing with 0\")\n",
      "/home/martin/mambaforge/envs/stable/lib/python3.12/site-packages/tobler/util/util.py:53: UserWarning: nan values in variable: stbSAl, replacing with 0\n",
      "  warn(f\"nan values in variable: {column}, replacing with 0\")\n",
      "/home/martin/mambaforge/envs/stable/lib/python3.12/site-packages/tobler/util/util.py:53: UserWarning: nan values in variable: lieWCe, replacing with 0\n",
      "  warn(f\"nan values in variable: {column}, replacing with 0\")\n"
     ]
    },
    {
     "name": "stdout",
     "output_type": "stream",
     "text": [
      "Chunk 72 done in 129.99 seconds.\n"
     ]
    },
    {
     "name": "stderr",
     "output_type": "stream",
     "text": [
      "/home/martin/mambaforge/envs/stable/lib/python3.12/site-packages/tobler/util/util.py:53: UserWarning: nan values in variable: sdbAre, replacing with 0\n",
      "  warn(f\"nan values in variable: {column}, replacing with 0\")\n",
      "/home/martin/mambaforge/envs/stable/lib/python3.12/site-packages/tobler/util/util.py:53: UserWarning: nan values in variable: sdbCoA, replacing with 0\n",
      "  warn(f\"nan values in variable: {column}, replacing with 0\")\n",
      "/home/martin/mambaforge/envs/stable/lib/python3.12/site-packages/tobler/util/util.py:53: UserWarning: nan values in variable: ssbCCo, replacing with 0\n",
      "  warn(f\"nan values in variable: {column}, replacing with 0\")\n",
      "/home/martin/mambaforge/envs/stable/lib/python3.12/site-packages/tobler/util/util.py:53: UserWarning: nan values in variable: ssbCor, replacing with 0\n",
      "  warn(f\"nan values in variable: {column}, replacing with 0\")\n",
      "/home/martin/mambaforge/envs/stable/lib/python3.12/site-packages/tobler/util/util.py:53: UserWarning: nan values in variable: ssbSqu, replacing with 0\n",
      "  warn(f\"nan values in variable: {column}, replacing with 0\")\n",
      "/home/martin/mambaforge/envs/stable/lib/python3.12/site-packages/tobler/util/util.py:53: UserWarning: nan values in variable: ssbERI, replacing with 0\n",
      "  warn(f\"nan values in variable: {column}, replacing with 0\")\n",
      "/home/martin/mambaforge/envs/stable/lib/python3.12/site-packages/tobler/util/util.py:53: UserWarning: nan values in variable: ssbCCM, replacing with 0\n",
      "  warn(f\"nan values in variable: {column}, replacing with 0\")\n",
      "/home/martin/mambaforge/envs/stable/lib/python3.12/site-packages/tobler/util/util.py:53: UserWarning: nan values in variable: ssbCCD, replacing with 0\n",
      "  warn(f\"nan values in variable: {column}, replacing with 0\")\n",
      "/home/martin/mambaforge/envs/stable/lib/python3.12/site-packages/tobler/util/util.py:53: UserWarning: nan values in variable: stbOri, replacing with 0\n",
      "  warn(f\"nan values in variable: {column}, replacing with 0\")\n",
      "/home/martin/mambaforge/envs/stable/lib/python3.12/site-packages/tobler/util/util.py:53: UserWarning: nan values in variable: sicCAR, replacing with 0\n",
      "  warn(f\"nan values in variable: {column}, replacing with 0\")\n",
      "/home/martin/mambaforge/envs/stable/lib/python3.12/site-packages/tobler/util/util.py:53: UserWarning: nan values in variable: stbCeA, replacing with 0\n",
      "  warn(f\"nan values in variable: {column}, replacing with 0\")\n",
      "/home/martin/mambaforge/envs/stable/lib/python3.12/site-packages/tobler/util/util.py:53: UserWarning: nan values in variable: mtbAli, replacing with 0\n",
      "  warn(f\"nan values in variable: {column}, replacing with 0\")\n",
      "/home/martin/mambaforge/envs/stable/lib/python3.12/site-packages/tobler/util/util.py:53: UserWarning: nan values in variable: mtbNDi, replacing with 0\n",
      "  warn(f\"nan values in variable: {column}, replacing with 0\")\n",
      "/home/martin/mambaforge/envs/stable/lib/python3.12/site-packages/tobler/util/util.py:53: UserWarning: nan values in variable: stbSAl, replacing with 0\n",
      "  warn(f\"nan values in variable: {column}, replacing with 0\")\n",
      "/home/martin/mambaforge/envs/stable/lib/python3.12/site-packages/tobler/util/util.py:53: UserWarning: nan values in variable: lieWCe, replacing with 0\n",
      "  warn(f\"nan values in variable: {column}, replacing with 0\")\n"
     ]
    },
    {
     "name": "stdout",
     "output_type": "stream",
     "text": [
      "Chunk 73 done in 187.05 seconds.\n"
     ]
    },
    {
     "name": "stderr",
     "output_type": "stream",
     "text": [
      "/home/martin/mambaforge/envs/stable/lib/python3.12/site-packages/tobler/util/util.py:53: UserWarning: nan values in variable: sdbAre, replacing with 0\n",
      "  warn(f\"nan values in variable: {column}, replacing with 0\")\n",
      "/home/martin/mambaforge/envs/stable/lib/python3.12/site-packages/tobler/util/util.py:53: UserWarning: nan values in variable: sdbCoA, replacing with 0\n",
      "  warn(f\"nan values in variable: {column}, replacing with 0\")\n",
      "/home/martin/mambaforge/envs/stable/lib/python3.12/site-packages/tobler/util/util.py:53: UserWarning: nan values in variable: ssbCCo, replacing with 0\n",
      "  warn(f\"nan values in variable: {column}, replacing with 0\")\n",
      "/home/martin/mambaforge/envs/stable/lib/python3.12/site-packages/tobler/util/util.py:53: UserWarning: nan values in variable: ssbCor, replacing with 0\n",
      "  warn(f\"nan values in variable: {column}, replacing with 0\")\n",
      "/home/martin/mambaforge/envs/stable/lib/python3.12/site-packages/tobler/util/util.py:53: UserWarning: nan values in variable: ssbSqu, replacing with 0\n",
      "  warn(f\"nan values in variable: {column}, replacing with 0\")\n",
      "/home/martin/mambaforge/envs/stable/lib/python3.12/site-packages/tobler/util/util.py:53: UserWarning: nan values in variable: ssbERI, replacing with 0\n",
      "  warn(f\"nan values in variable: {column}, replacing with 0\")\n",
      "/home/martin/mambaforge/envs/stable/lib/python3.12/site-packages/tobler/util/util.py:53: UserWarning: nan values in variable: ssbCCM, replacing with 0\n",
      "  warn(f\"nan values in variable: {column}, replacing with 0\")\n",
      "/home/martin/mambaforge/envs/stable/lib/python3.12/site-packages/tobler/util/util.py:53: UserWarning: nan values in variable: ssbCCD, replacing with 0\n",
      "  warn(f\"nan values in variable: {column}, replacing with 0\")\n",
      "/home/martin/mambaforge/envs/stable/lib/python3.12/site-packages/tobler/util/util.py:53: UserWarning: nan values in variable: stbOri, replacing with 0\n",
      "  warn(f\"nan values in variable: {column}, replacing with 0\")\n",
      "/home/martin/mambaforge/envs/stable/lib/python3.12/site-packages/tobler/util/util.py:53: UserWarning: nan values in variable: sicCAR, replacing with 0\n",
      "  warn(f\"nan values in variable: {column}, replacing with 0\")\n",
      "/home/martin/mambaforge/envs/stable/lib/python3.12/site-packages/tobler/util/util.py:53: UserWarning: nan values in variable: stbCeA, replacing with 0\n",
      "  warn(f\"nan values in variable: {column}, replacing with 0\")\n",
      "/home/martin/mambaforge/envs/stable/lib/python3.12/site-packages/tobler/util/util.py:53: UserWarning: nan values in variable: mtbAli, replacing with 0\n",
      "  warn(f\"nan values in variable: {column}, replacing with 0\")\n",
      "/home/martin/mambaforge/envs/stable/lib/python3.12/site-packages/tobler/util/util.py:53: UserWarning: nan values in variable: mtbNDi, replacing with 0\n",
      "  warn(f\"nan values in variable: {column}, replacing with 0\")\n",
      "/home/martin/mambaforge/envs/stable/lib/python3.12/site-packages/tobler/util/util.py:53: UserWarning: nan values in variable: ltbIBD, replacing with 0\n",
      "  warn(f\"nan values in variable: {column}, replacing with 0\")\n",
      "/home/martin/mambaforge/envs/stable/lib/python3.12/site-packages/tobler/util/util.py:53: UserWarning: nan values in variable: stbSAl, replacing with 0\n",
      "  warn(f\"nan values in variable: {column}, replacing with 0\")\n",
      "/home/martin/mambaforge/envs/stable/lib/python3.12/site-packages/tobler/util/util.py:53: UserWarning: nan values in variable: lieWCe, replacing with 0\n",
      "  warn(f\"nan values in variable: {column}, replacing with 0\")\n"
     ]
    },
    {
     "name": "stdout",
     "output_type": "stream",
     "text": [
      "Chunk 74 done in 169.16 seconds.\n"
     ]
    },
    {
     "name": "stderr",
     "output_type": "stream",
     "text": [
      "/home/martin/mambaforge/envs/stable/lib/python3.12/site-packages/tobler/util/util.py:53: UserWarning: nan values in variable: sdbAre, replacing with 0\n",
      "  warn(f\"nan values in variable: {column}, replacing with 0\")\n",
      "/home/martin/mambaforge/envs/stable/lib/python3.12/site-packages/tobler/util/util.py:53: UserWarning: nan values in variable: sdbCoA, replacing with 0\n",
      "  warn(f\"nan values in variable: {column}, replacing with 0\")\n",
      "/home/martin/mambaforge/envs/stable/lib/python3.12/site-packages/tobler/util/util.py:53: UserWarning: nan values in variable: ssbCCo, replacing with 0\n",
      "  warn(f\"nan values in variable: {column}, replacing with 0\")\n",
      "/home/martin/mambaforge/envs/stable/lib/python3.12/site-packages/tobler/util/util.py:53: UserWarning: nan values in variable: ssbCor, replacing with 0\n",
      "  warn(f\"nan values in variable: {column}, replacing with 0\")\n",
      "/home/martin/mambaforge/envs/stable/lib/python3.12/site-packages/tobler/util/util.py:53: UserWarning: nan values in variable: ssbSqu, replacing with 0\n",
      "  warn(f\"nan values in variable: {column}, replacing with 0\")\n",
      "/home/martin/mambaforge/envs/stable/lib/python3.12/site-packages/tobler/util/util.py:53: UserWarning: nan values in variable: ssbERI, replacing with 0\n",
      "  warn(f\"nan values in variable: {column}, replacing with 0\")\n",
      "/home/martin/mambaforge/envs/stable/lib/python3.12/site-packages/tobler/util/util.py:53: UserWarning: nan values in variable: ssbCCM, replacing with 0\n",
      "  warn(f\"nan values in variable: {column}, replacing with 0\")\n",
      "/home/martin/mambaforge/envs/stable/lib/python3.12/site-packages/tobler/util/util.py:53: UserWarning: nan values in variable: ssbCCD, replacing with 0\n",
      "  warn(f\"nan values in variable: {column}, replacing with 0\")\n",
      "/home/martin/mambaforge/envs/stable/lib/python3.12/site-packages/tobler/util/util.py:53: UserWarning: nan values in variable: stbOri, replacing with 0\n",
      "  warn(f\"nan values in variable: {column}, replacing with 0\")\n",
      "/home/martin/mambaforge/envs/stable/lib/python3.12/site-packages/tobler/util/util.py:53: UserWarning: nan values in variable: sicCAR, replacing with 0\n",
      "  warn(f\"nan values in variable: {column}, replacing with 0\")\n",
      "/home/martin/mambaforge/envs/stable/lib/python3.12/site-packages/tobler/util/util.py:53: UserWarning: nan values in variable: stbCeA, replacing with 0\n",
      "  warn(f\"nan values in variable: {column}, replacing with 0\")\n",
      "/home/martin/mambaforge/envs/stable/lib/python3.12/site-packages/tobler/util/util.py:53: UserWarning: nan values in variable: mtbAli, replacing with 0\n",
      "  warn(f\"nan values in variable: {column}, replacing with 0\")\n",
      "/home/martin/mambaforge/envs/stable/lib/python3.12/site-packages/tobler/util/util.py:53: UserWarning: nan values in variable: mtbNDi, replacing with 0\n",
      "  warn(f\"nan values in variable: {column}, replacing with 0\")\n",
      "/home/martin/mambaforge/envs/stable/lib/python3.12/site-packages/tobler/util/util.py:53: UserWarning: nan values in variable: ltbIBD, replacing with 0\n",
      "  warn(f\"nan values in variable: {column}, replacing with 0\")\n",
      "/home/martin/mambaforge/envs/stable/lib/python3.12/site-packages/tobler/util/util.py:53: UserWarning: nan values in variable: stbSAl, replacing with 0\n",
      "  warn(f\"nan values in variable: {column}, replacing with 0\")\n",
      "/home/martin/mambaforge/envs/stable/lib/python3.12/site-packages/tobler/util/util.py:53: UserWarning: nan values in variable: lieWCe, replacing with 0\n",
      "  warn(f\"nan values in variable: {column}, replacing with 0\")\n"
     ]
    },
    {
     "name": "stdout",
     "output_type": "stream",
     "text": [
      "Chunk 75 done in 203.30 seconds.\n"
     ]
    },
    {
     "name": "stderr",
     "output_type": "stream",
     "text": [
      "/home/martin/mambaforge/envs/stable/lib/python3.12/site-packages/tobler/util/util.py:53: UserWarning: nan values in variable: sdbAre, replacing with 0\n",
      "  warn(f\"nan values in variable: {column}, replacing with 0\")\n",
      "/home/martin/mambaforge/envs/stable/lib/python3.12/site-packages/tobler/util/util.py:53: UserWarning: nan values in variable: sdbCoA, replacing with 0\n",
      "  warn(f\"nan values in variable: {column}, replacing with 0\")\n",
      "/home/martin/mambaforge/envs/stable/lib/python3.12/site-packages/tobler/util/util.py:53: UserWarning: nan values in variable: ssbCCo, replacing with 0\n",
      "  warn(f\"nan values in variable: {column}, replacing with 0\")\n",
      "/home/martin/mambaforge/envs/stable/lib/python3.12/site-packages/tobler/util/util.py:53: UserWarning: nan values in variable: ssbCor, replacing with 0\n",
      "  warn(f\"nan values in variable: {column}, replacing with 0\")\n",
      "/home/martin/mambaforge/envs/stable/lib/python3.12/site-packages/tobler/util/util.py:53: UserWarning: nan values in variable: ssbSqu, replacing with 0\n",
      "  warn(f\"nan values in variable: {column}, replacing with 0\")\n",
      "/home/martin/mambaforge/envs/stable/lib/python3.12/site-packages/tobler/util/util.py:53: UserWarning: nan values in variable: ssbERI, replacing with 0\n",
      "  warn(f\"nan values in variable: {column}, replacing with 0\")\n",
      "/home/martin/mambaforge/envs/stable/lib/python3.12/site-packages/tobler/util/util.py:53: UserWarning: nan values in variable: ssbCCM, replacing with 0\n",
      "  warn(f\"nan values in variable: {column}, replacing with 0\")\n",
      "/home/martin/mambaforge/envs/stable/lib/python3.12/site-packages/tobler/util/util.py:53: UserWarning: nan values in variable: ssbCCD, replacing with 0\n",
      "  warn(f\"nan values in variable: {column}, replacing with 0\")\n",
      "/home/martin/mambaforge/envs/stable/lib/python3.12/site-packages/tobler/util/util.py:53: UserWarning: nan values in variable: stbOri, replacing with 0\n",
      "  warn(f\"nan values in variable: {column}, replacing with 0\")\n",
      "/home/martin/mambaforge/envs/stable/lib/python3.12/site-packages/tobler/util/util.py:53: UserWarning: nan values in variable: sicCAR, replacing with 0\n",
      "  warn(f\"nan values in variable: {column}, replacing with 0\")\n",
      "/home/martin/mambaforge/envs/stable/lib/python3.12/site-packages/tobler/util/util.py:53: UserWarning: nan values in variable: stbCeA, replacing with 0\n",
      "  warn(f\"nan values in variable: {column}, replacing with 0\")\n",
      "/home/martin/mambaforge/envs/stable/lib/python3.12/site-packages/tobler/util/util.py:53: UserWarning: nan values in variable: mtbAli, replacing with 0\n",
      "  warn(f\"nan values in variable: {column}, replacing with 0\")\n",
      "/home/martin/mambaforge/envs/stable/lib/python3.12/site-packages/tobler/util/util.py:53: UserWarning: nan values in variable: mtbNDi, replacing with 0\n",
      "  warn(f\"nan values in variable: {column}, replacing with 0\")\n",
      "/home/martin/mambaforge/envs/stable/lib/python3.12/site-packages/tobler/util/util.py:53: UserWarning: nan values in variable: stbSAl, replacing with 0\n",
      "  warn(f\"nan values in variable: {column}, replacing with 0\")\n",
      "/home/martin/mambaforge/envs/stable/lib/python3.12/site-packages/tobler/util/util.py:53: UserWarning: nan values in variable: lieWCe, replacing with 0\n",
      "  warn(f\"nan values in variable: {column}, replacing with 0\")\n"
     ]
    },
    {
     "name": "stdout",
     "output_type": "stream",
     "text": [
      "Chunk 76 done in 150.70 seconds.\n"
     ]
    },
    {
     "name": "stderr",
     "output_type": "stream",
     "text": [
      "/home/martin/mambaforge/envs/stable/lib/python3.12/site-packages/tobler/util/util.py:53: UserWarning: nan values in variable: sdbAre, replacing with 0\n",
      "  warn(f\"nan values in variable: {column}, replacing with 0\")\n",
      "/home/martin/mambaforge/envs/stable/lib/python3.12/site-packages/tobler/util/util.py:53: UserWarning: nan values in variable: sdbCoA, replacing with 0\n",
      "  warn(f\"nan values in variable: {column}, replacing with 0\")\n",
      "/home/martin/mambaforge/envs/stable/lib/python3.12/site-packages/tobler/util/util.py:53: UserWarning: nan values in variable: ssbCCo, replacing with 0\n",
      "  warn(f\"nan values in variable: {column}, replacing with 0\")\n",
      "/home/martin/mambaforge/envs/stable/lib/python3.12/site-packages/tobler/util/util.py:53: UserWarning: nan values in variable: ssbCor, replacing with 0\n",
      "  warn(f\"nan values in variable: {column}, replacing with 0\")\n",
      "/home/martin/mambaforge/envs/stable/lib/python3.12/site-packages/tobler/util/util.py:53: UserWarning: nan values in variable: ssbSqu, replacing with 0\n",
      "  warn(f\"nan values in variable: {column}, replacing with 0\")\n",
      "/home/martin/mambaforge/envs/stable/lib/python3.12/site-packages/tobler/util/util.py:53: UserWarning: nan values in variable: ssbERI, replacing with 0\n",
      "  warn(f\"nan values in variable: {column}, replacing with 0\")\n",
      "/home/martin/mambaforge/envs/stable/lib/python3.12/site-packages/tobler/util/util.py:53: UserWarning: nan values in variable: ssbCCM, replacing with 0\n",
      "  warn(f\"nan values in variable: {column}, replacing with 0\")\n",
      "/home/martin/mambaforge/envs/stable/lib/python3.12/site-packages/tobler/util/util.py:53: UserWarning: nan values in variable: ssbCCD, replacing with 0\n",
      "  warn(f\"nan values in variable: {column}, replacing with 0\")\n",
      "/home/martin/mambaforge/envs/stable/lib/python3.12/site-packages/tobler/util/util.py:53: UserWarning: nan values in variable: stbOri, replacing with 0\n",
      "  warn(f\"nan values in variable: {column}, replacing with 0\")\n",
      "/home/martin/mambaforge/envs/stable/lib/python3.12/site-packages/tobler/util/util.py:53: UserWarning: nan values in variable: sicCAR, replacing with 0\n",
      "  warn(f\"nan values in variable: {column}, replacing with 0\")\n",
      "/home/martin/mambaforge/envs/stable/lib/python3.12/site-packages/tobler/util/util.py:53: UserWarning: nan values in variable: stbCeA, replacing with 0\n",
      "  warn(f\"nan values in variable: {column}, replacing with 0\")\n",
      "/home/martin/mambaforge/envs/stable/lib/python3.12/site-packages/tobler/util/util.py:53: UserWarning: nan values in variable: mtbAli, replacing with 0\n",
      "  warn(f\"nan values in variable: {column}, replacing with 0\")\n",
      "/home/martin/mambaforge/envs/stable/lib/python3.12/site-packages/tobler/util/util.py:53: UserWarning: nan values in variable: mtbNDi, replacing with 0\n",
      "  warn(f\"nan values in variable: {column}, replacing with 0\")\n",
      "/home/martin/mambaforge/envs/stable/lib/python3.12/site-packages/tobler/util/util.py:53: UserWarning: nan values in variable: stbSAl, replacing with 0\n",
      "  warn(f\"nan values in variable: {column}, replacing with 0\")\n",
      "/home/martin/mambaforge/envs/stable/lib/python3.12/site-packages/tobler/util/util.py:53: UserWarning: nan values in variable: lieWCe, replacing with 0\n",
      "  warn(f\"nan values in variable: {column}, replacing with 0\")\n"
     ]
    },
    {
     "name": "stdout",
     "output_type": "stream",
     "text": [
      "Chunk 77 done in 145.64 seconds.\n"
     ]
    },
    {
     "name": "stderr",
     "output_type": "stream",
     "text": [
      "/home/martin/mambaforge/envs/stable/lib/python3.12/site-packages/tobler/util/util.py:53: UserWarning: nan values in variable: sdbAre, replacing with 0\n",
      "  warn(f\"nan values in variable: {column}, replacing with 0\")\n",
      "/home/martin/mambaforge/envs/stable/lib/python3.12/site-packages/tobler/util/util.py:53: UserWarning: nan values in variable: sdbCoA, replacing with 0\n",
      "  warn(f\"nan values in variable: {column}, replacing with 0\")\n",
      "/home/martin/mambaforge/envs/stable/lib/python3.12/site-packages/tobler/util/util.py:53: UserWarning: nan values in variable: ssbCCo, replacing with 0\n",
      "  warn(f\"nan values in variable: {column}, replacing with 0\")\n",
      "/home/martin/mambaforge/envs/stable/lib/python3.12/site-packages/tobler/util/util.py:53: UserWarning: nan values in variable: ssbCor, replacing with 0\n",
      "  warn(f\"nan values in variable: {column}, replacing with 0\")\n",
      "/home/martin/mambaforge/envs/stable/lib/python3.12/site-packages/tobler/util/util.py:53: UserWarning: nan values in variable: ssbSqu, replacing with 0\n",
      "  warn(f\"nan values in variable: {column}, replacing with 0\")\n",
      "/home/martin/mambaforge/envs/stable/lib/python3.12/site-packages/tobler/util/util.py:53: UserWarning: nan values in variable: ssbERI, replacing with 0\n",
      "  warn(f\"nan values in variable: {column}, replacing with 0\")\n",
      "/home/martin/mambaforge/envs/stable/lib/python3.12/site-packages/tobler/util/util.py:53: UserWarning: nan values in variable: ssbCCM, replacing with 0\n",
      "  warn(f\"nan values in variable: {column}, replacing with 0\")\n",
      "/home/martin/mambaforge/envs/stable/lib/python3.12/site-packages/tobler/util/util.py:53: UserWarning: nan values in variable: ssbCCD, replacing with 0\n",
      "  warn(f\"nan values in variable: {column}, replacing with 0\")\n",
      "/home/martin/mambaforge/envs/stable/lib/python3.12/site-packages/tobler/util/util.py:53: UserWarning: nan values in variable: stbOri, replacing with 0\n",
      "  warn(f\"nan values in variable: {column}, replacing with 0\")\n",
      "/home/martin/mambaforge/envs/stable/lib/python3.12/site-packages/tobler/util/util.py:53: UserWarning: nan values in variable: sicCAR, replacing with 0\n",
      "  warn(f\"nan values in variable: {column}, replacing with 0\")\n",
      "/home/martin/mambaforge/envs/stable/lib/python3.12/site-packages/tobler/util/util.py:53: UserWarning: nan values in variable: stbCeA, replacing with 0\n",
      "  warn(f\"nan values in variable: {column}, replacing with 0\")\n",
      "/home/martin/mambaforge/envs/stable/lib/python3.12/site-packages/tobler/util/util.py:53: UserWarning: nan values in variable: mtbAli, replacing with 0\n",
      "  warn(f\"nan values in variable: {column}, replacing with 0\")\n",
      "/home/martin/mambaforge/envs/stable/lib/python3.12/site-packages/tobler/util/util.py:53: UserWarning: nan values in variable: mtbNDi, replacing with 0\n",
      "  warn(f\"nan values in variable: {column}, replacing with 0\")\n",
      "/home/martin/mambaforge/envs/stable/lib/python3.12/site-packages/tobler/util/util.py:53: UserWarning: nan values in variable: ltbIBD, replacing with 0\n",
      "  warn(f\"nan values in variable: {column}, replacing with 0\")\n",
      "/home/martin/mambaforge/envs/stable/lib/python3.12/site-packages/tobler/util/util.py:53: UserWarning: nan values in variable: stbSAl, replacing with 0\n",
      "  warn(f\"nan values in variable: {column}, replacing with 0\")\n"
     ]
    },
    {
     "name": "stdout",
     "output_type": "stream",
     "text": [
      "Chunk 78 done in 260.61 seconds.\n"
     ]
    },
    {
     "name": "stderr",
     "output_type": "stream",
     "text": [
      "/home/martin/mambaforge/envs/stable/lib/python3.12/site-packages/tobler/util/util.py:53: UserWarning: nan values in variable: sdbAre, replacing with 0\n",
      "  warn(f\"nan values in variable: {column}, replacing with 0\")\n",
      "/home/martin/mambaforge/envs/stable/lib/python3.12/site-packages/tobler/util/util.py:53: UserWarning: nan values in variable: sdbCoA, replacing with 0\n",
      "  warn(f\"nan values in variable: {column}, replacing with 0\")\n",
      "/home/martin/mambaforge/envs/stable/lib/python3.12/site-packages/tobler/util/util.py:53: UserWarning: nan values in variable: ssbCCo, replacing with 0\n",
      "  warn(f\"nan values in variable: {column}, replacing with 0\")\n",
      "/home/martin/mambaforge/envs/stable/lib/python3.12/site-packages/tobler/util/util.py:53: UserWarning: nan values in variable: ssbCor, replacing with 0\n",
      "  warn(f\"nan values in variable: {column}, replacing with 0\")\n",
      "/home/martin/mambaforge/envs/stable/lib/python3.12/site-packages/tobler/util/util.py:53: UserWarning: nan values in variable: ssbSqu, replacing with 0\n",
      "  warn(f\"nan values in variable: {column}, replacing with 0\")\n",
      "/home/martin/mambaforge/envs/stable/lib/python3.12/site-packages/tobler/util/util.py:53: UserWarning: nan values in variable: ssbERI, replacing with 0\n",
      "  warn(f\"nan values in variable: {column}, replacing with 0\")\n",
      "/home/martin/mambaforge/envs/stable/lib/python3.12/site-packages/tobler/util/util.py:53: UserWarning: nan values in variable: ssbCCM, replacing with 0\n",
      "  warn(f\"nan values in variable: {column}, replacing with 0\")\n",
      "/home/martin/mambaforge/envs/stable/lib/python3.12/site-packages/tobler/util/util.py:53: UserWarning: nan values in variable: ssbCCD, replacing with 0\n",
      "  warn(f\"nan values in variable: {column}, replacing with 0\")\n",
      "/home/martin/mambaforge/envs/stable/lib/python3.12/site-packages/tobler/util/util.py:53: UserWarning: nan values in variable: stbOri, replacing with 0\n",
      "  warn(f\"nan values in variable: {column}, replacing with 0\")\n",
      "/home/martin/mambaforge/envs/stable/lib/python3.12/site-packages/tobler/util/util.py:53: UserWarning: nan values in variable: sicCAR, replacing with 0\n",
      "  warn(f\"nan values in variable: {column}, replacing with 0\")\n",
      "/home/martin/mambaforge/envs/stable/lib/python3.12/site-packages/tobler/util/util.py:53: UserWarning: nan values in variable: stbCeA, replacing with 0\n",
      "  warn(f\"nan values in variable: {column}, replacing with 0\")\n",
      "/home/martin/mambaforge/envs/stable/lib/python3.12/site-packages/tobler/util/util.py:53: UserWarning: nan values in variable: mtbAli, replacing with 0\n",
      "  warn(f\"nan values in variable: {column}, replacing with 0\")\n",
      "/home/martin/mambaforge/envs/stable/lib/python3.12/site-packages/tobler/util/util.py:53: UserWarning: nan values in variable: mtbNDi, replacing with 0\n",
      "  warn(f\"nan values in variable: {column}, replacing with 0\")\n",
      "/home/martin/mambaforge/envs/stable/lib/python3.12/site-packages/tobler/util/util.py:53: UserWarning: nan values in variable: ltbIBD, replacing with 0\n",
      "  warn(f\"nan values in variable: {column}, replacing with 0\")\n",
      "/home/martin/mambaforge/envs/stable/lib/python3.12/site-packages/tobler/util/util.py:53: UserWarning: nan values in variable: stbSAl, replacing with 0\n",
      "  warn(f\"nan values in variable: {column}, replacing with 0\")\n",
      "/home/martin/mambaforge/envs/stable/lib/python3.12/site-packages/tobler/util/util.py:53: UserWarning: nan values in variable: lieWCe, replacing with 0\n",
      "  warn(f\"nan values in variable: {column}, replacing with 0\")\n"
     ]
    },
    {
     "name": "stdout",
     "output_type": "stream",
     "text": [
      "Chunk 79 done in 263.17 seconds.\n"
     ]
    },
    {
     "name": "stderr",
     "output_type": "stream",
     "text": [
      "/home/martin/mambaforge/envs/stable/lib/python3.12/site-packages/tobler/util/util.py:53: UserWarning: nan values in variable: sdbAre, replacing with 0\n",
      "  warn(f\"nan values in variable: {column}, replacing with 0\")\n",
      "/home/martin/mambaforge/envs/stable/lib/python3.12/site-packages/tobler/util/util.py:53: UserWarning: nan values in variable: sdbCoA, replacing with 0\n",
      "  warn(f\"nan values in variable: {column}, replacing with 0\")\n",
      "/home/martin/mambaforge/envs/stable/lib/python3.12/site-packages/tobler/util/util.py:53: UserWarning: nan values in variable: ssbCCo, replacing with 0\n",
      "  warn(f\"nan values in variable: {column}, replacing with 0\")\n",
      "/home/martin/mambaforge/envs/stable/lib/python3.12/site-packages/tobler/util/util.py:53: UserWarning: nan values in variable: ssbCor, replacing with 0\n",
      "  warn(f\"nan values in variable: {column}, replacing with 0\")\n",
      "/home/martin/mambaforge/envs/stable/lib/python3.12/site-packages/tobler/util/util.py:53: UserWarning: nan values in variable: ssbSqu, replacing with 0\n",
      "  warn(f\"nan values in variable: {column}, replacing with 0\")\n",
      "/home/martin/mambaforge/envs/stable/lib/python3.12/site-packages/tobler/util/util.py:53: UserWarning: nan values in variable: ssbERI, replacing with 0\n",
      "  warn(f\"nan values in variable: {column}, replacing with 0\")\n",
      "/home/martin/mambaforge/envs/stable/lib/python3.12/site-packages/tobler/util/util.py:53: UserWarning: nan values in variable: ssbCCM, replacing with 0\n",
      "  warn(f\"nan values in variable: {column}, replacing with 0\")\n",
      "/home/martin/mambaforge/envs/stable/lib/python3.12/site-packages/tobler/util/util.py:53: UserWarning: nan values in variable: ssbCCD, replacing with 0\n",
      "  warn(f\"nan values in variable: {column}, replacing with 0\")\n",
      "/home/martin/mambaforge/envs/stable/lib/python3.12/site-packages/tobler/util/util.py:53: UserWarning: nan values in variable: stbOri, replacing with 0\n",
      "  warn(f\"nan values in variable: {column}, replacing with 0\")\n",
      "/home/martin/mambaforge/envs/stable/lib/python3.12/site-packages/tobler/util/util.py:53: UserWarning: nan values in variable: sicCAR, replacing with 0\n",
      "  warn(f\"nan values in variable: {column}, replacing with 0\")\n",
      "/home/martin/mambaforge/envs/stable/lib/python3.12/site-packages/tobler/util/util.py:53: UserWarning: nan values in variable: stbCeA, replacing with 0\n",
      "  warn(f\"nan values in variable: {column}, replacing with 0\")\n",
      "/home/martin/mambaforge/envs/stable/lib/python3.12/site-packages/tobler/util/util.py:53: UserWarning: nan values in variable: mtbAli, replacing with 0\n",
      "  warn(f\"nan values in variable: {column}, replacing with 0\")\n",
      "/home/martin/mambaforge/envs/stable/lib/python3.12/site-packages/tobler/util/util.py:53: UserWarning: nan values in variable: mtbNDi, replacing with 0\n",
      "  warn(f\"nan values in variable: {column}, replacing with 0\")\n",
      "/home/martin/mambaforge/envs/stable/lib/python3.12/site-packages/tobler/util/util.py:53: UserWarning: nan values in variable: stbSAl, replacing with 0\n",
      "  warn(f\"nan values in variable: {column}, replacing with 0\")\n",
      "/home/martin/mambaforge/envs/stable/lib/python3.12/site-packages/tobler/util/util.py:53: UserWarning: nan values in variable: lieWCe, replacing with 0\n",
      "  warn(f\"nan values in variable: {column}, replacing with 0\")\n"
     ]
    },
    {
     "name": "stdout",
     "output_type": "stream",
     "text": [
      "Chunk 80 done in 261.09 seconds.\n"
     ]
    },
    {
     "name": "stderr",
     "output_type": "stream",
     "text": [
      "/home/martin/mambaforge/envs/stable/lib/python3.12/site-packages/tobler/util/util.py:53: UserWarning: nan values in variable: sdbAre, replacing with 0\n",
      "  warn(f\"nan values in variable: {column}, replacing with 0\")\n",
      "/home/martin/mambaforge/envs/stable/lib/python3.12/site-packages/tobler/util/util.py:53: UserWarning: nan values in variable: sdbCoA, replacing with 0\n",
      "  warn(f\"nan values in variable: {column}, replacing with 0\")\n",
      "/home/martin/mambaforge/envs/stable/lib/python3.12/site-packages/tobler/util/util.py:53: UserWarning: nan values in variable: ssbCCo, replacing with 0\n",
      "  warn(f\"nan values in variable: {column}, replacing with 0\")\n",
      "/home/martin/mambaforge/envs/stable/lib/python3.12/site-packages/tobler/util/util.py:53: UserWarning: nan values in variable: ssbCor, replacing with 0\n",
      "  warn(f\"nan values in variable: {column}, replacing with 0\")\n",
      "/home/martin/mambaforge/envs/stable/lib/python3.12/site-packages/tobler/util/util.py:53: UserWarning: nan values in variable: ssbSqu, replacing with 0\n",
      "  warn(f\"nan values in variable: {column}, replacing with 0\")\n",
      "/home/martin/mambaforge/envs/stable/lib/python3.12/site-packages/tobler/util/util.py:53: UserWarning: nan values in variable: ssbERI, replacing with 0\n",
      "  warn(f\"nan values in variable: {column}, replacing with 0\")\n",
      "/home/martin/mambaforge/envs/stable/lib/python3.12/site-packages/tobler/util/util.py:53: UserWarning: nan values in variable: ssbCCM, replacing with 0\n",
      "  warn(f\"nan values in variable: {column}, replacing with 0\")\n",
      "/home/martin/mambaforge/envs/stable/lib/python3.12/site-packages/tobler/util/util.py:53: UserWarning: nan values in variable: ssbCCD, replacing with 0\n",
      "  warn(f\"nan values in variable: {column}, replacing with 0\")\n",
      "/home/martin/mambaforge/envs/stable/lib/python3.12/site-packages/tobler/util/util.py:53: UserWarning: nan values in variable: stbOri, replacing with 0\n",
      "  warn(f\"nan values in variable: {column}, replacing with 0\")\n",
      "/home/martin/mambaforge/envs/stable/lib/python3.12/site-packages/tobler/util/util.py:53: UserWarning: nan values in variable: sicCAR, replacing with 0\n",
      "  warn(f\"nan values in variable: {column}, replacing with 0\")\n",
      "/home/martin/mambaforge/envs/stable/lib/python3.12/site-packages/tobler/util/util.py:53: UserWarning: nan values in variable: stbCeA, replacing with 0\n",
      "  warn(f\"nan values in variable: {column}, replacing with 0\")\n",
      "/home/martin/mambaforge/envs/stable/lib/python3.12/site-packages/tobler/util/util.py:53: UserWarning: nan values in variable: mtbAli, replacing with 0\n",
      "  warn(f\"nan values in variable: {column}, replacing with 0\")\n",
      "/home/martin/mambaforge/envs/stable/lib/python3.12/site-packages/tobler/util/util.py:53: UserWarning: nan values in variable: mtbNDi, replacing with 0\n",
      "  warn(f\"nan values in variable: {column}, replacing with 0\")\n",
      "/home/martin/mambaforge/envs/stable/lib/python3.12/site-packages/tobler/util/util.py:53: UserWarning: nan values in variable: ltbIBD, replacing with 0\n",
      "  warn(f\"nan values in variable: {column}, replacing with 0\")\n",
      "/home/martin/mambaforge/envs/stable/lib/python3.12/site-packages/tobler/util/util.py:53: UserWarning: nan values in variable: stbSAl, replacing with 0\n",
      "  warn(f\"nan values in variable: {column}, replacing with 0\")\n",
      "/home/martin/mambaforge/envs/stable/lib/python3.12/site-packages/tobler/util/util.py:53: UserWarning: nan values in variable: lieWCe, replacing with 0\n",
      "  warn(f\"nan values in variable: {column}, replacing with 0\")\n"
     ]
    },
    {
     "name": "stdout",
     "output_type": "stream",
     "text": [
      "Chunk 81 done in 168.58 seconds.\n"
     ]
    },
    {
     "name": "stderr",
     "output_type": "stream",
     "text": [
      "/home/martin/mambaforge/envs/stable/lib/python3.12/site-packages/tobler/util/util.py:53: UserWarning: nan values in variable: sdbAre, replacing with 0\n",
      "  warn(f\"nan values in variable: {column}, replacing with 0\")\n",
      "/home/martin/mambaforge/envs/stable/lib/python3.12/site-packages/tobler/util/util.py:53: UserWarning: nan values in variable: sdbCoA, replacing with 0\n",
      "  warn(f\"nan values in variable: {column}, replacing with 0\")\n",
      "/home/martin/mambaforge/envs/stable/lib/python3.12/site-packages/tobler/util/util.py:53: UserWarning: nan values in variable: ssbCCo, replacing with 0\n",
      "  warn(f\"nan values in variable: {column}, replacing with 0\")\n",
      "/home/martin/mambaforge/envs/stable/lib/python3.12/site-packages/tobler/util/util.py:53: UserWarning: nan values in variable: ssbCor, replacing with 0\n",
      "  warn(f\"nan values in variable: {column}, replacing with 0\")\n",
      "/home/martin/mambaforge/envs/stable/lib/python3.12/site-packages/tobler/util/util.py:53: UserWarning: nan values in variable: ssbSqu, replacing with 0\n",
      "  warn(f\"nan values in variable: {column}, replacing with 0\")\n",
      "/home/martin/mambaforge/envs/stable/lib/python3.12/site-packages/tobler/util/util.py:53: UserWarning: nan values in variable: ssbERI, replacing with 0\n",
      "  warn(f\"nan values in variable: {column}, replacing with 0\")\n",
      "/home/martin/mambaforge/envs/stable/lib/python3.12/site-packages/tobler/util/util.py:53: UserWarning: nan values in variable: ssbCCM, replacing with 0\n",
      "  warn(f\"nan values in variable: {column}, replacing with 0\")\n",
      "/home/martin/mambaforge/envs/stable/lib/python3.12/site-packages/tobler/util/util.py:53: UserWarning: nan values in variable: ssbCCD, replacing with 0\n",
      "  warn(f\"nan values in variable: {column}, replacing with 0\")\n",
      "/home/martin/mambaforge/envs/stable/lib/python3.12/site-packages/tobler/util/util.py:53: UserWarning: nan values in variable: stbOri, replacing with 0\n",
      "  warn(f\"nan values in variable: {column}, replacing with 0\")\n",
      "/home/martin/mambaforge/envs/stable/lib/python3.12/site-packages/tobler/util/util.py:53: UserWarning: nan values in variable: sicCAR, replacing with 0\n",
      "  warn(f\"nan values in variable: {column}, replacing with 0\")\n",
      "/home/martin/mambaforge/envs/stable/lib/python3.12/site-packages/tobler/util/util.py:53: UserWarning: nan values in variable: stbCeA, replacing with 0\n",
      "  warn(f\"nan values in variable: {column}, replacing with 0\")\n",
      "/home/martin/mambaforge/envs/stable/lib/python3.12/site-packages/tobler/util/util.py:53: UserWarning: nan values in variable: mtbAli, replacing with 0\n",
      "  warn(f\"nan values in variable: {column}, replacing with 0\")\n",
      "/home/martin/mambaforge/envs/stable/lib/python3.12/site-packages/tobler/util/util.py:53: UserWarning: nan values in variable: mtbNDi, replacing with 0\n",
      "  warn(f\"nan values in variable: {column}, replacing with 0\")\n",
      "/home/martin/mambaforge/envs/stable/lib/python3.12/site-packages/tobler/util/util.py:53: UserWarning: nan values in variable: stbSAl, replacing with 0\n",
      "  warn(f\"nan values in variable: {column}, replacing with 0\")\n",
      "/home/martin/mambaforge/envs/stable/lib/python3.12/site-packages/tobler/util/util.py:53: UserWarning: nan values in variable: lieWCe, replacing with 0\n",
      "  warn(f\"nan values in variable: {column}, replacing with 0\")\n"
     ]
    },
    {
     "name": "stdout",
     "output_type": "stream",
     "text": [
      "Chunk 82 done in 157.81 seconds.\n"
     ]
    },
    {
     "name": "stderr",
     "output_type": "stream",
     "text": [
      "/home/martin/mambaforge/envs/stable/lib/python3.12/site-packages/tobler/util/util.py:53: UserWarning: nan values in variable: sdbAre, replacing with 0\n",
      "  warn(f\"nan values in variable: {column}, replacing with 0\")\n",
      "/home/martin/mambaforge/envs/stable/lib/python3.12/site-packages/tobler/util/util.py:53: UserWarning: nan values in variable: sdbCoA, replacing with 0\n",
      "  warn(f\"nan values in variable: {column}, replacing with 0\")\n",
      "/home/martin/mambaforge/envs/stable/lib/python3.12/site-packages/tobler/util/util.py:53: UserWarning: nan values in variable: ssbCCo, replacing with 0\n",
      "  warn(f\"nan values in variable: {column}, replacing with 0\")\n",
      "/home/martin/mambaforge/envs/stable/lib/python3.12/site-packages/tobler/util/util.py:53: UserWarning: nan values in variable: ssbCor, replacing with 0\n",
      "  warn(f\"nan values in variable: {column}, replacing with 0\")\n",
      "/home/martin/mambaforge/envs/stable/lib/python3.12/site-packages/tobler/util/util.py:53: UserWarning: nan values in variable: ssbSqu, replacing with 0\n",
      "  warn(f\"nan values in variable: {column}, replacing with 0\")\n",
      "/home/martin/mambaforge/envs/stable/lib/python3.12/site-packages/tobler/util/util.py:53: UserWarning: nan values in variable: ssbERI, replacing with 0\n",
      "  warn(f\"nan values in variable: {column}, replacing with 0\")\n",
      "/home/martin/mambaforge/envs/stable/lib/python3.12/site-packages/tobler/util/util.py:53: UserWarning: nan values in variable: ssbCCM, replacing with 0\n",
      "  warn(f\"nan values in variable: {column}, replacing with 0\")\n",
      "/home/martin/mambaforge/envs/stable/lib/python3.12/site-packages/tobler/util/util.py:53: UserWarning: nan values in variable: ssbCCD, replacing with 0\n",
      "  warn(f\"nan values in variable: {column}, replacing with 0\")\n",
      "/home/martin/mambaforge/envs/stable/lib/python3.12/site-packages/tobler/util/util.py:53: UserWarning: nan values in variable: stbOri, replacing with 0\n",
      "  warn(f\"nan values in variable: {column}, replacing with 0\")\n",
      "/home/martin/mambaforge/envs/stable/lib/python3.12/site-packages/tobler/util/util.py:53: UserWarning: nan values in variable: sicCAR, replacing with 0\n",
      "  warn(f\"nan values in variable: {column}, replacing with 0\")\n",
      "/home/martin/mambaforge/envs/stable/lib/python3.12/site-packages/tobler/util/util.py:53: UserWarning: nan values in variable: stbCeA, replacing with 0\n",
      "  warn(f\"nan values in variable: {column}, replacing with 0\")\n",
      "/home/martin/mambaforge/envs/stable/lib/python3.12/site-packages/tobler/util/util.py:53: UserWarning: nan values in variable: mtbAli, replacing with 0\n",
      "  warn(f\"nan values in variable: {column}, replacing with 0\")\n",
      "/home/martin/mambaforge/envs/stable/lib/python3.12/site-packages/tobler/util/util.py:53: UserWarning: nan values in variable: mtbNDi, replacing with 0\n",
      "  warn(f\"nan values in variable: {column}, replacing with 0\")\n",
      "/home/martin/mambaforge/envs/stable/lib/python3.12/site-packages/tobler/util/util.py:53: UserWarning: nan values in variable: stbSAl, replacing with 0\n",
      "  warn(f\"nan values in variable: {column}, replacing with 0\")\n",
      "/home/martin/mambaforge/envs/stable/lib/python3.12/site-packages/tobler/util/util.py:53: UserWarning: nan values in variable: lieWCe, replacing with 0\n",
      "  warn(f\"nan values in variable: {column}, replacing with 0\")\n"
     ]
    },
    {
     "name": "stdout",
     "output_type": "stream",
     "text": [
      "Chunk 83 done in 164.48 seconds.\n"
     ]
    },
    {
     "name": "stderr",
     "output_type": "stream",
     "text": [
      "/home/martin/mambaforge/envs/stable/lib/python3.12/site-packages/tobler/util/util.py:53: UserWarning: nan values in variable: sdbAre, replacing with 0\n",
      "  warn(f\"nan values in variable: {column}, replacing with 0\")\n",
      "/home/martin/mambaforge/envs/stable/lib/python3.12/site-packages/tobler/util/util.py:53: UserWarning: nan values in variable: sdbCoA, replacing with 0\n",
      "  warn(f\"nan values in variable: {column}, replacing with 0\")\n",
      "/home/martin/mambaforge/envs/stable/lib/python3.12/site-packages/tobler/util/util.py:53: UserWarning: nan values in variable: ssbCCo, replacing with 0\n",
      "  warn(f\"nan values in variable: {column}, replacing with 0\")\n",
      "/home/martin/mambaforge/envs/stable/lib/python3.12/site-packages/tobler/util/util.py:53: UserWarning: nan values in variable: ssbCor, replacing with 0\n",
      "  warn(f\"nan values in variable: {column}, replacing with 0\")\n",
      "/home/martin/mambaforge/envs/stable/lib/python3.12/site-packages/tobler/util/util.py:53: UserWarning: nan values in variable: ssbSqu, replacing with 0\n",
      "  warn(f\"nan values in variable: {column}, replacing with 0\")\n",
      "/home/martin/mambaforge/envs/stable/lib/python3.12/site-packages/tobler/util/util.py:53: UserWarning: nan values in variable: ssbERI, replacing with 0\n",
      "  warn(f\"nan values in variable: {column}, replacing with 0\")\n",
      "/home/martin/mambaforge/envs/stable/lib/python3.12/site-packages/tobler/util/util.py:53: UserWarning: nan values in variable: ssbCCM, replacing with 0\n",
      "  warn(f\"nan values in variable: {column}, replacing with 0\")\n",
      "/home/martin/mambaforge/envs/stable/lib/python3.12/site-packages/tobler/util/util.py:53: UserWarning: nan values in variable: ssbCCD, replacing with 0\n",
      "  warn(f\"nan values in variable: {column}, replacing with 0\")\n",
      "/home/martin/mambaforge/envs/stable/lib/python3.12/site-packages/tobler/util/util.py:53: UserWarning: nan values in variable: stbOri, replacing with 0\n",
      "  warn(f\"nan values in variable: {column}, replacing with 0\")\n",
      "/home/martin/mambaforge/envs/stable/lib/python3.12/site-packages/tobler/util/util.py:53: UserWarning: nan values in variable: sicCAR, replacing with 0\n",
      "  warn(f\"nan values in variable: {column}, replacing with 0\")\n",
      "/home/martin/mambaforge/envs/stable/lib/python3.12/site-packages/tobler/util/util.py:53: UserWarning: nan values in variable: stbCeA, replacing with 0\n",
      "  warn(f\"nan values in variable: {column}, replacing with 0\")\n",
      "/home/martin/mambaforge/envs/stable/lib/python3.12/site-packages/tobler/util/util.py:53: UserWarning: nan values in variable: mtbAli, replacing with 0\n",
      "  warn(f\"nan values in variable: {column}, replacing with 0\")\n",
      "/home/martin/mambaforge/envs/stable/lib/python3.12/site-packages/tobler/util/util.py:53: UserWarning: nan values in variable: mtbNDi, replacing with 0\n",
      "  warn(f\"nan values in variable: {column}, replacing with 0\")\n",
      "/home/martin/mambaforge/envs/stable/lib/python3.12/site-packages/tobler/util/util.py:53: UserWarning: nan values in variable: stbSAl, replacing with 0\n",
      "  warn(f\"nan values in variable: {column}, replacing with 0\")\n"
     ]
    },
    {
     "name": "stdout",
     "output_type": "stream",
     "text": [
      "Chunk 84 done in 161.38 seconds.\n"
     ]
    },
    {
     "name": "stderr",
     "output_type": "stream",
     "text": [
      "/home/martin/mambaforge/envs/stable/lib/python3.12/site-packages/tobler/util/util.py:53: UserWarning: nan values in variable: sdbAre, replacing with 0\n",
      "  warn(f\"nan values in variable: {column}, replacing with 0\")\n",
      "/home/martin/mambaforge/envs/stable/lib/python3.12/site-packages/tobler/util/util.py:53: UserWarning: nan values in variable: sdbCoA, replacing with 0\n",
      "  warn(f\"nan values in variable: {column}, replacing with 0\")\n",
      "/home/martin/mambaforge/envs/stable/lib/python3.12/site-packages/tobler/util/util.py:53: UserWarning: nan values in variable: ssbCCo, replacing with 0\n",
      "  warn(f\"nan values in variable: {column}, replacing with 0\")\n",
      "/home/martin/mambaforge/envs/stable/lib/python3.12/site-packages/tobler/util/util.py:53: UserWarning: nan values in variable: ssbCor, replacing with 0\n",
      "  warn(f\"nan values in variable: {column}, replacing with 0\")\n",
      "/home/martin/mambaforge/envs/stable/lib/python3.12/site-packages/tobler/util/util.py:53: UserWarning: nan values in variable: ssbSqu, replacing with 0\n",
      "  warn(f\"nan values in variable: {column}, replacing with 0\")\n",
      "/home/martin/mambaforge/envs/stable/lib/python3.12/site-packages/tobler/util/util.py:53: UserWarning: nan values in variable: ssbERI, replacing with 0\n",
      "  warn(f\"nan values in variable: {column}, replacing with 0\")\n",
      "/home/martin/mambaforge/envs/stable/lib/python3.12/site-packages/tobler/util/util.py:53: UserWarning: nan values in variable: ssbCCM, replacing with 0\n",
      "  warn(f\"nan values in variable: {column}, replacing with 0\")\n",
      "/home/martin/mambaforge/envs/stable/lib/python3.12/site-packages/tobler/util/util.py:53: UserWarning: nan values in variable: ssbCCD, replacing with 0\n",
      "  warn(f\"nan values in variable: {column}, replacing with 0\")\n",
      "/home/martin/mambaforge/envs/stable/lib/python3.12/site-packages/tobler/util/util.py:53: UserWarning: nan values in variable: stbOri, replacing with 0\n",
      "  warn(f\"nan values in variable: {column}, replacing with 0\")\n",
      "/home/martin/mambaforge/envs/stable/lib/python3.12/site-packages/tobler/util/util.py:53: UserWarning: nan values in variable: sicCAR, replacing with 0\n",
      "  warn(f\"nan values in variable: {column}, replacing with 0\")\n",
      "/home/martin/mambaforge/envs/stable/lib/python3.12/site-packages/tobler/util/util.py:53: UserWarning: nan values in variable: stbCeA, replacing with 0\n",
      "  warn(f\"nan values in variable: {column}, replacing with 0\")\n",
      "/home/martin/mambaforge/envs/stable/lib/python3.12/site-packages/tobler/util/util.py:53: UserWarning: nan values in variable: mtbAli, replacing with 0\n",
      "  warn(f\"nan values in variable: {column}, replacing with 0\")\n",
      "/home/martin/mambaforge/envs/stable/lib/python3.12/site-packages/tobler/util/util.py:53: UserWarning: nan values in variable: mtbNDi, replacing with 0\n",
      "  warn(f\"nan values in variable: {column}, replacing with 0\")\n",
      "/home/martin/mambaforge/envs/stable/lib/python3.12/site-packages/tobler/util/util.py:53: UserWarning: nan values in variable: stbSAl, replacing with 0\n",
      "  warn(f\"nan values in variable: {column}, replacing with 0\")\n",
      "/home/martin/mambaforge/envs/stable/lib/python3.12/site-packages/tobler/util/util.py:53: UserWarning: nan values in variable: lieWCe, replacing with 0\n",
      "  warn(f\"nan values in variable: {column}, replacing with 0\")\n"
     ]
    },
    {
     "name": "stdout",
     "output_type": "stream",
     "text": [
      "Chunk 85 done in 185.72 seconds.\n"
     ]
    },
    {
     "name": "stderr",
     "output_type": "stream",
     "text": [
      "/home/martin/mambaforge/envs/stable/lib/python3.12/site-packages/tobler/util/util.py:53: UserWarning: nan values in variable: sdbAre, replacing with 0\n",
      "  warn(f\"nan values in variable: {column}, replacing with 0\")\n",
      "/home/martin/mambaforge/envs/stable/lib/python3.12/site-packages/tobler/util/util.py:53: UserWarning: nan values in variable: sdbCoA, replacing with 0\n",
      "  warn(f\"nan values in variable: {column}, replacing with 0\")\n",
      "/home/martin/mambaforge/envs/stable/lib/python3.12/site-packages/tobler/util/util.py:53: UserWarning: nan values in variable: ssbCCo, replacing with 0\n",
      "  warn(f\"nan values in variable: {column}, replacing with 0\")\n",
      "/home/martin/mambaforge/envs/stable/lib/python3.12/site-packages/tobler/util/util.py:53: UserWarning: nan values in variable: ssbCor, replacing with 0\n",
      "  warn(f\"nan values in variable: {column}, replacing with 0\")\n",
      "/home/martin/mambaforge/envs/stable/lib/python3.12/site-packages/tobler/util/util.py:53: UserWarning: nan values in variable: ssbSqu, replacing with 0\n",
      "  warn(f\"nan values in variable: {column}, replacing with 0\")\n",
      "/home/martin/mambaforge/envs/stable/lib/python3.12/site-packages/tobler/util/util.py:53: UserWarning: nan values in variable: ssbERI, replacing with 0\n",
      "  warn(f\"nan values in variable: {column}, replacing with 0\")\n",
      "/home/martin/mambaforge/envs/stable/lib/python3.12/site-packages/tobler/util/util.py:53: UserWarning: nan values in variable: ssbCCM, replacing with 0\n",
      "  warn(f\"nan values in variable: {column}, replacing with 0\")\n",
      "/home/martin/mambaforge/envs/stable/lib/python3.12/site-packages/tobler/util/util.py:53: UserWarning: nan values in variable: ssbCCD, replacing with 0\n",
      "  warn(f\"nan values in variable: {column}, replacing with 0\")\n",
      "/home/martin/mambaforge/envs/stable/lib/python3.12/site-packages/tobler/util/util.py:53: UserWarning: nan values in variable: stbOri, replacing with 0\n",
      "  warn(f\"nan values in variable: {column}, replacing with 0\")\n",
      "/home/martin/mambaforge/envs/stable/lib/python3.12/site-packages/tobler/util/util.py:53: UserWarning: nan values in variable: sicCAR, replacing with 0\n",
      "  warn(f\"nan values in variable: {column}, replacing with 0\")\n",
      "/home/martin/mambaforge/envs/stable/lib/python3.12/site-packages/tobler/util/util.py:53: UserWarning: nan values in variable: stbCeA, replacing with 0\n",
      "  warn(f\"nan values in variable: {column}, replacing with 0\")\n",
      "/home/martin/mambaforge/envs/stable/lib/python3.12/site-packages/tobler/util/util.py:53: UserWarning: nan values in variable: mtbAli, replacing with 0\n",
      "  warn(f\"nan values in variable: {column}, replacing with 0\")\n",
      "/home/martin/mambaforge/envs/stable/lib/python3.12/site-packages/tobler/util/util.py:53: UserWarning: nan values in variable: mtbNDi, replacing with 0\n",
      "  warn(f\"nan values in variable: {column}, replacing with 0\")\n",
      "/home/martin/mambaforge/envs/stable/lib/python3.12/site-packages/tobler/util/util.py:53: UserWarning: nan values in variable: stbSAl, replacing with 0\n",
      "  warn(f\"nan values in variable: {column}, replacing with 0\")\n",
      "/home/martin/mambaforge/envs/stable/lib/python3.12/site-packages/tobler/util/util.py:53: UserWarning: nan values in variable: lieWCe, replacing with 0\n",
      "  warn(f\"nan values in variable: {column}, replacing with 0\")\n"
     ]
    },
    {
     "name": "stdout",
     "output_type": "stream",
     "text": [
      "Chunk 86 done in 230.69 seconds.\n"
     ]
    },
    {
     "name": "stderr",
     "output_type": "stream",
     "text": [
      "/home/martin/mambaforge/envs/stable/lib/python3.12/site-packages/tobler/util/util.py:53: UserWarning: nan values in variable: sdbAre, replacing with 0\n",
      "  warn(f\"nan values in variable: {column}, replacing with 0\")\n",
      "/home/martin/mambaforge/envs/stable/lib/python3.12/site-packages/tobler/util/util.py:53: UserWarning: nan values in variable: sdbCoA, replacing with 0\n",
      "  warn(f\"nan values in variable: {column}, replacing with 0\")\n",
      "/home/martin/mambaforge/envs/stable/lib/python3.12/site-packages/tobler/util/util.py:53: UserWarning: nan values in variable: ssbCCo, replacing with 0\n",
      "  warn(f\"nan values in variable: {column}, replacing with 0\")\n",
      "/home/martin/mambaforge/envs/stable/lib/python3.12/site-packages/tobler/util/util.py:53: UserWarning: nan values in variable: ssbCor, replacing with 0\n",
      "  warn(f\"nan values in variable: {column}, replacing with 0\")\n",
      "/home/martin/mambaforge/envs/stable/lib/python3.12/site-packages/tobler/util/util.py:53: UserWarning: nan values in variable: ssbSqu, replacing with 0\n",
      "  warn(f\"nan values in variable: {column}, replacing with 0\")\n",
      "/home/martin/mambaforge/envs/stable/lib/python3.12/site-packages/tobler/util/util.py:53: UserWarning: nan values in variable: ssbERI, replacing with 0\n",
      "  warn(f\"nan values in variable: {column}, replacing with 0\")\n",
      "/home/martin/mambaforge/envs/stable/lib/python3.12/site-packages/tobler/util/util.py:53: UserWarning: nan values in variable: ssbCCM, replacing with 0\n",
      "  warn(f\"nan values in variable: {column}, replacing with 0\")\n",
      "/home/martin/mambaforge/envs/stable/lib/python3.12/site-packages/tobler/util/util.py:53: UserWarning: nan values in variable: ssbCCD, replacing with 0\n",
      "  warn(f\"nan values in variable: {column}, replacing with 0\")\n",
      "/home/martin/mambaforge/envs/stable/lib/python3.12/site-packages/tobler/util/util.py:53: UserWarning: nan values in variable: stbOri, replacing with 0\n",
      "  warn(f\"nan values in variable: {column}, replacing with 0\")\n",
      "/home/martin/mambaforge/envs/stable/lib/python3.12/site-packages/tobler/util/util.py:53: UserWarning: nan values in variable: sicCAR, replacing with 0\n",
      "  warn(f\"nan values in variable: {column}, replacing with 0\")\n",
      "/home/martin/mambaforge/envs/stable/lib/python3.12/site-packages/tobler/util/util.py:53: UserWarning: nan values in variable: stbCeA, replacing with 0\n",
      "  warn(f\"nan values in variable: {column}, replacing with 0\")\n",
      "/home/martin/mambaforge/envs/stable/lib/python3.12/site-packages/tobler/util/util.py:53: UserWarning: nan values in variable: mtbAli, replacing with 0\n",
      "  warn(f\"nan values in variable: {column}, replacing with 0\")\n",
      "/home/martin/mambaforge/envs/stable/lib/python3.12/site-packages/tobler/util/util.py:53: UserWarning: nan values in variable: mtbNDi, replacing with 0\n",
      "  warn(f\"nan values in variable: {column}, replacing with 0\")\n",
      "/home/martin/mambaforge/envs/stable/lib/python3.12/site-packages/tobler/util/util.py:53: UserWarning: nan values in variable: stbSAl, replacing with 0\n",
      "  warn(f\"nan values in variable: {column}, replacing with 0\")\n",
      "/home/martin/mambaforge/envs/stable/lib/python3.12/site-packages/tobler/util/util.py:53: UserWarning: nan values in variable: lieWCe, replacing with 0\n",
      "  warn(f\"nan values in variable: {column}, replacing with 0\")\n"
     ]
    },
    {
     "name": "stdout",
     "output_type": "stream",
     "text": [
      "Chunk 87 done in 179.32 seconds.\n"
     ]
    },
    {
     "name": "stderr",
     "output_type": "stream",
     "text": [
      "/home/martin/mambaforge/envs/stable/lib/python3.12/site-packages/tobler/util/util.py:53: UserWarning: nan values in variable: sdbAre, replacing with 0\n",
      "  warn(f\"nan values in variable: {column}, replacing with 0\")\n",
      "/home/martin/mambaforge/envs/stable/lib/python3.12/site-packages/tobler/util/util.py:53: UserWarning: nan values in variable: sdbCoA, replacing with 0\n",
      "  warn(f\"nan values in variable: {column}, replacing with 0\")\n",
      "/home/martin/mambaforge/envs/stable/lib/python3.12/site-packages/tobler/util/util.py:53: UserWarning: nan values in variable: ssbCCo, replacing with 0\n",
      "  warn(f\"nan values in variable: {column}, replacing with 0\")\n",
      "/home/martin/mambaforge/envs/stable/lib/python3.12/site-packages/tobler/util/util.py:53: UserWarning: nan values in variable: ssbCor, replacing with 0\n",
      "  warn(f\"nan values in variable: {column}, replacing with 0\")\n",
      "/home/martin/mambaforge/envs/stable/lib/python3.12/site-packages/tobler/util/util.py:53: UserWarning: nan values in variable: ssbSqu, replacing with 0\n",
      "  warn(f\"nan values in variable: {column}, replacing with 0\")\n",
      "/home/martin/mambaforge/envs/stable/lib/python3.12/site-packages/tobler/util/util.py:53: UserWarning: nan values in variable: ssbERI, replacing with 0\n",
      "  warn(f\"nan values in variable: {column}, replacing with 0\")\n",
      "/home/martin/mambaforge/envs/stable/lib/python3.12/site-packages/tobler/util/util.py:53: UserWarning: nan values in variable: ssbCCM, replacing with 0\n",
      "  warn(f\"nan values in variable: {column}, replacing with 0\")\n",
      "/home/martin/mambaforge/envs/stable/lib/python3.12/site-packages/tobler/util/util.py:53: UserWarning: nan values in variable: ssbCCD, replacing with 0\n",
      "  warn(f\"nan values in variable: {column}, replacing with 0\")\n",
      "/home/martin/mambaforge/envs/stable/lib/python3.12/site-packages/tobler/util/util.py:53: UserWarning: nan values in variable: stbOri, replacing with 0\n",
      "  warn(f\"nan values in variable: {column}, replacing with 0\")\n",
      "/home/martin/mambaforge/envs/stable/lib/python3.12/site-packages/tobler/util/util.py:53: UserWarning: nan values in variable: sicCAR, replacing with 0\n",
      "  warn(f\"nan values in variable: {column}, replacing with 0\")\n",
      "/home/martin/mambaforge/envs/stable/lib/python3.12/site-packages/tobler/util/util.py:53: UserWarning: nan values in variable: stbCeA, replacing with 0\n",
      "  warn(f\"nan values in variable: {column}, replacing with 0\")\n",
      "/home/martin/mambaforge/envs/stable/lib/python3.12/site-packages/tobler/util/util.py:53: UserWarning: nan values in variable: mtbAli, replacing with 0\n",
      "  warn(f\"nan values in variable: {column}, replacing with 0\")\n",
      "/home/martin/mambaforge/envs/stable/lib/python3.12/site-packages/tobler/util/util.py:53: UserWarning: nan values in variable: mtbNDi, replacing with 0\n",
      "  warn(f\"nan values in variable: {column}, replacing with 0\")\n",
      "/home/martin/mambaforge/envs/stable/lib/python3.12/site-packages/tobler/util/util.py:53: UserWarning: nan values in variable: stbSAl, replacing with 0\n",
      "  warn(f\"nan values in variable: {column}, replacing with 0\")\n",
      "/home/martin/mambaforge/envs/stable/lib/python3.12/site-packages/tobler/util/util.py:53: UserWarning: nan values in variable: lieWCe, replacing with 0\n",
      "  warn(f\"nan values in variable: {column}, replacing with 0\")\n"
     ]
    },
    {
     "name": "stdout",
     "output_type": "stream",
     "text": [
      "Chunk 88 done in 325.22 seconds.\n"
     ]
    },
    {
     "name": "stderr",
     "output_type": "stream",
     "text": [
      "/home/martin/mambaforge/envs/stable/lib/python3.12/site-packages/tobler/util/util.py:53: UserWarning: nan values in variable: sdbAre, replacing with 0\n",
      "  warn(f\"nan values in variable: {column}, replacing with 0\")\n",
      "/home/martin/mambaforge/envs/stable/lib/python3.12/site-packages/tobler/util/util.py:53: UserWarning: nan values in variable: sdbCoA, replacing with 0\n",
      "  warn(f\"nan values in variable: {column}, replacing with 0\")\n",
      "/home/martin/mambaforge/envs/stable/lib/python3.12/site-packages/tobler/util/util.py:53: UserWarning: nan values in variable: ssbCCo, replacing with 0\n",
      "  warn(f\"nan values in variable: {column}, replacing with 0\")\n",
      "/home/martin/mambaforge/envs/stable/lib/python3.12/site-packages/tobler/util/util.py:53: UserWarning: nan values in variable: ssbCor, replacing with 0\n",
      "  warn(f\"nan values in variable: {column}, replacing with 0\")\n",
      "/home/martin/mambaforge/envs/stable/lib/python3.12/site-packages/tobler/util/util.py:53: UserWarning: nan values in variable: ssbSqu, replacing with 0\n",
      "  warn(f\"nan values in variable: {column}, replacing with 0\")\n",
      "/home/martin/mambaforge/envs/stable/lib/python3.12/site-packages/tobler/util/util.py:53: UserWarning: nan values in variable: ssbERI, replacing with 0\n",
      "  warn(f\"nan values in variable: {column}, replacing with 0\")\n",
      "/home/martin/mambaforge/envs/stable/lib/python3.12/site-packages/tobler/util/util.py:53: UserWarning: nan values in variable: ssbCCM, replacing with 0\n",
      "  warn(f\"nan values in variable: {column}, replacing with 0\")\n",
      "/home/martin/mambaforge/envs/stable/lib/python3.12/site-packages/tobler/util/util.py:53: UserWarning: nan values in variable: ssbCCD, replacing with 0\n",
      "  warn(f\"nan values in variable: {column}, replacing with 0\")\n",
      "/home/martin/mambaforge/envs/stable/lib/python3.12/site-packages/tobler/util/util.py:53: UserWarning: nan values in variable: stbOri, replacing with 0\n",
      "  warn(f\"nan values in variable: {column}, replacing with 0\")\n",
      "/home/martin/mambaforge/envs/stable/lib/python3.12/site-packages/tobler/util/util.py:53: UserWarning: nan values in variable: sicCAR, replacing with 0\n",
      "  warn(f\"nan values in variable: {column}, replacing with 0\")\n",
      "/home/martin/mambaforge/envs/stable/lib/python3.12/site-packages/tobler/util/util.py:53: UserWarning: nan values in variable: stbCeA, replacing with 0\n",
      "  warn(f\"nan values in variable: {column}, replacing with 0\")\n",
      "/home/martin/mambaforge/envs/stable/lib/python3.12/site-packages/tobler/util/util.py:53: UserWarning: nan values in variable: mtbAli, replacing with 0\n",
      "  warn(f\"nan values in variable: {column}, replacing with 0\")\n",
      "/home/martin/mambaforge/envs/stable/lib/python3.12/site-packages/tobler/util/util.py:53: UserWarning: nan values in variable: mtbNDi, replacing with 0\n",
      "  warn(f\"nan values in variable: {column}, replacing with 0\")\n",
      "/home/martin/mambaforge/envs/stable/lib/python3.12/site-packages/tobler/util/util.py:53: UserWarning: nan values in variable: stbSAl, replacing with 0\n",
      "  warn(f\"nan values in variable: {column}, replacing with 0\")\n",
      "/home/martin/mambaforge/envs/stable/lib/python3.12/site-packages/tobler/util/util.py:53: UserWarning: nan values in variable: lieWCe, replacing with 0\n",
      "  warn(f\"nan values in variable: {column}, replacing with 0\")\n"
     ]
    },
    {
     "name": "stdout",
     "output_type": "stream",
     "text": [
      "Chunk 89 done in 299.54 seconds.\n"
     ]
    },
    {
     "name": "stderr",
     "output_type": "stream",
     "text": [
      "/home/martin/mambaforge/envs/stable/lib/python3.12/site-packages/tobler/util/util.py:53: UserWarning: nan values in variable: sdbAre, replacing with 0\n",
      "  warn(f\"nan values in variable: {column}, replacing with 0\")\n",
      "/home/martin/mambaforge/envs/stable/lib/python3.12/site-packages/tobler/util/util.py:53: UserWarning: nan values in variable: sdbCoA, replacing with 0\n",
      "  warn(f\"nan values in variable: {column}, replacing with 0\")\n",
      "/home/martin/mambaforge/envs/stable/lib/python3.12/site-packages/tobler/util/util.py:53: UserWarning: nan values in variable: ssbCCo, replacing with 0\n",
      "  warn(f\"nan values in variable: {column}, replacing with 0\")\n",
      "/home/martin/mambaforge/envs/stable/lib/python3.12/site-packages/tobler/util/util.py:53: UserWarning: nan values in variable: ssbCor, replacing with 0\n",
      "  warn(f\"nan values in variable: {column}, replacing with 0\")\n",
      "/home/martin/mambaforge/envs/stable/lib/python3.12/site-packages/tobler/util/util.py:53: UserWarning: nan values in variable: ssbSqu, replacing with 0\n",
      "  warn(f\"nan values in variable: {column}, replacing with 0\")\n",
      "/home/martin/mambaforge/envs/stable/lib/python3.12/site-packages/tobler/util/util.py:53: UserWarning: nan values in variable: ssbERI, replacing with 0\n",
      "  warn(f\"nan values in variable: {column}, replacing with 0\")\n",
      "/home/martin/mambaforge/envs/stable/lib/python3.12/site-packages/tobler/util/util.py:53: UserWarning: nan values in variable: ssbCCM, replacing with 0\n",
      "  warn(f\"nan values in variable: {column}, replacing with 0\")\n",
      "/home/martin/mambaforge/envs/stable/lib/python3.12/site-packages/tobler/util/util.py:53: UserWarning: nan values in variable: ssbCCD, replacing with 0\n",
      "  warn(f\"nan values in variable: {column}, replacing with 0\")\n",
      "/home/martin/mambaforge/envs/stable/lib/python3.12/site-packages/tobler/util/util.py:53: UserWarning: nan values in variable: stbOri, replacing with 0\n",
      "  warn(f\"nan values in variable: {column}, replacing with 0\")\n",
      "/home/martin/mambaforge/envs/stable/lib/python3.12/site-packages/tobler/util/util.py:53: UserWarning: nan values in variable: sicCAR, replacing with 0\n",
      "  warn(f\"nan values in variable: {column}, replacing with 0\")\n",
      "/home/martin/mambaforge/envs/stable/lib/python3.12/site-packages/tobler/util/util.py:53: UserWarning: nan values in variable: stbCeA, replacing with 0\n",
      "  warn(f\"nan values in variable: {column}, replacing with 0\")\n",
      "/home/martin/mambaforge/envs/stable/lib/python3.12/site-packages/tobler/util/util.py:53: UserWarning: nan values in variable: mtbAli, replacing with 0\n",
      "  warn(f\"nan values in variable: {column}, replacing with 0\")\n",
      "/home/martin/mambaforge/envs/stable/lib/python3.12/site-packages/tobler/util/util.py:53: UserWarning: nan values in variable: mtbNDi, replacing with 0\n",
      "  warn(f\"nan values in variable: {column}, replacing with 0\")\n",
      "/home/martin/mambaforge/envs/stable/lib/python3.12/site-packages/tobler/util/util.py:53: UserWarning: nan values in variable: stbSAl, replacing with 0\n",
      "  warn(f\"nan values in variable: {column}, replacing with 0\")\n",
      "/home/martin/mambaforge/envs/stable/lib/python3.12/site-packages/tobler/util/util.py:53: UserWarning: nan values in variable: lieWCe, replacing with 0\n",
      "  warn(f\"nan values in variable: {column}, replacing with 0\")\n"
     ]
    },
    {
     "name": "stdout",
     "output_type": "stream",
     "text": [
      "Chunk 90 done in 213.61 seconds.\n"
     ]
    },
    {
     "name": "stderr",
     "output_type": "stream",
     "text": [
      "/home/martin/mambaforge/envs/stable/lib/python3.12/site-packages/tobler/util/util.py:53: UserWarning: nan values in variable: sdbAre, replacing with 0\n",
      "  warn(f\"nan values in variable: {column}, replacing with 0\")\n",
      "/home/martin/mambaforge/envs/stable/lib/python3.12/site-packages/tobler/util/util.py:53: UserWarning: nan values in variable: sdbCoA, replacing with 0\n",
      "  warn(f\"nan values in variable: {column}, replacing with 0\")\n",
      "/home/martin/mambaforge/envs/stable/lib/python3.12/site-packages/tobler/util/util.py:53: UserWarning: nan values in variable: ssbCCo, replacing with 0\n",
      "  warn(f\"nan values in variable: {column}, replacing with 0\")\n",
      "/home/martin/mambaforge/envs/stable/lib/python3.12/site-packages/tobler/util/util.py:53: UserWarning: nan values in variable: ssbCor, replacing with 0\n",
      "  warn(f\"nan values in variable: {column}, replacing with 0\")\n",
      "/home/martin/mambaforge/envs/stable/lib/python3.12/site-packages/tobler/util/util.py:53: UserWarning: nan values in variable: ssbSqu, replacing with 0\n",
      "  warn(f\"nan values in variable: {column}, replacing with 0\")\n",
      "/home/martin/mambaforge/envs/stable/lib/python3.12/site-packages/tobler/util/util.py:53: UserWarning: nan values in variable: ssbERI, replacing with 0\n",
      "  warn(f\"nan values in variable: {column}, replacing with 0\")\n",
      "/home/martin/mambaforge/envs/stable/lib/python3.12/site-packages/tobler/util/util.py:53: UserWarning: nan values in variable: ssbCCM, replacing with 0\n",
      "  warn(f\"nan values in variable: {column}, replacing with 0\")\n",
      "/home/martin/mambaforge/envs/stable/lib/python3.12/site-packages/tobler/util/util.py:53: UserWarning: nan values in variable: ssbCCD, replacing with 0\n",
      "  warn(f\"nan values in variable: {column}, replacing with 0\")\n",
      "/home/martin/mambaforge/envs/stable/lib/python3.12/site-packages/tobler/util/util.py:53: UserWarning: nan values in variable: stbOri, replacing with 0\n",
      "  warn(f\"nan values in variable: {column}, replacing with 0\")\n",
      "/home/martin/mambaforge/envs/stable/lib/python3.12/site-packages/tobler/util/util.py:53: UserWarning: nan values in variable: sicCAR, replacing with 0\n",
      "  warn(f\"nan values in variable: {column}, replacing with 0\")\n",
      "/home/martin/mambaforge/envs/stable/lib/python3.12/site-packages/tobler/util/util.py:53: UserWarning: nan values in variable: stbCeA, replacing with 0\n",
      "  warn(f\"nan values in variable: {column}, replacing with 0\")\n",
      "/home/martin/mambaforge/envs/stable/lib/python3.12/site-packages/tobler/util/util.py:53: UserWarning: nan values in variable: mtbAli, replacing with 0\n",
      "  warn(f\"nan values in variable: {column}, replacing with 0\")\n",
      "/home/martin/mambaforge/envs/stable/lib/python3.12/site-packages/tobler/util/util.py:53: UserWarning: nan values in variable: mtbNDi, replacing with 0\n",
      "  warn(f\"nan values in variable: {column}, replacing with 0\")\n",
      "/home/martin/mambaforge/envs/stable/lib/python3.12/site-packages/tobler/util/util.py:53: UserWarning: nan values in variable: stbSAl, replacing with 0\n",
      "  warn(f\"nan values in variable: {column}, replacing with 0\")\n"
     ]
    },
    {
     "name": "stdout",
     "output_type": "stream",
     "text": [
      "Chunk 91 done in 148.24 seconds.\n"
     ]
    },
    {
     "name": "stderr",
     "output_type": "stream",
     "text": [
      "/home/martin/mambaforge/envs/stable/lib/python3.12/site-packages/tobler/util/util.py:53: UserWarning: nan values in variable: sdbAre, replacing with 0\n",
      "  warn(f\"nan values in variable: {column}, replacing with 0\")\n",
      "/home/martin/mambaforge/envs/stable/lib/python3.12/site-packages/tobler/util/util.py:53: UserWarning: nan values in variable: sdbCoA, replacing with 0\n",
      "  warn(f\"nan values in variable: {column}, replacing with 0\")\n",
      "/home/martin/mambaforge/envs/stable/lib/python3.12/site-packages/tobler/util/util.py:53: UserWarning: nan values in variable: ssbCCo, replacing with 0\n",
      "  warn(f\"nan values in variable: {column}, replacing with 0\")\n",
      "/home/martin/mambaforge/envs/stable/lib/python3.12/site-packages/tobler/util/util.py:53: UserWarning: nan values in variable: ssbCor, replacing with 0\n",
      "  warn(f\"nan values in variable: {column}, replacing with 0\")\n",
      "/home/martin/mambaforge/envs/stable/lib/python3.12/site-packages/tobler/util/util.py:53: UserWarning: nan values in variable: ssbSqu, replacing with 0\n",
      "  warn(f\"nan values in variable: {column}, replacing with 0\")\n",
      "/home/martin/mambaforge/envs/stable/lib/python3.12/site-packages/tobler/util/util.py:53: UserWarning: nan values in variable: ssbERI, replacing with 0\n",
      "  warn(f\"nan values in variable: {column}, replacing with 0\")\n",
      "/home/martin/mambaforge/envs/stable/lib/python3.12/site-packages/tobler/util/util.py:53: UserWarning: nan values in variable: ssbCCM, replacing with 0\n",
      "  warn(f\"nan values in variable: {column}, replacing with 0\")\n",
      "/home/martin/mambaforge/envs/stable/lib/python3.12/site-packages/tobler/util/util.py:53: UserWarning: nan values in variable: ssbCCD, replacing with 0\n",
      "  warn(f\"nan values in variable: {column}, replacing with 0\")\n",
      "/home/martin/mambaforge/envs/stable/lib/python3.12/site-packages/tobler/util/util.py:53: UserWarning: nan values in variable: stbOri, replacing with 0\n",
      "  warn(f\"nan values in variable: {column}, replacing with 0\")\n",
      "/home/martin/mambaforge/envs/stable/lib/python3.12/site-packages/tobler/util/util.py:53: UserWarning: nan values in variable: sicCAR, replacing with 0\n",
      "  warn(f\"nan values in variable: {column}, replacing with 0\")\n",
      "/home/martin/mambaforge/envs/stable/lib/python3.12/site-packages/tobler/util/util.py:53: UserWarning: nan values in variable: stbCeA, replacing with 0\n",
      "  warn(f\"nan values in variable: {column}, replacing with 0\")\n",
      "/home/martin/mambaforge/envs/stable/lib/python3.12/site-packages/tobler/util/util.py:53: UserWarning: nan values in variable: mtbAli, replacing with 0\n",
      "  warn(f\"nan values in variable: {column}, replacing with 0\")\n",
      "/home/martin/mambaforge/envs/stable/lib/python3.12/site-packages/tobler/util/util.py:53: UserWarning: nan values in variable: mtbNDi, replacing with 0\n",
      "  warn(f\"nan values in variable: {column}, replacing with 0\")\n",
      "/home/martin/mambaforge/envs/stable/lib/python3.12/site-packages/tobler/util/util.py:53: UserWarning: nan values in variable: stbSAl, replacing with 0\n",
      "  warn(f\"nan values in variable: {column}, replacing with 0\")\n",
      "/home/martin/mambaforge/envs/stable/lib/python3.12/site-packages/tobler/util/util.py:53: UserWarning: nan values in variable: lieWCe, replacing with 0\n",
      "  warn(f\"nan values in variable: {column}, replacing with 0\")\n"
     ]
    },
    {
     "name": "stdout",
     "output_type": "stream",
     "text": [
      "Chunk 92 done in 216.30 seconds.\n"
     ]
    },
    {
     "name": "stderr",
     "output_type": "stream",
     "text": [
      "/home/martin/mambaforge/envs/stable/lib/python3.12/site-packages/tobler/util/util.py:53: UserWarning: nan values in variable: sdbAre, replacing with 0\n",
      "  warn(f\"nan values in variable: {column}, replacing with 0\")\n",
      "/home/martin/mambaforge/envs/stable/lib/python3.12/site-packages/tobler/util/util.py:53: UserWarning: nan values in variable: sdbCoA, replacing with 0\n",
      "  warn(f\"nan values in variable: {column}, replacing with 0\")\n",
      "/home/martin/mambaforge/envs/stable/lib/python3.12/site-packages/tobler/util/util.py:53: UserWarning: nan values in variable: ssbCCo, replacing with 0\n",
      "  warn(f\"nan values in variable: {column}, replacing with 0\")\n",
      "/home/martin/mambaforge/envs/stable/lib/python3.12/site-packages/tobler/util/util.py:53: UserWarning: nan values in variable: ssbCor, replacing with 0\n",
      "  warn(f\"nan values in variable: {column}, replacing with 0\")\n",
      "/home/martin/mambaforge/envs/stable/lib/python3.12/site-packages/tobler/util/util.py:53: UserWarning: nan values in variable: ssbSqu, replacing with 0\n",
      "  warn(f\"nan values in variable: {column}, replacing with 0\")\n",
      "/home/martin/mambaforge/envs/stable/lib/python3.12/site-packages/tobler/util/util.py:53: UserWarning: nan values in variable: ssbERI, replacing with 0\n",
      "  warn(f\"nan values in variable: {column}, replacing with 0\")\n",
      "/home/martin/mambaforge/envs/stable/lib/python3.12/site-packages/tobler/util/util.py:53: UserWarning: nan values in variable: ssbCCM, replacing with 0\n",
      "  warn(f\"nan values in variable: {column}, replacing with 0\")\n",
      "/home/martin/mambaforge/envs/stable/lib/python3.12/site-packages/tobler/util/util.py:53: UserWarning: nan values in variable: ssbCCD, replacing with 0\n",
      "  warn(f\"nan values in variable: {column}, replacing with 0\")\n",
      "/home/martin/mambaforge/envs/stable/lib/python3.12/site-packages/tobler/util/util.py:53: UserWarning: nan values in variable: stbOri, replacing with 0\n",
      "  warn(f\"nan values in variable: {column}, replacing with 0\")\n",
      "/home/martin/mambaforge/envs/stable/lib/python3.12/site-packages/tobler/util/util.py:53: UserWarning: nan values in variable: sicCAR, replacing with 0\n",
      "  warn(f\"nan values in variable: {column}, replacing with 0\")\n",
      "/home/martin/mambaforge/envs/stable/lib/python3.12/site-packages/tobler/util/util.py:53: UserWarning: nan values in variable: stbCeA, replacing with 0\n",
      "  warn(f\"nan values in variable: {column}, replacing with 0\")\n",
      "/home/martin/mambaforge/envs/stable/lib/python3.12/site-packages/tobler/util/util.py:53: UserWarning: nan values in variable: mtbAli, replacing with 0\n",
      "  warn(f\"nan values in variable: {column}, replacing with 0\")\n",
      "/home/martin/mambaforge/envs/stable/lib/python3.12/site-packages/tobler/util/util.py:53: UserWarning: nan values in variable: mtbNDi, replacing with 0\n",
      "  warn(f\"nan values in variable: {column}, replacing with 0\")\n",
      "/home/martin/mambaforge/envs/stable/lib/python3.12/site-packages/tobler/util/util.py:53: UserWarning: nan values in variable: stbSAl, replacing with 0\n",
      "  warn(f\"nan values in variable: {column}, replacing with 0\")\n"
     ]
    },
    {
     "name": "stdout",
     "output_type": "stream",
     "text": [
      "Chunk 93 done in 209.27 seconds.\n"
     ]
    },
    {
     "name": "stderr",
     "output_type": "stream",
     "text": [
      "/home/martin/mambaforge/envs/stable/lib/python3.12/site-packages/tobler/util/util.py:53: UserWarning: nan values in variable: sdbAre, replacing with 0\n",
      "  warn(f\"nan values in variable: {column}, replacing with 0\")\n",
      "/home/martin/mambaforge/envs/stable/lib/python3.12/site-packages/tobler/util/util.py:53: UserWarning: nan values in variable: sdbCoA, replacing with 0\n",
      "  warn(f\"nan values in variable: {column}, replacing with 0\")\n",
      "/home/martin/mambaforge/envs/stable/lib/python3.12/site-packages/tobler/util/util.py:53: UserWarning: nan values in variable: ssbCCo, replacing with 0\n",
      "  warn(f\"nan values in variable: {column}, replacing with 0\")\n",
      "/home/martin/mambaforge/envs/stable/lib/python3.12/site-packages/tobler/util/util.py:53: UserWarning: nan values in variable: ssbCor, replacing with 0\n",
      "  warn(f\"nan values in variable: {column}, replacing with 0\")\n",
      "/home/martin/mambaforge/envs/stable/lib/python3.12/site-packages/tobler/util/util.py:53: UserWarning: nan values in variable: ssbSqu, replacing with 0\n",
      "  warn(f\"nan values in variable: {column}, replacing with 0\")\n",
      "/home/martin/mambaforge/envs/stable/lib/python3.12/site-packages/tobler/util/util.py:53: UserWarning: nan values in variable: ssbERI, replacing with 0\n",
      "  warn(f\"nan values in variable: {column}, replacing with 0\")\n",
      "/home/martin/mambaforge/envs/stable/lib/python3.12/site-packages/tobler/util/util.py:53: UserWarning: nan values in variable: ssbCCM, replacing with 0\n",
      "  warn(f\"nan values in variable: {column}, replacing with 0\")\n",
      "/home/martin/mambaforge/envs/stable/lib/python3.12/site-packages/tobler/util/util.py:53: UserWarning: nan values in variable: ssbCCD, replacing with 0\n",
      "  warn(f\"nan values in variable: {column}, replacing with 0\")\n",
      "/home/martin/mambaforge/envs/stable/lib/python3.12/site-packages/tobler/util/util.py:53: UserWarning: nan values in variable: stbOri, replacing with 0\n",
      "  warn(f\"nan values in variable: {column}, replacing with 0\")\n",
      "/home/martin/mambaforge/envs/stable/lib/python3.12/site-packages/tobler/util/util.py:53: UserWarning: nan values in variable: sicCAR, replacing with 0\n",
      "  warn(f\"nan values in variable: {column}, replacing with 0\")\n",
      "/home/martin/mambaforge/envs/stable/lib/python3.12/site-packages/tobler/util/util.py:53: UserWarning: nan values in variable: stbCeA, replacing with 0\n",
      "  warn(f\"nan values in variable: {column}, replacing with 0\")\n",
      "/home/martin/mambaforge/envs/stable/lib/python3.12/site-packages/tobler/util/util.py:53: UserWarning: nan values in variable: mtbAli, replacing with 0\n",
      "  warn(f\"nan values in variable: {column}, replacing with 0\")\n",
      "/home/martin/mambaforge/envs/stable/lib/python3.12/site-packages/tobler/util/util.py:53: UserWarning: nan values in variable: mtbNDi, replacing with 0\n",
      "  warn(f\"nan values in variable: {column}, replacing with 0\")\n",
      "/home/martin/mambaforge/envs/stable/lib/python3.12/site-packages/tobler/util/util.py:53: UserWarning: nan values in variable: ltbIBD, replacing with 0\n",
      "  warn(f\"nan values in variable: {column}, replacing with 0\")\n",
      "/home/martin/mambaforge/envs/stable/lib/python3.12/site-packages/tobler/util/util.py:53: UserWarning: nan values in variable: stbSAl, replacing with 0\n",
      "  warn(f\"nan values in variable: {column}, replacing with 0\")\n"
     ]
    },
    {
     "name": "stdout",
     "output_type": "stream",
     "text": [
      "Chunk 94 done in 123.17 seconds.\n"
     ]
    },
    {
     "name": "stderr",
     "output_type": "stream",
     "text": [
      "/home/martin/mambaforge/envs/stable/lib/python3.12/site-packages/tobler/util/util.py:53: UserWarning: nan values in variable: sdbAre, replacing with 0\n",
      "  warn(f\"nan values in variable: {column}, replacing with 0\")\n",
      "/home/martin/mambaforge/envs/stable/lib/python3.12/site-packages/tobler/util/util.py:53: UserWarning: nan values in variable: sdbCoA, replacing with 0\n",
      "  warn(f\"nan values in variable: {column}, replacing with 0\")\n",
      "/home/martin/mambaforge/envs/stable/lib/python3.12/site-packages/tobler/util/util.py:53: UserWarning: nan values in variable: ssbCCo, replacing with 0\n",
      "  warn(f\"nan values in variable: {column}, replacing with 0\")\n",
      "/home/martin/mambaforge/envs/stable/lib/python3.12/site-packages/tobler/util/util.py:53: UserWarning: nan values in variable: ssbCor, replacing with 0\n",
      "  warn(f\"nan values in variable: {column}, replacing with 0\")\n",
      "/home/martin/mambaforge/envs/stable/lib/python3.12/site-packages/tobler/util/util.py:53: UserWarning: nan values in variable: ssbSqu, replacing with 0\n",
      "  warn(f\"nan values in variable: {column}, replacing with 0\")\n",
      "/home/martin/mambaforge/envs/stable/lib/python3.12/site-packages/tobler/util/util.py:53: UserWarning: nan values in variable: ssbERI, replacing with 0\n",
      "  warn(f\"nan values in variable: {column}, replacing with 0\")\n",
      "/home/martin/mambaforge/envs/stable/lib/python3.12/site-packages/tobler/util/util.py:53: UserWarning: nan values in variable: ssbCCM, replacing with 0\n",
      "  warn(f\"nan values in variable: {column}, replacing with 0\")\n",
      "/home/martin/mambaforge/envs/stable/lib/python3.12/site-packages/tobler/util/util.py:53: UserWarning: nan values in variable: ssbCCD, replacing with 0\n",
      "  warn(f\"nan values in variable: {column}, replacing with 0\")\n",
      "/home/martin/mambaforge/envs/stable/lib/python3.12/site-packages/tobler/util/util.py:53: UserWarning: nan values in variable: stbOri, replacing with 0\n",
      "  warn(f\"nan values in variable: {column}, replacing with 0\")\n",
      "/home/martin/mambaforge/envs/stable/lib/python3.12/site-packages/tobler/util/util.py:53: UserWarning: nan values in variable: sicCAR, replacing with 0\n",
      "  warn(f\"nan values in variable: {column}, replacing with 0\")\n",
      "/home/martin/mambaforge/envs/stable/lib/python3.12/site-packages/tobler/util/util.py:53: UserWarning: nan values in variable: stbCeA, replacing with 0\n",
      "  warn(f\"nan values in variable: {column}, replacing with 0\")\n",
      "/home/martin/mambaforge/envs/stable/lib/python3.12/site-packages/tobler/util/util.py:53: UserWarning: nan values in variable: mtbAli, replacing with 0\n",
      "  warn(f\"nan values in variable: {column}, replacing with 0\")\n",
      "/home/martin/mambaforge/envs/stable/lib/python3.12/site-packages/tobler/util/util.py:53: UserWarning: nan values in variable: mtbNDi, replacing with 0\n",
      "  warn(f\"nan values in variable: {column}, replacing with 0\")\n",
      "/home/martin/mambaforge/envs/stable/lib/python3.12/site-packages/tobler/util/util.py:53: UserWarning: nan values in variable: ltbIBD, replacing with 0\n",
      "  warn(f\"nan values in variable: {column}, replacing with 0\")\n",
      "/home/martin/mambaforge/envs/stable/lib/python3.12/site-packages/tobler/util/util.py:53: UserWarning: nan values in variable: stbSAl, replacing with 0\n",
      "  warn(f\"nan values in variable: {column}, replacing with 0\")\n",
      "/home/martin/mambaforge/envs/stable/lib/python3.12/site-packages/tobler/util/util.py:53: UserWarning: nan values in variable: lieWCe, replacing with 0\n",
      "  warn(f\"nan values in variable: {column}, replacing with 0\")\n"
     ]
    },
    {
     "name": "stdout",
     "output_type": "stream",
     "text": [
      "Chunk 95 done in 302.12 seconds.\n"
     ]
    },
    {
     "name": "stderr",
     "output_type": "stream",
     "text": [
      "/home/martin/mambaforge/envs/stable/lib/python3.12/site-packages/tobler/util/util.py:53: UserWarning: nan values in variable: sdbAre, replacing with 0\n",
      "  warn(f\"nan values in variable: {column}, replacing with 0\")\n",
      "/home/martin/mambaforge/envs/stable/lib/python3.12/site-packages/tobler/util/util.py:53: UserWarning: nan values in variable: sdbCoA, replacing with 0\n",
      "  warn(f\"nan values in variable: {column}, replacing with 0\")\n",
      "/home/martin/mambaforge/envs/stable/lib/python3.12/site-packages/tobler/util/util.py:53: UserWarning: nan values in variable: ssbCCo, replacing with 0\n",
      "  warn(f\"nan values in variable: {column}, replacing with 0\")\n",
      "/home/martin/mambaforge/envs/stable/lib/python3.12/site-packages/tobler/util/util.py:53: UserWarning: nan values in variable: ssbCor, replacing with 0\n",
      "  warn(f\"nan values in variable: {column}, replacing with 0\")\n",
      "/home/martin/mambaforge/envs/stable/lib/python3.12/site-packages/tobler/util/util.py:53: UserWarning: nan values in variable: ssbSqu, replacing with 0\n",
      "  warn(f\"nan values in variable: {column}, replacing with 0\")\n",
      "/home/martin/mambaforge/envs/stable/lib/python3.12/site-packages/tobler/util/util.py:53: UserWarning: nan values in variable: ssbERI, replacing with 0\n",
      "  warn(f\"nan values in variable: {column}, replacing with 0\")\n",
      "/home/martin/mambaforge/envs/stable/lib/python3.12/site-packages/tobler/util/util.py:53: UserWarning: nan values in variable: ssbCCM, replacing with 0\n",
      "  warn(f\"nan values in variable: {column}, replacing with 0\")\n",
      "/home/martin/mambaforge/envs/stable/lib/python3.12/site-packages/tobler/util/util.py:53: UserWarning: nan values in variable: ssbCCD, replacing with 0\n",
      "  warn(f\"nan values in variable: {column}, replacing with 0\")\n",
      "/home/martin/mambaforge/envs/stable/lib/python3.12/site-packages/tobler/util/util.py:53: UserWarning: nan values in variable: stbOri, replacing with 0\n",
      "  warn(f\"nan values in variable: {column}, replacing with 0\")\n",
      "/home/martin/mambaforge/envs/stable/lib/python3.12/site-packages/tobler/util/util.py:53: UserWarning: nan values in variable: sicCAR, replacing with 0\n",
      "  warn(f\"nan values in variable: {column}, replacing with 0\")\n",
      "/home/martin/mambaforge/envs/stable/lib/python3.12/site-packages/tobler/util/util.py:53: UserWarning: nan values in variable: stbCeA, replacing with 0\n",
      "  warn(f\"nan values in variable: {column}, replacing with 0\")\n",
      "/home/martin/mambaforge/envs/stable/lib/python3.12/site-packages/tobler/util/util.py:53: UserWarning: nan values in variable: mtbAli, replacing with 0\n",
      "  warn(f\"nan values in variable: {column}, replacing with 0\")\n",
      "/home/martin/mambaforge/envs/stable/lib/python3.12/site-packages/tobler/util/util.py:53: UserWarning: nan values in variable: mtbNDi, replacing with 0\n",
      "  warn(f\"nan values in variable: {column}, replacing with 0\")\n",
      "/home/martin/mambaforge/envs/stable/lib/python3.12/site-packages/tobler/util/util.py:53: UserWarning: nan values in variable: stbSAl, replacing with 0\n",
      "  warn(f\"nan values in variable: {column}, replacing with 0\")\n",
      "/home/martin/mambaforge/envs/stable/lib/python3.12/site-packages/tobler/util/util.py:53: UserWarning: nan values in variable: lieWCe, replacing with 0\n",
      "  warn(f\"nan values in variable: {column}, replacing with 0\")\n"
     ]
    },
    {
     "name": "stdout",
     "output_type": "stream",
     "text": [
      "Chunk 96 done in 217.16 seconds.\n"
     ]
    },
    {
     "name": "stderr",
     "output_type": "stream",
     "text": [
      "/home/martin/mambaforge/envs/stable/lib/python3.12/site-packages/tobler/util/util.py:53: UserWarning: nan values in variable: sdbAre, replacing with 0\n",
      "  warn(f\"nan values in variable: {column}, replacing with 0\")\n",
      "/home/martin/mambaforge/envs/stable/lib/python3.12/site-packages/tobler/util/util.py:53: UserWarning: nan values in variable: sdbCoA, replacing with 0\n",
      "  warn(f\"nan values in variable: {column}, replacing with 0\")\n",
      "/home/martin/mambaforge/envs/stable/lib/python3.12/site-packages/tobler/util/util.py:53: UserWarning: nan values in variable: ssbCCo, replacing with 0\n",
      "  warn(f\"nan values in variable: {column}, replacing with 0\")\n",
      "/home/martin/mambaforge/envs/stable/lib/python3.12/site-packages/tobler/util/util.py:53: UserWarning: nan values in variable: ssbCor, replacing with 0\n",
      "  warn(f\"nan values in variable: {column}, replacing with 0\")\n",
      "/home/martin/mambaforge/envs/stable/lib/python3.12/site-packages/tobler/util/util.py:53: UserWarning: nan values in variable: ssbSqu, replacing with 0\n",
      "  warn(f\"nan values in variable: {column}, replacing with 0\")\n",
      "/home/martin/mambaforge/envs/stable/lib/python3.12/site-packages/tobler/util/util.py:53: UserWarning: nan values in variable: ssbERI, replacing with 0\n",
      "  warn(f\"nan values in variable: {column}, replacing with 0\")\n",
      "/home/martin/mambaforge/envs/stable/lib/python3.12/site-packages/tobler/util/util.py:53: UserWarning: nan values in variable: ssbCCM, replacing with 0\n",
      "  warn(f\"nan values in variable: {column}, replacing with 0\")\n",
      "/home/martin/mambaforge/envs/stable/lib/python3.12/site-packages/tobler/util/util.py:53: UserWarning: nan values in variable: ssbCCD, replacing with 0\n",
      "  warn(f\"nan values in variable: {column}, replacing with 0\")\n",
      "/home/martin/mambaforge/envs/stable/lib/python3.12/site-packages/tobler/util/util.py:53: UserWarning: nan values in variable: stbOri, replacing with 0\n",
      "  warn(f\"nan values in variable: {column}, replacing with 0\")\n",
      "/home/martin/mambaforge/envs/stable/lib/python3.12/site-packages/tobler/util/util.py:53: UserWarning: nan values in variable: sicCAR, replacing with 0\n",
      "  warn(f\"nan values in variable: {column}, replacing with 0\")\n",
      "/home/martin/mambaforge/envs/stable/lib/python3.12/site-packages/tobler/util/util.py:53: UserWarning: nan values in variable: stbCeA, replacing with 0\n",
      "  warn(f\"nan values in variable: {column}, replacing with 0\")\n",
      "/home/martin/mambaforge/envs/stable/lib/python3.12/site-packages/tobler/util/util.py:53: UserWarning: nan values in variable: mtbAli, replacing with 0\n",
      "  warn(f\"nan values in variable: {column}, replacing with 0\")\n",
      "/home/martin/mambaforge/envs/stable/lib/python3.12/site-packages/tobler/util/util.py:53: UserWarning: nan values in variable: mtbNDi, replacing with 0\n",
      "  warn(f\"nan values in variable: {column}, replacing with 0\")\n",
      "/home/martin/mambaforge/envs/stable/lib/python3.12/site-packages/tobler/util/util.py:53: UserWarning: nan values in variable: stbSAl, replacing with 0\n",
      "  warn(f\"nan values in variable: {column}, replacing with 0\")\n",
      "/home/martin/mambaforge/envs/stable/lib/python3.12/site-packages/tobler/util/util.py:53: UserWarning: nan values in variable: lieWCe, replacing with 0\n",
      "  warn(f\"nan values in variable: {column}, replacing with 0\")\n"
     ]
    },
    {
     "name": "stdout",
     "output_type": "stream",
     "text": [
      "Chunk 97 done in 237.55 seconds.\n"
     ]
    },
    {
     "name": "stderr",
     "output_type": "stream",
     "text": [
      "/home/martin/mambaforge/envs/stable/lib/python3.12/site-packages/tobler/util/util.py:53: UserWarning: nan values in variable: sdbAre, replacing with 0\n",
      "  warn(f\"nan values in variable: {column}, replacing with 0\")\n",
      "/home/martin/mambaforge/envs/stable/lib/python3.12/site-packages/tobler/util/util.py:53: UserWarning: nan values in variable: sdbCoA, replacing with 0\n",
      "  warn(f\"nan values in variable: {column}, replacing with 0\")\n",
      "/home/martin/mambaforge/envs/stable/lib/python3.12/site-packages/tobler/util/util.py:53: UserWarning: nan values in variable: ssbCCo, replacing with 0\n",
      "  warn(f\"nan values in variable: {column}, replacing with 0\")\n",
      "/home/martin/mambaforge/envs/stable/lib/python3.12/site-packages/tobler/util/util.py:53: UserWarning: nan values in variable: ssbCor, replacing with 0\n",
      "  warn(f\"nan values in variable: {column}, replacing with 0\")\n",
      "/home/martin/mambaforge/envs/stable/lib/python3.12/site-packages/tobler/util/util.py:53: UserWarning: nan values in variable: ssbSqu, replacing with 0\n",
      "  warn(f\"nan values in variable: {column}, replacing with 0\")\n",
      "/home/martin/mambaforge/envs/stable/lib/python3.12/site-packages/tobler/util/util.py:53: UserWarning: nan values in variable: ssbERI, replacing with 0\n",
      "  warn(f\"nan values in variable: {column}, replacing with 0\")\n",
      "/home/martin/mambaforge/envs/stable/lib/python3.12/site-packages/tobler/util/util.py:53: UserWarning: nan values in variable: ssbCCM, replacing with 0\n",
      "  warn(f\"nan values in variable: {column}, replacing with 0\")\n",
      "/home/martin/mambaforge/envs/stable/lib/python3.12/site-packages/tobler/util/util.py:53: UserWarning: nan values in variable: ssbCCD, replacing with 0\n",
      "  warn(f\"nan values in variable: {column}, replacing with 0\")\n",
      "/home/martin/mambaforge/envs/stable/lib/python3.12/site-packages/tobler/util/util.py:53: UserWarning: nan values in variable: stbOri, replacing with 0\n",
      "  warn(f\"nan values in variable: {column}, replacing with 0\")\n",
      "/home/martin/mambaforge/envs/stable/lib/python3.12/site-packages/tobler/util/util.py:53: UserWarning: nan values in variable: sicCAR, replacing with 0\n",
      "  warn(f\"nan values in variable: {column}, replacing with 0\")\n",
      "/home/martin/mambaforge/envs/stable/lib/python3.12/site-packages/tobler/util/util.py:53: UserWarning: nan values in variable: stbCeA, replacing with 0\n",
      "  warn(f\"nan values in variable: {column}, replacing with 0\")\n",
      "/home/martin/mambaforge/envs/stable/lib/python3.12/site-packages/tobler/util/util.py:53: UserWarning: nan values in variable: mtbAli, replacing with 0\n",
      "  warn(f\"nan values in variable: {column}, replacing with 0\")\n",
      "/home/martin/mambaforge/envs/stable/lib/python3.12/site-packages/tobler/util/util.py:53: UserWarning: nan values in variable: mtbNDi, replacing with 0\n",
      "  warn(f\"nan values in variable: {column}, replacing with 0\")\n",
      "/home/martin/mambaforge/envs/stable/lib/python3.12/site-packages/tobler/util/util.py:53: UserWarning: nan values in variable: ltbIBD, replacing with 0\n",
      "  warn(f\"nan values in variable: {column}, replacing with 0\")\n",
      "/home/martin/mambaforge/envs/stable/lib/python3.12/site-packages/tobler/util/util.py:53: UserWarning: nan values in variable: stbSAl, replacing with 0\n",
      "  warn(f\"nan values in variable: {column}, replacing with 0\")\n",
      "/home/martin/mambaforge/envs/stable/lib/python3.12/site-packages/tobler/util/util.py:53: UserWarning: nan values in variable: lieWCe, replacing with 0\n",
      "  warn(f\"nan values in variable: {column}, replacing with 0\")\n"
     ]
    },
    {
     "name": "stdout",
     "output_type": "stream",
     "text": [
      "Chunk 98 done in 148.30 seconds.\n"
     ]
    },
    {
     "name": "stderr",
     "output_type": "stream",
     "text": [
      "/home/martin/mambaforge/envs/stable/lib/python3.12/site-packages/tobler/util/util.py:53: UserWarning: nan values in variable: sdbAre, replacing with 0\n",
      "  warn(f\"nan values in variable: {column}, replacing with 0\")\n",
      "/home/martin/mambaforge/envs/stable/lib/python3.12/site-packages/tobler/util/util.py:53: UserWarning: nan values in variable: sdbCoA, replacing with 0\n",
      "  warn(f\"nan values in variable: {column}, replacing with 0\")\n",
      "/home/martin/mambaforge/envs/stable/lib/python3.12/site-packages/tobler/util/util.py:53: UserWarning: nan values in variable: ssbCCo, replacing with 0\n",
      "  warn(f\"nan values in variable: {column}, replacing with 0\")\n",
      "/home/martin/mambaforge/envs/stable/lib/python3.12/site-packages/tobler/util/util.py:53: UserWarning: nan values in variable: ssbCor, replacing with 0\n",
      "  warn(f\"nan values in variable: {column}, replacing with 0\")\n",
      "/home/martin/mambaforge/envs/stable/lib/python3.12/site-packages/tobler/util/util.py:53: UserWarning: nan values in variable: ssbSqu, replacing with 0\n",
      "  warn(f\"nan values in variable: {column}, replacing with 0\")\n",
      "/home/martin/mambaforge/envs/stable/lib/python3.12/site-packages/tobler/util/util.py:53: UserWarning: nan values in variable: ssbERI, replacing with 0\n",
      "  warn(f\"nan values in variable: {column}, replacing with 0\")\n",
      "/home/martin/mambaforge/envs/stable/lib/python3.12/site-packages/tobler/util/util.py:53: UserWarning: nan values in variable: ssbCCM, replacing with 0\n",
      "  warn(f\"nan values in variable: {column}, replacing with 0\")\n",
      "/home/martin/mambaforge/envs/stable/lib/python3.12/site-packages/tobler/util/util.py:53: UserWarning: nan values in variable: ssbCCD, replacing with 0\n",
      "  warn(f\"nan values in variable: {column}, replacing with 0\")\n",
      "/home/martin/mambaforge/envs/stable/lib/python3.12/site-packages/tobler/util/util.py:53: UserWarning: nan values in variable: stbOri, replacing with 0\n",
      "  warn(f\"nan values in variable: {column}, replacing with 0\")\n",
      "/home/martin/mambaforge/envs/stable/lib/python3.12/site-packages/tobler/util/util.py:53: UserWarning: nan values in variable: sicCAR, replacing with 0\n",
      "  warn(f\"nan values in variable: {column}, replacing with 0\")\n",
      "/home/martin/mambaforge/envs/stable/lib/python3.12/site-packages/tobler/util/util.py:53: UserWarning: nan values in variable: stbCeA, replacing with 0\n",
      "  warn(f\"nan values in variable: {column}, replacing with 0\")\n",
      "/home/martin/mambaforge/envs/stable/lib/python3.12/site-packages/tobler/util/util.py:53: UserWarning: nan values in variable: mtbAli, replacing with 0\n",
      "  warn(f\"nan values in variable: {column}, replacing with 0\")\n",
      "/home/martin/mambaforge/envs/stable/lib/python3.12/site-packages/tobler/util/util.py:53: UserWarning: nan values in variable: mtbNDi, replacing with 0\n",
      "  warn(f\"nan values in variable: {column}, replacing with 0\")\n",
      "/home/martin/mambaforge/envs/stable/lib/python3.12/site-packages/tobler/util/util.py:53: UserWarning: nan values in variable: ltbIBD, replacing with 0\n",
      "  warn(f\"nan values in variable: {column}, replacing with 0\")\n",
      "/home/martin/mambaforge/envs/stable/lib/python3.12/site-packages/tobler/util/util.py:53: UserWarning: nan values in variable: stbSAl, replacing with 0\n",
      "  warn(f\"nan values in variable: {column}, replacing with 0\")\n",
      "/home/martin/mambaforge/envs/stable/lib/python3.12/site-packages/tobler/util/util.py:53: UserWarning: nan values in variable: lieWCe, replacing with 0\n",
      "  warn(f\"nan values in variable: {column}, replacing with 0\")\n"
     ]
    },
    {
     "name": "stdout",
     "output_type": "stream",
     "text": [
      "Chunk 99 done in 98.55 seconds.\n"
     ]
    }
   ],
   "source": [
    "interpolated = []\n",
    "for i, chunk in enumerate(np.array_split(grid, 100)):\n",
    "    s = time()\n",
    "    mx, my, xx, xy = chunk.total_bounds\n",
    "    affected_cells = data.cx[mx:xx, my:xy].compute()\n",
    "    interpolated.append(tobler.area_weighted.area_interpolate(affected_cells, chunk, intensive_variables=chars.tolist()))\n",
    "    del affected_cells\n",
    "    gc.collect()\n",
    "    print(f\"Chunk {i} done in {time() - s:.2f} seconds.\")"
   ]
  },
  {
   "cell_type": "code",
   "execution_count": 44,
   "id": "4d3f308d-5950-43b5-b774-c0fa5be77730",
   "metadata": {},
   "outputs": [],
   "source": [
    "all_of_it = pd.concat(interpolated)"
   ]
  },
  {
   "cell_type": "code",
   "execution_count": 45,
   "id": "be84304b-1246-455b-8397-60db2dadf378",
   "metadata": {},
   "outputs": [],
   "source": [
    "grid[chars] = all_of_it[chars].values"
   ]
  },
  {
   "cell_type": "code",
   "execution_count": 46,
   "id": "afab8282-daa5-4c4f-8d24-93b72948d270",
   "metadata": {},
   "outputs": [],
   "source": [
    "grid[chars].drop(columns=[\"ssbCCo\", \"ssbSqu\", \"ssbERI\", \"stbOri\"]).to_parquet(f\"{data_folder}/h3/morphometrics.parquet\")"
   ]
  },
  {
   "cell_type": "code",
   "execution_count": 48,
   "id": "ae52b459-0fe2-4ea0-8e6c-c32b5ff65215",
   "metadata": {},
   "outputs": [],
   "source": [
    "grid.drop(columns=[\"ssbCCo\", \"ssbSqu\", \"ssbERI\", \"stbOri\"]).to_parquet(f\"{data_folder}/h3/grid_complete.parquet\")"
   ]
  },
  {
   "cell_type": "markdown",
   "id": "adf3fc0a-d668-4b38-8cf5-3f563b5096cf",
   "metadata": {},
   "source": [
    "## Signature type"
   ]
  },
  {
   "cell_type": "code",
   "execution_count": 3,
   "id": "cc70a423-37b5-48e4-8d22-045e4791870b",
   "metadata": {},
   "outputs": [],
   "source": [
    "grid = gpd.read_parquet(f\"{data_folder}/h3/grid_complete.parquet\")"
   ]
  },
  {
   "cell_type": "code",
   "execution_count": 4,
   "id": "0b2bb298-e09b-4781-bafa-d8daa12bab4d",
   "metadata": {},
   "outputs": [],
   "source": [
    "signatures = gpd.read_file(\"../../../urbangrammar_samba/spatial_signatures/signatures/spatial_signatures_GB_simplified.gpkg\", engine=\"pyogrio\")"
   ]
  },
  {
   "cell_type": "code",
   "execution_count": 8,
   "id": "62e1c7f4-eddb-498a-898e-627237712d1c",
   "metadata": {},
   "outputs": [
    {
     "name": "stdout",
     "output_type": "stream",
     "text": [
      "CPU times: user 5.01 s, sys: 221 ms, total: 5.23 s\n",
      "Wall time: 5.23 s\n"
     ]
    }
   ],
   "source": [
    "%%time\n",
    "grid_signatures = grid.set_geometry(grid.centroid)[[\"geometry\"]].sjoin(signatures, predicate=\"within\", how=\"left\")"
   ]
  },
  {
   "cell_type": "code",
   "execution_count": 20,
   "id": "1c529a10-1ece-4a6e-9771-eba987ecfd03",
   "metadata": {},
   "outputs": [],
   "source": [
    "grid_signatures = grid_signatures.reset_index().drop_duplicates(subset=\"hex_id\").set_index(\"hex_id\")"
   ]
  },
  {
   "cell_type": "code",
   "execution_count": 21,
   "id": "3e3547df-e34a-42da-bfc5-03460291bcc3",
   "metadata": {},
   "outputs": [],
   "source": [
    "grid[\"signature_type\"] = grid_signatures[\"type\"]"
   ]
  },
  {
   "cell_type": "code",
   "execution_count": 23,
   "id": "fc646b33-bb51-48ff-a74e-9ff5a8efb104",
   "metadata": {},
   "outputs": [],
   "source": [
    "grid[[\"signature_type\"]].to_parquet(f\"{data_folder}/h3/signatures.parquet\")"
   ]
  },
  {
   "cell_type": "markdown",
   "id": "0a40b25a-7083-4e6e-8836-0edf0d58a7b6",
   "metadata": {},
   "source": [
    "## Wales not present in house price\n",
    "\n",
    "We don't have all of the data for Wales, let's filter it out."
   ]
  },
  {
   "cell_type": "code",
   "execution_count": 56,
   "id": "ad5a8bb3-824d-48b3-9f47-a6abc3473701",
   "metadata": {},
   "outputs": [],
   "source": [
    "grid_en = grid.iloc[grid.sindex.query(gb[gb.shapeName.isin([\"England\"])].to_crs(27700).geometry.item(), predicate=\"intersects\")]"
   ]
  },
  {
   "cell_type": "code",
   "execution_count": 58,
   "id": "e1578ba1-30da-4161-9032-5316b25f3284",
   "metadata": {},
   "outputs": [],
   "source": [
    "grid_en.drop(columns=[\"ssbCCo\", \"ssbSqu\", \"ssbERI\", \"stbOri\"]).to_parquet(f\"{data_folder}/h3/grid_complete.parquet\")"
   ]
  },
  {
   "cell_type": "code",
   "execution_count": 59,
   "id": "ea6cd42d-aee5-48b8-b481-7f99cc5663f7",
   "metadata": {},
   "outputs": [],
   "source": [
    "grid_en[interesting].to_parquet(f\"{data_folder}/h3/corine.parquet\")"
   ]
  },
  {
   "cell_type": "code",
   "execution_count": 60,
   "id": "1824f749-c6dd-435a-930f-e2ca69b05587",
   "metadata": {},
   "outputs": [],
   "source": [
    "grid_en[[\n",
    "        \"A, B, D, E. Agriculture, energy and water\",\n",
    "        \"C. Manufacturing\",\n",
    "        \"F. Construction\",\n",
    "        \"G, I. Distribution, hotels and restaurants\",\n",
    "        \"H, J. Transport and communication\",\n",
    "        \"K, L, M, N. Financial, real estate, professional and administrative activities\",\n",
    "        \"O,P,Q. Public administration, education and health\",\n",
    "        \"R, S, T, U. Other\",\n",
    "    ]].to_parquet(f\"{data_folder}/h3/wp_population.parquet\")"
   ]
  },
  {
   "cell_type": "code",
   "execution_count": 61,
   "id": "9f1d727d-bff9-4492-8efd-3c3ca3f542b3",
   "metadata": {},
   "outputs": [],
   "source": [
    "grid_en[[\"population\"]].to_parquet(f\"{data_folder}/h3/population.parquet\")"
   ]
  },
  {
   "cell_type": "code",
   "execution_count": 62,
   "id": "2cda0479-b8d2-45ac-9692-7fcc6f06fc86",
   "metadata": {},
   "outputs": [],
   "source": [
    "grid_en[[\"house_price_index\"]].to_parquet(f\"{data_folder}/h3/house_price.parquet\")"
   ]
  },
  {
   "cell_type": "code",
   "execution_count": 63,
   "id": "457db3c9-a595-453e-be42-1698af211c6b",
   "metadata": {},
   "outputs": [],
   "source": [
    "grid_en[[\"air_quality_index\"]].to_parquet(f\"{data_folder}/h3/air_quality.parquet\")"
   ]
  },
  {
   "cell_type": "code",
   "execution_count": 64,
   "id": "4bebb4eb-16e6-47c5-8717-2ad1529a7314",
   "metadata": {},
   "outputs": [],
   "source": [
    "grid_en[chars].drop(columns=[\"ssbCCo\", \"ssbSqu\", \"ssbERI\", \"stbOri\"]).to_parquet(f\"{data_folder}/h3/morphometrics.parquet\")"
   ]
  },
  {
   "cell_type": "code",
   "execution_count": 65,
   "id": "7f2c045e-d2fa-467a-b6b4-37f725597d46",
   "metadata": {},
   "outputs": [],
   "source": [
    "grid[[\"geometry\"]].to_parquet(f\"{data_folder}/h3/empty_grid.parquet\")"
   ]
  },
  {
   "cell_type": "code",
   "execution_count": null,
   "id": "0ce6bc96-448d-433f-8159-6df9c64dd123",
   "metadata": {},
   "outputs": [],
   "source": []
  },
  {
   "cell_type": "code",
   "execution_count": null,
   "id": "031a8459-62db-46b7-a920-b4c900452920",
   "metadata": {},
   "outputs": [],
   "source": []
  },
  {
   "cell_type": "code",
   "execution_count": null,
   "id": "27872710-7e9a-4d76-aeac-97f1f0f2ceb9",
   "metadata": {},
   "outputs": [],
   "source": []
  },
  {
   "cell_type": "code",
   "execution_count": 20,
   "id": "878e5f54-0f36-4eb9-aad5-89715490229e",
   "metadata": {},
   "outputs": [
    {
     "name": "stderr",
     "output_type": "stream",
     "text": [
      "/home/martin/mambaforge/envs/stable/lib/python3.12/site-packages/tobler/util/util.py:113: UserWarning: The source geodataframe is stored in a geographic CRS. Falling back to estimated UTM zone to generate desired buffer. If this produces unexpected results, reproject the input data prior to using this function\n",
      "  warn(\n"
     ]
    }
   ],
   "source": [
    "grid = h3fy(ew, resolution=3, buffer=True)"
   ]
  },
  {
   "cell_type": "code",
   "execution_count": 21,
   "id": "1997c74a-85c4-472e-a4ef-a41d28562c12",
   "metadata": {},
   "outputs": [
    {
     "data": {
      "text/html": [
       "<div style=\"width:100%;\"><div style=\"position:relative;width:100%;height:0;padding-bottom:60%;\"><span style=\"color:#565656\">Make this Notebook Trusted to load map: File -> Trust Notebook</span><iframe srcdoc=\"&lt;!DOCTYPE html&gt;\n",
       "&lt;html&gt;\n",
       "&lt;head&gt;\n",
       "    \n",
       "    &lt;meta http-equiv=&quot;content-type&quot; content=&quot;text/html; charset=UTF-8&quot; /&gt;\n",
       "    \n",
       "        &lt;script&gt;\n",
       "            L_NO_TOUCH = false;\n",
       "            L_DISABLE_3D = false;\n",
       "        &lt;/script&gt;\n",
       "    \n",
       "    &lt;style&gt;html, body {width: 100%;height: 100%;margin: 0;padding: 0;}&lt;/style&gt;\n",
       "    &lt;style&gt;#map {position:absolute;top:0;bottom:0;right:0;left:0;}&lt;/style&gt;\n",
       "    &lt;script src=&quot;https://cdn.jsdelivr.net/npm/leaflet@1.9.3/dist/leaflet.js&quot;&gt;&lt;/script&gt;\n",
       "    &lt;script src=&quot;https://code.jquery.com/jquery-3.7.1.min.js&quot;&gt;&lt;/script&gt;\n",
       "    &lt;script src=&quot;https://cdn.jsdelivr.net/npm/bootstrap@5.2.2/dist/js/bootstrap.bundle.min.js&quot;&gt;&lt;/script&gt;\n",
       "    &lt;script src=&quot;https://cdnjs.cloudflare.com/ajax/libs/Leaflet.awesome-markers/2.0.2/leaflet.awesome-markers.js&quot;&gt;&lt;/script&gt;\n",
       "    &lt;link rel=&quot;stylesheet&quot; href=&quot;https://cdn.jsdelivr.net/npm/leaflet@1.9.3/dist/leaflet.css&quot;/&gt;\n",
       "    &lt;link rel=&quot;stylesheet&quot; href=&quot;https://cdn.jsdelivr.net/npm/bootstrap@5.2.2/dist/css/bootstrap.min.css&quot;/&gt;\n",
       "    &lt;link rel=&quot;stylesheet&quot; href=&quot;https://netdna.bootstrapcdn.com/bootstrap/3.0.0/css/bootstrap.min.css&quot;/&gt;\n",
       "    &lt;link rel=&quot;stylesheet&quot; href=&quot;https://cdn.jsdelivr.net/npm/@fortawesome/fontawesome-free@6.2.0/css/all.min.css&quot;/&gt;\n",
       "    &lt;link rel=&quot;stylesheet&quot; href=&quot;https://cdnjs.cloudflare.com/ajax/libs/Leaflet.awesome-markers/2.0.2/leaflet.awesome-markers.css&quot;/&gt;\n",
       "    &lt;link rel=&quot;stylesheet&quot; href=&quot;https://cdn.jsdelivr.net/gh/python-visualization/folium/folium/templates/leaflet.awesome.rotate.min.css&quot;/&gt;\n",
       "    \n",
       "            &lt;meta name=&quot;viewport&quot; content=&quot;width=device-width,\n",
       "                initial-scale=1.0, maximum-scale=1.0, user-scalable=no&quot; /&gt;\n",
       "            &lt;style&gt;\n",
       "                #map_21150eebb5b4743a407fc4474515d39f {\n",
       "                    position: relative;\n",
       "                    width: 100.0%;\n",
       "                    height: 100.0%;\n",
       "                    left: 0.0%;\n",
       "                    top: 0.0%;\n",
       "                }\n",
       "                .leaflet-container { font-size: 1rem; }\n",
       "            &lt;/style&gt;\n",
       "        \n",
       "    \n",
       "                    &lt;style&gt;\n",
       "                        .foliumtooltip {\n",
       "                            \n",
       "                        }\n",
       "                       .foliumtooltip table{\n",
       "                            margin: auto;\n",
       "                        }\n",
       "                        .foliumtooltip tr{\n",
       "                            text-align: left;\n",
       "                        }\n",
       "                        .foliumtooltip th{\n",
       "                            padding: 2px; padding-right: 8px;\n",
       "                        }\n",
       "                    &lt;/style&gt;\n",
       "            \n",
       "&lt;/head&gt;\n",
       "&lt;body&gt;\n",
       "    \n",
       "    \n",
       "            &lt;div class=&quot;folium-map&quot; id=&quot;map_21150eebb5b4743a407fc4474515d39f&quot; &gt;&lt;/div&gt;\n",
       "        \n",
       "&lt;/body&gt;\n",
       "&lt;script&gt;\n",
       "    \n",
       "    \n",
       "            var map_21150eebb5b4743a407fc4474515d39f = L.map(\n",
       "                &quot;map_21150eebb5b4743a407fc4474515d39f&quot;,\n",
       "                {\n",
       "                    center: [52.38306716048572, -2.3141520957886033],\n",
       "                    crs: L.CRS.EPSG3857,\n",
       "                    zoom: 10,\n",
       "                    zoomControl: true,\n",
       "                    preferCanvas: false,\n",
       "                }\n",
       "            );\n",
       "            L.control.scale().addTo(map_21150eebb5b4743a407fc4474515d39f);\n",
       "\n",
       "            \n",
       "\n",
       "        \n",
       "    \n",
       "            var tile_layer_39a0b6b5519d03434a340f7a9d410477 = L.tileLayer(\n",
       "                &quot;https://{s}.tile.openstreetmap.org/{z}/{x}/{y}.png&quot;,\n",
       "                {&quot;attribution&quot;: &quot;Data by \\u0026copy; \\u003ca target=\\&quot;_blank\\&quot; href=\\&quot;http://openstreetmap.org\\&quot;\\u003eOpenStreetMap\\u003c/a\\u003e, under \\u003ca target=\\&quot;_blank\\&quot; href=\\&quot;http://www.openstreetmap.org/copyright\\&quot;\\u003eODbL\\u003c/a\\u003e.&quot;, &quot;detectRetina&quot;: false, &quot;maxNativeZoom&quot;: 18, &quot;maxZoom&quot;: 18, &quot;minZoom&quot;: 0, &quot;noWrap&quot;: false, &quot;opacity&quot;: 1, &quot;subdomains&quot;: &quot;abc&quot;, &quot;tms&quot;: false}\n",
       "            );\n",
       "        \n",
       "    \n",
       "                tile_layer_39a0b6b5519d03434a340f7a9d410477.addTo(map_21150eebb5b4743a407fc4474515d39f);\n",
       "    \n",
       "            map_21150eebb5b4743a407fc4474515d39f.fitBounds(\n",
       "                [[48.84316786037564, -7.688747723524054], [55.92296646059581, 3.0604435319468477]],\n",
       "                {}\n",
       "            );\n",
       "        \n",
       "    \n",
       "        function geo_json_a7cb3a5c2021e24e5cbe3883c08d595e_styler(feature) {\n",
       "            switch(feature.id) {\n",
       "                default:\n",
       "                    return {&quot;fillOpacity&quot;: 0.5, &quot;weight&quot;: 2};\n",
       "            }\n",
       "        }\n",
       "        function geo_json_a7cb3a5c2021e24e5cbe3883c08d595e_highlighter(feature) {\n",
       "            switch(feature.id) {\n",
       "                default:\n",
       "                    return {&quot;fillOpacity&quot;: 0.75};\n",
       "            }\n",
       "        }\n",
       "        function geo_json_a7cb3a5c2021e24e5cbe3883c08d595e_pointToLayer(feature, latlng) {\n",
       "            var opts = {&quot;bubblingMouseEvents&quot;: true, &quot;color&quot;: &quot;#3388ff&quot;, &quot;dashArray&quot;: null, &quot;dashOffset&quot;: null, &quot;fill&quot;: true, &quot;fillColor&quot;: &quot;#3388ff&quot;, &quot;fillOpacity&quot;: 0.2, &quot;fillRule&quot;: &quot;evenodd&quot;, &quot;lineCap&quot;: &quot;round&quot;, &quot;lineJoin&quot;: &quot;round&quot;, &quot;opacity&quot;: 1.0, &quot;radius&quot;: 2, &quot;stroke&quot;: true, &quot;weight&quot;: 3};\n",
       "            \n",
       "            let style = geo_json_a7cb3a5c2021e24e5cbe3883c08d595e_styler(feature)\n",
       "            Object.assign(opts, style)\n",
       "            \n",
       "            return new L.CircleMarker(latlng, opts)\n",
       "        }\n",
       "\n",
       "        function geo_json_a7cb3a5c2021e24e5cbe3883c08d595e_onEachFeature(feature, layer) {\n",
       "            layer.on({\n",
       "                mouseout: function(e) {\n",
       "                    if(typeof e.target.setStyle === &quot;function&quot;){\n",
       "                        geo_json_a7cb3a5c2021e24e5cbe3883c08d595e.resetStyle(e.target);\n",
       "                    }\n",
       "                },\n",
       "                mouseover: function(e) {\n",
       "                    if(typeof e.target.setStyle === &quot;function&quot;){\n",
       "                        const highlightStyle = geo_json_a7cb3a5c2021e24e5cbe3883c08d595e_highlighter(e.target.feature)\n",
       "                        e.target.setStyle(highlightStyle);\n",
       "                    }\n",
       "                },\n",
       "            });\n",
       "        };\n",
       "        var geo_json_a7cb3a5c2021e24e5cbe3883c08d595e = L.geoJson(null, {\n",
       "                onEachFeature: geo_json_a7cb3a5c2021e24e5cbe3883c08d595e_onEachFeature,\n",
       "            \n",
       "                style: geo_json_a7cb3a5c2021e24e5cbe3883c08d595e_styler,\n",
       "                pointToLayer: geo_json_a7cb3a5c2021e24e5cbe3883c08d595e_pointToLayer,\n",
       "        });\n",
       "\n",
       "        function geo_json_a7cb3a5c2021e24e5cbe3883c08d595e_add (data) {\n",
       "            geo_json_a7cb3a5c2021e24e5cbe3883c08d595e\n",
       "                .addData(data);\n",
       "        }\n",
       "            geo_json_a7cb3a5c2021e24e5cbe3883c08d595e_add({&quot;bbox&quot;: [-7.688747723524054, 48.84316786037564, 3.0604435319468477, 55.92296646059581], &quot;features&quot;: [{&quot;bbox&quot;: [-4.675173205776982, 54.67729204593729, -2.7331111199996663, 55.8406058064649], &quot;geometry&quot;: {&quot;coordinates&quot;: [[[-3.9031812914854775, 55.8406058064649], [-4.675173205776982, 55.49985740307107], [-4.460076567781134, 54.917652385038245], [-3.4944287278558823, 54.67729204593729], [-2.7331111199996663, 55.014798631472935], [-2.9267177064860848, 55.59583470316195], [-3.9031812914854775, 55.8406058064649]]], &quot;type&quot;: &quot;Polygon&quot;}, &quot;id&quot;: &quot;0&quot;, &quot;properties&quot;: {&quot;hex_id&quot;: &quot;831954fffffffff&quot;}, &quot;type&quot;: &quot;Feature&quot;}, {&quot;bbox&quot;: [-4.490680054947681, 49.161560999631355, -2.731064296212218, 50.38282944370796], &quot;geometry&quot;: {&quot;coordinates&quot;: [[[-3.7907775932664753, 50.38282944370796], [-4.490680054947681, 50.008809383978786], [-4.297538412534103, 49.397332973072494], [-3.4221369115280904, 49.161560999631355], [-2.731064296212218, 49.5325579396428], [-2.906527879284161, 50.14229216995712], [-3.7907775932664753, 50.38282944370796]]], &quot;type&quot;: &quot;Polygon&quot;}, &quot;id&quot;: &quot;1&quot;, &quot;properties&quot;: {&quot;hex_id&quot;: &quot;831875fffffffff&quot;}, &quot;type&quot;: &quot;Feature&quot;}, {&quot;bbox&quot;: [-0.2191374344592462, 51.2780948734949, 1.5053806877635099, 52.47096576912289], &quot;geometry&quot;: {&quot;coordinates&quot;: [[[0.5083742960131225, 52.47096576912289], [-0.2191374344592462, 52.1416808182628], [-0.06929409787987491, 51.543996089430806], [0.7894710716359985, 51.2780948734949], [1.5053806877635099, 51.60510063785598], [1.3740996907033827, 52.2002300804246], [0.5083742960131225, 52.47096576912289]]], &quot;type&quot;: &quot;Polygon&quot;}, &quot;id&quot;: &quot;2&quot;, &quot;properties&quot;: {&quot;hex_id&quot;: &quot;83194efffffffff&quot;}, &quot;type&quot;: &quot;Feature&quot;}, {&quot;bbox&quot;: [-4.044753765725635, 52.906861390067036, -2.1788859209290266, 54.09042805857204], &quot;geometry&quot;: {&quot;coordinates&quot;: [[[-3.2971752224350066, 54.09042805857204], [-4.044753765725635, 53.742706148867775], [-3.8441992428094536, 53.150198648307686], [-2.9161271801966984, 52.906861390067036], [-2.1788859209290266, 53.25155105071479], [-2.3593453178254933, 53.84254342327844], [-3.2971752224350066, 54.09042805857204]]], &quot;type&quot;: &quot;Polygon&quot;}, &quot;id&quot;: &quot;3&quot;, &quot;properties&quot;: {&quot;hex_id&quot;: &quot;831951fffffffff&quot;}, &quot;type&quot;: &quot;Feature&quot;}, {&quot;bbox&quot;: [-5.217620266569282, 53.742706148867775, -3.2971752224350066, 54.917652385038245], &quot;geometry&quot;: {&quot;coordinates&quot;: [[[-4.460076567781134, 54.917652385038245], [-5.217620266569282, 54.56665772562461], [-4.999608193195974, 53.97864565988529], [-4.044753765725635, 53.742706148867775], [-3.2971752224350066, 54.09042805857204], [-3.4944287278558823, 54.67729204593729], [-4.460076567781134, 54.917652385038245]]], &quot;type&quot;: &quot;Polygon&quot;}, &quot;id&quot;: &quot;4&quot;, &quot;properties&quot;: {&quot;hex_id&quot;: &quot;831950fffffffff&quot;}, &quot;type&quot;: &quot;Feature&quot;}, {&quot;bbox&quot;: [-7.688747723524054, 48.84316786037564, -5.874786713992015, 50.06988864967187], &quot;geometry&quot;: {&quot;coordinates&quot;: [[[-6.997791824343003, 50.06988864967187], [-7.688747723524054, 49.67063851623119], [-7.460509080062732, 49.05681780552429], [-6.5587101528901, 48.84316786037564], [-5.874786713992015, 49.23891353771817], [-6.085547930402807, 49.85175437098185], [-6.997791824343003, 50.06988864967187]]], &quot;type&quot;: &quot;Polygon&quot;}, &quot;id&quot;: &quot;5&quot;, &quot;properties&quot;: {&quot;hex_id&quot;: &quot;831872fffffffff&quot;}, &quot;type&quot;: &quot;Feature&quot;}, {&quot;bbox&quot;: [-4.578382413982972, 51.95572451333033, -2.732038029192461, 53.150198648307686], &quot;geometry&quot;: {&quot;coordinates&quot;: [[[-3.8441992428094536, 53.150198648307686], [-4.578382413982972, 52.79243904276302], [-4.374848504674366, 52.1944919553097], [-3.456534537191969, 51.95572451333033], [-2.732038029192461, 52.31039900844115], [-2.9161271801966984, 52.906861390067036], [-3.8441992428094536, 53.150198648307686]]], &quot;type&quot;: &quot;Polygon&quot;}, &quot;id&quot;: &quot;6&quot;, &quot;properties&quot;: {&quot;hex_id&quot;: &quot;83195efffffffff&quot;}, &quot;type&quot;: &quot;Feature&quot;}, {&quot;bbox&quot;: [-2.9267177064860848, 54.762388366240536, -1.0219021580988135, 55.92296646059581], &quot;geometry&quot;: {&quot;coordinates&quot;: [[[-2.1513127410526924, 55.92296646059581], [-2.9267177064860848, 55.59583470316195], [-2.7331111199996663, 55.014798631472935], [-1.7855433613315903, 54.762388366240536], [-1.0219021580988135, 55.08658062199775], [-1.1940493186060679, 55.66605136909814], [-2.1513127410526924, 55.92296646059581]]], &quot;type&quot;: &quot;Polygon&quot;}, &quot;id&quot;: &quot;7&quot;, &quot;properties&quot;: {&quot;hex_id&quot;: &quot;831973fffffffff&quot;}, &quot;type&quot;: &quot;Feature&quot;}, {&quot;bbox&quot;: [-5.7430917230710525, 52.79243904276302, -3.8441992428094536, 53.97864565988529], &quot;geometry&quot;: {&quot;coordinates&quot;: [[[-4.999608193195974, 53.97864565988529], [-5.7430917230710525, 53.61757771169258], [-5.522484432506007, 53.02394637949896], [-4.578382413982972, 52.79243904276302], [-3.8441992428094536, 53.150198648307686], [-4.044753765725635, 53.742706148867775], [-4.999608193195974, 53.97864565988529]]], &quot;type&quot;: &quot;Polygon&quot;}, &quot;id&quot;: &quot;8&quot;, &quot;properties&quot;: {&quot;hex_id&quot;: &quot;831953fffffffff&quot;}, &quot;type&quot;: &quot;Feature&quot;}, {&quot;bbox&quot;: [-1.8301115887419024, 51.20468949014294, -0.06929409787987491, 52.40231696237898], &quot;geometry&quot;: {&quot;coordinates&quot;: [[[-1.103494346730036, 52.40231696237898], [-1.8301115887419024, 52.06042870859474], [-1.661533424435822, 51.46054525866226], [-0.7850760944822416, 51.20468949014294], [-0.06929409787987491, 51.543996089430806], [-0.2191374344592462, 52.1416808182628], [-1.103494346730036, 52.40231696237898]]], &quot;type&quot;: &quot;Polygon&quot;}, &quot;id&quot;: &quot;9&quot;, &quot;properties&quot;: {&quot;hex_id&quot;: &quot;83195dfffffffff&quot;}, &quot;type&quot;: &quot;Feature&quot;}, {&quot;bbox&quot;: [-3.4944287278558823, 53.84254342327844, -1.6090565564501307, 55.014798631472935], &quot;geometry&quot;: {&quot;coordinates&quot;: [[[-2.7331111199996663, 55.014798631472935], [-3.4944287278558823, 54.67729204593729], [-3.2971752224350066, 54.09042805857204], [-2.3593453178254933, 53.84254342327844], [-1.6090565564501307, 54.17706614785891], [-1.7855433613315903, 54.762388366240536], [-2.7331111199996663, 55.014798631472935]]], &quot;type&quot;: &quot;Polygon&quot;}, &quot;id&quot;: &quot;10&quot;, &quot;properties&quot;: {&quot;hex_id&quot;: &quot;831955fffffffff&quot;}, &quot;type&quot;: &quot;Feature&quot;}, {&quot;bbox&quot;: [-5.598161880154398, 50.008809383978786, -3.7907775932664753, 51.223728459661785], &quot;geometry&quot;: {&quot;coordinates&quot;: [[[-4.889760342933773, 51.223728459661785], [-5.598161880154398, 50.846502766714494], [-5.3895450275705175, 50.23836860062809], [-4.490680054947681, 50.008809383978786], [-3.7907775932664753, 50.38282944370796], [-3.9811872278487312, 50.98955367382511], [-4.889760342933773, 51.223728459661785]]], &quot;type&quot;: &quot;Polygon&quot;}, &quot;id&quot;: &quot;11&quot;, &quot;properties&quot;: {&quot;hex_id&quot;: &quot;831874fffffffff&quot;}, &quot;type&quot;: &quot;Feature&quot;}, {&quot;bbox&quot;: [-1.7855433613315903, 53.91779490572579, 0.06203831083931573, 55.08658062199775], &quot;geometry&quot;: {&quot;coordinates&quot;: [[[-1.0219021580988135, 55.08658062199775], [-1.7855433613315903, 54.762388366240536], [-1.6090565564501307, 54.17706614785891], [-0.6895980901110196, 53.91779490572579], [0.06203831083931573, 54.23931158967365], [-0.09378431020159227, 54.822708027893164], [-1.0219021580988135, 55.08658062199775]]], &quot;type&quot;: &quot;Polygon&quot;}, &quot;id&quot;: &quot;12&quot;, &quot;properties&quot;: {&quot;hex_id&quot;: &quot;831946fffffffff&quot;}, &quot;type&quot;: &quot;Feature&quot;}, {&quot;bbox&quot;: [-5.095974655253904, 50.98955367382511, -3.2691357438083397, 52.1944919553097], &quot;geometry&quot;: {&quot;coordinates&quot;: [[[-4.374848504674366, 52.1944919553097], [-5.095974655253904, 51.826891210916145], [-4.889760342933773, 51.223728459661785], [-3.9811872278487312, 50.98955367382511], [-3.2691357438083397, 51.35401160736395], [-3.456534537191969, 51.95572451333033], [-4.374848504674366, 52.1944919553097]]], &quot;type&quot;: &quot;Polygon&quot;}, &quot;id&quot;: &quot;13&quot;, &quot;properties&quot;: {&quot;hex_id&quot;: &quot;83195afffffffff&quot;}, &quot;type&quot;: &quot;Feature&quot;}, {&quot;bbox&quot;: [-2.9161271801966984, 52.06042870859474, -1.103494346730036, 53.25155105071479], &quot;geometry&quot;: {&quot;coordinates&quot;: [[[-2.1788859209290266, 53.25155105071479], [-2.9161271801966984, 52.906861390067036], [-2.732038029192461, 52.31039900844115], [-1.8301115887419024, 52.06042870859474], [-1.103494346730036, 52.40231696237898], [-1.2681654753927116, 52.99691378235404], [-2.1788859209290266, 53.25155105071479]]], &quot;type&quot;: &quot;Polygon&quot;}, &quot;id&quot;: &quot;14&quot;, &quot;properties&quot;: {&quot;hex_id&quot;: &quot;83195cfffffffff&quot;}, &quot;type&quot;: &quot;Feature&quot;}, {&quot;bbox&quot;: [-6.252287782419959, 51.826891210916145, -4.374848504674366, 53.02394637949896], &quot;geometry&quot;: {&quot;coordinates&quot;: [[[-5.522484432506007, 53.02394637949896], [-6.252287782419959, 52.65299661925585], [-6.029381604246185, 52.05395402199175], [-5.095974655253904, 51.826891210916145], [-4.374848504674366, 52.1944919553097], [-4.578382413982972, 52.79243904276302], [-5.522484432506007, 53.02394637949896]]], &quot;type&quot;: &quot;Polygon&quot;}, &quot;id&quot;: &quot;15&quot;, &quot;properties&quot;: {&quot;hex_id&quot;: &quot;83182dfffffffff&quot;}, &quot;type&quot;: &quot;Feature&quot;}, {&quot;bbox&quot;: [-2.376038954151443, 50.25277348382903, -0.6310947579755068, 51.46054525866226], &quot;geometry&quot;: {&quot;coordinates&quot;: [[[-1.661533424435822, 51.46054525866226], [-2.376038954151443, 51.108741374360854], [-2.2038699460702893, 50.50380566281357], [-1.3353779218664708, 50.25277348382903], [-0.6310947579755068, 50.60191112048408], [-0.7850760944822416, 51.20468949014294], [-1.661533424435822, 51.46054525866226]]], &quot;type&quot;: &quot;Polygon&quot;}, &quot;id&quot;: &quot;16&quot;, &quot;properties&quot;: {&quot;hex_id&quot;: &quot;831959fffffffff&quot;}, &quot;type&quot;: &quot;Feature&quot;}, {&quot;bbox&quot;: [0.7894710716359985, 50.40737639408025, 2.463608624950205, 51.60510063785598], &quot;geometry&quot;: {&quot;coordinates&quot;: [[[1.5053806877635099, 51.60510063785598], [0.7894710716359985, 51.2780948734949], [0.925400547102214, 50.67783060548925], [1.7593617630273042, 50.40737639408025], [2.463608624950205, 50.73231097463265], [2.3455169527947826, 51.329718513897575], [1.5053806877635099, 51.60510063785598]]], &quot;type&quot;: &quot;Polygon&quot;}, &quot;id&quot;: &quot;17&quot;, &quot;properties&quot;: {&quot;hex_id&quot;: &quot;831948fffffffff&quot;}, &quot;type&quot;: &quot;Feature&quot;}, {&quot;bbox&quot;: [-0.6895980901110196, 53.063327159303455, 1.1024697570810114, 54.23931158967365], &quot;geometry&quot;: {&quot;coordinates&quot;: [[[0.06203831083931573, 54.23931158967365], [-0.6895980901110196, 53.91779490572579], [-0.5291713353834577, 53.32869998456034], [0.3629988700845644, 53.063327159303455], [1.1024697570810114, 53.3824191269528], [0.9619128036275777, 53.969245967180214], [0.06203831083931573, 54.23931158967365]]], &quot;type&quot;: &quot;Polygon&quot;}, &quot;id&quot;: &quot;18&quot;, &quot;properties&quot;: {&quot;hex_id&quot;: &quot;831940fffffffff&quot;}, &quot;type&quot;: &quot;Feature&quot;}, {&quot;bbox&quot;: [-3.456534537191969, 51.108741374360854, -1.661533424435822, 52.31039900844115], &quot;geometry&quot;: {&quot;coordinates&quot;: [[[-2.732038029192461, 52.31039900844115], [-3.456534537191969, 51.95572451333033], [-3.2691357438083397, 51.35401160736395], [-2.376038954151443, 51.108741374360854], [-1.661533424435822, 51.46054525866226], [-1.8301115887419024, 52.06042870859474], [-2.732038029192461, 52.31039900844115]]], &quot;type&quot;: &quot;Polygon&quot;}, &quot;id&quot;: &quot;19&quot;, &quot;properties&quot;: {&quot;hex_id&quot;: &quot;831958fffffffff&quot;}, &quot;type&quot;: &quot;Feature&quot;}, {&quot;bbox&quot;: [-0.7850760944822416, 50.34089813043165, 0.925400547102214, 51.543996089430806], &quot;geometry&quot;: {&quot;coordinates&quot;: [[[-0.06929409787987491, 51.543996089430806], [-0.7850760944822416, 51.20468949014294], [-0.6310947579755068, 50.60191112048408], [0.22059867110695514, 50.34089813043165], [0.925400547102214, 50.67783060548925], [0.7894710716359985, 51.2780948734949], [-0.06929409787987491, 51.543996089430806]]], &quot;type&quot;: &quot;Polygon&quot;}, &quot;id&quot;: &quot;20&quot;, &quot;properties&quot;: {&quot;hex_id&quot;: &quot;83194afffffffff&quot;}, &quot;type&quot;: &quot;Feature&quot;}, {&quot;bbox&quot;: [-3.9811872278487312, 50.14229216995712, -2.2038699460702893, 51.35401160736395], &quot;geometry&quot;: {&quot;coordinates&quot;: [[[-3.2691357438083397, 51.35401160736395], [-3.9811872278487312, 50.98955367382511], [-3.7907775932664753, 50.38282944370796], [-2.906527879284161, 50.14229216995712], [-2.2038699460702893, 50.50380566281357], [-2.376038954151443, 51.108741374360854], [-3.2691357438083397, 51.35401160736395]]], &quot;type&quot;: &quot;Polygon&quot;}, &quot;id&quot;: &quot;21&quot;, &quot;properties&quot;: {&quot;hex_id&quot;: &quot;83195bfffffffff&quot;}, &quot;type&quot;: &quot;Feature&quot;}, {&quot;bbox&quot;: [-6.085547930402807, 49.01399251719032, -4.297538412534103, 50.23836860062809], &quot;geometry&quot;: {&quot;coordinates&quot;: [[[-5.3895450275705175, 50.23836860062809], [-6.085547930402807, 49.85175437098185], [-5.874786713992015, 49.23891353771817], [-4.98558354242774, 49.01399251719032], [-4.297538412534103, 49.397332973072494], [-4.490680054947681, 50.008809383978786], [-5.3895450275705175, 50.23836860062809]]], &quot;type&quot;: &quot;Polygon&quot;}, &quot;id&quot;: &quot;22&quot;, &quot;properties&quot;: {&quot;hex_id&quot;: &quot;831870fffffffff&quot;}, &quot;type&quot;: &quot;Feature&quot;}, {&quot;bbox&quot;: [-2.3593453178254933, 52.99691378235404, -0.5291713353834577, 54.17706614785891], &quot;geometry&quot;: {&quot;coordinates&quot;: [[[-1.6090565564501307, 54.17706614785891], [-2.3593453178254933, 53.84254342327844], [-2.1788859209290266, 53.25155105071479], [-1.2681654753927116, 52.99691378235404], [-0.5291713353834577, 53.32869998456034], [-0.6895980901110196, 53.91779490572579], [-1.6090565564501307, 54.17706614785891]]], &quot;type&quot;: &quot;Polygon&quot;}, &quot;id&quot;: &quot;23&quot;, &quot;properties&quot;: {&quot;hex_id&quot;: &quot;831942fffffffff&quot;}, &quot;type&quot;: &quot;Feature&quot;}, {&quot;bbox&quot;: [0.3629988700845644, 52.2002300804246, 2.1013139839474526, 53.3824191269528], &quot;geometry&quot;: {&quot;coordinates&quot;: [[[1.1024697570810114, 53.3824191269528], [0.3629988700845644, 53.063327159303455], [0.5083742960131225, 52.47096576912289], [1.3740996907033827, 52.2002300804246], [2.1013139839474526, 52.517133978422294], [1.975021392381464, 53.1069034613509], [1.1024697570810114, 53.3824191269528]]], &quot;type&quot;: &quot;Polygon&quot;}, &quot;id&quot;: &quot;24&quot;, &quot;properties&quot;: {&quot;hex_id&quot;: &quot;831941fffffffff&quot;}, &quot;type&quot;: &quot;Feature&quot;}, {&quot;bbox&quot;: [-1.2681654753927116, 52.1416808182628, 0.5083742960131225, 53.32869998456034], &quot;geometry&quot;: {&quot;coordinates&quot;: [[[-0.5291713353834577, 53.32869998456034], [-1.2681654753927116, 52.99691378235404], [-1.103494346730036, 52.40231696237898], [-0.2191374344592462, 52.1416808182628], [0.5083742960131225, 52.47096576912289], [0.3629988700845644, 53.063327159303455], [-0.5291713353834577, 53.32869998456034]]], &quot;type&quot;: &quot;Polygon&quot;}, &quot;id&quot;: &quot;25&quot;, &quot;properties&quot;: {&quot;hex_id&quot;: &quot;831943fffffffff&quot;}, &quot;type&quot;: &quot;Feature&quot;}, {&quot;bbox&quot;: [-6.745876241402103, 50.846502766714494, -4.889760342933773, 52.05395402199175], &quot;geometry&quot;: {&quot;coordinates&quot;: [[[-6.029381604246185, 52.05395402199175], [-6.745876241402103, 51.6733332225568], [-6.520945336384341, 51.069108008059075], [-5.598161880154398, 50.846502766714494], [-4.889760342933773, 51.223728459661785], [-5.095974655253904, 51.826891210916145], [-6.029381604246185, 52.05395402199175]]], &quot;type&quot;: &quot;Polygon&quot;}, &quot;id&quot;: &quot;26&quot;, &quot;properties&quot;: {&quot;hex_id&quot;: &quot;831829fffffffff&quot;}, &quot;type&quot;: &quot;Feature&quot;}, {&quot;bbox&quot;: [1.3740996907033827, 51.329718513897575, 3.0604435319468477, 52.517133978422294], &quot;geometry&quot;: {&quot;coordinates&quot;: [[[2.1013139839474526, 52.517133978422294], [1.3740996907033827, 52.2002300804246], [1.5053806877635099, 51.60510063785598], [2.3455169527947826, 51.329718513897575], [3.0604435319468477, 51.644655935927666], [2.947471071422508, 52.23688832379709], [2.1013139839474526, 52.517133978422294]]], &quot;type&quot;: &quot;Polygon&quot;}, &quot;id&quot;: &quot;27&quot;, &quot;properties&quot;: {&quot;hex_id&quot;: &quot;83194cfffffffff&quot;}, &quot;type&quot;: &quot;Feature&quot;}, {&quot;bbox&quot;: [-7.2244938605593925, 49.85175437098185, -5.3895450275705175, 51.069108008059075], &quot;geometry&quot;: {&quot;coordinates&quot;: [[[-6.520945336384341, 51.069108008059075], [-7.2244938605593925, 50.67904691252103], [-6.997791824343003, 50.06988864967187], [-6.085547930402807, 49.85175437098185], [-5.3895450275705175, 50.23836860062809], [-5.598161880154398, 50.846502766714494], [-6.520945336384341, 51.069108008059075]]], &quot;type&quot;: &quot;Polygon&quot;}, &quot;id&quot;: &quot;28&quot;, &quot;properties&quot;: {&quot;hex_id&quot;: &quot;831876fffffffff&quot;}, &quot;type&quot;: &quot;Feature&quot;}], &quot;type&quot;: &quot;FeatureCollection&quot;});\n",
       "\n",
       "        \n",
       "    \n",
       "    geo_json_a7cb3a5c2021e24e5cbe3883c08d595e.bindTooltip(\n",
       "    function(layer){\n",
       "    let div = L.DomUtil.create(&#x27;div&#x27;);\n",
       "    \n",
       "    let handleObject = feature=&gt;typeof(feature)==&#x27;object&#x27; ? JSON.stringify(feature) : feature;\n",
       "    let fields = [&quot;hex_id&quot;];\n",
       "    let aliases = [&quot;hex_id&quot;];\n",
       "    let table = &#x27;&lt;table&gt;&#x27; +\n",
       "        String(\n",
       "        fields.map(\n",
       "        (v,i)=&gt;\n",
       "        `&lt;tr&gt;\n",
       "            &lt;th&gt;${aliases[i]}&lt;/th&gt;\n",
       "            \n",
       "            &lt;td&gt;${handleObject(layer.feature.properties[v])}&lt;/td&gt;\n",
       "        &lt;/tr&gt;`).join(&#x27;&#x27;))\n",
       "    +&#x27;&lt;/table&gt;&#x27;;\n",
       "    div.innerHTML=table;\n",
       "    \n",
       "    return div\n",
       "    }\n",
       "    ,{&quot;className&quot;: &quot;foliumtooltip&quot;, &quot;sticky&quot;: true});\n",
       "                     \n",
       "    \n",
       "                geo_json_a7cb3a5c2021e24e5cbe3883c08d595e.addTo(map_21150eebb5b4743a407fc4474515d39f);\n",
       "&lt;/script&gt;\n",
       "&lt;/html&gt;\" style=\"position:absolute;width:100%;height:100%;left:0;top:0;border:none !important;\" allowfullscreen webkitallowfullscreen mozallowfullscreen></iframe></div></div>"
      ],
      "text/plain": [
       "<folium.folium.Map at 0x7f97165edd30>"
      ]
     },
     "execution_count": 21,
     "metadata": {},
     "output_type": "execute_result"
    }
   ],
   "source": [
    "grid.explore()"
   ]
  },
  {
   "cell_type": "code",
   "execution_count": 17,
   "id": "22c101d3-9bde-493b-b170-18084daf1579",
   "metadata": {},
   "outputs": [
    {
     "data": {
      "text/plain": [
       "(16, 1)"
      ]
     },
     "execution_count": 17,
     "metadata": {},
     "output_type": "execute_result"
    }
   ],
   "source": [
    "grid.shape"
   ]
  },
  {
   "cell_type": "code",
   "execution_count": null,
   "id": "2f8319e2-9038-494f-ace0-e77d0b3fd4c8",
   "metadata": {},
   "outputs": [],
   "source": []
  }
 ],
 "metadata": {
  "kernelspec": {
   "display_name": "Python 3 (ipykernel)",
   "language": "python",
   "name": "python3"
  },
  "language_info": {
   "codemirror_mode": {
    "name": "ipython",
    "version": 3
   },
   "file_extension": ".py",
   "mimetype": "text/x-python",
   "name": "python",
   "nbconvert_exporter": "python",
   "pygments_lexer": "ipython3",
   "version": "3.12.0"
  }
 },
 "nbformat": 4,
 "nbformat_minor": 5
}
