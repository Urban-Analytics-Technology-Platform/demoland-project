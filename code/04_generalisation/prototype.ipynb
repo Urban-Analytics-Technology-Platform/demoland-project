{
 "cells": [
  {
   "cell_type": "code",
   "execution_count": 1,
   "metadata": {},
   "outputs": [
    {
     "ename": "ModuleNotFoundError",
     "evalue": "No module named 'r5py'",
     "output_type": "error",
     "traceback": [
      "\u001b[0;31m---------------------------------------------------------------------------\u001b[0m",
      "\u001b[0;31mModuleNotFoundError\u001b[0m                       Traceback (most recent call last)",
      "Cell \u001b[0;32mIn[1], line 8\u001b[0m\n\u001b[1;32m      5\u001b[0m \u001b[38;5;28;01mimport\u001b[39;00m \u001b[38;5;21;01mrequests\u001b[39;00m\n\u001b[1;32m      6\u001b[0m \u001b[38;5;28;01mimport\u001b[39;00m \u001b[38;5;21;01mshapely\u001b[39;00m\n\u001b[0;32m----> 8\u001b[0m \u001b[38;5;28;01mfrom\u001b[39;00m \u001b[38;5;21;01mr5py\u001b[39;00m \u001b[38;5;28;01mimport\u001b[39;00m TransportNetwork, TravelTimeMatrixComputer, TransportMode\n",
      "\u001b[0;31mModuleNotFoundError\u001b[0m: No module named 'r5py'"
     ]
    }
   ],
   "source": [
    "import zipfile\n",
    "\n",
    "import geopandas as gpd\n",
    "import pandas as pd\n",
    "import requests\n",
    "import shapely\n",
    "\n",
    "from r5py import TransportNetwork, TravelTimeMatrixComputer, TransportMode"
   ]
  },
  {
   "cell_type": "markdown",
   "metadata": {},
   "source": [
    "1. Get the extent of AoI"
   ]
  },
  {
   "cell_type": "code",
   "execution_count": 7,
   "metadata": {},
   "outputs": [],
   "source": [
    "aoi = gpd.read_file(\"https://github.com/Urban-Analytics-Technology-Platform/demoland-web/raw/main/web/src/data/geography.json\")"
   ]
  },
  {
   "cell_type": "code",
   "execution_count": 8,
   "metadata": {},
   "outputs": [],
   "source": [
    "aoi_poly = aoi.to_crs(27700).unary_union"
   ]
  },
  {
   "cell_type": "markdown",
   "metadata": {},
   "source": [
    "2. Get H3 grid with the data for the AoI"
   ]
  },
  {
   "cell_type": "code",
   "execution_count": 9,
   "metadata": {
    "tags": []
   },
   "outputs": [],
   "source": [
    "data_folder = \"../../../demoland_data\""
   ]
  },
  {
   "cell_type": "markdown",
   "metadata": {},
   "source": [
    "Read the full grid"
   ]
  },
  {
   "cell_type": "code",
   "execution_count": 10,
   "metadata": {},
   "outputs": [],
   "source": [
    "grid = gpd.read_parquet(f\"{data_folder}/h3/grid_complete.parquet\")"
   ]
  },
  {
   "cell_type": "markdown",
   "metadata": {},
   "source": [
    "Get a portion of the grid covering AoI."
   ]
  },
  {
   "cell_type": "code",
   "execution_count": 11,
   "metadata": {},
   "outputs": [],
   "source": [
    "grid_aoi = grid.iloc[grid.sindex.query(aoi_poly, predicate=\"intersects\")]"
   ]
  },
  {
   "cell_type": "markdown",
   "metadata": {},
   "source": [
    "3. Make predictive models ready\n",
    "\n",
    "    - to be done once the final models are settled."
   ]
  },
  {
   "cell_type": "markdown",
   "metadata": {},
   "source": [
    "5. Make accessibility ready\n",
    "    6. Get GTFS\n",
    "  \n",
    "Go to https://data.bus-data.dft.gov.uk/downloads/, register and download timetable data for your region in GTFS data format."
   ]
  },
  {
   "cell_type": "code",
   "execution_count": 12,
   "metadata": {},
   "outputs": [],
   "source": [
    "gtfs_data_file = f\"{data_folder}/raw/accessibility/itm_north_east_gtfs.zip\""
   ]
  },
  {
   "cell_type": "markdown",
   "metadata": {},
   "source": [
    "7. Get network from OSM\n",
    "\n",
    "Download a fresh OSM snapshot for England."
   ]
  },
  {
   "cell_type": "code",
   "execution_count": 14,
   "metadata": {},
   "outputs": [],
   "source": [
    "r = requests.get('http://download.geofabrik.de/europe/united-kingdom/england-latest.osm.pbf')\n",
    "with open(\"england-latest.osm.pbf\", \"wb\") as f:\n",
    "    f.write(r.content)"
   ]
  },
  {
   "cell_type": "markdown",
   "metadata": {},
   "source": [
    "Extract the AoI. We need a GeoJSON of the area."
   ]
  },
  {
   "cell_type": "code",
   "execution_count": 15,
   "metadata": {},
   "outputs": [],
   "source": [
    "aoi.dissolve().to_file(\"aoi.geojson\")"
   ]
  },
  {
   "cell_type": "markdown",
   "metadata": {},
   "source": [
    "And then can use osmium to get an extract."
   ]
  },
  {
   "cell_type": "code",
   "execution_count": 16,
   "metadata": {},
   "outputs": [
    {
     "name": "stdout",
     "output_type": "stream",
     "text": [
      "[======================================================================] 100% \n"
     ]
    }
   ],
   "source": [
    "!osmium extract -p aoi.geojson england-latest.osm.pbf -o aoi.osm.pbf"
   ]
  },
  {
   "cell_type": "markdown",
   "metadata": {},
   "source": [
    "8. Get OS Greenspace"
   ]
  },
  {
   "cell_type": "code",
   "execution_count": 30,
   "metadata": {},
   "outputs": [],
   "source": [
    "r = requests.get('https://api.os.uk/downloads/v1/products/OpenGreenspace/downloads?area=GB&format=GeoPackage&redirect')\n",
    "with open(\"opgrsp_gpkg_gb.zip\", \"wb\") as f:\n",
    "    f.write(r.content)"
   ]
  },
  {
   "cell_type": "markdown",
   "metadata": {},
   "source": [
    "Read the file."
   ]
  },
  {
   "cell_type": "code",
   "execution_count": 49,
   "metadata": {},
   "outputs": [
    {
     "name": "stderr",
     "output_type": "stream",
     "text": [
      "/home/martin/mambaforge/envs/shap/lib/python3.11/site-packages/pyogrio/raw.py:194: RuntimeWarning: File /vsimem/cdb03436424a4b63a09aff3d6214c59a has GPKG application_id, but non conformant file extension\n",
      "  result = ogr_read(\n",
      "/home/martin/mambaforge/envs/shap/lib/python3.11/site-packages/pyogrio/raw.py:194: RuntimeWarning: File /vsimem/bf318594aa5c4178a623728b2ce4d306 has GPKG application_id, but non conformant file extension\n",
      "  result = ogr_read(\n"
     ]
    }
   ],
   "source": [
    "with zipfile.ZipFile('opgrsp_gpkg_gb.zip', 'r') as zip_ref:\n",
    "    with zip_ref.open(\"Data/opgrsp_gb.gpkg\") as gsp:\n",
    "        f = gsp.read()\n",
    "        greenspace_sites = gpd.read_file(f, engine=\"pyogrio\", layer=\"greenspace_site\")\n",
    "        greenspace_access = gpd.read_file(f, engine=\"pyogrio\", layer=\"access_point\")"
   ]
  },
  {
   "cell_type": "markdown",
   "metadata": {},
   "source": [
    "Extract the AoI"
   ]
  },
  {
   "cell_type": "code",
   "execution_count": 50,
   "metadata": {},
   "outputs": [],
   "source": [
    "greenspace_sites_aoi = greenspace_sites.iloc[greenspace_sites.sindex.query(aoi_poly, predicate=\"intersects\")]\n",
    "greenspace_access_aoi = greenspace_access.iloc[greenspace_access.sindex.query(aoi_poly, predicate=\"intersects\")]"
   ]
  },
  {
   "cell_type": "markdown",
   "metadata": {},
   "source": [
    "9. Process OS Greenspace"
   ]
  },
  {
   "cell_type": "code",
   "execution_count": 52,
   "metadata": {},
   "outputs": [],
   "source": [
    "greenspace_sites_select = greenspace_sites_aoi.query(\n",
    "    \"function!='Allotments Or Community Growing Spaces' & function!='Golf Course' & function!='Bowling Green'\"\n",
    ")\n",
    "publicpark = greenspace_sites_select.query(\"function=='Public Park Or Garden'\")\n",
    "playingfield = greenspace_sites_select.query(\"function=='Playing Field'\")\n",
    "othersport = greenspace_sites_select.query(\"function=='Other Sports Facility'\")\n",
    "therest = greenspace_sites_select.query(\n",
    "    \"function!='Playing Field' & function!='Public Park Or Garden' & function!='Other Sports Facility'\"\n",
    ")"
   ]
  },
  {
   "cell_type": "code",
   "execution_count": 53,
   "metadata": {},
   "outputs": [],
   "source": [
    "# find 'therest' not included in the upper categories\n",
    "# we use sjoin to performe a spatial filter of 'therest' polygons contained in upper categories\n",
    "join11 = gpd.sjoin(therest, othersport, predicate=\"within\", how=\"inner\")\n",
    "join12 = gpd.sjoin(therest, playingfield, predicate=\"within\", how=\"inner\")\n",
    "join13 = gpd.sjoin(therest, publicpark, predicate=\"within\", how=\"inner\")\n",
    "\n",
    "# generate list of the IDs of 'therest' contained in upper categories, in order to eliminate the corresponding polygons from the layer\n",
    "list_for_diff11 = join11[\"id_left\"].drop_duplicates().to_list()\n",
    "\n",
    "diff11 = therest[\n",
    "    ~therest.id.isin(list_for_diff11)\n",
    "]  # 1st difference layer # note the negation character ~ to take the polygons NOT included\n",
    "\n",
    "list_for_diff12 = join12[\"id_left\"].drop_duplicates().to_list()\n",
    "diff12 = diff11[~diff11.id.isin(list_for_diff12)]  # 2nd difference layer\n",
    "\n",
    "list_for_diff13 = join13[\"id_left\"].drop_duplicates().to_list()\n",
    "diff13 = diff12[\n",
    "    ~diff12.id.isin(list_for_diff13)\n",
    "]  # 3rd difference layer, this is for 'therest' categories"
   ]
  },
  {
   "cell_type": "code",
   "execution_count": 54,
   "metadata": {},
   "outputs": [],
   "source": [
    "# we repeat the same operation for subsequent categories:\n",
    "# find 'othersport' not included in the upper categories\n",
    "join21 = gpd.sjoin(othersport, playingfield, predicate=\"within\", how=\"inner\")\n",
    "join22 = gpd.sjoin(othersport, publicpark, predicate=\"within\", how=\"inner\")\n",
    "\n",
    "list_for_diff21 = join21[\"id_left\"].drop_duplicates().to_list()\n",
    "diff21 = othersport[~othersport.id.isin(list_for_diff21)]\n",
    "\n",
    "list_for_diff22 = join22[\"id_left\"].drop_duplicates().to_list()\n",
    "diff22 = diff21[~diff21.id.isin(list_for_diff22)]  # 'othersport' difference"
   ]
  },
  {
   "cell_type": "code",
   "execution_count": 55,
   "metadata": {},
   "outputs": [],
   "source": [
    "# find 'playing fields' not included in the upper categories (and viceversa?)\n",
    "join31 = gpd.sjoin(playingfield, publicpark, predicate=\"within\", how=\"inner\")\n",
    "join32 = gpd.sjoin(\n",
    "    publicpark, playingfield, predicate=\"within\", how=\"inner\"\n",
    ")  ## check it is not empty ... it is empty, we do not use this join\n",
    "\n",
    "list_for_diff31 = join31[\"id_left\"].drop_duplicates().to_list()\n",
    "diff31 = playingfield[\n",
    "    ~playingfield.id.isin(list_for_diff31)\n",
    "]  # 'playingfield' difference"
   ]
  },
  {
   "cell_type": "code",
   "execution_count": 58,
   "metadata": {},
   "outputs": [],
   "source": [
    "# put together all the differences layers: (and should bring out to the desired output)\n",
    "together1 = pd.concat([diff13, diff22]).pipe(\n",
    "    gpd.GeoDataFrame\n",
    ")  # 'therest' + 'othersport' differences\n",
    "together1.head()\n",
    "together2 = pd.concat([together1, diff31]).pipe(\n",
    "    gpd.GeoDataFrame\n",
    ")  # last gdf + 'playingfield' difference\n",
    "together_again = gpd.GeoDataFrame(pd.concat([together2, publicpark]), crs=27700)  # last gdf + all the public parks)"
   ]
  },
  {
   "cell_type": "code",
   "execution_count": 65,
   "metadata": {},
   "outputs": [],
   "source": [
    "list_gs_id = together_again[\"id\"].to_list()\n",
    "accesspoints_edge = greenspace_access_aoi[greenspace_access_aoi.ref_to_greenspace_site.isin(list_gs_id)]\n",
    "accesspoints_edge = accesspoints_edge.to_crs(27700)\n",
    "\n",
    "together_again[\"area_m2\"] = together_again[\"geometry\"].area\n",
    "\n",
    "together_again.to_file(\"greenspace.gpkg\", layer=\"sites\")\n",
    "accesspoints_edge.to_file(\"greenspace.gpkg\", layer=\"access_points\")"
   ]
  },
  {
   "cell_type": "markdown",
   "metadata": {},
   "source": [
    "10. Create traveltime matrix (origins are cells, destinations are cells plus greenspace entrances)"
   ]
  },
  {
   "cell_type": "code",
   "execution_count": 66,
   "metadata": {},
   "outputs": [
    {
     "data": {
      "text/html": [
       "<div>\n",
       "<style scoped>\n",
       "    .dataframe tbody tr th:only-of-type {\n",
       "        vertical-align: middle;\n",
       "    }\n",
       "\n",
       "    .dataframe tbody tr th {\n",
       "        vertical-align: top;\n",
       "    }\n",
       "\n",
       "    .dataframe thead th {\n",
       "        text-align: right;\n",
       "    }\n",
       "</style>\n",
       "<table border=\"1\" class=\"dataframe\">\n",
       "  <thead>\n",
       "    <tr style=\"text-align: right;\">\n",
       "      <th></th>\n",
       "      <th>geometry</th>\n",
       "      <th>air_quality_index</th>\n",
       "      <th>house_price_index</th>\n",
       "      <th>population</th>\n",
       "      <th>A, B, D, E. Agriculture, energy and water</th>\n",
       "      <th>C. Manufacturing</th>\n",
       "      <th>F. Construction</th>\n",
       "      <th>G, I. Distribution, hotels and restaurants</th>\n",
       "      <th>H, J. Transport and communication</th>\n",
       "      <th>K, L, M, N. Financial, real estate, professional and administrative activities</th>\n",
       "      <th>...</th>\n",
       "      <th>sisBpM</th>\n",
       "      <th>misCel</th>\n",
       "      <th>ltcRea</th>\n",
       "      <th>ldeAre</th>\n",
       "      <th>lseCCo</th>\n",
       "      <th>lseERI</th>\n",
       "      <th>lteOri</th>\n",
       "      <th>lteWNB</th>\n",
       "      <th>lieWCe</th>\n",
       "      <th>signature_type</th>\n",
       "    </tr>\n",
       "    <tr>\n",
       "      <th>hex_id</th>\n",
       "      <th></th>\n",
       "      <th></th>\n",
       "      <th></th>\n",
       "      <th></th>\n",
       "      <th></th>\n",
       "      <th></th>\n",
       "      <th></th>\n",
       "      <th></th>\n",
       "      <th></th>\n",
       "      <th></th>\n",
       "      <th></th>\n",
       "      <th></th>\n",
       "      <th></th>\n",
       "      <th></th>\n",
       "      <th></th>\n",
       "      <th></th>\n",
       "      <th></th>\n",
       "      <th></th>\n",
       "      <th></th>\n",
       "      <th></th>\n",
       "      <th></th>\n",
       "    </tr>\n",
       "  </thead>\n",
       "  <tbody>\n",
       "    <tr>\n",
       "      <th>8919465366bffff</th>\n",
       "      <td>POLYGON ((433599.645 545332.542, 433457.649 54...</td>\n",
       "      <td>12.235315</td>\n",
       "      <td>1697.775303</td>\n",
       "      <td>2.070927</td>\n",
       "      <td>2.391746</td>\n",
       "      <td>0.397492</td>\n",
       "      <td>0.582602</td>\n",
       "      <td>0.682498</td>\n",
       "      <td>0.338590</td>\n",
       "      <td>0.451670</td>\n",
       "      <td>...</td>\n",
       "      <td>0.013412</td>\n",
       "      <td>16.687437</td>\n",
       "      <td>80.602427</td>\n",
       "      <td>4.246499e+06</td>\n",
       "      <td>0.313751</td>\n",
       "      <td>0.672360</td>\n",
       "      <td>35.187995</td>\n",
       "      <td>0.000736</td>\n",
       "      <td>0.000018</td>\n",
       "      <td>Urban buffer</td>\n",
       "    </tr>\n",
       "    <tr>\n",
       "      <th>89194653477ffff</th>\n",
       "      <td>POLYGON ((436462.663 545552.077, 436320.729 54...</td>\n",
       "      <td>13.027765</td>\n",
       "      <td>1037.946757</td>\n",
       "      <td>23.210263</td>\n",
       "      <td>0.372120</td>\n",
       "      <td>1.113380</td>\n",
       "      <td>1.673051</td>\n",
       "      <td>2.506251</td>\n",
       "      <td>0.967635</td>\n",
       "      <td>1.423365</td>\n",
       "      <td>...</td>\n",
       "      <td>0.056479</td>\n",
       "      <td>11.187832</td>\n",
       "      <td>67.636509</td>\n",
       "      <td>3.930416e+06</td>\n",
       "      <td>0.264439</td>\n",
       "      <td>0.676249</td>\n",
       "      <td>19.150600</td>\n",
       "      <td>0.001114</td>\n",
       "      <td>0.000236</td>\n",
       "      <td>Urban buffer</td>\n",
       "    </tr>\n",
       "    <tr>\n",
       "      <th>8919465343bffff</th>\n",
       "      <td>POLYGON ((436780.718 545576.468, 436638.791 54...</td>\n",
       "      <td>13.027765</td>\n",
       "      <td>1109.766915</td>\n",
       "      <td>20.032634</td>\n",
       "      <td>0.365359</td>\n",
       "      <td>1.100800</td>\n",
       "      <td>1.646476</td>\n",
       "      <td>2.415286</td>\n",
       "      <td>0.953719</td>\n",
       "      <td>1.385548</td>\n",
       "      <td>...</td>\n",
       "      <td>0.047485</td>\n",
       "      <td>33.997918</td>\n",
       "      <td>88.504614</td>\n",
       "      <td>4.013205e+06</td>\n",
       "      <td>0.261993</td>\n",
       "      <td>0.671151</td>\n",
       "      <td>18.673672</td>\n",
       "      <td>0.000832</td>\n",
       "      <td>0.000187</td>\n",
       "      <td>Urban buffer</td>\n",
       "    </tr>\n",
       "    <tr>\n",
       "      <th>8919465340fffff</th>\n",
       "      <td>POLYGON ((436570.397 545847.662, 436428.467 54...</td>\n",
       "      <td>13.027765</td>\n",
       "      <td>670.349332</td>\n",
       "      <td>397.357393</td>\n",
       "      <td>0.387323</td>\n",
       "      <td>1.141585</td>\n",
       "      <td>1.732763</td>\n",
       "      <td>2.711264</td>\n",
       "      <td>0.998887</td>\n",
       "      <td>1.508523</td>\n",
       "      <td>...</td>\n",
       "      <td>0.054465</td>\n",
       "      <td>12.279274</td>\n",
       "      <td>41.338760</td>\n",
       "      <td>1.006992e+06</td>\n",
       "      <td>0.482405</td>\n",
       "      <td>0.871917</td>\n",
       "      <td>33.814698</td>\n",
       "      <td>0.016157</td>\n",
       "      <td>0.000863</td>\n",
       "      <td>Warehouse/Park land</td>\n",
       "    </tr>\n",
       "    <tr>\n",
       "      <th>89194653433ffff</th>\n",
       "      <td>POLYGON ((437098.761 545600.858, 436956.841 54...</td>\n",
       "      <td>12.588189</td>\n",
       "      <td>1280.847121</td>\n",
       "      <td>45.158130</td>\n",
       "      <td>0.279208</td>\n",
       "      <td>0.952710</td>\n",
       "      <td>1.401498</td>\n",
       "      <td>1.681095</td>\n",
       "      <td>0.768209</td>\n",
       "      <td>1.100721</td>\n",
       "      <td>...</td>\n",
       "      <td>0.053967</td>\n",
       "      <td>66.655175</td>\n",
       "      <td>104.635092</td>\n",
       "      <td>3.653489e+06</td>\n",
       "      <td>0.261047</td>\n",
       "      <td>0.698869</td>\n",
       "      <td>23.756565</td>\n",
       "      <td>0.000968</td>\n",
       "      <td>0.000161</td>\n",
       "      <td>Urban buffer</td>\n",
       "    </tr>\n",
       "    <tr>\n",
       "      <th>...</th>\n",
       "      <td>...</td>\n",
       "      <td>...</td>\n",
       "      <td>...</td>\n",
       "      <td>...</td>\n",
       "      <td>...</td>\n",
       "      <td>...</td>\n",
       "      <td>...</td>\n",
       "      <td>...</td>\n",
       "      <td>...</td>\n",
       "      <td>...</td>\n",
       "      <td>...</td>\n",
       "      <td>...</td>\n",
       "      <td>...</td>\n",
       "      <td>...</td>\n",
       "      <td>...</td>\n",
       "      <td>...</td>\n",
       "      <td>...</td>\n",
       "      <td>...</td>\n",
       "      <td>...</td>\n",
       "      <td>...</td>\n",
       "      <td>...</td>\n",
       "    </tr>\n",
       "    <tr>\n",
       "      <th>8919733181bffff</th>\n",
       "      <td>POLYGON ((418844.882 575218.142, 418702.781 57...</td>\n",
       "      <td>10.671450</td>\n",
       "      <td>2552.839899</td>\n",
       "      <td>1.933129</td>\n",
       "      <td>0.113768</td>\n",
       "      <td>0.454039</td>\n",
       "      <td>0.162113</td>\n",
       "      <td>0.713884</td>\n",
       "      <td>0.199639</td>\n",
       "      <td>0.391240</td>\n",
       "      <td>...</td>\n",
       "      <td>0.016849</td>\n",
       "      <td>13.000001</td>\n",
       "      <td>65.388750</td>\n",
       "      <td>4.937058e+06</td>\n",
       "      <td>0.494502</td>\n",
       "      <td>0.960272</td>\n",
       "      <td>0.647615</td>\n",
       "      <td>0.000415</td>\n",
       "      <td>0.030823</td>\n",
       "      <td>Countryside agriculture</td>\n",
       "    </tr>\n",
       "    <tr>\n",
       "      <th>89197331813ffff</th>\n",
       "      <td>POLYGON ((419163.126 575241.929, 419021.031 57...</td>\n",
       "      <td>11.003435</td>\n",
       "      <td>1581.749724</td>\n",
       "      <td>2.889846</td>\n",
       "      <td>0.136670</td>\n",
       "      <td>0.639472</td>\n",
       "      <td>0.439720</td>\n",
       "      <td>0.333585</td>\n",
       "      <td>0.359567</td>\n",
       "      <td>0.376620</td>\n",
       "      <td>...</td>\n",
       "      <td>0.010850</td>\n",
       "      <td>13.000000</td>\n",
       "      <td>77.987134</td>\n",
       "      <td>4.937058e+06</td>\n",
       "      <td>0.494502</td>\n",
       "      <td>0.960272</td>\n",
       "      <td>0.647615</td>\n",
       "      <td>0.000415</td>\n",
       "      <td>0.030823</td>\n",
       "      <td>Urban buffer</td>\n",
       "    </tr>\n",
       "    <tr>\n",
       "      <th>891973318c7ffff</th>\n",
       "      <td>POLYGON ((418952.930 575512.955, 418810.832 57...</td>\n",
       "      <td>11.093738</td>\n",
       "      <td>2679.627966</td>\n",
       "      <td>1.808096</td>\n",
       "      <td>0.110771</td>\n",
       "      <td>0.429800</td>\n",
       "      <td>0.125858</td>\n",
       "      <td>0.763490</td>\n",
       "      <td>0.178746</td>\n",
       "      <td>0.393124</td>\n",
       "      <td>...</td>\n",
       "      <td>0.015533</td>\n",
       "      <td>14.140263</td>\n",
       "      <td>62.976055</td>\n",
       "      <td>4.937058e+06</td>\n",
       "      <td>0.494502</td>\n",
       "      <td>0.960272</td>\n",
       "      <td>0.647615</td>\n",
       "      <td>0.000415</td>\n",
       "      <td>0.030823</td>\n",
       "      <td>Countryside agriculture</td>\n",
       "    </tr>\n",
       "    <tr>\n",
       "      <th>8919733188bffff</th>\n",
       "      <td>POLYGON ((419271.169 575536.735, 419129.076 57...</td>\n",
       "      <td>11.165146</td>\n",
       "      <td>2673.668869</td>\n",
       "      <td>1.813886</td>\n",
       "      <td>0.110906</td>\n",
       "      <td>0.430913</td>\n",
       "      <td>0.127546</td>\n",
       "      <td>0.761135</td>\n",
       "      <td>0.179714</td>\n",
       "      <td>0.393017</td>\n",
       "      <td>...</td>\n",
       "      <td>0.009909</td>\n",
       "      <td>12.127551</td>\n",
       "      <td>68.189029</td>\n",
       "      <td>4.937057e+06</td>\n",
       "      <td>0.494502</td>\n",
       "      <td>0.960272</td>\n",
       "      <td>0.647615</td>\n",
       "      <td>0.000415</td>\n",
       "      <td>0.030823</td>\n",
       "      <td>Countryside agriculture</td>\n",
       "    </tr>\n",
       "    <tr>\n",
       "      <th>89197331847ffff</th>\n",
       "      <td>POLYGON ((418418.568 574899.524, 418276.457 57...</td>\n",
       "      <td>10.035067</td>\n",
       "      <td>2629.165298</td>\n",
       "      <td>1.858141</td>\n",
       "      <td>0.111981</td>\n",
       "      <td>0.439514</td>\n",
       "      <td>0.140309</td>\n",
       "      <td>0.743859</td>\n",
       "      <td>0.187090</td>\n",
       "      <td>0.392433</td>\n",
       "      <td>...</td>\n",
       "      <td>0.014543</td>\n",
       "      <td>16.159187</td>\n",
       "      <td>54.285031</td>\n",
       "      <td>4.937058e+06</td>\n",
       "      <td>0.494502</td>\n",
       "      <td>0.960272</td>\n",
       "      <td>0.647615</td>\n",
       "      <td>0.000415</td>\n",
       "      <td>0.030823</td>\n",
       "      <td>Countryside agriculture</td>\n",
       "    </tr>\n",
       "  </tbody>\n",
       "</table>\n",
       "<p>6229 rows × 59 columns</p>\n",
       "</div>"
      ],
      "text/plain": [
       "                                                          geometry  \\\n",
       "hex_id                                                               \n",
       "8919465366bffff  POLYGON ((433599.645 545332.542, 433457.649 54...   \n",
       "89194653477ffff  POLYGON ((436462.663 545552.077, 436320.729 54...   \n",
       "8919465343bffff  POLYGON ((436780.718 545576.468, 436638.791 54...   \n",
       "8919465340fffff  POLYGON ((436570.397 545847.662, 436428.467 54...   \n",
       "89194653433ffff  POLYGON ((437098.761 545600.858, 436956.841 54...   \n",
       "...                                                            ...   \n",
       "8919733181bffff  POLYGON ((418844.882 575218.142, 418702.781 57...   \n",
       "89197331813ffff  POLYGON ((419163.126 575241.929, 419021.031 57...   \n",
       "891973318c7ffff  POLYGON ((418952.930 575512.955, 418810.832 57...   \n",
       "8919733188bffff  POLYGON ((419271.169 575536.735, 419129.076 57...   \n",
       "89197331847ffff  POLYGON ((418418.568 574899.524, 418276.457 57...   \n",
       "\n",
       "                 air_quality_index  house_price_index  population  \\\n",
       "hex_id                                                              \n",
       "8919465366bffff          12.235315        1697.775303    2.070927   \n",
       "89194653477ffff          13.027765        1037.946757   23.210263   \n",
       "8919465343bffff          13.027765        1109.766915   20.032634   \n",
       "8919465340fffff          13.027765         670.349332  397.357393   \n",
       "89194653433ffff          12.588189        1280.847121   45.158130   \n",
       "...                            ...                ...         ...   \n",
       "8919733181bffff          10.671450        2552.839899    1.933129   \n",
       "89197331813ffff          11.003435        1581.749724    2.889846   \n",
       "891973318c7ffff          11.093738        2679.627966    1.808096   \n",
       "8919733188bffff          11.165146        2673.668869    1.813886   \n",
       "89197331847ffff          10.035067        2629.165298    1.858141   \n",
       "\n",
       "                 A, B, D, E. Agriculture, energy and water  C. Manufacturing  \\\n",
       "hex_id                                                                         \n",
       "8919465366bffff                                   2.391746          0.397492   \n",
       "89194653477ffff                                   0.372120          1.113380   \n",
       "8919465343bffff                                   0.365359          1.100800   \n",
       "8919465340fffff                                   0.387323          1.141585   \n",
       "89194653433ffff                                   0.279208          0.952710   \n",
       "...                                                    ...               ...   \n",
       "8919733181bffff                                   0.113768          0.454039   \n",
       "89197331813ffff                                   0.136670          0.639472   \n",
       "891973318c7ffff                                   0.110771          0.429800   \n",
       "8919733188bffff                                   0.110906          0.430913   \n",
       "89197331847ffff                                   0.111981          0.439514   \n",
       "\n",
       "                 F. Construction  G, I. Distribution, hotels and restaurants  \\\n",
       "hex_id                                                                         \n",
       "8919465366bffff         0.582602                                    0.682498   \n",
       "89194653477ffff         1.673051                                    2.506251   \n",
       "8919465343bffff         1.646476                                    2.415286   \n",
       "8919465340fffff         1.732763                                    2.711264   \n",
       "89194653433ffff         1.401498                                    1.681095   \n",
       "...                          ...                                         ...   \n",
       "8919733181bffff         0.162113                                    0.713884   \n",
       "89197331813ffff         0.439720                                    0.333585   \n",
       "891973318c7ffff         0.125858                                    0.763490   \n",
       "8919733188bffff         0.127546                                    0.761135   \n",
       "89197331847ffff         0.140309                                    0.743859   \n",
       "\n",
       "                 H, J. Transport and communication  \\\n",
       "hex_id                                               \n",
       "8919465366bffff                           0.338590   \n",
       "89194653477ffff                           0.967635   \n",
       "8919465343bffff                           0.953719   \n",
       "8919465340fffff                           0.998887   \n",
       "89194653433ffff                           0.768209   \n",
       "...                                            ...   \n",
       "8919733181bffff                           0.199639   \n",
       "89197331813ffff                           0.359567   \n",
       "891973318c7ffff                           0.178746   \n",
       "8919733188bffff                           0.179714   \n",
       "89197331847ffff                           0.187090   \n",
       "\n",
       "                 K, L, M, N. Financial, real estate, professional and administrative activities  \\\n",
       "hex_id                                                                                            \n",
       "8919465366bffff                                           0.451670                                \n",
       "89194653477ffff                                           1.423365                                \n",
       "8919465343bffff                                           1.385548                                \n",
       "8919465340fffff                                           1.508523                                \n",
       "89194653433ffff                                           1.100721                                \n",
       "...                                                            ...                                \n",
       "8919733181bffff                                           0.391240                                \n",
       "89197331813ffff                                           0.376620                                \n",
       "891973318c7ffff                                           0.393124                                \n",
       "8919733188bffff                                           0.393017                                \n",
       "89197331847ffff                                           0.392433                                \n",
       "\n",
       "                 ...    sisBpM     misCel      ltcRea        ldeAre    lseCCo  \\\n",
       "hex_id           ...                                                            \n",
       "8919465366bffff  ...  0.013412  16.687437   80.602427  4.246499e+06  0.313751   \n",
       "89194653477ffff  ...  0.056479  11.187832   67.636509  3.930416e+06  0.264439   \n",
       "8919465343bffff  ...  0.047485  33.997918   88.504614  4.013205e+06  0.261993   \n",
       "8919465340fffff  ...  0.054465  12.279274   41.338760  1.006992e+06  0.482405   \n",
       "89194653433ffff  ...  0.053967  66.655175  104.635092  3.653489e+06  0.261047   \n",
       "...              ...       ...        ...         ...           ...       ...   \n",
       "8919733181bffff  ...  0.016849  13.000001   65.388750  4.937058e+06  0.494502   \n",
       "89197331813ffff  ...  0.010850  13.000000   77.987134  4.937058e+06  0.494502   \n",
       "891973318c7ffff  ...  0.015533  14.140263   62.976055  4.937058e+06  0.494502   \n",
       "8919733188bffff  ...  0.009909  12.127551   68.189029  4.937057e+06  0.494502   \n",
       "89197331847ffff  ...  0.014543  16.159187   54.285031  4.937058e+06  0.494502   \n",
       "\n",
       "                   lseERI     lteOri    lteWNB    lieWCe  \\\n",
       "hex_id                                                     \n",
       "8919465366bffff  0.672360  35.187995  0.000736  0.000018   \n",
       "89194653477ffff  0.676249  19.150600  0.001114  0.000236   \n",
       "8919465343bffff  0.671151  18.673672  0.000832  0.000187   \n",
       "8919465340fffff  0.871917  33.814698  0.016157  0.000863   \n",
       "89194653433ffff  0.698869  23.756565  0.000968  0.000161   \n",
       "...                   ...        ...       ...       ...   \n",
       "8919733181bffff  0.960272   0.647615  0.000415  0.030823   \n",
       "89197331813ffff  0.960272   0.647615  0.000415  0.030823   \n",
       "891973318c7ffff  0.960272   0.647615  0.000415  0.030823   \n",
       "8919733188bffff  0.960272   0.647615  0.000415  0.030823   \n",
       "89197331847ffff  0.960272   0.647615  0.000415  0.030823   \n",
       "\n",
       "                          signature_type  \n",
       "hex_id                                    \n",
       "8919465366bffff             Urban buffer  \n",
       "89194653477ffff             Urban buffer  \n",
       "8919465343bffff             Urban buffer  \n",
       "8919465340fffff      Warehouse/Park land  \n",
       "89194653433ffff             Urban buffer  \n",
       "...                                  ...  \n",
       "8919733181bffff  Countryside agriculture  \n",
       "89197331813ffff             Urban buffer  \n",
       "891973318c7ffff  Countryside agriculture  \n",
       "8919733188bffff  Countryside agriculture  \n",
       "89197331847ffff  Countryside agriculture  \n",
       "\n",
       "[6229 rows x 59 columns]"
      ]
     },
     "execution_count": 66,
     "metadata": {},
     "output_type": "execute_result"
    }
   ],
   "source": [
    "grid_aoi"
   ]
  },
  {
   "cell_type": "code",
   "execution_count": null,
   "metadata": {},
   "outputs": [],
   "source": []
  }
 ],
 "metadata": {
  "kernelspec": {
   "display_name": "stable",
   "language": "python",
   "name": "stable"
  },
  "language_info": {
   "codemirror_mode": {
    "name": "ipython",
    "version": 3
   },
   "file_extension": ".py",
   "mimetype": "text/x-python",
   "name": "python",
   "nbconvert_exporter": "python",
   "pygments_lexer": "ipython3",
   "version": "3.12.0"
  }
 },
 "nbformat": 4,
 "nbformat_minor": 4
}
