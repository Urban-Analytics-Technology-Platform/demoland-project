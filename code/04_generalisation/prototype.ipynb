{
 "cells": [
  {
   "cell_type": "markdown",
   "metadata": {},
   "source": [
    "# Prototype workflow generating input for deployment of Demoland for a custom area in England\n",
    "\n",
    "Requires:\n",
    "\n",
    "- Area of interest defined in a GDAL-readable file. All geometries present in the file are considered a part of the AOI.\n",
    "- GTFS data file"
   ]
  },
  {
   "cell_type": "code",
   "execution_count": 33,
   "metadata": {},
   "outputs": [],
   "source": [
    "import zipfile\n",
    "from itertools import product\n",
    "import datetime as dt\n",
    "\n",
    "import geopandas as gpd\n",
    "import pandas as pd\n",
    "import requests\n",
    "import shapely\n",
    "import xarray as xr\n",
    "import numpy as np\n",
    "import joblib\n",
    "import tracc\n",
    "\n",
    "import demoland_engine\n",
    "from demoland_engine.indicators import Accessibility\n",
    "\n",
    "from r5py import TransportNetwork, TravelTimeMatrixComputer, TransportMode"
   ]
  },
  {
   "cell_type": "markdown",
   "metadata": {},
   "source": [
    "1. Get the extent of AoI"
   ]
  },
  {
   "cell_type": "code",
   "execution_count": 9,
   "metadata": {},
   "outputs": [],
   "source": [
    "aoi = gpd.read_file(\"https://github.com/Urban-Analytics-Technology-Platform/demoland-web/raw/main/web/src/data/geography.json\")"
   ]
  },
  {
   "cell_type": "code",
   "execution_count": 10,
   "metadata": {},
   "outputs": [],
   "source": [
    "aoi_poly = aoi.to_crs(27700).unary_union"
   ]
  },
  {
   "cell_type": "markdown",
   "metadata": {},
   "source": [
    "2. Get H3 grid with the data for the AoI"
   ]
  },
  {
   "cell_type": "code",
   "execution_count": 4,
   "metadata": {
    "tags": []
   },
   "outputs": [],
   "source": [
    "data_folder = \"../../../demoland_data\""
   ]
  },
  {
   "cell_type": "markdown",
   "metadata": {},
   "source": [
    "Read the full grid"
   ]
  },
  {
   "cell_type": "code",
   "execution_count": 5,
   "metadata": {},
   "outputs": [],
   "source": [
    "grid = gpd.read_parquet(f\"{data_folder}/h3/grid_complete.parquet\")"
   ]
  },
  {
   "cell_type": "markdown",
   "metadata": {},
   "source": [
    "Get a portion of the grid covering AoI."
   ]
  },
  {
   "cell_type": "code",
   "execution_count": 11,
   "metadata": {},
   "outputs": [],
   "source": [
    "grid_aoi = grid.iloc[grid.sindex.query(aoi_poly, predicate=\"intersects\")]"
   ]
  },
  {
   "cell_type": "markdown",
   "metadata": {},
   "source": [
    "3. Make predictive models ready\n",
    "\n",
    "    - to be done once the final models are settled."
   ]
  },
  {
   "cell_type": "markdown",
   "metadata": {},
   "source": [
    "5. Make accessibility ready\n",
    "    6. Get GTFS\n",
    "  \n",
    "Go to https://data.bus-data.dft.gov.uk/downloads/, register and download timetable data for your region in GTFS data format."
   ]
  },
  {
   "cell_type": "code",
   "execution_count": 7,
   "metadata": {},
   "outputs": [],
   "source": [
    "gtfs_data_file = f\"{data_folder}/raw/accessibility/itm_north_east_gtfs.zip\""
   ]
  },
  {
   "cell_type": "markdown",
   "metadata": {},
   "source": [
    "7. Get network from OSM\n",
    "\n",
    "Download a fresh OSM snapshot for England."
   ]
  },
  {
   "cell_type": "code",
   "execution_count": 14,
   "metadata": {},
   "outputs": [],
   "source": [
    "r = requests.get('http://download.geofabrik.de/europe/united-kingdom/england-latest.osm.pbf')\n",
    "with open(\"england-latest.osm.pbf\", \"wb\") as f:\n",
    "    f.write(r.content)"
   ]
  },
  {
   "cell_type": "markdown",
   "metadata": {},
   "source": [
    "Extract the AoI. We need a GeoJSON of the area."
   ]
  },
  {
   "cell_type": "code",
   "execution_count": 8,
   "metadata": {},
   "outputs": [],
   "source": [
    "aoi.dissolve().to_file(\"aoi.geojson\")"
   ]
  },
  {
   "cell_type": "markdown",
   "metadata": {},
   "source": [
    "And then can use osmium to get an extract."
   ]
  },
  {
   "cell_type": "code",
   "execution_count": 16,
   "metadata": {},
   "outputs": [
    {
     "name": "stdout",
     "output_type": "stream",
     "text": [
      "[======================================================================] 100% \n"
     ]
    }
   ],
   "source": [
    "!osmium extract -p aoi.geojson england-latest.osm.pbf -o aoi.osm.pbf"
   ]
  },
  {
   "cell_type": "markdown",
   "metadata": {},
   "source": [
    "8. Get OS Greenspace"
   ]
  },
  {
   "cell_type": "code",
   "execution_count": 30,
   "metadata": {},
   "outputs": [],
   "source": [
    "r = requests.get('https://api.os.uk/downloads/v1/products/OpenGreenspace/downloads?area=GB&format=GeoPackage&redirect')\n",
    "with open(\"opgrsp_gpkg_gb.zip\", \"wb\") as f:\n",
    "    f.write(r.content)"
   ]
  },
  {
   "cell_type": "markdown",
   "metadata": {},
   "source": [
    "Read the file."
   ]
  },
  {
   "cell_type": "code",
   "execution_count": 9,
   "metadata": {},
   "outputs": [
    {
     "name": "stderr",
     "output_type": "stream",
     "text": [
      "/home/martin/mambaforge/envs/shap/lib/python3.11/site-packages/pyogrio/raw.py:194: RuntimeWarning: File /vsimem/e27ecc0b3d7047ce9b7df4c11a0f0c2c has GPKG application_id, but non conformant file extension\n",
      "  result = ogr_read(\n",
      "/home/martin/mambaforge/envs/shap/lib/python3.11/site-packages/pyogrio/raw.py:194: RuntimeWarning: File /vsimem/18929c422c094f15838bdfad8bd472fc has GPKG application_id, but non conformant file extension\n",
      "  result = ogr_read(\n"
     ]
    }
   ],
   "source": [
    "with zipfile.ZipFile('opgrsp_gpkg_gb.zip', 'r') as zip_ref:\n",
    "    with zip_ref.open(\"Data/opgrsp_gb.gpkg\") as gsp:\n",
    "        f = gsp.read()\n",
    "        greenspace_sites = gpd.read_file(f, engine=\"pyogrio\", layer=\"greenspace_site\")\n",
    "        greenspace_access = gpd.read_file(f, engine=\"pyogrio\", layer=\"access_point\")"
   ]
  },
  {
   "cell_type": "markdown",
   "metadata": {},
   "source": [
    "Extract the AoI"
   ]
  },
  {
   "cell_type": "code",
   "execution_count": 10,
   "metadata": {},
   "outputs": [],
   "source": [
    "greenspace_sites_aoi = greenspace_sites.iloc[greenspace_sites.sindex.query(aoi_poly, predicate=\"intersects\")]\n",
    "greenspace_access_aoi = greenspace_access.iloc[greenspace_access.sindex.query(aoi_poly, predicate=\"intersects\")]"
   ]
  },
  {
   "cell_type": "markdown",
   "metadata": {},
   "source": [
    "9. Process OS Greenspace"
   ]
  },
  {
   "cell_type": "code",
   "execution_count": 11,
   "metadata": {},
   "outputs": [],
   "source": [
    "greenspace_sites_select = greenspace_sites_aoi.query(\n",
    "    \"function!='Allotments Or Community Growing Spaces' & function!='Golf Course' & function!='Bowling Green'\"\n",
    ")\n",
    "publicpark = greenspace_sites_select.query(\"function=='Public Park Or Garden'\")\n",
    "playingfield = greenspace_sites_select.query(\"function=='Playing Field'\")\n",
    "othersport = greenspace_sites_select.query(\"function=='Other Sports Facility'\")\n",
    "therest = greenspace_sites_select.query(\n",
    "    \"function!='Playing Field' & function!='Public Park Or Garden' & function!='Other Sports Facility'\"\n",
    ")"
   ]
  },
  {
   "cell_type": "code",
   "execution_count": 12,
   "metadata": {},
   "outputs": [],
   "source": [
    "# find 'therest' not included in the upper categories\n",
    "# we use sjoin to performe a spatial filter of 'therest' polygons contained in upper categories\n",
    "join11 = gpd.sjoin(therest, othersport, predicate=\"within\", how=\"inner\")\n",
    "join12 = gpd.sjoin(therest, playingfield, predicate=\"within\", how=\"inner\")\n",
    "join13 = gpd.sjoin(therest, publicpark, predicate=\"within\", how=\"inner\")\n",
    "\n",
    "# generate list of the IDs of 'therest' contained in upper categories, in order to eliminate the corresponding polygons from the layer\n",
    "list_for_diff11 = join11[\"id_left\"].drop_duplicates().to_list()\n",
    "\n",
    "diff11 = therest[\n",
    "    ~therest.id.isin(list_for_diff11)\n",
    "]  # 1st difference layer # note the negation character ~ to take the polygons NOT included\n",
    "\n",
    "list_for_diff12 = join12[\"id_left\"].drop_duplicates().to_list()\n",
    "diff12 = diff11[~diff11.id.isin(list_for_diff12)]  # 2nd difference layer\n",
    "\n",
    "list_for_diff13 = join13[\"id_left\"].drop_duplicates().to_list()\n",
    "diff13 = diff12[\n",
    "    ~diff12.id.isin(list_for_diff13)\n",
    "]  # 3rd difference layer, this is for 'therest' categories"
   ]
  },
  {
   "cell_type": "code",
   "execution_count": 13,
   "metadata": {},
   "outputs": [],
   "source": [
    "# we repeat the same operation for subsequent categories:\n",
    "# find 'othersport' not included in the upper categories\n",
    "join21 = gpd.sjoin(othersport, playingfield, predicate=\"within\", how=\"inner\")\n",
    "join22 = gpd.sjoin(othersport, publicpark, predicate=\"within\", how=\"inner\")\n",
    "\n",
    "list_for_diff21 = join21[\"id_left\"].drop_duplicates().to_list()\n",
    "diff21 = othersport[~othersport.id.isin(list_for_diff21)]\n",
    "\n",
    "list_for_diff22 = join22[\"id_left\"].drop_duplicates().to_list()\n",
    "diff22 = diff21[~diff21.id.isin(list_for_diff22)]  # 'othersport' difference"
   ]
  },
  {
   "cell_type": "code",
   "execution_count": 14,
   "metadata": {},
   "outputs": [],
   "source": [
    "# find 'playing fields' not included in the upper categories (and viceversa?)\n",
    "join31 = gpd.sjoin(playingfield, publicpark, predicate=\"within\", how=\"inner\")\n",
    "join32 = gpd.sjoin(\n",
    "    publicpark, playingfield, predicate=\"within\", how=\"inner\"\n",
    ")  ## check it is not empty ... it is empty, we do not use this join\n",
    "\n",
    "list_for_diff31 = join31[\"id_left\"].drop_duplicates().to_list()\n",
    "diff31 = playingfield[\n",
    "    ~playingfield.id.isin(list_for_diff31)\n",
    "]  # 'playingfield' difference"
   ]
  },
  {
   "cell_type": "code",
   "execution_count": 15,
   "metadata": {},
   "outputs": [],
   "source": [
    "# put together all the differences layers: (and should bring out to the desired output)\n",
    "together1 = pd.concat([diff13, diff22]).pipe(\n",
    "    gpd.GeoDataFrame\n",
    ")  # 'therest' + 'othersport' differences\n",
    "together1.head()\n",
    "together2 = pd.concat([together1, diff31]).pipe(\n",
    "    gpd.GeoDataFrame\n",
    ")  # last gdf + 'playingfield' difference\n",
    "together_again = gpd.GeoDataFrame(pd.concat([together2, publicpark]), crs=27700)  # last gdf + all the public parks)"
   ]
  },
  {
   "cell_type": "code",
   "execution_count": 16,
   "metadata": {},
   "outputs": [],
   "source": [
    "list_gs_id = together_again[\"id\"].to_list()\n",
    "accesspoints_edge = greenspace_access_aoi[greenspace_access_aoi.ref_to_greenspace_site.isin(list_gs_id)]\n",
    "accesspoints_edge = accesspoints_edge.to_crs(27700)\n",
    "\n",
    "together_again[\"area_m2\"] = together_again[\"geometry\"].area\n",
    "\n",
    "together_again.to_file(\"greenspace.gpkg\", layer=\"sites\")\n",
    "accesspoints_edge.to_file(\"greenspace.gpkg\", layer=\"access_points\")"
   ]
  },
  {
   "cell_type": "markdown",
   "metadata": {},
   "source": [
    "10. Create traveltime matrix (origins are cells, destinations are cells plus greenspace entrances)"
   ]
  },
  {
   "cell_type": "code",
   "execution_count": 34,
   "metadata": {},
   "outputs": [],
   "source": [
    "origins = grid_aoi.set_geometry(grid_aoi.centroid).to_crs(4326)\n",
    "origins[\"id\"] = origins.index"
   ]
  },
  {
   "cell_type": "code",
   "execution_count": 24,
   "metadata": {},
   "outputs": [],
   "source": [
    "destinations = pd.concat(\n",
    "    [\n",
    "        origins[[\"id\", \"geometry\"]],\n",
    "        accesspoints_edge[[\"id\", \"geometry\", \"ref_to_greenspace_site\"]].to_crs(4326),\n",
    "    ],\n",
    "    ignore_index=True\n",
    ")"
   ]
  },
  {
   "cell_type": "code",
   "execution_count": 26,
   "metadata": {},
   "outputs": [],
   "source": [
    "transport_network = TransportNetwork(\"aoi.osm.pbf\", [gtfs_data_file])"
   ]
  },
  {
   "cell_type": "markdown",
   "metadata": {},
   "source": [
    "generate dataframe with all from_id and all to_id pairs"
   ]
  },
  {
   "cell_type": "code",
   "execution_count": 62,
   "metadata": {},
   "outputs": [],
   "source": [
    "prod = product(origins[\"id\"].unique(), destinations[\"id\"].unique())\n",
    "empty_ttm = pd.DataFrame(prod)\n",
    "empty_ttm.columns = [\"from_id\", \"to_id\"]"
   ]
  },
  {
   "cell_type": "code",
   "execution_count": 63,
   "metadata": {},
   "outputs": [],
   "source": [
    "# defining variables\n",
    "date_time = \"2023,11,23,9,30\"  # CHOOSE BEST DATE/TIME\n",
    "max_time = dt.timedelta(seconds=900) # SET TO 15 MIN\n",
    "walking_speed = 4.8\n",
    "cycling_speed = 16"
   ]
  },
  {
   "cell_type": "markdown",
   "metadata": {},
   "source": [
    "dataframe to match legmode and transitmode objects (to be inputted in the ttm computer)"
   ]
  },
  {
   "cell_type": "code",
   "execution_count": 64,
   "metadata": {},
   "outputs": [],
   "source": [
    "modes_lut = pd.DataFrame(\n",
    "    [\n",
    "        [\"transit\", TransportMode.CAR, TransportMode.WALK],\n",
    "        [\"car\", \"\", TransportMode.CAR],\n",
    "        [\"bicycle\", \"\", TransportMode.BICYCLE],\n",
    "        [\"walk\", \"\", TransportMode.WALK],\n",
    "    ],\n",
    "    columns=(\"Mode\", \"Transit_mode\", \"Leg_mode\"),\n",
    ")"
   ]
  },
  {
   "cell_type": "code",
   "execution_count": 65,
   "metadata": {},
   "outputs": [],
   "source": [
    "# function to generate custom list of transit+transport mode for the parameter transport_modes in TravelTimeMatrixComputer\n",
    "def list_making(s, z):\n",
    "    if s:\n",
    "        return [s] + [z]\n",
    "    return [z]"
   ]
  },
  {
   "cell_type": "code",
   "execution_count": 66,
   "metadata": {},
   "outputs": [
    {
     "name": "stdout",
     "output_type": "stream",
     "text": [
      "The current mode is: transit , transit is: TransportMode.CAR , transport var is: [<TransportMode.CAR: 'CAR'>, <TransportMode.WALK: 'WALK'>]\n",
      "finished calculating ttm for mode transit\n",
      "Duration for transit : 0:09:07.266543\n",
      "The current mode is: car , transit is:  , transport var is: [<TransportMode.CAR: 'CAR'>]\n",
      "finished calculating ttm for mode car\n",
      "Duration for car : 0:08:44.851404\n",
      "The current mode is: bicycle , transit is:  , transport var is: [<TransportMode.BICYCLE: 'BICYCLE'>]\n",
      "finished calculating ttm for mode bicycle\n",
      "Duration for bicycle : 0:09:46.095740\n",
      "The current mode is: walk , transit is:  , transport var is: [<TransportMode.WALK: 'WALK'>]\n",
      "finished calculating ttm for mode walk\n",
      "Duration for walk : 0:10:16.975145\n"
     ]
    }
   ],
   "source": [
    "ttm_complete = empty_ttm.copy()\n",
    "\n",
    "# loop to compute a ttm for all the modes and generate one single ttm table in output\n",
    "for row in modes_lut.itertuples():\n",
    "    start_time = dt.datetime.now()\n",
    "    mode = row.Mode\n",
    "    transit_mode = row.Transit_mode\n",
    "    leg_mode = row.Leg_mode\n",
    "    transport_mode = list_making(\n",
    "        transit_mode, leg_mode\n",
    "    )  # creating list of objects for transport_modes parameter\n",
    "\n",
    "    print(\n",
    "        \"The current mode is:\",\n",
    "        mode,\n",
    "        \", transit is:\",\n",
    "        transit_mode,\n",
    "        \", transport var is:\",\n",
    "        transport_mode,\n",
    "    )\n",
    "    ttm_computer = TravelTimeMatrixComputer(\n",
    "        transport_network,\n",
    "        origins=origins,\n",
    "        destinations=destinations,\n",
    "        departure=dt.datetime.strptime(date_time, \"%Y,%m,%d,%H,%M\"),\n",
    "        max_time = max_time,\n",
    "        speed_walking=walking_speed,\n",
    "        speed_cycling=cycling_speed,\n",
    "        transport_modes=transport_mode,\n",
    "    )\n",
    "\n",
    "    ttm = ttm_computer.compute_travel_times()\n",
    "    ttm = ttm.rename(\n",
    "        columns={\"travel_time\": f\"time_{mode}\"}\n",
    "    )  # renaming 'travel_time' column (automatically generated) to 'time_{mode of transport}'\n",
    "    #  merging the empty table generated before (with all possible origins and destinations) with the ttm, per each mode adding a travel time column\n",
    "    ttm_complete = ttm_complete.merge(\n",
    "        ttm, how=\"outer\", left_on=[\"from_id\", \"to_id\"], right_on=[\"from_id\", \"to_id\"]\n",
    "    )\n",
    "\n",
    "    print(\"finished calculating ttm for mode\", mode)\n",
    "    end_time = dt.datetime.now()\n",
    "    print(\"Duration for\", mode, \": {}\".format(end_time - start_time))"
   ]
  },
  {
   "cell_type": "code",
   "execution_count": 67,
   "metadata": {},
   "outputs": [],
   "source": [
    "ttm_complete.to_parquet(f\"ttm_complete.parquet\")"
   ]
  },
  {
   "cell_type": "markdown",
   "metadata": {},
   "source": [
    "Wrap to a demoland_engine accessibility"
   ]
  },
  {
   "cell_type": "code",
   "execution_count": 2,
   "metadata": {},
   "outputs": [],
   "source": [
    "ttm_complete = pd.read_parquet(\"ttm_complete.parquet\")"
   ]
  },
  {
   "cell_type": "code",
   "execution_count": 3,
   "metadata": {},
   "outputs": [],
   "source": [
    "ttm = ttm_complete.set_index([\"from_id\", \"to_id\"])\n",
    "ttm.columns = [\"transit\", \"car\", \"bike\", \"walk\"]\n",
    "ttm.columns.name = \"mode\"\n",
    "ttm_arr = xr.DataArray.from_series(ttm.stack())\n",
    "ttm_15 = ttm_arr <= 15\n",
    "ttm_15.name = \"ttm_15\""
   ]
  },
  {
   "cell_type": "code",
   "execution_count": 13,
   "metadata": {},
   "outputs": [
    {
     "data": {
      "text/plain": [
       "Index(['geometry', 'air_quality_index', 'house_price_index', 'population',\n",
       "       'A, B, D, E. Agriculture, energy and water', 'C. Manufacturing',\n",
       "       'F. Construction', 'G, I. Distribution, hotels and restaurants',\n",
       "       'H, J. Transport and communication',\n",
       "       'K, L, M, N. Financial, real estate, professional and administrative activities',\n",
       "       'O,P,Q. Public administration, education and health',\n",
       "       'R, S, T, U. Other', 'Land cover [Discontinuous urban fabric]',\n",
       "       'Land cover [Continuous urban fabric]',\n",
       "       'Land cover [Non-irrigated arable land]',\n",
       "       'Land cover [Industrial or commercial units]',\n",
       "       'Land cover [Green urban areas]', 'Land cover [Pastures]',\n",
       "       'Land cover [Sport and leisure facilities]', 'sdbAre', 'sdbCoA',\n",
       "       'ssbCor', 'ssbCCM', 'ssbCCD', 'sdcAre', 'sscCCo', 'sscERI', 'sicCAR',\n",
       "       'stbCeA', 'mtbAli', 'mtbNDi', 'mtcWNe', 'ltbIBD', 'sdsSPW', 'sdsSWD',\n",
       "       'sdsSPO', 'sdsLen', 'sssLin', 'ldsMSL', 'mtdDeg', 'linP3W', 'linP4W',\n",
       "       'linPDE', 'lcnClo', 'ldsCDL', 'xcnSCl', 'linWID', 'stbSAl', 'sdsAre',\n",
       "       'sisBpM', 'misCel', 'ltcRea', 'ldeAre', 'lseCCo', 'lseERI', 'lteOri',\n",
       "       'lteWNB', 'lieWCe', 'signature_type'],\n",
       "      dtype='object')"
      ]
     },
     "execution_count": 13,
     "metadata": {},
     "output_type": "execute_result"
    }
   ],
   "source": [
    "grid_aoi.columns"
   ]
  },
  {
   "cell_type": "code",
   "execution_count": 15,
   "metadata": {},
   "outputs": [],
   "source": [
    "wpz_population = grid_aoi[[\n",
    "    'A, B, D, E. Agriculture, energy and water', 'C. Manufacturing',\n",
    "    'F. Construction', 'G, I. Distribution, hotels and restaurants',\n",
    "    'H, J. Transport and communication',\n",
    "    'K, L, M, N. Financial, real estate, professional and administrative activities',\n",
    "    'O,P,Q. Public administration, education and health',\n",
    "    'R, S, T, U. Other'\n",
    "]].sum(axis=1)\n",
    "wpz_population.index.name = \"to_id\""
   ]
  },
  {
   "cell_type": "code",
   "execution_count": 17,
   "metadata": {},
   "outputs": [],
   "source": [
    "da = xr.DataArray.from_series(wpz_population)\n",
    "da.name = \"wpz_population\"\n",
    "baseline = xr.merge([ttm_15, da])\n",
    "baseline[\"wpz_population\"] = baseline[\"wpz_population\"].fillna(0)"
   ]
  },
  {
   "cell_type": "code",
   "execution_count": 18,
   "metadata": {},
   "outputs": [
    {
     "data": {
      "text/html": [
       "<div><svg style=\"position: absolute; width: 0; height: 0; overflow: hidden\">\n",
       "<defs>\n",
       "<symbol id=\"icon-database\" viewBox=\"0 0 32 32\">\n",
       "<path d=\"M16 0c-8.837 0-16 2.239-16 5v4c0 2.761 7.163 5 16 5s16-2.239 16-5v-4c0-2.761-7.163-5-16-5z\"></path>\n",
       "<path d=\"M16 17c-8.837 0-16-2.239-16-5v6c0 2.761 7.163 5 16 5s16-2.239 16-5v-6c0 2.761-7.163 5-16 5z\"></path>\n",
       "<path d=\"M16 26c-8.837 0-16-2.239-16-5v6c0 2.761 7.163 5 16 5s16-2.239 16-5v-6c0 2.761-7.163 5-16 5z\"></path>\n",
       "</symbol>\n",
       "<symbol id=\"icon-file-text2\" viewBox=\"0 0 32 32\">\n",
       "<path d=\"M28.681 7.159c-0.694-0.947-1.662-2.053-2.724-3.116s-2.169-2.030-3.116-2.724c-1.612-1.182-2.393-1.319-2.841-1.319h-15.5c-1.378 0-2.5 1.121-2.5 2.5v27c0 1.378 1.122 2.5 2.5 2.5h23c1.378 0 2.5-1.122 2.5-2.5v-19.5c0-0.448-0.137-1.23-1.319-2.841zM24.543 5.457c0.959 0.959 1.712 1.825 2.268 2.543h-4.811v-4.811c0.718 0.556 1.584 1.309 2.543 2.268zM28 29.5c0 0.271-0.229 0.5-0.5 0.5h-23c-0.271 0-0.5-0.229-0.5-0.5v-27c0-0.271 0.229-0.5 0.5-0.5 0 0 15.499-0 15.5 0v7c0 0.552 0.448 1 1 1h7v19.5z\"></path>\n",
       "<path d=\"M23 26h-14c-0.552 0-1-0.448-1-1s0.448-1 1-1h14c0.552 0 1 0.448 1 1s-0.448 1-1 1z\"></path>\n",
       "<path d=\"M23 22h-14c-0.552 0-1-0.448-1-1s0.448-1 1-1h14c0.552 0 1 0.448 1 1s-0.448 1-1 1z\"></path>\n",
       "<path d=\"M23 18h-14c-0.552 0-1-0.448-1-1s0.448-1 1-1h14c0.552 0 1 0.448 1 1s-0.448 1-1 1z\"></path>\n",
       "</symbol>\n",
       "</defs>\n",
       "</svg>\n",
       "<style>/* CSS stylesheet for displaying xarray objects in jupyterlab.\n",
       " *\n",
       " */\n",
       "\n",
       ":root {\n",
       "  --xr-font-color0: var(--jp-content-font-color0, rgba(0, 0, 0, 1));\n",
       "  --xr-font-color2: var(--jp-content-font-color2, rgba(0, 0, 0, 0.54));\n",
       "  --xr-font-color3: var(--jp-content-font-color3, rgba(0, 0, 0, 0.38));\n",
       "  --xr-border-color: var(--jp-border-color2, #e0e0e0);\n",
       "  --xr-disabled-color: var(--jp-layout-color3, #bdbdbd);\n",
       "  --xr-background-color: var(--jp-layout-color0, white);\n",
       "  --xr-background-color-row-even: var(--jp-layout-color1, white);\n",
       "  --xr-background-color-row-odd: var(--jp-layout-color2, #eeeeee);\n",
       "}\n",
       "\n",
       "html[theme=dark],\n",
       "body[data-theme=dark],\n",
       "body.vscode-dark {\n",
       "  --xr-font-color0: rgba(255, 255, 255, 1);\n",
       "  --xr-font-color2: rgba(255, 255, 255, 0.54);\n",
       "  --xr-font-color3: rgba(255, 255, 255, 0.38);\n",
       "  --xr-border-color: #1F1F1F;\n",
       "  --xr-disabled-color: #515151;\n",
       "  --xr-background-color: #111111;\n",
       "  --xr-background-color-row-even: #111111;\n",
       "  --xr-background-color-row-odd: #313131;\n",
       "}\n",
       "\n",
       ".xr-wrap {\n",
       "  display: block !important;\n",
       "  min-width: 300px;\n",
       "  max-width: 700px;\n",
       "}\n",
       "\n",
       ".xr-text-repr-fallback {\n",
       "  /* fallback to plain text repr when CSS is not injected (untrusted notebook) */\n",
       "  display: none;\n",
       "}\n",
       "\n",
       ".xr-header {\n",
       "  padding-top: 6px;\n",
       "  padding-bottom: 6px;\n",
       "  margin-bottom: 4px;\n",
       "  border-bottom: solid 1px var(--xr-border-color);\n",
       "}\n",
       "\n",
       ".xr-header > div,\n",
       ".xr-header > ul {\n",
       "  display: inline;\n",
       "  margin-top: 0;\n",
       "  margin-bottom: 0;\n",
       "}\n",
       "\n",
       ".xr-obj-type,\n",
       ".xr-array-name {\n",
       "  margin-left: 2px;\n",
       "  margin-right: 10px;\n",
       "}\n",
       "\n",
       ".xr-obj-type {\n",
       "  color: var(--xr-font-color2);\n",
       "}\n",
       "\n",
       ".xr-sections {\n",
       "  padding-left: 0 !important;\n",
       "  display: grid;\n",
       "  grid-template-columns: 150px auto auto 1fr 20px 20px;\n",
       "}\n",
       "\n",
       ".xr-section-item {\n",
       "  display: contents;\n",
       "}\n",
       "\n",
       ".xr-section-item input {\n",
       "  display: none;\n",
       "}\n",
       "\n",
       ".xr-section-item input + label {\n",
       "  color: var(--xr-disabled-color);\n",
       "}\n",
       "\n",
       ".xr-section-item input:enabled + label {\n",
       "  cursor: pointer;\n",
       "  color: var(--xr-font-color2);\n",
       "}\n",
       "\n",
       ".xr-section-item input:enabled + label:hover {\n",
       "  color: var(--xr-font-color0);\n",
       "}\n",
       "\n",
       ".xr-section-summary {\n",
       "  grid-column: 1;\n",
       "  color: var(--xr-font-color2);\n",
       "  font-weight: 500;\n",
       "}\n",
       "\n",
       ".xr-section-summary > span {\n",
       "  display: inline-block;\n",
       "  padding-left: 0.5em;\n",
       "}\n",
       "\n",
       ".xr-section-summary-in:disabled + label {\n",
       "  color: var(--xr-font-color2);\n",
       "}\n",
       "\n",
       ".xr-section-summary-in + label:before {\n",
       "  display: inline-block;\n",
       "  content: '►';\n",
       "  font-size: 11px;\n",
       "  width: 15px;\n",
       "  text-align: center;\n",
       "}\n",
       "\n",
       ".xr-section-summary-in:disabled + label:before {\n",
       "  color: var(--xr-disabled-color);\n",
       "}\n",
       "\n",
       ".xr-section-summary-in:checked + label:before {\n",
       "  content: '▼';\n",
       "}\n",
       "\n",
       ".xr-section-summary-in:checked + label > span {\n",
       "  display: none;\n",
       "}\n",
       "\n",
       ".xr-section-summary,\n",
       ".xr-section-inline-details {\n",
       "  padding-top: 4px;\n",
       "  padding-bottom: 4px;\n",
       "}\n",
       "\n",
       ".xr-section-inline-details {\n",
       "  grid-column: 2 / -1;\n",
       "}\n",
       "\n",
       ".xr-section-details {\n",
       "  display: none;\n",
       "  grid-column: 1 / -1;\n",
       "  margin-bottom: 5px;\n",
       "}\n",
       "\n",
       ".xr-section-summary-in:checked ~ .xr-section-details {\n",
       "  display: contents;\n",
       "}\n",
       "\n",
       ".xr-array-wrap {\n",
       "  grid-column: 1 / -1;\n",
       "  display: grid;\n",
       "  grid-template-columns: 20px auto;\n",
       "}\n",
       "\n",
       ".xr-array-wrap > label {\n",
       "  grid-column: 1;\n",
       "  vertical-align: top;\n",
       "}\n",
       "\n",
       ".xr-preview {\n",
       "  color: var(--xr-font-color3);\n",
       "}\n",
       "\n",
       ".xr-array-preview,\n",
       ".xr-array-data {\n",
       "  padding: 0 5px !important;\n",
       "  grid-column: 2;\n",
       "}\n",
       "\n",
       ".xr-array-data,\n",
       ".xr-array-in:checked ~ .xr-array-preview {\n",
       "  display: none;\n",
       "}\n",
       "\n",
       ".xr-array-in:checked ~ .xr-array-data,\n",
       ".xr-array-preview {\n",
       "  display: inline-block;\n",
       "}\n",
       "\n",
       ".xr-dim-list {\n",
       "  display: inline-block !important;\n",
       "  list-style: none;\n",
       "  padding: 0 !important;\n",
       "  margin: 0;\n",
       "}\n",
       "\n",
       ".xr-dim-list li {\n",
       "  display: inline-block;\n",
       "  padding: 0;\n",
       "  margin: 0;\n",
       "}\n",
       "\n",
       ".xr-dim-list:before {\n",
       "  content: '(';\n",
       "}\n",
       "\n",
       ".xr-dim-list:after {\n",
       "  content: ')';\n",
       "}\n",
       "\n",
       ".xr-dim-list li:not(:last-child):after {\n",
       "  content: ',';\n",
       "  padding-right: 5px;\n",
       "}\n",
       "\n",
       ".xr-has-index {\n",
       "  font-weight: bold;\n",
       "}\n",
       "\n",
       ".xr-var-list,\n",
       ".xr-var-item {\n",
       "  display: contents;\n",
       "}\n",
       "\n",
       ".xr-var-item > div,\n",
       ".xr-var-item label,\n",
       ".xr-var-item > .xr-var-name span {\n",
       "  background-color: var(--xr-background-color-row-even);\n",
       "  margin-bottom: 0;\n",
       "}\n",
       "\n",
       ".xr-var-item > .xr-var-name:hover span {\n",
       "  padding-right: 5px;\n",
       "}\n",
       "\n",
       ".xr-var-list > li:nth-child(odd) > div,\n",
       ".xr-var-list > li:nth-child(odd) > label,\n",
       ".xr-var-list > li:nth-child(odd) > .xr-var-name span {\n",
       "  background-color: var(--xr-background-color-row-odd);\n",
       "}\n",
       "\n",
       ".xr-var-name {\n",
       "  grid-column: 1;\n",
       "}\n",
       "\n",
       ".xr-var-dims {\n",
       "  grid-column: 2;\n",
       "}\n",
       "\n",
       ".xr-var-dtype {\n",
       "  grid-column: 3;\n",
       "  text-align: right;\n",
       "  color: var(--xr-font-color2);\n",
       "}\n",
       "\n",
       ".xr-var-preview {\n",
       "  grid-column: 4;\n",
       "}\n",
       "\n",
       ".xr-index-preview {\n",
       "  grid-column: 2 / 5;\n",
       "  color: var(--xr-font-color2);\n",
       "}\n",
       "\n",
       ".xr-var-name,\n",
       ".xr-var-dims,\n",
       ".xr-var-dtype,\n",
       ".xr-preview,\n",
       ".xr-attrs dt {\n",
       "  white-space: nowrap;\n",
       "  overflow: hidden;\n",
       "  text-overflow: ellipsis;\n",
       "  padding-right: 10px;\n",
       "}\n",
       "\n",
       ".xr-var-name:hover,\n",
       ".xr-var-dims:hover,\n",
       ".xr-var-dtype:hover,\n",
       ".xr-attrs dt:hover {\n",
       "  overflow: visible;\n",
       "  width: auto;\n",
       "  z-index: 1;\n",
       "}\n",
       "\n",
       ".xr-var-attrs,\n",
       ".xr-var-data,\n",
       ".xr-index-data {\n",
       "  display: none;\n",
       "  background-color: var(--xr-background-color) !important;\n",
       "  padding-bottom: 5px !important;\n",
       "}\n",
       "\n",
       ".xr-var-attrs-in:checked ~ .xr-var-attrs,\n",
       ".xr-var-data-in:checked ~ .xr-var-data,\n",
       ".xr-index-data-in:checked ~ .xr-index-data {\n",
       "  display: block;\n",
       "}\n",
       "\n",
       ".xr-var-data > table {\n",
       "  float: right;\n",
       "}\n",
       "\n",
       ".xr-var-name span,\n",
       ".xr-var-data,\n",
       ".xr-index-name div,\n",
       ".xr-index-data,\n",
       ".xr-attrs {\n",
       "  padding-left: 25px !important;\n",
       "}\n",
       "\n",
       ".xr-attrs,\n",
       ".xr-var-attrs,\n",
       ".xr-var-data,\n",
       ".xr-index-data {\n",
       "  grid-column: 1 / -1;\n",
       "}\n",
       "\n",
       "dl.xr-attrs {\n",
       "  padding: 0;\n",
       "  margin: 0;\n",
       "  display: grid;\n",
       "  grid-template-columns: 125px auto;\n",
       "}\n",
       "\n",
       ".xr-attrs dt,\n",
       ".xr-attrs dd {\n",
       "  padding: 0;\n",
       "  margin: 0;\n",
       "  float: left;\n",
       "  padding-right: 10px;\n",
       "  width: auto;\n",
       "}\n",
       "\n",
       ".xr-attrs dt {\n",
       "  font-weight: normal;\n",
       "  grid-column: 1;\n",
       "}\n",
       "\n",
       ".xr-attrs dt:hover span {\n",
       "  display: inline-block;\n",
       "  background: var(--xr-background-color);\n",
       "  padding-right: 10px;\n",
       "}\n",
       "\n",
       ".xr-attrs dd {\n",
       "  grid-column: 2;\n",
       "  white-space: pre-wrap;\n",
       "  word-break: break-all;\n",
       "}\n",
       "\n",
       ".xr-icon-database,\n",
       ".xr-icon-file-text2,\n",
       ".xr-no-icon {\n",
       "  display: inline-block;\n",
       "  vertical-align: middle;\n",
       "  width: 1em;\n",
       "  height: 1.5em !important;\n",
       "  stroke-width: 0;\n",
       "  stroke: currentColor;\n",
       "  fill: currentColor;\n",
       "}\n",
       "</style><pre class='xr-text-repr-fallback'>&lt;xarray.Dataset&gt;\n",
       "Dimensions:         (from_id: 6229, to_id: 10721, mode: 4)\n",
       "Coordinates:\n",
       "  * from_id         (from_id) object &#x27;89194653403ffff&#x27; ... &#x27;891973adbdbffff&#x27;\n",
       "  * to_id           (to_id) object &#x27;002D4C48-0B6F-416D-AC9E-2E55CDE9A5C0&#x27; ......\n",
       "  * mode            (mode) object &#x27;transit&#x27; &#x27;car&#x27; &#x27;bike&#x27; &#x27;walk&#x27;\n",
       "Data variables:\n",
       "    ttm_15          (from_id, to_id, mode) bool False False ... False False\n",
       "    wpz_population  (to_id) float64 0.0 0.0 0.0 0.0 0.0 ... 0.0 0.0 0.0 0.0 0.0</pre><div class='xr-wrap' style='display:none'><div class='xr-header'><div class='xr-obj-type'>xarray.Dataset</div></div><ul class='xr-sections'><li class='xr-section-item'><input id='section-77c55f06-15c5-4059-807a-a52e34dab127' class='xr-section-summary-in' type='checkbox' disabled ><label for='section-77c55f06-15c5-4059-807a-a52e34dab127' class='xr-section-summary'  title='Expand/collapse section'>Dimensions:</label><div class='xr-section-inline-details'><ul class='xr-dim-list'><li><span class='xr-has-index'>from_id</span>: 6229</li><li><span class='xr-has-index'>to_id</span>: 10721</li><li><span class='xr-has-index'>mode</span>: 4</li></ul></div><div class='xr-section-details'></div></li><li class='xr-section-item'><input id='section-f0581176-b61a-4bac-b161-0b7e1d3afc66' class='xr-section-summary-in' type='checkbox'  checked><label for='section-f0581176-b61a-4bac-b161-0b7e1d3afc66' class='xr-section-summary' >Coordinates: <span>(3)</span></label><div class='xr-section-inline-details'></div><div class='xr-section-details'><ul class='xr-var-list'><li class='xr-var-item'><div class='xr-var-name'><span class='xr-has-index'>from_id</span></div><div class='xr-var-dims'>(from_id)</div><div class='xr-var-dtype'>object</div><div class='xr-var-preview xr-preview'>&#x27;89194653403ffff&#x27; ... &#x27;891973adb...</div><input id='attrs-69cc547f-dbc3-4bee-bf6b-1c9ce3f6923d' class='xr-var-attrs-in' type='checkbox' disabled><label for='attrs-69cc547f-dbc3-4bee-bf6b-1c9ce3f6923d' title='Show/Hide attributes'><svg class='icon xr-icon-file-text2'><use xlink:href='#icon-file-text2'></use></svg></label><input id='data-278c9db3-7735-449c-b2fd-a75c7082f3a0' class='xr-var-data-in' type='checkbox'><label for='data-278c9db3-7735-449c-b2fd-a75c7082f3a0' title='Show/Hide data repr'><svg class='icon xr-icon-database'><use xlink:href='#icon-database'></use></svg></label><div class='xr-var-attrs'><dl class='xr-attrs'></dl></div><div class='xr-var-data'><pre>array([&#x27;89194653403ffff&#x27;, &#x27;89194653407ffff&#x27;, &#x27;8919465340bffff&#x27;, ...,\n",
       "       &#x27;891973adbd3ffff&#x27;, &#x27;891973adbd7ffff&#x27;, &#x27;891973adbdbffff&#x27;], dtype=object)</pre></div></li><li class='xr-var-item'><div class='xr-var-name'><span class='xr-has-index'>to_id</span></div><div class='xr-var-dims'>(to_id)</div><div class='xr-var-dtype'>object</div><div class='xr-var-preview xr-preview'>&#x27;002D4C48-0B6F-416D-AC9E-2E55CDE...</div><input id='attrs-81ea8b59-9a39-4f22-9a28-489030505fba' class='xr-var-attrs-in' type='checkbox' disabled><label for='attrs-81ea8b59-9a39-4f22-9a28-489030505fba' title='Show/Hide attributes'><svg class='icon xr-icon-file-text2'><use xlink:href='#icon-file-text2'></use></svg></label><input id='data-ca67cbc5-436b-4433-9199-cac24e9a9255' class='xr-var-data-in' type='checkbox'><label for='data-ca67cbc5-436b-4433-9199-cac24e9a9255' title='Show/Hide data repr'><svg class='icon xr-icon-database'><use xlink:href='#icon-database'></use></svg></label><div class='xr-var-attrs'><dl class='xr-attrs'></dl></div><div class='xr-var-data'><pre>array([&#x27;002D4C48-0B6F-416D-AC9E-2E55CDE9A5C0&#x27;,\n",
       "       &#x27;002EFEE0-1A6E-447A-81DD-EDAAC1CE4F46&#x27;,\n",
       "       &#x27;003D79D1-2A32-4643-9DE6-3A31C5F842C3&#x27;, ...,\n",
       "       &#x27;FFD53100-AD85-49E6-9C9C-4DF86066663E&#x27;,\n",
       "       &#x27;FFDD46B1-EB99-4028-B159-CC88B3F36EF5&#x27;,\n",
       "       &#x27;FFE91664-440C-4B7D-BB59-324E110CE44B&#x27;], dtype=object)</pre></div></li><li class='xr-var-item'><div class='xr-var-name'><span class='xr-has-index'>mode</span></div><div class='xr-var-dims'>(mode)</div><div class='xr-var-dtype'>object</div><div class='xr-var-preview xr-preview'>&#x27;transit&#x27; &#x27;car&#x27; &#x27;bike&#x27; &#x27;walk&#x27;</div><input id='attrs-bcb90bf2-4d57-4668-941d-01220282b0d9' class='xr-var-attrs-in' type='checkbox' disabled><label for='attrs-bcb90bf2-4d57-4668-941d-01220282b0d9' title='Show/Hide attributes'><svg class='icon xr-icon-file-text2'><use xlink:href='#icon-file-text2'></use></svg></label><input id='data-7156146f-09ba-44c5-8812-4ed5991c9c57' class='xr-var-data-in' type='checkbox'><label for='data-7156146f-09ba-44c5-8812-4ed5991c9c57' title='Show/Hide data repr'><svg class='icon xr-icon-database'><use xlink:href='#icon-database'></use></svg></label><div class='xr-var-attrs'><dl class='xr-attrs'></dl></div><div class='xr-var-data'><pre>array([&#x27;transit&#x27;, &#x27;car&#x27;, &#x27;bike&#x27;, &#x27;walk&#x27;], dtype=object)</pre></div></li></ul></div></li><li class='xr-section-item'><input id='section-37bd0984-3569-470f-beeb-fcc688fed668' class='xr-section-summary-in' type='checkbox'  checked><label for='section-37bd0984-3569-470f-beeb-fcc688fed668' class='xr-section-summary' >Data variables: <span>(2)</span></label><div class='xr-section-inline-details'></div><div class='xr-section-details'><ul class='xr-var-list'><li class='xr-var-item'><div class='xr-var-name'><span>ttm_15</span></div><div class='xr-var-dims'>(from_id, to_id, mode)</div><div class='xr-var-dtype'>bool</div><div class='xr-var-preview xr-preview'>False False False ... False False</div><input id='attrs-ea4cf852-4f22-4b8d-85a1-34619be61353' class='xr-var-attrs-in' type='checkbox' disabled><label for='attrs-ea4cf852-4f22-4b8d-85a1-34619be61353' title='Show/Hide attributes'><svg class='icon xr-icon-file-text2'><use xlink:href='#icon-file-text2'></use></svg></label><input id='data-f532c361-be00-4596-b410-f70734a90404' class='xr-var-data-in' type='checkbox'><label for='data-f532c361-be00-4596-b410-f70734a90404' title='Show/Hide data repr'><svg class='icon xr-icon-database'><use xlink:href='#icon-database'></use></svg></label><div class='xr-var-attrs'><dl class='xr-attrs'></dl></div><div class='xr-var-data'><pre>array([[[False, False, False, False],\n",
       "        [False, False, False, False],\n",
       "        [False, False, False, False],\n",
       "        ...,\n",
       "        [False, False, False, False],\n",
       "        [False, False, False, False],\n",
       "        [False, False, False, False]],\n",
       "\n",
       "       [[False, False, False, False],\n",
       "        [False, False, False, False],\n",
       "        [False, False, False, False],\n",
       "        ...,\n",
       "        [False, False, False, False],\n",
       "        [False, False, False, False],\n",
       "        [False, False, False, False]],\n",
       "\n",
       "       [[False, False, False, False],\n",
       "        [False, False, False, False],\n",
       "        [False, False, False, False],\n",
       "        ...,\n",
       "...\n",
       "        ...,\n",
       "        [False, False, False, False],\n",
       "        [False, False, False, False],\n",
       "        [False, False, False, False]],\n",
       "\n",
       "       [[False, False, False, False],\n",
       "        [False, False, False, False],\n",
       "        [False, False, False, False],\n",
       "        ...,\n",
       "        [False, False, False, False],\n",
       "        [False, False, False, False],\n",
       "        [False, False, False, False]],\n",
       "\n",
       "       [[False, False, False, False],\n",
       "        [False, False, False, False],\n",
       "        [False, False, False, False],\n",
       "        ...,\n",
       "        [False, False, False, False],\n",
       "        [False, False, False, False],\n",
       "        [False, False, False, False]]])</pre></div></li><li class='xr-var-item'><div class='xr-var-name'><span>wpz_population</span></div><div class='xr-var-dims'>(to_id)</div><div class='xr-var-dtype'>float64</div><div class='xr-var-preview xr-preview'>0.0 0.0 0.0 0.0 ... 0.0 0.0 0.0 0.0</div><input id='attrs-b7edad29-bcfc-46f0-be5e-55c6efff279f' class='xr-var-attrs-in' type='checkbox' disabled><label for='attrs-b7edad29-bcfc-46f0-be5e-55c6efff279f' title='Show/Hide attributes'><svg class='icon xr-icon-file-text2'><use xlink:href='#icon-file-text2'></use></svg></label><input id='data-16c467e8-137d-4029-8b1e-a57100418d21' class='xr-var-data-in' type='checkbox'><label for='data-16c467e8-137d-4029-8b1e-a57100418d21' title='Show/Hide data repr'><svg class='icon xr-icon-database'><use xlink:href='#icon-database'></use></svg></label><div class='xr-var-attrs'><dl class='xr-attrs'></dl></div><div class='xr-var-data'><pre>array([0., 0., 0., ..., 0., 0., 0.])</pre></div></li></ul></div></li><li class='xr-section-item'><input id='section-471425eb-738f-47d4-a242-2234799dbb07' class='xr-section-summary-in' type='checkbox'  ><label for='section-471425eb-738f-47d4-a242-2234799dbb07' class='xr-section-summary' >Indexes: <span>(3)</span></label><div class='xr-section-inline-details'></div><div class='xr-section-details'><ul class='xr-var-list'><li class='xr-var-item'><div class='xr-index-name'><div>from_id</div></div><div class='xr-index-preview'>PandasIndex</div><div></div><input id='index-822240de-71df-4de0-8223-a292385678f9' class='xr-index-data-in' type='checkbox'/><label for='index-822240de-71df-4de0-8223-a292385678f9' title='Show/Hide index repr'><svg class='icon xr-icon-database'><use xlink:href='#icon-database'></use></svg></label><div class='xr-index-data'><pre>PandasIndex(Index([&#x27;89194653403ffff&#x27;, &#x27;89194653407ffff&#x27;, &#x27;8919465340bffff&#x27;,\n",
       "       &#x27;8919465340fffff&#x27;, &#x27;89194653413ffff&#x27;, &#x27;89194653417ffff&#x27;,\n",
       "       &#x27;8919465341bffff&#x27;, &#x27;89194653433ffff&#x27;, &#x27;8919465343bffff&#x27;,\n",
       "       &#x27;89194653443ffff&#x27;,\n",
       "       ...\n",
       "       &#x27;891973adbb3ffff&#x27;, &#x27;891973adbb7ffff&#x27;, &#x27;891973adbbbffff&#x27;,\n",
       "       &#x27;891973adbc3ffff&#x27;, &#x27;891973adbc7ffff&#x27;, &#x27;891973adbcbffff&#x27;,\n",
       "       &#x27;891973adbcfffff&#x27;, &#x27;891973adbd3ffff&#x27;, &#x27;891973adbd7ffff&#x27;,\n",
       "       &#x27;891973adbdbffff&#x27;],\n",
       "      dtype=&#x27;object&#x27;, name=&#x27;from_id&#x27;, length=6229))</pre></div></li><li class='xr-var-item'><div class='xr-index-name'><div>to_id</div></div><div class='xr-index-preview'>PandasIndex</div><div></div><input id='index-a4a9c171-6026-4b04-a6e9-324249329799' class='xr-index-data-in' type='checkbox'/><label for='index-a4a9c171-6026-4b04-a6e9-324249329799' title='Show/Hide index repr'><svg class='icon xr-icon-database'><use xlink:href='#icon-database'></use></svg></label><div class='xr-index-data'><pre>PandasIndex(Index([&#x27;002D4C48-0B6F-416D-AC9E-2E55CDE9A5C0&#x27;,\n",
       "       &#x27;002EFEE0-1A6E-447A-81DD-EDAAC1CE4F46&#x27;,\n",
       "       &#x27;003D79D1-2A32-4643-9DE6-3A31C5F842C3&#x27;,\n",
       "       &#x27;0055EB60-C459-404E-B2BA-0D875D23C683&#x27;,\n",
       "       &#x27;0056F3AE-A2EE-4B8A-9C15-D6CD634770EB&#x27;,\n",
       "       &#x27;0064D618-4A3E-40A7-BFB5-7211C2484617&#x27;,\n",
       "       &#x27;00743B11-6DB7-4C41-BC90-ADDEC7DAA9BA&#x27;,\n",
       "       &#x27;00837CA0-0C44-435A-BB54-6831817933B6&#x27;,\n",
       "       &#x27;00866951-4310-4762-BBA3-988056A45155&#x27;,\n",
       "       &#x27;00A55F28-3A6C-47E6-A435-073928210B4C&#x27;,\n",
       "       ...\n",
       "       &#x27;FF719764-4C6A-4B13-BDA3-9F5E631A5DCC&#x27;,\n",
       "       &#x27;FF748687-A147-49C2-8C5D-1CA9EF407182&#x27;,\n",
       "       &#x27;FF7A71A5-F9EA-40A9-890D-6E415D0C85B4&#x27;,\n",
       "       &#x27;FF829762-DD0F-4998-8F40-6E65AFAC9263&#x27;,\n",
       "       &#x27;FFA0138F-DD60-43F7-A07D-5EAAEFCCE7D4&#x27;,\n",
       "       &#x27;FFB11FC3-8209-4FE1-A8EE-4DACE93902C9&#x27;,\n",
       "       &#x27;FFC4351A-63D4-4753-AA8D-AC37635A83FC&#x27;,\n",
       "       &#x27;FFD53100-AD85-49E6-9C9C-4DF86066663E&#x27;,\n",
       "       &#x27;FFDD46B1-EB99-4028-B159-CC88B3F36EF5&#x27;,\n",
       "       &#x27;FFE91664-440C-4B7D-BB59-324E110CE44B&#x27;],\n",
       "      dtype=&#x27;object&#x27;, name=&#x27;to_id&#x27;, length=10721))</pre></div></li><li class='xr-var-item'><div class='xr-index-name'><div>mode</div></div><div class='xr-index-preview'>PandasIndex</div><div></div><input id='index-e6935124-6021-47ce-ae42-8b0bdef97766' class='xr-index-data-in' type='checkbox'/><label for='index-e6935124-6021-47ce-ae42-8b0bdef97766' title='Show/Hide index repr'><svg class='icon xr-icon-database'><use xlink:href='#icon-database'></use></svg></label><div class='xr-index-data'><pre>PandasIndex(Index([&#x27;transit&#x27;, &#x27;car&#x27;, &#x27;bike&#x27;, &#x27;walk&#x27;], dtype=&#x27;object&#x27;, name=&#x27;mode&#x27;))</pre></div></li></ul></div></li><li class='xr-section-item'><input id='section-09968c76-6c1d-4d14-8afb-25556d8d85e4' class='xr-section-summary-in' type='checkbox' disabled ><label for='section-09968c76-6c1d-4d14-8afb-25556d8d85e4' class='xr-section-summary'  title='Expand/collapse section'>Attributes: <span>(0)</span></label><div class='xr-section-inline-details'></div><div class='xr-section-details'><dl class='xr-attrs'></dl></div></li></ul></div></div>"
      ],
      "text/plain": [
       "<xarray.Dataset>\n",
       "Dimensions:         (from_id: 6229, to_id: 10721, mode: 4)\n",
       "Coordinates:\n",
       "  * from_id         (from_id) object '89194653403ffff' ... '891973adbdbffff'\n",
       "  * to_id           (to_id) object '002D4C48-0B6F-416D-AC9E-2E55CDE9A5C0' ......\n",
       "  * mode            (mode) object 'transit' 'car' 'bike' 'walk'\n",
       "Data variables:\n",
       "    ttm_15          (from_id, to_id, mode) bool False False ... False False\n",
       "    wpz_population  (to_id) float64 0.0 0.0 0.0 0.0 0.0 ... 0.0 0.0 0.0 0.0 0.0"
      ]
     },
     "execution_count": 18,
     "metadata": {},
     "output_type": "execute_result"
    }
   ],
   "source": [
    "baseline"
   ]
  },
  {
   "cell_type": "markdown",
   "metadata": {},
   "source": [
    "Load greenspace data."
   ]
  },
  {
   "cell_type": "code",
   "execution_count": 28,
   "metadata": {},
   "outputs": [],
   "source": [
    "gs_sites = gpd.read_file(\"greenspace.gpkg\", layer=\"sites\").rename(columns={\"id\": \"id_site\"})\n",
    "gs_entrances = gpd.read_file(\"greenspace.gpkg\", layer=\"access_points\").rename(columns={\"id\": \"id_entrance\"})"
   ]
  },
  {
   "cell_type": "code",
   "execution_count": 32,
   "metadata": {},
   "outputs": [],
   "source": [
    "# associate park area to entrances\n",
    "gs_entrances_with_parkarea = pd.merge(\n",
    "    gs_entrances[[\"id_entrance\", \"ref_to_greenspace_site\"]],\n",
    "    gs_sites[[\"id_site\", \"function\", \"area_m2\"]],\n",
    "    left_on=\"ref_to_greenspace_site\",\n",
    "    right_on=\"id_site\",\n",
    "    how=\"right\",\n",
    ")"
   ]
  },
  {
   "cell_type": "code",
   "execution_count": 36,
   "metadata": {},
   "outputs": [
    {
     "name": "stdout",
     "output_type": "stream",
     "text": [
      "cost output is cum_15_transit\n",
      "area column name is area_15_transit\n",
      "cost output is cum_15_car\n",
      "area column name is area_15_car\n",
      "cost output is cum_15_bicycle\n",
      "area column name is area_15_bicycle\n",
      "cost output is cum_15_walk\n",
      "area column name is area_15_walk\n"
     ]
    }
   ],
   "source": [
    "ttm_greenspace = (\n",
    "    ttm_complete.copy()\n",
    ")  # saving a copy of the matrix (the following operations will add columns to it, but we want to keep the original one also)\n",
    "\n",
    "ttm_gs_with_area = pd.merge(\n",
    "    ttm_greenspace,\n",
    "    gs_entrances_with_parkarea[[\"id_entrance\", \"ref_to_greenspace_site\", \"area_m2\"]],\n",
    "    left_on=\"to_id\",\n",
    "    right_on=\"id_entrance\",\n",
    "    how=\"left\",\n",
    ")\n",
    "# generate tracc cost object\n",
    "ttm_gs_tracc = tracc.costs(ttm_gs_with_area)\n",
    "\n",
    "modes_list = [\"transit\", \"car\", \"bicycle\", \"walk\"]\n",
    "\n",
    "# empty dataframes to be filled up in the next for loop\n",
    "acc_pot_gs = origins[[\"id\"]]\n",
    "gs_acc = []\n",
    "\n",
    "for m in modes_list:\n",
    "    # generate variable names to be used in the tracc function below\n",
    "    cost_name = \"time_\" + m\n",
    "    travel_costs_ids = [\"from_id\", \"to_id\"]\n",
    "    impedence_param = 15  # value for impedence function, to be changed as needed\n",
    "    impedence_param_string = str(impedence_param)\n",
    "    # name of the column\n",
    "    cost_output = (\n",
    "        \"cum_\" + impedence_param_string + \"_\" + m\n",
    "    )  # naming depends on impedence function threshold\n",
    "    area_column_name = \"area_\" + impedence_param_string + \"_\" + m\n",
    "    acc_column_name = (\n",
    "        \"pot_cum_acc_\" + impedence_param_string + \"_\" + m\n",
    "    )  # naming depends on impedence function threshold\n",
    "    opportunity = \"pop\"\n",
    "    # Computing impedence function based on a 15 minute travel time threshold.\n",
    "    ttm_gs_tracc.impedence_calc(\n",
    "        cost_column=cost_name,\n",
    "        impedence_func=\"cumulative\",\n",
    "        impedence_func_params=impedence_param,  # to calculate opportunities in X min threshold\n",
    "        output_col_name=cost_output,\n",
    "        prune_output=False,\n",
    "    )\n",
    "    ttm_gs_df = ttm_gs_tracc.data\n",
    "    # Setting up the accessibility object. This includes joining the destination data to the travel time data\n",
    "    # this needed to be done differently for greenspace, as opportunity is sites's area cumulative sum\n",
    "    # A. Filtering only rows with time travel within the threshold\n",
    "    print(\"cost output is\", cost_output)\n",
    "    print(\"area column name is\", area_column_name)\n",
    "    # tracc_15min = ttm_gs_tracc.data[ttm_gs_tracc.data.loc[:,cost_output]==1] # this doesn't work because of the different lenghts of the columns generated per mode\n",
    "    ttm_gs_tracc.data[area_column_name] = (\n",
    "        ttm_gs_tracc.data[\"area_m2\"] * ttm_gs_tracc.data[cost_output]\n",
    "    )\n",
    "    ttm_gs_df = ttm_gs_tracc.data\n",
    "\n",
    "    # B. Filter entrances (only one per park)\n",
    "    oneaccess_perpark = ttm_gs_df.sort_values(cost_name).drop_duplicates(\n",
    "        [\"from_id\", \"ref_to_greenspace_site\"]\n",
    "    )\n",
    "    # C. Assign metric as sum[parks' area]\n",
    "    # generate df with one row per OA centroid ('from_id') and sum of sites' areas - per each mode\n",
    "    gs_metric_per_mode = oneaccess_perpark.groupby([\"from_id\"])[\n",
    "        area_column_name\n",
    "    ].sum()  # .reset_index()\n",
    "    gs_acc.append(gs_metric_per_mode)\n",
    "gs_acc = pd.concat(gs_acc, axis=1)"
   ]
  },
  {
   "cell_type": "code",
   "execution_count": 37,
   "metadata": {},
   "outputs": [],
   "source": [
    "gs_acc.to_parquet(\n",
    "    f\"acc_greenspace_allmodes_15min.parquet\"\n",
    ")"
   ]
  },
  {
   "cell_type": "code",
   "execution_count": 38,
   "metadata": {},
   "outputs": [],
   "source": [
    "gs_acc.columns = [\"transit\", \"car\", \"bike\", \"walk\"]\n",
    "greenspace = xr.DataArray.from_series(gs_acc.stack()).rename(\n",
    "    {\"level_1\": \"mode\"}\n",
    ")\n",
    "greenspace.name = \"green_accessibility\""
   ]
  },
  {
   "cell_type": "code",
   "execution_count": 39,
   "metadata": {},
   "outputs": [],
   "source": [
    "baseline = xr.merge([baseline, greenspace])\n",
    "baseline[\"green_accessibility\"] = baseline[\"green_accessibility\"].fillna(0)"
   ]
  },
  {
   "cell_type": "markdown",
   "metadata": {},
   "source": [
    "Create demoland class"
   ]
  },
  {
   "cell_type": "code",
   "execution_count": 40,
   "metadata": {},
   "outputs": [],
   "source": [
    "acc = Accessibility(baseline)"
   ]
  },
  {
   "cell_type": "code",
   "execution_count": 69,
   "metadata": {},
   "outputs": [],
   "source": [
    "with open(f\"accessibility.joblib\", \"wb\") as f:\n",
    "    joblib.dump(acc, f, compress=True)"
   ]
  },
  {
   "cell_type": "markdown",
   "metadata": {},
   "source": [
    "12. Generate files for the app"
   ]
  },
  {
   "cell_type": "code",
   "execution_count": null,
   "metadata": {},
   "outputs": [],
   "source": []
  }
 ],
 "metadata": {
  "kernelspec": {
   "display_name": "Python 3 (ipykernel)",
   "language": "python",
   "name": "python3"
  },
  "language_info": {
   "codemirror_mode": {
    "name": "ipython",
    "version": 3
   },
   "file_extension": ".py",
   "mimetype": "text/x-python",
   "name": "python",
   "nbconvert_exporter": "python",
   "pygments_lexer": "ipython3",
   "version": "3.11.6"
  }
 },
 "nbformat": 4,
 "nbformat_minor": 4
}
