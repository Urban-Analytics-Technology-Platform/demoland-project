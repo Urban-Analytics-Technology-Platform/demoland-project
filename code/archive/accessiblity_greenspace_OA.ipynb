{
 "cells": [
  {
   "attachments": {},
   "cell_type": "markdown",
   "metadata": {},
   "source": [
    "This script originates from `accessb_r5py.ipynb` and is a first try to generate a methodology to build accessibility indicators in a comprehensive way.\n",
    "\n",
    "When the methodology is robust, this script will probably be split in two, one for green spaces and one for jobs accessibility."
   ]
  },
  {
   "attachments": {},
   "cell_type": "markdown",
   "metadata": {},
   "source": [
    "1. Variables definition"
   ]
  },
  {
   "cell_type": "code",
   "execution_count": 1,
   "metadata": {},
   "outputs": [],
   "source": [
    "import sys\n",
    "import numpy as np\n",
    "import pandas as pd\n",
    "import geopandas as gpd\n",
    "import datetime as dt\n",
    "import tracc\n",
    "from r5py import TransportNetwork, TravelTimeMatrixComputer, TransitMode, LegMode\n",
    "from datetime import timedelta\n",
    "import matplotlib.pyplot as plt\n",
    "sys.argv.append([\"--max-memory\", \"8G\"])\n",
    "\n",
    "\n",
    "data_folder = \"/Users/azanchetta/OneDrive - The Alan Turing Institute/demoland_data\"\n",
    "\n",
    "\n",
    "# regional level files: (require previous editing)\n",
    "# spatial:\n",
    "oas_centroids_file = f\"{data_folder}/processed/OA_centroids_TyneWear.gpkg\" # used for population origin\n",
    "oas_file = f\"{data_folder}/processed/authorities/OA_TyneWear.gpkg\" # needed for visualisation purposes\n",
    "# lsoas_centroids_file = f\"{data_folder}/processed/authorities/tynewear_lsoas_centroids_wgs84.shp\" # used for jobs location (destination)\n",
    "region_lads_file = f\"{data_folder}/processed/authorities/LADs_tynewear.shp\" # needed in order to filter greenspace data within the regional boundaries\n",
    "# non-spatial:\n",
    "\n",
    "\n",
    "# national level files\n",
    "greenspace_file = f\"{data_folder}/raw/accessibility/OS Open Greenspace (GPKG) GB/data/opgrsp_gb.gpkg\"\n",
    "osm_data_file = f\"{data_folder}/raw/accessibility/tyne-and-wear-latest.osm.pbf\"\n",
    "gtfs_data_file = f\"{data_folder}/raw/accessibility/itm_north_east_gtfs.zip\""
   ]
  },
  {
   "attachments": {},
   "cell_type": "markdown",
   "metadata": {},
   "source": [
    "2. data import"
   ]
  },
  {
   "cell_type": "code",
   "execution_count": 2,
   "metadata": {},
   "outputs": [
    {
     "data": {
      "text/html": [
       "<div>\n",
       "<style scoped>\n",
       "    .dataframe tbody tr th:only-of-type {\n",
       "        vertical-align: middle;\n",
       "    }\n",
       "\n",
       "    .dataframe tbody tr th {\n",
       "        vertical-align: top;\n",
       "    }\n",
       "\n",
       "    .dataframe thead th {\n",
       "        text-align: right;\n",
       "    }\n",
       "</style>\n",
       "<table border=\"1\" class=\"dataframe\">\n",
       "  <thead>\n",
       "    <tr style=\"text-align: right;\">\n",
       "      <th></th>\n",
       "      <th>OBJECTID</th>\n",
       "      <th>LAD20CD</th>\n",
       "      <th>LAD20NM</th>\n",
       "      <th>LAD20NMW</th>\n",
       "      <th>BNG_E</th>\n",
       "      <th>BNG_N</th>\n",
       "      <th>LONG</th>\n",
       "      <th>LAT</th>\n",
       "      <th>Shape__Are</th>\n",
       "      <th>Shape__Len</th>\n",
       "      <th>label</th>\n",
       "      <th>geometry</th>\n",
       "    </tr>\n",
       "  </thead>\n",
       "  <tbody>\n",
       "    <tr>\n",
       "      <th>0</th>\n",
       "      <td>265</td>\n",
       "      <td>E08000021</td>\n",
       "      <td>Newcastle upon Tyne</td>\n",
       "      <td>None</td>\n",
       "      <td>422287</td>\n",
       "      <td>569662</td>\n",
       "      <td>-1.65297</td>\n",
       "      <td>55.02101</td>\n",
       "      <td>1.134619e+08</td>\n",
       "      <td>65202.925674</td>\n",
       "      <td>Newcastle upon Tyne\\nE08000021</td>\n",
       "      <td>POLYGON ((422592.399 576160.095, 422618.297 57...</td>\n",
       "    </tr>\n",
       "    <tr>\n",
       "      <th>1</th>\n",
       "      <td>266</td>\n",
       "      <td>E08000022</td>\n",
       "      <td>North Tyneside</td>\n",
       "      <td>None</td>\n",
       "      <td>431471</td>\n",
       "      <td>570602</td>\n",
       "      <td>-1.50923</td>\n",
       "      <td>55.02896</td>\n",
       "      <td>8.231373e+07</td>\n",
       "      <td>65337.781081</td>\n",
       "      <td>North Tyneside\\nE08000022</td>\n",
       "      <td>MULTIPOLYGON (((435203.599 575441.701, 435209....</td>\n",
       "    </tr>\n",
       "    <tr>\n",
       "      <th>2</th>\n",
       "      <td>267</td>\n",
       "      <td>E08000023</td>\n",
       "      <td>South Tyneside</td>\n",
       "      <td>None</td>\n",
       "      <td>435514</td>\n",
       "      <td>564057</td>\n",
       "      <td>-1.44679</td>\n",
       "      <td>54.96988</td>\n",
       "      <td>6.442842e+07</td>\n",
       "      <td>51370.230506</td>\n",
       "      <td>South Tyneside\\nE08000023</td>\n",
       "      <td>POLYGON ((438030.200 568413.300, 438021.350 56...</td>\n",
       "    </tr>\n",
       "    <tr>\n",
       "      <th>3</th>\n",
       "      <td>268</td>\n",
       "      <td>E08000024</td>\n",
       "      <td>Sunderland</td>\n",
       "      <td>None</td>\n",
       "      <td>436470</td>\n",
       "      <td>551524</td>\n",
       "      <td>-1.43344</td>\n",
       "      <td>54.85719</td>\n",
       "      <td>1.374412e+08</td>\n",
       "      <td>99737.411804</td>\n",
       "      <td>Sunderland\\nE08000024</td>\n",
       "      <td>MULTIPOLYGON (((441259.800 557854.000, 441252....</td>\n",
       "    </tr>\n",
       "    <tr>\n",
       "      <th>4</th>\n",
       "      <td>281</td>\n",
       "      <td>E08000037</td>\n",
       "      <td>Gateshead</td>\n",
       "      <td>None</td>\n",
       "      <td>420168</td>\n",
       "      <td>559658</td>\n",
       "      <td>-1.68680</td>\n",
       "      <td>54.93120</td>\n",
       "      <td>1.423691e+08</td>\n",
       "      <td>90476.826397</td>\n",
       "      <td>Gateshead\\nE08000037</td>\n",
       "      <td>POLYGON ((415042.801 565083.296, 415104.202 56...</td>\n",
       "    </tr>\n",
       "  </tbody>\n",
       "</table>\n",
       "</div>"
      ],
      "text/plain": [
       "   OBJECTID    LAD20CD              LAD20NM LAD20NMW   BNG_E   BNG_N     LONG  \\\n",
       "0       265  E08000021  Newcastle upon Tyne     None  422287  569662 -1.65297   \n",
       "1       266  E08000022       North Tyneside     None  431471  570602 -1.50923   \n",
       "2       267  E08000023       South Tyneside     None  435514  564057 -1.44679   \n",
       "3       268  E08000024           Sunderland     None  436470  551524 -1.43344   \n",
       "4       281  E08000037            Gateshead     None  420168  559658 -1.68680   \n",
       "\n",
       "        LAT    Shape__Are    Shape__Len                           label  \\\n",
       "0  55.02101  1.134619e+08  65202.925674  Newcastle upon Tyne\\nE08000021   \n",
       "1  55.02896  8.231373e+07  65337.781081       North Tyneside\\nE08000022   \n",
       "2  54.96988  6.442842e+07  51370.230506       South Tyneside\\nE08000023   \n",
       "3  54.85719  1.374412e+08  99737.411804           Sunderland\\nE08000024   \n",
       "4  54.93120  1.423691e+08  90476.826397            Gateshead\\nE08000037   \n",
       "\n",
       "                                            geometry  \n",
       "0  POLYGON ((422592.399 576160.095, 422618.297 57...  \n",
       "1  MULTIPOLYGON (((435203.599 575441.701, 435209....  \n",
       "2  POLYGON ((438030.200 568413.300, 438021.350 56...  \n",
       "3  MULTIPOLYGON (((441259.800 557854.000, 441252....  \n",
       "4  POLYGON ((415042.801 565083.296, 415104.202 56...  "
      ]
     },
     "execution_count": 2,
     "metadata": {},
     "output_type": "execute_result"
    }
   ],
   "source": [
    "# reading in the origin/destination points geospatial data (just for tynewear region)\n",
    "\n",
    "# origins (IE output areas, OAs)\n",
    "origin_centroids = gpd.read_file(oas_centroids_file,\n",
    "                                 layer=\"OA_centroids_TyneWear\")\n",
    "origin_centroids['id'] = origin_centroids['OA11CD'] # Origin dataset must contain an 'id' column\n",
    "origin_centroids.head()\n",
    "# origin_centroids.explore()\n",
    "\n",
    "#  destinations (IE: WPZ for jobs location, and Greenspace access points for greenspace)\n",
    "# wpz_centroids = gpd.read_file(wpz_centroids_file,\n",
    "#                               layer = \"WPZ_centroids_tynewear\")\n",
    "# wpz_centroids.head()\n",
    "# wpz_centroids['id'] = wpz_centroids['wz11cd'] # Destination dataset must contain an 'id' column\n",
    "\n",
    "accesspoints = gpd.read_file(greenspace_file,\n",
    "                        layer = \"AccessPoint\")\n",
    "accesspoints.head()\n",
    "\n",
    "# for mapping:\n",
    "oas_boundaries = gpd.read_file(oas_file,\n",
    "                               layer=\"OA_TyneWear\")\n",
    "region_lads = gpd.read_file(region_lads_file)\n",
    "region_lads.head()"
   ]
  },
  {
   "cell_type": "code",
   "execution_count": 3,
   "metadata": {},
   "outputs": [
    {
     "name": "stderr",
     "output_type": "stream",
     "text": [
      "/usr/local/anaconda3/envs/demoland_r5/lib/python3.9/site-packages/IPython/core/interactiveshell.py:3373: FutureWarning: The `op` parameter is deprecated and will be removed in a future release. Please use the `predicate` parameter instead.\n",
      "  if await self.run_code(code, result, async_=asy):\n"
     ]
    },
    {
     "data": {
      "text/html": [
       "<div>\n",
       "<style scoped>\n",
       "    .dataframe tbody tr th:only-of-type {\n",
       "        vertical-align: middle;\n",
       "    }\n",
       "\n",
       "    .dataframe tbody tr th {\n",
       "        vertical-align: top;\n",
       "    }\n",
       "\n",
       "    .dataframe thead th {\n",
       "        text-align: right;\n",
       "    }\n",
       "</style>\n",
       "<table border=\"1\" class=\"dataframe\">\n",
       "  <thead>\n",
       "    <tr style=\"text-align: right;\">\n",
       "      <th></th>\n",
       "      <th>id</th>\n",
       "      <th>accessType</th>\n",
       "      <th>refToGreenspaceSite</th>\n",
       "      <th>geometry</th>\n",
       "      <th>index_right</th>\n",
       "      <th>OBJECTID</th>\n",
       "      <th>LAD20CD</th>\n",
       "      <th>LAD20NM</th>\n",
       "      <th>LAD20NMW</th>\n",
       "      <th>BNG_E</th>\n",
       "      <th>BNG_N</th>\n",
       "      <th>LONG</th>\n",
       "      <th>LAT</th>\n",
       "      <th>Shape__Are</th>\n",
       "      <th>Shape__Len</th>\n",
       "      <th>label</th>\n",
       "    </tr>\n",
       "  </thead>\n",
       "  <tbody>\n",
       "    <tr>\n",
       "      <th>37465</th>\n",
       "      <td>idD93E3AB6-BDCE-483D-B3CF-4242FA90A0B7</td>\n",
       "      <td>Pedestrian</td>\n",
       "      <td>idE56DE6C0-48DC-13A9-E053-AAEFA00A0D0E</td>\n",
       "      <td>POINT (428393.150 571055.200)</td>\n",
       "      <td>1</td>\n",
       "      <td>266</td>\n",
       "      <td>E08000022</td>\n",
       "      <td>North Tyneside</td>\n",
       "      <td>None</td>\n",
       "      <td>431471</td>\n",
       "      <td>570602</td>\n",
       "      <td>-1.50923</td>\n",
       "      <td>55.02896</td>\n",
       "      <td>8.231373e+07</td>\n",
       "      <td>65337.781081</td>\n",
       "      <td>North Tyneside\\nE08000022</td>\n",
       "    </tr>\n",
       "    <tr>\n",
       "      <th>37466</th>\n",
       "      <td>id951F323D-8E88-4A5B-B9A4-37E0D69DD870</td>\n",
       "      <td>Pedestrian</td>\n",
       "      <td>idE56DE6C0-48DC-13A9-E053-AAEFA00A0D0E</td>\n",
       "      <td>POINT (428104.740 571065.000)</td>\n",
       "      <td>1</td>\n",
       "      <td>266</td>\n",
       "      <td>E08000022</td>\n",
       "      <td>North Tyneside</td>\n",
       "      <td>None</td>\n",
       "      <td>431471</td>\n",
       "      <td>570602</td>\n",
       "      <td>-1.50923</td>\n",
       "      <td>55.02896</td>\n",
       "      <td>8.231373e+07</td>\n",
       "      <td>65337.781081</td>\n",
       "      <td>North Tyneside\\nE08000022</td>\n",
       "    </tr>\n",
       "    <tr>\n",
       "      <th>37467</th>\n",
       "      <td>id0E14522B-427F-47C1-B043-BC3847ABE673</td>\n",
       "      <td>Pedestrian</td>\n",
       "      <td>idE56DE6C0-48DC-13A9-E053-AAEFA00A0D0E</td>\n",
       "      <td>POINT (428096.340 571073.320)</td>\n",
       "      <td>1</td>\n",
       "      <td>266</td>\n",
       "      <td>E08000022</td>\n",
       "      <td>North Tyneside</td>\n",
       "      <td>None</td>\n",
       "      <td>431471</td>\n",
       "      <td>570602</td>\n",
       "      <td>-1.50923</td>\n",
       "      <td>55.02896</td>\n",
       "      <td>8.231373e+07</td>\n",
       "      <td>65337.781081</td>\n",
       "      <td>North Tyneside\\nE08000022</td>\n",
       "    </tr>\n",
       "    <tr>\n",
       "      <th>37468</th>\n",
       "      <td>id548D0EAC-E6BE-4DFA-B90C-DB631A75309B</td>\n",
       "      <td>Pedestrian</td>\n",
       "      <td>idE56DE841-2BC6-13A9-E053-AAEFA00A0D0E</td>\n",
       "      <td>POINT (428234.820 571077.590)</td>\n",
       "      <td>1</td>\n",
       "      <td>266</td>\n",
       "      <td>E08000022</td>\n",
       "      <td>North Tyneside</td>\n",
       "      <td>None</td>\n",
       "      <td>431471</td>\n",
       "      <td>570602</td>\n",
       "      <td>-1.50923</td>\n",
       "      <td>55.02896</td>\n",
       "      <td>8.231373e+07</td>\n",
       "      <td>65337.781081</td>\n",
       "      <td>North Tyneside\\nE08000022</td>\n",
       "    </tr>\n",
       "    <tr>\n",
       "      <th>37469</th>\n",
       "      <td>id0FECA8F4-6053-4147-A11D-62B01EC6C135</td>\n",
       "      <td>Pedestrian</td>\n",
       "      <td>idE56DE6C0-48DC-13A9-E053-AAEFA00A0D0E</td>\n",
       "      <td>POINT (428229.590 571078.720)</td>\n",
       "      <td>1</td>\n",
       "      <td>266</td>\n",
       "      <td>E08000022</td>\n",
       "      <td>North Tyneside</td>\n",
       "      <td>None</td>\n",
       "      <td>431471</td>\n",
       "      <td>570602</td>\n",
       "      <td>-1.50923</td>\n",
       "      <td>55.02896</td>\n",
       "      <td>8.231373e+07</td>\n",
       "      <td>65337.781081</td>\n",
       "      <td>North Tyneside\\nE08000022</td>\n",
       "    </tr>\n",
       "  </tbody>\n",
       "</table>\n",
       "</div>"
      ],
      "text/plain": [
       "                                           id  accessType  \\\n",
       "37465  idD93E3AB6-BDCE-483D-B3CF-4242FA90A0B7  Pedestrian   \n",
       "37466  id951F323D-8E88-4A5B-B9A4-37E0D69DD870  Pedestrian   \n",
       "37467  id0E14522B-427F-47C1-B043-BC3847ABE673  Pedestrian   \n",
       "37468  id548D0EAC-E6BE-4DFA-B90C-DB631A75309B  Pedestrian   \n",
       "37469  id0FECA8F4-6053-4147-A11D-62B01EC6C135  Pedestrian   \n",
       "\n",
       "                          refToGreenspaceSite                       geometry  \\\n",
       "37465  idE56DE6C0-48DC-13A9-E053-AAEFA00A0D0E  POINT (428393.150 571055.200)   \n",
       "37466  idE56DE6C0-48DC-13A9-E053-AAEFA00A0D0E  POINT (428104.740 571065.000)   \n",
       "37467  idE56DE6C0-48DC-13A9-E053-AAEFA00A0D0E  POINT (428096.340 571073.320)   \n",
       "37468  idE56DE841-2BC6-13A9-E053-AAEFA00A0D0E  POINT (428234.820 571077.590)   \n",
       "37469  idE56DE6C0-48DC-13A9-E053-AAEFA00A0D0E  POINT (428229.590 571078.720)   \n",
       "\n",
       "       index_right  OBJECTID    LAD20CD         LAD20NM LAD20NMW   BNG_E  \\\n",
       "37465            1       266  E08000022  North Tyneside     None  431471   \n",
       "37466            1       266  E08000022  North Tyneside     None  431471   \n",
       "37467            1       266  E08000022  North Tyneside     None  431471   \n",
       "37468            1       266  E08000022  North Tyneside     None  431471   \n",
       "37469            1       266  E08000022  North Tyneside     None  431471   \n",
       "\n",
       "        BNG_N     LONG       LAT    Shape__Are    Shape__Len  \\\n",
       "37465  570602 -1.50923  55.02896  8.231373e+07  65337.781081   \n",
       "37466  570602 -1.50923  55.02896  8.231373e+07  65337.781081   \n",
       "37467  570602 -1.50923  55.02896  8.231373e+07  65337.781081   \n",
       "37468  570602 -1.50923  55.02896  8.231373e+07  65337.781081   \n",
       "37469  570602 -1.50923  55.02896  8.231373e+07  65337.781081   \n",
       "\n",
       "                           label  \n",
       "37465  North Tyneside\\nE08000022  \n",
       "37466  North Tyneside\\nE08000022  \n",
       "37467  North Tyneside\\nE08000022  \n",
       "37468  North Tyneside\\nE08000022  \n",
       "37469  North Tyneside\\nE08000022  "
      ]
     },
     "execution_count": 3,
     "metadata": {},
     "output_type": "execute_result"
    }
   ],
   "source": [
    "# selecting green spaces point access within the LADs boundaries\n",
    "region_accesspoints = gpd.sjoin(accesspoints,\n",
    "                                region_lads,\n",
    "                                op = 'within'\n",
    "                                )\n",
    "region_accesspoints.head()"
   ]
  },
  {
   "cell_type": "code",
   "execution_count": null,
   "metadata": {},
   "outputs": [],
   "source": [
    "# region_accesspoints.explore()"
   ]
  },
  {
   "cell_type": "code",
   "execution_count": 4,
   "metadata": {},
   "outputs": [],
   "source": [
    "# reprojecting layers that are in wgs84 crs to bng (need it to have the network build work, IE they need to have same CRS of osm and gtfs data)\n",
    "\n",
    "\n",
    "origin_centroids.crs # epsg:27700\n",
    "accesspoints.crs # epsg: 27700\n",
    "oas_boundaries.crs # epsg:27700\n",
    "origin_centroids_wgs84 = origin_centroids.to_crs(\"epsg:4326\")\n",
    "accesspoints_wgs84 = region_accesspoints.to_crs(\"epsg:4326\")\n",
    "oas_boundaries_wgs84 = oas_boundaries.to_crs(\"epsg:4326\")\n"
   ]
  },
  {
   "cell_type": "code",
   "execution_count": null,
   "metadata": {},
   "outputs": [],
   "source": [
    "# # merging geospatial data (admin boundaries/centroids) with land use/opportunities data (jobs and greenspaces points, could be population etc)\n",
    "\n",
    "# landuse_gdf = pd.merge(wpz_centroids_wgs84, # gdf file\n",
    "#                        jobs_per_wpz, # info we want to add\n",
    "#                        how = \"inner\", # this allows to pick (from the nationals centroids table) only LSOAs that belong to the region (jobs file)\n",
    "#                        left_on = \"wz11cd\",\n",
    "#                        right_on = \"wpz11cd\")\n",
    "# landuse_gdf.head()\n",
    "\n",
    "\n",
    "# landuse_gdf.jobs = landuse_gdf.jobs.fillna(0).astype(np.int64) # removing NaN and changing type to Int\n",
    "# # hoping that this makes \"explore\" work below. NOTE: deal with this issue later on in a better way (IE clean data before importing them in python)\n",
    "# landuse_gdf.dtypes"
   ]
  },
  {
   "cell_type": "markdown",
   "metadata": {},
   "source": [
    "## Load transport network\n",
    "\n",
    ">  To import the street and public transport networks, instantiate an `r5py.TransportNetwork` with the file paths to the OSM extract and the GTFS files:"
   ]
  },
  {
   "cell_type": "code",
   "execution_count": null,
   "metadata": {},
   "outputs": [],
   "source": [
    "transport_network = TransportNetwork(\n",
    "    osm_data_file,\n",
    "    [\n",
    "        gtfs_data_file\n",
    "    ]\n",
    ")"
   ]
  },
  {
   "attachments": {},
   "cell_type": "markdown",
   "metadata": {},
   "source": [
    "## Compute travel matrix\n",
    "Generate time travel matrix from OAs to all access points to greenspace, by walking.\n",
    "Setting max time to 15min (though it arrives to calculate up to 15min)"
   ]
  },
  {
   "cell_type": "code",
   "execution_count": null,
   "metadata": {},
   "outputs": [],
   "source": [
    "ttm_walking_OAtoGS = TravelTimeMatrixComputer(\n",
    "    transport_network,\n",
    "    origins=origin_centroids_wgs84,\n",
    "    destinations=accesspoints_wgs84,\n",
    "    max_time=dt.timedelta(seconds=900), # restricting travel to 15min\n",
    "    speed_walking=4.8,\n",
    "    transport_modes=[LegMode.WALK]\n",
    ")\n",
    "ttm_walking_OAtoGS = ttm_walking_OAtoGS.compute_travel_times()\n",
    "ttm_walking_OAtoGS.head()"
   ]
  },
  {
   "cell_type": "code",
   "execution_count": null,
   "metadata": {},
   "outputs": [],
   "source": [
    "median_times = ttm_walking_OAtoGS.groupby(\"from_id\")[\"travel_time\"].median()\n",
    "median_times"
   ]
  },
  {
   "cell_type": "code",
   "execution_count": null,
   "metadata": {},
   "outputs": [],
   "source": [
    "# ttm_cycling_OAtoGS = TravelTimeMatrixComputer(\n",
    "#     transport_network,\n",
    "#     origins=origin_centroids_wgs84,\n",
    "#     destinations=accesspoints_wgs84,\n",
    "#     max_time=dt.timedelta(seconds = 900),\n",
    "#     speed_walking=4.8,\n",
    "#     transport_modes=[LegMode.WALK]\n",
    "# )\n",
    "# ttm_cycling_OAtoGS = ttm_cycling_OAtoGS.compute_travel_times()\n",
    "# ttm_walking_OAtoGS.head()"
   ]
  },
  {
   "cell_type": "code",
   "execution_count": null,
   "metadata": {},
   "outputs": [],
   "source": [
    "# ttm_walking_OAtoGS.to_csv(\"/Users/azanchetta/OneDrive - The Alan Turing Institute/Research/projects/LandUseDemonstrator/output/ttm_gs_OAtoGS_15min.csv\")"
   ]
  },
  {
   "attachments": {},
   "cell_type": "markdown",
   "metadata": {},
   "source": [
    "## Accessibility calculation\n",
    "Using `tracc` package and some original thoughts of mine"
   ]
  },
  {
   "cell_type": "code",
   "execution_count": null,
   "metadata": {},
   "outputs": [],
   "source": [
    "df_tracc = tracc.costs(ttm_walking_OAtoGS)\n",
    "df_tracc.data.head()"
   ]
  },
  {
   "cell_type": "code",
   "execution_count": null,
   "metadata": {},
   "outputs": [],
   "source": [
    "max_time = ttm_walking_OAtoGS.groupby(\"from_id\")[\"travel_time\"].max()\n",
    "max_time.max()"
   ]
  },
  {
   "cell_type": "code",
   "execution_count": null,
   "metadata": {},
   "outputs": [],
   "source": [
    "# Computing impedance function based on a 15 minute travel time threshold.\n",
    "df_tracc.impedence_calc(\n",
    "    cost_column = \"travel_time\",\n",
    "    impedence_func = \"cumulative\",\n",
    "    impedence_func_params = 15, # minutes cap\n",
    "    output_col_name = \"cum_15\",\n",
    "    prune_output = False\n",
    ")\n",
    "df_tracc.data.head()"
   ]
  },
  {
   "cell_type": "code",
   "execution_count": null,
   "metadata": {},
   "outputs": [],
   "source": [
    "df_tracc.data.describe()"
   ]
  },
  {
   "cell_type": "code",
   "execution_count": null,
   "metadata": {},
   "outputs": [],
   "source": [
    "df_acc_df = df_tracc.data # to visualise the dataframe more easily"
   ]
  },
  {
   "cell_type": "code",
   "execution_count": null,
   "metadata": {},
   "outputs": [],
   "source": [
    "# checking results using qgis on the side\n",
    "# df[df.iloc[:, 1] >= 60.0]\n",
    "trydf = df_acc_df[(df_acc_df.from_id  == \"E00041377\")] #|df_acc_df.loc[:,\"travel_time\"] >=0.0]\n",
    "trydf = trydf[trydf.loc[:,\"travel_time\"]<=5]\n"
   ]
  },
  {
   "cell_type": "code",
   "execution_count": null,
   "metadata": {},
   "outputs": [],
   "source": [
    "# generating df with only values up to 15 min (not sure why but they arrive to 29 max, despite requesting a 15min cap)\n",
    "# and on top of this counting the amount of available greenspace accesspoints reachable from each OAs\n",
    "df_tracc_15min = df_tracc.data[df_tracc.data.loc[:,\"cum_15\"]==1]\n",
    "df_tracc_15min.describe()"
   ]
  },
  {
   "cell_type": "code",
   "execution_count": null,
   "metadata": {},
   "outputs": [],
   "source": [
    "count_gs = df_tracc_15min.loc[:,(\"from_id\",\"cum_15\")].groupby(\"from_id\").count()"
   ]
  },
  {
   "cell_type": "code",
   "execution_count": null,
   "metadata": {},
   "outputs": [],
   "source": [
    "# plotting results\n",
    "oas_boundaries_accgs = oas_boundaries_wgs84.merge(count_gs,\n",
    "                                                     left_on = 'geo_code',\n",
    "                                                     right_on = \"from_id\",\n",
    "                                                     how = \"right\")\n",
    "oas_boundaries_accgs.head()\n",
    "# oas_boundaries_accgs.A_pop_cum_15.isnull().sum().sum() # (checking number of na in column) -> zero\n"
   ]
  },
  {
   "cell_type": "code",
   "execution_count": null,
   "metadata": {},
   "outputs": [],
   "source": [
    "oas_boundaries_accgs.explore(column = \"cum_15\",\n",
    "                               cmap=\"plasma\",\n",
    "                               scheme='NaturalBreaks',\n",
    "                               k=8\n",
    "                               )"
   ]
  },
  {
   "cell_type": "code",
   "execution_count": null,
   "metadata": {},
   "outputs": [],
   "source": [
    "oas_boundaries_accgs.head()"
   ]
  },
  {
   "cell_type": "code",
   "execution_count": null,
   "metadata": {},
   "outputs": [],
   "source": [
    "oas_boundaries_accgs.describe()"
   ]
  },
  {
   "cell_type": "code",
   "execution_count": null,
   "metadata": {},
   "outputs": [],
   "source": [
    "count_gs.to_csv(\"../output/acc_gs15_OAtoGS_tynewear.csv\")"
   ]
  }
 ],
 "metadata": {
  "kernelspec": {
   "display_name": "demoland_r5",
   "language": "python",
   "name": "python3"
  },
  "language_info": {
   "codemirror_mode": {
    "name": "ipython",
    "version": 3
   },
   "file_extension": ".py",
   "mimetype": "text/x-python",
   "name": "python",
   "nbconvert_exporter": "python",
   "pygments_lexer": "ipython3",
   "version": "3.9.16"
  },
  "orig_nbformat": 4,
  "vscode": {
   "interpreter": {
    "hash": "bca7ff844b196d85b5f05fb1676164174f03491baaf50a687c916a5f950ce87e"
   }
  }
 },
 "nbformat": 4,
 "nbformat_minor": 2
}
