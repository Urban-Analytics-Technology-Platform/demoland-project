{
 "cells": [
  {
   "attachments": {},
   "cell_type": "markdown",
   "metadata": {},
   "source": [
    "This script originates from `accessb_r5py.ipynb` and is a first try to generate a methodology to build accessibility indicators in a comprehensive way.\n",
    "\n",
    "When the methodology is robust, this script will probably be split in two, one for green spaces and one for jobs accessibility."
   ]
  },
  {
   "attachments": {},
   "cell_type": "markdown",
   "metadata": {},
   "source": [
    "1. Variables definition"
   ]
  },
  {
   "cell_type": "code",
   "execution_count": 107,
   "metadata": {},
   "outputs": [],
   "source": [
    "import sys\n",
    "import numpy as np\n",
    "import pandas as pd\n",
    "import geopandas as gpd\n",
    "import datetime\n",
    "import tracc\n",
    "from r5py import TransportNetwork, TravelTimeMatrixComputer, TransitMode, LegMode\n",
    "import matplotlib.pyplot as plt\n",
    "sys.argv.append([\"--max-memory\", \"8G\"])\n",
    "\n",
    "\n",
    "data_folder = \"/Users/azanchetta/OneDrive - The Alan Turing Institute/demoland_data\"\n",
    "\n",
    "\n",
    "# regional level files: (require previous editing)\n",
    "oas_centroids_file = f\"{data_folder}/processed/authorities/OA_centroids_TyneWear.gpkg\" # used for population origin\n",
    "oas_file = f\"{data_folder}/processed/authorities/OA_TyneWear.gpkg\" # needed for visualisation purposes\n",
    "lsoas_centroids_file = f\"{data_folder}/processed/authorities/tynewear_lsoas_centroids_wgs84.shp\" # used for jobs location (destination)\n",
    "region_lads_file = f\"{data_folder}/processed/authorities/LADs_tynewear.shp\" # needed in order to filter greenspace data within the regional boundaries\n",
    "# non-spatial\n",
    "jobs_file = f\"{data_folder}/processed/accessibility/bres_jobs_tynewear.csv\" # n of jobs per LSOA\n",
    "\n",
    "# national level files\n",
    "gs_accesspoints_file = f\"{data_folder}/raw/accessibility/OS Open Greenspace (GPKG) GB/data/opgrsp_gb.gpkg\"\n",
    "osm_data_file = f\"{data_folder}/raw/accessibility/tyne-and-wear-latest.osm.pbf\"\n",
    "gtfs_data_file = f\"{data_folder}/raw/accessibility/itm_north_east_gtfs.zip\""
   ]
  },
  {
   "attachments": {},
   "cell_type": "markdown",
   "metadata": {},
   "source": [
    "2. data import"
   ]
  },
  {
   "cell_type": "code",
   "execution_count": 110,
   "metadata": {},
   "outputs": [],
   "source": [
    "# reading in the origin/destination points geospatial data (just for tynewear region)\n",
    "\n",
    "# origins (IE output areas, OAs)\n",
    "origin_centroids = gpd.read_file(oas_centroids_file,\n",
    "                                 layer=\"OA_centroids_TyneWear\")\n",
    "origin_centroids['id'] = origin_centroids['OA11CD'] # Origin dataset must contain an 'id' column\n",
    "origin_centroids.head()\n",
    "# origin_centroids.explore()\n",
    "\n",
    "#  destinations (IE: LSOAs for jobs location, and Greenspace access points for greenspace)\n",
    "lsoas_centroids = gpd.read_file(lsoas_centroids_file)\n",
    "lsoas_centroids.head()\n",
    "lsoas_centroids['id'] = lsoas_centroids['LSOA21CD'] # Destination dataset must contain an 'id' column\n",
    "\n",
    "accesspoints = gpd.read_file(gs_accesspoints_file,\n",
    "                        layer = \"AccessPoint\")\n",
    "accesspoints.head()\n",
    "\n",
    "\n",
    "# reading in land use data:\n",
    "jobs_per_lsoa = pd.read_csv(jobs_file) # n of jobs per lsoa from Nomis Bres\n",
    "jobs_per_lsoa.head()\n",
    "\n",
    "# for mapping:\n",
    "oas_boundaries = gpd.read_file(oas_file,\n",
    "                               layer=\"OA_TyneWear\")\n"
   ]
  },
  {
   "cell_type": "code",
   "execution_count": 111,
   "metadata": {},
   "outputs": [],
   "source": [
    "# reprojecting layers that are in wgs84 crs to bng (need it to have the network build work)\n",
    "\n",
    "\n",
    "origin_centroids.crs # epsg:27700\n",
    "lsoas_centroids.crs # epsg: 4326\n",
    "oas_boundaries.crs # epsg:27700\n",
    "origin_centroids_wgs84 = origin_centroids.to_crs(\"epsg:4326\")\n",
    "oas_boundaries_wgs84 = oas_boundaries.to_crs(\"epsg:4326\")\n"
   ]
  },
  {
   "cell_type": "code",
   "execution_count": 33,
   "metadata": {},
   "outputs": [
    {
     "data": {
      "text/plain": [
       "LSOA21CD      object\n",
       "geometry    geometry\n",
       "id            object\n",
       "LSOA11CD      object\n",
       "jobs           int64\n",
       "dtype: object"
      ]
     },
     "execution_count": 33,
     "metadata": {},
     "output_type": "execute_result"
    }
   ],
   "source": [
    "# merging geospatial data (admin boundaries/centroids) with landuse data (jobs and greenspaces points, could be population etc)\n",
    "\n",
    "landuse_gdf = pd.merge(lsoas_centroids_wgs84, # gdf file\n",
    "                       jobs_per_lsoa, # info we want to add\n",
    "                       how = \"inner\", # this allows to pick (from the nationals centroids table) only LSOAs that belong to the region (jobs file)\n",
    "                       left_on = \"LSOA21CD\",\n",
    "                       right_on = \"LSOA11CD\")\n",
    "landuse_gdf.head()\n",
    "\n",
    "\n",
    "landuse_gdf.jobs = landuse_gdf.jobs.fillna(0).astype(np.int64) # removing NaN and changing type to Int\n",
    "# hoping that this makes \"explore\" work below. NOTE: deal with this issue later on in a better way (IE clean data before importing them in python)\n",
    "landuse_gdf.dtypes"
   ]
  },
  {
   "cell_type": "markdown",
   "metadata": {},
   "source": [
    "## Load transport network\n",
    "\n",
    ">  To import the street and public transport networks, instantiate an `r5py.TransportNetwork` with the file paths to the OSM extract and the GTFS files:"
   ]
  },
  {
   "cell_type": "code",
   "execution_count": 34,
   "metadata": {},
   "outputs": [],
   "source": [
    "transport_network = TransportNetwork(\n",
    "    osm_data_file,\n",
    "    [\n",
    "        gtfs_data_file\n",
    "    ]\n",
    ")"
   ]
  },
  {
   "attachments": {},
   "cell_type": "markdown",
   "metadata": {},
   "source": [
    "## Compute travel matrix\n",
    "1. generate time travel matrix from OAs to all LSOas centroids by transit"
   ]
  },
  {
   "cell_type": "code",
   "execution_count": 42,
   "metadata": {},
   "outputs": [
    {
     "data": {
      "text/html": [
       "<div>\n",
       "<style scoped>\n",
       "    .dataframe tbody tr th:only-of-type {\n",
       "        vertical-align: middle;\n",
       "    }\n",
       "\n",
       "    .dataframe tbody tr th {\n",
       "        vertical-align: top;\n",
       "    }\n",
       "\n",
       "    .dataframe thead th {\n",
       "        text-align: right;\n",
       "    }\n",
       "</style>\n",
       "<table border=\"1\" class=\"dataframe\">\n",
       "  <thead>\n",
       "    <tr style=\"text-align: right;\">\n",
       "      <th></th>\n",
       "      <th>from_id</th>\n",
       "      <th>to_id</th>\n",
       "      <th>travel_time</th>\n",
       "    </tr>\n",
       "  </thead>\n",
       "  <tbody>\n",
       "    <tr>\n",
       "      <th>0</th>\n",
       "      <td>E00041377</td>\n",
       "      <td>E01008162</td>\n",
       "      <td>14.0</td>\n",
       "    </tr>\n",
       "    <tr>\n",
       "      <th>1</th>\n",
       "      <td>E00041377</td>\n",
       "      <td>E01008588</td>\n",
       "      <td>50.0</td>\n",
       "    </tr>\n",
       "    <tr>\n",
       "      <th>2</th>\n",
       "      <td>E00041377</td>\n",
       "      <td>E01008510</td>\n",
       "      <td>46.0</td>\n",
       "    </tr>\n",
       "    <tr>\n",
       "      <th>3</th>\n",
       "      <td>E00041377</td>\n",
       "      <td>E01008707</td>\n",
       "      <td>51.0</td>\n",
       "    </tr>\n",
       "    <tr>\n",
       "      <th>4</th>\n",
       "      <td>E00041377</td>\n",
       "      <td>E01008184</td>\n",
       "      <td>57.0</td>\n",
       "    </tr>\n",
       "  </tbody>\n",
       "</table>\n",
       "</div>"
      ],
      "text/plain": [
       "     from_id      to_id  travel_time\n",
       "0  E00041377  E01008162         14.0\n",
       "1  E00041377  E01008588         50.0\n",
       "2  E00041377  E01008510         46.0\n",
       "3  E00041377  E01008707         51.0\n",
       "4  E00041377  E01008184         57.0"
      ]
     },
     "execution_count": 42,
     "metadata": {},
     "output_type": "execute_result"
    }
   ],
   "source": [
    "ttm_jobs_transit = TravelTimeMatrixComputer(\n",
    "    transport_network,\n",
    "    origins=origin_centroids_wgs84,\n",
    "    destinations=lsoas_centroids,\n",
    "    departure=datetime.datetime(2023,1,19,8,30),\n",
    "    transport_modes=[TransitMode.TRANSIT,\n",
    "                     LegMode.WALK]\n",
    ")\n",
    "ttm_jobs_transit = ttm_jobs_transit.compute_travel_times()\n",
    "ttm_jobs_transit.head()"
   ]
  },
  {
   "cell_type": "code",
   "execution_count": 46,
   "metadata": {},
   "outputs": [],
   "source": [
    "ttm_jobs_transit.to_csv(\"/Users/azanchetta/OneDrive - The Alan Turing Institute/Research/projects/LandUseDemonstrator/output/ttm_transit_oaTOlsoa_jobs.csv\")"
   ]
  },
  {
   "cell_type": "code",
   "execution_count": 62,
   "metadata": {},
   "outputs": [
    {
     "data": {
      "text/html": [
       "<div>\n",
       "<style scoped>\n",
       "    .dataframe tbody tr th:only-of-type {\n",
       "        vertical-align: middle;\n",
       "    }\n",
       "\n",
       "    .dataframe tbody tr th {\n",
       "        vertical-align: top;\n",
       "    }\n",
       "\n",
       "    .dataframe thead th {\n",
       "        text-align: right;\n",
       "    }\n",
       "</style>\n",
       "<table border=\"1\" class=\"dataframe\">\n",
       "  <thead>\n",
       "    <tr style=\"text-align: right;\">\n",
       "      <th></th>\n",
       "      <th>from_id</th>\n",
       "      <th>to_id</th>\n",
       "      <th>travel_time</th>\n",
       "      <th>fCij_c45</th>\n",
       "      <th>jobs_cum_15</th>\n",
       "    </tr>\n",
       "  </thead>\n",
       "  <tbody>\n",
       "    <tr>\n",
       "      <th>0</th>\n",
       "      <td>E00041377</td>\n",
       "      <td>E01008162</td>\n",
       "      <td>14.0</td>\n",
       "      <td>1</td>\n",
       "      <td>1</td>\n",
       "    </tr>\n",
       "    <tr>\n",
       "      <th>1</th>\n",
       "      <td>E00041377</td>\n",
       "      <td>E01008588</td>\n",
       "      <td>50.0</td>\n",
       "      <td>0</td>\n",
       "      <td>0</td>\n",
       "    </tr>\n",
       "    <tr>\n",
       "      <th>2</th>\n",
       "      <td>E00041377</td>\n",
       "      <td>E01008510</td>\n",
       "      <td>46.0</td>\n",
       "      <td>0</td>\n",
       "      <td>0</td>\n",
       "    </tr>\n",
       "    <tr>\n",
       "      <th>3</th>\n",
       "      <td>E00041377</td>\n",
       "      <td>E01008707</td>\n",
       "      <td>51.0</td>\n",
       "      <td>0</td>\n",
       "      <td>0</td>\n",
       "    </tr>\n",
       "    <tr>\n",
       "      <th>4</th>\n",
       "      <td>E00041377</td>\n",
       "      <td>E01008184</td>\n",
       "      <td>57.0</td>\n",
       "      <td>0</td>\n",
       "      <td>0</td>\n",
       "    </tr>\n",
       "  </tbody>\n",
       "</table>\n",
       "</div>"
      ],
      "text/plain": [
       "     from_id      to_id  travel_time  fCij_c45  jobs_cum_15\n",
       "0  E00041377  E01008162         14.0         1            1\n",
       "1  E00041377  E01008588         50.0         0            0\n",
       "2  E00041377  E01008510         46.0         0            0\n",
       "3  E00041377  E01008707         51.0         0            0\n",
       "4  E00041377  E01008184         57.0         0            0"
      ]
     },
     "execution_count": 62,
     "metadata": {},
     "output_type": "execute_result"
    }
   ],
   "source": [
    "df_tracc = tracc.costs(ttm_jobs_transit)\n",
    "df_tracc.data.head()"
   ]
  },
  {
   "cell_type": "code",
   "execution_count": 63,
   "metadata": {},
   "outputs": [
    {
     "data": {
      "text/plain": [
       "from_id\n",
       "E00041363    57.0\n",
       "E00041364    58.0\n",
       "E00041366    54.0\n",
       "E00041367    56.0\n",
       "E00041368    59.0\n",
       "             ... \n",
       "E00175601    66.0\n",
       "E00175602    75.0\n",
       "E00175603    67.0\n",
       "E00175604    64.0\n",
       "E00175605    53.0\n",
       "Name: travel_time, Length: 3795, dtype: float64"
      ]
     },
     "execution_count": 63,
     "metadata": {},
     "output_type": "execute_result"
    }
   ],
   "source": [
    "median_times = ttm_jobs_transit.groupby(\"from_id\")[\"travel_time\"].median()\n",
    "median_times"
   ]
  },
  {
   "cell_type": "code",
   "execution_count": 52,
   "metadata": {},
   "outputs": [
    {
     "data": {
      "text/plain": [
       "119.0"
      ]
     },
     "execution_count": 52,
     "metadata": {},
     "output_type": "execute_result"
    }
   ],
   "source": [
    "max_time = ttm_jobs_transit.groupby(\"from_id\")[\"travel_time\"].max()\n",
    "max_time.max()"
   ]
  },
  {
   "cell_type": "code",
   "execution_count": 68,
   "metadata": {},
   "outputs": [
    {
     "data": {
      "text/html": [
       "<div>\n",
       "<style scoped>\n",
       "    .dataframe tbody tr th:only-of-type {\n",
       "        vertical-align: middle;\n",
       "    }\n",
       "\n",
       "    .dataframe tbody tr th {\n",
       "        vertical-align: top;\n",
       "    }\n",
       "\n",
       "    .dataframe thead th {\n",
       "        text-align: right;\n",
       "    }\n",
       "</style>\n",
       "<table border=\"1\" class=\"dataframe\">\n",
       "  <thead>\n",
       "    <tr style=\"text-align: right;\">\n",
       "      <th></th>\n",
       "      <th>from_id</th>\n",
       "      <th>to_id</th>\n",
       "      <th>travel_time</th>\n",
       "      <th>fCij_c45</th>\n",
       "      <th>jobs_cum_15</th>\n",
       "      <th>cum_15</th>\n",
       "    </tr>\n",
       "  </thead>\n",
       "  <tbody>\n",
       "    <tr>\n",
       "      <th>0</th>\n",
       "      <td>E00041377</td>\n",
       "      <td>E01008162</td>\n",
       "      <td>14.0</td>\n",
       "      <td>1</td>\n",
       "      <td>1</td>\n",
       "      <td>1</td>\n",
       "    </tr>\n",
       "    <tr>\n",
       "      <th>1</th>\n",
       "      <td>E00041377</td>\n",
       "      <td>E01008588</td>\n",
       "      <td>50.0</td>\n",
       "      <td>0</td>\n",
       "      <td>0</td>\n",
       "      <td>0</td>\n",
       "    </tr>\n",
       "    <tr>\n",
       "      <th>2</th>\n",
       "      <td>E00041377</td>\n",
       "      <td>E01008510</td>\n",
       "      <td>46.0</td>\n",
       "      <td>0</td>\n",
       "      <td>0</td>\n",
       "      <td>0</td>\n",
       "    </tr>\n",
       "    <tr>\n",
       "      <th>3</th>\n",
       "      <td>E00041377</td>\n",
       "      <td>E01008707</td>\n",
       "      <td>51.0</td>\n",
       "      <td>0</td>\n",
       "      <td>0</td>\n",
       "      <td>0</td>\n",
       "    </tr>\n",
       "    <tr>\n",
       "      <th>4</th>\n",
       "      <td>E00041377</td>\n",
       "      <td>E01008184</td>\n",
       "      <td>57.0</td>\n",
       "      <td>0</td>\n",
       "      <td>0</td>\n",
       "      <td>0</td>\n",
       "    </tr>\n",
       "  </tbody>\n",
       "</table>\n",
       "</div>"
      ],
      "text/plain": [
       "     from_id      to_id  travel_time  fCij_c45  jobs_cum_15  cum_15\n",
       "0  E00041377  E01008162         14.0         1            1       1\n",
       "1  E00041377  E01008588         50.0         0            0       0\n",
       "2  E00041377  E01008510         46.0         0            0       0\n",
       "3  E00041377  E01008707         51.0         0            0       0\n",
       "4  E00041377  E01008184         57.0         0            0       0"
      ]
     },
     "execution_count": 68,
     "metadata": {},
     "output_type": "execute_result"
    }
   ],
   "source": [
    "# Computing impedance function based on a 45 minute travel time threshold.\n",
    "df_tracc.impedence_calc(\n",
    "    cost_column = \"travel_time\",\n",
    "    impedence_func = \"cumulative\",\n",
    "    impedence_func_params = 15, # to calculate n of jobs in 15 min\n",
    "    output_col_name = \"cum_15\",\n",
    "    prune_output = False\n",
    ")\n",
    "df_tracc.data.head()"
   ]
  },
  {
   "cell_type": "code",
   "execution_count": 69,
   "metadata": {},
   "outputs": [
    {
     "data": {
      "text/html": [
       "<div>\n",
       "<style scoped>\n",
       "    .dataframe tbody tr th:only-of-type {\n",
       "        vertical-align: middle;\n",
       "    }\n",
       "\n",
       "    .dataframe tbody tr th {\n",
       "        vertical-align: top;\n",
       "    }\n",
       "\n",
       "    .dataframe thead th {\n",
       "        text-align: right;\n",
       "    }\n",
       "</style>\n",
       "<table border=\"1\" class=\"dataframe\">\n",
       "  <thead>\n",
       "    <tr style=\"text-align: right;\">\n",
       "      <th></th>\n",
       "      <th>from_id</th>\n",
       "      <th>to_id</th>\n",
       "      <th>travel_time</th>\n",
       "      <th>fCij_c45</th>\n",
       "      <th>jobs_cum_15</th>\n",
       "      <th>cum_15</th>\n",
       "      <th>LSOA11CD</th>\n",
       "      <th>jobs</th>\n",
       "    </tr>\n",
       "  </thead>\n",
       "  <tbody>\n",
       "    <tr>\n",
       "      <th>0</th>\n",
       "      <td>E00041377</td>\n",
       "      <td>E01008162</td>\n",
       "      <td>14.0</td>\n",
       "      <td>1</td>\n",
       "      <td>1</td>\n",
       "      <td>1</td>\n",
       "      <td>E01008162</td>\n",
       "      <td>125</td>\n",
       "    </tr>\n",
       "    <tr>\n",
       "      <th>1</th>\n",
       "      <td>E00041377</td>\n",
       "      <td>E01008588</td>\n",
       "      <td>50.0</td>\n",
       "      <td>0</td>\n",
       "      <td>0</td>\n",
       "      <td>0</td>\n",
       "      <td>E01008588</td>\n",
       "      <td>450</td>\n",
       "    </tr>\n",
       "    <tr>\n",
       "      <th>2</th>\n",
       "      <td>E00041377</td>\n",
       "      <td>E01008510</td>\n",
       "      <td>46.0</td>\n",
       "      <td>0</td>\n",
       "      <td>0</td>\n",
       "      <td>0</td>\n",
       "      <td>E01008510</td>\n",
       "      <td>175</td>\n",
       "    </tr>\n",
       "    <tr>\n",
       "      <th>3</th>\n",
       "      <td>E00041377</td>\n",
       "      <td>E01008707</td>\n",
       "      <td>51.0</td>\n",
       "      <td>0</td>\n",
       "      <td>0</td>\n",
       "      <td>0</td>\n",
       "      <td>E01008707</td>\n",
       "      <td>100</td>\n",
       "    </tr>\n",
       "    <tr>\n",
       "      <th>4</th>\n",
       "      <td>E00041377</td>\n",
       "      <td>E01008184</td>\n",
       "      <td>57.0</td>\n",
       "      <td>0</td>\n",
       "      <td>0</td>\n",
       "      <td>0</td>\n",
       "      <td>E01008184</td>\n",
       "      <td>300</td>\n",
       "    </tr>\n",
       "  </tbody>\n",
       "</table>\n",
       "</div>"
      ],
      "text/plain": [
       "     from_id      to_id  travel_time  fCij_c45  jobs_cum_15  cum_15  \\\n",
       "0  E00041377  E01008162         14.0         1            1       1   \n",
       "1  E00041377  E01008588         50.0         0            0       0   \n",
       "2  E00041377  E01008510         46.0         0            0       0   \n",
       "3  E00041377  E01008707         51.0         0            0       0   \n",
       "4  E00041377  E01008184         57.0         0            0       0   \n",
       "\n",
       "    LSOA11CD  jobs  \n",
       "0  E01008162   125  \n",
       "1  E01008588   450  \n",
       "2  E01008510   175  \n",
       "3  E01008707   100  \n",
       "4  E01008184   300  "
      ]
     },
     "execution_count": 69,
     "metadata": {},
     "output_type": "execute_result"
    }
   ],
   "source": [
    "# Setting up the accessibility object. This includes joining the destination data to the travel time data\n",
    "acc_transit = tracc.accessibility(\n",
    "        travelcosts_df = df_tracc.data,\n",
    "        supply_df = jobs_per_lsoa,\n",
    "        travelcosts_ids = [\"from_id\",\"to_id\"],\n",
    "        supply_ids = \"LSOA11CD\"\n",
    "    )\n",
    "acc_transit.data.head()"
   ]
  },
  {
   "cell_type": "code",
   "execution_count": 70,
   "metadata": {},
   "outputs": [
    {
     "data": {
      "text/html": [
       "<div>\n",
       "<style scoped>\n",
       "    .dataframe tbody tr th:only-of-type {\n",
       "        vertical-align: middle;\n",
       "    }\n",
       "\n",
       "    .dataframe tbody tr th {\n",
       "        vertical-align: top;\n",
       "    }\n",
       "\n",
       "    .dataframe thead th {\n",
       "        text-align: right;\n",
       "    }\n",
       "</style>\n",
       "<table border=\"1\" class=\"dataframe\">\n",
       "  <thead>\n",
       "    <tr style=\"text-align: right;\">\n",
       "      <th></th>\n",
       "      <th>from_id</th>\n",
       "      <th>A_jobs_cum_15</th>\n",
       "    </tr>\n",
       "  </thead>\n",
       "  <tbody>\n",
       "    <tr>\n",
       "      <th>0</th>\n",
       "      <td>E00041363</td>\n",
       "      <td>1065</td>\n",
       "    </tr>\n",
       "    <tr>\n",
       "      <th>1</th>\n",
       "      <td>E00041364</td>\n",
       "      <td>1425</td>\n",
       "    </tr>\n",
       "    <tr>\n",
       "      <th>2</th>\n",
       "      <td>E00041366</td>\n",
       "      <td>900</td>\n",
       "    </tr>\n",
       "    <tr>\n",
       "      <th>3</th>\n",
       "      <td>E00041367</td>\n",
       "      <td>1115</td>\n",
       "    </tr>\n",
       "    <tr>\n",
       "      <th>4</th>\n",
       "      <td>E00041368</td>\n",
       "      <td>290</td>\n",
       "    </tr>\n",
       "  </tbody>\n",
       "</table>\n",
       "</div>"
      ],
      "text/plain": [
       "     from_id  A_jobs_cum_15\n",
       "0  E00041363           1065\n",
       "1  E00041364           1425\n",
       "2  E00041366            900\n",
       "3  E00041367           1115\n",
       "4  E00041368            290"
      ]
     },
     "execution_count": 70,
     "metadata": {},
     "output_type": "execute_result"
    }
   ],
   "source": [
    "# Measuring potential accessibility to jobs, using a 45 minute cumulative impedance function\n",
    "dfa_transit = acc_transit.potential(\n",
    "        opportunity = \"jobs\",\n",
    "        impedence = \"cum_15\"\n",
    "        )\n",
    "dfa_transit.head()"
   ]
  },
  {
   "cell_type": "code",
   "execution_count": 79,
   "metadata": {},
   "outputs": [
    {
     "data": {
      "text/html": [
       "<div>\n",
       "<style scoped>\n",
       "    .dataframe tbody tr th:only-of-type {\n",
       "        vertical-align: middle;\n",
       "    }\n",
       "\n",
       "    .dataframe tbody tr th {\n",
       "        vertical-align: top;\n",
       "    }\n",
       "\n",
       "    .dataframe thead th {\n",
       "        text-align: right;\n",
       "    }\n",
       "</style>\n",
       "<table border=\"1\" class=\"dataframe\">\n",
       "  <thead>\n",
       "    <tr style=\"text-align: right;\">\n",
       "      <th></th>\n",
       "      <th>geo_code</th>\n",
       "      <th>geometry</th>\n",
       "    </tr>\n",
       "  </thead>\n",
       "  <tbody>\n",
       "    <tr>\n",
       "      <th>0</th>\n",
       "      <td>E00042786</td>\n",
       "      <td>POLYGON ((428997.799 566018.331, 428998.491 56...</td>\n",
       "    </tr>\n",
       "    <tr>\n",
       "      <th>1</th>\n",
       "      <td>E00042707</td>\n",
       "      <td>POLYGON ((424221.655 568003.052, 424221.754 56...</td>\n",
       "    </tr>\n",
       "    <tr>\n",
       "      <th>2</th>\n",
       "      <td>E00042703</td>\n",
       "      <td>POLYGON ((419858.836 565454.433, 419858.374 56...</td>\n",
       "    </tr>\n",
       "    <tr>\n",
       "      <th>3</th>\n",
       "      <td>E00042782</td>\n",
       "      <td>POLYGON ((428932.199 566299.133, 428933.629 56...</td>\n",
       "    </tr>\n",
       "    <tr>\n",
       "      <th>4</th>\n",
       "      <td>E00042789</td>\n",
       "      <td>POLYGON ((428853.730 565689.295, 428860.602 56...</td>\n",
       "    </tr>\n",
       "  </tbody>\n",
       "</table>\n",
       "</div>"
      ],
      "text/plain": [
       "    geo_code                                           geometry\n",
       "0  E00042786  POLYGON ((428997.799 566018.331, 428998.491 56...\n",
       "1  E00042707  POLYGON ((424221.655 568003.052, 424221.754 56...\n",
       "2  E00042703  POLYGON ((419858.836 565454.433, 419858.374 56...\n",
       "3  E00042782  POLYGON ((428932.199 566299.133, 428933.629 56...\n",
       "4  E00042789  POLYGON ((428853.730 565689.295, 428860.602 56..."
      ]
     },
     "execution_count": 79,
     "metadata": {},
     "output_type": "execute_result"
    }
   ],
   "source": [
    "oas_boundaries.head()"
   ]
  },
  {
   "cell_type": "code",
   "execution_count": null,
   "metadata": {},
   "outputs": [],
   "source": [
    "# oas_boundaries_wgs84.explore()"
   ]
  },
  {
   "cell_type": "code",
   "execution_count": 106,
   "metadata": {},
   "outputs": [
    {
     "data": {
      "text/plain": [
       "['E00044630']"
      ]
     },
     "execution_count": 106,
     "metadata": {},
     "output_type": "execute_result"
    }
   ],
   "source": [
    "codes_from_boundaries = oas_boundaries['geo_code'].tolist()  # 3794\n",
    "codes_from_boundaries\n",
    "codes_from_centroids = origin_centroids['OA11CD'].tolist()  # 3795\n",
    "list(set(codes_from_centroids).difference(codes_from_boundaries))"
   ]
  },
  {
   "cell_type": "code",
   "execution_count": null,
   "metadata": {},
   "outputs": [],
   "source": [
    "# plotting results\n",
    "oas_boundaries_accjobs = oas_boundaries_wgs84.merge(dfa_transit,\n",
    "                                                     left_on = 'geo_code',\n",
    "                                                     right_on = \"from_id\",\n",
    "                                                     how = \"right\")\n",
    "oas_boundaries_accjobs.head()\n",
    "oas_boundaries_accjobs.A_jobs_cum_15.isnull().sum().sum() # (checking number of na in column) -> zero\n"
   ]
  },
  {
   "cell_type": "code",
   "execution_count": null,
   "metadata": {},
   "outputs": [],
   "source": [
    "oas_boundaries_accjobs.explore(column = \"A_jobs_cum_15\",\n",
    "                               cmap=\"plasma\",\n",
    "                               scheme='NaturalBreaks',\n",
    "                               k=8\n",
    "                               )"
   ]
  },
  {
   "cell_type": "code",
   "execution_count": 113,
   "metadata": {},
   "outputs": [
    {
     "data": {
      "text/html": [
       "<div>\n",
       "<style scoped>\n",
       "    .dataframe tbody tr th:only-of-type {\n",
       "        vertical-align: middle;\n",
       "    }\n",
       "\n",
       "    .dataframe tbody tr th {\n",
       "        vertical-align: top;\n",
       "    }\n",
       "\n",
       "    .dataframe thead th {\n",
       "        text-align: right;\n",
       "    }\n",
       "</style>\n",
       "<table border=\"1\" class=\"dataframe\">\n",
       "  <thead>\n",
       "    <tr style=\"text-align: right;\">\n",
       "      <th></th>\n",
       "      <th>geo_code</th>\n",
       "      <th>geometry</th>\n",
       "      <th>from_id</th>\n",
       "      <th>A_jobs_cum_15</th>\n",
       "    </tr>\n",
       "  </thead>\n",
       "  <tbody>\n",
       "    <tr>\n",
       "      <th>0</th>\n",
       "      <td>E00041363</td>\n",
       "      <td>POLYGON ((-1.59565 54.95480, -1.59557 54.95463...</td>\n",
       "      <td>E00041363</td>\n",
       "      <td>1065</td>\n",
       "    </tr>\n",
       "    <tr>\n",
       "      <th>1</th>\n",
       "      <td>E00041364</td>\n",
       "      <td>POLYGON ((-1.60256 54.95461, -1.60256 54.95461...</td>\n",
       "      <td>E00041364</td>\n",
       "      <td>1425</td>\n",
       "    </tr>\n",
       "    <tr>\n",
       "      <th>2</th>\n",
       "      <td>E00041366</td>\n",
       "      <td>POLYGON ((-1.58667 54.95529, -1.58667 54.95528...</td>\n",
       "      <td>E00041366</td>\n",
       "      <td>900</td>\n",
       "    </tr>\n",
       "    <tr>\n",
       "      <th>3</th>\n",
       "      <td>E00041367</td>\n",
       "      <td>POLYGON ((-1.59069 54.95542, -1.59069 54.95542...</td>\n",
       "      <td>E00041367</td>\n",
       "      <td>1115</td>\n",
       "    </tr>\n",
       "    <tr>\n",
       "      <th>4</th>\n",
       "      <td>E00041368</td>\n",
       "      <td>POLYGON ((-1.58402 54.95282, -1.58382 54.95290...</td>\n",
       "      <td>E00041368</td>\n",
       "      <td>290</td>\n",
       "    </tr>\n",
       "  </tbody>\n",
       "</table>\n",
       "</div>"
      ],
      "text/plain": [
       "    geo_code                                           geometry    from_id  \\\n",
       "0  E00041363  POLYGON ((-1.59565 54.95480, -1.59557 54.95463...  E00041363   \n",
       "1  E00041364  POLYGON ((-1.60256 54.95461, -1.60256 54.95461...  E00041364   \n",
       "2  E00041366  POLYGON ((-1.58667 54.95529, -1.58667 54.95528...  E00041366   \n",
       "3  E00041367  POLYGON ((-1.59069 54.95542, -1.59069 54.95542...  E00041367   \n",
       "4  E00041368  POLYGON ((-1.58402 54.95282, -1.58382 54.95290...  E00041368   \n",
       "\n",
       "   A_jobs_cum_15  \n",
       "0           1065  \n",
       "1           1425  \n",
       "2            900  \n",
       "3           1115  \n",
       "4            290  "
      ]
     },
     "execution_count": 113,
     "metadata": {},
     "output_type": "execute_result"
    }
   ],
   "source": [
    "oas_boundaries_accjobs.head()"
   ]
  },
  {
   "cell_type": "code",
   "execution_count": 114,
   "metadata": {},
   "outputs": [
    {
     "data": {
      "text/html": [
       "<div>\n",
       "<style scoped>\n",
       "    .dataframe tbody tr th:only-of-type {\n",
       "        vertical-align: middle;\n",
       "    }\n",
       "\n",
       "    .dataframe tbody tr th {\n",
       "        vertical-align: top;\n",
       "    }\n",
       "\n",
       "    .dataframe thead th {\n",
       "        text-align: right;\n",
       "    }\n",
       "</style>\n",
       "<table border=\"1\" class=\"dataframe\">\n",
       "  <thead>\n",
       "    <tr style=\"text-align: right;\">\n",
       "      <th></th>\n",
       "      <th>A_jobs_cum_15</th>\n",
       "    </tr>\n",
       "  </thead>\n",
       "  <tbody>\n",
       "    <tr>\n",
       "      <th>count</th>\n",
       "      <td>3795.000000</td>\n",
       "    </tr>\n",
       "    <tr>\n",
       "      <th>mean</th>\n",
       "      <td>2430.827404</td>\n",
       "    </tr>\n",
       "    <tr>\n",
       "      <th>std</th>\n",
       "      <td>4783.684558</td>\n",
       "    </tr>\n",
       "    <tr>\n",
       "      <th>min</th>\n",
       "      <td>0.000000</td>\n",
       "    </tr>\n",
       "    <tr>\n",
       "      <th>25%</th>\n",
       "      <td>387.500000</td>\n",
       "    </tr>\n",
       "    <tr>\n",
       "      <th>50%</th>\n",
       "      <td>975.000000</td>\n",
       "    </tr>\n",
       "    <tr>\n",
       "      <th>75%</th>\n",
       "      <td>2350.000000</td>\n",
       "    </tr>\n",
       "    <tr>\n",
       "      <th>max</th>\n",
       "      <td>66500.000000</td>\n",
       "    </tr>\n",
       "  </tbody>\n",
       "</table>\n",
       "</div>"
      ],
      "text/plain": [
       "       A_jobs_cum_15\n",
       "count    3795.000000\n",
       "mean     2430.827404\n",
       "std      4783.684558\n",
       "min         0.000000\n",
       "25%       387.500000\n",
       "50%       975.000000\n",
       "75%      2350.000000\n",
       "max     66500.000000"
      ]
     },
     "execution_count": 114,
     "metadata": {},
     "output_type": "execute_result"
    }
   ],
   "source": [
    "oas_boundaries_accjobs.describe()"
   ]
  },
  {
   "cell_type": "code",
   "execution_count": 115,
   "metadata": {},
   "outputs": [],
   "source": [
    "dfa_transit.to_csv(f\"{data_folder}/processed/accessibility/results/acc_jobs15_OAs_tynewear.csv\")"
   ]
  }
 ],
 "metadata": {
  "kernelspec": {
   "display_name": "demoland_r5",
   "language": "python",
   "name": "python3"
  },
  "language_info": {
   "codemirror_mode": {
    "name": "ipython",
    "version": 3
   },
   "file_extension": ".py",
   "mimetype": "text/x-python",
   "name": "python",
   "nbconvert_exporter": "python",
   "pygments_lexer": "ipython3",
   "version": "3.9.16"
  },
  "orig_nbformat": 4,
  "vscode": {
   "interpreter": {
    "hash": "bca7ff844b196d85b5f05fb1676164174f03491baaf50a687c916a5f950ce87e"
   }
  }
 },
 "nbformat": 4,
 "nbformat_minor": 2
}
