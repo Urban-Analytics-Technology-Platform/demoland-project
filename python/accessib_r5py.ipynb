{
 "cells": [
  {
   "attachments": {},
   "cell_type": "markdown",
   "metadata": {},
   "source": [
    "**Note:** running with on purpose created environment `r5py-env`"
   ]
  },
  {
   "cell_type": "code",
   "execution_count": 15,
   "metadata": {},
   "outputs": [],
   "source": [
    "import sys\n",
    "import pandas as pd\n",
    "import geopandas as gpd\n",
    "import datetime\n",
    "from r5py import TransportNetwork, TravelTimeMatrixComputer, TransitMode, LegMode\n",
    "sys.argv.append([\"--max-memory\", \"8G\"])\n",
    "\n",
    "points_file = \"./../data/gis/tynewear_lsoas_centroids_wgs84.shp\"\n",
    "jobs_file = \"./../data/bres_jobs_tynewear.csv\"\n",
    "gs_accesspoints_file = \"./../data/gis/tynewear_gs_accesspoints_lsoas.csv\""
   ]
  },
  {
   "cell_type": "code",
   "execution_count": 18,
   "metadata": {},
   "outputs": [
    {
     "ename": "AttributeError",
     "evalue": "'GeoDataFrame' object has no attribute 'LSOA11CD'",
     "output_type": "error",
     "traceback": [
      "\u001b[0;31m---------------------------------------------------------------------------\u001b[0m",
      "\u001b[0;31mAttributeError\u001b[0m                            Traceback (most recent call last)",
      "Cell \u001b[0;32mIn[18], line 3\u001b[0m\n\u001b[1;32m      1\u001b[0m \u001b[39m# reading in the origin/destination points shp (just for tynewear region):\u001b[39;00m\n\u001b[1;32m      2\u001b[0m centroids \u001b[39m=\u001b[39m gpd\u001b[39m.\u001b[39mread_file(points_file)\n\u001b[0;32m----> 3\u001b[0m centroids\u001b[39m.\u001b[39mid \u001b[39m=\u001b[39m centroids\u001b[39m.\u001b[39;49mLSOA11CD\n\u001b[1;32m      4\u001b[0m centroids\u001b[39m.\u001b[39mhead()\n\u001b[1;32m      6\u001b[0m \u001b[39m# reading in land use data:\u001b[39;00m\n",
      "File \u001b[0;32m/usr/local/anaconda3/envs/r5py-env/lib/python3.9/site-packages/pandas/core/generic.py:5902\u001b[0m, in \u001b[0;36mNDFrame.__getattr__\u001b[0;34m(self, name)\u001b[0m\n\u001b[1;32m   5895\u001b[0m \u001b[39mif\u001b[39;00m (\n\u001b[1;32m   5896\u001b[0m     name \u001b[39mnot\u001b[39;00m \u001b[39min\u001b[39;00m \u001b[39mself\u001b[39m\u001b[39m.\u001b[39m_internal_names_set\n\u001b[1;32m   5897\u001b[0m     \u001b[39mand\u001b[39;00m name \u001b[39mnot\u001b[39;00m \u001b[39min\u001b[39;00m \u001b[39mself\u001b[39m\u001b[39m.\u001b[39m_metadata\n\u001b[1;32m   5898\u001b[0m     \u001b[39mand\u001b[39;00m name \u001b[39mnot\u001b[39;00m \u001b[39min\u001b[39;00m \u001b[39mself\u001b[39m\u001b[39m.\u001b[39m_accessors\n\u001b[1;32m   5899\u001b[0m     \u001b[39mand\u001b[39;00m \u001b[39mself\u001b[39m\u001b[39m.\u001b[39m_info_axis\u001b[39m.\u001b[39m_can_hold_identifiers_and_holds_name(name)\n\u001b[1;32m   5900\u001b[0m ):\n\u001b[1;32m   5901\u001b[0m     \u001b[39mreturn\u001b[39;00m \u001b[39mself\u001b[39m[name]\n\u001b[0;32m-> 5902\u001b[0m \u001b[39mreturn\u001b[39;00m \u001b[39mobject\u001b[39;49m\u001b[39m.\u001b[39;49m\u001b[39m__getattribute__\u001b[39;49m(\u001b[39mself\u001b[39;49m, name)\n",
      "\u001b[0;31mAttributeError\u001b[0m: 'GeoDataFrame' object has no attribute 'LSOA11CD'"
     ]
    }
   ],
   "source": [
    "# reading in the origin/destination points shp (just for tynewear region):\n",
    "centroids = gpd.read_file(points_file)\n",
    "centroids['id'] = centroids['LSOA21CD']\n",
    "centroids.head()\n",
    "\n",
    "# reading in land use data:\n",
    "jobs_per_lsoa = pd.read_csv(jobs_file)\n",
    "jobs_per_lsoa.head()\n",
    "\n",
    "accesspoints_per_lsoa = pd.read_csv(gs_accesspoints_file)\n",
    "accesspoints_per_lsoa.head()"
   ]
  },
  {
   "cell_type": "code",
   "execution_count": 8,
   "metadata": {},
   "outputs": [
    {
     "data": {
      "text/html": [
       "<div>\n",
       "<style scoped>\n",
       "    .dataframe tbody tr th:only-of-type {\n",
       "        vertical-align: middle;\n",
       "    }\n",
       "\n",
       "    .dataframe tbody tr th {\n",
       "        vertical-align: top;\n",
       "    }\n",
       "\n",
       "    .dataframe thead th {\n",
       "        text-align: right;\n",
       "    }\n",
       "</style>\n",
       "<table border=\"1\" class=\"dataframe\">\n",
       "  <thead>\n",
       "    <tr style=\"text-align: right;\">\n",
       "      <th></th>\n",
       "      <th>LSOA21CD</th>\n",
       "      <th>geometry</th>\n",
       "      <th>LSOA11CD_x</th>\n",
       "      <th>jobs</th>\n",
       "      <th>LSOA11CD_y</th>\n",
       "      <th>n_access</th>\n",
       "    </tr>\n",
       "  </thead>\n",
       "  <tbody>\n",
       "    <tr>\n",
       "      <th>0</th>\n",
       "      <td>E01008162</td>\n",
       "      <td>POINT (-1.58805 54.95842)</td>\n",
       "      <td>E01008162</td>\n",
       "      <td>125.0</td>\n",
       "      <td>E01008162</td>\n",
       "      <td>24.0</td>\n",
       "    </tr>\n",
       "    <tr>\n",
       "      <th>1</th>\n",
       "      <td>E01008588</td>\n",
       "      <td>POINT (-1.43999 55.04056)</td>\n",
       "      <td>E01008588</td>\n",
       "      <td>450.0</td>\n",
       "      <td>E01008588</td>\n",
       "      <td>0.0</td>\n",
       "    </tr>\n",
       "    <tr>\n",
       "      <th>2</th>\n",
       "      <td>E01008510</td>\n",
       "      <td>POINT (-1.49579 54.99911)</td>\n",
       "      <td>E01008510</td>\n",
       "      <td>175.0</td>\n",
       "      <td>E01008510</td>\n",
       "      <td>5.0</td>\n",
       "    </tr>\n",
       "    <tr>\n",
       "      <th>3</th>\n",
       "      <td>E01008707</td>\n",
       "      <td>POINT (-1.40202 54.90328)</td>\n",
       "      <td>E01008707</td>\n",
       "      <td>100.0</td>\n",
       "      <td>E01008707</td>\n",
       "      <td>0.0</td>\n",
       "    </tr>\n",
       "    <tr>\n",
       "      <th>4</th>\n",
       "      <td>E01008184</td>\n",
       "      <td>POINT (-1.75247 54.91805)</td>\n",
       "      <td>E01008184</td>\n",
       "      <td>300.0</td>\n",
       "      <td>E01008184</td>\n",
       "      <td>10.0</td>\n",
       "    </tr>\n",
       "  </tbody>\n",
       "</table>\n",
       "</div>"
      ],
      "text/plain": [
       "    LSOA21CD                   geometry LSOA11CD_x   jobs LSOA11CD_y  n_access\n",
       "0  E01008162  POINT (-1.58805 54.95842)  E01008162  125.0  E01008162      24.0\n",
       "1  E01008588  POINT (-1.43999 55.04056)  E01008588  450.0  E01008588       0.0\n",
       "2  E01008510  POINT (-1.49579 54.99911)  E01008510  175.0  E01008510       5.0\n",
       "3  E01008707  POINT (-1.40202 54.90328)  E01008707  100.0  E01008707       0.0\n",
       "4  E01008184  POINT (-1.75247 54.91805)  E01008184  300.0  E01008184      10.0"
      ]
     },
     "execution_count": 8,
     "metadata": {},
     "output_type": "execute_result"
    }
   ],
   "source": [
    "landuse_gdf = pd.merge(centroids,\n",
    "                       jobs_per_lsoa,\n",
    "                       how = \"outer\",\n",
    "                       left_on = \"LSOA21CD\",\n",
    "                       right_on = \"LSOA11CD\")\n",
    "landuse_gdf.head()\n",
    "\n",
    "landuse_gdf = pd.merge(landuse_gdf,\n",
    "                       accesspoints_per_lsoa,\n",
    "                       how = \"outer\",\n",
    "                       left_on = \"LSOA21CD\",\n",
    "                       right_on = \"LSOA11CD\")\n",
    "landuse_gdf.head()\n",
    "\n"
   ]
  },
  {
   "cell_type": "code",
   "execution_count": 11,
   "metadata": {},
   "outputs": [],
   "source": [
    "# landuse_gdf.explore(\"n_access\",cmap=\"Reds\", marker_kwds={\"radius\": 12})"
   ]
  },
  {
   "cell_type": "code",
   "execution_count": 13,
   "metadata": {},
   "outputs": [],
   "source": [
    "transport_network = TransportNetwork(\n",
    "    \"/Users/azanchetta/OTP/graphs/tynewear15/tyne-and-wear-latest.osm.pbf\",\n",
    "    [\n",
    "        \"/Users/azanchetta/OTP/graphs/tynewear15/itm_north_east_gtfs.zip\"\n",
    "    ]\n",
    ")"
   ]
  },
  {
   "cell_type": "code",
   "execution_count": 17,
   "metadata": {},
   "outputs": [
    {
     "ename": "NoIDColumnError",
     "evalue": "Origin dataset must contain an 'id' column.",
     "output_type": "error",
     "traceback": [
      "\u001b[0;31m---------------------------------------------------------------------------\u001b[0m",
      "\u001b[0;31mNoIDColumnError\u001b[0m                           Traceback (most recent call last)",
      "Cell \u001b[0;32mIn[17], line 1\u001b[0m\n\u001b[0;32m----> 1\u001b[0m travel_time_matrix_computer \u001b[39m=\u001b[39m TravelTimeMatrixComputer(\n\u001b[1;32m      2\u001b[0m     transport_network,\n\u001b[1;32m      3\u001b[0m     origins\u001b[39m=\u001b[39;49mcentroids,\n\u001b[1;32m      4\u001b[0m     departure\u001b[39m=\u001b[39;49mdatetime\u001b[39m.\u001b[39;49mdatetime(\u001b[39m2023\u001b[39;49m,\u001b[39m1\u001b[39;49m,\u001b[39m19\u001b[39;49m,\u001b[39m8\u001b[39;49m,\u001b[39m30\u001b[39;49m),\n\u001b[1;32m      5\u001b[0m     transport_modes\u001b[39m=\u001b[39;49m[TransitMode\u001b[39m.\u001b[39;49mTRANSIT, LegMode\u001b[39m.\u001b[39;49mWALK]\n\u001b[1;32m      6\u001b[0m )\n\u001b[1;32m      7\u001b[0m travel_time_matrix_all \u001b[39m=\u001b[39m travel_time_matrix_computer\u001b[39m.\u001b[39mcompute_travel_times()\n\u001b[1;32m      8\u001b[0m travel_time_matrix_all\u001b[39m.\u001b[39mhead()\n",
      "File \u001b[0;32m/usr/local/anaconda3/envs/r5py-env/lib/python3.9/site-packages/r5py/r5/travel_time_matrix_computer.py:95\u001b[0m, in \u001b[0;36mTravelTimeMatrixComputer.__init__\u001b[0;34m(self, transport_network, origins, destinations, breakdown, breakdown_stat, **kwargs)\u001b[0m\n\u001b[1;32m     92\u001b[0m     transport_network \u001b[39m=\u001b[39m TransportNetwork(\u001b[39m*\u001b[39mtransport_network)\n\u001b[1;32m     93\u001b[0m \u001b[39mself\u001b[39m\u001b[39m.\u001b[39mtransport_network \u001b[39m=\u001b[39m transport_network\n\u001b[0;32m---> 95\u001b[0m check_od_data_set(origins)\n\u001b[1;32m     96\u001b[0m \u001b[39mself\u001b[39m\u001b[39m.\u001b[39morigins \u001b[39m=\u001b[39m origins\n\u001b[1;32m     98\u001b[0m \u001b[39mif\u001b[39;00m destinations \u001b[39mis\u001b[39;00m \u001b[39mNone\u001b[39;00m:\n",
      "File \u001b[0;32m/usr/local/anaconda3/envs/r5py-env/lib/python3.9/site-packages/r5py/util/data_validation.py:25\u001b[0m, in \u001b[0;36mcheck_od_data_set\u001b[0;34m(od_data_set)\u001b[0m\n\u001b[1;32m     13\u001b[0m \u001b[39m\"\"\"Check whether an origin/destination data set fulfils certain minimum criteria.\u001b[39;00m\n\u001b[1;32m     14\u001b[0m \n\u001b[1;32m     15\u001b[0m \u001b[39mChecks whether `od_data_set` has an `id` column with unique values. Raises a\u001b[39;00m\n\u001b[0;32m   (...)\u001b[0m\n\u001b[1;32m     22\u001b[0m \u001b[39m        The origin/destination data set to check.\u001b[39;00m\n\u001b[1;32m     23\u001b[0m \u001b[39m\"\"\"\u001b[39;00m\n\u001b[1;32m     24\u001b[0m \u001b[39mif\u001b[39;00m \u001b[39m\"\u001b[39m\u001b[39mid\u001b[39m\u001b[39m\"\u001b[39m \u001b[39mnot\u001b[39;00m \u001b[39min\u001b[39;00m od_data_set\u001b[39m.\u001b[39mcolumns:\n\u001b[0;32m---> 25\u001b[0m     \u001b[39mraise\u001b[39;00m NoIDColumnError(\u001b[39m\"\u001b[39m\u001b[39mOrigin dataset must contain an \u001b[39m\u001b[39m'\u001b[39m\u001b[39mid\u001b[39m\u001b[39m'\u001b[39m\u001b[39m column.\u001b[39m\u001b[39m\"\u001b[39m)\n\u001b[1;32m     26\u001b[0m \u001b[39mif\u001b[39;00m \u001b[39mnot\u001b[39;00m od_data_set\u001b[39m.\u001b[39mid\u001b[39m.\u001b[39mis_unique:\n\u001b[1;32m     27\u001b[0m     \u001b[39mraise\u001b[39;00m NonUniqueIDError(\u001b[39m\"\u001b[39m\u001b[39mOrigin id values must be unique.\u001b[39m\u001b[39m\"\u001b[39m)\n",
      "\u001b[0;31mNoIDColumnError\u001b[0m: Origin dataset must contain an 'id' column."
     ]
    }
   ],
   "source": [
    "travel_time_matrix_computer = TravelTimeMatrixComputer(\n",
    "    transport_network,\n",
    "    origins=centroids,\n",
    "    departure=datetime.datetime(2023,1,19,8,30),\n",
    "    transport_modes=[TransitMode.TRANSIT, LegMode.WALK]\n",
    ")\n",
    "travel_time_matrix_all = travel_time_matrix_computer.compute_travel_times()\n",
    "travel_time_matrix_all.head()"
   ]
  }
 ],
 "metadata": {
  "kernelspec": {
   "display_name": "r5py-env",
   "language": "python",
   "name": "python3"
  },
  "language_info": {
   "codemirror_mode": {
    "name": "ipython",
    "version": 3
   },
   "file_extension": ".py",
   "mimetype": "text/x-python",
   "name": "python",
   "nbconvert_exporter": "python",
   "pygments_lexer": "ipython3",
   "version": "3.9.16"
  },
  "orig_nbformat": 4,
  "vscode": {
   "interpreter": {
    "hash": "afd6d05f02ea3ad0dca18dd0a47c2e9c31d898668ae12f2bc2ac2a7d9def7c28"
   }
  }
 },
 "nbformat": 4,
 "nbformat_minor": 2
}
