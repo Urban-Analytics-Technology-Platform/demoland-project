{
 "cells": [
  {
   "attachments": {},
   "cell_type": "markdown",
   "metadata": {},
   "source": [
    "# Generate multimodal travel time matrix (ttm)\n",
    "\n",
    "This script is to generate a multimodal ttm for accessibility calculation in _r5_.<br/>\n",
    "Modes: walking, biking, transit, car\n",
    "\n",
    "It takes inspiration from https://github.com/rafapereirabr/otp-travel-time-matrix/blob/master/python_script.py"
   ]
  },
  {
   "attachments": {},
   "cell_type": "markdown",
   "metadata": {},
   "source": [
    "## 1. Variables definition and data import"
   ]
  },
  {
   "cell_type": "code",
   "execution_count": 42,
   "metadata": {},
   "outputs": [],
   "source": [
    "# definitions\n",
    "import sys\n",
    "import numpy as np\n",
    "import pandas as pd\n",
    "import geopandas as gpd\n",
    "import datetime as dt\n",
    "import tracc\n",
    "from r5py import TransportNetwork, TravelTimeMatrixComputer, TransitMode, LegMode\n",
    "from datetime import datetime,date,timedelta\n",
    "import matplotlib.pyplot as plt\n",
    "sys.argv.append([\"--max-memory\", \"8G\"])\n",
    "\n",
    "\n",
    "data_folder = \"/Users/azanchetta/OneDrive - The Alan Turing Institute/demoland_data\"\n",
    "\n",
    "\n",
    "# regional level files: (require previous editing)\n",
    "oas_centroids_file = f\"{data_folder}/processed/OA_centroids_TyneWear.gpkg\" # used for population origin\n",
    "oas_file = f\"{data_folder}/processed/authorities/OA_TyneWear.gpkg\" # needed for visualisation purposes\n",
    "region_lads_file = f\"{data_folder}/processed/authorities/LADs_tynewear.shp\" # needed in order to filter greenspace data within the regional boundaries\n",
    "workingplacezones_centroids_file = f\"{data_folder}/processed/authorities/WPZ_centroids_tynewear.gpkg\"\n",
    "\n",
    "# national level files\n",
    "greenspace_file = f\"{data_folder}/raw/accessibility/OS Open Greenspace (GPKG) GB/data/opgrsp_gb.gpkg\"\n",
    "osm_data_file = f\"{data_folder}/raw/accessibility/tyne-and-wear-latest.osm.pbf\"\n",
    "gtfs_data_file = f\"{data_folder}/raw/accessibility/itm_north_east_gtfs.zip\""
   ]
  },
  {
   "cell_type": "code",
   "execution_count": 4,
   "metadata": {},
   "outputs": [],
   "source": [
    "# import\n",
    "\n",
    "# origins (IE output areas, OAs)\n",
    "oas_centroids = gpd.read_file(oas_centroids_file,\n",
    "                              layer=\"OA_centroids_TyneWear\")\n",
    "oas_centroids['id'] = oas_centroids['OA11CD'] # Origin dataset must contain an 'id' column\n",
    "oas_centroids.head()\n",
    "\n",
    "# destination data\n",
    "# green space sites' entrances\n",
    "gs_entrances = gpd.read_file(greenspace_file,\n",
    "                        layer = \"AccessPoint\")\n",
    "gs_entrances.head()\n",
    "# WPZ centroids\n",
    "wpz_centroids = gpd.read_file(workingplacezones_centroids_file,\n",
    "                              layer = \"WPZ_centroids_tynewear\")\n",
    "wpz_centroids.head()\n",
    "wpz_centroids['id'] = wpz_centroids['wz11cd'] # Destination dataset must contain an 'id' column\n",
    "\n",
    "# network data\n",
    "# uploaded in the sequent operation"
   ]
  },
  {
   "cell_type": "code",
   "execution_count": 107,
   "metadata": {},
   "outputs": [],
   "source": [
    "# for testing purposes\n",
    "# selecting from origin and destinations only a few points\n",
    "# IE selecting first 10 rows\n",
    "origins = oas_centroids.loc[:9, :]\n",
    "destinations = wpz_centroids.loc[:9, :]"
   ]
  },
  {
   "cell_type": "code",
   "execution_count": 85,
   "metadata": {},
   "outputs": [
    {
     "data": {
      "text/html": [
       "<div>\n",
       "<style scoped>\n",
       "    .dataframe tbody tr th:only-of-type {\n",
       "        vertical-align: middle;\n",
       "    }\n",
       "\n",
       "    .dataframe tbody tr th {\n",
       "        vertical-align: top;\n",
       "    }\n",
       "\n",
       "    .dataframe thead th {\n",
       "        text-align: right;\n",
       "    }\n",
       "</style>\n",
       "<table border=\"1\" class=\"dataframe\">\n",
       "  <thead>\n",
       "    <tr style=\"text-align: right;\">\n",
       "      <th></th>\n",
       "      <th>OBJECTID</th>\n",
       "      <th>OA11CD</th>\n",
       "      <th>GlobalID</th>\n",
       "      <th>geometry</th>\n",
       "      <th>id</th>\n",
       "    </tr>\n",
       "  </thead>\n",
       "  <tbody>\n",
       "    <tr>\n",
       "      <th>0</th>\n",
       "      <td>126926</td>\n",
       "      <td>E00041377</td>\n",
       "      <td>c03c9813-26f3-41f9-85e5-d4cdf3742ca0</td>\n",
       "      <td>POINT (425583.000 562952.000)</td>\n",
       "      <td>E00041377</td>\n",
       "    </tr>\n",
       "    <tr>\n",
       "      <th>1</th>\n",
       "      <td>126927</td>\n",
       "      <td>E00041435</td>\n",
       "      <td>16e6607e-0b59-4f6f-8ec6-06a7396a70a5</td>\n",
       "      <td>POINT (427216.699 555732.531)</td>\n",
       "      <td>E00041435</td>\n",
       "    </tr>\n",
       "    <tr>\n",
       "      <th>2</th>\n",
       "      <td>126928</td>\n",
       "      <td>E00041745</td>\n",
       "      <td>4b5fa995-b251-4ee7-9a97-aef0a2598fe3</td>\n",
       "      <td>POINT (427897.004 559557.605)</td>\n",
       "      <td>E00041745</td>\n",
       "    </tr>\n",
       "    <tr>\n",
       "      <th>3</th>\n",
       "      <td>126929</td>\n",
       "      <td>E00041432</td>\n",
       "      <td>6e660884-3917-4e46-a693-bad0821318cb</td>\n",
       "      <td>POINT (427856.367 555759.595)</td>\n",
       "      <td>E00041432</td>\n",
       "    </tr>\n",
       "    <tr>\n",
       "      <th>4</th>\n",
       "      <td>126930</td>\n",
       "      <td>E00041742</td>\n",
       "      <td>0bfb7f06-a910-4fa2-8db1-e79d319ba232</td>\n",
       "      <td>POINT (427932.556 559770.754)</td>\n",
       "      <td>E00041742</td>\n",
       "    </tr>\n",
       "  </tbody>\n",
       "</table>\n",
       "</div>"
      ],
      "text/plain": [
       "   OBJECTID     OA11CD                              GlobalID  \\\n",
       "0    126926  E00041377  c03c9813-26f3-41f9-85e5-d4cdf3742ca0   \n",
       "1    126927  E00041435  16e6607e-0b59-4f6f-8ec6-06a7396a70a5   \n",
       "2    126928  E00041745  4b5fa995-b251-4ee7-9a97-aef0a2598fe3   \n",
       "3    126929  E00041432  6e660884-3917-4e46-a693-bad0821318cb   \n",
       "4    126930  E00041742  0bfb7f06-a910-4fa2-8db1-e79d319ba232   \n",
       "\n",
       "                        geometry         id  \n",
       "0  POINT (425583.000 562952.000)  E00041377  \n",
       "1  POINT (427216.699 555732.531)  E00041435  \n",
       "2  POINT (427897.004 559557.605)  E00041745  \n",
       "3  POINT (427856.367 555759.595)  E00041432  \n",
       "4  POINT (427932.556 559770.754)  E00041742  "
      ]
     },
     "execution_count": 85,
     "metadata": {},
     "output_type": "execute_result"
    }
   ],
   "source": [
    "origins.head()"
   ]
  },
  {
   "cell_type": "code",
   "execution_count": null,
   "metadata": {},
   "outputs": [],
   "source": [
    "origins.explore()"
   ]
  },
  {
   "cell_type": "code",
   "execution_count": null,
   "metadata": {},
   "outputs": [],
   "source": [
    "destinations.explore()"
   ]
  },
  {
   "attachments": {},
   "cell_type": "markdown",
   "metadata": {},
   "source": [
    "## 2. ttm generation and playing around"
   ]
  },
  {
   "cell_type": "code",
   "execution_count": 109,
   "metadata": {},
   "outputs": [],
   "source": [
    "### load in transport network\n",
    "\n",
    "transport_network = TransportNetwork(\n",
    "    osm_data_file,\n",
    "    [\n",
    "        gtfs_data_file\n",
    "    ]\n",
    ")"
   ]
  },
  {
   "cell_type": "code",
   "execution_count": 110,
   "metadata": {},
   "outputs": [
    {
     "data": {
      "text/html": [
       "<div>\n",
       "<style scoped>\n",
       "    .dataframe tbody tr th:only-of-type {\n",
       "        vertical-align: middle;\n",
       "    }\n",
       "\n",
       "    .dataframe tbody tr th {\n",
       "        vertical-align: top;\n",
       "    }\n",
       "\n",
       "    .dataframe thead th {\n",
       "        text-align: right;\n",
       "    }\n",
       "</style>\n",
       "<table border=\"1\" class=\"dataframe\">\n",
       "  <thead>\n",
       "    <tr style=\"text-align: right;\">\n",
       "      <th></th>\n",
       "      <th>from_id</th>\n",
       "      <th>to_id</th>\n",
       "      <th>travel_time</th>\n",
       "    </tr>\n",
       "  </thead>\n",
       "  <tbody>\n",
       "    <tr>\n",
       "      <th>0</th>\n",
       "      <td>E00041377</td>\n",
       "      <td>E33001228</td>\n",
       "      <td>NaN</td>\n",
       "    </tr>\n",
       "    <tr>\n",
       "      <th>1</th>\n",
       "      <td>E00041377</td>\n",
       "      <td>E33001229</td>\n",
       "      <td>NaN</td>\n",
       "    </tr>\n",
       "    <tr>\n",
       "      <th>2</th>\n",
       "      <td>E00041377</td>\n",
       "      <td>E33000136</td>\n",
       "      <td>NaN</td>\n",
       "    </tr>\n",
       "    <tr>\n",
       "      <th>3</th>\n",
       "      <td>E00041377</td>\n",
       "      <td>E33000137</td>\n",
       "      <td>NaN</td>\n",
       "    </tr>\n",
       "    <tr>\n",
       "      <th>4</th>\n",
       "      <td>E00041377</td>\n",
       "      <td>E33000134</td>\n",
       "      <td>NaN</td>\n",
       "    </tr>\n",
       "  </tbody>\n",
       "</table>\n",
       "</div>"
      ],
      "text/plain": [
       "     from_id      to_id  travel_time\n",
       "0  E00041377  E33001228          NaN\n",
       "1  E00041377  E33001229          NaN\n",
       "2  E00041377  E33000136          NaN\n",
       "3  E00041377  E33000137          NaN\n",
       "4  E00041377  E33000134          NaN"
      ]
     },
     "execution_count": 110,
     "metadata": {},
     "output_type": "execute_result"
    }
   ],
   "source": [
    "# example of ttm generation\n",
    "ttm_walking_OAtoGS = TravelTimeMatrixComputer(\n",
    "    transport_network,\n",
    "    origins=orig,\n",
    "    destinations=dest,\n",
    "    max_time=dt.timedelta(seconds=900), # restricting travel to 15min\n",
    "    speed_walking=4.8,\n",
    "    transport_modes=[LegMode.WALK]\n",
    ")\n",
    "ttm_walking_OAtoGS = ttm_walking_OAtoGS.compute_travel_times()\n",
    "ttm_walking_OAtoGS.head()\n",
    "\n",
    "# ttm_jobs_transit_OAtoWZ = TravelTimeMatrixComputer(\n",
    "#     transport_network,\n",
    "#     origins=oas_centroids_file,\n",
    "#     destinations=wpz_centroids_wgs84,\n",
    "#     departure=datetime.datetime(2023,1,19,8,30),\n",
    "#     transport_modes=[TransitMode.TRANSIT,\n",
    "#                      LegMode.WALK]\n",
    "# )\n",
    "# ttm_jobs_transit = ttm_jobs_transit.compute_travel_times()\n",
    "# ttm_jobs_transit.head()\n",
    "\n",
    "# destinations\n",
    "# gs: entrances + oas centroids\n",
    "# jobs: wpz centroids + oas centroids"
   ]
  },
  {
   "cell_type": "code",
   "execution_count": 90,
   "metadata": {},
   "outputs": [
    {
     "data": {
      "text/html": [
       "<div>\n",
       "<style scoped>\n",
       "    .dataframe tbody tr th:only-of-type {\n",
       "        vertical-align: middle;\n",
       "    }\n",
       "\n",
       "    .dataframe tbody tr th {\n",
       "        vertical-align: top;\n",
       "    }\n",
       "\n",
       "    .dataframe thead th {\n",
       "        text-align: right;\n",
       "    }\n",
       "</style>\n",
       "<table border=\"1\" class=\"dataframe\">\n",
       "  <thead>\n",
       "    <tr style=\"text-align: right;\">\n",
       "      <th></th>\n",
       "      <th>from_id</th>\n",
       "      <th>to_id</th>\n",
       "    </tr>\n",
       "  </thead>\n",
       "  <tbody>\n",
       "    <tr>\n",
       "      <th>0</th>\n",
       "      <td>E00041377</td>\n",
       "      <td>E33001228</td>\n",
       "    </tr>\n",
       "    <tr>\n",
       "      <th>1</th>\n",
       "      <td>E00041377</td>\n",
       "      <td>E33001229</td>\n",
       "    </tr>\n",
       "    <tr>\n",
       "      <th>2</th>\n",
       "      <td>E00041377</td>\n",
       "      <td>E33000136</td>\n",
       "    </tr>\n",
       "    <tr>\n",
       "      <th>3</th>\n",
       "      <td>E00041377</td>\n",
       "      <td>E33000137</td>\n",
       "    </tr>\n",
       "    <tr>\n",
       "      <th>4</th>\n",
       "      <td>E00041377</td>\n",
       "      <td>E33000134</td>\n",
       "    </tr>\n",
       "  </tbody>\n",
       "</table>\n",
       "</div>"
      ],
      "text/plain": [
       "     from_id      to_id\n",
       "0  E00041377  E33001228\n",
       "1  E00041377  E33001229\n",
       "2  E00041377  E33000136\n",
       "3  E00041377  E33000137\n",
       "4  E00041377  E33000134"
      ]
     },
     "execution_count": 90,
     "metadata": {},
     "output_type": "execute_result"
    }
   ],
   "source": [
    "from itertools import product\n",
    "# generate dataframe with all from_id and all to_id pairs\n",
    "prod = product(origins['id'].unique(),\n",
    "               destinations['id'].unique())\n",
    "empty_ttm = pd.DataFrame(prod)\n",
    "empty_ttm.columns= ['from_id', 'to_id']\n",
    "empty_ttm.head()"
   ]
  },
  {
   "cell_type": "code",
   "execution_count": null,
   "metadata": {},
   "outputs": [],
   "source": [
    "# # Create a default request for a given departure time\n",
    "# req = otp.createRequest()\n",
    "# req.setDateTime(2015, 9, 15, 10, 00, 00)  # set departure time\n",
    "# req.setMaxTimeSec(7200)                   # set a limit to maximum travel time (seconds)\n",
    "# req.setModes('WALK,BUS,RAIL')             # define transport mode\n",
    "# req.setClampInitialWait(0)                # clamp the initial wait time to zero\n",
    "# # req.maxWalkDistance = 3000                 # set the maximum distance (in meters) the user is willing to walk\n",
    "# # req.walkSpeed = walkSpeed                 # set average walking speed ( meters ?)\n",
    "# # req.bikeSpeed = bikeSpeed                 # set average cycling speed (miles per hour ?)\n",
    "# # ?ERROR req.setSearchRadiusM(500)                 # set max snapping distance to connect trip origin to street network\n",
    "\n",
    "# # Read Points of Destination - The file points.csv contains the columns GEOID, X and Y.\n",
    "# points = otp.loadCSVPopulation('points.csv', 'Y', 'X')\n",
    "# dests = otp.loadCSVPopulation('points.csv', 'Y', 'X')\n",
    "\n",
    "\n",
    "# # Create a CSV output\n",
    "# matrixCsv = otp.createCSVOutput()\n",
    "# matrixCsv.setHeader([ 'origin', 'destination', 'walk_distance', 'travel_time', 'boardings' ])\n",
    "\n",
    "# # Start Loop\n",
    "# for origin in points:\n",
    "#   print \"Processing origin: \", origin\n",
    "#   req.setOrigin(origin)\n",
    "#   spt = router.plan(req)\n",
    "#   if spt is None: continue\n",
    "\n",
    "#   # Evaluate the SPT for all points\n",
    "#   result = spt.eval(dests)\n",
    "  \n",
    "#   # Add a new row of result in the CSV output\n",
    "#   for r in result:\n",
    "#     matrixCsv.addRow([ origin.getStringData('GEOID'), r.getIndividual().getStringData('GEOID'), r.getWalkDistance() , r.getTime(),  r.getBoardings() ])\n",
    "\n",
    "# # Save the result\n",
    "# matrixCsv.save('traveltime_matrix.csv')\n",
    "\n",
    "# # Stop timing the code"
   ]
  },
  {
   "cell_type": "code",
   "execution_count": 108,
   "metadata": {},
   "outputs": [
    {
     "data": {
      "text/plain": [
       "from_id             0\n",
       "to_id               0\n",
       "travel_time    153200\n",
       "dtype: int64"
      ]
     },
     "execution_count": 108,
     "metadata": {},
     "output_type": "execute_result"
    }
   ],
   "source": [
    "trial_comp = TravelTimeMatrixComputer(\n",
    "    transport_network,\n",
    "    origins=orig,\n",
    "    destinations=dest,\n",
    "    departure=dt.datetime(2023,1,19,8,30),\n",
    "    transport_modes=[TransitMode.TRANSIT,\n",
    "                     LegMode.WALK]\n",
    ")\n",
    "trial = trial_comp.compute_travel_times()\n",
    "trial.isna().sum()"
   ]
  },
  {
   "cell_type": "code",
   "execution_count": 99,
   "metadata": {},
   "outputs": [
    {
     "data": {
      "text/plain": [
       "from_id             0\n",
       "to_id               0\n",
       "travel_time    153200\n",
       "dtype: int64"
      ]
     },
     "execution_count": 99,
     "metadata": {},
     "output_type": "execute_result"
    }
   ],
   "source": [
    "# defining variables\n",
    "# date_time = np.array([[2023],[1],[19],[9],[30]]).astype(int) #np.array([[2023],[1],[19],[8],[30]]).astype(int)\n",
    "date_time='2023-01-19 9:30'\n",
    "# modes = ('WALK,TRANSIT,CAR,BICYCLE') \n",
    "modes = ['BICYCLE', 'CAR', 'TRANSIT', 'WALK']\n",
    "# max_time = dt.timedelta(seconds=12000)\n",
    "leg_mode = 'WALK'\n",
    "speed_walking = 4.8\n",
    "speed_cycling=16\n",
    "\n",
    "# for m in modes:\n",
    "#     transport_mode = f'LegMode.{leg_mode}'\n",
    "#     print('The current mode is:', m)\n",
    "#     traveltimematrix = TravelTimeMatrixComputer(\n",
    "#         transport_network,\n",
    "#         origins=origins,\n",
    "#         destinations=destinations,\n",
    "#         # max_time=max_time, # restricting travel to 15min\n",
    "#         speed_walking=speed_walking,\n",
    "#         departure=dt.datetime.strptime(date_time, '%Y-%m-%d %H:%M'),\n",
    "#         transport_modes=[transport_mode]\n",
    "#     )\n",
    "\n",
    "\n",
    "# transport_mode = f'TransitMode.CAR,LegMode.{leg_mode}'\n",
    "traveltimematrix = TravelTimeMatrixComputer(\n",
    "    transport_network,\n",
    "    origins=origins,\n",
    "    destinations=destinations,\n",
    "    # max_time=max_time, # restricting travel to 15min\n",
    "    # speed_walking=speed_walking,\n",
    "    # departure=dt.datetime.strptime(date_time, '%Y-%m-%d %H:%M'),\n",
    "    transport_modes=[TransitMode.TRANSIT]\n",
    ")\n",
    "    \n",
    "ttm = traveltimematrix.compute_travel_times()\n",
    "ttm.isna().sum()  \n"
   ]
  },
  {
   "cell_type": "code",
   "execution_count": 97,
   "metadata": {},
   "outputs": [
    {
     "data": {
      "text/html": [
       "<div>\n",
       "<style scoped>\n",
       "    .dataframe tbody tr th:only-of-type {\n",
       "        vertical-align: middle;\n",
       "    }\n",
       "\n",
       "    .dataframe tbody tr th {\n",
       "        vertical-align: top;\n",
       "    }\n",
       "\n",
       "    .dataframe thead th {\n",
       "        text-align: right;\n",
       "    }\n",
       "</style>\n",
       "<table border=\"1\" class=\"dataframe\">\n",
       "  <thead>\n",
       "    <tr style=\"text-align: right;\">\n",
       "      <th></th>\n",
       "      <th>from_id</th>\n",
       "      <th>to_id</th>\n",
       "      <th>travel_time</th>\n",
       "    </tr>\n",
       "  </thead>\n",
       "  <tbody>\n",
       "    <tr>\n",
       "      <th>0</th>\n",
       "      <td>E00041377</td>\n",
       "      <td>E33001228</td>\n",
       "      <td>NaN</td>\n",
       "    </tr>\n",
       "    <tr>\n",
       "      <th>1</th>\n",
       "      <td>E00041377</td>\n",
       "      <td>E33001229</td>\n",
       "      <td>NaN</td>\n",
       "    </tr>\n",
       "    <tr>\n",
       "      <th>2</th>\n",
       "      <td>E00041377</td>\n",
       "      <td>E33000136</td>\n",
       "      <td>NaN</td>\n",
       "    </tr>\n",
       "    <tr>\n",
       "      <th>3</th>\n",
       "      <td>E00041377</td>\n",
       "      <td>E33000137</td>\n",
       "      <td>NaN</td>\n",
       "    </tr>\n",
       "    <tr>\n",
       "      <th>4</th>\n",
       "      <td>E00041377</td>\n",
       "      <td>E33000134</td>\n",
       "      <td>NaN</td>\n",
       "    </tr>\n",
       "  </tbody>\n",
       "</table>\n",
       "</div>"
      ],
      "text/plain": [
       "     from_id      to_id  travel_time\n",
       "0  E00041377  E33001228          NaN\n",
       "1  E00041377  E33001229          NaN\n",
       "2  E00041377  E33000136          NaN\n",
       "3  E00041377  E33000137          NaN\n",
       "4  E00041377  E33000134          NaN"
      ]
     },
     "execution_count": 97,
     "metadata": {},
     "output_type": "execute_result"
    }
   ],
   "source": [
    "ttm.head()"
   ]
  },
  {
   "cell_type": "code",
   "execution_count": 35,
   "metadata": {},
   "outputs": [
    {
     "name": "stdout",
     "output_type": "stream",
     "text": [
      "\u0001\n",
      "\u0002\n",
      "\u0003\n",
      "\u0004\n",
      "\u0005\n"
     ]
    }
   ],
   "source": [
    "a=list(str(12345))\n",
    "for q in a:\n",
    "    print(chr(int(q)))"
   ]
  }
 ],
 "metadata": {
  "kernelspec": {
   "display_name": "demoland_r5",
   "language": "python",
   "name": "python3"
  },
  "language_info": {
   "codemirror_mode": {
    "name": "ipython",
    "version": 3
   },
   "file_extension": ".py",
   "mimetype": "text/x-python",
   "name": "python",
   "nbconvert_exporter": "python",
   "pygments_lexer": "ipython3",
   "version": "3.9.16"
  },
  "orig_nbformat": 4,
  "vscode": {
   "interpreter": {
    "hash": "bca7ff844b196d85b5f05fb1676164174f03491baaf50a687c916a5f950ce87e"
   }
  }
 },
 "nbformat": 4,
 "nbformat_minor": 2
}
