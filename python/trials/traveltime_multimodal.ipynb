{
 "cells": [
  {
   "attachments": {},
   "cell_type": "markdown",
   "metadata": {},
   "source": [
    "# Generate multimodal travel time matrix (ttm)\n",
    "\n",
    "This script is to generate a multimodal ttm for accessibility calculation in _r5_.<br/>\n",
    "Modes: walking, biking, transit, car\n",
    "\n",
    "It takes inspiration from https://github.com/rafapereirabr/otp-travel-time-matrix/blob/master/python_script.py"
   ]
  },
  {
   "attachments": {},
   "cell_type": "markdown",
   "metadata": {},
   "source": [
    "## 1. Variables definition and data import"
   ]
  },
  {
   "cell_type": "code",
   "execution_count": 42,
   "metadata": {},
   "outputs": [],
   "source": [
    "# definitions\n",
    "import sys\n",
    "import numpy as np\n",
    "import pandas as pd\n",
    "import geopandas as gpd\n",
    "import datetime as dt\n",
    "import tracc\n",
    "from r5py import TransportNetwork, TravelTimeMatrixComputer, TransitMode, LegMode\n",
    "from datetime import datetime,date,timedelta\n",
    "import matplotlib.pyplot as plt\n",
    "sys.argv.append([\"--max-memory\", \"8G\"])\n",
    "\n",
    "\n",
    "data_folder = \"/Users/azanchetta/OneDrive - The Alan Turing Institute/demoland_data\"\n",
    "\n",
    "\n",
    "# regional level files: (require previous editing)\n",
    "oas_centroids_file = f\"{data_folder}/processed/OA_centroids_TyneWear.gpkg\" # used for population origin\n",
    "oas_file = f\"{data_folder}/processed/authorities/OA_TyneWear.gpkg\" # needed for visualisation purposes\n",
    "region_lads_file = f\"{data_folder}/processed/authorities/LADs_tynewear.shp\" # needed in order to filter greenspace data within the regional boundaries\n",
    "workingplacezones_centroids_file = f\"{data_folder}/processed/authorities/WPZ_centroids_tynewear.gpkg\"\n",
    "\n",
    "# national level files\n",
    "greenspace_file = f\"{data_folder}/raw/accessibility/OS Open Greenspace (GPKG) GB/data/opgrsp_gb.gpkg\"\n",
    "osm_data_file = f\"{data_folder}/raw/accessibility/tyne-and-wear-latest.osm.pbf\"\n",
    "gtfs_data_file = f\"{data_folder}/raw/accessibility/itm_north_east_gtfs.zip\""
   ]
  },
  {
   "cell_type": "code",
   "execution_count": 4,
   "metadata": {},
   "outputs": [],
   "source": [
    "# import\n",
    "\n",
    "# origins (IE output areas, OAs)\n",
    "oas_centroids = gpd.read_file(oas_centroids_file,\n",
    "                              layer=\"OA_centroids_TyneWear\")\n",
    "oas_centroids['id'] = oas_centroids['OA11CD'] # Origin dataset must contain an 'id' column\n",
    "oas_centroids.head()\n",
    "\n",
    "# destination data\n",
    "# green space sites' entrances\n",
    "gs_entrances = gpd.read_file(greenspace_file,\n",
    "                        layer = \"AccessPoint\")\n",
    "gs_entrances.head()\n",
    "# WPZ centroids\n",
    "wpz_centroids = gpd.read_file(workingplacezones_centroids_file,\n",
    "                              layer = \"WPZ_centroids_tynewear\")\n",
    "wpz_centroids.head()\n",
    "wpz_centroids['id'] = wpz_centroids['wz11cd'] # Destination dataset must contain an 'id' column\n",
    "\n",
    "# network data\n",
    "# uploaded in the sequent operation"
   ]
  },
  {
   "cell_type": "code",
   "execution_count": 7,
   "metadata": {},
   "outputs": [],
   "source": [
    "# for testing purposes\n",
    "# selecting from origin and destinations only a few points\n",
    "# IE selecting first 10 rows\n",
    "origins = oas_centroids.loc[:9, :]\n",
    "destinations = wpz_centroids.loc[:9, :]"
   ]
  },
  {
   "cell_type": "code",
   "execution_count": null,
   "metadata": {},
   "outputs": [],
   "source": [
    "origins.explore()"
   ]
  },
  {
   "cell_type": "code",
   "execution_count": null,
   "metadata": {},
   "outputs": [],
   "source": [
    "destinations.explore()"
   ]
  },
  {
   "attachments": {},
   "cell_type": "markdown",
   "metadata": {},
   "source": [
    "## 2. ttm generation and playing around"
   ]
  },
  {
   "cell_type": "code",
   "execution_count": 5,
   "metadata": {},
   "outputs": [],
   "source": [
    "### load in transport network\n",
    "\n",
    "transport_network = TransportNetwork(\n",
    "    osm_data_file,\n",
    "    [\n",
    "        gtfs_data_file\n",
    "    ]\n",
    ")"
   ]
  },
  {
   "cell_type": "code",
   "execution_count": null,
   "metadata": {},
   "outputs": [],
   "source": [
    "# example of ttm generation\n",
    "ttm_walking_OAtoGS = TravelTimeMatrixComputer(\n",
    "    transport_network,\n",
    "    origins=origin_centroids_wgs84,\n",
    "    destinations=accesspoints_wgs84,\n",
    "    max_time=dt.timedelta(seconds=900), # restricting travel to 15min\n",
    "    speed_walking=4.8,\n",
    "    transport_modes=[LegMode.WALK]\n",
    ")\n",
    "ttm_walking_OAtoGS = ttm_walking_OAtoGS.compute_travel_times()\n",
    "ttm_walking_OAtoGS.head()\n",
    "\n",
    "ttm_jobs_transit_OAtoWZ = TravelTimeMatrixComputer(\n",
    "    transport_network,\n",
    "    origins=oas_centroids_file,\n",
    "    destinations=wpz_centroids_wgs84,\n",
    "    departure=datetime.datetime(2023,1,19,8,30),\n",
    "    transport_modes=[TransitMode.TRANSIT,\n",
    "                     LegMode.WALK]\n",
    ")\n",
    "ttm_jobs_transit = ttm_jobs_transit.compute_travel_times()\n",
    "ttm_jobs_transit.head()\n",
    "\n",
    "# destinations\n",
    "# gs: entrances + oas centroids\n",
    "# jobs: wpz centroids + oas centroids"
   ]
  },
  {
   "cell_type": "code",
   "execution_count": null,
   "metadata": {},
   "outputs": [],
   "source": [
    "# # Create a default request for a given departure time\n",
    "# req = otp.createRequest()\n",
    "# req.setDateTime(2015, 9, 15, 10, 00, 00)  # set departure time\n",
    "# req.setMaxTimeSec(7200)                   # set a limit to maximum travel time (seconds)\n",
    "# req.setModes('WALK,BUS,RAIL')             # define transport mode\n",
    "# req.setClampInitialWait(0)                # clamp the initial wait time to zero\n",
    "# # req.maxWalkDistance = 3000                 # set the maximum distance (in meters) the user is willing to walk\n",
    "# # req.walkSpeed = walkSpeed                 # set average walking speed ( meters ?)\n",
    "# # req.bikeSpeed = bikeSpeed                 # set average cycling speed (miles per hour ?)\n",
    "# # ?ERROR req.setSearchRadiusM(500)                 # set max snapping distance to connect trip origin to street network\n",
    "\n",
    "# # Read Points of Destination - The file points.csv contains the columns GEOID, X and Y.\n",
    "# points = otp.loadCSVPopulation('points.csv', 'Y', 'X')\n",
    "# dests = otp.loadCSVPopulation('points.csv', 'Y', 'X')\n",
    "\n",
    "\n",
    "# # Create a CSV output\n",
    "# matrixCsv = otp.createCSVOutput()\n",
    "# matrixCsv.setHeader([ 'origin', 'destination', 'walk_distance', 'travel_time', 'boardings' ])\n",
    "\n",
    "# # Start Loop\n",
    "# for origin in points:\n",
    "#   print \"Processing origin: \", origin\n",
    "#   req.setOrigin(origin)\n",
    "#   spt = router.plan(req)\n",
    "#   if spt is None: continue\n",
    "\n",
    "#   # Evaluate the SPT for all points\n",
    "#   result = spt.eval(dests)\n",
    "  \n",
    "#   # Add a new row of result in the CSV output\n",
    "#   for r in result:\n",
    "#     matrixCsv.addRow([ origin.getStringData('GEOID'), r.getIndividual().getStringData('GEOID'), r.getWalkDistance() , r.getTime(),  r.getBoardings() ])\n",
    "\n",
    "# # Save the result\n",
    "# matrixCsv.save('traveltime_matrix.csv')\n",
    "\n",
    "# # Stop timing the code"
   ]
  },
  {
   "cell_type": "code",
   "execution_count": 43,
   "metadata": {},
   "outputs": [
    {
     "ename": "AttributeError",
     "evalue": "leg_mode",
     "output_type": "error",
     "traceback": [
      "\u001b[0;31m---------------------------------------------------------------------------\u001b[0m",
      "\u001b[0;31mAttributeError\u001b[0m                            Traceback (most recent call last)",
      "Cell \u001b[0;32mIn[43], line 21\u001b[0m\n\u001b[1;32m     11\u001b[0m speed_walking \u001b[39m=\u001b[39m \u001b[39m4.8\u001b[39m\n\u001b[1;32m     12\u001b[0m speed_biking \u001b[39m=\u001b[39m \u001b[39m16\u001b[39m\n\u001b[1;32m     14\u001b[0m traveltimematrix \u001b[39m=\u001b[39m TravelTimeMatrixComputer(\n\u001b[1;32m     15\u001b[0m     transport_network,\n\u001b[1;32m     16\u001b[0m     origins\u001b[39m=\u001b[39morigins,\n\u001b[1;32m     17\u001b[0m     destinations\u001b[39m=\u001b[39mdestinations,\n\u001b[1;32m     18\u001b[0m     max_time\u001b[39m=\u001b[39mmax_time, \u001b[39m# restricting travel to 15min\u001b[39;00m\n\u001b[1;32m     19\u001b[0m     speed_walking\u001b[39m=\u001b[39mspeed_walking,\n\u001b[1;32m     20\u001b[0m     departure\u001b[39m=\u001b[39mdate_time,\n\u001b[0;32m---> 21\u001b[0m     transport_modes\u001b[39m=\u001b[39m[LegMode\u001b[39m.\u001b[39;49mleg_mode]\n\u001b[1;32m     22\u001b[0m )\n\u001b[1;32m     24\u001b[0m \u001b[39mprint\u001b[39m(\u001b[39m\"\u001b[39m\u001b[39mElapsed time was \u001b[39m\u001b[39m%g\u001b[39;00m\u001b[39m seconds\u001b[39m\u001b[39m\"\u001b[39m \u001b[39m%\u001b[39m (time\u001b[39m.\u001b[39mtime() \u001b[39m-\u001b[39m start_time))\n",
      "File \u001b[0;32m/usr/local/anaconda3/envs/demoland_r5/lib/python3.9/enum.py:429\u001b[0m, in \u001b[0;36mEnumMeta.__getattr__\u001b[0;34m(cls, name)\u001b[0m\n\u001b[1;32m    427\u001b[0m     \u001b[39mreturn\u001b[39;00m \u001b[39mcls\u001b[39m\u001b[39m.\u001b[39m_member_map_[name]\n\u001b[1;32m    428\u001b[0m \u001b[39mexcept\u001b[39;00m \u001b[39mKeyError\u001b[39;00m:\n\u001b[0;32m--> 429\u001b[0m     \u001b[39mraise\u001b[39;00m \u001b[39mAttributeError\u001b[39;00m(name) \u001b[39mfrom\u001b[39;00m \u001b[39mNone\u001b[39m\n",
      "\u001b[0;31mAttributeError\u001b[0m: leg_mode"
     ]
    }
   ],
   "source": [
    "# Start timing the code\n",
    "import time\n",
    "start_time = time.time()\n",
    "\n",
    "# defining variables\n",
    "# date_time = np.array([[2023],[1],[19],[9],[30]]).astype(int) #np.array([[2023],[1],[19],[8],[30]]).astype(int)\n",
    "date_time='2023-01-19 9:30'\n",
    "modes = ('WALK') #,TRANSIT,CAR,BICYCLE') ### bike??\n",
    "max_time = dt.timedelta(seconds=900)\n",
    "leg_mode = 'WALK'\n",
    "speed_walking = 4.8\n",
    "speed_biking = 16\n",
    "\n",
    "traveltimematrix = TravelTimeMatrixComputer(\n",
    "    transport_network,\n",
    "    origins=origins,\n",
    "    destinations=destinations,\n",
    "    max_time=max_time, # restricting travel to 15min\n",
    "    speed_walking=speed_walking,\n",
    "    departure=dt.datetime.strptime(date_time, '%Y-%m-%d %H:%M'),\n",
    "    transport_modes=[LegMode.leg_mode]\n",
    ")\n",
    "\n",
    "print(\"Elapsed time was %g seconds\" % (time.time() - start_time))"
   ]
  },
  {
   "cell_type": "code",
   "execution_count": 35,
   "metadata": {},
   "outputs": [
    {
     "name": "stdout",
     "output_type": "stream",
     "text": [
      "\u0001\n",
      "\u0002\n",
      "\u0003\n",
      "\u0004\n",
      "\u0005\n"
     ]
    }
   ],
   "source": [
    "a=list(str(12345))\n",
    "for q in a:\n",
    "    print(chr(int(q)))"
   ]
  }
 ],
 "metadata": {
  "kernelspec": {
   "display_name": "demoland_r5",
   "language": "python",
   "name": "python3"
  },
  "language_info": {
   "codemirror_mode": {
    "name": "ipython",
    "version": 3
   },
   "file_extension": ".py",
   "mimetype": "text/x-python",
   "name": "python",
   "nbconvert_exporter": "python",
   "pygments_lexer": "ipython3",
   "version": "3.9.16"
  },
  "orig_nbformat": 4,
  "vscode": {
   "interpreter": {
    "hash": "bca7ff844b196d85b5f05fb1676164174f03491baaf50a687c916a5f950ce87e"
   }
  }
 },
 "nbformat": 4,
 "nbformat_minor": 2
}
