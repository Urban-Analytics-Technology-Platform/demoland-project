{
 "cells": [
  {
   "attachments": {},
   "cell_type": "markdown",
   "metadata": {},
   "source": [
    "# Generate multimodal travel time matrix (ttm)\n",
    "\n",
    "This script is to generate a multimodal ttm for accessibility calculation in _r5_.<br/>\n",
    "Modes: walking, biking, transit, car\n",
    "\n",
    "It takes inspiration from https://github.com/rafapereirabr/otp-travel-time-matrix/blob/master/python_script.py"
   ]
  },
  {
   "attachments": {},
   "cell_type": "markdown",
   "metadata": {},
   "source": [
    "## 1. Variables definition and data import"
   ]
  },
  {
   "cell_type": "code",
   "execution_count": 1,
   "metadata": {},
   "outputs": [],
   "source": [
    "# definitions\n",
    "import sys\n",
    "import numpy as np\n",
    "import pandas as pd\n",
    "import geopandas as gpd\n",
    "import datetime as dt\n",
    "import tracc\n",
    "from r5py import TransportNetwork, TravelTimeMatrixComputer, TransitMode, LegMode\n",
    "from datetime import datetime,date,timedelta\n",
    "import matplotlib.pyplot as plt\n",
    "sys.argv.append([\"--max-memory\", \"8G\"])\n",
    "\n",
    "\n",
    "data_folder = \"/Users/azanchetta/OneDrive - The Alan Turing Institute/demoland_data\"\n",
    "\n",
    "\n",
    "# regional level files: (require previous editing)\n",
    "oas_centroids_file = f\"{data_folder}/processed/OA_centroids_TyneWear.gpkg\" # used for population origin\n",
    "oas_file = f\"{data_folder}/processed/authorities/OA_TyneWear.gpkg\" # needed for visualisation purposes\n",
    "region_lads_file = f\"{data_folder}/processed/authorities/LADs_tynewear.shp\" # needed in order to filter greenspace data within the regional boundaries\n",
    "workingplacezones_centroids_file = f\"{data_folder}/processed/authorities/WPZ_centroids_tynewear.gpkg\"\n",
    "\n",
    "# national level files\n",
    "greenspace_file = f\"{data_folder}/raw/accessibility/OS Open Greenspace (GPKG) GB/data/opgrsp_gb.gpkg\"\n",
    "osm_data_file = f\"{data_folder}/raw/accessibility/tyne-and-wear-latest.osm.pbf\"\n",
    "gtfs_data_file = f\"{data_folder}/raw/accessibility/itm_north_east_gtfs.zip\""
   ]
  },
  {
   "cell_type": "code",
   "execution_count": 3,
   "metadata": {},
   "outputs": [],
   "source": [
    "# import\n",
    "\n",
    "# origins (IE output areas, OAs)\n",
    "oas_centroids = gpd.read_file(oas_centroids_file,\n",
    "                              layer=\"OA_centroids_TyneWear\")\n",
    "oas_centroids['id'] = oas_centroids['OA11CD'] # Origin dataset must contain an 'id' column\n",
    "oas_centroids_wgs84 = oas_centroids.to_crs(\"epsg:4326\")\n",
    "oas_centroids.head()\n",
    "\n",
    "# destination data\n",
    "# green space sites' entrances\n",
    "gs_entrances = gpd.read_file(greenspace_file,\n",
    "                        layer = \"AccessPoint\")\n",
    "\n",
    "gs_entrances.head()\n",
    "# WPZ centroids\n",
    "wpz_centroids = gpd.read_file(workingplacezones_centroids_file,\n",
    "                              layer = \"WPZ_centroids_tynewear\")\n",
    "wpz_centroids.head()\n",
    "wpz_centroids['id'] = wpz_centroids['wz11cd'] # Destination dataset must contain an 'id' column\n",
    "\n",
    "# network data\n",
    "# uploaded in the sequent operation"
   ]
  },
  {
   "cell_type": "code",
   "execution_count": 4,
   "metadata": {},
   "outputs": [],
   "source": [
    "# for testing purposes\n",
    "# selecting from origin and destinations only a few points\n",
    "# IE selecting first 10 rows\n",
    "origins = oas_centroids.loc[:99, :]\n",
    "destinations = wpz_centroids.loc[:99, :]\n",
    "# origins = oas_centroids\n",
    "# destinations = wpz_centroids"
   ]
  },
  {
   "cell_type": "code",
   "execution_count": 5,
   "metadata": {},
   "outputs": [
    {
     "data": {
      "text/plain": [
       "<Geographic 2D CRS: EPSG:4326>\n",
       "Name: WGS 84\n",
       "Axis Info [ellipsoidal]:\n",
       "- Lat[north]: Geodetic latitude (degree)\n",
       "- Lon[east]: Geodetic longitude (degree)\n",
       "Area of Use:\n",
       "- name: World\n",
       "- bounds: (-180.0, -90.0, 180.0, 90.0)\n",
       "Datum: World Geodetic System 1984\n",
       "- Ellipsoid: WGS 84\n",
       "- Prime Meridian: Greenwich"
      ]
     },
     "execution_count": 5,
     "metadata": {},
     "output_type": "execute_result"
    }
   ],
   "source": [
    "origins.head()\n",
    "origins.crs #epsg:27700\n",
    "origins = origins.to_crs(\"epsg:4326\")\n",
    "origins.crs"
   ]
  },
  {
   "cell_type": "code",
   "execution_count": null,
   "metadata": {},
   "outputs": [],
   "source": [
    "origins.explore()"
   ]
  },
  {
   "cell_type": "code",
   "execution_count": 6,
   "metadata": {},
   "outputs": [
    {
     "data": {
      "text/plain": [
       "<Geographic 2D CRS: EPSG:4326>\n",
       "Name: WGS 84\n",
       "Axis Info [ellipsoidal]:\n",
       "- Lat[north]: Geodetic latitude (degree)\n",
       "- Lon[east]: Geodetic longitude (degree)\n",
       "Area of Use:\n",
       "- name: World\n",
       "- bounds: (-180.0, -90.0, 180.0, 90.0)\n",
       "Datum: World Geodetic System 1984\n",
       "- Ellipsoid: WGS 84\n",
       "- Prime Meridian: Greenwich"
      ]
     },
     "execution_count": 6,
     "metadata": {},
     "output_type": "execute_result"
    }
   ],
   "source": [
    "destinations.head()\n",
    "destinations.crs #epsg:27700\n",
    "destinations = destinations.to_crs(\"epsg:4326\")\n",
    "destinations.crs"
   ]
  },
  {
   "cell_type": "code",
   "execution_count": null,
   "metadata": {},
   "outputs": [],
   "source": [
    "destinations.explore()"
   ]
  },
  {
   "attachments": {},
   "cell_type": "markdown",
   "metadata": {},
   "source": [
    "## 2. ttm generation and playing around"
   ]
  },
  {
   "cell_type": "code",
   "execution_count": 7,
   "metadata": {},
   "outputs": [],
   "source": [
    "### load in transport network\n",
    "\n",
    "transport_network = TransportNetwork(\n",
    "    osm_data_file,\n",
    "    [\n",
    "        gtfs_data_file\n",
    "    ]\n",
    ")"
   ]
  },
  {
   "cell_type": "code",
   "execution_count": 7,
   "metadata": {},
   "outputs": [
    {
     "name": "stderr",
     "output_type": "stream",
     "text": [
      "/usr/local/anaconda3/envs/demoland_r5/lib/python3.9/site-packages/r5py/r5/regional_task.py:224: RuntimeWarning: Departure time 2023-01-19 08:30:00 is outside of the time range covered by currently loaded GTFS data sets.\n",
      "  warnings.warn(\n"
     ]
    },
    {
     "data": {
      "text/html": [
       "<div>\n",
       "<style scoped>\n",
       "    .dataframe tbody tr th:only-of-type {\n",
       "        vertical-align: middle;\n",
       "    }\n",
       "\n",
       "    .dataframe tbody tr th {\n",
       "        vertical-align: top;\n",
       "    }\n",
       "\n",
       "    .dataframe thead th {\n",
       "        text-align: right;\n",
       "    }\n",
       "</style>\n",
       "<table border=\"1\" class=\"dataframe\">\n",
       "  <thead>\n",
       "    <tr style=\"text-align: right;\">\n",
       "      <th></th>\n",
       "      <th>from_id</th>\n",
       "      <th>to_id</th>\n",
       "      <th>travel_time</th>\n",
       "    </tr>\n",
       "  </thead>\n",
       "  <tbody>\n",
       "    <tr>\n",
       "      <th>0</th>\n",
       "      <td>E00041377</td>\n",
       "      <td>E33000251</td>\n",
       "      <td>78.0</td>\n",
       "    </tr>\n",
       "    <tr>\n",
       "      <th>1</th>\n",
       "      <td>E00041377</td>\n",
       "      <td>E33000799</td>\n",
       "      <td>18.0</td>\n",
       "    </tr>\n",
       "    <tr>\n",
       "      <th>2</th>\n",
       "      <td>E00041377</td>\n",
       "      <td>E33000257</td>\n",
       "      <td>43.0</td>\n",
       "    </tr>\n",
       "    <tr>\n",
       "      <th>3</th>\n",
       "      <td>E00041377</td>\n",
       "      <td>E33000079</td>\n",
       "      <td>33.0</td>\n",
       "    </tr>\n",
       "    <tr>\n",
       "      <th>4</th>\n",
       "      <td>E00041377</td>\n",
       "      <td>E33000174</td>\n",
       "      <td>55.0</td>\n",
       "    </tr>\n",
       "  </tbody>\n",
       "</table>\n",
       "</div>"
      ],
      "text/plain": [
       "     from_id      to_id  travel_time\n",
       "0  E00041377  E33000251         78.0\n",
       "1  E00041377  E33000799         18.0\n",
       "2  E00041377  E33000257         43.0\n",
       "3  E00041377  E33000079         33.0\n",
       "4  E00041377  E33000174         55.0"
      ]
     },
     "execution_count": 7,
     "metadata": {},
     "output_type": "execute_result"
    }
   ],
   "source": [
    "# example of ttm generation\n",
    "# ttm_walking_OAtoGS = TravelTimeMatrixComputer(\n",
    "#     transport_network,\n",
    "#     origins=orig,\n",
    "#     destinations=dest,\n",
    "#     max_time=dt.timedelta(seconds=900), # restricting travel to 15min\n",
    "#     speed_walking=4.8,\n",
    "#     transport_modes=[LegMode.WALK]\n",
    "# )\n",
    "# ttm_walking_OAtoGS = ttm_walking_OAtoGS.compute_travel_times()\n",
    "# ttm_walking_OAtoGS.head()\n",
    "\n",
    "ttm_transit_comp = TravelTimeMatrixComputer(\n",
    "    transport_network,\n",
    "    origins=origins,\n",
    "    destinations=destinations,\n",
    "    departure=dt.datetime(2023,1,19,8,30),\n",
    "    transport_modes=[TransitMode.TRANSIT,\n",
    "                     LegMode.WALK]\n",
    ")\n",
    "ttm_transit = ttm_transit_comp.compute_travel_times()\n",
    "ttm_transit.head()\n",
    "\n",
    "# destinations\n",
    "# gs: entrances + oas centroids\n",
    "# jobs: wpz centroids + oas centroids"
   ]
  },
  {
   "cell_type": "code",
   "execution_count": 82,
   "metadata": {},
   "outputs": [
    {
     "data": {
      "text/html": [
       "<div>\n",
       "<style scoped>\n",
       "    .dataframe tbody tr th:only-of-type {\n",
       "        vertical-align: middle;\n",
       "    }\n",
       "\n",
       "    .dataframe tbody tr th {\n",
       "        vertical-align: top;\n",
       "    }\n",
       "\n",
       "    .dataframe thead th {\n",
       "        text-align: right;\n",
       "    }\n",
       "</style>\n",
       "<table border=\"1\" class=\"dataframe\">\n",
       "  <thead>\n",
       "    <tr style=\"text-align: right;\">\n",
       "      <th></th>\n",
       "      <th>from_id</th>\n",
       "      <th>to_id</th>\n",
       "    </tr>\n",
       "  </thead>\n",
       "  <tbody>\n",
       "    <tr>\n",
       "      <th>0</th>\n",
       "      <td>E00041377</td>\n",
       "      <td>E33000251</td>\n",
       "    </tr>\n",
       "    <tr>\n",
       "      <th>1</th>\n",
       "      <td>E00041377</td>\n",
       "      <td>E33000799</td>\n",
       "    </tr>\n",
       "    <tr>\n",
       "      <th>2</th>\n",
       "      <td>E00041377</td>\n",
       "      <td>E33000257</td>\n",
       "    </tr>\n",
       "    <tr>\n",
       "      <th>3</th>\n",
       "      <td>E00041377</td>\n",
       "      <td>E33000079</td>\n",
       "    </tr>\n",
       "    <tr>\n",
       "      <th>4</th>\n",
       "      <td>E00041377</td>\n",
       "      <td>E33000174</td>\n",
       "    </tr>\n",
       "  </tbody>\n",
       "</table>\n",
       "</div>"
      ],
      "text/plain": [
       "     from_id      to_id\n",
       "0  E00041377  E33000251\n",
       "1  E00041377  E33000799\n",
       "2  E00041377  E33000257\n",
       "3  E00041377  E33000079\n",
       "4  E00041377  E33000174"
      ]
     },
     "execution_count": 82,
     "metadata": {},
     "output_type": "execute_result"
    }
   ],
   "source": [
    "from itertools import product\n",
    "# generate dataframe with all from_id and all to_id pairs\n",
    "prod = product(origins['id'].unique(),\n",
    "               destinations['id'].unique())\n",
    "empty_ttm = pd.DataFrame(prod)\n",
    "empty_ttm.columns= ['from_id', 'to_id']\n",
    "empty_ttm.head()"
   ]
  },
  {
   "cell_type": "code",
   "execution_count": null,
   "metadata": {},
   "outputs": [],
   "source": [
    "# # Create a default request for a given departure time\n",
    "# req = otp.createRequest()\n",
    "# req.setDateTime(2015, 9, 15, 10, 00, 00)  # set departure time\n",
    "# req.setMaxTimeSec(7200)                   # set a limit to maximum travel time (seconds)\n",
    "# req.setModes('WALK,BUS,RAIL')             # define transport mode\n",
    "# req.setClampInitialWait(0)                # clamp the initial wait time to zero\n",
    "# # req.maxWalkDistance = 3000                 # set the maximum distance (in meters) the user is willing to walk\n",
    "# # req.walkSpeed = walkSpeed                 # set average walking speed ( meters ?)\n",
    "# # req.bikeSpeed = bikeSpeed                 # set average cycling speed (miles per hour ?)\n",
    "# # ?ERROR req.setSearchRadiusM(500)                 # set max snapping distance to connect trip origin to street network\n",
    "\n",
    "# # Read Points of Destination - The file points.csv contains the columns GEOID, X and Y.\n",
    "# points = otp.loadCSVPopulation('points.csv', 'Y', 'X')\n",
    "# dests = otp.loadCSVPopulation('points.csv', 'Y', 'X')\n",
    "\n",
    "\n",
    "# # Create a CSV output\n",
    "# matrixCsv = otp.createCSVOutput()\n",
    "# matrixCsv.setHeader([ 'origin', 'destination', 'walk_distance', 'travel_time', 'boardings' ])\n",
    "\n",
    "# # Start Loop\n",
    "# for origin in points:\n",
    "#   print \"Processing origin: \", origin\n",
    "#   req.setOrigin(origin)\n",
    "#   spt = router.plan(req)\n",
    "#   if spt is None: continue\n",
    "\n",
    "#   # Evaluate the SPT for all points\n",
    "#   result = spt.eval(dests)\n",
    "  \n",
    "#   # Add a new row of result in the CSV output\n",
    "#   for r in result:\n",
    "#     matrixCsv.addRow([ origin.getStringData('GEOID'), r.getIndividual().getStringData('GEOID'), r.getWalkDistance() , r.getTime(),  r.getBoardings() ])\n",
    "\n",
    "# # Save the result\n",
    "# matrixCsv.save('traveltime_matrix.csv')\n",
    "\n",
    "# # Stop timing the code"
   ]
  },
  {
   "cell_type": "code",
   "execution_count": 8,
   "metadata": {},
   "outputs": [
    {
     "data": {
      "text/plain": [
       "0"
      ]
     },
     "execution_count": 8,
     "metadata": {},
     "output_type": "execute_result"
    }
   ],
   "source": [
    "trial_comp = TravelTimeMatrixComputer(\n",
    "    transport_network,\n",
    "    origins=origins,\n",
    "    destinations=destinations,\n",
    "    departure=dt.datetime(2023,1,19,8,30),\n",
    "    # max_time = dt.timedelta(seconds=900),\n",
    "    transport_modes=[LegMode.CAR]\n",
    ")\n",
    "trial = trial_comp.compute_travel_times()\n",
    "trial.travel_time.isna().sum()"
   ]
  },
  {
   "cell_type": "code",
   "execution_count": 9,
   "metadata": {},
   "outputs": [
    {
     "data": {
      "text/html": [
       "<div>\n",
       "<style scoped>\n",
       "    .dataframe tbody tr th:only-of-type {\n",
       "        vertical-align: middle;\n",
       "    }\n",
       "\n",
       "    .dataframe tbody tr th {\n",
       "        vertical-align: top;\n",
       "    }\n",
       "\n",
       "    .dataframe thead th {\n",
       "        text-align: right;\n",
       "    }\n",
       "</style>\n",
       "<table border=\"1\" class=\"dataframe\">\n",
       "  <thead>\n",
       "    <tr style=\"text-align: right;\">\n",
       "      <th></th>\n",
       "      <th>from_id</th>\n",
       "      <th>to_id</th>\n",
       "      <th>travel_time</th>\n",
       "    </tr>\n",
       "  </thead>\n",
       "  <tbody>\n",
       "    <tr>\n",
       "      <th>0</th>\n",
       "      <td>E00041377</td>\n",
       "      <td>E33000251</td>\n",
       "      <td>17</td>\n",
       "    </tr>\n",
       "    <tr>\n",
       "      <th>1</th>\n",
       "      <td>E00041377</td>\n",
       "      <td>E33000799</td>\n",
       "      <td>7</td>\n",
       "    </tr>\n",
       "    <tr>\n",
       "      <th>2</th>\n",
       "      <td>E00041377</td>\n",
       "      <td>E33000257</td>\n",
       "      <td>16</td>\n",
       "    </tr>\n",
       "    <tr>\n",
       "      <th>3</th>\n",
       "      <td>E00041377</td>\n",
       "      <td>E33000079</td>\n",
       "      <td>12</td>\n",
       "    </tr>\n",
       "    <tr>\n",
       "      <th>4</th>\n",
       "      <td>E00041377</td>\n",
       "      <td>E33000174</td>\n",
       "      <td>16</td>\n",
       "    </tr>\n",
       "  </tbody>\n",
       "</table>\n",
       "</div>"
      ],
      "text/plain": [
       "     from_id      to_id  travel_time\n",
       "0  E00041377  E33000251           17\n",
       "1  E00041377  E33000799            7\n",
       "2  E00041377  E33000257           16\n",
       "3  E00041377  E33000079           12\n",
       "4  E00041377  E33000174           16"
      ]
     },
     "execution_count": 9,
     "metadata": {},
     "output_type": "execute_result"
    }
   ],
   "source": [
    "trial.head()"
   ]
  },
  {
   "cell_type": "code",
   "execution_count": 88,
   "metadata": {},
   "outputs": [
    {
     "name": "stdout",
     "output_type": "stream",
     "text": [
      "bbb ['', <LegMode.CAR: <java object 'com.conveyal.r5.api.util.LegMode'>>]\n",
      "The current mode is: CAR transit is  transport var is ['', <LegMode.CAR: <java object 'com.conveyal.r5.api.util.LegMode'>>]\n",
      "finished calculating ttm for mode CAR\n",
      "bbb ['', <LegMode.BICYCLE: <java object 'com.conveyal.r5.api.util.LegMode'>>]\n",
      "The current mode is: BICYCLE transit is  transport var is ['', <LegMode.BICYCLE: <java object 'com.conveyal.r5.api.util.LegMode'>>]\n",
      "finished calculating ttm for mode BICYCLE\n"
     ]
    }
   ],
   "source": [
    "# defining variables\n",
    "date_time = '2023,01,19,9,30'\n",
    "max_time = dt.timedelta(seconds=900)\n",
    "walking_speed = 4.8\n",
    "cycling_speed = 16\n",
    "modes_lut = pd.DataFrame([\n",
    "                            # ['TRANSIT', TransitMode.TRANSIT, LegMode.WALK],\n",
    "                          ['CAR', '', LegMode.CAR],\n",
    "                          ['BICYCLE', '', LegMode.BICYCLE],\n",
    "                        #   ['WALK','', LegMode.WALK]],\n",
    "                        ],\n",
    "                         columns=('Mode', 'Transit_mode', 'Leg_mode'))\n",
    "modes_lut.head()\n",
    "\n",
    "def list_making(s,z): # function to generate custom list of transit+transport more for the parameter transport_modes in TravelTimeMatrixComputer\n",
    "    return [s] + [z]\n",
    "\n",
    "# df.lookup(df.index, df['best'])\n",
    "\n",
    "for row in modes_lut.itertuples():\n",
    "    mode = row.Mode\n",
    "    transit_mode = row.Transit_mode\n",
    "    leg_mode = row.Leg_mode\n",
    "    transport_mode = list_making(transit_mode,leg_mode) # creating list of objects for transport_modes parameter\n",
    "    print('bbb', transport_mode)\n",
    "\n",
    "    print('The current mode is:', mode, 'transit is', transit_mode, 'transport var is', transport_mode)\n",
    "    traveltimematrix = TravelTimeMatrixComputer(\n",
    "        transport_network,\n",
    "        origins=origins,\n",
    "        destinations=destinations,\n",
    "        departure=dt.datetime.strptime(date_time, '%Y,%m,%d,%H,%M'),\n",
    "        speed_walking = walking_speed,\n",
    "        speed_cycling = cycling_speed,\n",
    "        transport_modes = transport_mode\n",
    "    )\n",
    "\n",
    "    ttm = traveltimematrix.compute_travel_times()\n",
    "    ttm.isna().sum() # checking the ttm actually calculated something\n",
    "    empty_ttm = empty_ttm.merge(ttm,\n",
    "                    how='outer',\n",
    "                    left_on=['from_id','to_id'],\n",
    "                    right_on = ['from_id','to_id'])\n",
    "    \n",
    "    print('finished calculating ttm for mode', mode)\n",
    "\n"
   ]
  },
  {
   "cell_type": "code",
   "execution_count": 80,
   "metadata": {},
   "outputs": [
    {
     "data": {
      "text/html": [
       "<div>\n",
       "<style scoped>\n",
       "    .dataframe tbody tr th:only-of-type {\n",
       "        vertical-align: middle;\n",
       "    }\n",
       "\n",
       "    .dataframe tbody tr th {\n",
       "        vertical-align: top;\n",
       "    }\n",
       "\n",
       "    .dataframe thead th {\n",
       "        text-align: right;\n",
       "    }\n",
       "</style>\n",
       "<table border=\"1\" class=\"dataframe\">\n",
       "  <thead>\n",
       "    <tr style=\"text-align: right;\">\n",
       "      <th></th>\n",
       "      <th>from_id</th>\n",
       "      <th>to_id</th>\n",
       "      <th>travel_time</th>\n",
       "    </tr>\n",
       "  </thead>\n",
       "  <tbody>\n",
       "    <tr>\n",
       "      <th>0</th>\n",
       "      <td>E00041377</td>\n",
       "      <td>E33000251</td>\n",
       "      <td>68.0</td>\n",
       "    </tr>\n",
       "    <tr>\n",
       "      <th>1</th>\n",
       "      <td>E00041377</td>\n",
       "      <td>E33000799</td>\n",
       "      <td>9.0</td>\n",
       "    </tr>\n",
       "    <tr>\n",
       "      <th>2</th>\n",
       "      <td>E00041377</td>\n",
       "      <td>E33000257</td>\n",
       "      <td>50.0</td>\n",
       "    </tr>\n",
       "    <tr>\n",
       "      <th>3</th>\n",
       "      <td>E00041377</td>\n",
       "      <td>E33000079</td>\n",
       "      <td>29.0</td>\n",
       "    </tr>\n",
       "    <tr>\n",
       "      <th>4</th>\n",
       "      <td>E00041377</td>\n",
       "      <td>E33000174</td>\n",
       "      <td>54.0</td>\n",
       "    </tr>\n",
       "  </tbody>\n",
       "</table>\n",
       "</div>"
      ],
      "text/plain": [
       "     from_id      to_id  travel_time\n",
       "0  E00041377  E33000251         68.0\n",
       "1  E00041377  E33000799          9.0\n",
       "2  E00041377  E33000257         50.0\n",
       "3  E00041377  E33000079         29.0\n",
       "4  E00041377  E33000174         54.0"
      ]
     },
     "execution_count": 80,
     "metadata": {},
     "output_type": "execute_result"
    }
   ],
   "source": [
    "ttm.head()"
   ]
  },
  {
   "cell_type": "code",
   "execution_count": 68,
   "metadata": {},
   "outputs": [
    {
     "data": {
      "text/html": [
       "<div>\n",
       "<style scoped>\n",
       "    .dataframe tbody tr th:only-of-type {\n",
       "        vertical-align: middle;\n",
       "    }\n",
       "\n",
       "    .dataframe tbody tr th {\n",
       "        vertical-align: top;\n",
       "    }\n",
       "\n",
       "    .dataframe thead th {\n",
       "        text-align: right;\n",
       "    }\n",
       "</style>\n",
       "<table border=\"1\" class=\"dataframe\">\n",
       "  <thead>\n",
       "    <tr style=\"text-align: right;\">\n",
       "      <th></th>\n",
       "      <th>from_id</th>\n",
       "      <th>to_id</th>\n",
       "      <th>travel_time</th>\n",
       "    </tr>\n",
       "  </thead>\n",
       "  <tbody>\n",
       "    <tr>\n",
       "      <th>0</th>\n",
       "      <td>E00041377</td>\n",
       "      <td>E33000251</td>\n",
       "      <td>NaN</td>\n",
       "    </tr>\n",
       "    <tr>\n",
       "      <th>1</th>\n",
       "      <td>E00041377</td>\n",
       "      <td>E33000799</td>\n",
       "      <td>26.0</td>\n",
       "    </tr>\n",
       "    <tr>\n",
       "      <th>2</th>\n",
       "      <td>E00041377</td>\n",
       "      <td>E33000257</td>\n",
       "      <td>116.0</td>\n",
       "    </tr>\n",
       "    <tr>\n",
       "      <th>3</th>\n",
       "      <td>E00041377</td>\n",
       "      <td>E33000079</td>\n",
       "      <td>77.0</td>\n",
       "    </tr>\n",
       "    <tr>\n",
       "      <th>4</th>\n",
       "      <td>E00041377</td>\n",
       "      <td>E33000174</td>\n",
       "      <td>NaN</td>\n",
       "    </tr>\n",
       "  </tbody>\n",
       "</table>\n",
       "</div>"
      ],
      "text/plain": [
       "     from_id      to_id  travel_time\n",
       "0  E00041377  E33000251          NaN\n",
       "1  E00041377  E33000799         26.0\n",
       "2  E00041377  E33000257        116.0\n",
       "3  E00041377  E33000079         77.0\n",
       "4  E00041377  E33000174          NaN"
      ]
     },
     "execution_count": 68,
     "metadata": {},
     "output_type": "execute_result"
    }
   ],
   "source": [
    "# example of ttm generation\n",
    "ttm_walk = TravelTimeMatrixComputer(\n",
    "    transport_network,\n",
    "    origins=origins,\n",
    "    destinations=destinations,\n",
    "    # max_time=dt.timedelta(seconds=900), # restricting travel to 15min\n",
    "    speed_walking=4.8,\n",
    "    transport_modes=[LegMode.WALK]\n",
    ")\n",
    "ttm_walk = ttm_walk.compute_travel_times()\n",
    "ttm_walk.head()"
   ]
  },
  {
   "cell_type": "code",
   "execution_count": 81,
   "metadata": {},
   "outputs": [
    {
     "data": {
      "text/html": [
       "<div>\n",
       "<style scoped>\n",
       "    .dataframe tbody tr th:only-of-type {\n",
       "        vertical-align: middle;\n",
       "    }\n",
       "\n",
       "    .dataframe tbody tr th {\n",
       "        vertical-align: top;\n",
       "    }\n",
       "\n",
       "    .dataframe thead th {\n",
       "        text-align: right;\n",
       "    }\n",
       "</style>\n",
       "<table border=\"1\" class=\"dataframe\">\n",
       "  <thead>\n",
       "    <tr style=\"text-align: right;\">\n",
       "      <th></th>\n",
       "      <th>from_id</th>\n",
       "      <th>to_id</th>\n",
       "      <th>travel_time</th>\n",
       "    </tr>\n",
       "  </thead>\n",
       "  <tbody>\n",
       "    <tr>\n",
       "      <th>0</th>\n",
       "      <td>E00041377</td>\n",
       "      <td>E33000251</td>\n",
       "      <td>68.0</td>\n",
       "    </tr>\n",
       "    <tr>\n",
       "      <th>1</th>\n",
       "      <td>E00041377</td>\n",
       "      <td>E33000799</td>\n",
       "      <td>9.0</td>\n",
       "    </tr>\n",
       "    <tr>\n",
       "      <th>2</th>\n",
       "      <td>E00041377</td>\n",
       "      <td>E33000257</td>\n",
       "      <td>50.0</td>\n",
       "    </tr>\n",
       "    <tr>\n",
       "      <th>3</th>\n",
       "      <td>E00041377</td>\n",
       "      <td>E33000079</td>\n",
       "      <td>29.0</td>\n",
       "    </tr>\n",
       "    <tr>\n",
       "      <th>4</th>\n",
       "      <td>E00041377</td>\n",
       "      <td>E33000174</td>\n",
       "      <td>54.0</td>\n",
       "    </tr>\n",
       "  </tbody>\n",
       "</table>\n",
       "</div>"
      ],
      "text/plain": [
       "     from_id      to_id  travel_time\n",
       "0  E00041377  E33000251         68.0\n",
       "1  E00041377  E33000799          9.0\n",
       "2  E00041377  E33000257         50.0\n",
       "3  E00041377  E33000079         29.0\n",
       "4  E00041377  E33000174         54.0"
      ]
     },
     "execution_count": 81,
     "metadata": {},
     "output_type": "execute_result"
    }
   ],
   "source": [
    "# example of ttm generation\n",
    "ttm_bike = TravelTimeMatrixComputer(\n",
    "    transport_network,\n",
    "    origins=origins,\n",
    "    destinations=destinations,\n",
    "    # max_time=dt.timedelta(seconds=900), # restricting travel to 15min\n",
    "    speed_walking=4.8,\n",
    "    speed_cycling=16,\n",
    "    transport_modes=[LegMode.BICYCLE]\n",
    ")\n",
    "ttm_bike = ttm_bike.compute_travel_times()\n",
    "ttm_bike.head()"
   ]
  },
  {
   "cell_type": "code",
   "execution_count": null,
   "metadata": {},
   "outputs": [],
   "source": [
    "a=list(str(12345))\n",
    "for q in a:\n",
    "    print(chr(int(q)))"
   ]
  },
  {
   "cell_type": "code",
   "execution_count": 53,
   "metadata": {},
   "outputs": [
    {
     "name": "stdout",
     "output_type": "stream",
     "text": [
      "Name : Alex, Age : 20\n",
      "Name : Bob, Age : 21\n",
      "Name : Ira, Age : 15\n"
     ]
    }
   ],
   "source": [
    "class Student:\n",
    "    def __init__(self, name, age):\n",
    "        self.name = name\n",
    "        self.age = age\n",
    "\n",
    "\n",
    "studentList = []\n",
    "studentList.append(Student(\"Alex\", 20))\n",
    "studentList.append(Student(\"Bob\", 21))\n",
    "studentList.append(Student(\"Ira\", 15))\n",
    "\n",
    "for student in studentList:\n",
    "    print('Name : {}, Age : {}'.format(student.name,student.age))"
   ]
  }
 ],
 "metadata": {
  "kernelspec": {
   "display_name": "demoland_r5",
   "language": "python",
   "name": "python3"
  },
  "language_info": {
   "codemirror_mode": {
    "name": "ipython",
    "version": 3
   },
   "file_extension": ".py",
   "mimetype": "text/x-python",
   "name": "python",
   "nbconvert_exporter": "python",
   "pygments_lexer": "ipython3",
   "version": "3.9.16"
  },
  "orig_nbformat": 4,
  "vscode": {
   "interpreter": {
    "hash": "bca7ff844b196d85b5f05fb1676164174f03491baaf50a687c916a5f950ce87e"
   }
  }
 },
 "nbformat": 4,
 "nbformat_minor": 2
}
