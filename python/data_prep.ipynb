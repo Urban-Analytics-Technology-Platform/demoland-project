{
 "cells": [
  {
   "cell_type": "markdown",
   "metadata": {},
   "source": [
    "**Performing first trials in jupyter for Tyne and Wear**"
   ]
  },
  {
   "attachments": {},
   "cell_type": "markdown",
   "metadata": {},
   "source": [
    "**1. Variables declarations**\n",
    "\n",
    "NB: to be edited depending on who runs this"
   ]
  },
  {
   "cell_type": "code",
   "execution_count": 96,
   "metadata": {},
   "outputs": [],
   "source": [
    "import pandas as pd\n",
    "import numpy as np\n",
    "import geopandas as gpd\n",
    "\n",
    "msoa_full_file = \"./../data/MSOAs_TyneWear_full.csv\"\n",
    "msoa_list_file = \"./../data/MSOAs_TyneWear.csv\"\n",
    "lad_list_file = \"./../data/LADs_TyneWear.csv\"\n",
    "\n",
    "\n",
    "house_prices_lsoa_xls_file = \"./../data/hpssadataset46medianpricepaidforresidentialpropertiesbylsoa.xls\"\n",
    "\n",
    "greenspace_file = \"./../data/gis/OS Open Greenspace (GPKG) GB/data/opgrsp_gb.gpkg\"\n",
    "\n",
    "LSOA_boundaries_file = \"./../data/gis/LSOA_(Dec_2011)_Boundaries_Super_Generalised_Clipped_(BSC)_EW_V3/\"\n",
    "MSOA_boundaries_file = \"\"\n",
    "\n",
    "output_folder = \"./../output/\""
   ]
  },
  {
   "attachments": {},
   "cell_type": "markdown",
   "metadata": {},
   "source": [
    "**2. Variables import**\n",
    "\n",
    "A. Tables import"
   ]
  },
  {
   "cell_type": "code",
   "execution_count": 97,
   "metadata": {},
   "outputs": [],
   "source": [
    "msoas_full_df = pd.read_csv(msoa_full_file)\n",
    "msoas_list_df = pd.read_csv(msoa_list_file)\n",
    "lad_list_df = pd.read_csv(lad_list_file)\n",
    "\n",
    "houseprice_excel_tab = pd.read_excel(house_prices_lsoa_xls_file,\n",
    "                                     sheet_name = \"Data\") # name of excel tab within the spreadsheet which contains our desired data\n"
   ]
  },
  {
   "attachments": {},
   "cell_type": "markdown",
   "metadata": {},
   "source": [
    "some data edits"
   ]
  },
  {
   "cell_type": "code",
   "execution_count": 173,
   "metadata": {},
   "outputs": [
    {
     "data": {
      "text/plain": [
       "4\n",
       "Year ending Dec 2020    object\n",
       "Year ending Mar 2021    object\n",
       "Year ending Jun 2021    object\n",
       "Year ending Sep 2021    object\n",
       "Year ending Dec 2021    object\n",
       "Year ending Mar 2022    object\n",
       "dtype: object"
      ]
     },
     "execution_count": 173,
     "metadata": {},
     "output_type": "execute_result"
    }
   ],
   "source": [
    "# editing the dataframe (contains empty rows and other un-necessary stuff inherited from excel)\n",
    "# a. first 4 rows are empty\n",
    "# b. 5th row contains the columns names\n",
    "\n",
    "houseprice_df_notitle = houseprice_excel_tab.iloc[4:] # eliminating first 4 rows\n",
    "houseprice_df_notitle.columns = houseprice_df_notitle.iloc[0] # attributing columns names from current first row\n",
    "houseprice_df = houseprice_df_notitle.iloc[1:] # eliminating first row (with names)\n",
    "\n",
    "# note: think to edit this when reading the file in, already,as in\n",
    "# https://stackoverflow.com/questions/48036296/using-read-excel-with-converters-for-reading-excel-file-into-pandas-dataframe-re\n",
    "\n",
    "# checking data type for columns with numerical values\n",
    "houseprice_df.iloc[:, 0:6].dtypes\n",
    "# we have a total of 113 columns, checking the last 6 ones\n",
    "houseprice_df.iloc[:,-6: ].dtypes\n",
    "# let's eliminate the last 3 columns (empty?)\n",
    "houseprice_df = houseprice_df.iloc[ : , :-3]\n",
    "houseprice_df.iloc[:,-6: ].dtypes\n",
    "# numerical values are read in a type 'object', but we can't change this in the reading command above:\n",
    "# https://pandas.pydata.org/pandas-docs/stable/reference/api/pandas.read_excel.html\n",
    "# in fact 'dtype' option changes it for all the columns\n",
    "# so we do that only after import, here:"
   ]
  },
  {
   "cell_type": "code",
   "execution_count": 174,
   "metadata": {},
   "outputs": [],
   "source": [
    "colnames_houseprice = houseprice_df.columns.to_list()\n",
    "numerical_colnames = colnames_houseprice[4:] # selecting only names names of the columns that contain numerical values"
   ]
  },
  {
   "cell_type": "code",
   "execution_count": null,
   "metadata": {},
   "outputs": [],
   "source": [
    "# houseprice_df.head()\n",
    "# # changing type to numeric for columns from position 4 to end\n",
    "# # houseprice_df.iloc[:,4:].apply(pd.to_numeric, errors='coerce')\n",
    "# # houseprice_df.iloc[:,4:].astype(float)\n",
    "# # houseprice_df.iloc[:,4:] = pd.to_numeric(houseprice_df.iloc[:,4:].stack(),\n",
    "# #                                          errors='coerce').unstack()\n",
    "# numerical_cols = houseprice_df.columns.str.startswith('Year ending')\n",
    "# # object_cols = ~houseprice_df.columns.str.startswith('Year ending')\n",
    "# houseprice_df.loc[:,houseprice_df.columns.str.startswith('Year ending')]"
   ]
  },
  {
   "cell_type": "code",
   "execution_count": 175,
   "metadata": {},
   "outputs": [],
   "source": [
    "houseprice_df[numerical_colnames] = houseprice_df[numerical_colnames].apply(pd.to_numeric,\n",
    "                                                                            errors='coerce')\n",
    "houseprice_df.iloc[:,-6:].dtypes # worked\n",
    "# https://stackoverflow.com/questions/36814100/pandas-to-numeric-for-multiple-columns"
   ]
  },
  {
   "cell_type": "code",
   "execution_count": 177,
   "metadata": {},
   "outputs": [
    {
     "data": {
      "text/plain": [
       "4\n",
       "Year ending Dec 2020    float64\n",
       "Year ending Mar 2021    float64\n",
       "Year ending Jun 2021    float64\n",
       "Year ending Sep 2021    float64\n",
       "Year ending Dec 2021    float64\n",
       "Year ending Mar 2022    float64\n",
       "dtype: object"
      ]
     },
     "execution_count": 177,
     "metadata": {},
     "output_type": "execute_result"
    }
   ],
   "source": []
  },
  {
   "attachments": {},
   "cell_type": "markdown",
   "metadata": {},
   "source": [
    "selecting region (case: Tyne and Wear county)"
   ]
  },
  {
   "cell_type": "code",
   "execution_count": 131,
   "metadata": {},
   "outputs": [
    {
     "ename": "KeyError",
     "evalue": "'Local authority code'",
     "output_type": "error",
     "traceback": [
      "\u001b[0;31m---------------------------------------------------------------------------\u001b[0m",
      "\u001b[0;31mKeyError\u001b[0m                                  Traceback (most recent call last)",
      "\u001b[0;32m/usr/local/anaconda3/envs/demoland/lib/python3.7/site-packages/pandas/core/indexes/base.py\u001b[0m in \u001b[0;36mget_loc\u001b[0;34m(self, key, method, tolerance)\u001b[0m\n\u001b[1;32m   3360\u001b[0m             \u001b[0;32mtry\u001b[0m\u001b[0;34m:\u001b[0m\u001b[0;34m\u001b[0m\u001b[0;34m\u001b[0m\u001b[0m\n\u001b[0;32m-> 3361\u001b[0;31m                 \u001b[0;32mreturn\u001b[0m \u001b[0mself\u001b[0m\u001b[0;34m.\u001b[0m\u001b[0m_engine\u001b[0m\u001b[0;34m.\u001b[0m\u001b[0mget_loc\u001b[0m\u001b[0;34m(\u001b[0m\u001b[0mcasted_key\u001b[0m\u001b[0;34m)\u001b[0m\u001b[0;34m\u001b[0m\u001b[0;34m\u001b[0m\u001b[0m\n\u001b[0m\u001b[1;32m   3362\u001b[0m             \u001b[0;32mexcept\u001b[0m \u001b[0mKeyError\u001b[0m \u001b[0;32mas\u001b[0m \u001b[0merr\u001b[0m\u001b[0;34m:\u001b[0m\u001b[0;34m\u001b[0m\u001b[0;34m\u001b[0m\u001b[0m\n",
      "\u001b[0;32m/usr/local/anaconda3/envs/demoland/lib/python3.7/site-packages/pandas/_libs/index.pyx\u001b[0m in \u001b[0;36mpandas._libs.index.IndexEngine.get_loc\u001b[0;34m()\u001b[0m\n",
      "\u001b[0;32m/usr/local/anaconda3/envs/demoland/lib/python3.7/site-packages/pandas/_libs/index.pyx\u001b[0m in \u001b[0;36mpandas._libs.index.IndexEngine.get_loc\u001b[0;34m()\u001b[0m\n",
      "\u001b[0;32mpandas/_libs/hashtable_class_helper.pxi\u001b[0m in \u001b[0;36mpandas._libs.hashtable.PyObjectHashTable.get_item\u001b[0;34m()\u001b[0m\n",
      "\u001b[0;32mpandas/_libs/hashtable_class_helper.pxi\u001b[0m in \u001b[0;36mpandas._libs.hashtable.PyObjectHashTable.get_item\u001b[0;34m()\u001b[0m\n",
      "\u001b[0;31mKeyError\u001b[0m: 'Local authority code'",
      "\nThe above exception was the direct cause of the following exception:\n",
      "\u001b[0;31mKeyError\u001b[0m                                  Traceback (most recent call last)",
      "\u001b[0;32m/var/folders/cc/gmsw9vnn1lsgmj0vx_vwz0hm0000gq/T/ipykernel_1034/1571775144.py\u001b[0m in \u001b[0;36m<module>\u001b[0;34m\u001b[0m\n\u001b[1;32m      7\u001b[0m \u001b[0;31m#\u001b[0m\u001b[0;34m\u001b[0m\u001b[0;34m\u001b[0m\u001b[0;34m\u001b[0m\u001b[0m\n\u001b[1;32m      8\u001b[0m \u001b[0;34m\u001b[0m\u001b[0m\n\u001b[0;32m----> 9\u001b[0;31m \u001b[0mhouseprice_lsoa_region\u001b[0m \u001b[0;34m=\u001b[0m \u001b[0mhouseprice_df_num\u001b[0m\u001b[0;34m[\u001b[0m\u001b[0mhouseprice_df_num\u001b[0m\u001b[0;34m[\u001b[0m\u001b[0;34m\"Local authority code\"\u001b[0m\u001b[0;34m]\u001b[0m\u001b[0;34m.\u001b[0m\u001b[0misin\u001b[0m\u001b[0;34m(\u001b[0m\u001b[0mregion_LADs_codes_list\u001b[0m\u001b[0;34m)\u001b[0m\u001b[0;34m]\u001b[0m\u001b[0;34m\u001b[0m\u001b[0;34m\u001b[0m\u001b[0m\n\u001b[0m\u001b[1;32m     10\u001b[0m \u001b[0mhouseprice_lsoa_region\u001b[0m\u001b[0;34m.\u001b[0m\u001b[0mdtypes\u001b[0m\u001b[0;34m\u001b[0m\u001b[0;34m\u001b[0m\u001b[0m\n",
      "\u001b[0;32m/usr/local/anaconda3/envs/demoland/lib/python3.7/site-packages/pandas/core/frame.py\u001b[0m in \u001b[0;36m__getitem__\u001b[0;34m(self, key)\u001b[0m\n\u001b[1;32m   3456\u001b[0m             \u001b[0;32mif\u001b[0m \u001b[0mself\u001b[0m\u001b[0;34m.\u001b[0m\u001b[0mcolumns\u001b[0m\u001b[0;34m.\u001b[0m\u001b[0mnlevels\u001b[0m \u001b[0;34m>\u001b[0m \u001b[0;36m1\u001b[0m\u001b[0;34m:\u001b[0m\u001b[0;34m\u001b[0m\u001b[0;34m\u001b[0m\u001b[0m\n\u001b[1;32m   3457\u001b[0m                 \u001b[0;32mreturn\u001b[0m \u001b[0mself\u001b[0m\u001b[0;34m.\u001b[0m\u001b[0m_getitem_multilevel\u001b[0m\u001b[0;34m(\u001b[0m\u001b[0mkey\u001b[0m\u001b[0;34m)\u001b[0m\u001b[0;34m\u001b[0m\u001b[0;34m\u001b[0m\u001b[0m\n\u001b[0;32m-> 3458\u001b[0;31m             \u001b[0mindexer\u001b[0m \u001b[0;34m=\u001b[0m \u001b[0mself\u001b[0m\u001b[0;34m.\u001b[0m\u001b[0mcolumns\u001b[0m\u001b[0;34m.\u001b[0m\u001b[0mget_loc\u001b[0m\u001b[0;34m(\u001b[0m\u001b[0mkey\u001b[0m\u001b[0;34m)\u001b[0m\u001b[0;34m\u001b[0m\u001b[0;34m\u001b[0m\u001b[0m\n\u001b[0m\u001b[1;32m   3459\u001b[0m             \u001b[0;32mif\u001b[0m \u001b[0mis_integer\u001b[0m\u001b[0;34m(\u001b[0m\u001b[0mindexer\u001b[0m\u001b[0;34m)\u001b[0m\u001b[0;34m:\u001b[0m\u001b[0;34m\u001b[0m\u001b[0;34m\u001b[0m\u001b[0m\n\u001b[1;32m   3460\u001b[0m                 \u001b[0mindexer\u001b[0m \u001b[0;34m=\u001b[0m \u001b[0;34m[\u001b[0m\u001b[0mindexer\u001b[0m\u001b[0;34m]\u001b[0m\u001b[0;34m\u001b[0m\u001b[0;34m\u001b[0m\u001b[0m\n",
      "\u001b[0;32m/usr/local/anaconda3/envs/demoland/lib/python3.7/site-packages/pandas/core/indexes/base.py\u001b[0m in \u001b[0;36mget_loc\u001b[0;34m(self, key, method, tolerance)\u001b[0m\n\u001b[1;32m   3361\u001b[0m                 \u001b[0;32mreturn\u001b[0m \u001b[0mself\u001b[0m\u001b[0;34m.\u001b[0m\u001b[0m_engine\u001b[0m\u001b[0;34m.\u001b[0m\u001b[0mget_loc\u001b[0m\u001b[0;34m(\u001b[0m\u001b[0mcasted_key\u001b[0m\u001b[0;34m)\u001b[0m\u001b[0;34m\u001b[0m\u001b[0;34m\u001b[0m\u001b[0m\n\u001b[1;32m   3362\u001b[0m             \u001b[0;32mexcept\u001b[0m \u001b[0mKeyError\u001b[0m \u001b[0;32mas\u001b[0m \u001b[0merr\u001b[0m\u001b[0;34m:\u001b[0m\u001b[0;34m\u001b[0m\u001b[0;34m\u001b[0m\u001b[0m\n\u001b[0;32m-> 3363\u001b[0;31m                 \u001b[0;32mraise\u001b[0m \u001b[0mKeyError\u001b[0m\u001b[0;34m(\u001b[0m\u001b[0mkey\u001b[0m\u001b[0;34m)\u001b[0m \u001b[0;32mfrom\u001b[0m \u001b[0merr\u001b[0m\u001b[0;34m\u001b[0m\u001b[0;34m\u001b[0m\u001b[0m\n\u001b[0m\u001b[1;32m   3364\u001b[0m \u001b[0;34m\u001b[0m\u001b[0m\n\u001b[1;32m   3365\u001b[0m         \u001b[0;32mif\u001b[0m \u001b[0mis_scalar\u001b[0m\u001b[0;34m(\u001b[0m\u001b[0mkey\u001b[0m\u001b[0;34m)\u001b[0m \u001b[0;32mand\u001b[0m \u001b[0misna\u001b[0m\u001b[0;34m(\u001b[0m\u001b[0mkey\u001b[0m\u001b[0;34m)\u001b[0m \u001b[0;32mand\u001b[0m \u001b[0;32mnot\u001b[0m \u001b[0mself\u001b[0m\u001b[0;34m.\u001b[0m\u001b[0mhasnans\u001b[0m\u001b[0;34m:\u001b[0m\u001b[0;34m\u001b[0m\u001b[0;34m\u001b[0m\u001b[0m\n",
      "\u001b[0;31mKeyError\u001b[0m: 'Local authority code'"
     ]
    }
   ],
   "source": [
    "# NOTE: the common field between the houseprice file and regional file is the LAD list\n",
    "region_LADs_codes_list = lad_list_df[\"LAD20CD\"].to_numpy()\n",
    "\n",
    "# generating list of LSOAs code for the region\n",
    "#\n",
    "# generating list of MSOAs code for the region\n",
    "#\n",
    "\n",
    "houseprice_lsoa_region = houseprice_df[houseprice_df_num[\"Local authority code\"].isin(region_LADs_codes_list)]\n",
    "houseprice_lsoa_region.dtypes"
   ]
  },
  {
   "cell_type": "code",
   "execution_count": null,
   "metadata": {},
   "outputs": [],
   "source": [
    "# dataframe with LSOAs code and name\n",
    "lsoas_region_list = houseprice_lsoa_region[[\"LSOA code\", \"LSOA name\"]]\n",
    "# creating the list of the region codes for indexing (filtering) purposes\n",
    "lsoas_region_codes = lsoas_region_list[\"LSOA code\"].to_numpy()"
   ]
  },
  {
   "attachments": {},
   "cell_type": "markdown",
   "metadata": {},
   "source": [
    "B. Importing geospatial data"
   ]
  },
  {
   "cell_type": "code",
   "execution_count": null,
   "metadata": {},
   "outputs": [],
   "source": [
    "# importing greenspace (gpkg)\n",
    "# note, available layers are: \"GreenspaceSite\" (green areas) and \"AccessPoint\" (actual access points)\n",
    "greenspace = gpd.read_file(greenspace_file,\n",
    "                           layer = \"GreenspaceSite\")\n",
    "greenspace.head() "
   ]
  },
  {
   "cell_type": "code",
   "execution_count": null,
   "metadata": {},
   "outputs": [],
   "source": [
    "greenspace.plot()"
   ]
  },
  {
   "cell_type": "code",
   "execution_count": null,
   "metadata": {},
   "outputs": [],
   "source": [
    "accesspoints_gs = gpd.read_file(greenspace_file,\n",
    "                           layer = \"AccessPoint\")\n",
    "accesspoints_gs.head() "
   ]
  },
  {
   "cell_type": "code",
   "execution_count": null,
   "metadata": {},
   "outputs": [],
   "source": [
    "accesspoints_gs.plot()"
   ]
  },
  {
   "cell_type": "code",
   "execution_count": null,
   "metadata": {},
   "outputs": [],
   "source": [
    "# importing LSOA admin boundaries (shp or json)\n",
    "lsoas_shp = gpd.read_file(LSOA_boundaries_file)\n",
    "lsoas_shp.head()"
   ]
  },
  {
   "cell_type": "code",
   "execution_count": null,
   "metadata": {},
   "outputs": [],
   "source": [
    "# selecting LSOAs from Tyne and Wear\n",
    "lsoas_shp_region = lsoas_shp.query('LSOA11CD in @lsoas_region_codes')"
   ]
  },
  {
   "cell_type": "code",
   "execution_count": null,
   "metadata": {},
   "outputs": [],
   "source": [
    "lsoas_shp_region.plot()"
   ]
  },
  {
   "attachments": {},
   "cell_type": "markdown",
   "metadata": {},
   "source": [
    "**3. Data analysis**\n",
    "\n",
    "Associating data to geospatial data (or viceversa, adding geography to data)"
   ]
  },
  {
   "cell_type": "code",
   "execution_count": null,
   "metadata": {},
   "outputs": [],
   "source": [
    "# searching for common field between the 2 tables\n",
    "houseprice_lsoa_region.columns"
   ]
  },
  {
   "cell_type": "code",
   "execution_count": null,
   "metadata": {},
   "outputs": [],
   "source": [
    "lsoas_shp_region.columns"
   ]
  },
  {
   "cell_type": "code",
   "execution_count": null,
   "metadata": {},
   "outputs": [],
   "source": [
    "# lsoa_gdf_with_houseprice = lsoas_shp_region.merge(houseprice_lsoa_region, \n",
    "#                                                   on='')\n",
    "lsoa_gdf_region_with_houseprice = pd.merge(lsoas_shp_region,\n",
    "                                 houseprice_lsoa_region,\n",
    "                                 left_on='LSOA11CD',\n",
    "                                 right_on=\"LSOA code\")"
   ]
  },
  {
   "cell_type": "code",
   "execution_count": null,
   "metadata": {},
   "outputs": [],
   "source": [
    "lsoa_gdf_region_with_houseprice.columns\n",
    "N=3\n",
    "lsoa_gdf_region_with_houseprice.iloc[:, 118:124].dtypes # checking type of column\n",
    "# ... actually price is an 'object' type ... converting it earlier on"
   ]
  },
  {
   "cell_type": "markdown",
   "metadata": {},
   "source": []
  },
  {
   "attachments": {},
   "cell_type": "markdown",
   "metadata": {},
   "source": [
    "plotting map... trials"
   ]
  },
  {
   "cell_type": "code",
   "execution_count": null,
   "metadata": {},
   "outputs": [],
   "source": [
    "# define legend keys\n",
    "lgnd_kwds = {'title': 'Median house price per area',\n",
    "             'loc': 'upper right',\n",
    "             'bbox_to_anchor': (1.8, 1),\n",
    "             'ncol':2}\n",
    "\n",
    "lsoa_gdf_region_with_houseprice.plot(column=\"Year ending Mar 2022\",\n",
    "                                     cmap=\"RdYlBu\",\n",
    "                                     categorical=True,\n",
    "                                     legend=True,\n",
    "                                     legend_kwds=lgnd_kwds)"
   ]
  },
  {
   "cell_type": "code",
   "execution_count": null,
   "metadata": {},
   "outputs": [],
   "source": []
  }
 ],
 "metadata": {
  "kernelspec": {
   "display_name": "Python 3.7.12 ('demoland')",
   "language": "python",
   "name": "python3"
  },
  "language_info": {
   "codemirror_mode": {
    "name": "ipython",
    "version": 3
   },
   "file_extension": ".py",
   "mimetype": "text/x-python",
   "name": "python",
   "nbconvert_exporter": "python",
   "pygments_lexer": "ipython3",
   "version": "3.7.15"
  },
  "orig_nbformat": 4,
  "vscode": {
   "interpreter": {
    "hash": "abd0bad1cec8154e0c5d43583ba40638890964ce6774a618f4cd1a9cb8667793"
   }
  }
 },
 "nbformat": 4,
 "nbformat_minor": 2
}
