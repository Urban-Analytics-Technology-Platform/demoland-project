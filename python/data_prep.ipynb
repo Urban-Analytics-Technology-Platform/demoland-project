{
 "cells": [
  {
   "cell_type": "markdown",
   "metadata": {},
   "source": [
    "**Performing first trials in jupyter for Tyne and Wear**"
   ]
  },
  {
   "attachments": {},
   "cell_type": "markdown",
   "metadata": {},
   "source": [
    "**1. Variables declarations**\n",
    "\n",
    "NB: to be edited depending on who runs this"
   ]
  },
  {
   "cell_type": "code",
   "execution_count": 1,
   "metadata": {},
   "outputs": [],
   "source": [
    "import pandas as pd\n",
    "import numpy as np\n",
    "import geopandas as gpd\n",
    "\n",
    "msoa_full_file = \"./../data/MSOAs_TyneWear_full.csv\"\n",
    "msoa_list_file = \"./../data/MSOAs_TyneWear.csv\"\n",
    "lad_list_file = \"./../data/LADs_TyneWear.csv\"\n",
    "\n",
    "\n",
    "house_prices_lsoa_xls_file = \"./../data/hpssadataset46medianpricepaidforresidentialpropertiesbylsoa.xls\"\n",
    "\n",
    "greenspace_file = \"./../data/gis/OS Open Greenspace (GPKG) GB/data/opgrsp_gb.gpkg\"\n",
    "\n",
    "LSOA_boundaries_file = \"./../data/gis/LSOA_(Dec_2011)_Boundaries_Super_Generalised_Clipped_(BSC)_EW_V3/\"\n",
    "MSOA_boundaries_file = \"\"\n",
    "\n",
    "output_folder = \"./../output/\""
   ]
  },
  {
   "attachments": {},
   "cell_type": "markdown",
   "metadata": {},
   "source": [
    "**2. Variables import**\n",
    "\n",
    "A. Tables import"
   ]
  },
  {
   "cell_type": "code",
   "execution_count": 2,
   "metadata": {},
   "outputs": [],
   "source": [
    "msoas_full_df = pd.read_csv(msoa_full_file)\n",
    "msoas_list_df = pd.read_csv(msoa_list_file)\n",
    "lad_list_df = pd.read_csv(lad_list_file)\n",
    "\n",
    "houseprice_excel_tab = pd.read_excel(house_prices_lsoa_xls_file,\n",
    "                                     sheet_name = \"Data\") # name of excel tab within the spreadsheet which contains our desired data\n"
   ]
  },
  {
   "attachments": {},
   "cell_type": "markdown",
   "metadata": {},
   "source": [
    "some data edits"
   ]
  },
  {
   "cell_type": "code",
   "execution_count": 3,
   "metadata": {},
   "outputs": [],
   "source": [
    "# editing the dataframe (contains empty rows and other un-necessary stuff inherited from excel)\n",
    "# a. first 4 rows are empty\n",
    "# b. 5th row contains the columns names\n",
    "\n",
    "houseprice_df_notitle = houseprice_excel_tab.iloc[4:]\n",
    "houseprice_df_notitle.columns = houseprice_df_notitle.iloc[0]\n",
    "houseprice_df = houseprice_df_notitle.iloc[1:]"
   ]
  },
  {
   "attachments": {},
   "cell_type": "markdown",
   "metadata": {},
   "source": [
    "selecting region (case: Tyne and Wear county)"
   ]
  },
  {
   "cell_type": "code",
   "execution_count": 4,
   "metadata": {},
   "outputs": [],
   "source": [
    "# NOTE: the common field between the houseprice file and regional file is the LAD list\n",
    "region_LADs_codes_list = lad_list_df[\"LAD20CD\"].to_numpy()\n",
    "\n",
    "# generating list of LSOAs code for the region\n",
    "#\n",
    "# generating list of MSOAs code for the region\n",
    "#\n",
    "\n",
    "houseprice_lsoa_region = houseprice_df[houseprice_df[\"Local authority code\"].isin(region_LADs_codes_list)]"
   ]
  },
  {
   "cell_type": "code",
   "execution_count": 6,
   "metadata": {},
   "outputs": [],
   "source": [
    "# dataframe with LSOAs code and name\n",
    "lsoas_region_list = houseprice_lsoa_region[[\"LSOA code\", \"LSOA name\"]]\n",
    "# creating the list of the region codes for indexing (filtering) purposes\n",
    "lsoas_region_codes = lsoas_region_list[\"LSOA code\"].to_numpy()"
   ]
  },
  {
   "attachments": {},
   "cell_type": "markdown",
   "metadata": {},
   "source": [
    "B. Importing geospatial data"
   ]
  },
  {
   "cell_type": "code",
   "execution_count": 7,
   "metadata": {},
   "outputs": [
    {
     "data": {
      "text/html": [
       "<div>\n",
       "<style scoped>\n",
       "    .dataframe tbody tr th:only-of-type {\n",
       "        vertical-align: middle;\n",
       "    }\n",
       "\n",
       "    .dataframe tbody tr th {\n",
       "        vertical-align: top;\n",
       "    }\n",
       "\n",
       "    .dataframe thead th {\n",
       "        text-align: right;\n",
       "    }\n",
       "</style>\n",
       "<table border=\"1\" class=\"dataframe\">\n",
       "  <thead>\n",
       "    <tr style=\"text-align: right;\">\n",
       "      <th></th>\n",
       "      <th>id</th>\n",
       "      <th>function</th>\n",
       "      <th>distinctiveName1</th>\n",
       "      <th>distinctiveName2</th>\n",
       "      <th>distinctiveName3</th>\n",
       "      <th>distinctiveName4</th>\n",
       "      <th>geometry</th>\n",
       "    </tr>\n",
       "  </thead>\n",
       "  <tbody>\n",
       "    <tr>\n",
       "      <th>0</th>\n",
       "      <td>idE56DE736-A177-13A9-E053-AAEFA00A0D0E</td>\n",
       "      <td>Cemetery</td>\n",
       "      <td>None</td>\n",
       "      <td>None</td>\n",
       "      <td>None</td>\n",
       "      <td>None</td>\n",
       "      <td>MULTIPOLYGON (((461903.000 1202925.500, 461894...</td>\n",
       "    </tr>\n",
       "    <tr>\n",
       "      <th>1</th>\n",
       "      <td>idE56DE70E-AB4D-13A9-E053-AAEFA00A0D0E</td>\n",
       "      <td>Cemetery</td>\n",
       "      <td>None</td>\n",
       "      <td>None</td>\n",
       "      <td>None</td>\n",
       "      <td>None</td>\n",
       "      <td>MULTIPOLYGON (((456682.070 1204040.270, 456711...</td>\n",
       "    </tr>\n",
       "    <tr>\n",
       "      <th>2</th>\n",
       "      <td>idE56DE70E-A916-13A9-E053-AAEFA00A0D0E</td>\n",
       "      <td>Cemetery</td>\n",
       "      <td>None</td>\n",
       "      <td>None</td>\n",
       "      <td>None</td>\n",
       "      <td>None</td>\n",
       "      <td>MULTIPOLYGON (((453155.070 1204881.760, 453160...</td>\n",
       "    </tr>\n",
       "    <tr>\n",
       "      <th>3</th>\n",
       "      <td>idE56DE70E-A769-13A9-E053-AAEFA00A0D0E</td>\n",
       "      <td>Religious Grounds</td>\n",
       "      <td>St John's Kirk</td>\n",
       "      <td>None</td>\n",
       "      <td>None</td>\n",
       "      <td>None</td>\n",
       "      <td>MULTIPOLYGON (((461466.140 1208820.310, 461489...</td>\n",
       "    </tr>\n",
       "    <tr>\n",
       "      <th>4</th>\n",
       "      <td>idE56DE6C9-C6CF-13A9-E053-AAEFA00A0D0E</td>\n",
       "      <td>Play Space</td>\n",
       "      <td>None</td>\n",
       "      <td>None</td>\n",
       "      <td>None</td>\n",
       "      <td>None</td>\n",
       "      <td>MULTIPOLYGON (((462261.310 1208879.400, 462245...</td>\n",
       "    </tr>\n",
       "  </tbody>\n",
       "</table>\n",
       "</div>"
      ],
      "text/plain": [
       "                                       id           function distinctiveName1  \\\n",
       "0  idE56DE736-A177-13A9-E053-AAEFA00A0D0E           Cemetery             None   \n",
       "1  idE56DE70E-AB4D-13A9-E053-AAEFA00A0D0E           Cemetery             None   \n",
       "2  idE56DE70E-A916-13A9-E053-AAEFA00A0D0E           Cemetery             None   \n",
       "3  idE56DE70E-A769-13A9-E053-AAEFA00A0D0E  Religious Grounds   St John's Kirk   \n",
       "4  idE56DE6C9-C6CF-13A9-E053-AAEFA00A0D0E         Play Space             None   \n",
       "\n",
       "  distinctiveName2 distinctiveName3 distinctiveName4  \\\n",
       "0             None             None             None   \n",
       "1             None             None             None   \n",
       "2             None             None             None   \n",
       "3             None             None             None   \n",
       "4             None             None             None   \n",
       "\n",
       "                                            geometry  \n",
       "0  MULTIPOLYGON (((461903.000 1202925.500, 461894...  \n",
       "1  MULTIPOLYGON (((456682.070 1204040.270, 456711...  \n",
       "2  MULTIPOLYGON (((453155.070 1204881.760, 453160...  \n",
       "3  MULTIPOLYGON (((461466.140 1208820.310, 461489...  \n",
       "4  MULTIPOLYGON (((462261.310 1208879.400, 462245...  "
      ]
     },
     "execution_count": 7,
     "metadata": {},
     "output_type": "execute_result"
    }
   ],
   "source": [
    "# importing greenspace (gpkg)\n",
    "# note, available layers are: \"GreenspaceSite\" (green areas) and \"AccessPoint\" (actual access points)\n",
    "greenspace = gpd.read_file(greenspace_file,\n",
    "                           layer = \"GreenspaceSite\")\n",
    "greenspace.head() "
   ]
  },
  {
   "cell_type": "code",
   "execution_count": 8,
   "metadata": {},
   "outputs": [
    {
     "data": {
      "text/plain": [
       "<AxesSubplot:>"
      ]
     },
     "execution_count": 8,
     "metadata": {},
     "output_type": "execute_result"
    },
    {
     "data": {
      "image/png": "[encoded data removed]",
      "text/plain": [
       "<Figure size 640x480 with 1 Axes>"
      ]
     },
     "metadata": {},
     "output_type": "display_data"
    }
   ],
   "source": [
    "greenspace.plot()"
   ]
  },
  {
   "cell_type": "code",
   "execution_count": 9,
   "metadata": {},
   "outputs": [
    {
     "data": {
      "text/html": [
       "<div>\n",
       "<style scoped>\n",
       "    .dataframe tbody tr th:only-of-type {\n",
       "        vertical-align: middle;\n",
       "    }\n",
       "\n",
       "    .dataframe tbody tr th {\n",
       "        vertical-align: top;\n",
       "    }\n",
       "\n",
       "    .dataframe thead th {\n",
       "        text-align: right;\n",
       "    }\n",
       "</style>\n",
       "<table border=\"1\" class=\"dataframe\">\n",
       "  <thead>\n",
       "    <tr style=\"text-align: right;\">\n",
       "      <th></th>\n",
       "      <th>id</th>\n",
       "      <th>accessType</th>\n",
       "      <th>refToGreenspaceSite</th>\n",
       "      <th>geometry</th>\n",
       "    </tr>\n",
       "  </thead>\n",
       "  <tbody>\n",
       "    <tr>\n",
       "      <th>0</th>\n",
       "      <td>idB91D85B1-DEE3-47D6-805A-CD6B9ACF4C4F</td>\n",
       "      <td>Pedestrian</td>\n",
       "      <td>idE56DE70E-AB4D-13A9-E053-AAEFA00A0D0E</td>\n",
       "      <td>POINT (456682.070 1204040.270)</td>\n",
       "    </tr>\n",
       "    <tr>\n",
       "      <th>1</th>\n",
       "      <td>id4A6E7947-0AFE-48E3-8D42-D4FD1EF4FDEE</td>\n",
       "      <td>Pedestrian</td>\n",
       "      <td>idE56DE70E-A916-13A9-E053-AAEFA00A0D0E</td>\n",
       "      <td>POINT (453155.070 1204881.760)</td>\n",
       "    </tr>\n",
       "    <tr>\n",
       "      <th>2</th>\n",
       "      <td>id2614EF8D-E649-4A9F-86F2-95E248B38AFB</td>\n",
       "      <td>Motor Vehicle And Pedestrian</td>\n",
       "      <td>idE56DE70E-A769-13A9-E053-AAEFA00A0D0E</td>\n",
       "      <td>POINT (461466.140 1208820.310)</td>\n",
       "    </tr>\n",
       "    <tr>\n",
       "      <th>3</th>\n",
       "      <td>idCC4DDC12-0AE9-4023-A7FE-DE064614A1DC</td>\n",
       "      <td>Pedestrian</td>\n",
       "      <td>idE56DE6C9-C6CF-13A9-E053-AAEFA00A0D0E</td>\n",
       "      <td>POINT (462261.310 1208879.400)</td>\n",
       "    </tr>\n",
       "    <tr>\n",
       "      <th>4</th>\n",
       "      <td>idB616B7A5-140F-4564-BDC0-A5AAF61E51AC</td>\n",
       "      <td>Motor Vehicle And Pedestrian</td>\n",
       "      <td>idE56DE70E-A700-13A9-E053-AAEFA00A0D0E</td>\n",
       "      <td>POINT (460892.660 1208953.160)</td>\n",
       "    </tr>\n",
       "  </tbody>\n",
       "</table>\n",
       "</div>"
      ],
      "text/plain": [
       "                                       id                    accessType  \\\n",
       "0  idB91D85B1-DEE3-47D6-805A-CD6B9ACF4C4F                    Pedestrian   \n",
       "1  id4A6E7947-0AFE-48E3-8D42-D4FD1EF4FDEE                    Pedestrian   \n",
       "2  id2614EF8D-E649-4A9F-86F2-95E248B38AFB  Motor Vehicle And Pedestrian   \n",
       "3  idCC4DDC12-0AE9-4023-A7FE-DE064614A1DC                    Pedestrian   \n",
       "4  idB616B7A5-140F-4564-BDC0-A5AAF61E51AC  Motor Vehicle And Pedestrian   \n",
       "\n",
       "                      refToGreenspaceSite                        geometry  \n",
       "0  idE56DE70E-AB4D-13A9-E053-AAEFA00A0D0E  POINT (456682.070 1204040.270)  \n",
       "1  idE56DE70E-A916-13A9-E053-AAEFA00A0D0E  POINT (453155.070 1204881.760)  \n",
       "2  idE56DE70E-A769-13A9-E053-AAEFA00A0D0E  POINT (461466.140 1208820.310)  \n",
       "3  idE56DE6C9-C6CF-13A9-E053-AAEFA00A0D0E  POINT (462261.310 1208879.400)  \n",
       "4  idE56DE70E-A700-13A9-E053-AAEFA00A0D0E  POINT (460892.660 1208953.160)  "
      ]
     },
     "execution_count": 9,
     "metadata": {},
     "output_type": "execute_result"
    }
   ],
   "source": [
    "accesspoints_gs = gpd.read_file(greenspace_file,\n",
    "                           layer = \"AccessPoint\")\n",
    "accesspoints_gs.head() "
   ]
  },
  {
   "cell_type": "code",
   "execution_count": 10,
   "metadata": {},
   "outputs": [
    {
     "data": {
      "text/plain": [
       "<AxesSubplot:>"
      ]
     },
     "execution_count": 10,
     "metadata": {},
     "output_type": "execute_result"
    },
    {
     "data": {
      "image/png": "[encoded data removed]",
      "text/plain": [
       "<Figure size 640x480 with 1 Axes>"
      ]
     },
     "metadata": {},
     "output_type": "display_data"
    }
   ],
   "source": [
    "accesspoints_gs.plot()"
   ]
  },
  {
   "cell_type": "code",
   "execution_count": 11,
   "metadata": {},
   "outputs": [
    {
     "data": {
      "text/html": [
       "<div>\n",
       "<style scoped>\n",
       "    .dataframe tbody tr th:only-of-type {\n",
       "        vertical-align: middle;\n",
       "    }\n",
       "\n",
       "    .dataframe tbody tr th {\n",
       "        vertical-align: top;\n",
       "    }\n",
       "\n",
       "    .dataframe thead th {\n",
       "        text-align: right;\n",
       "    }\n",
       "</style>\n",
       "<table border=\"1\" class=\"dataframe\">\n",
       "  <thead>\n",
       "    <tr style=\"text-align: right;\">\n",
       "      <th></th>\n",
       "      <th>OBJECTID</th>\n",
       "      <th>LSOA11CD</th>\n",
       "      <th>LSOA11NM</th>\n",
       "      <th>LSOA11NMW</th>\n",
       "      <th>BNG_E</th>\n",
       "      <th>BNG_N</th>\n",
       "      <th>LONG</th>\n",
       "      <th>LAT</th>\n",
       "      <th>Shape__Are</th>\n",
       "      <th>Shape__Len</th>\n",
       "      <th>GlobalID</th>\n",
       "      <th>geometry</th>\n",
       "    </tr>\n",
       "  </thead>\n",
       "  <tbody>\n",
       "    <tr>\n",
       "      <th>0</th>\n",
       "      <td>1</td>\n",
       "      <td>E01000001</td>\n",
       "      <td>City of London 001A</td>\n",
       "      <td>City of London 001A</td>\n",
       "      <td>532129</td>\n",
       "      <td>181625</td>\n",
       "      <td>-0.097060</td>\n",
       "      <td>51.51810</td>\n",
       "      <td>157794.481079</td>\n",
       "      <td>1685.391778</td>\n",
       "      <td>b12173a3-5423-4672-a5eb-f152d2345f96</td>\n",
       "      <td>POLYGON ((532282.629 181906.496, 532248.250 18...</td>\n",
       "    </tr>\n",
       "    <tr>\n",
       "      <th>1</th>\n",
       "      <td>2</td>\n",
       "      <td>E01000002</td>\n",
       "      <td>City of London 001B</td>\n",
       "      <td>City of London 001B</td>\n",
       "      <td>532480</td>\n",
       "      <td>181699</td>\n",
       "      <td>-0.091970</td>\n",
       "      <td>51.51868</td>\n",
       "      <td>164882.427628</td>\n",
       "      <td>1804.828196</td>\n",
       "      <td>90274dc4-f785-4afb-95cd-7cc1fc9a2cad</td>\n",
       "      <td>POLYGON ((532746.814 181786.892, 532248.250 18...</td>\n",
       "    </tr>\n",
       "    <tr>\n",
       "      <th>2</th>\n",
       "      <td>3</td>\n",
       "      <td>E01000003</td>\n",
       "      <td>City of London 001C</td>\n",
       "      <td>City of London 001C</td>\n",
       "      <td>532245</td>\n",
       "      <td>182036</td>\n",
       "      <td>-0.095230</td>\n",
       "      <td>51.52176</td>\n",
       "      <td>42219.805717</td>\n",
       "      <td>909.223277</td>\n",
       "      <td>7e89d0ba-f186-45fb-961c-8f5ffcd03808</td>\n",
       "      <td>POLYGON ((532293.068 182068.422, 532419.592 18...</td>\n",
       "    </tr>\n",
       "    <tr>\n",
       "      <th>3</th>\n",
       "      <td>4</td>\n",
       "      <td>E01000005</td>\n",
       "      <td>City of London 001E</td>\n",
       "      <td>City of London 001E</td>\n",
       "      <td>533581</td>\n",
       "      <td>181265</td>\n",
       "      <td>-0.076280</td>\n",
       "      <td>51.51452</td>\n",
       "      <td>212682.404259</td>\n",
       "      <td>2028.654904</td>\n",
       "      <td>a14c307a-874c-4862-828a-3b1486cc21ea</td>\n",
       "      <td>POLYGON ((533604.245 181418.129, 533743.689 18...</td>\n",
       "    </tr>\n",
       "    <tr>\n",
       "      <th>4</th>\n",
       "      <td>5</td>\n",
       "      <td>E01000006</td>\n",
       "      <td>Barking and Dagenham 016A</td>\n",
       "      <td>Barking and Dagenham 016A</td>\n",
       "      <td>544994</td>\n",
       "      <td>184276</td>\n",
       "      <td>0.089318</td>\n",
       "      <td>51.53876</td>\n",
       "      <td>130551.387161</td>\n",
       "      <td>1716.896118</td>\n",
       "      <td>65121a2d-3d2b-4935-9712-690f2993cfd2</td>\n",
       "      <td>POLYGON ((545271.918 184183.948, 545296.314 18...</td>\n",
       "    </tr>\n",
       "  </tbody>\n",
       "</table>\n",
       "</div>"
      ],
      "text/plain": [
       "   OBJECTID   LSOA11CD                   LSOA11NM                  LSOA11NMW  \\\n",
       "0         1  E01000001        City of London 001A        City of London 001A   \n",
       "1         2  E01000002        City of London 001B        City of London 001B   \n",
       "2         3  E01000003        City of London 001C        City of London 001C   \n",
       "3         4  E01000005        City of London 001E        City of London 001E   \n",
       "4         5  E01000006  Barking and Dagenham 016A  Barking and Dagenham 016A   \n",
       "\n",
       "    BNG_E   BNG_N      LONG       LAT     Shape__Are   Shape__Len  \\\n",
       "0  532129  181625 -0.097060  51.51810  157794.481079  1685.391778   \n",
       "1  532480  181699 -0.091970  51.51868  164882.427628  1804.828196   \n",
       "2  532245  182036 -0.095230  51.52176   42219.805717   909.223277   \n",
       "3  533581  181265 -0.076280  51.51452  212682.404259  2028.654904   \n",
       "4  544994  184276  0.089318  51.53876  130551.387161  1716.896118   \n",
       "\n",
       "                               GlobalID  \\\n",
       "0  b12173a3-5423-4672-a5eb-f152d2345f96   \n",
       "1  90274dc4-f785-4afb-95cd-7cc1fc9a2cad   \n",
       "2  7e89d0ba-f186-45fb-961c-8f5ffcd03808   \n",
       "3  a14c307a-874c-4862-828a-3b1486cc21ea   \n",
       "4  65121a2d-3d2b-4935-9712-690f2993cfd2   \n",
       "\n",
       "                                            geometry  \n",
       "0  POLYGON ((532282.629 181906.496, 532248.250 18...  \n",
       "1  POLYGON ((532746.814 181786.892, 532248.250 18...  \n",
       "2  POLYGON ((532293.068 182068.422, 532419.592 18...  \n",
       "3  POLYGON ((533604.245 181418.129, 533743.689 18...  \n",
       "4  POLYGON ((545271.918 184183.948, 545296.314 18...  "
      ]
     },
     "execution_count": 11,
     "metadata": {},
     "output_type": "execute_result"
    }
   ],
   "source": [
    "# importing LSOA admin boundaries (shp or json)\n",
    "lsoas_shp = gpd.read_file(LSOA_boundaries_file)\n",
    "lsoas_shp.head()"
   ]
  },
  {
   "cell_type": "code",
   "execution_count": 17,
   "metadata": {},
   "outputs": [],
   "source": [
    "# selecting LSOAs from Tyne and Wear\n",
    "lsoas_shp_region = lsoas_shp.query('LSOA11CD in @lsoas_region_codes')"
   ]
  },
  {
   "cell_type": "code",
   "execution_count": null,
   "metadata": {},
   "outputs": [],
   "source": [
    "lsoas_shp_region.plot()"
   ]
  },
  {
   "attachments": {},
   "cell_type": "markdown",
   "metadata": {},
   "source": [
    "**3. Data analysis**\n",
    "\n",
    "Associating data to geospatial data (or viceversa, adding geography to data)"
   ]
  },
  {
   "cell_type": "code",
   "execution_count": null,
   "metadata": {},
   "outputs": [],
   "source": []
  }
 ],
 "metadata": {
  "kernelspec": {
   "display_name": "Python 3.7.12 ('demoland')",
   "language": "python",
   "name": "python3"
  },
  "language_info": {
   "codemirror_mode": {
    "name": "ipython",
    "version": 3
   },
   "file_extension": ".py",
   "mimetype": "text/x-python",
   "name": "python",
   "nbconvert_exporter": "python",
   "pygments_lexer": "ipython3",
   "version": "3.7.15"
  },
  "orig_nbformat": 4,
  "vscode": {
   "interpreter": {
    "hash": "abd0bad1cec8154e0c5d43583ba40638890964ce6774a618f4cd1a9cb8667793"
   }
  }
 },
 "nbformat": 4,
 "nbformat_minor": 2
}
