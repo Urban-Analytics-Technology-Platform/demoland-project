{
 "cells": [
  {
   "attachments": {},
   "cell_type": "markdown",
   "metadata": {},
   "source": [
    "# Comprehensive accessibility script"
   ]
  },
  {
   "attachments": {},
   "cell_type": "markdown",
   "metadata": {},
   "source": [
    "## 0. Variables definition and data import"
   ]
  },
  {
   "cell_type": "code",
   "execution_count": null,
   "metadata": {},
   "outputs": [],
   "source": [
    "# definitions\n",
    "import sys\n",
    "import numpy as np\n",
    "import pandas as pd\n",
    "import geopandas as gpd\n",
    "import datetime as dt\n",
    "import tracc\n",
    "from r5py import TransportNetwork, TravelTimeMatrixComputer, TransitMode, LegMode\n",
    "from datetime import datetime,date,timedelta\n",
    "import matplotlib.pyplot as plt\n",
    "sys.argv.append([\"--max-memory\", \"8G\"])\n",
    "\n",
    "\n",
    "data_folder = \"/Users/azanchetta/OneDrive - The Alan Turing Institute/demoland_data\"\n",
    "\n",
    "\n",
    "# regional level files: (require previous editing)\n",
    "oas_centroids_file = f\"{data_folder}/processed/OA_centroids_TyneWear.gpkg\" # used for population origin\n",
    "oas_file = f\"{data_folder}/processed/authorities/OA_TyneWear.gpkg\" # needed for visualisation purposes\n",
    "region_lads_file = f\"{data_folder}/processed/authorities/LADs_tynewear.shp\" # needed in order to filter greenspace data within the regional boundaries\n",
    "workingplacezones_centroids_file = f\"{data_folder}/processed/authorities/WPZ_centroids_tynewear.gpkg\"\n",
    "\n",
    "# national level files\n",
    "greenspace_file = f\"{data_folder}/raw/accessibility/OS Open Greenspace (GPKG) GB/data/opgrsp_gb.gpkg\"\n",
    "osm_data_file = f\"{data_folder}/raw/accessibility/tyne-and-wear-latest.osm.pbf\"\n",
    "gtfs_data_file = f\"{data_folder}/raw/accessibility/itm_north_east_gtfs.zip\""
   ]
  },
  {
   "cell_type": "code",
   "execution_count": null,
   "metadata": {},
   "outputs": [],
   "source": [
    "# import\n",
    "\n",
    "# origins (IE output areas, OAs)\n",
    "oas_centroids = gpd.read_file(oas_centroids_file,\n",
    "                              layer=\"OA_centroids_TyneWear\")\n",
    "oas_centroids['id'] = oas_centroids['OA11CD'] # Origin dataset must contain an 'id' column\n",
    "oas_centroids_wgs84 = oas_centroids.to_crs(\"epsg:4326\")\n",
    "oas_centroids.head()\n",
    "\n",
    "# destination data\n",
    "# green space sites' entrances\n",
    "gs_entrances = gpd.read_file(greenspace_file,\n",
    "                        layer = \"AccessPoint\")\n",
    "\n",
    "gs_entrances.head()\n",
    "# WPZ centroids\n",
    "wpz_centroids = gpd.read_file(workingplacezones_centroids_file,\n",
    "                              layer = \"WPZ_centroids_tynewear\")\n",
    "wpz_centroids.head()\n",
    "wpz_centroids['id'] = wpz_centroids['wz11cd'] # Destination dataset must contain an 'id' column\n",
    "\n",
    "# network data\n",
    "# uploaded in the sequent operation"
   ]
  },
  {
   "attachments": {},
   "cell_type": "markdown",
   "metadata": {},
   "source": [
    "### CRS conversion"
   ]
  },
  {
   "cell_type": "code",
   "execution_count": null,
   "metadata": {},
   "outputs": [],
   "source": [
    "# # do for each layer\n",
    "# origins.head()\n",
    "# origins.crs #epsg:27700\n",
    "# origins = origins.to_crs(\"epsg:4326\")\n",
    "# origins.crs"
   ]
  },
  {
   "attachments": {},
   "cell_type": "markdown",
   "metadata": {},
   "source": [
    "### Origins and destinations"
   ]
  },
  {
   "cell_type": "code",
   "execution_count": null,
   "metadata": {},
   "outputs": [],
   "source": [
    "# origins:\n",
    "# OAs\n",
    "# destinations\n",
    "# gs: entrances + oas centroids\n",
    "# jobs: wpz centroids + oas centroids"
   ]
  },
  {
   "attachments": {},
   "cell_type": "markdown",
   "metadata": {},
   "source": [
    "## 1. Travel time matrix computation"
   ]
  },
  {
   "attachments": {},
   "cell_type": "markdown",
   "metadata": {},
   "source": [
    "### Generate the transport network\n",
    "\n",
    "Compute the network starting from OSM and GTFS data"
   ]
  },
  {
   "cell_type": "code",
   "execution_count": null,
   "metadata": {},
   "outputs": [],
   "source": [
    "# load in transport network\n",
    "transport_network = TransportNetwork(\n",
    "    osm_data_file,\n",
    "    [\n",
    "        gtfs_data_file\n",
    "    ]\n",
    ")"
   ]
  },
  {
   "attachments": {},
   "cell_type": "markdown",
   "metadata": {},
   "source": [
    "### Create an empty matrix that contains all origins and destinations to be used later on\n",
    "\n",
    "This table will be filled up once we calculate the ttm"
   ]
  },
  {
   "cell_type": "code",
   "execution_count": null,
   "metadata": {},
   "outputs": [],
   "source": [
    "# destinations\n",
    "# gs: entrances + oas centroids\n",
    "# jobs: wpz centroids + oas centroids\n",
    "\n",
    "from itertools import product\n",
    "# generate dataframe with all from_id and all to_id pairs\n",
    "prod = product(origins['id'].unique(),\n",
    "               destinations['id'].unique())\n",
    "empty_ttm = pd.DataFrame(prod)\n",
    "empty_ttm.columns = ['from_id', 'to_id']\n",
    "empty_ttm.head()"
   ]
  },
  {
   "attachments": {},
   "cell_type": "markdown",
   "metadata": {},
   "source": [
    "### Travel time matrix\n",
    "\n",
    "The following piece of code is split in 2:\n",
    "- first part is definition of variables that will be inputted as parameters in the ttm computation\n",
    "- second part is the loop to generate ttm for several transport modes"
   ]
  },
  {
   "cell_type": "code",
   "execution_count": null,
   "metadata": {},
   "outputs": [],
   "source": [
    "# defining variables\n",
    "date_time = '2023,01,19,9,30' # CHOOSE BEST DATE/TIME\n",
    "max_time = dt.timedelta(seconds=900) # SET TO 15 MIN\n",
    "walking_speed = 4.8\n",
    "cycling_speed = 16\n",
    "# dataframe to match legmode and transitmode objects (to be inputted in the ttm computer):\n",
    "modes_lut = pd.DataFrame([\n",
    "                          ['transit', TransitMode.TRANSIT, LegMode.WALK],\n",
    "                          ['car', '', LegMode.CAR],\n",
    "                          ['bicycle', '', LegMode.BICYCLE],\n",
    "                          ['walk','', LegMode.WALK],\n",
    "                         ],\n",
    "                         columns = ('Mode', 'Transit_mode', 'Leg_mode'))\n",
    "\n",
    "# function to generate custom list of transit+transport mode for the parameter transport_modes in TravelTimeMatrixComputer\n",
    "def list_making(s,z):\n",
    "    return [s] + [z]\n",
    "\n",
    "ttm_complete = empty_ttm\n",
    "\n",
    "# loop to compute a ttm for all the modes and generate one single ttm table in output\n",
    "for row in modes_lut.itertuples():\n",
    "    start_time = dt.datetime.now()\n",
    "    mode = row.Mode\n",
    "    transit_mode = row.Transit_mode\n",
    "    leg_mode = row.Leg_mode\n",
    "    transport_mode = list_making(transit_mode,leg_mode) # creating list of objects for transport_modes parameter\n",
    "\n",
    "    print('The current mode is:', mode, ', transit is:', transit_mode, ', transport var is:', transport_mode)\n",
    "    ttm_computer = TravelTimeMatrixComputer(\n",
    "        transport_network,\n",
    "        origins = origins,\n",
    "        destinations = destinations,\n",
    "        departure = dt.datetime.strptime(date_time, '%Y,%m,%d,%H,%M'),\n",
    "        max_time = max_time\n",
    "        speed_walking = walking_speed,\n",
    "        speed_cycling = cycling_speed,\n",
    "        transport_modes = transport_mode\n",
    "    )\n",
    "\n",
    "    ttm = ttm_computer.compute_travel_times()\n",
    "    ttm = ttm.rename(columns = {'travel_time':f'time_{mode}'}) # renaming 'travel_time' column (automatically generated) to 'time_{mode of transport}'\n",
    "    ttm.isna().sum() # checking for empty values, to see if the ttm actually calculated something\n",
    "    #  merging the empty table generated before (with all possible origins and destinations) with the ttm, per each mode adding a travel time column\n",
    "    ttm_complete = ttm_complete.merge(ttm,\n",
    "                    how ='outer',\n",
    "                    left_on = ['from_id','to_id'],\n",
    "                    right_on = ['from_id','to_id'])\n",
    "    \n",
    "    print('finished calculating ttm for mode', mode)\n",
    "    end_time = datetime.now()\n",
    "    print('Duration for', mode, ': {}'.format(end_time - start_time))"
   ]
  },
  {
   "attachments": {},
   "cell_type": "markdown",
   "metadata": {},
   "source": [
    "## 2. Accessibility calculation\n",
    "\n",
    "Using [jamaps/tracc](https://github.com/jamaps/tracc) package"
   ]
  },
  {
   "attachments": {},
   "cell_type": "markdown",
   "metadata": {},
   "source": [
    "## Accessibility to jobs"
   ]
  },
  {
   "cell_type": "code",
   "execution_count": 1,
   "metadata": {},
   "outputs": [
    {
     "ename": "SyntaxError",
     "evalue": "invalid syntax (1018096844.py, line 4)",
     "output_type": "error",
     "traceback": [
      "\u001b[0;36m  Cell \u001b[0;32mIn[1], line 4\u001b[0;36m\u001b[0m\n\u001b[0;31m    --------------\u001b[0m\n\u001b[0m                  ^\u001b[0m\n\u001b[0;31mSyntaxError\u001b[0m\u001b[0;31m:\u001b[0m invalid syntax\n"
     ]
    }
   ],
   "source": [
    "ttm_jobs_tracc = tracc.costs(ttm_complete)\n",
    "\n",
    "\n",
    "# --------------\n",
    "# EDIT TO WORK ON ALL MODES\n",
    "# ---------------\n",
    "\n",
    "# Computing impedance function based on a 15 minute travel time threshold.\n",
    "ttm_jobs_tracc.impedence_calc(\n",
    "    cost_column = \"travel_time\",\n",
    "    impedence_func = \"cumulative\",\n",
    "    impedence_func_params = 15, # to calculate n of jobs in 15 min\n",
    "    output_col_name = \"cum_15\",\n",
    "    prune_output = False\n",
    ")\n",
    "\n",
    "# Setting up the accessibility object. This includes joining the destination data to the travel time data\n",
    "acc_jobs= tracc.accessibility(\n",
    "        travelcosts_df = df_tracc.data,\n",
    "        supply_df = jobs_per_wpz,\n",
    "        travelcosts_ids = [\"from_id\",\"to_id\"],\n",
    "        supply_ids = \"wpz11cd\" # edit?\n",
    "    )\n",
    "acc_jobs.data.head()\n",
    "\n",
    "# Measuring potential accessibility to jobs, using a 45 minute cumulative impedance function\n",
    "acc_pot_jobs = acc_jobs.potential(\n",
    "        opportunity = \"pop\",\n",
    "        impedence = \"cum_15\"\n",
    "        )\n"
   ]
  },
  {
   "attachments": {},
   "cell_type": "markdown",
   "metadata": {},
   "source": [
    "## Accessibility to greenspace"
   ]
  }
 ],
 "metadata": {
  "kernelspec": {
   "display_name": "demoland_r5",
   "language": "python",
   "name": "python3"
  },
  "language_info": {
   "codemirror_mode": {
    "name": "ipython",
    "version": 3
   },
   "file_extension": ".py",
   "mimetype": "text/x-python",
   "name": "python",
   "nbconvert_exporter": "python",
   "pygments_lexer": "ipython3",
   "version": "3.9.16"
  },
  "orig_nbformat": 4
 },
 "nbformat": 4,
 "nbformat_minor": 2
}
