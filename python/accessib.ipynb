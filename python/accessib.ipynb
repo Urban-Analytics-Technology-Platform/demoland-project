{
 "cells": [
  {
   "attachments": {},
   "cell_type": "markdown",
   "metadata": {},
   "source": [
    "**Accessibility and playing around**\n",
    "Inspiration for this code comes from:\n",
    "\n",
    "- Rafa Pereira [github page]()\n",
    "- `tracc` [Python library](https://github.com/jamaps/tracc) quoted from the above\n",
    "\n",
    "UH! I found a notebook project that does it, let's see if useful:\n",
    "https://github.com/jamaps/tracc/blob/master/examples/basic_accessibility_example.ipynb"
   ]
  },
  {
   "cell_type": "code",
   "execution_count": null,
   "metadata": {},
   "outputs": [],
   "source": []
  }
 ],
 "metadata": {
  "kernelspec": {
   "display_name": "Python 3",
   "language": "python",
   "name": "python3"
  },
  "language_info": {
   "name": "python",
   "version": "3.9.6 (default, Jun 29 2021, 06:20:32) \n[Clang 12.0.0 (clang-1200.0.32.29)]"
  },
  "orig_nbformat": 4,
  "vscode": {
   "interpreter": {
    "hash": "aee8b7b246df8f9039afb4144a1f6fd8d2ca17a180786b69acc140d282b71a49"
   }
  }
 },
 "nbformat": 4,
 "nbformat_minor": 2
}
