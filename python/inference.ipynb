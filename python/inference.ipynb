{
 "cells": [
  {
   "cell_type": "markdown",
   "id": "b1f030dd-69f6-4bfa-bab0-bff06e519db6",
   "metadata": {},
   "source": [
    "# Air quality and house price model inference\n",
    "\n",
    "Wrap into a custom class dealing with the lag computation."
   ]
  },
  {
   "cell_type": "code",
   "execution_count": 1,
   "id": "69babb66-46ea-4994-9147-b11ce4729435",
   "metadata": {
    "tags": []
   },
   "outputs": [
    {
     "name": "stderr",
     "output_type": "stream",
     "text": [
      "/var/folders/2f/fhks6w_d0k556plcv3rfmshw0000gn/T/ipykernel_50799/2889256711.py:2: UserWarning: Shapely 2.0 is installed, but because PyGEOS is also installed, GeoPandas will still use PyGEOS by default for now. To force to use and test Shapely 2.0, you have to set the environment variable USE_PYGEOS=0. You can do this before starting the Python process, or in your code before importing geopandas:\n",
      "\n",
      "import os\n",
      "os.environ['USE_PYGEOS'] = '0'\n",
      "import geopandas\n",
      "\n",
      "In a future release, GeoPandas will switch to using Shapely by default. If you are using PyGEOS directly (calling PyGEOS functions on geometries from GeoPandas), this will then stop working and you are encouraged to migrate from PyGEOS to Shapely 2.0 (https://shapely.readthedocs.io/en/latest/migration_pygeos.html).\n",
      "  import geopandas as gpd\n"
     ]
    }
   ],
   "source": [
    "import pickle\n",
    "import geopandas as gpd\n",
    "import libpysal\n",
    "\n",
    "from indicators import Model"
   ]
  },
  {
   "cell_type": "code",
   "execution_count": 2,
   "id": "dd38af76-aabc-48f4-a4f8-109355e3d23b",
   "metadata": {
    "tags": []
   },
   "outputs": [],
   "source": [
    "data_folder = \"/Users/martin/Library/CloudStorage/OneDrive-SharedLibraries-TheAlanTuringInstitute/Daniel Arribas-Bel - demoland_data\""
   ]
  },
  {
   "cell_type": "markdown",
   "id": "36caf3a1-cfa1-4bc9-ba17-5f1a52adcaaf",
   "metadata": {},
   "source": [
    "Load the data"
   ]
  },
  {
   "cell_type": "code",
   "execution_count": 3,
   "id": "d7092a1b-8c51-488f-bdaf-b01cab6638fd",
   "metadata": {
    "tags": []
   },
   "outputs": [],
   "source": [
    "data = gpd.read_parquet(f\"{data_folder}/processed/interpolated/all_oa.parquet\")"
   ]
  },
  {
   "cell_type": "markdown",
   "id": "9ea46f7f-47f4-4f09-876f-d11b998702a1",
   "metadata": {},
   "source": [
    "Filter only explanatory variables."
   ]
  },
  {
   "cell_type": "code",
   "execution_count": 4,
   "id": "7933d0fd-f8f0-456a-b106-f47b06bd954a",
   "metadata": {
    "tags": []
   },
   "outputs": [],
   "source": [
    "exvars = data.drop(\n",
    "    columns=[\n",
    "        \"geo_code\",\n",
    "        \"geometry\",\n",
    "        \"air_quality_index\",\n",
    "        \"house_price_index\",\n",
    "        \"jobs_accessibility_index\",\n",
    "        \"greenspace_accessibility_index\",\n",
    "    ]\n",
    ")"
   ]
  },
  {
   "cell_type": "markdown",
   "id": "bfcb9b5a-2e77-498e-9b73-d8be73d6eea2",
   "metadata": {},
   "source": [
    "## Air quality\n",
    "\n",
    "Load the sklearn model"
   ]
  },
  {
   "cell_type": "code",
   "execution_count": 5,
   "id": "a24b9c23-bb56-4ef1-b615-8647ec8d07b5",
   "metadata": {
    "tags": []
   },
   "outputs": [],
   "source": [
    "with open(f\"{data_folder}/models/air_quality_model.pickle\", \"rb\") as f:\n",
    "    air_quality = pickle.load(f)"
   ]
  },
  {
   "cell_type": "markdown",
   "id": "61458798-ce6f-4508-acc5-57b8d435bf2e",
   "metadata": {},
   "source": [
    "Create spatial weights"
   ]
  },
  {
   "cell_type": "code",
   "execution_count": 6,
   "id": "9f2b9086-ebb3-4d37-98b0-4e9cbec407a7",
   "metadata": {
    "tags": []
   },
   "outputs": [
    {
     "name": "stderr",
     "output_type": "stream",
     "text": [
      "/Users/martin/mambaforge/envs/demoland/lib/python3.11/site-packages/libpysal/weights/weights.py:172: UserWarning: The weights matrix is not fully connected: \n",
      " There are 3 disconnected components.\n",
      "  warnings.warn(message)\n"
     ]
    }
   ],
   "source": [
    "queen = libpysal.weights.Queen.from_dataframe(data)\n",
    "_2k = libpysal.weights.DistanceBand.from_dataframe(data, 2000)\n",
    "W = libpysal.weights.w_union(queen, _2k)\n",
    "W.transform = \"r\""
   ]
  },
  {
   "cell_type": "markdown",
   "id": "a736cee6-6d4b-4460-ab17-12a91d8bd467",
   "metadata": {},
   "source": [
    "Create object."
   ]
  },
  {
   "cell_type": "code",
   "execution_count": 7,
   "id": "3f83bf03-db62-4b23-b8a4-a1bfbfbce2ec",
   "metadata": {
    "tags": []
   },
   "outputs": [],
   "source": [
    "aqm = Model(W, air_quality)"
   ]
  },
  {
   "cell_type": "markdown",
   "id": "170e3464-798d-4796-9f45-68e037df5514",
   "metadata": {},
   "source": [
    "Save the custom predictor class to a pickle."
   ]
  },
  {
   "cell_type": "code",
   "execution_count": 8,
   "id": "49268eb7-faaa-44cc-af70-42db688dfc4b",
   "metadata": {
    "tags": []
   },
   "outputs": [],
   "source": [
    "with open(f\"{data_folder}/models/air_quality_predictor.pickle\", \"wb\") as f:\n",
    "    pickle.dump(aqm, f)"
   ]
  },
  {
   "attachments": {},
   "cell_type": "markdown",
   "id": "d8b38e80",
   "metadata": {},
   "source": [
    "### England-wide model\n",
    "\n",
    "Load the sklearn model"
   ]
  },
  {
   "cell_type": "code",
   "execution_count": 6,
   "id": "e8c00cac",
   "metadata": {},
   "outputs": [],
   "source": [
    "with open(f\"{data_folder}/models/air_quality_model_gb.pickle\", \"rb\") as f:\n",
    "    air_quality = pickle.load(f)"
   ]
  },
  {
   "cell_type": "markdown",
   "id": "5865c838",
   "metadata": {},
   "source": [
    "Create spatial weights"
   ]
  },
  {
   "cell_type": "code",
   "execution_count": 7,
   "id": "c1acc015",
   "metadata": {},
   "outputs": [
    {
     "name": "stderr",
     "output_type": "stream",
     "text": [
      "/Users/martin/mambaforge/envs/demoland/lib/python3.11/site-packages/libpysal/weights/weights.py:172: UserWarning: The weights matrix is not fully connected: \n",
      " There are 3 disconnected components.\n",
      "  warnings.warn(message)\n"
     ]
    }
   ],
   "source": [
    "queen = libpysal.weights.Queen.from_dataframe(data)\n",
    "W = libpysal.weights.higher_order(queen, k=5, lower_order=True, silence_warnings=True)\n",
    "W.transform = \"r\""
   ]
  },
  {
   "cell_type": "markdown",
   "id": "169d29c0",
   "metadata": {},
   "source": [
    "Create object."
   ]
  },
  {
   "cell_type": "code",
   "execution_count": 8,
   "id": "b74c6930",
   "metadata": {},
   "outputs": [],
   "source": [
    "aqm = Model(W, air_quality)"
   ]
  },
  {
   "cell_type": "markdown",
   "id": "8f744f46",
   "metadata": {},
   "source": [
    "Save the custom predictor class to a pickle."
   ]
  },
  {
   "cell_type": "code",
   "execution_count": 9,
   "id": "11dadec0",
   "metadata": {},
   "outputs": [],
   "source": [
    "with open(f\"{data_folder}/models/air_quality_predictor_gb.pickle\", \"wb\") as f:\n",
    "    pickle.dump(aqm, f)"
   ]
  },
  {
   "cell_type": "markdown",
   "id": "664573f3-ac9f-4e31-af88-8b06e4860ec5",
   "metadata": {},
   "source": [
    "## House price\n",
    "\n",
    "Load the sklearn model"
   ]
  },
  {
   "cell_type": "code",
   "execution_count": 9,
   "id": "7d879ba3-0b92-4aea-a7b5-89c90de6b126",
   "metadata": {
    "tags": []
   },
   "outputs": [],
   "source": [
    "with open(f\"{data_folder}/models/house_price_model.pickle\", \"rb\") as f:\n",
    "    house_price = pickle.load(f)"
   ]
  },
  {
   "cell_type": "markdown",
   "id": "59ea4fe9-f8d4-47d4-9996-ec4a9730e3be",
   "metadata": {},
   "source": [
    "Create spatial weights"
   ]
  },
  {
   "cell_type": "code",
   "execution_count": 10,
   "id": "25e51a48-b9e6-455b-be46-b43b7363cd0e",
   "metadata": {
    "tags": []
   },
   "outputs": [],
   "source": [
    "q5 = libpysal.weights.higher_order(queen, k=5, lower_order=True)\n",
    "q5.transform = \"r\""
   ]
  },
  {
   "cell_type": "markdown",
   "id": "38f397df-1b3c-45ca-8142-105f875854f7",
   "metadata": {},
   "source": [
    "Create a wrapper class computing the lag."
   ]
  },
  {
   "cell_type": "code",
   "execution_count": 11,
   "id": "0deaca71-abf2-42b0-848e-4ca8dc992b96",
   "metadata": {
    "tags": []
   },
   "outputs": [],
   "source": [
    "hpm = Model(q5, house_price)"
   ]
  },
  {
   "cell_type": "markdown",
   "id": "4897c8f0-eca5-4658-b52d-ecf87baafbb0",
   "metadata": {},
   "source": [
    "Save the custom predictor class to a pickle."
   ]
  },
  {
   "cell_type": "code",
   "execution_count": 12,
   "id": "20f54d21-1c9a-4daf-83be-4dd5959c4f5b",
   "metadata": {
    "tags": []
   },
   "outputs": [],
   "source": [
    "with open(f\"{data_folder}/models/house_price_predictor.pickle\", \"wb\") as f:\n",
    "    pickle.dump(hpm, f)"
   ]
  },
  {
   "attachments": {},
   "cell_type": "markdown",
   "id": "662c974d",
   "metadata": {},
   "source": [
    "### England-wide model\n",
    "\n",
    "Load the sklearn model"
   ]
  },
  {
   "cell_type": "code",
   "execution_count": 10,
   "id": "1d9142a4",
   "metadata": {},
   "outputs": [],
   "source": [
    "with open(f\"{data_folder}/models/house_price_model_gb.pickle\", \"rb\") as f:\n",
    "    house_price = pickle.load(f)"
   ]
  },
  {
   "cell_type": "markdown",
   "id": "07cea2fb",
   "metadata": {},
   "source": [
    "Create a wrapper class computing the lag."
   ]
  },
  {
   "cell_type": "code",
   "execution_count": 11,
   "id": "010bba86",
   "metadata": {},
   "outputs": [],
   "source": [
    "hpm = Model(W, house_price)"
   ]
  },
  {
   "cell_type": "markdown",
   "id": "4303d8a7",
   "metadata": {},
   "source": [
    "Save the custom predictor class to a pickle."
   ]
  },
  {
   "cell_type": "code",
   "execution_count": 12,
   "id": "dc29b848",
   "metadata": {},
   "outputs": [],
   "source": [
    "with open(f\"{data_folder}/models/house_price_predictor_gb.pickle\", \"wb\") as f:\n",
    "    pickle.dump(hpm, f)"
   ]
  },
  {
   "cell_type": "markdown",
   "id": "395ae940-56b2-42a1-bd57-0d59e91d7d04",
   "metadata": {},
   "source": [
    "## Using the class for prediction\n",
    "\n",
    "To use the class for prediction, load the pickle and call `predict` on a data frame with explanatory variables (either default or reflecting a scenario)."
   ]
  },
  {
   "cell_type": "code",
   "execution_count": 5,
   "id": "92dfa9a7-838a-48c4-b927-74422b22db90",
   "metadata": {
    "tags": []
   },
   "outputs": [],
   "source": [
    "with open(f\"{data_folder}/models/air_quality_predictor.pickle\", \"rb\") as f:\n",
    "    aqm2 = pickle.load(f)"
   ]
  },
  {
   "cell_type": "code",
   "execution_count": 6,
   "id": "7d3b42c1-8143-47b7-9a3f-059c10607037",
   "metadata": {
    "tags": []
   },
   "outputs": [
    {
     "data": {
      "text/plain": [
       "array([17.19278662, 16.43954378, 17.48423016, ..., 16.7559517 ,\n",
       "       12.60627689, 17.31309272])"
      ]
     },
     "execution_count": 6,
     "metadata": {},
     "output_type": "execute_result"
    }
   ],
   "source": [
    "aqm2.predict(exvars)"
   ]
  },
  {
   "cell_type": "markdown",
   "id": "26ca45a0-9848-459c-986e-99902d4e34ee",
   "metadata": {},
   "source": [
    "Exactly the same would it be for the house price model."
   ]
  }
 ],
 "metadata": {
  "kernelspec": {
   "display_name": "Python 3 (ipykernel)",
   "language": "python",
   "name": "python3"
  },
  "language_info": {
   "codemirror_mode": {
    "name": "ipython",
    "version": 3
   },
   "file_extension": ".py",
   "mimetype": "text/x-python",
   "name": "python",
   "nbconvert_exporter": "python",
   "pygments_lexer": "ipython3",
   "version": "3.11.0"
  }
 },
 "nbformat": 4,
 "nbformat_minor": 5
}
