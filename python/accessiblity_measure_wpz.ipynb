{
 "cells": [
  {
   "attachments": {},
   "cell_type": "markdown",
   "metadata": {},
   "source": [
    "This script originates from `accessb_r5py.ipynb` and is a first try to generate a methodology to build accessibility indicators in a comprehensive way.\n",
    "\n",
    "When the methodology is robust, this script will probably be split in two, one for green spaces and one for jobs accessibility."
   ]
  },
  {
   "attachments": {},
   "cell_type": "markdown",
   "metadata": {},
   "source": [
    "1. Variables definition"
   ]
  },
  {
   "cell_type": "code",
   "execution_count": 17,
   "metadata": {},
   "outputs": [],
   "source": [
    "import sys\n",
    "import numpy as np\n",
    "import pandas as pd\n",
    "import geopandas as gpd\n",
    "import datetime\n",
    "import tracc\n",
    "from r5py import TransportNetwork, TravelTimeMatrixComputer, TransitMode, LegMode\n",
    "import matplotlib.pyplot as plt\n",
    "sys.argv.append([\"--max-memory\", \"8G\"])\n",
    "\n",
    "\n",
    "data_folder = \"/Users/azanchetta/OneDrive - The Alan Turing Institute/demoland_data\"\n",
    "\n",
    "\n",
    "# regional level files: (require previous editing)\n",
    "# spatial:\n",
    "oas_centroids_file = f\"{data_folder}/processed/OA_centroids_TyneWear.gpkg\" # used for population origin\n",
    "oas_file = f\"{data_folder}/processed/authorities/OA_TyneWear.gpkg\" # needed for visualisation purposes\n",
    "lsoas_centroids_file = f\"{data_folder}/processed/authorities/tynewear_lsoas_centroids_wgs84.shp\" # used for jobs location (destination)\n",
    "region_lads_file = f\"{data_folder}/processed/authorities/LADs_tynewear.shp\" # needed in order to filter greenspace data within the regional boundaries\n",
    "wpz_centroids_file = f\"{data_folder}/processed/authorities/WPZ_centroids_tynewear.gpkg\"\n",
    "# non-spatial\n",
    "# jobs_file = f\"{data_folder}/processed/accessibility/bres_jobs_tynewear.csv\" # n of jobs per LSOA\n",
    "jobs_file = f\"{data_folder}/processed/accessibility/wpz_tynewear_occupation_edited.csv\"\n",
    "\n",
    "# national level files\n",
    "# gs_accesspoints_file = f\"{data_folder}/raw/accessibility/OS Open Greenspace (GPKG) GB/data/opgrsp_gb.gpkg\"\n",
    "osm_data_file = f\"{data_folder}/raw/accessibility/tyne-and-wear-latest.osm.pbf\"\n",
    "gtfs_data_file = f\"{data_folder}/raw/accessibility/itm_north_east_gtfs.zip\""
   ]
  },
  {
   "attachments": {},
   "cell_type": "markdown",
   "metadata": {},
   "source": [
    "2. data import"
   ]
  },
  {
   "cell_type": "code",
   "execution_count": 31,
   "metadata": {},
   "outputs": [
    {
     "data": {
      "text/html": [
       "<div>\n",
       "<style scoped>\n",
       "    .dataframe tbody tr th:only-of-type {\n",
       "        vertical-align: middle;\n",
       "    }\n",
       "\n",
       "    .dataframe tbody tr th {\n",
       "        vertical-align: top;\n",
       "    }\n",
       "\n",
       "    .dataframe thead th {\n",
       "        text-align: right;\n",
       "    }\n",
       "</style>\n",
       "<table border=\"1\" class=\"dataframe\">\n",
       "  <thead>\n",
       "    <tr style=\"text-align: right;\">\n",
       "      <th></th>\n",
       "      <th>OBJECTID</th>\n",
       "      <th>OA11CD</th>\n",
       "      <th>GlobalID</th>\n",
       "      <th>geometry</th>\n",
       "      <th>id</th>\n",
       "    </tr>\n",
       "  </thead>\n",
       "  <tbody>\n",
       "    <tr>\n",
       "      <th>0</th>\n",
       "      <td>126926</td>\n",
       "      <td>E00041377</td>\n",
       "      <td>c03c9813-26f3-41f9-85e5-d4cdf3742ca0</td>\n",
       "      <td>POINT (425583.000 562952.000)</td>\n",
       "      <td>E00041377</td>\n",
       "    </tr>\n",
       "    <tr>\n",
       "      <th>1</th>\n",
       "      <td>126927</td>\n",
       "      <td>E00041435</td>\n",
       "      <td>16e6607e-0b59-4f6f-8ec6-06a7396a70a5</td>\n",
       "      <td>POINT (427216.699 555732.531)</td>\n",
       "      <td>E00041435</td>\n",
       "    </tr>\n",
       "    <tr>\n",
       "      <th>2</th>\n",
       "      <td>126928</td>\n",
       "      <td>E00041745</td>\n",
       "      <td>4b5fa995-b251-4ee7-9a97-aef0a2598fe3</td>\n",
       "      <td>POINT (427897.004 559557.605)</td>\n",
       "      <td>E00041745</td>\n",
       "    </tr>\n",
       "    <tr>\n",
       "      <th>3</th>\n",
       "      <td>126929</td>\n",
       "      <td>E00041432</td>\n",
       "      <td>6e660884-3917-4e46-a693-bad0821318cb</td>\n",
       "      <td>POINT (427856.367 555759.595)</td>\n",
       "      <td>E00041432</td>\n",
       "    </tr>\n",
       "    <tr>\n",
       "      <th>4</th>\n",
       "      <td>126930</td>\n",
       "      <td>E00041742</td>\n",
       "      <td>0bfb7f06-a910-4fa2-8db1-e79d319ba232</td>\n",
       "      <td>POINT (427932.556 559770.754)</td>\n",
       "      <td>E00041742</td>\n",
       "    </tr>\n",
       "  </tbody>\n",
       "</table>\n",
       "</div>"
      ],
      "text/plain": [
       "   OBJECTID     OA11CD                              GlobalID  \\\n",
       "0    126926  E00041377  c03c9813-26f3-41f9-85e5-d4cdf3742ca0   \n",
       "1    126927  E00041435  16e6607e-0b59-4f6f-8ec6-06a7396a70a5   \n",
       "2    126928  E00041745  4b5fa995-b251-4ee7-9a97-aef0a2598fe3   \n",
       "3    126929  E00041432  6e660884-3917-4e46-a693-bad0821318cb   \n",
       "4    126930  E00041742  0bfb7f06-a910-4fa2-8db1-e79d319ba232   \n",
       "\n",
       "                        geometry         id  \n",
       "0  POINT (425583.000 562952.000)  E00041377  \n",
       "1  POINT (427216.699 555732.531)  E00041435  \n",
       "2  POINT (427897.004 559557.605)  E00041745  \n",
       "3  POINT (427856.367 555759.595)  E00041432  \n",
       "4  POINT (427932.556 559770.754)  E00041742  "
      ]
     },
     "execution_count": 31,
     "metadata": {},
     "output_type": "execute_result"
    }
   ],
   "source": [
    "# reading in the origin/destination points geospatial data (just for tynewear region)\n",
    "\n",
    "# origins (IE output areas, OAs)\n",
    "origin_centroids = gpd.read_file(oas_centroids_file,\n",
    "                                 layer=\"OA_centroids_TyneWear\")\n",
    "origin_centroids['id'] = origin_centroids['OA11CD'] # Origin dataset must contain an 'id' column\n",
    "origin_centroids.head()\n",
    "# origin_centroids.explore()\n",
    "\n",
    "#  destinations (IE: WPZ for jobs location, and Greenspace access points for greenspace)\n",
    "wpz_centroids = gpd.read_file(wpz_centroids_file,\n",
    "                              layer = \"WPZ_centroids_tynewear\")\n",
    "wpz_centroids.head()\n",
    "wpz_centroids['id'] = wpz_centroids['wz11cd'] # Destination dataset must contain an 'id' column\n",
    "\n",
    "# accesspoints = gpd.read_file(gs_accesspoints_file,\n",
    "#                         layer = \"AccessPoint\")\n",
    "# accesspoints.head()\n",
    "\n",
    "\n",
    "# reading in land use data:\n",
    "jobs_per_wpz = pd.read_csv(jobs_file) # working place zones, population (as a proxy for n of jobs)\n",
    "jobs_per_wpz.head()\n",
    "\n",
    "# for mapping:\n",
    "oas_boundaries = gpd.read_file(oas_file,\n",
    "                               layer=\"OA_TyneWear\")\n"
   ]
  },
  {
   "cell_type": "code",
   "execution_count": 36,
   "metadata": {},
   "outputs": [],
   "source": [
    "# reprojecting layers that are in wgs84 crs to bng (need it to have the network build work)\n",
    "\n",
    "\n",
    "origin_centroids.crs # epsg:27700\n",
    "wpz_centroids.crs # epsg: 27700\n",
    "oas_boundaries.crs # epsg:27700\n",
    "origin_centroids_wgs84 = origin_centroids.to_crs(\"epsg:4326\")\n",
    "wpz_centroids_wgs84 = wpz_centroids.to_crs(\"epsg:4326\")\n",
    "oas_boundaries_wgs84 = oas_boundaries.to_crs(\"epsg:4326\")\n"
   ]
  },
  {
   "cell_type": "code",
   "execution_count": 37,
   "metadata": {},
   "outputs": [
    {
     "data": {
      "text/html": [
       "<div>\n",
       "<style scoped>\n",
       "    .dataframe tbody tr th:only-of-type {\n",
       "        vertical-align: middle;\n",
       "    }\n",
       "\n",
       "    .dataframe tbody tr th {\n",
       "        vertical-align: top;\n",
       "    }\n",
       "\n",
       "    .dataframe thead th {\n",
       "        text-align: right;\n",
       "    }\n",
       "</style>\n",
       "<table border=\"1\" class=\"dataframe\">\n",
       "  <thead>\n",
       "    <tr style=\"text-align: right;\">\n",
       "      <th></th>\n",
       "      <th>OBJECTID</th>\n",
       "      <th>wz11cd</th>\n",
       "      <th>GlobalID</th>\n",
       "      <th>geometry</th>\n",
       "      <th>id</th>\n",
       "      <th>wpz11cd</th>\n",
       "      <th>pop</th>\n",
       "    </tr>\n",
       "  </thead>\n",
       "  <tbody>\n",
       "    <tr>\n",
       "      <th>0</th>\n",
       "      <td>2</td>\n",
       "      <td>E33000251</td>\n",
       "      <td>{AF2BD35C-B624-4E2D-9C78-F26DF4FCABCE}</td>\n",
       "      <td>POINT (-1.41992 54.91839)</td>\n",
       "      <td>E33000251</td>\n",
       "      <td>E33000251</td>\n",
       "      <td>656</td>\n",
       "    </tr>\n",
       "    <tr>\n",
       "      <th>1</th>\n",
       "      <td>3</td>\n",
       "      <td>E33000799</td>\n",
       "      <td>{8CB93749-3349-462C-93C7-B6E321CC765C}</td>\n",
       "      <td>POINT (-1.61606 54.97382)</td>\n",
       "      <td>E33000799</td>\n",
       "      <td>E33000799</td>\n",
       "      <td>1118</td>\n",
       "    </tr>\n",
       "    <tr>\n",
       "      <th>2</th>\n",
       "      <td>4</td>\n",
       "      <td>E33000257</td>\n",
       "      <td>{03204BF6-50A6-4AD1-855F-C7BBE6D8137B}</td>\n",
       "      <td>POINT (-1.53272 54.90010)</td>\n",
       "      <td>E33000257</td>\n",
       "      <td>E33000257</td>\n",
       "      <td>2842</td>\n",
       "    </tr>\n",
       "    <tr>\n",
       "      <th>3</th>\n",
       "      <td>5</td>\n",
       "      <td>E33000079</td>\n",
       "      <td>{53333BDF-9792-4370-94AB-BE7853FA2ACA}</td>\n",
       "      <td>POINT (-1.62268 55.01104)</td>\n",
       "      <td>E33000079</td>\n",
       "      <td>E33000079</td>\n",
       "      <td>214</td>\n",
       "    </tr>\n",
       "    <tr>\n",
       "      <th>4</th>\n",
       "      <td>8</td>\n",
       "      <td>E33000174</td>\n",
       "      <td>{35114C58-FAA7-4E83-9724-ACED166052D5}</td>\n",
       "      <td>POINT (-1.50942 55.02269)</td>\n",
       "      <td>E33000174</td>\n",
       "      <td>E33000174</td>\n",
       "      <td>869</td>\n",
       "    </tr>\n",
       "  </tbody>\n",
       "</table>\n",
       "</div>"
      ],
      "text/plain": [
       "   OBJECTID     wz11cd                                GlobalID  \\\n",
       "0         2  E33000251  {AF2BD35C-B624-4E2D-9C78-F26DF4FCABCE}   \n",
       "1         3  E33000799  {8CB93749-3349-462C-93C7-B6E321CC765C}   \n",
       "2         4  E33000257  {03204BF6-50A6-4AD1-855F-C7BBE6D8137B}   \n",
       "3         5  E33000079  {53333BDF-9792-4370-94AB-BE7853FA2ACA}   \n",
       "4         8  E33000174  {35114C58-FAA7-4E83-9724-ACED166052D5}   \n",
       "\n",
       "                    geometry         id    wpz11cd   pop  \n",
       "0  POINT (-1.41992 54.91839)  E33000251  E33000251   656  \n",
       "1  POINT (-1.61606 54.97382)  E33000799  E33000799  1118  \n",
       "2  POINT (-1.53272 54.90010)  E33000257  E33000257  2842  \n",
       "3  POINT (-1.62268 55.01104)  E33000079  E33000079   214  \n",
       "4  POINT (-1.50942 55.02269)  E33000174  E33000174   869  "
      ]
     },
     "execution_count": 37,
     "metadata": {},
     "output_type": "execute_result"
    }
   ],
   "source": [
    "# merging geospatial data (admin boundaries/centroids) with landuse data (jobs and greenspaces points, could be population etc)\n",
    "\n",
    "landuse_gdf = pd.merge(wpz_centroids_wgs84, # gdf file\n",
    "                       jobs_per_wpz, # info we want to add\n",
    "                       how = \"inner\", # this allows to pick (from the nationals centroids table) only LSOAs that belong to the region (jobs file)\n",
    "                       left_on = \"wz11cd\",\n",
    "                       right_on = \"wpz11cd\")\n",
    "landuse_gdf.head()\n",
    "\n",
    "\n",
    "# landuse_gdf.jobs = landuse_gdf.jobs.fillna(0).astype(np.int64) # removing NaN and changing type to Int\n",
    "# # hoping that this makes \"explore\" work below. NOTE: deal with this issue later on in a better way (IE clean data before importing them in python)\n",
    "# landuse_gdf.dtypes"
   ]
  },
  {
   "cell_type": "markdown",
   "metadata": {},
   "source": [
    "## Load transport network\n",
    "\n",
    ">  To import the street and public transport networks, instantiate an `r5py.TransportNetwork` with the file paths to the OSM extract and the GTFS files:"
   ]
  },
  {
   "cell_type": "code",
   "execution_count": 28,
   "metadata": {},
   "outputs": [],
   "source": [
    "transport_network = TransportNetwork(\n",
    "    osm_data_file,\n",
    "    [\n",
    "        gtfs_data_file\n",
    "    ]\n",
    ")"
   ]
  },
  {
   "attachments": {},
   "cell_type": "markdown",
   "metadata": {},
   "source": [
    "## Compute travel matrix\n",
    "1. generate time travel matrix from OAs to all LSOas centroids by transit"
   ]
  },
  {
   "cell_type": "code",
   "execution_count": 41,
   "metadata": {},
   "outputs": [
    {
     "data": {
      "text/html": [
       "<div>\n",
       "<style scoped>\n",
       "    .dataframe tbody tr th:only-of-type {\n",
       "        vertical-align: middle;\n",
       "    }\n",
       "\n",
       "    .dataframe tbody tr th {\n",
       "        vertical-align: top;\n",
       "    }\n",
       "\n",
       "    .dataframe thead th {\n",
       "        text-align: right;\n",
       "    }\n",
       "</style>\n",
       "<table border=\"1\" class=\"dataframe\">\n",
       "  <thead>\n",
       "    <tr style=\"text-align: right;\">\n",
       "      <th></th>\n",
       "      <th>from_id</th>\n",
       "      <th>to_id</th>\n",
       "      <th>travel_time</th>\n",
       "    </tr>\n",
       "  </thead>\n",
       "  <tbody>\n",
       "    <tr>\n",
       "      <th>0</th>\n",
       "      <td>E00041377</td>\n",
       "      <td>E33000251</td>\n",
       "      <td>78.0</td>\n",
       "    </tr>\n",
       "    <tr>\n",
       "      <th>1</th>\n",
       "      <td>E00041377</td>\n",
       "      <td>E33000799</td>\n",
       "      <td>18.0</td>\n",
       "    </tr>\n",
       "    <tr>\n",
       "      <th>2</th>\n",
       "      <td>E00041377</td>\n",
       "      <td>E33000257</td>\n",
       "      <td>43.0</td>\n",
       "    </tr>\n",
       "    <tr>\n",
       "      <th>3</th>\n",
       "      <td>E00041377</td>\n",
       "      <td>E33000079</td>\n",
       "      <td>33.0</td>\n",
       "    </tr>\n",
       "    <tr>\n",
       "      <th>4</th>\n",
       "      <td>E00041377</td>\n",
       "      <td>E33000174</td>\n",
       "      <td>55.0</td>\n",
       "    </tr>\n",
       "  </tbody>\n",
       "</table>\n",
       "</div>"
      ],
      "text/plain": [
       "     from_id      to_id  travel_time\n",
       "0  E00041377  E33000251         78.0\n",
       "1  E00041377  E33000799         18.0\n",
       "2  E00041377  E33000257         43.0\n",
       "3  E00041377  E33000079         33.0\n",
       "4  E00041377  E33000174         55.0"
      ]
     },
     "execution_count": 41,
     "metadata": {},
     "output_type": "execute_result"
    }
   ],
   "source": [
    "ttm_jobs_transit_OAtoWZ = TravelTimeMatrixComputer(\n",
    "    transport_network,\n",
    "    origins=origin_centroids_wgs84,\n",
    "    destinations=wpz_centroids_wgs84,\n",
    "    departure=datetime.datetime(2023,1,19,8,30),\n",
    "    transport_modes=[TransitMode.TRANSIT,\n",
    "                     LegMode.WALK]\n",
    ")\n",
    "ttm_jobs_transit_OAtoWZ = ttm_jobs_transit_OAtoWZ.compute_travel_times()\n",
    "ttm_jobs_transit_OAtoWZ.head()"
   ]
  },
  {
   "cell_type": "code",
   "execution_count": 42,
   "metadata": {},
   "outputs": [],
   "source": [
    "ttm_jobs_transit_OAtoWZ.to_csv(\"/Users/azanchetta/OneDrive - The Alan Turing Institute/Research/projects/LandUseDemonstrator/output/ttm_transit_oaTOwpz_jobs.csv\")"
   ]
  },
  {
   "cell_type": "code",
   "execution_count": 43,
   "metadata": {},
   "outputs": [
    {
     "data": {
      "text/html": [
       "<div>\n",
       "<style scoped>\n",
       "    .dataframe tbody tr th:only-of-type {\n",
       "        vertical-align: middle;\n",
       "    }\n",
       "\n",
       "    .dataframe tbody tr th {\n",
       "        vertical-align: top;\n",
       "    }\n",
       "\n",
       "    .dataframe thead th {\n",
       "        text-align: right;\n",
       "    }\n",
       "</style>\n",
       "<table border=\"1\" class=\"dataframe\">\n",
       "  <thead>\n",
       "    <tr style=\"text-align: right;\">\n",
       "      <th></th>\n",
       "      <th>from_id</th>\n",
       "      <th>to_id</th>\n",
       "      <th>travel_time</th>\n",
       "    </tr>\n",
       "  </thead>\n",
       "  <tbody>\n",
       "    <tr>\n",
       "      <th>0</th>\n",
       "      <td>E00041377</td>\n",
       "      <td>E33000251</td>\n",
       "      <td>78.0</td>\n",
       "    </tr>\n",
       "    <tr>\n",
       "      <th>1</th>\n",
       "      <td>E00041377</td>\n",
       "      <td>E33000799</td>\n",
       "      <td>18.0</td>\n",
       "    </tr>\n",
       "    <tr>\n",
       "      <th>2</th>\n",
       "      <td>E00041377</td>\n",
       "      <td>E33000257</td>\n",
       "      <td>43.0</td>\n",
       "    </tr>\n",
       "    <tr>\n",
       "      <th>3</th>\n",
       "      <td>E00041377</td>\n",
       "      <td>E33000079</td>\n",
       "      <td>33.0</td>\n",
       "    </tr>\n",
       "    <tr>\n",
       "      <th>4</th>\n",
       "      <td>E00041377</td>\n",
       "      <td>E33000174</td>\n",
       "      <td>55.0</td>\n",
       "    </tr>\n",
       "  </tbody>\n",
       "</table>\n",
       "</div>"
      ],
      "text/plain": [
       "     from_id      to_id  travel_time\n",
       "0  E00041377  E33000251         78.0\n",
       "1  E00041377  E33000799         18.0\n",
       "2  E00041377  E33000257         43.0\n",
       "3  E00041377  E33000079         33.0\n",
       "4  E00041377  E33000174         55.0"
      ]
     },
     "execution_count": 43,
     "metadata": {},
     "output_type": "execute_result"
    }
   ],
   "source": [
    "df_tracc = tracc.costs(ttm_jobs_transit)\n",
    "df_tracc.data.head()"
   ]
  },
  {
   "cell_type": "code",
   "execution_count": 44,
   "metadata": {},
   "outputs": [
    {
     "data": {
      "text/plain": [
       "from_id\n",
       "E00041363    52.0\n",
       "E00041364    53.0\n",
       "E00041366    50.0\n",
       "E00041367    52.0\n",
       "E00041368    54.0\n",
       "             ... \n",
       "E00175601    61.0\n",
       "E00175602    72.0\n",
       "E00175603    64.0\n",
       "E00175604    72.0\n",
       "E00175605    49.0\n",
       "Name: travel_time, Length: 3795, dtype: float64"
      ]
     },
     "execution_count": 44,
     "metadata": {},
     "output_type": "execute_result"
    }
   ],
   "source": [
    "median_times = ttm_jobs_transit.groupby(\"from_id\")[\"travel_time\"].median()\n",
    "median_times"
   ]
  },
  {
   "cell_type": "code",
   "execution_count": 45,
   "metadata": {},
   "outputs": [
    {
     "data": {
      "text/plain": [
       "122.0"
      ]
     },
     "execution_count": 45,
     "metadata": {},
     "output_type": "execute_result"
    }
   ],
   "source": [
    "max_time = ttm_jobs_transit.groupby(\"from_id\")[\"travel_time\"].max()\n",
    "max_time.max()"
   ]
  },
  {
   "cell_type": "code",
   "execution_count": 46,
   "metadata": {},
   "outputs": [
    {
     "data": {
      "text/html": [
       "<div>\n",
       "<style scoped>\n",
       "    .dataframe tbody tr th:only-of-type {\n",
       "        vertical-align: middle;\n",
       "    }\n",
       "\n",
       "    .dataframe tbody tr th {\n",
       "        vertical-align: top;\n",
       "    }\n",
       "\n",
       "    .dataframe thead th {\n",
       "        text-align: right;\n",
       "    }\n",
       "</style>\n",
       "<table border=\"1\" class=\"dataframe\">\n",
       "  <thead>\n",
       "    <tr style=\"text-align: right;\">\n",
       "      <th></th>\n",
       "      <th>from_id</th>\n",
       "      <th>to_id</th>\n",
       "      <th>travel_time</th>\n",
       "      <th>cum_15</th>\n",
       "    </tr>\n",
       "  </thead>\n",
       "  <tbody>\n",
       "    <tr>\n",
       "      <th>0</th>\n",
       "      <td>E00041377</td>\n",
       "      <td>E33000251</td>\n",
       "      <td>78.0</td>\n",
       "      <td>0</td>\n",
       "    </tr>\n",
       "    <tr>\n",
       "      <th>1</th>\n",
       "      <td>E00041377</td>\n",
       "      <td>E33000799</td>\n",
       "      <td>18.0</td>\n",
       "      <td>0</td>\n",
       "    </tr>\n",
       "    <tr>\n",
       "      <th>2</th>\n",
       "      <td>E00041377</td>\n",
       "      <td>E33000257</td>\n",
       "      <td>43.0</td>\n",
       "      <td>0</td>\n",
       "    </tr>\n",
       "    <tr>\n",
       "      <th>3</th>\n",
       "      <td>E00041377</td>\n",
       "      <td>E33000079</td>\n",
       "      <td>33.0</td>\n",
       "      <td>0</td>\n",
       "    </tr>\n",
       "    <tr>\n",
       "      <th>4</th>\n",
       "      <td>E00041377</td>\n",
       "      <td>E33000174</td>\n",
       "      <td>55.0</td>\n",
       "      <td>0</td>\n",
       "    </tr>\n",
       "  </tbody>\n",
       "</table>\n",
       "</div>"
      ],
      "text/plain": [
       "     from_id      to_id  travel_time  cum_15\n",
       "0  E00041377  E33000251         78.0       0\n",
       "1  E00041377  E33000799         18.0       0\n",
       "2  E00041377  E33000257         43.0       0\n",
       "3  E00041377  E33000079         33.0       0\n",
       "4  E00041377  E33000174         55.0       0"
      ]
     },
     "execution_count": 46,
     "metadata": {},
     "output_type": "execute_result"
    }
   ],
   "source": [
    "# Computing impedance function based on a 45 minute travel time threshold.\n",
    "df_tracc.impedence_calc(\n",
    "    cost_column = \"travel_time\",\n",
    "    impedence_func = \"cumulative\",\n",
    "    impedence_func_params = 15, # to calculate n of jobs in 15 min\n",
    "    output_col_name = \"cum_15\",\n",
    "    prune_output = False\n",
    ")\n",
    "df_tracc.data.head()"
   ]
  },
  {
   "cell_type": "code",
   "execution_count": 48,
   "metadata": {},
   "outputs": [
    {
     "data": {
      "text/html": [
       "<div>\n",
       "<style scoped>\n",
       "    .dataframe tbody tr th:only-of-type {\n",
       "        vertical-align: middle;\n",
       "    }\n",
       "\n",
       "    .dataframe tbody tr th {\n",
       "        vertical-align: top;\n",
       "    }\n",
       "\n",
       "    .dataframe thead th {\n",
       "        text-align: right;\n",
       "    }\n",
       "</style>\n",
       "<table border=\"1\" class=\"dataframe\">\n",
       "  <thead>\n",
       "    <tr style=\"text-align: right;\">\n",
       "      <th></th>\n",
       "      <th>from_id</th>\n",
       "      <th>to_id</th>\n",
       "      <th>travel_time</th>\n",
       "      <th>cum_15</th>\n",
       "      <th>wpz11cd</th>\n",
       "      <th>pop</th>\n",
       "    </tr>\n",
       "  </thead>\n",
       "  <tbody>\n",
       "    <tr>\n",
       "      <th>0</th>\n",
       "      <td>E00041377</td>\n",
       "      <td>E33000251</td>\n",
       "      <td>78.0</td>\n",
       "      <td>0</td>\n",
       "      <td>E33000251</td>\n",
       "      <td>656</td>\n",
       "    </tr>\n",
       "    <tr>\n",
       "      <th>1</th>\n",
       "      <td>E00041377</td>\n",
       "      <td>E33000799</td>\n",
       "      <td>18.0</td>\n",
       "      <td>0</td>\n",
       "      <td>E33000799</td>\n",
       "      <td>1118</td>\n",
       "    </tr>\n",
       "    <tr>\n",
       "      <th>2</th>\n",
       "      <td>E00041377</td>\n",
       "      <td>E33000257</td>\n",
       "      <td>43.0</td>\n",
       "      <td>0</td>\n",
       "      <td>E33000257</td>\n",
       "      <td>2842</td>\n",
       "    </tr>\n",
       "    <tr>\n",
       "      <th>3</th>\n",
       "      <td>E00041377</td>\n",
       "      <td>E33000079</td>\n",
       "      <td>33.0</td>\n",
       "      <td>0</td>\n",
       "      <td>E33000079</td>\n",
       "      <td>214</td>\n",
       "    </tr>\n",
       "    <tr>\n",
       "      <th>4</th>\n",
       "      <td>E00041377</td>\n",
       "      <td>E33000174</td>\n",
       "      <td>55.0</td>\n",
       "      <td>0</td>\n",
       "      <td>E33000174</td>\n",
       "      <td>869</td>\n",
       "    </tr>\n",
       "  </tbody>\n",
       "</table>\n",
       "</div>"
      ],
      "text/plain": [
       "     from_id      to_id  travel_time  cum_15    wpz11cd   pop\n",
       "0  E00041377  E33000251         78.0       0  E33000251   656\n",
       "1  E00041377  E33000799         18.0       0  E33000799  1118\n",
       "2  E00041377  E33000257         43.0       0  E33000257  2842\n",
       "3  E00041377  E33000079         33.0       0  E33000079   214\n",
       "4  E00041377  E33000174         55.0       0  E33000174   869"
      ]
     },
     "execution_count": 48,
     "metadata": {},
     "output_type": "execute_result"
    }
   ],
   "source": [
    "# Setting up the accessibility object. This includes joining the destination data to the travel time data\n",
    "acc_transit = tracc.accessibility(\n",
    "        travelcosts_df = df_tracc.data,\n",
    "        supply_df = jobs_per_wpz,\n",
    "        travelcosts_ids = [\"from_id\",\"to_id\"],\n",
    "        supply_ids = \"wpz11cd\"\n",
    "    )\n",
    "acc_transit.data.head()"
   ]
  },
  {
   "cell_type": "code",
   "execution_count": 50,
   "metadata": {},
   "outputs": [
    {
     "data": {
      "text/html": [
       "<div>\n",
       "<style scoped>\n",
       "    .dataframe tbody tr th:only-of-type {\n",
       "        vertical-align: middle;\n",
       "    }\n",
       "\n",
       "    .dataframe tbody tr th {\n",
       "        vertical-align: top;\n",
       "    }\n",
       "\n",
       "    .dataframe thead th {\n",
       "        text-align: right;\n",
       "    }\n",
       "</style>\n",
       "<table border=\"1\" class=\"dataframe\">\n",
       "  <thead>\n",
       "    <tr style=\"text-align: right;\">\n",
       "      <th></th>\n",
       "      <th>from_id</th>\n",
       "      <th>A_pop_cum_15</th>\n",
       "    </tr>\n",
       "  </thead>\n",
       "  <tbody>\n",
       "    <tr>\n",
       "      <th>0</th>\n",
       "      <td>E00041363</td>\n",
       "      <td>4318</td>\n",
       "    </tr>\n",
       "    <tr>\n",
       "      <th>1</th>\n",
       "      <td>E00041364</td>\n",
       "      <td>7604</td>\n",
       "    </tr>\n",
       "    <tr>\n",
       "      <th>2</th>\n",
       "      <td>E00041366</td>\n",
       "      <td>845</td>\n",
       "    </tr>\n",
       "    <tr>\n",
       "      <th>3</th>\n",
       "      <td>E00041367</td>\n",
       "      <td>3413</td>\n",
       "    </tr>\n",
       "    <tr>\n",
       "      <th>4</th>\n",
       "      <td>E00041368</td>\n",
       "      <td>1728</td>\n",
       "    </tr>\n",
       "  </tbody>\n",
       "</table>\n",
       "</div>"
      ],
      "text/plain": [
       "     from_id  A_pop_cum_15\n",
       "0  E00041363          4318\n",
       "1  E00041364          7604\n",
       "2  E00041366           845\n",
       "3  E00041367          3413\n",
       "4  E00041368          1728"
      ]
     },
     "execution_count": 50,
     "metadata": {},
     "output_type": "execute_result"
    }
   ],
   "source": [
    "# Measuring potential accessibility to jobs, using a 45 minute cumulative impedance function\n",
    "dfa_transit = acc_transit.potential(\n",
    "        opportunity = \"pop\",\n",
    "        impedence = \"cum_15\"\n",
    "        )\n",
    "dfa_transit.head()"
   ]
  },
  {
   "cell_type": "code",
   "execution_count": 51,
   "metadata": {},
   "outputs": [
    {
     "data": {
      "text/html": [
       "<div>\n",
       "<style scoped>\n",
       "    .dataframe tbody tr th:only-of-type {\n",
       "        vertical-align: middle;\n",
       "    }\n",
       "\n",
       "    .dataframe tbody tr th {\n",
       "        vertical-align: top;\n",
       "    }\n",
       "\n",
       "    .dataframe thead th {\n",
       "        text-align: right;\n",
       "    }\n",
       "</style>\n",
       "<table border=\"1\" class=\"dataframe\">\n",
       "  <thead>\n",
       "    <tr style=\"text-align: right;\">\n",
       "      <th></th>\n",
       "      <th>geo_code</th>\n",
       "      <th>geometry</th>\n",
       "    </tr>\n",
       "  </thead>\n",
       "  <tbody>\n",
       "    <tr>\n",
       "      <th>0</th>\n",
       "      <td>E00042786</td>\n",
       "      <td>POLYGON ((428997.799 566018.331, 428998.491 56...</td>\n",
       "    </tr>\n",
       "    <tr>\n",
       "      <th>1</th>\n",
       "      <td>E00042707</td>\n",
       "      <td>POLYGON ((424221.655 568003.052, 424221.754 56...</td>\n",
       "    </tr>\n",
       "    <tr>\n",
       "      <th>2</th>\n",
       "      <td>E00042703</td>\n",
       "      <td>POLYGON ((419858.836 565454.433, 419858.374 56...</td>\n",
       "    </tr>\n",
       "    <tr>\n",
       "      <th>3</th>\n",
       "      <td>E00042782</td>\n",
       "      <td>POLYGON ((428932.199 566299.133, 428933.629 56...</td>\n",
       "    </tr>\n",
       "    <tr>\n",
       "      <th>4</th>\n",
       "      <td>E00042789</td>\n",
       "      <td>POLYGON ((428853.730 565689.295, 428860.602 56...</td>\n",
       "    </tr>\n",
       "  </tbody>\n",
       "</table>\n",
       "</div>"
      ],
      "text/plain": [
       "    geo_code                                           geometry\n",
       "0  E00042786  POLYGON ((428997.799 566018.331, 428998.491 56...\n",
       "1  E00042707  POLYGON ((424221.655 568003.052, 424221.754 56...\n",
       "2  E00042703  POLYGON ((419858.836 565454.433, 419858.374 56...\n",
       "3  E00042782  POLYGON ((428932.199 566299.133, 428933.629 56...\n",
       "4  E00042789  POLYGON ((428853.730 565689.295, 428860.602 56..."
      ]
     },
     "execution_count": 51,
     "metadata": {},
     "output_type": "execute_result"
    }
   ],
   "source": [
    "oas_boundaries.head()"
   ]
  },
  {
   "cell_type": "code",
   "execution_count": null,
   "metadata": {},
   "outputs": [],
   "source": [
    "# oas_boundaries_wgs84.explore()"
   ]
  },
  {
   "cell_type": "code",
   "execution_count": 52,
   "metadata": {},
   "outputs": [
    {
     "data": {
      "text/plain": [
       "[]"
      ]
     },
     "execution_count": 52,
     "metadata": {},
     "output_type": "execute_result"
    }
   ],
   "source": [
    "codes_from_boundaries = oas_boundaries['geo_code'].tolist()  # 3794\n",
    "codes_from_boundaries\n",
    "codes_from_centroids = origin_centroids['OA11CD'].tolist()  # 3795\n",
    "list(set(codes_from_centroids).difference(codes_from_boundaries))"
   ]
  },
  {
   "cell_type": "code",
   "execution_count": 54,
   "metadata": {},
   "outputs": [
    {
     "data": {
      "text/plain": [
       "0"
      ]
     },
     "execution_count": 54,
     "metadata": {},
     "output_type": "execute_result"
    }
   ],
   "source": [
    "# plotting results\n",
    "oas_boundaries_accjobs = oas_boundaries_wgs84.merge(dfa_transit,\n",
    "                                                     left_on = 'geo_code',\n",
    "                                                     right_on = \"from_id\",\n",
    "                                                     how = \"right\")\n",
    "oas_boundaries_accjobs.head()\n",
    "oas_boundaries_accjobs.A_pop_cum_15.isnull().sum().sum() # (checking number of na in column) -> zero\n"
   ]
  },
  {
   "cell_type": "code",
   "execution_count": 55,
   "metadata": {},
   "outputs": [
    {
     "ename": "KeyError",
     "evalue": "'A_jobs_cum_15'",
     "output_type": "error",
     "traceback": [
      "\u001b[0;31m---------------------------------------------------------------------------\u001b[0m",
      "\u001b[0;31mKeyError\u001b[0m                                  Traceback (most recent call last)",
      "File \u001b[0;32m/usr/local/anaconda3/envs/demoland_r5/lib/python3.9/site-packages/pandas/core/indexes/base.py:3803\u001b[0m, in \u001b[0;36mIndex.get_loc\u001b[0;34m(self, key, method, tolerance)\u001b[0m\n\u001b[1;32m   3802\u001b[0m \u001b[39mtry\u001b[39;00m:\n\u001b[0;32m-> 3803\u001b[0m     \u001b[39mreturn\u001b[39;00m \u001b[39mself\u001b[39;49m\u001b[39m.\u001b[39;49m_engine\u001b[39m.\u001b[39;49mget_loc(casted_key)\n\u001b[1;32m   3804\u001b[0m \u001b[39mexcept\u001b[39;00m \u001b[39mKeyError\u001b[39;00m \u001b[39mas\u001b[39;00m err:\n",
      "File \u001b[0;32m/usr/local/anaconda3/envs/demoland_r5/lib/python3.9/site-packages/pandas/_libs/index.pyx:138\u001b[0m, in \u001b[0;36mpandas._libs.index.IndexEngine.get_loc\u001b[0;34m()\u001b[0m\n",
      "File \u001b[0;32m/usr/local/anaconda3/envs/demoland_r5/lib/python3.9/site-packages/pandas/_libs/index.pyx:165\u001b[0m, in \u001b[0;36mpandas._libs.index.IndexEngine.get_loc\u001b[0;34m()\u001b[0m\n",
      "File \u001b[0;32mpandas/_libs/hashtable_class_helper.pxi:5745\u001b[0m, in \u001b[0;36mpandas._libs.hashtable.PyObjectHashTable.get_item\u001b[0;34m()\u001b[0m\n",
      "File \u001b[0;32mpandas/_libs/hashtable_class_helper.pxi:5753\u001b[0m, in \u001b[0;36mpandas._libs.hashtable.PyObjectHashTable.get_item\u001b[0;34m()\u001b[0m\n",
      "\u001b[0;31mKeyError\u001b[0m: 'A_jobs_cum_15'",
      "\nThe above exception was the direct cause of the following exception:\n",
      "\u001b[0;31mKeyError\u001b[0m                                  Traceback (most recent call last)",
      "Cell \u001b[0;32mIn[55], line 1\u001b[0m\n\u001b[0;32m----> 1\u001b[0m oas_boundaries_accjobs\u001b[39m.\u001b[39;49mexplore(column \u001b[39m=\u001b[39;49m \u001b[39m\"\u001b[39;49m\u001b[39mA_jobs_cum_15\u001b[39;49m\u001b[39m\"\u001b[39;49m,\n\u001b[1;32m      2\u001b[0m                                cmap\u001b[39m=\u001b[39;49m\u001b[39m\"\u001b[39;49m\u001b[39mplasma\u001b[39;49m\u001b[39m\"\u001b[39;49m,\n\u001b[1;32m      3\u001b[0m                                scheme\u001b[39m=\u001b[39;49m\u001b[39m'\u001b[39;49m\u001b[39mNaturalBreaks\u001b[39;49m\u001b[39m'\u001b[39;49m,\n\u001b[1;32m      4\u001b[0m                                k\u001b[39m=\u001b[39;49m\u001b[39m8\u001b[39;49m\n\u001b[1;32m      5\u001b[0m                                )\n",
      "File \u001b[0;32m/usr/local/anaconda3/envs/demoland_r5/lib/python3.9/site-packages/geopandas/geodataframe.py:1858\u001b[0m, in \u001b[0;36mGeoDataFrame.explore\u001b[0;34m(self, *args, **kwargs)\u001b[0m\n\u001b[1;32m   1855\u001b[0m \u001b[39m@doc\u001b[39m(_explore)\n\u001b[1;32m   1856\u001b[0m \u001b[39mdef\u001b[39;00m \u001b[39mexplore\u001b[39m(\u001b[39mself\u001b[39m, \u001b[39m*\u001b[39margs, \u001b[39m*\u001b[39m\u001b[39m*\u001b[39mkwargs):\n\u001b[1;32m   1857\u001b[0m     \u001b[39m\"\"\"Interactive map based on folium/leaflet.js\"\"\"\u001b[39;00m\n\u001b[0;32m-> 1858\u001b[0m     \u001b[39mreturn\u001b[39;00m _explore(\u001b[39mself\u001b[39;49m, \u001b[39m*\u001b[39;49margs, \u001b[39m*\u001b[39;49m\u001b[39m*\u001b[39;49mkwargs)\n",
      "File \u001b[0;32m/usr/local/anaconda3/envs/demoland_r5/lib/python3.9/site-packages/geopandas/explore.py:350\u001b[0m, in \u001b[0;36m_explore\u001b[0;34m(df, column, cmap, color, m, tiles, attr, tooltip, popup, highlight, categorical, legend, scheme, k, vmin, vmax, width, height, categories, classification_kwds, control_scale, marker_type, marker_kwds, style_kwds, highlight_kwds, missing_kwds, tooltip_kwds, popup_kwds, legend_kwds, **kwargs)\u001b[0m\n\u001b[1;32m    348\u001b[0m         gdf[column_name] \u001b[39m=\u001b[39m column\n\u001b[1;32m    349\u001b[0m         column \u001b[39m=\u001b[39m column_name\n\u001b[0;32m--> 350\u001b[0m \u001b[39melif\u001b[39;00m pd\u001b[39m.\u001b[39mapi\u001b[39m.\u001b[39mtypes\u001b[39m.\u001b[39mis_categorical_dtype(gdf[column]):\n\u001b[1;32m    351\u001b[0m     \u001b[39mif\u001b[39;00m categories \u001b[39mis\u001b[39;00m \u001b[39mnot\u001b[39;00m \u001b[39mNone\u001b[39;00m:\n\u001b[1;32m    352\u001b[0m         \u001b[39mraise\u001b[39;00m \u001b[39mValueError\u001b[39;00m(\n\u001b[1;32m    353\u001b[0m             \u001b[39m\"\u001b[39m\u001b[39mCannot specify \u001b[39m\u001b[39m'\u001b[39m\u001b[39mcategories\u001b[39m\u001b[39m'\u001b[39m\u001b[39m when column has categorical dtype\u001b[39m\u001b[39m\"\u001b[39m\n\u001b[1;32m    354\u001b[0m         )\n",
      "File \u001b[0;32m/usr/local/anaconda3/envs/demoland_r5/lib/python3.9/site-packages/geopandas/geodataframe.py:1327\u001b[0m, in \u001b[0;36mGeoDataFrame.__getitem__\u001b[0;34m(self, key)\u001b[0m\n\u001b[1;32m   1321\u001b[0m \u001b[39mdef\u001b[39;00m \u001b[39m__getitem__\u001b[39m(\u001b[39mself\u001b[39m, key):\n\u001b[1;32m   1322\u001b[0m     \u001b[39m\"\"\"\u001b[39;00m\n\u001b[1;32m   1323\u001b[0m \u001b[39m    If the result is a column containing only 'geometry', return a\u001b[39;00m\n\u001b[1;32m   1324\u001b[0m \u001b[39m    GeoSeries. If it's a DataFrame with a 'geometry' column, return a\u001b[39;00m\n\u001b[1;32m   1325\u001b[0m \u001b[39m    GeoDataFrame.\u001b[39;00m\n\u001b[1;32m   1326\u001b[0m \u001b[39m    \"\"\"\u001b[39;00m\n\u001b[0;32m-> 1327\u001b[0m     result \u001b[39m=\u001b[39m \u001b[39msuper\u001b[39;49m()\u001b[39m.\u001b[39;49m\u001b[39m__getitem__\u001b[39;49m(key)\n\u001b[1;32m   1328\u001b[0m     geo_col \u001b[39m=\u001b[39m \u001b[39mself\u001b[39m\u001b[39m.\u001b[39m_geometry_column_name\n\u001b[1;32m   1329\u001b[0m     \u001b[39mif\u001b[39;00m \u001b[39misinstance\u001b[39m(result, Series) \u001b[39mand\u001b[39;00m \u001b[39misinstance\u001b[39m(result\u001b[39m.\u001b[39mdtype, GeometryDtype):\n",
      "File \u001b[0;32m/usr/local/anaconda3/envs/demoland_r5/lib/python3.9/site-packages/pandas/core/frame.py:3805\u001b[0m, in \u001b[0;36mDataFrame.__getitem__\u001b[0;34m(self, key)\u001b[0m\n\u001b[1;32m   3803\u001b[0m \u001b[39mif\u001b[39;00m \u001b[39mself\u001b[39m\u001b[39m.\u001b[39mcolumns\u001b[39m.\u001b[39mnlevels \u001b[39m>\u001b[39m \u001b[39m1\u001b[39m:\n\u001b[1;32m   3804\u001b[0m     \u001b[39mreturn\u001b[39;00m \u001b[39mself\u001b[39m\u001b[39m.\u001b[39m_getitem_multilevel(key)\n\u001b[0;32m-> 3805\u001b[0m indexer \u001b[39m=\u001b[39m \u001b[39mself\u001b[39;49m\u001b[39m.\u001b[39;49mcolumns\u001b[39m.\u001b[39;49mget_loc(key)\n\u001b[1;32m   3806\u001b[0m \u001b[39mif\u001b[39;00m is_integer(indexer):\n\u001b[1;32m   3807\u001b[0m     indexer \u001b[39m=\u001b[39m [indexer]\n",
      "File \u001b[0;32m/usr/local/anaconda3/envs/demoland_r5/lib/python3.9/site-packages/pandas/core/indexes/base.py:3805\u001b[0m, in \u001b[0;36mIndex.get_loc\u001b[0;34m(self, key, method, tolerance)\u001b[0m\n\u001b[1;32m   3803\u001b[0m     \u001b[39mreturn\u001b[39;00m \u001b[39mself\u001b[39m\u001b[39m.\u001b[39m_engine\u001b[39m.\u001b[39mget_loc(casted_key)\n\u001b[1;32m   3804\u001b[0m \u001b[39mexcept\u001b[39;00m \u001b[39mKeyError\u001b[39;00m \u001b[39mas\u001b[39;00m err:\n\u001b[0;32m-> 3805\u001b[0m     \u001b[39mraise\u001b[39;00m \u001b[39mKeyError\u001b[39;00m(key) \u001b[39mfrom\u001b[39;00m \u001b[39merr\u001b[39;00m\n\u001b[1;32m   3806\u001b[0m \u001b[39mexcept\u001b[39;00m \u001b[39mTypeError\u001b[39;00m:\n\u001b[1;32m   3807\u001b[0m     \u001b[39m# If we have a listlike key, _check_indexing_error will raise\u001b[39;00m\n\u001b[1;32m   3808\u001b[0m     \u001b[39m#  InvalidIndexError. Otherwise we fall through and re-raise\u001b[39;00m\n\u001b[1;32m   3809\u001b[0m     \u001b[39m#  the TypeError.\u001b[39;00m\n\u001b[1;32m   3810\u001b[0m     \u001b[39mself\u001b[39m\u001b[39m.\u001b[39m_check_indexing_error(key)\n",
      "\u001b[0;31mKeyError\u001b[0m: 'A_jobs_cum_15'"
     ]
    }
   ],
   "source": [
    "oas_boundaries_accjobs.explore(column = \"A_pop_cum_15\",\n",
    "                               cmap=\"plasma\",\n",
    "                               scheme='NaturalBreaks',\n",
    "                               k=8\n",
    "                               )"
   ]
  },
  {
   "cell_type": "code",
   "execution_count": 113,
   "metadata": {},
   "outputs": [
    {
     "data": {
      "text/html": [
       "<div>\n",
       "<style scoped>\n",
       "    .dataframe tbody tr th:only-of-type {\n",
       "        vertical-align: middle;\n",
       "    }\n",
       "\n",
       "    .dataframe tbody tr th {\n",
       "        vertical-align: top;\n",
       "    }\n",
       "\n",
       "    .dataframe thead th {\n",
       "        text-align: right;\n",
       "    }\n",
       "</style>\n",
       "<table border=\"1\" class=\"dataframe\">\n",
       "  <thead>\n",
       "    <tr style=\"text-align: right;\">\n",
       "      <th></th>\n",
       "      <th>geo_code</th>\n",
       "      <th>geometry</th>\n",
       "      <th>from_id</th>\n",
       "      <th>A_jobs_cum_15</th>\n",
       "    </tr>\n",
       "  </thead>\n",
       "  <tbody>\n",
       "    <tr>\n",
       "      <th>0</th>\n",
       "      <td>E00041363</td>\n",
       "      <td>POLYGON ((-1.59565 54.95480, -1.59557 54.95463...</td>\n",
       "      <td>E00041363</td>\n",
       "      <td>1065</td>\n",
       "    </tr>\n",
       "    <tr>\n",
       "      <th>1</th>\n",
       "      <td>E00041364</td>\n",
       "      <td>POLYGON ((-1.60256 54.95461, -1.60256 54.95461...</td>\n",
       "      <td>E00041364</td>\n",
       "      <td>1425</td>\n",
       "    </tr>\n",
       "    <tr>\n",
       "      <th>2</th>\n",
       "      <td>E00041366</td>\n",
       "      <td>POLYGON ((-1.58667 54.95529, -1.58667 54.95528...</td>\n",
       "      <td>E00041366</td>\n",
       "      <td>900</td>\n",
       "    </tr>\n",
       "    <tr>\n",
       "      <th>3</th>\n",
       "      <td>E00041367</td>\n",
       "      <td>POLYGON ((-1.59069 54.95542, -1.59069 54.95542...</td>\n",
       "      <td>E00041367</td>\n",
       "      <td>1115</td>\n",
       "    </tr>\n",
       "    <tr>\n",
       "      <th>4</th>\n",
       "      <td>E00041368</td>\n",
       "      <td>POLYGON ((-1.58402 54.95282, -1.58382 54.95290...</td>\n",
       "      <td>E00041368</td>\n",
       "      <td>290</td>\n",
       "    </tr>\n",
       "  </tbody>\n",
       "</table>\n",
       "</div>"
      ],
      "text/plain": [
       "    geo_code                                           geometry    from_id  \\\n",
       "0  E00041363  POLYGON ((-1.59565 54.95480, -1.59557 54.95463...  E00041363   \n",
       "1  E00041364  POLYGON ((-1.60256 54.95461, -1.60256 54.95461...  E00041364   \n",
       "2  E00041366  POLYGON ((-1.58667 54.95529, -1.58667 54.95528...  E00041366   \n",
       "3  E00041367  POLYGON ((-1.59069 54.95542, -1.59069 54.95542...  E00041367   \n",
       "4  E00041368  POLYGON ((-1.58402 54.95282, -1.58382 54.95290...  E00041368   \n",
       "\n",
       "   A_jobs_cum_15  \n",
       "0           1065  \n",
       "1           1425  \n",
       "2            900  \n",
       "3           1115  \n",
       "4            290  "
      ]
     },
     "execution_count": 113,
     "metadata": {},
     "output_type": "execute_result"
    }
   ],
   "source": [
    "oas_boundaries_accjobs.head()"
   ]
  },
  {
   "cell_type": "code",
   "execution_count": 114,
   "metadata": {},
   "outputs": [
    {
     "data": {
      "text/html": [
       "<div>\n",
       "<style scoped>\n",
       "    .dataframe tbody tr th:only-of-type {\n",
       "        vertical-align: middle;\n",
       "    }\n",
       "\n",
       "    .dataframe tbody tr th {\n",
       "        vertical-align: top;\n",
       "    }\n",
       "\n",
       "    .dataframe thead th {\n",
       "        text-align: right;\n",
       "    }\n",
       "</style>\n",
       "<table border=\"1\" class=\"dataframe\">\n",
       "  <thead>\n",
       "    <tr style=\"text-align: right;\">\n",
       "      <th></th>\n",
       "      <th>A_jobs_cum_15</th>\n",
       "    </tr>\n",
       "  </thead>\n",
       "  <tbody>\n",
       "    <tr>\n",
       "      <th>count</th>\n",
       "      <td>3795.000000</td>\n",
       "    </tr>\n",
       "    <tr>\n",
       "      <th>mean</th>\n",
       "      <td>2430.827404</td>\n",
       "    </tr>\n",
       "    <tr>\n",
       "      <th>std</th>\n",
       "      <td>4783.684558</td>\n",
       "    </tr>\n",
       "    <tr>\n",
       "      <th>min</th>\n",
       "      <td>0.000000</td>\n",
       "    </tr>\n",
       "    <tr>\n",
       "      <th>25%</th>\n",
       "      <td>387.500000</td>\n",
       "    </tr>\n",
       "    <tr>\n",
       "      <th>50%</th>\n",
       "      <td>975.000000</td>\n",
       "    </tr>\n",
       "    <tr>\n",
       "      <th>75%</th>\n",
       "      <td>2350.000000</td>\n",
       "    </tr>\n",
       "    <tr>\n",
       "      <th>max</th>\n",
       "      <td>66500.000000</td>\n",
       "    </tr>\n",
       "  </tbody>\n",
       "</table>\n",
       "</div>"
      ],
      "text/plain": [
       "       A_jobs_cum_15\n",
       "count    3795.000000\n",
       "mean     2430.827404\n",
       "std      4783.684558\n",
       "min         0.000000\n",
       "25%       387.500000\n",
       "50%       975.000000\n",
       "75%      2350.000000\n",
       "max     66500.000000"
      ]
     },
     "execution_count": 114,
     "metadata": {},
     "output_type": "execute_result"
    }
   ],
   "source": [
    "oas_boundaries_accjobs.describe()"
   ]
  },
  {
   "cell_type": "code",
   "execution_count": 115,
   "metadata": {},
   "outputs": [],
   "source": [
    "dfa_transit.to_csv(f\"{data_folder}/processed/accessibility/results/acc_jobs15_OAs_tynewear.csv\")"
   ]
  }
 ],
 "metadata": {
  "kernelspec": {
   "display_name": "demoland_r5",
   "language": "python",
   "name": "python3"
  },
  "language_info": {
   "codemirror_mode": {
    "name": "ipython",
    "version": 3
   },
   "file_extension": ".py",
   "mimetype": "text/x-python",
   "name": "python",
   "nbconvert_exporter": "python",
   "pygments_lexer": "ipython3",
   "version": "3.9.16"
  },
  "orig_nbformat": 4,
  "vscode": {
   "interpreter": {
    "hash": "bca7ff844b196d85b5f05fb1676164174f03491baaf50a687c916a5f950ce87e"
   }
  }
 },
 "nbformat": 4,
 "nbformat_minor": 2
}
