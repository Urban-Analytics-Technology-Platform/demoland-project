{
 "cells": [
  {
   "attachments": {},
   "cell_type": "markdown",
   "id": "51d11571",
   "metadata": {},
   "source": [
    "# Static leaflet mapping\n",
    "\n",
    "This notebook creates a leaflet.js map of baseline indicators for simple exploration purposes. It is saved as HTML and can be opened outside Jupyter."
   ]
  },
  {
   "cell_type": "code",
   "execution_count": 8,
   "id": "a8cedd8a-4e42-4cba-9a3b-1d9b4c85867f",
   "metadata": {},
   "outputs": [],
   "source": [
    "import geopandas as gpd\n",
    "import contextily \n",
    "import palettable.matplotlib as palmpl\n",
    "import matplotlib.pyplot as plt\n",
    "import matplotlib.cm\n",
    "import mapclassify\n",
    "import husl\n",
    "import seaborn as sns\n",
    "import folium\n",
    "import xyzservices\n",
    "\n",
    "from utils import legendgram"
   ]
  },
  {
   "cell_type": "code",
   "execution_count": 2,
   "id": "05321889-d427-4afa-a68f-a32a79cc6363",
   "metadata": {
    "tags": []
   },
   "outputs": [],
   "source": [
    "data_folder = \"/Users/martin/Library/CloudStorage/OneDrive-SharedLibraries-TheAlanTuringInstitute/Daniel Arribas-Bel - demoland_data\""
   ]
  },
  {
   "cell_type": "code",
   "execution_count": 3,
   "id": "83da91fe-f593-478c-81f9-6966ed42140a",
   "metadata": {
    "tags": []
   },
   "outputs": [],
   "source": [
    "oa_aoi = gpd.read_parquet(f\"{data_folder}/processed/interpolated/all_oa.parquet\")"
   ]
  },
  {
   "cell_type": "code",
   "execution_count": 30,
   "id": "890b5ab4-0a01-4f4f-848c-f7c331a6d0b0",
   "metadata": {
    "tags": []
   },
   "outputs": [],
   "source": [
    "m = oa_aoi.explore(\n",
    "    \"air_quality_index\", \n",
    "    scheme=\"equalinterval\", \n",
    "    k=20, \n",
    "    cmap=\"magma_r\",\n",
    "    tiles=\"CartoDB.PositronNoLabels\",\n",
    "    style_kwds=dict(\n",
    "        stroke=True,\n",
    "        fillOpacity=.8,\n",
    "        weight=1,\n",
    "    ),\n",
    "    tooltip=\"air_quality_index\",\n",
    "    name=\"Air Quality Index\",\n",
    "    tooltip_kwds=dict(\n",
    "        labels=False\n",
    "    ),\n",
    "    legend=False,\n",
    "    prefer_canvas=True\n",
    ")\n",
    "oa_aoi.explore(\n",
    "    \"house_price_index\",\n",
    "    scheme=\"naturalbreaks\", \n",
    "    k=10, \n",
    "    cmap=\"viridis\",\n",
    "    m=m,\n",
    "    style_kwds=dict(\n",
    "        stroke=True,\n",
    "        fillOpacity=.8,\n",
    "        weight=1,\n",
    "    ),\n",
    "    tooltip=\"house_price_index\",\n",
    "    name=\"House Price Index\",\n",
    "    tooltip_kwds=dict(\n",
    "        labels=False\n",
    "    ),\n",
    "    legend=False,\n",
    "    show=False,\n",
    ")\n",
    "oa_aoi.explore(\n",
    "    \"jobs_accessibility_index\",\n",
    "    scheme=\"naturalbreaks\", \n",
    "    k=10, \n",
    "    cmap=\"plasma\",\n",
    "    m=m,\n",
    "    style_kwds=dict(\n",
    "        stroke=True,\n",
    "        fillOpacity=.8,\n",
    "        weight=1,\n",
    "    ),\n",
    "    tooltip=\"jobs_accessibility_index\",\n",
    "    name=\"Jobs Accessibility Index\",\n",
    "    tooltip_kwds=dict(\n",
    "        labels=False\n",
    "    ),\n",
    "    legend=False,\n",
    "    show=False\n",
    ")\n",
    "oa_aoi.explore(\n",
    "    \"greenspace_accessibility_index\",\n",
    "    scheme=\"naturalbreaks\", \n",
    "    k=10, \n",
    "    cmap=\"YlGn\",\n",
    "    m=m,\n",
    "    style_kwds=dict(\n",
    "        stroke=True,\n",
    "        fillOpacity=.8,\n",
    "        weight=1,\n",
    "    ),\n",
    "    tooltip=\"greenspace_accessibility_index\",\n",
    "    name=\"Greenspace Accessibility Index\",\n",
    "    tooltip_kwds=dict(\n",
    "        labels=False\n",
    "    ),\n",
    "    legend=False,\n",
    "    show=False\n",
    ")\n",
    "folium.map.LayerControl().add_to(m)\n",
    "m.save(f\"{data_folder}/outputs/indicators_map.html\")"
   ]
  }
 ],
 "metadata": {
  "kernelspec": {
   "display_name": "Python 3 (ipykernel)",
   "language": "python",
   "name": "python3"
  },
  "language_info": {
   "codemirror_mode": {
    "name": "ipython",
    "version": 3
   },
   "file_extension": ".py",
   "mimetype": "text/x-python",
   "name": "python",
   "nbconvert_exporter": "python",
   "pygments_lexer": "ipython3",
   "version": "3.11.0"
  }
 },
 "nbformat": 4,
 "nbformat_minor": 5
}
