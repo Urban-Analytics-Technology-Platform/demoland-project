{
 "cells": [
  {
   "cell_type": "markdown",
   "id": "1380c246-a91f-419c-bab2-a901ee6cef93",
   "metadata": {},
   "source": [
    "# Create summary data for signatures\n",
    "\n",
    "Measure median and IQR for each variable and store them as Parquets.\n",
    "\n",
    "Data available at https://github.com/urbangrammarai/signatures_gb."
   ]
  },
  {
   "cell_type": "code",
   "execution_count": 56,
   "id": "d61587c6-ce18-4922-abdf-a9196874eefb",
   "metadata": {
    "tags": []
   },
   "outputs": [],
   "source": [
    "import dask.dataframe as dd\n",
    "import pandas as pd"
   ]
  },
  {
   "cell_type": "code",
   "execution_count": null,
   "id": "c6951372",
   "metadata": {},
   "outputs": [],
   "source": [
    "data_folder = \"/Users/martin/Library/CloudStorage/OneDrive-SharedLibraries-TheAlanTuringInstitute/Daniel Arribas-Bel - demoland_data\""
   ]
  },
  {
   "cell_type": "markdown",
   "id": "68e0f7b0-74d9-409c-9897-0b6d005c2dc3",
   "metadata": {},
   "source": [
    "Define a key to match data."
   ]
  },
  {
   "cell_type": "code",
   "execution_count": 144,
   "id": "a3d3b3fe-7fc2-4ba7-82bd-08466bb9c003",
   "metadata": {
    "tags": []
   },
   "outputs": [],
   "source": [
    "form_key = {\n",
    "    'area of building': 'sdbAre',\n",
    "    'courtyard area of building': 'sdbCoA',\n",
    "    'circular compactness of building': 'ssbCCo',\n",
    "    'corners of building': 'ssbCor',\n",
    "    'squareness of building': 'ssbSqu',\n",
    "    'equivalent rectangular index of building': 'ssbERI',\n",
    "    'centroid - corner mean distance of building': 'ssbCCM',\n",
    "    'centroid - corner distance deviation of building': 'ssbCCD',\n",
    "    'orientation of building': 'stbOri',\n",
    "    'area of ETC': 'sdcAre',\n",
    "    'circular compactness of ETC': 'sscCCo',\n",
    "    'equivalent rectangular index of ETC': 'sscERI',\n",
    "    'covered area ratio of ETC': 'sicCAR',\n",
    "    'cell alignment of building': 'stbCeA',\n",
    "    'alignment of neighbouring buildings': 'mtbAli',\n",
    "    'mean distance between neighbouring buildings': 'mtbNDi',\n",
    "    'perimeter-weighted neighbours of ETC': 'mtcWNe',\n",
    "    'mean inter-building distance': 'ltbIBD',\n",
    "    'width of street profile': 'sdsSPW',\n",
    "    'width deviation of street profile': 'sdsSWD',\n",
    "    'openness of street profile': 'sdsSPO',\n",
    "    'length of street segment': 'sdsLen',\n",
    "    'linearity of street segment': 'sssLin',\n",
    "    'mean segment length within 3 steps': 'ldsMSL',\n",
    "    'node degree of junction': 'mtdDeg',\n",
    "    'local proportion of 3-way intersections of street network': 'linP3W',\n",
    "    'local proportion of 4-way intersections of street network': 'linP4W',\n",
    "    'local proportion of cul-de-sacs of street network': 'linPDE',\n",
    "    'local closeness of street network': 'lcnClo',\n",
    "    'local cul-de-sac length of street network': 'ldsCDL',\n",
    "    'square clustering of street network': 'xcnSCl',\n",
    "    'local degree weighted node density of street network': 'linWID',\n",
    "    'street alignment of building': 'stbSAl',\n",
    "    'area covered by edge-attached ETCs': 'sdsAre',\n",
    "    'buildings per meter of street segment': 'sisBpM',\n",
    "    'reached ETCs by neighbouring segments': 'misCel',\n",
    "    'reached ETCs by tessellation contiguity': 'ltcRea',\n",
    "    'area of enclosure': 'ldeAre',\n",
    "    'circular compactness of enclosure': 'lseCCo',\n",
    "    'equivalent rectangular index of enclosure': 'lseERI',\n",
    "    'orientation of enclosure': 'lteOri',\n",
    "    'perimeter-weighted neighbours of enclosure': 'lteWNB',\n",
    "    'area-weighted ETCs of enclosure': 'lieWCe',\n",
    "}"
   ]
  },
  {
   "cell_type": "markdown",
   "id": "0cadf549-a944-493a-b20e-08c9e99fb0c2",
   "metadata": {},
   "source": [
    "Read form."
   ]
  },
  {
   "cell_type": "code",
   "execution_count": 12,
   "id": "f6bf6cdb-ae8e-40d3-a856-0b725f362404",
   "metadata": {
    "tags": []
   },
   "outputs": [],
   "source": [
    "form = dd.read_parquet(\"signatures_gb/form\", columns=[\"hindex\"] + list(form_key)).compute().set_index('hindex').rename(columns=form_key)"
   ]
  },
  {
   "cell_type": "markdown",
   "id": "b63dd856-48d7-481b-9146-f6e92648f4b8",
   "metadata": {},
   "source": [
    "Read signature labels"
   ]
  },
  {
   "cell_type": "code",
   "execution_count": 13,
   "id": "6ed75000-e342-4718-8d3b-8a1911d5448d",
   "metadata": {
    "tags": []
   },
   "outputs": [],
   "source": [
    "signature_type = dd.read_parquet(\n",
    "    \"urbangrammar_samba/spatial_signatures/signatures/hindex_to_type\"\n",
    ").compute().set_index('hindex')"
   ]
  },
  {
   "cell_type": "markdown",
   "id": "c3b4cdf2-2ffa-4b6e-b16b-baaba903b7ec",
   "metadata": {
    "tags": []
   },
   "source": [
    "Sort and merge via index."
   ]
  },
  {
   "cell_type": "code",
   "execution_count": 24,
   "id": "5781bc33-f58e-47b3-864c-7fe52fa4d2ee",
   "metadata": {
    "tags": []
   },
   "outputs": [],
   "source": [
    "form = form.sort_index()\n",
    "signature_type = signature_type.sort_index()\n",
    "form = form.merge(signature_type[[\"type\"]], how='left', left_index=True, right_index=True)"
   ]
  },
  {
   "cell_type": "code",
   "execution_count": null,
   "id": "8b879268-81e7-4688-a5e7-713491dadd14",
   "metadata": {},
   "outputs": [
    {
     "data": {
      "text/html": [
       "<div>\n",
       "<style scoped>\n",
       "    .dataframe tbody tr th:only-of-type {\n",
       "        vertical-align: middle;\n",
       "    }\n",
       "\n",
       "    .dataframe tbody tr th {\n",
       "        vertical-align: top;\n",
       "    }\n",
       "\n",
       "    .dataframe thead th {\n",
       "        text-align: right;\n",
       "    }\n",
       "</style>\n",
       "<table border=\"1\" class=\"dataframe\">\n",
       "  <thead>\n",
       "    <tr style=\"text-align: right;\">\n",
       "      <th></th>\n",
       "      <th>sdbAre</th>\n",
       "      <th>sdbCoA</th>\n",
       "      <th>ssbCCo</th>\n",
       "      <th>ssbCor</th>\n",
       "      <th>ssbSqu</th>\n",
       "      <th>ssbERI</th>\n",
       "      <th>ssbCCM</th>\n",
       "      <th>ssbCCD</th>\n",
       "      <th>stbOri</th>\n",
       "      <th>sdcAre</th>\n",
       "      <th>...</th>\n",
       "      <th>sisBpM</th>\n",
       "      <th>misCel</th>\n",
       "      <th>ltcRea</th>\n",
       "      <th>ldeAre</th>\n",
       "      <th>lseCCo</th>\n",
       "      <th>lseERI</th>\n",
       "      <th>lteOri</th>\n",
       "      <th>lteWNB</th>\n",
       "      <th>lieWCe</th>\n",
       "      <th>type</th>\n",
       "    </tr>\n",
       "    <tr>\n",
       "      <th>hindex</th>\n",
       "      <th></th>\n",
       "      <th></th>\n",
       "      <th></th>\n",
       "      <th></th>\n",
       "      <th></th>\n",
       "      <th></th>\n",
       "      <th></th>\n",
       "      <th></th>\n",
       "      <th></th>\n",
       "      <th></th>\n",
       "      <th></th>\n",
       "      <th></th>\n",
       "      <th></th>\n",
       "      <th></th>\n",
       "      <th></th>\n",
       "      <th></th>\n",
       "      <th></th>\n",
       "      <th></th>\n",
       "      <th></th>\n",
       "      <th></th>\n",
       "      <th></th>\n",
       "    </tr>\n",
       "  </thead>\n",
       "  <tbody>\n",
       "    <tr>\n",
       "      <th>c000e094707t0000</th>\n",
       "      <td>NaN</td>\n",
       "      <td>NaN</td>\n",
       "      <td>NaN</td>\n",
       "      <td>NaN</td>\n",
       "      <td>NaN</td>\n",
       "      <td>NaN</td>\n",
       "      <td>NaN</td>\n",
       "      <td>NaN</td>\n",
       "      <td>NaN</td>\n",
       "      <td>296.055450</td>\n",
       "      <td>...</td>\n",
       "      <td>0.073677</td>\n",
       "      <td>7.185852</td>\n",
       "      <td>33</td>\n",
       "      <td>296.05545</td>\n",
       "      <td>0.350319</td>\n",
       "      <td>0.845480</td>\n",
       "      <td>6.651016</td>\n",
       "      <td>0.135074</td>\n",
       "      <td>0.000516</td>\n",
       "      <td>Wild countryside</td>\n",
       "    </tr>\n",
       "    <tr>\n",
       "      <th>c000e094763t0000</th>\n",
       "      <td>868.66235</td>\n",
       "      <td>0.0</td>\n",
       "      <td>0.371499</td>\n",
       "      <td>10.0</td>\n",
       "      <td>1.046911</td>\n",
       "      <td>0.700460</td>\n",
       "      <td>17.571433</td>\n",
       "      <td>7.996062</td>\n",
       "      <td>36.659023</td>\n",
       "      <td>4968.852718</td>\n",
       "      <td>...</td>\n",
       "      <td>0.006263</td>\n",
       "      <td>34.602315</td>\n",
       "      <td>55</td>\n",
       "      <td>42494.97405</td>\n",
       "      <td>0.077278</td>\n",
       "      <td>0.682760</td>\n",
       "      <td>37.918157</td>\n",
       "      <td>0.010778</td>\n",
       "      <td>0.000206</td>\n",
       "      <td>Countryside agriculture</td>\n",
       "    </tr>\n",
       "    <tr>\n",
       "      <th>c000e094763t0001</th>\n",
       "      <td>1387.68690</td>\n",
       "      <td>0.0</td>\n",
       "      <td>0.576501</td>\n",
       "      <td>5.0</td>\n",
       "      <td>30.424307</td>\n",
       "      <td>1.015852</td>\n",
       "      <td>26.366200</td>\n",
       "      <td>1.672909</td>\n",
       "      <td>37.459323</td>\n",
       "      <td>23541.033893</td>\n",
       "      <td>...</td>\n",
       "      <td>0.008039</td>\n",
       "      <td>7.692777</td>\n",
       "      <td>61</td>\n",
       "      <td>42494.97405</td>\n",
       "      <td>0.077278</td>\n",
       "      <td>0.682760</td>\n",
       "      <td>37.918157</td>\n",
       "      <td>0.010778</td>\n",
       "      <td>0.000206</td>\n",
       "      <td>Countryside agriculture</td>\n",
       "    </tr>\n",
       "    <tr>\n",
       "      <th>c000e094763t0002</th>\n",
       "      <td>183.95600</td>\n",
       "      <td>0.0</td>\n",
       "      <td>0.480131</td>\n",
       "      <td>4.0</td>\n",
       "      <td>0.501584</td>\n",
       "      <td>0.999954</td>\n",
       "      <td>11.015825</td>\n",
       "      <td>0.044073</td>\n",
       "      <td>37.969960</td>\n",
       "      <td>13985.087439</td>\n",
       "      <td>...</td>\n",
       "      <td>0.009475</td>\n",
       "      <td>86.912080</td>\n",
       "      <td>45</td>\n",
       "      <td>42494.97405</td>\n",
       "      <td>0.077278</td>\n",
       "      <td>0.682760</td>\n",
       "      <td>37.918157</td>\n",
       "      <td>0.010778</td>\n",
       "      <td>0.000206</td>\n",
       "      <td>Countryside agriculture</td>\n",
       "    </tr>\n",
       "    <tr>\n",
       "      <th>c000e094764t0000</th>\n",
       "      <td>1990.40485</td>\n",
       "      <td>0.0</td>\n",
       "      <td>0.640383</td>\n",
       "      <td>14.0</td>\n",
       "      <td>26.845785</td>\n",
       "      <td>0.918766</td>\n",
       "      <td>24.646409</td>\n",
       "      <td>6.637691</td>\n",
       "      <td>39.216097</td>\n",
       "      <td>27866.551253</td>\n",
       "      <td>...</td>\n",
       "      <td>0.008404</td>\n",
       "      <td>8.999952</td>\n",
       "      <td>46</td>\n",
       "      <td>41009.22230</td>\n",
       "      <td>0.101179</td>\n",
       "      <td>0.680202</td>\n",
       "      <td>37.948923</td>\n",
       "      <td>0.017903</td>\n",
       "      <td>0.000007</td>\n",
       "      <td>Countryside agriculture</td>\n",
       "    </tr>\n",
       "  </tbody>\n",
       "</table>\n",
       "<p>5 rows × 44 columns</p>\n",
       "</div>"
      ],
      "text/plain": [
       "                      sdbAre  sdbCoA    ssbCCo  ssbCor     ssbSqu    ssbERI  \\\n",
       "hindex                                                                        \n",
       "c000e094707t0000         NaN     NaN       NaN     NaN        NaN       NaN   \n",
       "c000e094763t0000   868.66235     0.0  0.371499    10.0   1.046911  0.700460   \n",
       "c000e094763t0001  1387.68690     0.0  0.576501     5.0  30.424307  1.015852   \n",
       "c000e094763t0002   183.95600     0.0  0.480131     4.0   0.501584  0.999954   \n",
       "c000e094764t0000  1990.40485     0.0  0.640383    14.0  26.845785  0.918766   \n",
       "\n",
       "                     ssbCCM    ssbCCD     stbOri        sdcAre  ...    sisBpM  \\\n",
       "hindex                                                          ...             \n",
       "c000e094707t0000        NaN       NaN        NaN    296.055450  ...  0.073677   \n",
       "c000e094763t0000  17.571433  7.996062  36.659023   4968.852718  ...  0.006263   \n",
       "c000e094763t0001  26.366200  1.672909  37.459323  23541.033893  ...  0.008039   \n",
       "c000e094763t0002  11.015825  0.044073  37.969960  13985.087439  ...  0.009475   \n",
       "c000e094764t0000  24.646409  6.637691  39.216097  27866.551253  ...  0.008404   \n",
       "\n",
       "                     misCel  ltcRea       ldeAre    lseCCo    lseERI  \\\n",
       "hindex                                                                 \n",
       "c000e094707t0000   7.185852      33    296.05545  0.350319  0.845480   \n",
       "c000e094763t0000  34.602315      55  42494.97405  0.077278  0.682760   \n",
       "c000e094763t0001   7.692777      61  42494.97405  0.077278  0.682760   \n",
       "c000e094763t0002  86.912080      45  42494.97405  0.077278  0.682760   \n",
       "c000e094764t0000   8.999952      46  41009.22230  0.101179  0.680202   \n",
       "\n",
       "                     lteOri    lteWNB    lieWCe                     type  \n",
       "hindex                                                                    \n",
       "c000e094707t0000   6.651016  0.135074  0.000516         Wild countryside  \n",
       "c000e094763t0000  37.918157  0.010778  0.000206  Countryside agriculture  \n",
       "c000e094763t0001  37.918157  0.010778  0.000206  Countryside agriculture  \n",
       "c000e094763t0002  37.918157  0.010778  0.000206  Countryside agriculture  \n",
       "c000e094764t0000  37.948923  0.017903  0.000007  Countryside agriculture  \n",
       "\n",
       "[5 rows x 44 columns]"
      ]
     },
     "execution_count": 131,
     "metadata": {},
     "output_type": "execute_result"
    }
   ],
   "source": [
    "form.head()"
   ]
  },
  {
   "cell_type": "markdown",
   "id": "0ae6f032-0099-4095-acb1-2930632b099e",
   "metadata": {},
   "source": [
    "Group by a signature type, get quartiles and IQR."
   ]
  },
  {
   "cell_type": "code",
   "execution_count": 132,
   "id": "71d1ea0a-5854-4191-a9e0-51d7e5bb4ba5",
   "metadata": {
    "tags": []
   },
   "outputs": [],
   "source": [
    "grouper = form.groupby(\"type\")"
   ]
  },
  {
   "cell_type": "code",
   "execution_count": 133,
   "id": "55424ece-0a70-40e2-bd8b-2ff1b1f408f9",
   "metadata": {
    "tags": []
   },
   "outputs": [],
   "source": [
    "median = grouper.quantile(.5)\n",
    "q25 = grouper.quantile(.25)\n",
    "q75 = grouper.quantile(.75)\n",
    "iqr = q75 - q25"
   ]
  },
  {
   "cell_type": "markdown",
   "id": "ede67514-d95f-4c11-bf6e-1fe385fe2ba3",
   "metadata": {},
   "source": [
    "Properly name types."
   ]
  },
  {
   "cell_type": "code",
   "execution_count": 134,
   "id": "d8a5afdb-8fb5-4f7d-bb6a-e43e9b9c2d3a",
   "metadata": {
    "tags": []
   },
   "outputs": [],
   "source": [
    "renamer = {\n",
    "    \"Warehouse land\": \"Warehouse/Park land\",\n",
    "    \"Hyper distilled urbanity\": \"Hyper concentrated urbanity\",\n",
    "    \"Distilled urbanity\": \"Concentrated urbanity\"\n",
    "}\n",
    "median = median.rename(index=renamer)\n",
    "iqr = iqr.rename(index=renamer)"
   ]
  },
  {
   "cell_type": "code",
   "execution_count": 135,
   "id": "9aec8d33-d438-408d-908c-309f3d20ecc0",
   "metadata": {
    "tags": []
   },
   "outputs": [],
   "source": [
    "median.to_parquet(f\"{data_folder}/sampling/median_form.parquet\")\n",
    "iqr.to_parquet(f\"{data_folder}/sampling/iqr_form.parquet\")"
   ]
  },
  {
   "cell_type": "markdown",
   "id": "add0e071-4bb3-468b-8f71-e9340179f1cb",
   "metadata": {},
   "source": [
    "## Non-morphological data\n",
    "\n",
    "Key:"
   ]
  },
  {
   "cell_type": "code",
   "execution_count": 149,
   "id": "dc52c3e7-6889-4c3b-86e9-c32132aed5c2",
   "metadata": {
    "tags": []
   },
   "outputs": [],
   "source": [
    "fn_key = {\n",
    "    'Workplace population [Agriculture, energy and water]': 'A, B, D, E. Agriculture, energy and water',\n",
    "    'Workplace population [Manufacturing]': 'C. Manufacturing',\n",
    "    'Workplace population [Construction]': 'F. Construction',\n",
    "    'Workplace population [Distribution, hotels and restaurants]': 'G, I. Distribution, hotels and restaurants',\n",
    "    'Workplace population [Transport and communication]': 'H, J. Transport and communication',\n",
    "    'Workplace population [Financial, real estate, professional and administrative activities]': 'K, L, M, N. Financial, real estate, professional and administrative activities',\n",
    "    'Workplace population [Public administration, education and health]': 'O,P,Q. Public administration, education and health',\n",
    "    'Workplace population [Other]': 'R, S, T, U. Other'\n",
    "}"
   ]
  },
  {
   "cell_type": "markdown",
   "id": "5ee0378a-0b37-4d33-92b1-a4ef30a21007",
   "metadata": {},
   "source": [
    "Read and merge labels (and areas)."
   ]
  },
  {
   "cell_type": "code",
   "execution_count": null,
   "id": "0da5f9ba-4194-4003-9b37-5d5844f70925",
   "metadata": {},
   "outputs": [],
   "source": [
    "function = dd.read_parquet(\n",
    "    \"signatures_gb/function\",\n",
    "    columns=[\n",
    "        \"hindex\",\n",
    "        \"Population\",\n",
    "        'Land cover [Non-irrigated arable land]',\n",
    "        'Land cover [Industrial or commercial units]',\n",
    "        'Land cover [Sport and leisure facilities]',\n",
    "        'Land cover [Green urban areas]',\n",
    "        'Land cover [Discontinuous urban fabric]',\n",
    "        'Land cover [Pastures]',\n",
    "        'Land cover [Continuous urban fabric]'\n",
    "    ] + list(fn_key)\n",
    ").compute().set_index(\"hindex\")\n",
    "\n",
    "function = function.merge(signature_type[[\"type\"]], how='left', left_index=True, right_index=True).merge(form[[\"sdcAre\"]], how='left', left_index=True, right_index=True)\n",
    "function = function.rename(columns=fn_key)"
   ]
  },
  {
   "cell_type": "markdown",
   "id": "481f191d-a8a3-4925-b420-d30e118e2001",
   "metadata": {},
   "source": [
    "Normalize subset by area."
   ]
  },
  {
   "cell_type": "code",
   "execution_count": 95,
   "id": "1f6b3811-ceb1-4a3e-bc5d-c49dd7f8b6aa",
   "metadata": {
    "tags": []
   },
   "outputs": [],
   "source": [
    "subset = [    \n",
    "    \"Population\",\n",
    "    \"A, B, D, E. Agriculture, energy and water\",\n",
    "    \"C. Manufacturing\",\n",
    "    \"F. Construction\",\n",
    "    \"G, I. Distribution, hotels and restaurants\",\n",
    "    \"H, J. Transport and communication\",\n",
    "    \"K, L, M, N. Financial, real estate, professional and administrative activities\",\n",
    "    \"O,P,Q. Public administration, education and health\",\n",
    "    \"R, S, T, U. Other\",\n",
    "]\n",
    "function[subset] = function[subset].divide(function.sdcAre, axis=0)"
   ]
  },
  {
   "cell_type": "markdown",
   "id": "9095680a-06ee-45be-a2cc-b5db99568831",
   "metadata": {},
   "source": [
    "Group by type, get quartiles and IQR."
   ]
  },
  {
   "cell_type": "code",
   "execution_count": 136,
   "id": "443b6b30-8eb7-421d-991f-e02b336cc173",
   "metadata": {
    "tags": []
   },
   "outputs": [],
   "source": [
    "grouper = function.groupby(\"type\")\n",
    "median = grouper.quantile(.5)\n",
    "q25 = grouper.quantile(.25)\n",
    "q75 = grouper.quantile(.75)\n",
    "iqr = q75 - q25\n",
    "median = median.rename(index=renamer)\n",
    "iqr = iqr.rename(index=renamer)"
   ]
  },
  {
   "cell_type": "markdown",
   "id": "c47369c3-3509-4e16-92ec-4b0b5079bbb4",
   "metadata": {},
   "source": [
    "Save."
   ]
  },
  {
   "cell_type": "code",
   "execution_count": 139,
   "id": "23757184-5abe-4f66-b4d5-9713e1484f1d",
   "metadata": {
    "tags": []
   },
   "outputs": [],
   "source": [
    "median.drop(columns=\"sdcAre\").to_parquet(f\"{data_folder}/sampling/median_function.parquet\")\n",
    "iqr.drop(columns=\"sdcAre\").to_parquet(f\"{data_folder}/sampling/iqr_function.parquet\")"
   ]
  }
 ],
 "metadata": {
  "kernelspec": {
   "display_name": "banana",
   "language": "python",
   "name": "banana"
  },
  "language_info": {
   "codemirror_mode": {
    "name": "ipython",
    "version": 3
   },
   "file_extension": ".py",
   "mimetype": "text/x-python",
   "name": "python",
   "nbconvert_exporter": "python",
   "pygments_lexer": "ipython3",
   "version": "3.11.0"
  }
 },
 "nbformat": 4,
 "nbformat_minor": 5
}
