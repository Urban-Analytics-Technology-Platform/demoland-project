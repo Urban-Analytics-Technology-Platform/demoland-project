{
 "cells": [
  {
   "attachments": {},
   "cell_type": "markdown",
   "metadata": {},
   "source": [
    "# Process house prices and store them on LSOA level\n",
    "\n",
    "This notebook processes a dataset containing a time-series of house price per LSOA and saves it as a GeoPackage for future use."
   ]
  },
  {
   "cell_type": "code",
   "execution_count": 12,
   "metadata": {},
   "outputs": [],
   "source": [
    "import geopandas as gpd\n",
    "import pandas as pd\n",
    "import numpy as np"
   ]
  },
  {
   "attachments": {},
   "cell_type": "markdown",
   "metadata": {},
   "source": [
    "Specify paths to existing files, some of which need to be downloaded manually (see Notes).\n",
    "\n",
    "- https://www.ons.gov.uk/peoplepopulationandcommunity/housing/datasets/medianpricepaidbylowerlayersuperoutputareahpssadataset46\n",
    "- https://geoportal.statistics.gov.uk/datasets/2fb4e13605cb4745992390165307697e_0/explore?location=52.755877%2C-2.489798%2C7.62"
   ]
  },
  {
   "cell_type": "code",
   "execution_count": 34,
   "metadata": {},
   "outputs": [],
   "source": [
    "data_folder = \"./../data/\"  # base folder for data\n",
    "lsoa_list_file = \"../data/tynewear_lsoas_list.csv\"  # list of LSOAs within AoI\n",
    "\n",
    "# national level files\n",
    "house_prices_lsoa_xls_file = \"./../data/hpssadataset46medianpricepaidforresidentialpropertiesbylsoa.xlsx\" # excel spreadsheet downloaded from gov website (see Notes) with median house prices, quarterly data from Dec 1995\n",
    "LSOA_boundaries_file = \"../data/LSOA_(Dec_2011)_Boundaries_Super_Generalised_Clipped_(BSC)_EW_V3.geojson\" # administrative boundaries from gov.uk OS\n"
   ]
  },
  {
   "attachments": {},
   "cell_type": "markdown",
   "metadata": {},
   "source": [
    "Read house prices for whole country. The actual table starts with row 5 in sheet \"Data\". ONS uses `:` to indicate missing value so we shall filter it on import."
   ]
  },
  {
   "cell_type": "code",
   "execution_count": 43,
   "metadata": {},
   "outputs": [],
   "source": [
    "house_prices = pd.read_excel(house_prices_lsoa_xls_file, \"Data\", header=5, na_values=\":\")"
   ]
  },
  {
   "attachments": {},
   "cell_type": "markdown",
   "metadata": {},
   "source": [
    "Read LSOA boundaries to link to data."
   ]
  },
  {
   "cell_type": "code",
   "execution_count": 45,
   "metadata": {},
   "outputs": [],
   "source": [
    "lsoa = gpd.read_file(LSOA_boundaries_file)"
   ]
  },
  {
   "attachments": {},
   "cell_type": "markdown",
   "metadata": {},
   "source": [
    "Check structure before merge."
   ]
  },
  {
   "cell_type": "code",
   "execution_count": 46,
   "metadata": {},
   "outputs": [
    {
     "data": {
      "text/html": [
       "<div>\n",
       "<style scoped>\n",
       "    .dataframe tbody tr th:only-of-type {\n",
       "        vertical-align: middle;\n",
       "    }\n",
       "\n",
       "    .dataframe tbody tr th {\n",
       "        vertical-align: top;\n",
       "    }\n",
       "\n",
       "    .dataframe thead th {\n",
       "        text-align: right;\n",
       "    }\n",
       "</style>\n",
       "<table border=\"1\" class=\"dataframe\">\n",
       "  <thead>\n",
       "    <tr style=\"text-align: right;\">\n",
       "      <th></th>\n",
       "      <th>OBJECTID</th>\n",
       "      <th>LSOA11CD</th>\n",
       "      <th>LSOA11NM</th>\n",
       "      <th>LSOA11NMW</th>\n",
       "      <th>BNG_E</th>\n",
       "      <th>BNG_N</th>\n",
       "      <th>LONG</th>\n",
       "      <th>LAT</th>\n",
       "      <th>Shape__Area</th>\n",
       "      <th>Shape__Length</th>\n",
       "      <th>GlobalID</th>\n",
       "      <th>geometry</th>\n",
       "    </tr>\n",
       "  </thead>\n",
       "  <tbody>\n",
       "    <tr>\n",
       "      <th>0</th>\n",
       "      <td>1</td>\n",
       "      <td>E01000001</td>\n",
       "      <td>City of London 001A</td>\n",
       "      <td>City of London 001A</td>\n",
       "      <td>532129</td>\n",
       "      <td>181625</td>\n",
       "      <td>-0.097060</td>\n",
       "      <td>51.51810</td>\n",
       "      <td>157794.481079</td>\n",
       "      <td>1685.391778</td>\n",
       "      <td>b12173a3-5423-4672-a5eb-f152d2345f96</td>\n",
       "      <td>POLYGON ((-0.09474 51.52060, -0.09546 51.51544...</td>\n",
       "    </tr>\n",
       "    <tr>\n",
       "      <th>1</th>\n",
       "      <td>2</td>\n",
       "      <td>E01000002</td>\n",
       "      <td>City of London 001B</td>\n",
       "      <td>City of London 001B</td>\n",
       "      <td>532480</td>\n",
       "      <td>181699</td>\n",
       "      <td>-0.091970</td>\n",
       "      <td>51.51868</td>\n",
       "      <td>164882.427628</td>\n",
       "      <td>1804.828196</td>\n",
       "      <td>90274dc4-f785-4afb-95cd-7cc1fc9a2cad</td>\n",
       "      <td>POLYGON ((-0.08810 51.51941, -0.09546 51.51544...</td>\n",
       "    </tr>\n",
       "    <tr>\n",
       "      <th>2</th>\n",
       "      <td>3</td>\n",
       "      <td>E01000003</td>\n",
       "      <td>City of London 001C</td>\n",
       "      <td>City of London 001C</td>\n",
       "      <td>532245</td>\n",
       "      <td>182036</td>\n",
       "      <td>-0.095230</td>\n",
       "      <td>51.52176</td>\n",
       "      <td>42219.805717</td>\n",
       "      <td>909.223277</td>\n",
       "      <td>7e89d0ba-f186-45fb-961c-8f5ffcd03808</td>\n",
       "      <td>POLYGON ((-0.09453 51.52205, -0.09274 51.52139...</td>\n",
       "    </tr>\n",
       "    <tr>\n",
       "      <th>3</th>\n",
       "      <td>4</td>\n",
       "      <td>E01000005</td>\n",
       "      <td>City of London 001E</td>\n",
       "      <td>City of London 001E</td>\n",
       "      <td>533581</td>\n",
       "      <td>181265</td>\n",
       "      <td>-0.076280</td>\n",
       "      <td>51.51452</td>\n",
       "      <td>212682.404259</td>\n",
       "      <td>2028.654904</td>\n",
       "      <td>a14c307a-874c-4862-828a-3b1486cc21ea</td>\n",
       "      <td>POLYGON ((-0.07589 51.51590, -0.07394 51.51445...</td>\n",
       "    </tr>\n",
       "    <tr>\n",
       "      <th>4</th>\n",
       "      <td>5</td>\n",
       "      <td>E01000006</td>\n",
       "      <td>Barking and Dagenham 016A</td>\n",
       "      <td>Barking and Dagenham 016A</td>\n",
       "      <td>544994</td>\n",
       "      <td>184276</td>\n",
       "      <td>0.089318</td>\n",
       "      <td>51.53876</td>\n",
       "      <td>130551.387161</td>\n",
       "      <td>1716.896118</td>\n",
       "      <td>65121a2d-3d2b-4935-9712-690f2993cfd2</td>\n",
       "      <td>POLYGON ((0.09328 51.53787, 0.09363 51.53767, ...</td>\n",
       "    </tr>\n",
       "  </tbody>\n",
       "</table>\n",
       "</div>"
      ],
      "text/plain": [
       "   OBJECTID   LSOA11CD                   LSOA11NM                  LSOA11NMW  \\\n",
       "0         1  E01000001        City of London 001A        City of London 001A   \n",
       "1         2  E01000002        City of London 001B        City of London 001B   \n",
       "2         3  E01000003        City of London 001C        City of London 001C   \n",
       "3         4  E01000005        City of London 001E        City of London 001E   \n",
       "4         5  E01000006  Barking and Dagenham 016A  Barking and Dagenham 016A   \n",
       "\n",
       "    BNG_E   BNG_N      LONG       LAT    Shape__Area  Shape__Length  \\\n",
       "0  532129  181625 -0.097060  51.51810  157794.481079    1685.391778   \n",
       "1  532480  181699 -0.091970  51.51868  164882.427628    1804.828196   \n",
       "2  532245  182036 -0.095230  51.52176   42219.805717     909.223277   \n",
       "3  533581  181265 -0.076280  51.51452  212682.404259    2028.654904   \n",
       "4  544994  184276  0.089318  51.53876  130551.387161    1716.896118   \n",
       "\n",
       "                               GlobalID  \\\n",
       "0  b12173a3-5423-4672-a5eb-f152d2345f96   \n",
       "1  90274dc4-f785-4afb-95cd-7cc1fc9a2cad   \n",
       "2  7e89d0ba-f186-45fb-961c-8f5ffcd03808   \n",
       "3  a14c307a-874c-4862-828a-3b1486cc21ea   \n",
       "4  65121a2d-3d2b-4935-9712-690f2993cfd2   \n",
       "\n",
       "                                            geometry  \n",
       "0  POLYGON ((-0.09474 51.52060, -0.09546 51.51544...  \n",
       "1  POLYGON ((-0.08810 51.51941, -0.09546 51.51544...  \n",
       "2  POLYGON ((-0.09453 51.52205, -0.09274 51.52139...  \n",
       "3  POLYGON ((-0.07589 51.51590, -0.07394 51.51445...  \n",
       "4  POLYGON ((0.09328 51.53787, 0.09363 51.53767, ...  "
      ]
     },
     "execution_count": 46,
     "metadata": {},
     "output_type": "execute_result"
    }
   ],
   "source": [
    "lsoa.head()"
   ]
  },
  {
   "cell_type": "code",
   "execution_count": 47,
   "metadata": {},
   "outputs": [
    {
     "data": {
      "text/html": [
       "<div>\n",
       "<style scoped>\n",
       "    .dataframe tbody tr th:only-of-type {\n",
       "        vertical-align: middle;\n",
       "    }\n",
       "\n",
       "    .dataframe tbody tr th {\n",
       "        vertical-align: top;\n",
       "    }\n",
       "\n",
       "    .dataframe thead th {\n",
       "        text-align: right;\n",
       "    }\n",
       "</style>\n",
       "<table border=\"1\" class=\"dataframe\">\n",
       "  <thead>\n",
       "    <tr style=\"text-align: right;\">\n",
       "      <th></th>\n",
       "      <th>Local authority code</th>\n",
       "      <th>Local authority name</th>\n",
       "      <th>LSOA code</th>\n",
       "      <th>LSOA name</th>\n",
       "      <th>Year ending Dec 1995</th>\n",
       "      <th>Year ending Mar 1996</th>\n",
       "      <th>Year ending Jun 1996</th>\n",
       "      <th>Year ending Sep 1996</th>\n",
       "      <th>Year ending Dec 1996</th>\n",
       "      <th>Year ending Mar 1997</th>\n",
       "      <th>...</th>\n",
       "      <th>Year ending Mar 2020</th>\n",
       "      <th>Year ending Jun 2020</th>\n",
       "      <th>Year ending Sep 2020</th>\n",
       "      <th>Year ending Dec 2020</th>\n",
       "      <th>Year ending Mar 2021</th>\n",
       "      <th>Year ending Jun 2021</th>\n",
       "      <th>Year ending Sep 2021</th>\n",
       "      <th>Year ending Dec 2021</th>\n",
       "      <th>Year ending Mar 2022</th>\n",
       "      <th>Year ending Jun 2022</th>\n",
       "    </tr>\n",
       "  </thead>\n",
       "  <tbody>\n",
       "    <tr>\n",
       "      <th>0</th>\n",
       "      <td>E06000001</td>\n",
       "      <td>Hartlepool</td>\n",
       "      <td>E01011949</td>\n",
       "      <td>Hartlepool 009A</td>\n",
       "      <td>34750.0</td>\n",
       "      <td>34500.0</td>\n",
       "      <td>30500.0</td>\n",
       "      <td>30000.0</td>\n",
       "      <td>29950.0</td>\n",
       "      <td>29000.0</td>\n",
       "      <td>...</td>\n",
       "      <td>89000.0</td>\n",
       "      <td>84000.0</td>\n",
       "      <td>88000.0</td>\n",
       "      <td>88000.0</td>\n",
       "      <td>81500.0</td>\n",
       "      <td>80500.0</td>\n",
       "      <td>85500.0</td>\n",
       "      <td>100750.0</td>\n",
       "      <td>100000.0</td>\n",
       "      <td>121000.0</td>\n",
       "    </tr>\n",
       "    <tr>\n",
       "      <th>1</th>\n",
       "      <td>E06000001</td>\n",
       "      <td>Hartlepool</td>\n",
       "      <td>E01011950</td>\n",
       "      <td>Hartlepool 008A</td>\n",
       "      <td>25000.0</td>\n",
       "      <td>25000.0</td>\n",
       "      <td>25300.0</td>\n",
       "      <td>25625.0</td>\n",
       "      <td>25000.0</td>\n",
       "      <td>24800.0</td>\n",
       "      <td>...</td>\n",
       "      <td>27000.0</td>\n",
       "      <td>26000.0</td>\n",
       "      <td>28500.0</td>\n",
       "      <td>30000.0</td>\n",
       "      <td>33000.0</td>\n",
       "      <td>47000.0</td>\n",
       "      <td>50079.0</td>\n",
       "      <td>50159.0</td>\n",
       "      <td>50159.0</td>\n",
       "      <td>49000.0</td>\n",
       "    </tr>\n",
       "    <tr>\n",
       "      <th>2</th>\n",
       "      <td>E06000001</td>\n",
       "      <td>Hartlepool</td>\n",
       "      <td>E01011951</td>\n",
       "      <td>Hartlepool 007A</td>\n",
       "      <td>27000.0</td>\n",
       "      <td>27000.0</td>\n",
       "      <td>27250.0</td>\n",
       "      <td>28950.0</td>\n",
       "      <td>28500.0</td>\n",
       "      <td>28950.0</td>\n",
       "      <td>...</td>\n",
       "      <td>40000.0</td>\n",
       "      <td>29425.0</td>\n",
       "      <td>30000.0</td>\n",
       "      <td>50000.0</td>\n",
       "      <td>51500.0</td>\n",
       "      <td>53000.0</td>\n",
       "      <td>58573.5</td>\n",
       "      <td>60000.0</td>\n",
       "      <td>61499.5</td>\n",
       "      <td>60000.0</td>\n",
       "    </tr>\n",
       "    <tr>\n",
       "      <th>3</th>\n",
       "      <td>E06000001</td>\n",
       "      <td>Hartlepool</td>\n",
       "      <td>E01011952</td>\n",
       "      <td>Hartlepool 002A</td>\n",
       "      <td>44500.0</td>\n",
       "      <td>44500.0</td>\n",
       "      <td>30000.0</td>\n",
       "      <td>26675.0</td>\n",
       "      <td>26000.0</td>\n",
       "      <td>25500.0</td>\n",
       "      <td>...</td>\n",
       "      <td>70000.0</td>\n",
       "      <td>66475.0</td>\n",
       "      <td>85000.0</td>\n",
       "      <td>85000.0</td>\n",
       "      <td>NaN</td>\n",
       "      <td>83500.0</td>\n",
       "      <td>83000.0</td>\n",
       "      <td>80000.0</td>\n",
       "      <td>75500.0</td>\n",
       "      <td>75000.0</td>\n",
       "    </tr>\n",
       "    <tr>\n",
       "      <th>4</th>\n",
       "      <td>E06000001</td>\n",
       "      <td>Hartlepool</td>\n",
       "      <td>E01011953</td>\n",
       "      <td>Hartlepool 002B</td>\n",
       "      <td>22000.0</td>\n",
       "      <td>27000.0</td>\n",
       "      <td>27000.0</td>\n",
       "      <td>20600.0</td>\n",
       "      <td>20000.0</td>\n",
       "      <td>19500.0</td>\n",
       "      <td>...</td>\n",
       "      <td>58000.0</td>\n",
       "      <td>60000.0</td>\n",
       "      <td>NaN</td>\n",
       "      <td>NaN</td>\n",
       "      <td>NaN</td>\n",
       "      <td>NaN</td>\n",
       "      <td>NaN</td>\n",
       "      <td>90000.0</td>\n",
       "      <td>NaN</td>\n",
       "      <td>95000.0</td>\n",
       "    </tr>\n",
       "  </tbody>\n",
       "</table>\n",
       "<p>5 rows × 111 columns</p>\n",
       "</div>"
      ],
      "text/plain": [
       "  Local authority code Local authority name  LSOA code        LSOA name  \\\n",
       "0            E06000001           Hartlepool  E01011949  Hartlepool 009A   \n",
       "1            E06000001           Hartlepool  E01011950  Hartlepool 008A   \n",
       "2            E06000001           Hartlepool  E01011951  Hartlepool 007A   \n",
       "3            E06000001           Hartlepool  E01011952  Hartlepool 002A   \n",
       "4            E06000001           Hartlepool  E01011953  Hartlepool 002B   \n",
       "\n",
       "   Year ending Dec 1995  Year ending Mar 1996  Year ending Jun 1996  \\\n",
       "0               34750.0               34500.0               30500.0   \n",
       "1               25000.0               25000.0               25300.0   \n",
       "2               27000.0               27000.0               27250.0   \n",
       "3               44500.0               44500.0               30000.0   \n",
       "4               22000.0               27000.0               27000.0   \n",
       "\n",
       "   Year ending Sep 1996  Year ending Dec 1996  Year ending Mar 1997  ...  \\\n",
       "0               30000.0               29950.0               29000.0  ...   \n",
       "1               25625.0               25000.0               24800.0  ...   \n",
       "2               28950.0               28500.0               28950.0  ...   \n",
       "3               26675.0               26000.0               25500.0  ...   \n",
       "4               20600.0               20000.0               19500.0  ...   \n",
       "\n",
       "   Year ending Mar 2020  Year ending Jun 2020  Year ending Sep 2020  \\\n",
       "0               89000.0               84000.0               88000.0   \n",
       "1               27000.0               26000.0               28500.0   \n",
       "2               40000.0               29425.0               30000.0   \n",
       "3               70000.0               66475.0               85000.0   \n",
       "4               58000.0               60000.0                   NaN   \n",
       "\n",
       "   Year ending Dec 2020  Year ending Mar 2021  Year ending Jun 2021  \\\n",
       "0               88000.0               81500.0               80500.0   \n",
       "1               30000.0               33000.0               47000.0   \n",
       "2               50000.0               51500.0               53000.0   \n",
       "3               85000.0                   NaN               83500.0   \n",
       "4                   NaN                   NaN                   NaN   \n",
       "\n",
       "   Year ending Sep 2021  Year ending Dec 2021  Year ending Mar 2022  \\\n",
       "0               85500.0              100750.0              100000.0   \n",
       "1               50079.0               50159.0               50159.0   \n",
       "2               58573.5               60000.0               61499.5   \n",
       "3               83000.0               80000.0               75500.0   \n",
       "4                   NaN               90000.0                   NaN   \n",
       "\n",
       "   Year ending Jun 2022  \n",
       "0              121000.0  \n",
       "1               49000.0  \n",
       "2               60000.0  \n",
       "3               75000.0  \n",
       "4               95000.0  \n",
       "\n",
       "[5 rows x 111 columns]"
      ]
     },
     "execution_count": 47,
     "metadata": {},
     "output_type": "execute_result"
    }
   ],
   "source": [
    "house_prices.head()"
   ]
  },
  {
   "attachments": {},
   "cell_type": "markdown",
   "metadata": {},
   "source": [
    "Merge the data on LSOA codes."
   ]
  },
  {
   "cell_type": "code",
   "execution_count": 48,
   "metadata": {},
   "outputs": [],
   "source": [
    "lsoa = lsoa.merge(house_prices, right_on=\"LSOA code\", left_on=\"LSOA11CD\", how=\"left\")"
   ]
  },
  {
   "attachments": {},
   "cell_type": "markdown",
   "metadata": {},
   "source": [
    "Read the list of LSOA belonging to the area of interest."
   ]
  },
  {
   "cell_type": "code",
   "execution_count": 49,
   "metadata": {},
   "outputs": [],
   "source": [
    "tyne_lsoa = pd.read_csv(lsoa_list_file, index_col=0)"
   ]
  },
  {
   "attachments": {},
   "cell_type": "markdown",
   "metadata": {},
   "source": [
    "Filter the whole country."
   ]
  },
  {
   "cell_type": "code",
   "execution_count": 51,
   "metadata": {},
   "outputs": [],
   "source": [
    "tyne_prices = lsoa[lsoa.LSOA11CD.isin(tyne_lsoa[\"LSOA code\"])]"
   ]
  },
  {
   "cell_type": "code",
   "execution_count": 54,
   "metadata": {},
   "outputs": [
    {
     "data": {
      "text/html": [
       "<div>\n",
       "<style scoped>\n",
       "    .dataframe tbody tr th:only-of-type {\n",
       "        vertical-align: middle;\n",
       "    }\n",
       "\n",
       "    .dataframe tbody tr th {\n",
       "        vertical-align: top;\n",
       "    }\n",
       "\n",
       "    .dataframe thead th {\n",
       "        text-align: right;\n",
       "    }\n",
       "</style>\n",
       "<table border=\"1\" class=\"dataframe\">\n",
       "  <thead>\n",
       "    <tr style=\"text-align: right;\">\n",
       "      <th></th>\n",
       "      <th>OBJECTID</th>\n",
       "      <th>LSOA11CD</th>\n",
       "      <th>LSOA11NM</th>\n",
       "      <th>LSOA11NMW</th>\n",
       "      <th>BNG_E</th>\n",
       "      <th>BNG_N</th>\n",
       "      <th>LONG</th>\n",
       "      <th>LAT</th>\n",
       "      <th>Shape__Area</th>\n",
       "      <th>Shape__Length</th>\n",
       "      <th>...</th>\n",
       "      <th>Year ending Mar 2020</th>\n",
       "      <th>Year ending Jun 2020</th>\n",
       "      <th>Year ending Sep 2020</th>\n",
       "      <th>Year ending Dec 2020</th>\n",
       "      <th>Year ending Mar 2021</th>\n",
       "      <th>Year ending Jun 2021</th>\n",
       "      <th>Year ending Sep 2021</th>\n",
       "      <th>Year ending Dec 2021</th>\n",
       "      <th>Year ending Mar 2022</th>\n",
       "      <th>Year ending Jun 2022</th>\n",
       "    </tr>\n",
       "  </thead>\n",
       "  <tbody>\n",
       "    <tr>\n",
       "      <th>7948</th>\n",
       "      <td>7949</td>\n",
       "      <td>E01008162</td>\n",
       "      <td>Gateshead 027A</td>\n",
       "      <td>Gateshead 027A</td>\n",
       "      <td>426408</td>\n",
       "      <td>562669</td>\n",
       "      <td>-1.58915</td>\n",
       "      <td>54.95797</td>\n",
       "      <td>4.337674e+05</td>\n",
       "      <td>2795.514484</td>\n",
       "      <td>...</td>\n",
       "      <td>124000.0</td>\n",
       "      <td>107500.0</td>\n",
       "      <td>97000.0</td>\n",
       "      <td>97000.0</td>\n",
       "      <td>100000.0</td>\n",
       "      <td>137260.0</td>\n",
       "      <td>137510.0</td>\n",
       "      <td>107000.0</td>\n",
       "      <td>108250.0</td>\n",
       "      <td>99500.0</td>\n",
       "    </tr>\n",
       "    <tr>\n",
       "      <th>7949</th>\n",
       "      <td>7950</td>\n",
       "      <td>E01008163</td>\n",
       "      <td>Gateshead 028A</td>\n",
       "      <td>Gateshead 028A</td>\n",
       "      <td>425687</td>\n",
       "      <td>562359</td>\n",
       "      <td>-1.60044</td>\n",
       "      <td>54.95522</td>\n",
       "      <td>3.886396e+05</td>\n",
       "      <td>2960.341729</td>\n",
       "      <td>...</td>\n",
       "      <td>113500.0</td>\n",
       "      <td>105000.0</td>\n",
       "      <td>124000.0</td>\n",
       "      <td>138000.0</td>\n",
       "      <td>138975.0</td>\n",
       "      <td>138000.0</td>\n",
       "      <td>121500.0</td>\n",
       "      <td>107000.0</td>\n",
       "      <td>107000.0</td>\n",
       "      <td>115000.0</td>\n",
       "    </tr>\n",
       "    <tr>\n",
       "      <th>7950</th>\n",
       "      <td>7951</td>\n",
       "      <td>E01008164</td>\n",
       "      <td>Gateshead 027B</td>\n",
       "      <td>Gateshead 027B</td>\n",
       "      <td>426855</td>\n",
       "      <td>562213</td>\n",
       "      <td>-1.58222</td>\n",
       "      <td>54.95385</td>\n",
       "      <td>1.853580e+05</td>\n",
       "      <td>2097.848575</td>\n",
       "      <td>...</td>\n",
       "      <td>76250.0</td>\n",
       "      <td>87500.0</td>\n",
       "      <td>66475.0</td>\n",
       "      <td>62000.0</td>\n",
       "      <td>60000.0</td>\n",
       "      <td>56250.0</td>\n",
       "      <td>65000.0</td>\n",
       "      <td>84925.0</td>\n",
       "      <td>125000.0</td>\n",
       "      <td>140000.0</td>\n",
       "    </tr>\n",
       "    <tr>\n",
       "      <th>7951</th>\n",
       "      <td>7952</td>\n",
       "      <td>E01008165</td>\n",
       "      <td>Gateshead 011A</td>\n",
       "      <td>Gateshead 011A</td>\n",
       "      <td>426340</td>\n",
       "      <td>562156</td>\n",
       "      <td>-1.59026</td>\n",
       "      <td>54.95336</td>\n",
       "      <td>2.549571e+05</td>\n",
       "      <td>2523.273552</td>\n",
       "      <td>...</td>\n",
       "      <td>79250.0</td>\n",
       "      <td>81250.0</td>\n",
       "      <td>83250.0</td>\n",
       "      <td>105000.0</td>\n",
       "      <td>120000.0</td>\n",
       "      <td>123500.0</td>\n",
       "      <td>147250.0</td>\n",
       "      <td>119500.0</td>\n",
       "      <td>112630.0</td>\n",
       "      <td>125260.0</td>\n",
       "    </tr>\n",
       "    <tr>\n",
       "      <th>7952</th>\n",
       "      <td>7953</td>\n",
       "      <td>E01008166</td>\n",
       "      <td>Gateshead 027C</td>\n",
       "      <td>Gateshead 027C</td>\n",
       "      <td>426244</td>\n",
       "      <td>563319</td>\n",
       "      <td>-1.59166</td>\n",
       "      <td>54.96382</td>\n",
       "      <td>1.412473e+06</td>\n",
       "      <td>4863.402280</td>\n",
       "      <td>...</td>\n",
       "      <td>145750.0</td>\n",
       "      <td>149000.0</td>\n",
       "      <td>145975.0</td>\n",
       "      <td>136000.0</td>\n",
       "      <td>139025.0</td>\n",
       "      <td>138050.0</td>\n",
       "      <td>139025.0</td>\n",
       "      <td>150500.0</td>\n",
       "      <td>173500.0</td>\n",
       "      <td>177000.0</td>\n",
       "    </tr>\n",
       "  </tbody>\n",
       "</table>\n",
       "<p>5 rows × 123 columns</p>\n",
       "</div>"
      ],
      "text/plain": [
       "      OBJECTID   LSOA11CD        LSOA11NM       LSOA11NMW   BNG_E   BNG_N  \\\n",
       "7948      7949  E01008162  Gateshead 027A  Gateshead 027A  426408  562669   \n",
       "7949      7950  E01008163  Gateshead 028A  Gateshead 028A  425687  562359   \n",
       "7950      7951  E01008164  Gateshead 027B  Gateshead 027B  426855  562213   \n",
       "7951      7952  E01008165  Gateshead 011A  Gateshead 011A  426340  562156   \n",
       "7952      7953  E01008166  Gateshead 027C  Gateshead 027C  426244  563319   \n",
       "\n",
       "         LONG       LAT   Shape__Area  Shape__Length  ...  \\\n",
       "7948 -1.58915  54.95797  4.337674e+05    2795.514484  ...   \n",
       "7949 -1.60044  54.95522  3.886396e+05    2960.341729  ...   \n",
       "7950 -1.58222  54.95385  1.853580e+05    2097.848575  ...   \n",
       "7951 -1.59026  54.95336  2.549571e+05    2523.273552  ...   \n",
       "7952 -1.59166  54.96382  1.412473e+06    4863.402280  ...   \n",
       "\n",
       "     Year ending Mar 2020 Year ending Jun 2020 Year ending Sep 2020  \\\n",
       "7948             124000.0             107500.0              97000.0   \n",
       "7949             113500.0             105000.0             124000.0   \n",
       "7950              76250.0              87500.0              66475.0   \n",
       "7951              79250.0              81250.0              83250.0   \n",
       "7952             145750.0             149000.0             145975.0   \n",
       "\n",
       "     Year ending Dec 2020 Year ending Mar 2021 Year ending Jun 2021  \\\n",
       "7948              97000.0             100000.0             137260.0   \n",
       "7949             138000.0             138975.0             138000.0   \n",
       "7950              62000.0              60000.0              56250.0   \n",
       "7951             105000.0             120000.0             123500.0   \n",
       "7952             136000.0             139025.0             138050.0   \n",
       "\n",
       "      Year ending Sep 2021  Year ending Dec 2021  Year ending Mar 2022  \\\n",
       "7948              137510.0              107000.0              108250.0   \n",
       "7949              121500.0              107000.0              107000.0   \n",
       "7950               65000.0               84925.0              125000.0   \n",
       "7951              147250.0              119500.0              112630.0   \n",
       "7952              139025.0              150500.0              173500.0   \n",
       "\n",
       "      Year ending Jun 2022  \n",
       "7948               99500.0  \n",
       "7949              115000.0  \n",
       "7950              140000.0  \n",
       "7951              125260.0  \n",
       "7952              177000.0  \n",
       "\n",
       "[5 rows x 123 columns]"
      ]
     },
     "execution_count": 54,
     "metadata": {},
     "output_type": "execute_result"
    }
   ],
   "source": [
    "tyne_prices.head()"
   ]
  },
  {
   "attachments": {},
   "cell_type": "markdown",
   "metadata": {},
   "source": [
    "Simplify columns names"
   ]
  },
  {
   "cell_type": "code",
   "execution_count": 55,
   "metadata": {},
   "outputs": [],
   "source": [
    "tyne_prices.columns = [c.replace(\"Year ending \", \"\") for c in tyne_prices.columns]"
   ]
  },
  {
   "cell_type": "code",
   "execution_count": 57,
   "metadata": {},
   "outputs": [
    {
     "data": {
      "text/plain": [
       "Index(['OBJECTID', 'LSOA11CD', 'LSOA11NM', 'LSOA11NMW', 'BNG_E', 'BNG_N',\n",
       "       'LONG', 'LAT', 'Shape__Area', 'Shape__Length',\n",
       "       ...\n",
       "       'Mar 2020', 'Jun 2020', 'Sep 2020', 'Dec 2020', 'Mar 2021', 'Jun 2021',\n",
       "       'Sep 2021', 'Dec 2021', 'Mar 2022', 'Jun 2022'],\n",
       "      dtype='object', length=123)"
      ]
     },
     "execution_count": 57,
     "metadata": {},
     "output_type": "execute_result"
    }
   ],
   "source": [
    "tyne_prices.columns"
   ]
  },
  {
   "cell_type": "markdown",
   "metadata": {},
   "source": [
    "Save to GeoPackage"
   ]
  },
  {
   "cell_type": "code",
   "execution_count": 59,
   "metadata": {},
   "outputs": [],
   "source": [
    "tyne_prices.reset_index(drop=True).to_file(f\"{data_folder}house_prices_lsoa_jun22.gpkg\")"
   ]
  },
  {
   "attachments": {},
   "cell_type": "markdown",
   "metadata": {},
   "source": [
    "Quickly check the distribution. Housing prices are often better to model as log."
   ]
  },
  {
   "cell_type": "code",
   "execution_count": 65,
   "metadata": {},
   "outputs": [
    {
     "data": {
      "text/plain": [
       "<AxesSubplot: ylabel='Frequency'>"
      ]
     },
     "execution_count": 65,
     "metadata": {},
     "output_type": "execute_result"
    },
    {
     "data": {
      "image/png": "[encoded data removed]",
      "text/plain": [
       "<Figure size 640x480 with 1 Axes>"
      ]
     },
     "metadata": {},
     "output_type": "display_data"
    }
   ],
   "source": [
    "tyne_prices['Jun 2022'].plot.hist(bins=25)"
   ]
  },
  {
   "attachments": {},
   "cell_type": "markdown",
   "metadata": {},
   "source": [
    "There is a long tail but not that critical. Let's check logged."
   ]
  },
  {
   "cell_type": "code",
   "execution_count": 66,
   "metadata": {},
   "outputs": [
    {
     "data": {
      "text/plain": [
       "<AxesSubplot: ylabel='Frequency'>"
      ]
     },
     "execution_count": 66,
     "metadata": {},
     "output_type": "execute_result"
    },
    {
     "data": {
      "image/png": "[encoded data removed]",
      "text/plain": [
       "<Figure size 640x480 with 1 Axes>"
      ]
     },
     "metadata": {},
     "output_type": "display_data"
    }
   ],
   "source": [
    "np.log(tyne_prices['Jun 2022']).plot.hist(bins=25)"
   ]
  },
  {
   "attachments": {},
   "cell_type": "markdown",
   "metadata": {},
   "source": [
    "Now we have some outliers on lower end. Will need to decide how to pass the data to the modelling process, some additional preprocessing may be needed."
   ]
  },
  {
   "cell_type": "code",
   "execution_count": 68,
   "metadata": {},
   "outputs": [
    {
     "data": {
      "text/plain": [
       "count       694.000000\n",
       "mean     160843.278818\n",
       "std       72681.078875\n",
       "min       26000.000000\n",
       "25%      114612.500000\n",
       "50%      139972.500000\n",
       "75%      186937.500000\n",
       "max      705500.000000\n",
       "Name: Jun 2022, dtype: float64"
      ]
     },
     "execution_count": 68,
     "metadata": {},
     "output_type": "execute_result"
    }
   ],
   "source": [
    "tyne_prices['Jun 2022'].describe()"
   ]
  },
  {
   "attachments": {},
   "cell_type": "markdown",
   "metadata": {},
   "source": [
    "The problem with this dataset is that it is not normalised, so we have values per whole house without acknowledging its size or any other variable.\n",
    "\n",
    "We can potentially get other measures - mean, lower quartile and tenth percentile price, plus counts of sales per type but at this level of aggregation, it probably won't help a lot. The optimal would be a measure per sq.m. or access to other variables allowing us to model it but that does not seem to be available. \n",
    "\n",
    "I would go ahead with the median per LSOA as processed here."
   ]
  }
 ],
 "metadata": {
  "kernelspec": {
   "display_name": "demoland",
   "language": "python",
   "name": "python3"
  },
  "language_info": {
   "codemirror_mode": {
    "name": "ipython",
    "version": 3
   },
   "file_extension": ".py",
   "mimetype": "text/x-python",
   "name": "python",
   "nbconvert_exporter": "python",
   "pygments_lexer": "ipython3",
   "version": "3.11.0"
  },
  "orig_nbformat": 4,
  "vscode": {
   "interpreter": {
    "hash": "2fbd39732990f3142cd5c1221afbbe619beb832579166dd14ca4102c965a8fe8"
   }
  }
 },
 "nbformat": 4,
 "nbformat_minor": 2
}
